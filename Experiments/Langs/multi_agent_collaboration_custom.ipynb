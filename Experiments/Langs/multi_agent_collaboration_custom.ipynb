{
 "cells": [
  {
   "cell_type": "code",
   "outputs": [],
   "source": [
    "import os\n",
    "from typing import Annotated, Sequence, TypedDict, Literal\n",
    "import operator\n",
    "import functools\n",
    "from datetime import datetime\n",
    "\n",
    "from langchain_core.messages import (\n",
    "    BaseMessage,\n",
    "    HumanMessage,\n",
    "    ToolMessage,\n",
    ")\n",
    "from langchain_core.prompts import ChatPromptTemplate, MessagesPlaceholder\n",
    "from langchain_community.tools.tavily_search import TavilySearchResults\n",
    "from langchain_core.tools import tool\n",
    "from langchain_experimental.utilities import PythonREPL\n",
    "from langchain_openai import ChatOpenAI\n",
    "from langchain_core.messages import AIMessage\n",
    "\n",
    "from langgraph.graph import END, StateGraph\n",
    "from langgraph.prebuilt import ToolNode"
   ],
   "metadata": {
    "collapsed": false,
    "ExecuteTime": {
     "end_time": "2024-06-21T06:14:44.257142Z",
     "start_time": "2024-06-21T06:14:43.837394Z"
    }
   },
   "id": "60a9bff217b5067e",
   "execution_count": 1
  },
  {
   "cell_type": "markdown",
   "source": [
    "# Define Tools"
   ],
   "metadata": {
    "collapsed": false
   },
   "id": "a8ccc98a84875232"
  },
  {
   "cell_type": "code",
   "outputs": [],
   "source": [
    "os.environ[\"TAVILY_API_KEY\"] = \"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\"\n",
    "tavily_tool = TavilySearchResults(max_results=5)\n",
    "\n",
    "repl = PythonREPL()\n",
    "\n",
    "@tool\n",
    "def python_repl(\n",
    "    code: Annotated[str, \"The python code to execute to generate your chart.\"],\n",
    "):\n",
    "    \"\"\"Use this to execute python code. If you want to see the output of a value,\n",
    "    you should print it out with `print(...)`. This is visible to the user.\"\"\"\n",
    "    try:\n",
    "        result = repl.run(code)\n",
    "    except BaseException as e:\n",
    "        return f\"Failed to execute. Error: {repr(e)}\"\n",
    "    result_str = f\"Successfully executed:\\n```python\\n{code}\\n```\\nStdout: {result}\"\n",
    "    return (\n",
    "        result_str + \"\\n\\nIf you have completed all tasks, respond with FINAL ANSWER.\"\n",
    "    )\n",
    "\n",
    "@tool\n",
    "def emb_finder(\n",
    "    message: Annotated[str, \"The python code to execute to generate your chart.\"],\n",
    "):\n",
    "    \"\"\"Use this to execute python code. If you want to see the output of a value,\n",
    "    you should print it out with `print(...)`. This is visible to the user.\"\"\"\n",
    "    \n",
    "    try:\n",
    "        print(\"!!\")\n",
    "        print(message)\n",
    "        date_str, question = message.split(\":::\")\n",
    "\n",
    "        # Step 2: Remove the brackets around the dates\n",
    "        date_str = date_str.strip(\"[]\")\n",
    "        # Step 3: Convert the string of dates to a list\n",
    "        date_list = date_str.split(\", \")\n",
    "        print(\"@@\")\n",
    "        print(date_list)\n",
    "        \n",
    "    except BaseException as e:\n",
    "        return f\"Failed to execute. Error: {repr(e)}\"\n",
    "    return (\n",
    "        message\n",
    "    )"
   ],
   "metadata": {
    "collapsed": false,
    "ExecuteTime": {
     "end_time": "2024-06-21T06:14:44.263418Z",
     "start_time": "2024-06-21T06:14:44.258254Z"
    }
   },
   "id": "d0041f9a0782c7",
   "execution_count": 2
  },
  {
   "cell_type": "markdown",
   "source": [
    "# State of Graph\n",
    "A list of messages, along with a key to track the most recent sender"
   ],
   "metadata": {
    "collapsed": false
   },
   "id": "350ee4d3b012d9d"
  },
  {
   "cell_type": "code",
   "outputs": [],
   "source": [
    "# This defines the object that is passed between each node\n",
    "# in the graph. We will create different nodes for each agent and tool\n",
    "class AgentState(TypedDict):\n",
    "    messages: Annotated[Sequence[BaseMessage], operator.add]\n",
    "    sender: str"
   ],
   "metadata": {
    "collapsed": false,
    "ExecuteTime": {
     "end_time": "2024-06-21T06:14:44.266396Z",
     "start_time": "2024-06-21T06:14:44.264772Z"
    }
   },
   "id": "1e7bfe082fe03eef",
   "execution_count": 3
  },
  {
   "cell_type": "markdown",
   "source": [
    "# Define Nodes\n",
    "Agent Nodes, Tool Nodes"
   ],
   "metadata": {
    "collapsed": false
   },
   "id": "2b7a1d6701232894"
  },
  {
   "cell_type": "code",
   "outputs": [],
   "source": [
    "\"\"\"\n",
    "Data Nodes\n",
    "\"\"\"\n",
    "def agent_node(state, agent, name):\n",
    "    \"\"\"Helper function to create a node for a given agent\"\"\"\n",
    "    result = agent.invoke(state)\n",
    "    # We convert the agent output into a format that is suitable to append to the global state\n",
    "    if isinstance(result, ToolMessage):\n",
    "        pass\n",
    "    else:\n",
    "        result = AIMessage(**result.dict(exclude={\"type\", \"name\"}), name=name)    \n",
    "    return {\n",
    "        \"messages\": [result],\n",
    "        # Since we have a strict workflow, we can\n",
    "        # track the sender so we know who to pass to next.\n",
    "        \"sender\": name,\n",
    "    }\n",
    "\n",
    "\n",
    "llm = ChatOpenAI(model=\"gpt-4o\", api_key=\"sk-proj-DFEqmV2bESTGXITqzVrHT3BlbkFJ3ndYJrjURSkNmALp5kqS\")\n",
    "\n",
    "# Date Agent\n",
    "current_date = datetime.now().strftime(\"%Y-%m-%d\") \n",
    "file_list = [\"2023-08-23.txt\", \"2024-01-10.txt\", \"2024-05-30.txt\", \"2024-06-19.txt\", \"2024-06-20.txt\"]\n",
    "prompt = ChatPromptTemplate.from_messages(\n",
    "        [\n",
    "            (\n",
    "                \"system\",\n",
    "                \"You do not need to answer question itself.\"\n",
    "                \"You have two goals, one is to find date information from question and other is to pass the question for the next agent to answer.\"\n",
    "                \"Make '[date1, date2, ...]:::(question)' format to answer, when (question) is the original question from the user.\"\n",
    "                \"\\n{system_message}\"\n",
    "                ,\n",
    "            ),\n",
    "            MessagesPlaceholder(variable_name=\"messages\"),\n",
    "        ]\n",
    "    )\n",
    "prompt = prompt.partial(system_message=f\"The current date is {current_date}. If the question does not have any clue about date, use the current date. If the question has a clue about date, find all the related dates from the list {file_list}. For example, If current date is '2023-08-23' and question indicating this year, you have to answer with all the date list with 2023, like '2023-01-15, 2023-02-11, 2023-05-19...'\")\n",
    "data_agent =  prompt | llm\n",
    "\n",
    "date_node = functools.partial(agent_node, agent=data_agent, name=\"date_finder\")"
   ],
   "metadata": {
    "collapsed": false,
    "ExecuteTime": {
     "end_time": "2024-06-21T06:14:44.285540Z",
     "start_time": "2024-06-21T06:14:44.267535Z"
    }
   },
   "id": "6fe5bdae8a8303ff",
   "execution_count": 4
  },
  {
   "cell_type": "code",
   "outputs": [],
   "source": [
    "\"\"\"\n",
    "Tool Nodes\n",
    "\"\"\"\n",
    "tools = [emb_finder]\n",
    "tool_node = ToolNode(tools)"
   ],
   "metadata": {
    "collapsed": false,
    "ExecuteTime": {
     "end_time": "2024-06-21T06:14:44.287956Z",
     "start_time": "2024-06-21T06:14:44.286425Z"
    }
   },
   "id": "4280c5ea7750e595",
   "execution_count": 5
  },
  {
   "cell_type": "code",
   "outputs": [],
   "source": [
    "\"\"\"\n",
    "Embedding Node\n",
    "\"\"\"\n",
    "prompt = ChatPromptTemplate.from_messages(\n",
    "        [\n",
    "            (\n",
    "                \"system\",\n",
    "                \"You have to use tools to find the embedding with the proper date,\"\n",
    "                \"Remember, you must use tool with the answer received from previous agent without any editing or deleting with the format of '[date1, date2, ...]:::(question)'.\"\n",
    "                \"Remember, don't miss or ignore single date element from received answer when you pass the state to tools.\"\n",
    "                \"You have access to the following tools: {tool_names}.\",\n",
    "            ),\n",
    "            MessagesPlaceholder(variable_name=\"messages\"),\n",
    "        ]\n",
    "    )\n",
    "prompt = prompt.partial(tool_names=\", \".join([tool.name for tool in tools]))\n",
    "chart_agent =  prompt | llm.bind_tools(tools) \n",
    "\n",
    "chart_node = functools.partial(agent_node, agent=chart_agent, name=\"chart_generator\")"
   ],
   "metadata": {
    "collapsed": false,
    "ExecuteTime": {
     "end_time": "2024-06-21T06:14:44.337805Z",
     "start_time": "2024-06-21T06:14:44.288728Z"
    }
   },
   "id": "9de125e77945f3",
   "execution_count": 6
  },
  {
   "cell_type": "markdown",
   "source": [
    "# Define Edge Logic\n",
    "edge logic that is needed to decide what to do based on results of the agents"
   ],
   "metadata": {
    "collapsed": false
   },
   "id": "14d3926f24dbbf70"
  },
  {
   "cell_type": "code",
   "outputs": [],
   "source": [
    "def router(state) -> Literal[\"call_tool\", \"__end__\", \"continue\"]:\n",
    "    \"\"\"\n",
    "        This is the router\n",
    "        Either agent can decide to end\n",
    "    \"\"\"\n",
    "    messages = state[\"messages\"]\n",
    "    last_message = messages[-1]\n",
    "    \n",
    "    if last_message.tool_calls:\n",
    "        # The previous agent is invoking a tool\n",
    "        return \"call_tool\"\n",
    "    return \"continue\"\n",
    "\n",
    "def router2(state) -> Literal[\"call_tool\", \"__end__\", \"continue\"]:\n",
    "    return \"continue\""
   ],
   "metadata": {
    "collapsed": false,
    "ExecuteTime": {
     "end_time": "2024-06-21T06:14:44.340171Z",
     "start_time": "2024-06-21T06:14:44.338415Z"
    }
   },
   "id": "de5cbe9710ffb9af",
   "execution_count": 7
  },
  {
   "cell_type": "markdown",
   "source": [
    "# Define Graph"
   ],
   "metadata": {
    "collapsed": false
   },
   "id": "f71958b8eafde6a2"
  },
  {
   "cell_type": "code",
   "outputs": [],
   "source": [
    "workflow = StateGraph(AgentState)\n",
    "\n",
    "workflow.add_node(\"date_finder\", date_node)\n",
    "workflow.add_node(\"chart_generator\", chart_node)\n",
    "workflow.add_node(\"call_tool\", tool_node)\n",
    "\n",
    "workflow.add_conditional_edges(\n",
    "    \"date_finder\",\n",
    "    router,\n",
    "    {\"continue\": \"chart_generator\", \"call_tool\": \"call_tool\", \"__end__\": END},\n",
    ")\n",
    "workflow.add_conditional_edges(\n",
    "    \"chart_generator\",\n",
    "    router,\n",
    "    {\"continue\": END, \"call_tool\": \"call_tool\", \"__end__\": END},\n",
    ")\n",
    "\n",
    "workflow.add_conditional_edges(\n",
    "    \"call_tool\",\n",
    "    router2, # date_finder or chart_generator\n",
    "    {\n",
    "        \"continue\": END,\n",
    "    },\n",
    ")\n",
    "\n",
    "workflow.set_entry_point(\"date_finder\")\n",
    "graph = workflow.compile()"
   ],
   "metadata": {
    "collapsed": false,
    "ExecuteTime": {
     "end_time": "2024-06-21T06:14:44.343914Z",
     "start_time": "2024-06-21T06:14:44.340780Z"
    }
   },
   "id": "f4e51dba9160e8ec",
   "execution_count": 8
  },
  {
   "cell_type": "code",
   "outputs": [],
   "source": [
    "import json\n",
    "from typing import List, Dict, Any, Union\n",
    "\n",
    "def extract_content_and_urls(value: Dict[str, Any]) -> List[Dict[str, Union[str, Dict[str, str]]]]:\n",
    "    result = []\n",
    "    possible_keys = ['call_tool', 'date_finder', 'chart_generator']\n",
    "\n",
    "    for key in possible_keys:\n",
    "        if key in value:\n",
    "            data = value[key]\n",
    "            if 'messages' in data:\n",
    "                messages = data['messages']\n",
    "                if isinstance(messages, list) and len(messages) > 0:\n",
    "                    print(key + \"/\")\n",
    "                    message = messages[0]\n",
    "                    content = message.content\n",
    "                    # Check if the content is a JSON string\n",
    "                    try:\n",
    "                        json_content = json.loads(content)\n",
    "                        # Handle case where content is a JSON string\n",
    "                        for item in json_content:\n",
    "                            url = item.get('url')\n",
    "                            content = item.get('content')\n",
    "                            result.append({'url': url, 'content': content})\n",
    "                    except json.JSONDecodeError:\n",
    "                        # Handle case where content is a regular string\n",
    "                        result.append({'content': content})\n",
    "            break  # Stop after finding the first valid key\n",
    "    return result"
   ],
   "metadata": {
    "collapsed": false,
    "ExecuteTime": {
     "end_time": "2024-06-21T06:14:44.348272Z",
     "start_time": "2024-06-21T06:14:44.345645Z"
    }
   },
   "id": "3cbcbdc0fd3dbc7",
   "execution_count": 9
  },
  {
   "cell_type": "code",
   "outputs": [
    {
     "name": "stdout",
     "output_type": "stream",
     "text": [
      "date_finder/\n",
      "[{'content': '[2024-01-10, 2024-05-30, 2024-06-19, 2024-06-20]:::(what happend this year?)'}]\n",
      "----\n",
      "chart_generator/\n",
      "[{'content': ''}]\n",
      "----\n",
      "!!\n",
      "[2024-01-10, 2024-05-30, 2024-06-19, 2024-06-20]:::(what happend this year?)\n",
      "@@\n",
      "['2024-01-10', '2024-05-30', '2024-06-19', '2024-06-20']\n",
      "call_tool/\n",
      "[{'content': '[2024-01-10, 2024-05-30, 2024-06-19, 2024-06-20]:::(what happend this year?)'}]\n",
      "----\n",
      "Goodbye!\n"
     ]
    }
   ],
   "source": [
    "while True:\n",
    "    user_input = input(\"User: \") # what's the chinese zodiac of last year?\n",
    "    if user_input.lower() in [\"quit\", \"exit\", \"q\"]:\n",
    "        print(\"Goodbye!\")\n",
    "        break\n",
    "    events = graph.stream(\n",
    "    {\n",
    "        \"messages\": [\n",
    "            HumanMessage(\n",
    "                content=user_input\n",
    "            )\n",
    "        ],\n",
    "    },\n",
    "    # Maximum number of steps to take in the graph\n",
    "    {\"recursion_limit\": 5},\n",
    "    )\n",
    "    for event in events:\n",
    "        print(extract_content_and_urls(event))\n",
    "        print(\"----\")"
   ],
   "metadata": {
    "collapsed": false,
    "ExecuteTime": {
     "end_time": "2024-06-21T06:14:59.556750Z",
     "start_time": "2024-06-21T06:14:44.349034Z"
    }
   },
   "id": "41f8195423f0d7b8",
   "execution_count": 10
  },
  {
   "cell_type": "code",
   "outputs": [],
   "source": [],
   "metadata": {
    "collapsed": false,
    "ExecuteTime": {
     "end_time": "2024-06-21T06:14:59.560421Z",
     "start_time": "2024-06-21T06:14:59.558470Z"
    }
   },
   "id": "4c26ea2d9027d6b3",
   "execution_count": 10
  }
 ],
 "metadata": {
  "kernelspec": {
   "display_name": "Python 3",
   "language": "python",
   "name": "python3"
  },
  "language_info": {
   "codemirror_mode": {
    "name": "ipython",
    "version": 2
   },
   "file_extension": ".py",
   "mimetype": "text/x-python",
   "name": "python",
   "nbconvert_exporter": "python",
   "pygments_lexer": "ipython2",
   "version": "2.7.6"
  }
 },
 "nbformat": 4,
 "nbformat_minor": 5
}
