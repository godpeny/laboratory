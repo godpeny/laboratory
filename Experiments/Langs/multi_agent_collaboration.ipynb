{
 "cells": [
  {
   "cell_type": "code",
   "outputs": [],
   "source": [
    "import os\n",
    "from typing import Annotated, Sequence, TypedDict, Literal\n",
    "import operator\n",
    "import functools\n",
    "\n",
    "from langchain_core.messages import (\n",
    "    BaseMessage,\n",
    "    HumanMessage,\n",
    "    ToolMessage,\n",
    ")\n",
    "from langchain_core.prompts import ChatPromptTemplate, MessagesPlaceholder\n",
    "from langchain_community.tools.tavily_search import TavilySearchResults\n",
    "from langchain_core.tools import tool\n",
    "from langchain_experimental.utilities import PythonREPL\n",
    "from langchain_openai import ChatOpenAI\n",
    "from langchain_core.messages import AIMessage\n",
    "\n",
    "from langgraph.graph import END, StateGraph\n",
    "from langgraph.prebuilt import ToolNode"
   ],
   "metadata": {
    "collapsed": false,
    "ExecuteTime": {
     "end_time": "2024-06-19T16:06:55.957762Z",
     "start_time": "2024-06-19T16:06:55.465672Z"
    }
   },
   "id": "60a9bff217b5067e",
   "execution_count": 1
  },
  {
   "cell_type": "markdown",
   "source": [
    "# Define Tools"
   ],
   "metadata": {
    "collapsed": false
   },
   "id": "a8ccc98a84875232"
  },
  {
   "cell_type": "code",
   "outputs": [],
   "source": [
    "os.environ[\"TAVILY_API_KEY\"] = \"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\"\n",
    "tavily_tool = TavilySearchResults(max_results=5)\n",
    "\n",
    "repl = PythonREPL()\n",
    "\n",
    "@tool\n",
    "def python_repl(\n",
    "    code: Annotated[str, \"The python code to execute to generate your chart.\"],\n",
    "):\n",
    "    \"\"\"Use this to execute python code. If you want to see the output of a value,\n",
    "    you should print it out with `print(...)`. This is visible to the user.\"\"\"\n",
    "    try:\n",
    "        result = repl.run(code)\n",
    "    except BaseException as e:\n",
    "        return f\"Failed to execute. Error: {repr(e)}\"\n",
    "    result_str = f\"Successfully executed:\\n```python\\n{code}\\n```\\nStdout: {result}\"\n",
    "    return (\n",
    "        result_str + \"\\n\\nIf you have completed all tasks, respond with FINAL ANSWER.\"\n",
    "    )"
   ],
   "metadata": {
    "collapsed": false,
    "ExecuteTime": {
     "end_time": "2024-06-19T16:06:55.962720Z",
     "start_time": "2024-06-19T16:06:55.958818Z"
    }
   },
   "id": "d0041f9a0782c7",
   "execution_count": 2
  },
  {
   "cell_type": "markdown",
   "source": [
    "# State of Graph\n",
    "A list of messages, along with a key to track the most recent sender"
   ],
   "metadata": {
    "collapsed": false
   },
   "id": "350ee4d3b012d9d"
  },
  {
   "cell_type": "code",
   "outputs": [],
   "source": [
    "# This defines the object that is passed between each node\n",
    "# in the graph. We will create different nodes for each agent and tool\n",
    "class AgentState(TypedDict):\n",
    "    messages: Annotated[Sequence[BaseMessage], operator.add]\n",
    "    sender: str"
   ],
   "metadata": {
    "collapsed": false,
    "ExecuteTime": {
     "end_time": "2024-06-19T16:06:55.965828Z",
     "start_time": "2024-06-19T16:06:55.964211Z"
    }
   },
   "id": "1e7bfe082fe03eef",
   "execution_count": 3
  },
  {
   "cell_type": "markdown",
   "source": [
    "# Define Nodes\n",
    "Agent Nodes, Tool Nodes"
   ],
   "metadata": {
    "collapsed": false
   },
   "id": "2b7a1d6701232894"
  },
  {
   "cell_type": "code",
   "outputs": [],
   "source": [
    "\"\"\"\n",
    "Agent Nodes\n",
    "\"\"\"\n",
    "def create_agent(llm, tools, system_message: str):\n",
    "    \"\"\"Create an agent.\"\"\"\n",
    "    prompt = ChatPromptTemplate.from_messages(\n",
    "        [\n",
    "            (\n",
    "                \"system\",\n",
    "                \"You are a helpful AI assistant, collaborating with other assistants.\"\n",
    "                \" Use the provided tools to progress towards answering the question.\"\n",
    "                \" If you are unable to fully answer, that's OK, another assistant with different tools \"\n",
    "                \" will help where you left off. Execute what you can to make progress.\"\n",
    "                \" If you or any of the other assistants have the final answer or deliverable,\"\n",
    "                \" prefix your response with FINAL ANSWER so the team knows to stop.\"\n",
    "                \" You have access to the following tools: {tool_names}.\\n{system_message}\",\n",
    "            ),\n",
    "            MessagesPlaceholder(variable_name=\"messages\"),\n",
    "        ]\n",
    "    )\n",
    "    prompt = prompt.partial(system_message=system_message)\n",
    "    prompt = prompt.partial(tool_names=\", \".join([tool.name for tool in tools]))\n",
    "    return prompt | llm.bind_tools(tools) # '|' indicates that we are combining the prompt and the tools\n",
    "\n",
    "def agent_node(state, agent, name):\n",
    "    \"\"\"Helper function to create a node for a given agent\"\"\"\n",
    "    result = agent.invoke(state)\n",
    "    # We convert the agent output into a format that is suitable to append to the global state\n",
    "    if isinstance(result, ToolMessage):\n",
    "        pass\n",
    "    else:\n",
    "        result = AIMessage(**result.dict(exclude={\"type\", \"name\"}), name=name)\n",
    "    return {\n",
    "        \"messages\": [result],\n",
    "        # Since we have a strict workflow, we can\n",
    "        # track the sender so we know who to pass to next.\n",
    "        \"sender\": name,\n",
    "    }\n",
    "\n",
    "\n",
    "llm = ChatOpenAI(model=\"gpt-4-1106-preview\", api_key=\"sk-proj-DFEqmV2bESTGXITqzVrHT3BlbkFJ3ndYJrjURSkNmALp5kqS\")\n",
    "\n",
    "# Research agent and node\n",
    "research_agent = create_agent(\n",
    "    llm,\n",
    "    [tavily_tool],\n",
    "    system_message=\"You should provide accurate data for the chart_generator to use.\",\n",
    ")\n",
    "research_node = functools.partial(agent_node, agent=research_agent, name=\"Researcher\")\n",
    "\n",
    "# chart_generator\n",
    "chart_agent = create_agent(\n",
    "    llm,\n",
    "    [python_repl],\n",
    "    system_message=\"Any charts you display will be visible by the user.\",\n",
    ")\n",
    "chart_node = functools.partial(agent_node, agent=chart_agent, name=\"chart_generator\")\n",
    "\n",
    "\"\"\"\n",
    "Tool Nodes\n",
    "\"\"\"\n",
    "tools = [tavily_tool, python_repl]\n",
    "tool_node = ToolNode(tools)"
   ],
   "metadata": {
    "collapsed": false,
    "ExecuteTime": {
     "end_time": "2024-06-19T16:06:56.036720Z",
     "start_time": "2024-06-19T16:06:55.966959Z"
    }
   },
   "id": "6fe5bdae8a8303ff",
   "execution_count": 4
  },
  {
   "cell_type": "markdown",
   "source": [
    "# Define Edge Logic\n",
    "edge logic that is needed to decide what to do based on results of the agents"
   ],
   "metadata": {
    "collapsed": false
   },
   "id": "14d3926f24dbbf70"
  },
  {
   "cell_type": "code",
   "outputs": [],
   "source": [
    "def router(state) -> Literal[\"call_tool\", \"__end__\", \"continue\"]:\n",
    "    \"\"\"\n",
    "        This is the router\n",
    "        Either agent can decide to end\n",
    "    \"\"\"\n",
    "    messages = state[\"messages\"]\n",
    "    last_message = messages[-1]\n",
    "    if last_message.tool_calls:\n",
    "        # The previous agent is invoking a tool\n",
    "        return \"call_tool\"\n",
    "    if \"FINAL ANSWER\" in last_message.content:\n",
    "        # Any agent decided the work is done\n",
    "        return \"__end__\"\n",
    "    return \"continue\""
   ],
   "metadata": {
    "collapsed": false,
    "ExecuteTime": {
     "end_time": "2024-06-19T16:06:56.045138Z",
     "start_time": "2024-06-19T16:06:56.038854Z"
    }
   },
   "id": "de5cbe9710ffb9af",
   "execution_count": 5
  },
  {
   "cell_type": "markdown",
   "source": [
    "# Define Graph"
   ],
   "metadata": {
    "collapsed": false
   },
   "id": "f71958b8eafde6a2"
  },
  {
   "cell_type": "code",
   "outputs": [],
   "source": [
    "workflow = StateGraph(AgentState)\n",
    "\n",
    "workflow.add_node(\"Researcher\", research_node)\n",
    "workflow.add_node(\"chart_generator\", chart_node)\n",
    "workflow.add_node(\"call_tool\", tool_node)\n",
    "\n",
    "workflow.add_conditional_edges(\n",
    "    \"Researcher\",\n",
    "    router,\n",
    "    {\"continue\": \"chart_generator\", \"call_tool\": \"call_tool\", \"__end__\": END},\n",
    ")\n",
    "workflow.add_conditional_edges(\n",
    "    \"chart_generator\",\n",
    "    router,\n",
    "    {\"continue\": \"Researcher\", \"call_tool\": \"call_tool\", \"__end__\": END},\n",
    ")\n",
    "\n",
    "workflow.add_conditional_edges(\n",
    "    \"call_tool\",\n",
    "    # Each agent node updates the 'sender' field\n",
    "    # the tool calling node does not, meaning\n",
    "    # this edge will route back to the original agent who invoked the tool\n",
    "    lambda x: x[\"sender\"], # Researcher or chart_generator\n",
    "    {\n",
    "        \"Researcher\": \"Researcher\",\n",
    "        \"chart_generator\": \"chart_generator\",\n",
    "    },\n",
    ")\n",
    "workflow.set_entry_point(\"Researcher\")\n",
    "graph = workflow.compile()"
   ],
   "metadata": {
    "collapsed": false,
    "ExecuteTime": {
     "end_time": "2024-06-19T16:06:56.050959Z",
     "start_time": "2024-06-19T16:06:56.047312Z"
    }
   },
   "id": "f4e51dba9160e8ec",
   "execution_count": 6
  },
  {
   "cell_type": "code",
   "outputs": [],
   "source": [
    "import json\n",
    "from typing import List, Dict, Any, Union\n",
    "\n",
    "def extract_content_and_urls(value: Dict[str, Any]) -> List[Dict[str, Union[str, Dict[str, str]]]]:\n",
    "    result = []\n",
    "    possible_keys = ['call_tool', 'Researcher']\n",
    "\n",
    "    for key in possible_keys:\n",
    "        if key in value:\n",
    "            data = value[key]\n",
    "            if 'messages' in data:\n",
    "                messages = data['messages']\n",
    "                if isinstance(messages, list) and len(messages) > 0:\n",
    "                    message = messages[0]\n",
    "                    content = message.content\n",
    "                    # Check if the content is a JSON string\n",
    "                    try:\n",
    "                        json_content = json.loads(content)\n",
    "                        # Handle case where content is a JSON string\n",
    "                        for item in json_content:\n",
    "                            url = item.get('url')\n",
    "                            content = item.get('content')\n",
    "                            result.append({'url': url, 'content': content})\n",
    "                    except json.JSONDecodeError:\n",
    "                        # Handle case where content is a regular string\n",
    "                        result.append({'content': content})\n",
    "            break  # Stop after finding the first valid key\n",
    "    return result"
   ],
   "metadata": {
    "collapsed": false,
    "ExecuteTime": {
     "end_time": "2024-06-19T16:49:48.555866Z",
     "start_time": "2024-06-19T16:49:48.551423Z"
    }
   },
   "id": "3cbcbdc0fd3dbc7",
   "execution_count": 46
  },
  {
   "cell_type": "code",
   "outputs": [
    {
     "name": "stdout",
     "output_type": "stream",
     "text": [
      "{'Researcher': {'messages': [AIMessage(content='', additional_kwargs={'tool_calls': [{'id': 'call_YiNNpRS2p0KuZql5j9Dn7oAd', 'function': {'arguments': '{\"query\":\"population of Tokyo in 2020\"}', 'name': 'tavily_search_results_json'}, 'type': 'function'}]}, response_metadata={'token_usage': {'completion_tokens': 24, 'prompt_tokens': 206, 'total_tokens': 230}, 'model_name': 'gpt-4-1106-preview', 'system_fingerprint': None, 'finish_reason': 'tool_calls', 'logprobs': None}, name='Researcher', id='run-b35d61a5-8962-4900-8983-f252f47f4a14-0', tool_calls=[{'name': 'tavily_search_results_json', 'args': {'query': 'population of Tokyo in 2020'}, 'id': 'call_YiNNpRS2p0KuZql5j9Dn7oAd'}], usage_metadata={'input_tokens': 206, 'output_tokens': 24, 'total_tokens': 230})], 'sender': 'Researcher'}}\n",
      "!!\n",
      "[{'content': ''}]\n",
      "----\n",
      "{'call_tool': {'messages': [ToolMessage(content='[{\"url\": \"https://www.macrotrends.net/global-metrics/cities/21671/tokyo/population\", \"content\": \"The metro area population of Tokyo in 2022 was 37,274,000, a 0.18% decline from 2021. The metro area population of Tokyo in 2021 was 37,340,000, a 0.14% decline from 2020. Download Historical Data Save as Image. Data Source: United Nations - World Population Prospects MLA Citation: Other Cities in Japan; City Name\"}, {\"url\": \"https://worldpopulationreview.com/world-cities/tokyo-population\", \"content\": \"In 2015, the Tokyo Metropolitan Government estimated the nighttime and daytime population of the city, finding that although the city\\'s population was around 15.576 million in the daytime, this decreased to 13.159 million in the middle of the night. Meanwhile, the Japan Times forecasted that the entire population of the Prefecture of Tokyo, which is the central jurisdiction of the metropolitan region, will be cut in half between 2010 and 2100.\\\\n This means that Tokyo\\'s population is expected to halve in the next 90 years, and by 2100, 3.27 million of the 7.13 million residents in the city will be over the age of 65. Now, to find the rough population density of the Tokyo area, we combine the total population with the available space for the residents, which comes to 6,224.66 people living per square kilometer (16,121.8 residents per square mile).\\\\n Today, Tokyo extends way beyond the original city boundaries, and is one of the largest urban sprawls in the world, which doesn\\'t make it easy to explain exactly how many people live in Tokyo.\\\\n\"}, {\"url\": \"https://www.statista.com/topics/9914/tokyo/\", \"content\": \"Average monthly net income per unemployed household in Tokyo Prefecture, Japan 2022\\\\nAverage monthly disposable income per non-working household in Tokyo Prefecture in Japan from 2013 to 2022 (1,000 Japanese yen)\\\\nEmployment\\\\nEmployment\\\\nLabor force in Tokyo Prefecture, Japan 2013-2022\\\\nLabor force in Tokyo Prefecture in Japan from 2013 to 2022 (in 1,000s)\\\\nNumber of employed people in Tokyo Prefecture, Japan 2022, by industry\\\\nNumber of employed people in Tokyo Prefecture in Japan in 2022, by industry (in 1,000s)\\\\nEmployment rate in Tokyo Prefecture, Japan 2013-2022, by gender\\\\nEmployment rate in Tokyo Prefecture in Japan from 2013 to 2022, by gender\\\\nMale employment rate in Tokyo Prefecture, Japan 2013-2022, by age\\\\nEmployment rate among men in Tokyo Prefecture in Japan from 2013 to 2022, by age group\\\\nFemale employment rate in Tokyo Prefecture, Japan 2013-2022, by age\\\\nEmployment rate among women in Tokyo Prefecture in Japan from 2013 to 2022, by age group\\\\nUnemployment rate in Tokyo Prefecture, Japan 2013-2022, by gender\\\\nUnemployment rate in Tokyo Prefecture in Japan from 2013 to 2022, by gender\\\\nJob openings-to-applicants ratio in Tokyo Prefecture, Japan FY 2011-2020\\\\nAnnual average of job openings-to-applicants ratio in Tokyo Prefecture in Japan from fiscal year 2011 to 2020\\\\nReal estate\\\\nReal estate\\\\nLand use in Tokyo metropolis in Japan 1955-2022\\\\nPrivate land utilization of Tokyo metropolis in Japan from 1955 to 2022 (in 1,000 hectares)\\\\nAverage land price in Tokyo Prefecture 2014-2023\\\\nAverage land price in Tokyo Prefecture from 2014 to 2023 (in 1,000 Japanese yen per square meter)\\\\nOfficial land price Tokyo 2023, by district\\\\nOfficial land price in Japan\\'s capital Tokyo in 2023, by district (in 1,000 Japanese yen per square meter)\\\\nHome price index for Tokyo Prefecture in Japan 2014-2022\\\\nHome price index for Tokyo Prefecture in Japan from 2014 to 2022\\\\nAverage rent for apartments in the Greater Tokyo Area 2014-2023, by layout\\\\nAverage monthly rent for apartments in the Greater Tokyo Area from 2014 to 2023, by layout (in 1,000 Japanese yen)\\\\nTourism\\\\nTourism\\\\nJapanese national tourists in Tokyo 2013-2022\\\\nNumber of domestic tourist visits in Tokyo, Japan from 2013 to 2022 (in millions)\\\\n Population aged 15 years and older in Tokyo Prefecture, Japan 2012-2021, by gender\\\\nPopulation aged 15 years and older in Tokyo Prefecture in Japan from 2012 to 2021, by gender (in 1,000s)\\\\nPopulation density in Tokyo Prefecture, Japan 2000-2020\\\\nNumber of inhabitants per square kilometer in Tokyo Prefecture in Japan from 2000 to 2020\\\\nPassenger volume index of main railway lines in Japan\\'s Tokyo Area FY 2013-2022\\\\nPassenger volume index of main railway sections in Japan\\'s Greater Tokyo Area from fiscal year 2013 to 2022 (index points)\\\\nDemographics\\\\nDemographics\\\\nNumber of men in Tokyo Prefecture, Japan 2012-2021\\\\nMale population in Tokyo Prefecture in Japan from 2012 to 2021 (in millions)\\\\nNumber of women in Tokyo Prefecture, Japan 2012-2021\\\\nFemale population in Tokyo Prefecture in Japan from 2012 to 2021 (in millions)\\\\nNumber of foreign residents in Tokyo Prefecture, Japan 2022, by region of origin\\\\nNumber of foreign nationals living in Tokyo Prefecture in Japan in 2022, by region of origin (in 1,000s)\\\\nMarriage rate in Tokyo Prefecture, Japan 2012-2021\\\\nNumber of registered marriages per 1,000 inhabitants in Tokyo Prefecture in Japan from 2012 to 2021\\\\nDivorce rate in Tokyo Prefecture, Japan 2012-2021\\\\nNumber of registered divorces per 1,000 inhabitants in Tokyo Prefecture in Japan from 2012 to 2021\\\\nTotal fertility rate in Tokyo Prefecture, Japan 2012-2021\\\\nTotal fertility rate (TFR) in Tokyo Prefecture in Japan from 2012 to 2021\\\\nNumber of deaths in Tokyo Prefecture, Japan 2000-2021\\\\nNumber of deaths in Tokyo Prefecture in Japan from 2000 to 2021 (in 1,000s)\\\\nAverage number of people per private household in Tokyo Prefecture, Japan 2013-2022\\\\nAverage number of family members per private household in Tokyo Prefecture in Japan from 2013 to 2022\\\\nEconomy\\\\nEconomy\\\\nGross prefectural domestic product of Tokyo Prefecture, Japan FY 2011-2020\\\\nGross prefectural domestic product at current prices in Tokyo Prefecture in Japan from fiscal year 2011 to 2020 (in trillion Japanese yen)\\\\nGrowth rate of real gross prefectural domestic product of Tokyo, Japan FY 2012-2020\\\\nGrowth of the real gross prefectural domestic product in Tokyo Prefecture in Japan from fiscal year 2012 to 2020 (in trillion Japanese yen)\\\\n Transforming data into design:\\\\nStatista Content & Design\\\\nStrategy and business building for the data-driven economy:\\\\nTokyo - statistics & facts\\\\nSpecial wards and other municipalities\\\\nTokyo centralization\\\\nKey insights\\\\nDetailed statistics\\\\nPopulation of Tokyo Prefecture Japan 1920-2021\\\\nDetailed statistics\\\\nGross prefectural domestic product of Tokyo Prefecture, Japan FY 2011-2020\\\\nDetailed statistics\\\\nAverage monthly consumption spending per household in Tokyo, Japan 2013-2022\\\\nEditor\\\\u2019s Picks\\\\nCurrent statistics on this topic\\\\nCurrent statistics on this topic\\\\nPopulation\\\\nPopulation of Tokyo Prefecture, Japan 2000-2021, by age group\\\\nIncome & Expenditure\\\\nAverage monthly gross income per working household in Tokyo, Japan 2013-2022\\\\nIncome & Expenditure\\\\nAverage monthly consumption spending per household in Tokyo, Japan 2013-2022\\\\nRelated topics\\\\nRecommended\\\\nRecommended statistics\\\\nOverview\\\\nOverview\\\\nPopulation Japan 2022, by prefecture\\\\nPopulation of Japan in 2022, by prefecture (in millions)\\\\nNet migration and loss Japan in 2021, by prefecture\\\\nNet migration gain and loss in Japan in 2021, by prefecture\\\\nPopulation of Tokyo Prefecture Japan 1920-2021\\\\nPopulation of Tokyo Prefecture in Japan from 1920 to 2021 (in millions)\\\\nPopulation of Tokyo Prefecture, Japan 2000-2021, by age group\\\\nPopulation of Tokyo Prefecture in Japan from 2000 to 2021, by age group (in millions)\\\\n Consumer Price Index (CPI) in Tokyo Prefecture, Japan 2002-2023\\\\nConsumer Price Index (CPI) in Tokyo Prefecture in Japan from 2002 to 2023\\\\nGovernment finances\\\\nGovernment finances\\\\nFinal settlement of Tokyo government\\'s general account expenditure Japan FY 2012-2021\\\\nFinal settlement of the general account expenditure of the Tokyo Metropolitan Government in Japan from fiscal year 2012 to 2021 (in trillion Japanese yen)\\\\nFinal settlement of Tokyo government\\'s general account revenue Japan FY 2012-2021\\\\nFinal settlement of the general account revenue of the Tokyo Metropolitan Government in Japan from fiscal year 2012 to 2021 (in trillion Japanese yen)\\\\nFinal settlement of Tokyo\\'s general account expenditure Japan FY 2021, by purpose\\\\nFinal settlement of the general account expenditure of the Tokyo Metropolitan Government in Japan in fiscal year 2021, by purpose (in million Japanese yen)\\\\nFinal settlement of Tokyo government\\'s general account revenue Japan FY 2021, by item\\\\nFinal settlement of the general account revenue of the Tokyo Metropolitan Government in Japan in fiscal year 2021, by item (in million Japanese yen)\\\\n Climate\\\\nAverage annual temperature Tokyo 1900-2023\\\\nAnnual sunshine duration in Tokyo 2013-2022\\\\nAnnual rainfall in Tokyo 2013-2022\\\\nAnnual snowfall in Tokyo 2013-2022\\\\nHealth\\\\nNumber of hospitals Japan 2022, by prefecture\\\\nNumber of hospital beds Japan 2023, by prefecture\\\\nPatients with COVID-19 in Tokyo Prefecture, Japan 2022, by state of health\\\\nMortality rate in Tokyo Prefecture, Japan 2021, by death cause\\\\n\"}, {\"url\": \"https://www.stat.go.jp/english/data/kokusei/2020/pdf/outline.pdf\", \"content\": \"The 2020 Population Census was taken as of 0:00 a.m., October 1, 2020. This date has been kept unchanged throughout regular censuses since 1920. Legal Basis of the Census The 2020 Population Census was conducted in conformity with the provisions of Article 5, Clause 2 of the Statistics Act, the Cabinet Order for the Population Census\"}, {\"url\": \"https://www.stat.go.jp/english/data/kokusei/2020/summary.html\", \"content\": \"Result with Imputation on 2020 Population Census. Result with Imputation on 2015 Population Census (Retroactive Tabulation) is \\\\\"Portal Site of Official Statistics of Japan\\\\\" (external site) where you can browse statistics tables and database. The Statistics Bureau and the Director-General for Policy Planning of Japan play the central role in the ...\"}]', name='tavily_search_results_json', tool_call_id='call_YiNNpRS2p0KuZql5j9Dn7oAd')]}}\n",
      "!!\n",
      "[{'url': 'https://www.macrotrends.net/global-metrics/cities/21671/tokyo/population', 'content': 'The metro area population of Tokyo in 2022 was 37,274,000, a 0.18% decline from 2021. The metro area population of Tokyo in 2021 was 37,340,000, a 0.14% decline from 2020. Download Historical Data Save as Image. Data Source: United Nations - World Population Prospects MLA Citation: Other Cities in Japan; City Name'}, {'url': 'https://worldpopulationreview.com/world-cities/tokyo-population', 'content': \"In 2015, the Tokyo Metropolitan Government estimated the nighttime and daytime population of the city, finding that although the city's population was around 15.576 million in the daytime, this decreased to 13.159 million in the middle of the night. Meanwhile, the Japan Times forecasted that the entire population of the Prefecture of Tokyo, which is the central jurisdiction of the metropolitan region, will be cut in half between 2010 and 2100.\\n This means that Tokyo's population is expected to halve in the next 90 years, and by 2100, 3.27 million of the 7.13 million residents in the city will be over the age of 65. Now, to find the rough population density of the Tokyo area, we combine the total population with the available space for the residents, which comes to 6,224.66 people living per square kilometer (16,121.8 residents per square mile).\\n Today, Tokyo extends way beyond the original city boundaries, and is one of the largest urban sprawls in the world, which doesn't make it easy to explain exactly how many people live in Tokyo.\\n\"}, {'url': 'https://www.statista.com/topics/9914/tokyo/', 'content': \"Average monthly net income per unemployed household in Tokyo Prefecture, Japan 2022\\nAverage monthly disposable income per non-working household in Tokyo Prefecture in Japan from 2013 to 2022 (1,000 Japanese yen)\\nEmployment\\nEmployment\\nLabor force in Tokyo Prefecture, Japan 2013-2022\\nLabor force in Tokyo Prefecture in Japan from 2013 to 2022 (in 1,000s)\\nNumber of employed people in Tokyo Prefecture, Japan 2022, by industry\\nNumber of employed people in Tokyo Prefecture in Japan in 2022, by industry (in 1,000s)\\nEmployment rate in Tokyo Prefecture, Japan 2013-2022, by gender\\nEmployment rate in Tokyo Prefecture in Japan from 2013 to 2022, by gender\\nMale employment rate in Tokyo Prefecture, Japan 2013-2022, by age\\nEmployment rate among men in Tokyo Prefecture in Japan from 2013 to 2022, by age group\\nFemale employment rate in Tokyo Prefecture, Japan 2013-2022, by age\\nEmployment rate among women in Tokyo Prefecture in Japan from 2013 to 2022, by age group\\nUnemployment rate in Tokyo Prefecture, Japan 2013-2022, by gender\\nUnemployment rate in Tokyo Prefecture in Japan from 2013 to 2022, by gender\\nJob openings-to-applicants ratio in Tokyo Prefecture, Japan FY 2011-2020\\nAnnual average of job openings-to-applicants ratio in Tokyo Prefecture in Japan from fiscal year 2011 to 2020\\nReal estate\\nReal estate\\nLand use in Tokyo metropolis in Japan 1955-2022\\nPrivate land utilization of Tokyo metropolis in Japan from 1955 to 2022 (in 1,000 hectares)\\nAverage land price in Tokyo Prefecture 2014-2023\\nAverage land price in Tokyo Prefecture from 2014 to 2023 (in 1,000 Japanese yen per square meter)\\nOfficial land price Tokyo 2023, by district\\nOfficial land price in Japan's capital Tokyo in 2023, by district (in 1,000 Japanese yen per square meter)\\nHome price index for Tokyo Prefecture in Japan 2014-2022\\nHome price index for Tokyo Prefecture in Japan from 2014 to 2022\\nAverage rent for apartments in the Greater Tokyo Area 2014-2023, by layout\\nAverage monthly rent for apartments in the Greater Tokyo Area from 2014 to 2023, by layout (in 1,000 Japanese yen)\\nTourism\\nTourism\\nJapanese national tourists in Tokyo 2013-2022\\nNumber of domestic tourist visits in Tokyo, Japan from 2013 to 2022 (in millions)\\n Population aged 15 years and older in Tokyo Prefecture, Japan 2012-2021, by gender\\nPopulation aged 15 years and older in Tokyo Prefecture in Japan from 2012 to 2021, by gender (in 1,000s)\\nPopulation density in Tokyo Prefecture, Japan 2000-2020\\nNumber of inhabitants per square kilometer in Tokyo Prefecture in Japan from 2000 to 2020\\nPassenger volume index of main railway lines in Japan's Tokyo Area FY 2013-2022\\nPassenger volume index of main railway sections in Japan's Greater Tokyo Area from fiscal year 2013 to 2022 (index points)\\nDemographics\\nDemographics\\nNumber of men in Tokyo Prefecture, Japan 2012-2021\\nMale population in Tokyo Prefecture in Japan from 2012 to 2021 (in millions)\\nNumber of women in Tokyo Prefecture, Japan 2012-2021\\nFemale population in Tokyo Prefecture in Japan from 2012 to 2021 (in millions)\\nNumber of foreign residents in Tokyo Prefecture, Japan 2022, by region of origin\\nNumber of foreign nationals living in Tokyo Prefecture in Japan in 2022, by region of origin (in 1,000s)\\nMarriage rate in Tokyo Prefecture, Japan 2012-2021\\nNumber of registered marriages per 1,000 inhabitants in Tokyo Prefecture in Japan from 2012 to 2021\\nDivorce rate in Tokyo Prefecture, Japan 2012-2021\\nNumber of registered divorces per 1,000 inhabitants in Tokyo Prefecture in Japan from 2012 to 2021\\nTotal fertility rate in Tokyo Prefecture, Japan 2012-2021\\nTotal fertility rate (TFR) in Tokyo Prefecture in Japan from 2012 to 2021\\nNumber of deaths in Tokyo Prefecture, Japan 2000-2021\\nNumber of deaths in Tokyo Prefecture in Japan from 2000 to 2021 (in 1,000s)\\nAverage number of people per private household in Tokyo Prefecture, Japan 2013-2022\\nAverage number of family members per private household in Tokyo Prefecture in Japan from 2013 to 2022\\nEconomy\\nEconomy\\nGross prefectural domestic product of Tokyo Prefecture, Japan FY 2011-2020\\nGross prefectural domestic product at current prices in Tokyo Prefecture in Japan from fiscal year 2011 to 2020 (in trillion Japanese yen)\\nGrowth rate of real gross prefectural domestic product of Tokyo, Japan FY 2012-2020\\nGrowth of the real gross prefectural domestic product in Tokyo Prefecture in Japan from fiscal year 2012 to 2020 (in trillion Japanese yen)\\n Transforming data into design:\\nStatista Content & Design\\nStrategy and business building for the data-driven economy:\\nTokyo - statistics & facts\\nSpecial wards and other municipalities\\nTokyo centralization\\nKey insights\\nDetailed statistics\\nPopulation of Tokyo Prefecture Japan 1920-2021\\nDetailed statistics\\nGross prefectural domestic product of Tokyo Prefecture, Japan FY 2011-2020\\nDetailed statistics\\nAverage monthly consumption spending per household in Tokyo, Japan 2013-2022\\nEditor’s Picks\\nCurrent statistics on this topic\\nCurrent statistics on this topic\\nPopulation\\nPopulation of Tokyo Prefecture, Japan 2000-2021, by age group\\nIncome & Expenditure\\nAverage monthly gross income per working household in Tokyo, Japan 2013-2022\\nIncome & Expenditure\\nAverage monthly consumption spending per household in Tokyo, Japan 2013-2022\\nRelated topics\\nRecommended\\nRecommended statistics\\nOverview\\nOverview\\nPopulation Japan 2022, by prefecture\\nPopulation of Japan in 2022, by prefecture (in millions)\\nNet migration and loss Japan in 2021, by prefecture\\nNet migration gain and loss in Japan in 2021, by prefecture\\nPopulation of Tokyo Prefecture Japan 1920-2021\\nPopulation of Tokyo Prefecture in Japan from 1920 to 2021 (in millions)\\nPopulation of Tokyo Prefecture, Japan 2000-2021, by age group\\nPopulation of Tokyo Prefecture in Japan from 2000 to 2021, by age group (in millions)\\n Consumer Price Index (CPI) in Tokyo Prefecture, Japan 2002-2023\\nConsumer Price Index (CPI) in Tokyo Prefecture in Japan from 2002 to 2023\\nGovernment finances\\nGovernment finances\\nFinal settlement of Tokyo government's general account expenditure Japan FY 2012-2021\\nFinal settlement of the general account expenditure of the Tokyo Metropolitan Government in Japan from fiscal year 2012 to 2021 (in trillion Japanese yen)\\nFinal settlement of Tokyo government's general account revenue Japan FY 2012-2021\\nFinal settlement of the general account revenue of the Tokyo Metropolitan Government in Japan from fiscal year 2012 to 2021 (in trillion Japanese yen)\\nFinal settlement of Tokyo's general account expenditure Japan FY 2021, by purpose\\nFinal settlement of the general account expenditure of the Tokyo Metropolitan Government in Japan in fiscal year 2021, by purpose (in million Japanese yen)\\nFinal settlement of Tokyo government's general account revenue Japan FY 2021, by item\\nFinal settlement of the general account revenue of the Tokyo Metropolitan Government in Japan in fiscal year 2021, by item (in million Japanese yen)\\n Climate\\nAverage annual temperature Tokyo 1900-2023\\nAnnual sunshine duration in Tokyo 2013-2022\\nAnnual rainfall in Tokyo 2013-2022\\nAnnual snowfall in Tokyo 2013-2022\\nHealth\\nNumber of hospitals Japan 2022, by prefecture\\nNumber of hospital beds Japan 2023, by prefecture\\nPatients with COVID-19 in Tokyo Prefecture, Japan 2022, by state of health\\nMortality rate in Tokyo Prefecture, Japan 2021, by death cause\\n\"}, {'url': 'https://www.stat.go.jp/english/data/kokusei/2020/pdf/outline.pdf', 'content': 'The 2020 Population Census was taken as of 0:00 a.m., October 1, 2020. This date has been kept unchanged throughout regular censuses since 1920. Legal Basis of the Census The 2020 Population Census was conducted in conformity with the provisions of Article 5, Clause 2 of the Statistics Act, the Cabinet Order for the Population Census'}, {'url': 'https://www.stat.go.jp/english/data/kokusei/2020/summary.html', 'content': 'Result with Imputation on 2020 Population Census. Result with Imputation on 2015 Population Census (Retroactive Tabulation) is \"Portal Site of Official Statistics of Japan\" (external site) where you can browse statistics tables and database. The Statistics Bureau and the Director-General for Policy Planning of Japan play the central role in the ...'}]\n",
      "----\n",
      "{'Researcher': {'messages': [AIMessage(content=\"The search results do not provide the exact population of Tokyo in 2020. However, we can estimate it based on the information that the population in 2021 was 37,340,000 and there was a 0.14% decline from 2020. \\n\\nLet's calculate the estimated population in 2020 using this information:\\n\\n1. If there was a 0.14% decline from 2020 to 2021, then we can say that the population in 2020 was 100% of the 2020 population minus the 0.14% decline that occurred in 2021.\\n\\nLet \\\\( P_{2020} \\\\) be the population in 2020 and \\\\( P_{2021} = 37,340,000 \\\\).\\n\\nThe equation based on the percentage decline is:\\n\\\\[ P_{2021} = P_{2020} - (0.14\\\\% \\\\times P_{2020}) \\\\]\\n\\nSolving for \\\\( P_{2020} \\\\), we get:\\n\\\\[ P_{2020} = \\\\frac{P_{2021}}{1 - 0.0014} \\\\]\\n\\\\[ P_{2020} = \\\\frac{37,340,000}{0.9986} \\\\]\\n\\\\[ P_{2020} \\\\approx 37,389,463 \\\\]\\n\\nTherefore, the estimated population of Tokyo in 2020 is approximately 37,389,463. \\n\\nFINAL ANSWER: The estimated population of Tokyo in 2020 is approximately 37,389,463.\", response_metadata={'token_usage': {'completion_tokens': 319, 'prompt_tokens': 2731, 'total_tokens': 3050}, 'model_name': 'gpt-4-1106-preview', 'system_fingerprint': None, 'finish_reason': 'stop', 'logprobs': None}, name='Researcher', id='run-aaeefb2e-3b91-42f9-8893-f3057e574e56-0', usage_metadata={'input_tokens': 2731, 'output_tokens': 319, 'total_tokens': 3050})], 'sender': 'Researcher'}}\n",
      "!!\n",
      "[{'content': \"The search results do not provide the exact population of Tokyo in 2020. However, we can estimate it based on the information that the population in 2021 was 37,340,000 and there was a 0.14% decline from 2020. \\n\\nLet's calculate the estimated population in 2020 using this information:\\n\\n1. If there was a 0.14% decline from 2020 to 2021, then we can say that the population in 2020 was 100% of the 2020 population minus the 0.14% decline that occurred in 2021.\\n\\nLet \\\\( P_{2020} \\\\) be the population in 2020 and \\\\( P_{2021} = 37,340,000 \\\\).\\n\\nThe equation based on the percentage decline is:\\n\\\\[ P_{2021} = P_{2020} - (0.14\\\\% \\\\times P_{2020}) \\\\]\\n\\nSolving for \\\\( P_{2020} \\\\), we get:\\n\\\\[ P_{2020} = \\\\frac{P_{2021}}{1 - 0.0014} \\\\]\\n\\\\[ P_{2020} = \\\\frac{37,340,000}{0.9986} \\\\]\\n\\\\[ P_{2020} \\\\approx 37,389,463 \\\\]\\n\\nTherefore, the estimated population of Tokyo in 2020 is approximately 37,389,463. \\n\\nFINAL ANSWER: The estimated population of Tokyo in 2020 is approximately 37,389,463.\"}]\n",
      "----\n",
      "Goodbye!\n"
     ]
    }
   ],
   "source": [
    "while True:\n",
    "    user_input = input(\"User: \") # what is the population of tokyo in 2020?\n",
    "    if user_input.lower() in [\"quit\", \"exit\", \"q\"]:\n",
    "        print(\"Goodbye!\")\n",
    "        break\n",
    "    events = graph.stream(\n",
    "    {\n",
    "        \"messages\": [\n",
    "            HumanMessage(\n",
    "                content=user_input\n",
    "            )\n",
    "        ],\n",
    "    },\n",
    "    # Maximum number of steps to take in the graph\n",
    "    {\"recursion_limit\": 10},\n",
    "    )\n",
    "    for event in events:\n",
    "        print(extract_content_and_urls(event))\n",
    "        print(\"----\")"
   ],
   "metadata": {
    "collapsed": false,
    "ExecuteTime": {
     "end_time": "2024-06-19T16:50:25.210189Z",
     "start_time": "2024-06-19T16:49:56.608202Z"
    }
   },
   "id": "41f8195423f0d7b8",
   "execution_count": 47
  },
  {
   "cell_type": "code",
   "outputs": [],
   "source": [],
   "metadata": {
    "collapsed": false
   },
   "id": "3064795ad11297f6"
  }
 ],
 "metadata": {
  "kernelspec": {
   "display_name": "Python 3",
   "language": "python",
   "name": "python3"
  },
  "language_info": {
   "codemirror_mode": {
    "name": "ipython",
    "version": 2
   },
   "file_extension": ".py",
   "mimetype": "text/x-python",
   "name": "python",
   "nbconvert_exporter": "python",
   "pygments_lexer": "ipython2",
   "version": "2.7.6"
  }
 },
 "nbformat": 4,
 "nbformat_minor": 5
}
