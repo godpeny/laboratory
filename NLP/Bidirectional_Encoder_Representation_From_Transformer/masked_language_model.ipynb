{
 "cells": [
  {
   "cell_type": "code",
   "execution_count": 2,
   "id": "initial_id",
   "metadata": {
    "collapsed": true,
    "ExecuteTime": {
     "end_time": "2023-12-24T00:23:17.470433Z",
     "start_time": "2023-12-24T00:23:11.954136Z"
    }
   },
   "outputs": [],
   "source": [
    "import transformers\n",
    "from transformers import AutoTokenizer, TFBertForMaskedLM, FillMaskPipeline"
   ]
  },
  {
   "cell_type": "code",
   "execution_count": 4,
   "outputs": [
    {
     "data": {
      "text/plain": "tokenizer_config.json:   0%|          | 0.00/28.0 [00:00<?, ?B/s]",
      "application/vnd.jupyter.widget-view+json": {
       "version_major": 2,
       "version_minor": 0,
       "model_id": "6b59d9fd0bf34fe29214fc8abf0304f2"
      }
     },
     "metadata": {},
     "output_type": "display_data"
    },
    {
     "data": {
      "text/plain": "config.json:   0%|          | 0.00/570 [00:00<?, ?B/s]",
      "application/vnd.jupyter.widget-view+json": {
       "version_major": 2,
       "version_minor": 0,
       "model_id": "17cd7c0060ab40a99024b635606df7cb"
      }
     },
     "metadata": {},
     "output_type": "display_data"
    },
    {
     "data": {
      "text/plain": "vocab.txt:   0%|          | 0.00/232k [00:00<?, ?B/s]",
      "application/vnd.jupyter.widget-view+json": {
       "version_major": 2,
       "version_minor": 0,
       "model_id": "4615e4d268694c4f8c46e73a57453c67"
      }
     },
     "metadata": {},
     "output_type": "display_data"
    },
    {
     "data": {
      "text/plain": "tokenizer.json:   0%|          | 0.00/466k [00:00<?, ?B/s]",
      "application/vnd.jupyter.widget-view+json": {
       "version_major": 2,
       "version_minor": 0,
       "model_id": "ea20154d65524c1f9725b30cff075544"
      }
     },
     "metadata": {},
     "output_type": "display_data"
    },
    {
     "data": {
      "text/plain": "model.safetensors:   0%|          | 0.00/440M [00:00<?, ?B/s]",
      "application/vnd.jupyter.widget-view+json": {
       "version_major": 2,
       "version_minor": 0,
       "model_id": "3e1925246dd04e078fa16a6ab7e0a0a5"
      }
     },
     "metadata": {},
     "output_type": "display_data"
    },
    {
     "name": "stderr",
     "output_type": "stream",
     "text": [
      "All PyTorch model weights were used when initializing TFBertForMaskedLM.\n",
      "\n",
      "All the weights of TFBertForMaskedLM were initialized from the PyTorch model.\n",
      "If your task is similar to the task the model of the checkpoint was trained on, you can already use TFBertForMaskedLM for predictions without further training.\n"
     ]
    }
   ],
   "source": [
    "# import Bert tokenizer and model\n",
    "tokenizer = AutoTokenizer.from_pretrained(\"bert-base-uncased\")\n",
    "model = TFBertForMaskedLM.from_pretrained(\"bert-base-uncased\")"
   ],
   "metadata": {
    "collapsed": false,
    "ExecuteTime": {
     "end_time": "2023-12-24T00:25:01.041060Z",
     "start_time": "2023-12-24T00:24:49.574877Z"
    }
   },
   "id": "6d9910ed81bba12d"
  },
  {
   "cell_type": "code",
   "execution_count": 7,
   "outputs": [
    {
     "name": "stdout",
     "output_type": "stream",
     "text": [
      "tf.Tensor([[ 101 4715 2003 1037 2428 4569  103 1012  102]], shape=(1, 9), dtype=int32)\n",
      "tf.Tensor([[0 0 0 0 0 0 0 0 0]], shape=(1, 9), dtype=int32)\n",
      "tf.Tensor([[1 1 1 1 1 1 1 1 1]], shape=(1, 9), dtype=int32)\n"
     ]
    }
   ],
   "source": [
    "inputs = tokenizer('Soccer is a really fun [MASK].', return_tensors='tf')\n",
    "\n",
    "print(inputs.input_ids)# numeric encoding of tokenized text\n",
    "print(inputs.token_type_ids)# binary mask identifying different sequences in the model\n",
    "print(inputs.attention_mask)# binary mask identifying the padded elements in the input"
   ],
   "metadata": {
    "collapsed": false,
    "ExecuteTime": {
     "end_time": "2023-12-24T00:27:03.434606Z",
     "start_time": "2023-12-24T00:27:03.432020Z"
    }
   },
   "id": "a4f4e4fbaf984f3c"
  },
  {
   "cell_type": "code",
   "execution_count": 8,
   "outputs": [
    {
     "name": "stdout",
     "output_type": "stream",
     "text": [
      "[{'score': 0.7672244906425476, 'token': 4368, 'token_str': 'sport', 'sequence': 'soccer is a really fun sport.'}, {'score': 0.16400133073329926, 'token': 2208, 'token_str': 'game', 'sequence': 'soccer is a really fun game.'}, {'score': 0.015704695135354996, 'token': 2518, 'token_str': 'thing', 'sequence': 'soccer is a really fun thing.'}, {'score': 0.007100079674273729, 'token': 2154, 'token_str': 'day', 'sequence': 'soccer is a really fun day.'}, {'score': 0.0061269705183804035, 'token': 4023, 'token_str': 'activity', 'sequence': 'soccer is a really fun activity.'}]\n"
     ]
    }
   ],
   "source": [
    "pipe = FillMaskPipeline(model, tokenizer)\n",
    "\n",
    "print(pipe('Soccer is a really fun [MASK].'))"
   ],
   "metadata": {
    "collapsed": false,
    "ExecuteTime": {
     "end_time": "2023-12-24T00:27:56.029393Z",
     "start_time": "2023-12-24T00:27:55.922855Z"
    }
   },
   "id": "8786b1c2cbcec1a6"
  },
  {
   "cell_type": "code",
   "execution_count": 9,
   "outputs": [
    {
     "name": "stdout",
     "output_type": "stream",
     "text": [
      "[{'score': 0.3044912815093994, 'token': 2147, 'token_str': 'work', 'sequence': 'i went to work this morning.'}, {'score': 0.2570076584815979, 'token': 2793, 'token_str': 'bed', 'sequence': 'i went to bed this morning.'}, {'score': 0.08158309012651443, 'token': 2082, 'token_str': 'school', 'sequence': 'i went to school this morning.'}, {'score': 0.07317700237035751, 'token': 3637, 'token_str': 'sleep', 'sequence': 'i went to sleep this morning.'}, {'score': 0.06206969916820526, 'token': 2465, 'token_str': 'class', 'sequence': 'i went to class this morning.'}]\n"
     ]
    }
   ],
   "source": [
    "print(pipe('I went to [MASK] this morning.'))"
   ],
   "metadata": {
    "collapsed": false,
    "ExecuteTime": {
     "end_time": "2023-12-24T00:28:35.734991Z",
     "start_time": "2023-12-24T00:28:35.628416Z"
    }
   },
   "id": "ee397f37a108553a"
  },
  {
   "cell_type": "markdown",
   "source": [
    "# Klue/BERT-base for Korean"
   ],
   "metadata": {
    "collapsed": false
   },
   "id": "7069971ffde70b0c"
  },
  {
   "cell_type": "code",
   "execution_count": 11,
   "outputs": [
    {
     "data": {
      "text/plain": "tokenizer_config.json:   0%|          | 0.00/289 [00:00<?, ?B/s]",
      "application/vnd.jupyter.widget-view+json": {
       "version_major": 2,
       "version_minor": 0,
       "model_id": "0650ec98a50a40bebcd7239f518198d6"
      }
     },
     "metadata": {},
     "output_type": "display_data"
    },
    {
     "data": {
      "text/plain": "config.json:   0%|          | 0.00/425 [00:00<?, ?B/s]",
      "application/vnd.jupyter.widget-view+json": {
       "version_major": 2,
       "version_minor": 0,
       "model_id": "302e0807ece34b4997bc56dbafc91c3b"
      }
     },
     "metadata": {},
     "output_type": "display_data"
    },
    {
     "data": {
      "text/plain": "vocab.txt:   0%|          | 0.00/248k [00:00<?, ?B/s]",
      "application/vnd.jupyter.widget-view+json": {
       "version_major": 2,
       "version_minor": 0,
       "model_id": "c8143293605f46c6b6ec7263aed81f8d"
      }
     },
     "metadata": {},
     "output_type": "display_data"
    },
    {
     "data": {
      "text/plain": "tokenizer.json:   0%|          | 0.00/495k [00:00<?, ?B/s]",
      "application/vnd.jupyter.widget-view+json": {
       "version_major": 2,
       "version_minor": 0,
       "model_id": "15a8a8d48f09418990a5a2ebfbb96408"
      }
     },
     "metadata": {},
     "output_type": "display_data"
    },
    {
     "data": {
      "text/plain": "special_tokens_map.json:   0%|          | 0.00/125 [00:00<?, ?B/s]",
      "application/vnd.jupyter.widget-view+json": {
       "version_major": 2,
       "version_minor": 0,
       "model_id": "f6c0e8836f5a4965ba1cc7bb734f3b86"
      }
     },
     "metadata": {},
     "output_type": "display_data"
    },
    {
     "data": {
      "text/plain": "model.safetensors:   0%|          | 0.00/445M [00:00<?, ?B/s]",
      "application/vnd.jupyter.widget-view+json": {
       "version_major": 2,
       "version_minor": 0,
       "model_id": "99acfd45185d4414be3ccbf5a28889c2"
      }
     },
     "metadata": {},
     "output_type": "display_data"
    },
    {
     "name": "stderr",
     "output_type": "stream",
     "text": [
      "Some weights of the PyTorch model were not used when initializing the TF 2.0 model TFBertForMaskedLM: ['bert.embeddings.position_ids']\n",
      "- This IS expected if you are initializing TFBertForMaskedLM from a PyTorch model trained on another task or with another architecture (e.g. initializing a TFBertForSequenceClassification model from a BertForPreTraining model).\n",
      "- This IS NOT expected if you are initializing TFBertForMaskedLM from a PyTorch model that you expect to be exactly identical (e.g. initializing a TFBertForSequenceClassification model from a BertForSequenceClassification model).\n",
      "All the weights of TFBertForMaskedLM were initialized from the PyTorch model.\n",
      "If your task is similar to the task the model of the checkpoint was trained on, you can already use TFBertForMaskedLM for predictions without further training.\n"
     ]
    }
   ],
   "source": [
    "tokenizer_k = AutoTokenizer.from_pretrained(\"klue/bert-base\")\n",
    "model_k = TFBertForMaskedLM.from_pretrained(\"klue/bert-base\")"
   ],
   "metadata": {
    "collapsed": false,
    "ExecuteTime": {
     "end_time": "2023-12-24T00:32:38.886692Z",
     "start_time": "2023-12-24T00:32:25.151892Z"
    }
   },
   "id": "17aa9365d101a17c"
  },
  {
   "cell_type": "code",
   "execution_count": 13,
   "outputs": [
    {
     "name": "stdout",
     "output_type": "stream",
     "text": [
      "tf.Tensor([[   2 4713 2259 3944 7478 2259    4 3714   18    3]], shape=(1, 10), dtype=int32)\n",
      "tf.Tensor([[0 0 0 0 0 0 0 0 0 0]], shape=(1, 10), dtype=int32)\n",
      "tf.Tensor([[1 1 1 1 1 1 1 1 1 1]], shape=(1, 10), dtype=int32)\n"
     ]
    }
   ],
   "source": [
    "inputs_k = tokenizer_k('축구는 정말 재밌는 [MASK]입니다.', return_tensors='tf')\n",
    "\n",
    "print(inputs_k.input_ids)# numeric encoding of tokenized text\n",
    "print(inputs_k.token_type_ids)# binary mask identifying different sequences in the model\n",
    "print(inputs_k.attention_mask)# binary mask identifying the padded elements in the input"
   ],
   "metadata": {
    "collapsed": false,
    "ExecuteTime": {
     "end_time": "2023-12-24T00:33:07.584706Z",
     "start_time": "2023-12-24T00:33:07.548888Z"
    }
   },
   "id": "818edf4d59f14066"
  },
  {
   "cell_type": "code",
   "execution_count": 15,
   "outputs": [
    {
     "name": "stdout",
     "output_type": "stream",
     "text": [
      "[{'score': 0.7974652051925659, 'token': 4559, 'token_str': '스포츠', 'sequence': '축구는 정말 재밌는 스포츠 입니다.'}, {'score': 0.05449341982603073, 'token': 4171, 'token_str': '게임', 'sequence': '축구는 정말 재밌는 게임 입니다.'}, {'score': 0.04056255519390106, 'token': 5260, 'token_str': '종목', 'sequence': '축구는 정말 재밌는 종목 입니다.'}, {'score': 0.01781545951962471, 'token': 3682, 'token_str': '경기', 'sequence': '축구는 정말 재밌는 경기 입니다.'}, {'score': 0.013921468518674374, 'token': 575, 'token_str': '것', 'sequence': '축구는 정말 재밌는 것 입니다.'}]\n"
     ]
    }
   ],
   "source": [
    "pipe_k = FillMaskPipeline(model_k, tokenizer_k)\n",
    "\n",
    "print(pipe_k('축구는 정말 재밌는 [MASK]입니다.'))"
   ],
   "metadata": {
    "collapsed": false,
    "ExecuteTime": {
     "end_time": "2023-12-24T00:34:03.082968Z",
     "start_time": "2023-12-24T00:34:02.973445Z"
    }
   },
   "id": "a4d89843e79c96f5"
  },
  {
   "cell_type": "code",
   "execution_count": 16,
   "outputs": [
    {
     "name": "stdout",
     "output_type": "stream",
     "text": [
      "[{'score': 0.023367268964648247, 'token': 3671, 'token_str': '서울', 'sequence': '오늘 아침에 서울 에 갔습니다.'}, {'score': 0.014852304011583328, 'token': 3693, 'token_str': '중국', 'sequence': '오늘 아침에 중국 에 갔습니다.'}, {'score': 0.014125668443739414, 'token': 3902, 'token_str': '부산', 'sequence': '오늘 아침에 부산 에 갔습니다.'}, {'score': 0.01313132792711258, 'token': 3900, 'token_str': '대구', 'sequence': '오늘 아침에 대구 에 갔습니다.'}, {'score': 0.012712078168988228, 'token': 3708, 'token_str': '일본', 'sequence': '오늘 아침에 일본 에 갔습니다.'}]\n"
     ]
    }
   ],
   "source": [
    "print(pipe_k('오늘 아침에 [MASK]에 갔습니다.'))"
   ],
   "metadata": {
    "collapsed": false,
    "ExecuteTime": {
     "end_time": "2023-12-24T00:34:05.804700Z",
     "start_time": "2023-12-24T00:34:05.681777Z"
    }
   },
   "id": "70470caa9f95fccb"
  }
 ],
 "metadata": {
  "kernelspec": {
   "display_name": "Python 3",
   "language": "python",
   "name": "python3"
  },
  "language_info": {
   "codemirror_mode": {
    "name": "ipython",
    "version": 2
   },
   "file_extension": ".py",
   "mimetype": "text/x-python",
   "name": "python",
   "nbconvert_exporter": "python",
   "pygments_lexer": "ipython2",
   "version": "2.7.6"
  }
 },
 "nbformat": 4,
 "nbformat_minor": 5
}
