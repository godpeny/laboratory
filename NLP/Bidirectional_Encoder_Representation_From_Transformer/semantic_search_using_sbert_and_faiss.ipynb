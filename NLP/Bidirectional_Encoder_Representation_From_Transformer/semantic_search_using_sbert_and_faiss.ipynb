{
 "cells": [
  {
   "cell_type": "markdown",
   "source": [
    "# Faiss\n",
    "## https://github.com/facebookresearch/faiss\n",
    " - A library for efficient similarity search and clustering of dense vectors."
   ],
   "metadata": {
    "collapsed": false
   },
   "id": "6b0d01098843f8ce"
  },
  {
   "cell_type": "code",
   "execution_count": 1,
   "outputs": [],
   "source": [
    "import numpy as np\n",
    "import os\n",
    "import pandas as pd\n",
    "import urllib.request\n",
    "import faiss\n",
    "import time\n",
    "from sentence_transformers import SentenceTransformer"
   ],
   "metadata": {
    "collapsed": false,
    "ExecuteTime": {
     "start_time": "2023-12-28T11:53:15.934933Z"
    }
   },
   "id": "initial_id"
  },
  {
   "cell_type": "code",
   "execution_count": 4,
   "outputs": [
    {
     "name": "stdout",
     "output_type": "stream",
     "text": [
      "1082168\n",
      "   publish_date                                      headline_text\n",
      "0      20030219  aba decides against community broadcasting lic...\n",
      "1      20030219     act fire witnesses must be aware of defamation\n",
      "2      20030219     a g calls for infrastructure protection summit\n",
      "3      20030219           air nz staff in aust strike for pay rise\n",
      "4      20030219      air nz strike to affect australian travellers\n"
     ]
    }
   ],
   "source": [
    "data_path = \"../data/\"\n",
    "urllib.request.urlretrieve(\"https://raw.githubusercontent.com/ukairia777/tensorflow-nlp-tutorial/main/19.%20Topic%20Modeling%20(LDA%2C%20BERT-Based)/dataset/abcnews-date-text.csv\", filename=data_path+\"abcnews-date-text.csv\")\n",
    "\n",
    "df = pd.read_csv(data_path+\"abcnews-date-text.csv\")\n",
    "print(len(df))\n",
    "print(df.head(5))"
   ],
   "metadata": {
    "collapsed": false,
    "ExecuteTime": {
     "end_time": "2023-12-28T11:56:22.169901Z",
     "start_time": "2023-12-28T11:56:17.451611Z"
    }
   },
   "id": "9bf1dbaf1cba5d7a"
  },
  {
   "cell_type": "code",
   "execution_count": 13,
   "outputs": [],
   "source": [
    "data = df['headline_text'].values.tolist()[:10000] # use only 10,000 data"
   ],
   "metadata": {
    "collapsed": false,
    "ExecuteTime": {
     "end_time": "2023-12-28T12:08:59.684139Z",
     "start_time": "2023-12-28T12:08:59.676550Z"
    }
   },
   "id": "e501aa96dfd0e3bd"
  },
  {
   "cell_type": "markdown",
   "source": [
    "# Tokenizing"
   ],
   "metadata": {
    "collapsed": false
   },
   "id": "c50c8456d0f53c30"
  },
  {
   "cell_type": "code",
   "execution_count": 14,
   "outputs": [
    {
     "name": "stdout",
     "output_type": "stream",
     "text": [
      "(10000, 768)\n",
      "10000\n"
     ]
    }
   ],
   "source": [
    "model = SentenceTransformer('distilbert-base-nli-mean-tokens')\n",
    "encoded = model.encode(data)\n",
    "print(encoded.shape)\n",
    "print(len(encoded))"
   ],
   "metadata": {
    "collapsed": false,
    "ExecuteTime": {
     "end_time": "2023-12-28T12:09:20.868472Z",
     "start_time": "2023-12-28T12:09:01.206654Z"
    }
   },
   "id": "72f533b46684d566"
  },
  {
   "cell_type": "markdown",
   "source": [
    "# Faiss Indexing"
   ],
   "metadata": {
    "collapsed": false
   },
   "id": "2fa692e60df8bb67"
  },
  {
   "cell_type": "code",
   "execution_count": 26,
   "outputs": [],
   "source": [
    "model_path = '../model/'\n",
    "index = faiss.IndexIDMap(faiss.IndexFlatIP(encoded.shape[-1])) # encoded.shape[-1] = 768\n",
    "index.add_with_ids(encoded, np.array(range(0, len(encoded))))\n",
    "faiss.write_index(index, model_path+\"abc_news_index_faiss\")"
   ],
   "metadata": {
    "collapsed": false,
    "ExecuteTime": {
     "end_time": "2023-12-28T12:18:35.182990Z",
     "start_time": "2023-12-28T12:18:35.167539Z"
    }
   },
   "id": "b06dc00c3f5195f8"
  },
  {
   "cell_type": "markdown",
   "source": [
    "# Querying"
   ],
   "metadata": {
    "collapsed": false
   },
   "id": "efa21b25001dfda8"
  },
  {
   "cell_type": "code",
   "execution_count": 23,
   "outputs": [],
   "source": [
    "def search(query):\n",
    "    t = time.time()\n",
    "    query_vector = model.encode([query])\n",
    "    k = 5\n",
    "    top_k = index.search(query_vector, k)\n",
    "    print('total time: {}'.format(time.time() - t))\n",
    "    return [data[_id] for _id in top_k[1].tolist()[0]]"
   ],
   "metadata": {
    "collapsed": false,
    "ExecuteTime": {
     "end_time": "2023-12-28T12:15:19.217193Z",
     "start_time": "2023-12-28T12:15:19.215196Z"
    }
   },
   "id": "60c32478433577f3"
  },
  {
   "cell_type": "code",
   "execution_count": 24,
   "outputs": [
    {
     "name": "stdout",
     "output_type": "stream",
     "text": [
      "total time: 0.04181694984436035\n",
      "results :\n",
      "\t portland centre moves closer to underwater display\n",
      "\t scud powers through in miami\n",
      "\t moya moves into miami quarters\n",
      "\t boy drowns on hinterland property\n",
      "\t tourist drowns on reef\n"
     ]
    }
   ],
   "source": [
    "query = str(input())\n",
    "results = search(query)\n",
    "\n",
    "print('results :')\n",
    "for result in results:\n",
    "    print('\\t', result)\n"
   ],
   "metadata": {
    "collapsed": false,
    "ExecuteTime": {
     "end_time": "2023-12-28T12:15:20.973516Z",
     "start_time": "2023-12-28T12:15:19.870412Z"
    }
   },
   "id": "bc23b7699b98699e"
  },
  {
   "cell_type": "code",
   "execution_count": null,
   "outputs": [],
   "source": [],
   "metadata": {
    "collapsed": false
   },
   "id": "82942e80b0101bab"
  }
 ],
 "metadata": {
  "kernelspec": {
   "display_name": "Python 3",
   "language": "python",
   "name": "python3"
  },
  "language_info": {
   "codemirror_mode": {
    "name": "ipython",
    "version": 2
   },
   "file_extension": ".py",
   "mimetype": "text/x-python",
   "name": "python",
   "nbconvert_exporter": "python",
   "pygments_lexer": "ipython2",
   "version": "2.7.6"
  }
 },
 "nbformat": 4,
 "nbformat_minor": 5
}
