{
 "cells": [
  {
   "cell_type": "markdown",
   "source": [
    "# Using same data preprocessing and tokenizing as \"span_detecion\" in \"Recurrent_Neural_Network_Text_Classification\""
   ],
   "metadata": {
    "collapsed": false
   },
   "id": "6862e1f7b7c48fb3"
  },
  {
   "cell_type": "code",
   "execution_count": 1,
   "outputs": [],
   "source": [
    "import numpy as np\n",
    "import pandas as pd\n",
    "\n",
    "import matplotlib.pyplot as plt\n",
    "\n",
    "import keras\n",
    "from keras.preprocessing.text import Tokenizer\n",
    "from keras.preprocessing.sequence import pad_sequences\n",
    "\n",
    "from sklearn.model_selection import train_test_split"
   ],
   "metadata": {
    "collapsed": false,
    "ExecuteTime": {
     "end_time": "2023-11-18T02:32:48.814945Z",
     "start_time": "2023-11-18T02:32:45.894899Z"
    }
   },
   "id": "initial_id"
  },
  {
   "cell_type": "markdown",
   "source": [
    "# Data Preprocessing"
   ],
   "metadata": {
    "collapsed": false
   },
   "id": "456d05228df2b0a"
  },
  {
   "cell_type": "code",
   "execution_count": 2,
   "outputs": [
    {
     "data": {
      "text/plain": "     v1                                                 v2 Unnamed: 2  \\\n0   ham  Go until jurong point, crazy.. Available only ...        NaN   \n1   ham                      Ok lar... Joking wif u oni...        NaN   \n2  spam  Free entry in 2 a wkly comp to win FA Cup fina...        NaN   \n\n  Unnamed: 3 Unnamed: 4  \n0        NaN        NaN  \n1        NaN        NaN  \n2        NaN        NaN  ",
      "text/html": "<div>\n<style scoped>\n    .dataframe tbody tr th:only-of-type {\n        vertical-align: middle;\n    }\n\n    .dataframe tbody tr th {\n        vertical-align: top;\n    }\n\n    .dataframe thead th {\n        text-align: right;\n    }\n</style>\n<table border=\"1\" class=\"dataframe\">\n  <thead>\n    <tr style=\"text-align: right;\">\n      <th></th>\n      <th>v1</th>\n      <th>v2</th>\n      <th>Unnamed: 2</th>\n      <th>Unnamed: 3</th>\n      <th>Unnamed: 4</th>\n    </tr>\n  </thead>\n  <tbody>\n    <tr>\n      <th>0</th>\n      <td>ham</td>\n      <td>Go until jurong point, crazy.. Available only ...</td>\n      <td>NaN</td>\n      <td>NaN</td>\n      <td>NaN</td>\n    </tr>\n    <tr>\n      <th>1</th>\n      <td>ham</td>\n      <td>Ok lar... Joking wif u oni...</td>\n      <td>NaN</td>\n      <td>NaN</td>\n      <td>NaN</td>\n    </tr>\n    <tr>\n      <th>2</th>\n      <td>spam</td>\n      <td>Free entry in 2 a wkly comp to win FA Cup fina...</td>\n      <td>NaN</td>\n      <td>NaN</td>\n      <td>NaN</td>\n    </tr>\n  </tbody>\n</table>\n</div>"
     },
     "execution_count": 2,
     "metadata": {},
     "output_type": "execute_result"
    }
   ],
   "source": [
    "data_path = '../data/'\n",
    "df = pd.read_csv(data_path + 'spam.csv', encoding='latin-1')\n",
    "df.head(3)"
   ],
   "metadata": {
    "collapsed": false,
    "ExecuteTime": {
     "end_time": "2023-11-18T02:32:50.959780Z",
     "start_time": "2023-11-18T02:32:50.928955Z"
    }
   },
   "id": "45e8e40c3c9672f2"
  },
  {
   "cell_type": "code",
   "execution_count": 3,
   "outputs": [
    {
     "data": {
      "text/plain": "   v1                                                 v2\n0   0  Go until jurong point, crazy.. Available only ...\n1   0                      Ok lar... Joking wif u oni...\n2   1  Free entry in 2 a wkly comp to win FA Cup fina...",
      "text/html": "<div>\n<style scoped>\n    .dataframe tbody tr th:only-of-type {\n        vertical-align: middle;\n    }\n\n    .dataframe tbody tr th {\n        vertical-align: top;\n    }\n\n    .dataframe thead th {\n        text-align: right;\n    }\n</style>\n<table border=\"1\" class=\"dataframe\">\n  <thead>\n    <tr style=\"text-align: right;\">\n      <th></th>\n      <th>v1</th>\n      <th>v2</th>\n    </tr>\n  </thead>\n  <tbody>\n    <tr>\n      <th>0</th>\n      <td>0</td>\n      <td>Go until jurong point, crazy.. Available only ...</td>\n    </tr>\n    <tr>\n      <th>1</th>\n      <td>0</td>\n      <td>Ok lar... Joking wif u oni...</td>\n    </tr>\n    <tr>\n      <th>2</th>\n      <td>1</td>\n      <td>Free entry in 2 a wkly comp to win FA Cup fina...</td>\n    </tr>\n  </tbody>\n</table>\n</div>"
     },
     "execution_count": 3,
     "metadata": {},
     "output_type": "execute_result"
    }
   ],
   "source": [
    "# remove unnecessary columns\n",
    "del df['Unnamed: 2']\n",
    "del df['Unnamed: 3']\n",
    "del df['Unnamed: 4']\n",
    "# ham: 0, spam: 1\n",
    "df[\"v1\"] = df[\"v1\"].replace(to_replace=['ham', 'spam'], value=[0, 1]) \n",
    "\n",
    "df.head(3)"
   ],
   "metadata": {
    "collapsed": false,
    "ExecuteTime": {
     "end_time": "2023-11-18T02:32:51.877650Z",
     "start_time": "2023-11-18T02:32:51.872259Z"
    }
   },
   "id": "fbce66f04e7de027"
  },
  {
   "cell_type": "code",
   "execution_count": 4,
   "outputs": [
    {
     "name": "stdout",
     "output_type": "stream",
     "text": [
      "False\n",
      "True\n",
      "False\n"
     ]
    }
   ],
   "source": [
    "print(df.isnull().values.any()) # False : no null values\n",
    "print(len(df['v2']) != df['v2'].nunique()) # True : there are duplicates\n",
    "\n",
    "# drop duplicate\n",
    "df.drop_duplicates(subset=['v2'], inplace=True)\n",
    "print(len(df['v2']) != df['v2'].nunique()) # False : no duplicates"
   ],
   "metadata": {
    "collapsed": false,
    "ExecuteTime": {
     "end_time": "2023-11-18T02:32:52.600659Z",
     "start_time": "2023-11-18T02:32:52.593696Z"
    }
   },
   "id": "4f7853302a37d985"
  },
  {
   "cell_type": "code",
   "execution_count": 5,
   "outputs": [
    {
     "name": "stdout",
     "output_type": "stream",
     "text": [
      "5169\n",
      "4516\n",
      "653\n",
      "6.915773353751915\n"
     ]
    },
    {
     "data": {
      "text/plain": "<Figure size 640x480 with 1 Axes>",
      "image/png": "[encoded data removed]"
     },
     "metadata": {},
     "output_type": "display_data"
    }
   ],
   "source": [
    "df['v1'].value_counts().plot(kind='bar')\n",
    "print(len(df['v1']))\n",
    "print(df['v1'].value_counts()[0])\n",
    "print(df['v1'].value_counts()[1])\n",
    "print(df['v1'].value_counts()[0] / df['v1'].value_counts()[1])"
   ],
   "metadata": {
    "collapsed": false,
    "ExecuteTime": {
     "end_time": "2023-11-18T02:32:53.253505Z",
     "start_time": "2023-11-18T02:32:53.132026Z"
    }
   },
   "id": "67933d3e36e249d6"
  },
  {
   "cell_type": "code",
   "execution_count": 6,
   "outputs": [
    {
     "name": "stdout",
     "output_type": "stream",
     "text": [
      "6.921455938697318\n",
      "6.893129770992366\n"
     ]
    }
   ],
   "source": [
    "X_train = df['v2']\n",
    "y_train = df['v1']\n",
    "# random_state: seed, stratify: same ratio of y_train\n",
    "X_train, X_test, y_train, y_test = train_test_split(X_train, y_train, test_size=0.2, random_state=777, stratify=y_train) \n",
    "\n",
    "print(y_train.value_counts()[0] / y_train.value_counts()[1])\n",
    "print(y_test.value_counts()[0] / y_test.value_counts()[1])"
   ],
   "metadata": {
    "collapsed": false,
    "ExecuteTime": {
     "end_time": "2023-11-18T02:32:53.969558Z",
     "start_time": "2023-11-18T02:32:53.963477Z"
    }
   },
   "id": "2f253ca6ba8d0b8f"
  },
  {
   "cell_type": "markdown",
   "source": [
    "# Tokenizing"
   ],
   "metadata": {
    "collapsed": false
   },
   "id": "9e2717d74eaacab1"
  },
  {
   "cell_type": "code",
   "execution_count": 7,
   "outputs": [
    {
     "name": "stdout",
     "output_type": "stream",
     "text": [
      "5\n",
      "[[57, 553, 17, 40, 3482, 2361, 70, 11, 441, 1310, 1, 120, 40, 3483, 3, 153, 7, 647, 11, 2362, 1, 89, 15, 3, 7, 72, 4, 1311, 389, 44, 941, 5, 746, 3484, 3485, 15, 3486, 3487, 3, 3488, 2363], [166, 119, 22, 161, 245, 792], [10, 109, 368, 1, 942, 2, 648, 3, 113, 1, 1513, 3, 34, 98, 57, 195, 15, 10], [150, 38, 1312, 246, 12, 131, 522, 29, 793, 342, 46, 943], [39, 23, 38, 697, 4, 2364, 1830, 584, 2, 207, 127, 3489, 17, 128, 82, 22, 27, 1, 18, 8]]\n"
     ]
    }
   ],
   "source": [
    "tokenizer = Tokenizer()\n",
    "tokenizer.fit_on_texts(X_train) # mapping word to index on frequency order\n",
    "X_train_encoded = tokenizer.texts_to_sequences(X_train) # convert X_train data to index\n",
    "X_test_encoded = tokenizer.texts_to_sequences(X_test)\n",
    "\n",
    "print(tokenizer.word_index['the'])\n",
    "print(X_train_encoded[:5])"
   ],
   "metadata": {
    "collapsed": false,
    "ExecuteTime": {
     "end_time": "2023-11-18T02:32:55.517865Z",
     "start_time": "2023-11-18T02:32:55.486121Z"
    }
   },
   "id": "58558ba8ca0082f8"
  },
  {
   "cell_type": "code",
   "execution_count": 8,
   "outputs": [
    {
     "name": "stdout",
     "output_type": "stream",
     "text": [
      "total word: 7842\n",
      "total freq: 64325\n",
      "rare word: 4361\n",
      "rare word freq: 4361\n",
      "rare word ratio: 0.5561081356796735\n",
      "rare word freq ratio: 0.0677963466770307\n"
     ]
    }
   ],
   "source": [
    "# analyze tokenized data\n",
    "total_word = len(tokenizer.word_index)\n",
    "total_freq = 0\n",
    "threshold = 2 # choose words that appear more than 2 times\n",
    "\n",
    "rare_word = 0\n",
    "rare_word_freq = 0\n",
    "\n",
    "for k, f in tokenizer.word_counts.items():\n",
    "    total_freq += f\n",
    "    \n",
    "    if f < threshold:\n",
    "        rare_word += 1\n",
    "        rare_word_freq += f\n",
    "        \n",
    "print('total word:', total_word)\n",
    "print('total freq:', total_freq)\n",
    "print('rare word:', rare_word)\n",
    "print('rare word freq:', rare_word_freq)\n",
    "print('rare word ratio:', rare_word / total_word)\n",
    "print('rare word freq ratio:', rare_word_freq / total_freq)"
   ],
   "metadata": {
    "collapsed": false,
    "ExecuteTime": {
     "end_time": "2023-11-18T02:32:56.033228Z",
     "start_time": "2023-11-18T02:32:56.028961Z"
    }
   },
   "id": "5e0b2c5ad33a4752"
  },
  {
   "cell_type": "code",
   "execution_count": 9,
   "outputs": [
    {
     "name": "stdout",
     "output_type": "stream",
     "text": [
      "vocab size: 7843\n",
      "max X_train len: 162\n",
      "max X_test len: 183\n",
      "max X len: 183\n",
      "avg X_train len: 15.556227327690447\n"
     ]
    },
    {
     "data": {
      "text/plain": "(array([ 92., 696., 809., 522., 471., 282., 218., 260., 386., 180., 100.,\n         29.,  25.,   9.,   8.,   8.,   9.,   5.,   2.,   4.,   1.,   5.,\n          1.,   3.,   0.,   2.,   0.,   3.,   0.,   0.,   2.,   0.,   0.,\n          0.,   0.,   1.,   0.,   1.,   0.,   0.,   0.,   0.,   0.,   0.,\n          0.,   0.,   0.,   0.,   0.,   1.]),\n array([  0.  ,   3.24,   6.48,   9.72,  12.96,  16.2 ,  19.44,  22.68,\n         25.92,  29.16,  32.4 ,  35.64,  38.88,  42.12,  45.36,  48.6 ,\n         51.84,  55.08,  58.32,  61.56,  64.8 ,  68.04,  71.28,  74.52,\n         77.76,  81.  ,  84.24,  87.48,  90.72,  93.96,  97.2 , 100.44,\n        103.68, 106.92, 110.16, 113.4 , 116.64, 119.88, 123.12, 126.36,\n        129.6 , 132.84, 136.08, 139.32, 142.56, 145.8 , 149.04, 152.28,\n        155.52, 158.76, 162.  ]),\n <BarContainer object of 50 artists>)"
     },
     "execution_count": 9,
     "metadata": {},
     "output_type": "execute_result"
    },
    {
     "data": {
      "text/plain": "<Figure size 640x480 with 1 Axes>",
      "image/png": "[encoded data removed]"
     },
     "metadata": {},
     "output_type": "display_data"
    }
   ],
   "source": [
    "vocab_size = len(tokenizer.word_index) + 1 # +1 for padding\n",
    "\n",
    "max_X_train_len = max(len(d) for d in X_train_encoded)\n",
    "max_X_test_len = max(len(d) for d in X_test_encoded)\n",
    "max_X_len = max(max_X_train_len, max_X_test_len)\n",
    "avg_X_train_len = sum(map(len, X_train_encoded)) / len(X_train_encoded)\n",
    "\n",
    "print('vocab size:', vocab_size)\n",
    "print('max X_train len:', max_X_train_len)\n",
    "print('max X_test len:', max_X_test_len)\n",
    "print('max X len:', max_X_len)\n",
    "print('avg X_train len:', avg_X_train_len)\n",
    "\n",
    "plt.hist([len(d) for d in X_train_encoded], bins=50)"
   ],
   "metadata": {
    "collapsed": false,
    "ExecuteTime": {
     "end_time": "2023-11-18T02:32:56.818700Z",
     "start_time": "2023-11-18T02:32:56.666140Z"
    }
   },
   "id": "9717497a838c4241"
  },
  {
   "cell_type": "code",
   "execution_count": 10,
   "outputs": [
    {
     "name": "stdout",
     "output_type": "stream",
     "text": [
      "(4135, 183)\n",
      "(1034, 183)\n"
     ]
    }
   ],
   "source": [
    "# padding \n",
    "X_train_encoded_padded = pad_sequences(X_train_encoded, maxlen=max_X_len)\n",
    "X_test_encoded_padded = pad_sequences(X_test_encoded, maxlen=max_X_len)\n",
    "print(X_train_encoded_padded.shape)\n",
    "print(X_test_encoded_padded.shape)"
   ],
   "metadata": {
    "collapsed": false,
    "ExecuteTime": {
     "end_time": "2023-11-18T02:32:58.528269Z",
     "start_time": "2023-11-18T02:32:58.515707Z"
    }
   },
   "id": "83f318602dbe4906"
  },
  {
   "cell_type": "markdown",
   "source": [
    "# Modeling"
   ],
   "metadata": {
    "collapsed": false
   },
   "id": "b753f2c630714f58"
  },
  {
   "cell_type": "code",
   "execution_count": 12,
   "outputs": [],
   "source": [
    "from keras.layers import Dense, Conv1D, GlobalMaxPooling1D, Embedding, Dropout, MaxPooling1D\n",
    "from keras.models import Sequential\n",
    "from keras.callbacks import EarlyStopping, ModelCheckpoint"
   ],
   "metadata": {
    "collapsed": false,
    "ExecuteTime": {
     "end_time": "2023-11-18T02:38:14.688806Z",
     "start_time": "2023-11-18T02:38:14.673593Z"
    }
   },
   "id": "565e8c829cc0e345"
  },
  {
   "cell_type": "code",
   "execution_count": 13,
   "outputs": [
    {
     "name": "stdout",
     "output_type": "stream",
     "text": [
      "Model: \"sequential\"\n",
      "_________________________________________________________________\n",
      " Layer (type)                Output Shape              Param #   \n",
      "=================================================================\n",
      " embedding (Embedding)       (None, None, 32)          250976    \n",
      "                                                                 \n",
      " dropout (Dropout)           (None, None, 32)          0         \n",
      "                                                                 \n",
      " conv1d (Conv1D)             (None, None, 32)          5152      \n",
      "                                                                 \n",
      " global_max_pooling1d (Glob  (None, 32)                0         \n",
      " alMaxPooling1D)                                                 \n",
      "                                                                 \n",
      " dropout_1 (Dropout)         (None, 32)                0         \n",
      "                                                                 \n",
      " dense (Dense)               (None, 1)                 33        \n",
      "                                                                 \n",
      "=================================================================\n",
      "Total params: 256161 (1000.63 KB)\n",
      "Trainable params: 256161 (1000.63 KB)\n",
      "Non-trainable params: 0 (0.00 Byte)\n",
      "_________________________________________________________________\n"
     ]
    }
   ],
   "source": [
    "# hyperparameters\n",
    "embedding_dim = 32\n",
    "dropout_ratio = 0.3\n",
    "num_filters = 32\n",
    "kernel_size = 5\n",
    "\n",
    "model = Sequential()\n",
    "model.add(Embedding(input_dim=vocab_size, output_dim=embedding_dim))\n",
    "model.add(Dropout(dropout_ratio))\n",
    "model.add(Conv1D(filters=num_filters, kernel_size=kernel_size, activation='relu'))\n",
    "model.add(GlobalMaxPooling1D())\n",
    "model.add(Dropout(dropout_ratio))\n",
    "model.add(Dense(1, activation='sigmoid'))\n",
    "model.summary()"
   ],
   "metadata": {
    "collapsed": false,
    "ExecuteTime": {
     "end_time": "2023-11-18T02:39:53.261195Z",
     "start_time": "2023-11-18T02:39:53.209066Z"
    }
   },
   "id": "a79ed362bf2f6ffb"
  },
  {
   "cell_type": "code",
   "execution_count": 15,
   "outputs": [
    {
     "name": "stdout",
     "output_type": "stream",
     "text": [
      "Epoch 1/10\n",
      "48/52 [==========================>...] - ETA: 0s - loss: 0.5002 - acc: 0.8210\n",
      "Epoch 1: val_acc improved from -inf to 0.86941, saving model to ../model/spam_detection_cnn.h5\n",
      "52/52 [==============================] - 1s 6ms/step - loss: 0.4900 - acc: 0.8256 - val_loss: 0.3792 - val_acc: 0.8694\n",
      "Epoch 2/10\n",
      "34/52 [==================>...........] - ETA: 0s - loss: 0.3655 - acc: 0.8736"
     ]
    },
    {
     "name": "stderr",
     "output_type": "stream",
     "text": [
      "/Users/godpeny/Code/venv/laboratory/lib/python3.11/site-packages/keras/src/engine/training.py:3079: UserWarning: You are saving your model as an HDF5 file via `model.save()`. This file format is considered legacy. We recommend using instead the native Keras format, e.g. `model.save('my_model.keras')`.\n",
      "  saving_api.save_model(\n"
     ]
    },
    {
     "name": "stdout",
     "output_type": "stream",
     "text": [
      "45/52 [========================>.....] - ETA: 0s - loss: 0.3623 - acc: 0.8726\n",
      "Epoch 2: val_acc did not improve from 0.86941\n",
      "52/52 [==============================] - 0s 5ms/step - loss: 0.3554 - acc: 0.8748 - val_loss: 0.3431 - val_acc: 0.8694\n",
      "Epoch 3/10\n",
      "45/52 [========================>.....] - ETA: 0s - loss: 0.2676 - acc: 0.8944\n",
      "Epoch 3: val_acc improved from 0.86941 to 0.95647, saving model to ../model/spam_detection_cnn.h5\n",
      "52/52 [==============================] - 0s 5ms/step - loss: 0.2649 - acc: 0.8939 - val_loss: 0.2080 - val_acc: 0.9565\n",
      "Epoch 4/10\n",
      "44/52 [========================>.....] - ETA: 0s - loss: 0.1457 - acc: 0.9545\n",
      "Epoch 4: val_acc improved from 0.95647 to 0.97823, saving model to ../model/spam_detection_cnn.h5\n",
      "52/52 [==============================] - 0s 6ms/step - loss: 0.1383 - acc: 0.9568 - val_loss: 0.1177 - val_acc: 0.9782\n",
      "Epoch 5/10\n",
      "51/52 [============================>.] - ETA: 0s - loss: 0.0766 - acc: 0.9798\n",
      "Epoch 5: val_acc improved from 0.97823 to 0.97944, saving model to ../model/spam_detection_cnn.h5\n",
      "52/52 [==============================] - 0s 6ms/step - loss: 0.0760 - acc: 0.9800 - val_loss: 0.0834 - val_acc: 0.9794\n",
      "Epoch 6/10\n",
      "51/52 [============================>.] - ETA: 0s - loss: 0.0521 - acc: 0.9844\n",
      "Epoch 6: val_acc improved from 0.97944 to 0.98065, saving model to ../model/spam_detection_cnn.h5\n",
      "52/52 [==============================] - 0s 6ms/step - loss: 0.0517 - acc: 0.9846 - val_loss: 0.0768 - val_acc: 0.9807\n",
      "Epoch 7/10\n",
      "51/52 [============================>.] - ETA: 0s - loss: 0.0384 - acc: 0.9899\n",
      "Epoch 7: val_acc did not improve from 0.98065\n",
      "52/52 [==============================] - 0s 6ms/step - loss: 0.0392 - acc: 0.9894 - val_loss: 0.0751 - val_acc: 0.9794\n",
      "Epoch 8/10\n",
      "49/52 [===========================>..] - ETA: 0s - loss: 0.0321 - acc: 0.9914\n",
      "Epoch 8: val_acc did not improve from 0.98065\n",
      "52/52 [==============================] - 0s 6ms/step - loss: 0.0323 - acc: 0.9915 - val_loss: 0.0744 - val_acc: 0.9807\n",
      "Epoch 9/10\n",
      "43/52 [=======================>......] - ETA: 0s - loss: 0.0221 - acc: 0.9953\n",
      "Epoch 9: val_acc did not improve from 0.98065\n",
      "52/52 [==============================] - 0s 5ms/step - loss: 0.0210 - acc: 0.9955 - val_loss: 0.0754 - val_acc: 0.9807\n",
      "Epoch 10/10\n",
      "45/52 [========================>.....] - ETA: 0s - loss: 0.0213 - acc: 0.9955\n",
      "Epoch 10: val_acc did not improve from 0.98065\n",
      "52/52 [==============================] - 0s 5ms/step - loss: 0.0206 - acc: 0.9958 - val_loss: 0.0748 - val_acc: 0.9807\n"
     ]
    }
   ],
   "source": [
    "model_path = '../model/'\n",
    "es = EarlyStopping(monitor='val_loss', mode='min', verbose=1, patience=3)\n",
    "mc = ModelCheckpoint(filepath=model_path+'spam_detection_cnn.h5', monitor='val_acc', mode='max', verbose=1, save_best_only=True)\n",
    "\n",
    "model.compile(optimizer='adam', loss='binary_crossentropy', metrics=['acc'])\n",
    "history = model.fit(X_train_encoded_padded, y_train, epochs=10, batch_size=64, validation_split=0.2, callbacks=[es, mc])"
   ],
   "metadata": {
    "collapsed": false,
    "ExecuteTime": {
     "end_time": "2023-11-18T02:42:08.475843Z",
     "start_time": "2023-11-18T02:42:05.281766Z"
    }
   },
   "id": "7ba51603b1a7006a"
  },
  {
   "cell_type": "code",
   "execution_count": 16,
   "outputs": [
    {
     "name": "stdout",
     "output_type": "stream",
     "text": [
      "33/33 [==============================] - 0s 1ms/step - loss: 0.0578 - acc: 0.9855\n"
     ]
    },
    {
     "data": {
      "text/plain": "0.9854932427406311"
     },
     "execution_count": 16,
     "metadata": {},
     "output_type": "execute_result"
    }
   ],
   "source": [
    "model.evaluate(X_test_encoded_padded, y_test)[1]"
   ],
   "metadata": {
    "collapsed": false,
    "ExecuteTime": {
     "end_time": "2023-11-18T02:42:37.760241Z",
     "start_time": "2023-11-18T02:42:37.693690Z"
    }
   },
   "id": "adccd6eb8b2c0442"
  },
  {
   "cell_type": "code",
   "execution_count": null,
   "outputs": [],
   "source": [],
   "metadata": {
    "collapsed": false
   },
   "id": "1131867393cd77d7"
  }
 ],
 "metadata": {
  "kernelspec": {
   "display_name": "Python 3",
   "language": "python",
   "name": "python3"
  },
  "language_info": {
   "codemirror_mode": {
    "name": "ipython",
    "version": 2
   },
   "file_extension": ".py",
   "mimetype": "text/x-python",
   "name": "python",
   "nbconvert_exporter": "python",
   "pygments_lexer": "ipython2",
   "version": "2.7.6"
  }
 },
 "nbformat": 4,
 "nbformat_minor": 5
}
