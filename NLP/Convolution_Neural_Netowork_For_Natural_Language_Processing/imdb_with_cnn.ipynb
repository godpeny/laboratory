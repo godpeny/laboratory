{
 "cells": [
  {
   "cell_type": "code",
   "execution_count": 1,
   "id": "initial_id",
   "metadata": {
    "collapsed": true,
    "ExecuteTime": {
     "end_time": "2023-11-18T02:09:30.613117Z",
     "start_time": "2023-11-18T02:09:26.582655Z"
    }
   },
   "outputs": [],
   "source": [
    "import numpy as np\n",
    "import pandas as pd\n",
    "\n",
    "import keras\n",
    "from keras import datasets\n",
    "from keras.preprocessing.sequence import pad_sequences"
   ]
  },
  {
   "cell_type": "code",
   "execution_count": 2,
   "outputs": [],
   "source": [
    "vocab_size = 10000\n",
    "(X_train, y_train), (X_test, y_test) = datasets.imdb.load_data(num_words=vocab_size) # already tokenized"
   ],
   "metadata": {
    "collapsed": false,
    "ExecuteTime": {
     "end_time": "2023-11-18T02:09:42.312483Z",
     "start_time": "2023-11-18T02:09:40.903167Z"
    }
   },
   "id": "7368a89ef30ff634"
  },
  {
   "cell_type": "markdown",
   "source": [
    "# Data preprocessing"
   ],
   "metadata": {
    "collapsed": false
   },
   "id": "a68541d2b3ff5935"
  },
  {
   "cell_type": "code",
   "execution_count": 5,
   "outputs": [
    {
     "name": "stdout",
     "output_type": "stream",
     "text": [
      "(25000, 200)\n",
      "(25000, 200)\n"
     ]
    }
   ],
   "source": [
    "X_train_padded = pad_sequences(X_train, maxlen=200)\n",
    "X_test_padded = pad_sequences(X_test, maxlen=200)\n",
    "\n",
    "print(X_train_padded.shape)\n",
    "print(X_test_padded.shape)"
   ],
   "metadata": {
    "collapsed": false,
    "ExecuteTime": {
     "end_time": "2023-11-18T02:11:37.544333Z",
     "start_time": "2023-11-18T02:11:37.325512Z"
    }
   },
   "id": "a339e3a0edb100ca"
  },
  {
   "cell_type": "markdown",
   "source": [
    "# Modeling"
   ],
   "metadata": {
    "collapsed": false
   },
   "id": "8c8d118f5d77befd"
  },
  {
   "cell_type": "code",
   "execution_count": 8,
   "outputs": [],
   "source": [
    "from keras.models import Sequential\n",
    "from keras.layers import Embedding, Dropout, Conv1D, GlobalMaxPooling1D, Dense\n",
    "from keras.callbacks import EarlyStopping, ModelCheckpoint\n",
    "from keras.models import load_model"
   ],
   "metadata": {
    "collapsed": false,
    "ExecuteTime": {
     "end_time": "2023-11-18T02:24:04.758857Z",
     "start_time": "2023-11-18T02:24:04.756266Z"
    }
   },
   "id": "5294e141bf4095a9"
  },
  {
   "cell_type": "code",
   "execution_count": 9,
   "outputs": [
    {
     "name": "stdout",
     "output_type": "stream",
     "text": [
      "Model: \"sequential\"\n",
      "_________________________________________________________________\n",
      " Layer (type)                Output Shape              Param #   \n",
      "=================================================================\n",
      " embedding (Embedding)       (None, None, 256)         2560000   \n",
      "                                                                 \n",
      " dropout (Dropout)           (None, None, 256)         0         \n",
      "                                                                 \n",
      " conv1d (Conv1D)             (None, None, 256)         196864    \n",
      "                                                                 \n",
      " global_max_pooling1d (Glob  (None, 256)               0         \n",
      " alMaxPooling1D)                                                 \n",
      "                                                                 \n",
      " dense (Dense)               (None, 128)               32896     \n",
      "                                                                 \n",
      " dropout_1 (Dropout)         (None, 128)               0         \n",
      "                                                                 \n",
      " dense_1 (Dense)             (None, 1)                 129       \n",
      "                                                                 \n",
      "=================================================================\n",
      "Total params: 2789889 (10.64 MB)\n",
      "Trainable params: 2789889 (10.64 MB)\n",
      "Non-trainable params: 0 (0.00 Byte)\n",
      "_________________________________________________________________\n"
     ]
    }
   ],
   "source": [
    "# hyperparameters\n",
    "embedding_dim = 256\n",
    "dropout_rate = 0.3\n",
    "num_filters = 256\n",
    "kernel_size = 3\n",
    "hidden_units = 128\n",
    "\n",
    "model = Sequential()\n",
    "model.add(Embedding(input_dim=vocab_size, output_dim=embedding_dim))\n",
    "model.add(Dropout(rate=dropout_rate))\n",
    "model.add(Conv1D(filters=num_filters, kernel_size=kernel_size, activation='relu'))\n",
    "model.add(GlobalMaxPooling1D())\n",
    "model.add(Dense(units=hidden_units, activation='relu'))\n",
    "model.add(Dropout(rate=dropout_rate))\n",
    "model.add(Dense(units=1, activation='sigmoid'))\n",
    "model.summary()"
   ],
   "metadata": {
    "collapsed": false,
    "ExecuteTime": {
     "end_time": "2023-11-18T02:24:22.175634Z",
     "start_time": "2023-11-18T02:24:22.105697Z"
    }
   },
   "id": "d601997f14b02c5"
  },
  {
   "cell_type": "code",
   "execution_count": 10,
   "outputs": [
    {
     "name": "stdout",
     "output_type": "stream",
     "text": [
      "Epoch 1/10\n",
      "156/157 [============================>.] - ETA: 0s - loss: 0.5197 - acc: 0.7280\n",
      "Epoch 1: val_acc improved from -inf to 0.86160, saving model to ../model/imbd_model_cnn.h5\n",
      "157/157 [==============================] - 14s 85ms/step - loss: 0.5195 - acc: 0.7282 - val_loss: 0.3240 - val_acc: 0.8616\n",
      "Epoch 2/10\n",
      "  2/157 [..............................] - ETA: 11s - loss: 0.2717 - acc: 0.8945"
     ]
    },
    {
     "name": "stderr",
     "output_type": "stream",
     "text": [
      "/Users/godpeny/Code/venv/laboratory/lib/python3.11/site-packages/keras/src/engine/training.py:3079: UserWarning: You are saving your model as an HDF5 file via `model.save()`. This file format is considered legacy. We recommend using instead the native Keras format, e.g. `model.save('my_model.keras')`.\n",
      "  saving_api.save_model(\n"
     ]
    },
    {
     "name": "stdout",
     "output_type": "stream",
     "text": [
      "156/157 [============================>.] - ETA: 0s - loss: 0.2531 - acc: 0.8970\n",
      "Epoch 2: val_acc improved from 0.86160 to 0.88900, saving model to ../model/imbd_model_cnn.h5\n",
      "157/157 [==============================] - 13s 82ms/step - loss: 0.2529 - acc: 0.8970 - val_loss: 0.2654 - val_acc: 0.8890\n",
      "Epoch 3/10\n",
      "156/157 [============================>.] - ETA: 0s - loss: 0.1311 - acc: 0.9558\n",
      "Epoch 3: val_acc did not improve from 0.88900\n",
      "157/157 [==============================] - 13s 81ms/step - loss: 0.1310 - acc: 0.9559 - val_loss: 0.2826 - val_acc: 0.8844\n",
      "Epoch 4/10\n",
      "156/157 [============================>.] - ETA: 0s - loss: 0.0512 - acc: 0.9857\n",
      "Epoch 4: val_acc did not improve from 0.88900\n",
      "157/157 [==============================] - 13s 80ms/step - loss: 0.0512 - acc: 0.9858 - val_loss: 0.3233 - val_acc: 0.8890\n",
      "Epoch 5/10\n",
      "156/157 [============================>.] - ETA: 0s - loss: 0.0175 - acc: 0.9963\n",
      "Epoch 5: val_acc improved from 0.88900 to 0.89200, saving model to ../model/imbd_model_cnn.h5\n",
      "157/157 [==============================] - 13s 80ms/step - loss: 0.0175 - acc: 0.9963 - val_loss: 0.3625 - val_acc: 0.8920\n",
      "Epoch 5: early stopping\n"
     ]
    }
   ],
   "source": [
    "model_path = \"../model/\"\n",
    "es = EarlyStopping(monitor='val_loss', mode='min', verbose=1, patience=3)\n",
    "mc = ModelCheckpoint(filepath=model_path + 'imbd_model_cnn.h5', monitor='val_acc', mode='max', verbose=1, save_best_only=True)\n",
    "\n",
    "model.compile(optimizer='adam', loss='binary_crossentropy', metrics=['acc'])\n",
    "history = model.fit(X_train_padded, y_train, epochs=10, batch_size=128, validation_split=0.2, callbacks=[es, mc])"
   ],
   "metadata": {
    "collapsed": false,
    "ExecuteTime": {
     "end_time": "2023-11-18T02:26:48.345427Z",
     "start_time": "2023-11-18T02:25:43.886256Z"
    }
   },
   "id": "fc694a13c944eeeb"
  },
  {
   "cell_type": "code",
   "execution_count": 12,
   "outputs": [
    {
     "name": "stdout",
     "output_type": "stream",
     "text": [
      "782/782 [==============================] - 5s 7ms/step - loss: 0.3729 - acc: 0.8870\n"
     ]
    },
    {
     "data": {
      "text/plain": "[0.37286871671676636, 0.8870000243186951]"
     },
     "execution_count": 12,
     "metadata": {},
     "output_type": "execute_result"
    }
   ],
   "source": [
    "loaded_model = load_model(model_path + 'imbd_model_cnn.h5')\n",
    "loaded_model.evaluate(X_test_padded, y_test)"
   ],
   "metadata": {
    "collapsed": false,
    "ExecuteTime": {
     "end_time": "2023-11-18T02:29:13.406373Z",
     "start_time": "2023-11-18T02:29:07.642331Z"
    }
   },
   "id": "be2119131cac7273"
  },
  {
   "cell_type": "code",
   "execution_count": null,
   "outputs": [],
   "source": [],
   "metadata": {
    "collapsed": false
   },
   "id": "8498dd5999f0b8a9"
  }
 ],
 "metadata": {
  "kernelspec": {
   "display_name": "Python 3",
   "language": "python",
   "name": "python3"
  },
  "language_info": {
   "codemirror_mode": {
    "name": "ipython",
    "version": 2
   },
   "file_extension": ".py",
   "mimetype": "text/x-python",
   "name": "python",
   "nbconvert_exporter": "python",
   "pygments_lexer": "ipython2",
   "version": "2.7.6"
  }
 },
 "nbformat": 4,
 "nbformat_minor": 5
}
