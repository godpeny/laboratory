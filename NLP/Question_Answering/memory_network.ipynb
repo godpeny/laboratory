{
 "cells": [
  {
   "cell_type": "code",
   "execution_count": 1,
   "outputs": [],
   "source": [
    "from keras.utils import get_file\n",
    "from keras.preprocessing.sequence import pad_sequences\n",
    "from keras.utils import to_categorical\n",
    "import numpy as np\n",
    "import tarfile\n",
    "from nltk import FreqDist\n",
    "from functools import reduce\n",
    "import os\n",
    "import re\n",
    "import matplotlib.pyplot as plt"
   ],
   "metadata": {
    "collapsed": false,
    "ExecuteTime": {
     "end_time": "2024-01-18T13:50:35.310892Z",
     "start_time": "2024-01-18T13:50:30.985321Z"
    }
   },
   "id": "701c63fd478a4b51"
  },
  {
   "cell_type": "code",
   "execution_count": 2,
   "outputs": [],
   "source": [
    "data_path = \"../data/\"\n",
    "\n",
    "TRAIN_FILE = data_path + \"qa1_single-supporting-fact_train.txt\"\n",
    "TEST_FILE = data_path + \"qa1_single-supporting-fact_test.txt\""
   ],
   "metadata": {
    "collapsed": false,
    "ExecuteTime": {
     "end_time": "2024-01-18T13:50:35.311184Z",
     "start_time": "2024-01-18T13:50:35.303313Z"
    }
   },
   "id": "ef976ec05cf7af5c"
  },
  {
   "cell_type": "code",
   "execution_count": 3,
   "outputs": [],
   "source": [
    "def read_data(dir):\n",
    "    story_temp = []\n",
    "    questions, answers, stories = [], [], []\n",
    "    lines = open(dir, 'rb')\n",
    "    \n",
    "    for line in lines:\n",
    "        line = line.decode(\"utf-8\") # b' 제거\n",
    "        line = line.strip() # '\\n' 제거\n",
    "        \n",
    "        idx, text = line.split(' ', 1)\n",
    "        \n",
    "        if(int(idx)) == 1: # when new story comes\n",
    "            story_temp = []\n",
    "            \n",
    "        if '\\t' in text: # when 'Q\\tA' comes\n",
    "            question, answer, _ = text.split('\\t')\n",
    "            stories.append([x for x in story_temp if x])\n",
    "            questions.append(question)\n",
    "            answers.append(answer)\n",
    "            \n",
    "        else: # when story comes\n",
    "            story_temp.append(text)\n",
    "            \n",
    "    lines.close()\n",
    "    return stories, questions, answers"
   ],
   "metadata": {
    "collapsed": false,
    "ExecuteTime": {
     "end_time": "2024-01-18T13:50:35.311285Z",
     "start_time": "2024-01-18T13:50:35.306863Z"
    }
   },
   "id": "85e1cf7c7bc66dd5"
  },
  {
   "cell_type": "code",
   "execution_count": 4,
   "outputs": [
    {
     "name": "stdout",
     "output_type": "stream",
     "text": [
      "10000 10000 10000\n",
      "1000 1000 1000\n",
      "['John travelled to the garden.', 'John journeyed to the office.', 'Daniel travelled to the kitchen.', 'Daniel moved to the bathroom.'] Where is Daniel?  bathroom\n"
     ]
    }
   ],
   "source": [
    "train_data = read_data(TRAIN_FILE)\n",
    "test_data = read_data(TEST_FILE)\n",
    "\n",
    "train_stories, train_questions, train_answers = read_data(TRAIN_FILE)\n",
    "test_stories, test_questions, test_answers = read_data(TEST_FILE)\n",
    "\n",
    "print(len(train_stories), len(train_questions), len(train_answers))\n",
    "print(len(test_stories), len(test_questions), len(test_answers))\n",
    "\n",
    "print(train_stories[3456], train_questions[3456], train_answers[3456])"
   ],
   "metadata": {
    "collapsed": false,
    "ExecuteTime": {
     "end_time": "2024-01-18T13:50:35.342834Z",
     "start_time": "2024-01-18T13:50:35.309402Z"
    }
   },
   "id": "b9117458d42035b9"
  },
  {
   "cell_type": "markdown",
   "source": [
    "# Tokenizing"
   ],
   "metadata": {
    "collapsed": false
   },
   "id": "5beb5d99dce518fb"
  },
  {
   "cell_type": "code",
   "execution_count": 5,
   "outputs": [],
   "source": [
    "def tokenize(sent):\n",
    "    return [x.strip() for x in re.split('(\\W+)', sent) if x.strip()] \n",
    "\n",
    "def preprocess(train, test):\n",
    "    counter = FreqDist() # frequency distribution\n",
    "    flatten = lambda data: reduce(lambda x, y: x + y, data) # concatenate sentences\n",
    "    \n",
    "    story_len, question_len = [], []\n",
    "    \n",
    "    for stories, questions, answers in [train, test]:\n",
    "        for story in stories:\n",
    "            stories_tokenized = tokenize(flatten(story))\n",
    "            story_len.append(len(stories_tokenized))\n",
    "            for word in stories_tokenized:\n",
    "                counter[word.lower()] += 1\n",
    "        for question in questions:\n",
    "            question_tokenized = tokenize(question)\n",
    "            question_len.append(len(question_tokenized))\n",
    "            for word in question_tokenized:\n",
    "                counter[word.lower()] += 1\n",
    "        for answer in answers:\n",
    "            answer_tokenized = tokenize(answer)\n",
    "            for word in answer_tokenized:\n",
    "                counter[word.lower()] += 1\n",
    "\n",
    "    # 단어 집합 생성\n",
    "    word2idx = {word : (idx + 1) for idx, (word, _) in enumerate(counter.most_common())}\n",
    "    idx2word = {idx : word for word, idx in word2idx.items()}\n",
    "\n",
    "    # 가장 긴 샘플의 길이\n",
    "    story_max_len = np.max(story_len)\n",
    "    question_max_len = np.max(question_len)\n",
    "\n",
    "    return word2idx, idx2word, story_max_len, question_max_len"
   ],
   "metadata": {
    "collapsed": false,
    "ExecuteTime": {
     "end_time": "2024-01-18T13:50:35.343215Z",
     "start_time": "2024-01-18T13:50:35.340595Z"
    }
   },
   "id": "63be8eeb09b4e471"
  },
  {
   "cell_type": "code",
   "execution_count": 6,
   "outputs": [
    {
     "name": "stdout",
     "output_type": "stream",
     "text": [
      "{'to': 1, 'the': 2, '.': 3, 'went': 4, 'sandra': 5, 'john': 6, 'daniel': 7, 'mary': 8, 'travelled': 9, 'journeyed': 10, 'back': 11, 'bathroom': 12, 'garden': 13, 'hallway': 14, 'moved': 15, 'office': 16, 'kitchen': 17, 'bedroom': 18, 'where': 19, 'is': 20, '?': 21}\n",
      "68 4\n"
     ]
    }
   ],
   "source": [
    "word2idx, idx2word, story_max_len, question_max_len = preprocess(train_data, test_data)\n",
    "vocab_size = len(word2idx) + 1\n",
    "\n",
    "print(word2idx)\n",
    "print(story_max_len, question_max_len)"
   ],
   "metadata": {
    "collapsed": false,
    "ExecuteTime": {
     "end_time": "2024-01-18T13:50:35.570200Z",
     "start_time": "2024-01-18T13:50:35.392558Z"
    }
   },
   "id": "56d039aacfe7b4f9"
  },
  {
   "cell_type": "code",
   "execution_count": 7,
   "outputs": [],
   "source": [
    "def vectorize(data, word2idx, story_maxlen, question_maxlen):\n",
    "    Xs, Xq, Y = [], [], []\n",
    "    flatten = lambda data: reduce(lambda x, y: x + y, data)\n",
    "    \n",
    "    stories, questions, answers = data\n",
    "    \n",
    "    for story, question, answer in zip(stories, questions, answers):\n",
    "        xs = [word2idx[w.lower()] for w in tokenize(flatten(story))]\n",
    "        xq = [word2idx[w.lower()] for w in tokenize(question)]\n",
    "        \n",
    "        y = np.zeros(len(word2idx) + 1)\n",
    "        y[word2idx[answer]] = 1\n",
    "        \n",
    "        Xs.append(xs)\n",
    "        Xq.append(xq)\n",
    "        Y.append(y)\n",
    "        \n",
    "    return pad_sequences(Xs, maxlen=story_maxlen), pad_sequences(Xq, maxlen=question_maxlen), np.array(Y)"
   ],
   "metadata": {
    "collapsed": false,
    "ExecuteTime": {
     "end_time": "2024-01-18T13:50:35.570431Z",
     "start_time": "2024-01-18T13:50:35.564829Z"
    }
   },
   "id": "97aef1b2ccd15ab9"
  },
  {
   "cell_type": "code",
   "execution_count": 8,
   "outputs": [
    {
     "name": "stdout",
     "output_type": "stream",
     "text": [
      "(10000, 68) (10000, 4) (10000, 22)\n",
      "(1000, 68) (1000, 4) (1000, 22)\n"
     ]
    }
   ],
   "source": [
    "Xstrain, Xqtrain, Ytrain = vectorize(train_data, word2idx, story_max_len, question_max_len)\n",
    "Xstest, Xqtest, Ytest = vectorize(test_data, word2idx, story_max_len, question_max_len)\n",
    "\n",
    "print(Xstrain.shape, Xqtrain.shape, Ytrain.shape)\n",
    "print(Xstest.shape, Xqtest.shape, Ytest.shape)"
   ],
   "metadata": {
    "collapsed": false,
    "ExecuteTime": {
     "end_time": "2024-01-18T13:50:35.736648Z",
     "start_time": "2024-01-18T13:50:35.566943Z"
    }
   },
   "id": "f02724c24234d334"
  },
  {
   "cell_type": "markdown",
   "source": [
    "# Modeling"
   ],
   "metadata": {
    "collapsed": false
   },
   "id": "dbd55b7a9da77dd8"
  },
  {
   "cell_type": "code",
   "execution_count": 9,
   "outputs": [],
   "source": [
    "from keras.models import Sequential, Model\n",
    "from keras.layers import Embedding\n",
    "from keras.layers import Permute, dot, add, concatenate\n",
    "from keras.layers import LSTM, Dense, Dropout, Input, Activation"
   ],
   "metadata": {
    "collapsed": false,
    "ExecuteTime": {
     "end_time": "2024-01-18T13:50:35.736834Z",
     "start_time": "2024-01-18T13:50:35.726833Z"
    }
   },
   "id": "4f44521f58d916d5"
  },
  {
   "cell_type": "code",
   "execution_count": 10,
   "outputs": [],
   "source": [
    "# hyperparameters\n",
    "train_epochs = 120\n",
    "batch_size = 32\n",
    "embed_size = 50\n",
    "lstm_size = 64\n",
    "dropout_rate = 0.30\n",
    "\n",
    "input_sequence = Input((story_max_len,))\n",
    "question = Input((question_max_len,))\n",
    "\n",
    "# 스토리를 위한 첫번째 임베딩. 그림에서의 Embedding A\n",
    "input_encoder_m = Sequential()\n",
    "input_encoder_m.add(Embedding(input_dim=vocab_size,\n",
    "                              output_dim=embed_size))\n",
    "input_encoder_m.add(Dropout(dropout_rate))\n",
    "# 결과 : (samples, story_max_len, embedding_dim) / 샘플의 수, 문장의 최대 길이, 임베딩 벡터의 차원\n",
    "\n",
    "# 스토리를 위한 두번째 임베딩. 그림에서의 Embedding C\n",
    "# 임베딩 벡터의 차원을 question_max_len(질문의 최대 길이)로 한다.\n",
    "input_encoder_c = Sequential()\n",
    "input_encoder_c.add(Embedding(input_dim=vocab_size,\n",
    "                              output_dim=question_max_len))\n",
    "input_encoder_c.add(Dropout(dropout_rate))\n",
    "# 결과 : (samples, story_max_len, question_max_len) / 샘플의 수, 문장의 최대 길이, 질문의 최대 길이(임베딩 벡터의 차원)\n",
    "\n",
    "# 질문을 위한 임베딩. 그림에서의 Embedding B\n",
    "question_encoder = Sequential()\n",
    "question_encoder.add(Embedding(input_dim=vocab_size,\n",
    "                               output_dim=embed_size,\n",
    "                               input_length=question_max_len))\n",
    "question_encoder.add(Dropout(dropout_rate))\n",
    "# 결과 : (samples, question_max_len, embedding_dim) / 샘플의 수, 질문의 최대 길이, 임베딩 벡터의 차원"
   ],
   "metadata": {
    "collapsed": false,
    "ExecuteTime": {
     "end_time": "2024-01-18T13:50:35.796440Z",
     "start_time": "2024-01-18T13:50:35.730525Z"
    }
   },
   "id": "37651bbe746b4b67"
  },
  {
   "cell_type": "code",
   "execution_count": 11,
   "outputs": [
    {
     "name": "stdout",
     "output_type": "stream",
     "text": [
      "Input encoded m KerasTensor(type_spec=TensorSpec(shape=(None, 68, 50), dtype=tf.float32, name=None), name='sequential/dropout/Identity:0', description=\"created by layer 'sequential'\")\n",
      "Input encoded c KerasTensor(type_spec=TensorSpec(shape=(None, 68, 4), dtype=tf.float32, name=None), name='sequential_1/dropout_1/Identity:0', description=\"created by layer 'sequential_1'\")\n",
      "Question encoded KerasTensor(type_spec=TensorSpec(shape=(None, 4, 50), dtype=tf.float32, name=None), name='sequential_2/dropout_2/Identity:0', description=\"created by layer 'sequential_2'\")\n"
     ]
    }
   ],
   "source": [
    "# 실질적인 임베딩 과정\n",
    "input_encoded_m = input_encoder_m(input_sequence)\n",
    "input_encoded_c = input_encoder_c(input_sequence)\n",
    "question_encoded = question_encoder(question)\n",
    "\n",
    "print('Input encoded m', input_encoded_m)\n",
    "print('Input encoded c', input_encoded_c)\n",
    "print('Question encoded', question_encoded)"
   ],
   "metadata": {
    "collapsed": false,
    "ExecuteTime": {
     "end_time": "2024-01-18T13:50:35.797065Z",
     "start_time": "2024-01-18T13:50:35.776642Z"
    }
   },
   "id": "d827fb8fc665122c"
  },
  {
   "cell_type": "code",
   "execution_count": 12,
   "outputs": [
    {
     "name": "stdout",
     "output_type": "stream",
     "text": [
      "Match shape KerasTensor(type_spec=TensorSpec(shape=(None, 68, 4), dtype=tf.float32, name=None), name='activation/Softmax:0', description=\"created by layer 'activation'\")\n",
      "Response shape KerasTensor(type_spec=TensorSpec(shape=(None, 4, 68), dtype=tf.float32, name=None), name='permute/transpose:0', description=\"created by layer 'permute'\")\n",
      "Answer shape KerasTensor(type_spec=TensorSpec(shape=(None, 4, 118), dtype=tf.float32, name=None), name='concatenate/concat:0', description=\"created by layer 'concatenate'\")\n"
     ]
    }
   ],
   "source": [
    "# 스토리 단어들과 질문 단어들 간의 유사도를 구하는 과정\n",
    "# 유사도는 내적을 사용한다.\n",
    "match = dot([input_encoded_m, question_encoded], axes=-1, normalize=False)\n",
    "match = Activation('softmax')(match)\n",
    "print('Match shape', match)\n",
    "# 결과 : (samples, story_maxlen, question_max_len) / 샘플의 수, 문장의 최대 길이, 질문의 최대 길이\n",
    "\n",
    "response = add([match, input_encoded_c])  # (samples, story_max_len, question_max_len)\n",
    "response = Permute((2, 1))(response)  # (samples, question_max_len, story_max_len)\n",
    "print('Response shape', response)\n",
    "\n",
    "# 질문 벡터와 답변 벡터를 연결\n",
    "answer = concatenate([response, question_encoded])\n",
    "print('Answer shape', answer)\n",
    "\n",
    "answer = LSTM(lstm_size)(answer)\n",
    "answer = Dropout(dropout_rate)(answer)\n",
    "answer = Dense(vocab_size)(answer)\n",
    "answer = Activation('softmax')(answer)\n"
   ],
   "metadata": {
    "collapsed": false,
    "ExecuteTime": {
     "end_time": "2024-01-18T13:50:36.022540Z",
     "start_time": "2024-01-18T13:50:35.781624Z"
    }
   },
   "id": "a50b8829ae3b3824"
  },
  {
   "cell_type": "code",
   "execution_count": 13,
   "outputs": [
    {
     "name": "stdout",
     "output_type": "stream",
     "text": [
      "Model: \"model\"\n",
      "__________________________________________________________________________________________________\n",
      " Layer (type)                Output Shape                 Param #   Connected to                  \n",
      "==================================================================================================\n",
      " input_1 (InputLayer)        [(None, 68)]                 0         []                            \n",
      "                                                                                                  \n",
      " input_2 (InputLayer)        [(None, 4)]                  0         []                            \n",
      "                                                                                                  \n",
      " sequential (Sequential)     (None, None, 50)             1100      ['input_1[0][0]']             \n",
      "                                                                                                  \n",
      " sequential_2 (Sequential)   (None, 4, 50)                1100      ['input_2[0][0]']             \n",
      "                                                                                                  \n",
      " dot (Dot)                   (None, 68, 4)                0         ['sequential[0][0]',          \n",
      "                                                                     'sequential_2[0][0]']        \n",
      "                                                                                                  \n",
      " activation (Activation)     (None, 68, 4)                0         ['dot[0][0]']                 \n",
      "                                                                                                  \n",
      " sequential_1 (Sequential)   (None, None, 4)              88        ['input_1[0][0]']             \n",
      "                                                                                                  \n",
      " add (Add)                   (None, 68, 4)                0         ['activation[0][0]',          \n",
      "                                                                     'sequential_1[0][0]']        \n",
      "                                                                                                  \n",
      " permute (Permute)           (None, 4, 68)                0         ['add[0][0]']                 \n",
      "                                                                                                  \n",
      " concatenate (Concatenate)   (None, 4, 118)               0         ['permute[0][0]',             \n",
      "                                                                     'sequential_2[0][0]']        \n",
      "                                                                                                  \n",
      " lstm (LSTM)                 (None, 64)                   46848     ['concatenate[0][0]']         \n",
      "                                                                                                  \n",
      " dropout_3 (Dropout)         (None, 64)                   0         ['lstm[0][0]']                \n",
      "                                                                                                  \n",
      " dense (Dense)               (None, 22)                   1430      ['dropout_3[0][0]']           \n",
      "                                                                                                  \n",
      " activation_1 (Activation)   (None, 22)                   0         ['dense[0][0]']               \n",
      "                                                                                                  \n",
      "==================================================================================================\n",
      "Total params: 50566 (197.52 KB)\n",
      "Trainable params: 50566 (197.52 KB)\n",
      "Non-trainable params: 0 (0.00 Byte)\n",
      "__________________________________________________________________________________________________\n",
      "None\n",
      "Epoch 1/120\n",
      "313/313 [==============================] - 3s 5ms/step - loss: 1.8855 - acc: 0.1753 - val_loss: 1.7901 - val_acc: 0.1640\n",
      "Epoch 2/120\n",
      "313/313 [==============================] - 1s 3ms/step - loss: 1.6721 - acc: 0.3092 - val_loss: 1.6244 - val_acc: 0.3600\n",
      "Epoch 3/120\n",
      "313/313 [==============================] - 1s 3ms/step - loss: 1.5311 - acc: 0.4114 - val_loss: 1.5927 - val_acc: 0.3790\n",
      "Epoch 4/120\n",
      "313/313 [==============================] - 1s 3ms/step - loss: 1.4895 - acc: 0.4301 - val_loss: 1.4581 - val_acc: 0.4200\n",
      "Epoch 5/120\n",
      "313/313 [==============================] - 1s 3ms/step - loss: 1.4418 - acc: 0.4525 - val_loss: 1.3909 - val_acc: 0.4670\n",
      "Epoch 6/120\n",
      "313/313 [==============================] - 1s 4ms/step - loss: 1.3988 - acc: 0.4633 - val_loss: 1.3327 - val_acc: 0.4970\n",
      "Epoch 7/120\n",
      "313/313 [==============================] - 1s 4ms/step - loss: 1.3611 - acc: 0.4790 - val_loss: 1.3063 - val_acc: 0.5250\n",
      "Epoch 8/120\n",
      "313/313 [==============================] - 1s 3ms/step - loss: 1.3301 - acc: 0.4945 - val_loss: 1.2910 - val_acc: 0.5060\n",
      "Epoch 9/120\n",
      "313/313 [==============================] - 1s 3ms/step - loss: 1.3019 - acc: 0.5034 - val_loss: 1.2524 - val_acc: 0.5090\n",
      "Epoch 10/120\n",
      "313/313 [==============================] - 1s 3ms/step - loss: 1.2583 - acc: 0.5114 - val_loss: 1.2032 - val_acc: 0.5200\n",
      "Epoch 11/120\n",
      "313/313 [==============================] - 1s 4ms/step - loss: 1.2365 - acc: 0.5120 - val_loss: 1.2123 - val_acc: 0.5000\n",
      "Epoch 12/120\n",
      "313/313 [==============================] - 1s 3ms/step - loss: 1.2185 - acc: 0.5075 - val_loss: 1.2239 - val_acc: 0.4870\n",
      "Epoch 13/120\n",
      "313/313 [==============================] - 1s 3ms/step - loss: 1.2027 - acc: 0.5108 - val_loss: 1.1738 - val_acc: 0.5150\n",
      "Epoch 14/120\n",
      "313/313 [==============================] - 1s 3ms/step - loss: 1.1742 - acc: 0.5243 - val_loss: 1.1995 - val_acc: 0.5170\n",
      "Epoch 15/120\n",
      "313/313 [==============================] - 1s 3ms/step - loss: 1.1760 - acc: 0.5233 - val_loss: 1.1629 - val_acc: 0.5100\n",
      "Epoch 16/120\n",
      "313/313 [==============================] - 1s 4ms/step - loss: 1.1688 - acc: 0.5215 - val_loss: 1.1784 - val_acc: 0.5040\n",
      "Epoch 17/120\n",
      "313/313 [==============================] - 1s 4ms/step - loss: 1.1509 - acc: 0.5260 - val_loss: 1.1631 - val_acc: 0.5080\n",
      "Epoch 18/120\n",
      "313/313 [==============================] - 1s 4ms/step - loss: 1.1536 - acc: 0.5277 - val_loss: 1.1596 - val_acc: 0.5110\n",
      "Epoch 19/120\n",
      "313/313 [==============================] - 1s 4ms/step - loss: 1.1427 - acc: 0.5299 - val_loss: 1.1808 - val_acc: 0.4890\n",
      "Epoch 20/120\n",
      "313/313 [==============================] - 1s 3ms/step - loss: 1.1432 - acc: 0.5292 - val_loss: 1.1616 - val_acc: 0.5050\n",
      "Epoch 21/120\n",
      "313/313 [==============================] - 1s 4ms/step - loss: 1.1339 - acc: 0.5271 - val_loss: 1.1545 - val_acc: 0.5020\n",
      "Epoch 22/120\n",
      "313/313 [==============================] - 1s 3ms/step - loss: 1.1165 - acc: 0.5326 - val_loss: 1.1935 - val_acc: 0.4960\n",
      "Epoch 23/120\n",
      "313/313 [==============================] - 1s 3ms/step - loss: 1.1200 - acc: 0.5347 - val_loss: 1.1607 - val_acc: 0.4880\n",
      "Epoch 24/120\n",
      "313/313 [==============================] - 1s 3ms/step - loss: 1.1110 - acc: 0.5328 - val_loss: 1.1655 - val_acc: 0.5160\n",
      "Epoch 25/120\n",
      "313/313 [==============================] - 1s 3ms/step - loss: 1.0967 - acc: 0.5344 - val_loss: 1.1594 - val_acc: 0.5080\n",
      "Epoch 26/120\n",
      "313/313 [==============================] - 1s 3ms/step - loss: 1.1003 - acc: 0.5366 - val_loss: 1.1572 - val_acc: 0.5120\n",
      "Epoch 27/120\n",
      "313/313 [==============================] - 1s 4ms/step - loss: 1.0863 - acc: 0.5440 - val_loss: 1.1762 - val_acc: 0.5050\n",
      "Epoch 28/120\n",
      "313/313 [==============================] - 1s 4ms/step - loss: 1.0829 - acc: 0.5403 - val_loss: 1.1649 - val_acc: 0.4910\n",
      "Epoch 29/120\n",
      "313/313 [==============================] - 1s 3ms/step - loss: 1.0819 - acc: 0.5438 - val_loss: 1.1948 - val_acc: 0.4890\n",
      "Epoch 30/120\n",
      "313/313 [==============================] - 1s 4ms/step - loss: 1.0702 - acc: 0.5479 - val_loss: 1.1583 - val_acc: 0.5060\n",
      "Epoch 31/120\n",
      "313/313 [==============================] - 1s 4ms/step - loss: 1.0676 - acc: 0.5562 - val_loss: 1.1598 - val_acc: 0.4980\n",
      "Epoch 32/120\n",
      "313/313 [==============================] - 1s 3ms/step - loss: 1.0521 - acc: 0.5591 - val_loss: 1.1831 - val_acc: 0.4940\n",
      "Epoch 33/120\n",
      "313/313 [==============================] - 1s 3ms/step - loss: 1.0508 - acc: 0.5555 - val_loss: 1.1814 - val_acc: 0.5070\n",
      "Epoch 34/120\n",
      "313/313 [==============================] - 1s 3ms/step - loss: 1.0430 - acc: 0.5632 - val_loss: 1.1641 - val_acc: 0.4910\n",
      "Epoch 35/120\n",
      "313/313 [==============================] - 1s 3ms/step - loss: 1.0320 - acc: 0.5653 - val_loss: 1.2021 - val_acc: 0.4980\n",
      "Epoch 36/120\n",
      "313/313 [==============================] - 1s 3ms/step - loss: 1.0305 - acc: 0.5721 - val_loss: 1.1715 - val_acc: 0.4990\n",
      "Epoch 37/120\n",
      "313/313 [==============================] - 1s 3ms/step - loss: 1.0240 - acc: 0.5700 - val_loss: 1.1616 - val_acc: 0.5030\n",
      "Epoch 38/120\n",
      "313/313 [==============================] - 1s 3ms/step - loss: 1.0178 - acc: 0.5721 - val_loss: 1.1652 - val_acc: 0.5120\n",
      "Epoch 39/120\n",
      "313/313 [==============================] - 1s 3ms/step - loss: 1.0042 - acc: 0.5862 - val_loss: 1.1356 - val_acc: 0.5170\n",
      "Epoch 40/120\n",
      "313/313 [==============================] - 1s 3ms/step - loss: 0.9835 - acc: 0.5933 - val_loss: 1.1304 - val_acc: 0.5280\n",
      "Epoch 41/120\n",
      "313/313 [==============================] - 1s 3ms/step - loss: 0.9665 - acc: 0.6158 - val_loss: 1.1027 - val_acc: 0.5540\n",
      "Epoch 42/120\n",
      "313/313 [==============================] - 1s 3ms/step - loss: 0.9282 - acc: 0.6339 - val_loss: 1.0664 - val_acc: 0.5810\n",
      "Epoch 43/120\n",
      "313/313 [==============================] - 1s 4ms/step - loss: 0.8737 - acc: 0.6627 - val_loss: 0.9904 - val_acc: 0.6300\n",
      "Epoch 44/120\n",
      "313/313 [==============================] - 1s 3ms/step - loss: 0.8031 - acc: 0.6992 - val_loss: 0.9129 - val_acc: 0.6770\n",
      "Epoch 45/120\n",
      "313/313 [==============================] - 1s 4ms/step - loss: 0.7332 - acc: 0.7334 - val_loss: 0.8149 - val_acc: 0.7040\n",
      "Epoch 46/120\n",
      "313/313 [==============================] - 1s 3ms/step - loss: 0.6585 - acc: 0.7629 - val_loss: 0.7464 - val_acc: 0.7250\n",
      "Epoch 47/120\n",
      "313/313 [==============================] - 1s 4ms/step - loss: 0.5979 - acc: 0.7825 - val_loss: 0.6991 - val_acc: 0.7330\n",
      "Epoch 48/120\n",
      "313/313 [==============================] - 1s 4ms/step - loss: 0.5605 - acc: 0.7882 - val_loss: 0.6681 - val_acc: 0.7380\n",
      "Epoch 49/120\n",
      "313/313 [==============================] - 1s 3ms/step - loss: 0.5313 - acc: 0.8040 - val_loss: 0.6495 - val_acc: 0.7440\n",
      "Epoch 50/120\n",
      "313/313 [==============================] - 1s 4ms/step - loss: 0.5051 - acc: 0.8123 - val_loss: 0.6158 - val_acc: 0.7630\n",
      "Epoch 51/120\n",
      "313/313 [==============================] - 1s 4ms/step - loss: 0.4837 - acc: 0.8197 - val_loss: 0.5825 - val_acc: 0.7730\n",
      "Epoch 52/120\n",
      "313/313 [==============================] - 1s 4ms/step - loss: 0.4390 - acc: 0.8370 - val_loss: 0.5544 - val_acc: 0.7890\n",
      "Epoch 53/120\n",
      "313/313 [==============================] - 1s 4ms/step - loss: 0.4175 - acc: 0.8445 - val_loss: 0.5672 - val_acc: 0.7930\n",
      "Epoch 54/120\n",
      "313/313 [==============================] - 1s 4ms/step - loss: 0.3978 - acc: 0.8521 - val_loss: 0.5532 - val_acc: 0.7850\n",
      "Epoch 55/120\n",
      "313/313 [==============================] - 1s 4ms/step - loss: 0.3700 - acc: 0.8620 - val_loss: 0.4950 - val_acc: 0.8060\n",
      "Epoch 56/120\n",
      "313/313 [==============================] - 1s 4ms/step - loss: 0.3527 - acc: 0.8709 - val_loss: 0.4959 - val_acc: 0.8180\n",
      "Epoch 57/120\n",
      "313/313 [==============================] - 1s 4ms/step - loss: 0.3332 - acc: 0.8788 - val_loss: 0.4328 - val_acc: 0.8350\n",
      "Epoch 58/120\n",
      "313/313 [==============================] - 1s 4ms/step - loss: 0.3161 - acc: 0.8836 - val_loss: 0.4175 - val_acc: 0.8400\n",
      "Epoch 59/120\n",
      "313/313 [==============================] - 1s 4ms/step - loss: 0.2978 - acc: 0.8913 - val_loss: 0.3942 - val_acc: 0.8440\n",
      "Epoch 60/120\n",
      "313/313 [==============================] - 1s 4ms/step - loss: 0.2837 - acc: 0.8923 - val_loss: 0.3906 - val_acc: 0.8640\n",
      "Epoch 61/120\n",
      "313/313 [==============================] - 1s 4ms/step - loss: 0.2722 - acc: 0.8988 - val_loss: 0.3977 - val_acc: 0.8580\n",
      "Epoch 62/120\n",
      "313/313 [==============================] - 1s 4ms/step - loss: 0.2571 - acc: 0.9029 - val_loss: 0.3595 - val_acc: 0.8610\n",
      "Epoch 63/120\n",
      "313/313 [==============================] - 1s 4ms/step - loss: 0.2500 - acc: 0.9063 - val_loss: 0.3603 - val_acc: 0.8700\n",
      "Epoch 64/120\n",
      "313/313 [==============================] - 1s 4ms/step - loss: 0.2373 - acc: 0.9123 - val_loss: 0.3536 - val_acc: 0.8770\n",
      "Epoch 65/120\n",
      "313/313 [==============================] - 1s 4ms/step - loss: 0.2332 - acc: 0.9153 - val_loss: 0.3648 - val_acc: 0.8690\n",
      "Epoch 66/120\n",
      "313/313 [==============================] - 1s 4ms/step - loss: 0.2207 - acc: 0.9190 - val_loss: 0.3441 - val_acc: 0.8840\n",
      "Epoch 67/120\n",
      "313/313 [==============================] - 1s 4ms/step - loss: 0.2078 - acc: 0.9257 - val_loss: 0.3851 - val_acc: 0.8650\n",
      "Epoch 68/120\n",
      "313/313 [==============================] - 1s 4ms/step - loss: 0.1885 - acc: 0.9291 - val_loss: 0.3084 - val_acc: 0.8940\n",
      "Epoch 69/120\n",
      "313/313 [==============================] - 1s 4ms/step - loss: 0.1849 - acc: 0.9354 - val_loss: 0.2947 - val_acc: 0.8960\n",
      "Epoch 70/120\n",
      "313/313 [==============================] - 1s 4ms/step - loss: 0.1719 - acc: 0.9359 - val_loss: 0.2875 - val_acc: 0.8950\n",
      "Epoch 71/120\n",
      "313/313 [==============================] - 1s 4ms/step - loss: 0.1610 - acc: 0.9445 - val_loss: 0.2689 - val_acc: 0.9130\n",
      "Epoch 72/120\n",
      "313/313 [==============================] - 1s 4ms/step - loss: 0.1549 - acc: 0.9425 - val_loss: 0.2673 - val_acc: 0.9140\n",
      "Epoch 73/120\n",
      "313/313 [==============================] - 1s 4ms/step - loss: 0.1440 - acc: 0.9473 - val_loss: 0.2878 - val_acc: 0.9110\n",
      "Epoch 74/120\n",
      "313/313 [==============================] - 1s 4ms/step - loss: 0.1375 - acc: 0.9523 - val_loss: 0.2501 - val_acc: 0.9220\n",
      "Epoch 75/120\n",
      "313/313 [==============================] - 1s 4ms/step - loss: 0.1295 - acc: 0.9534 - val_loss: 0.2464 - val_acc: 0.9200\n",
      "Epoch 76/120\n",
      "313/313 [==============================] - 1s 4ms/step - loss: 0.1256 - acc: 0.9552 - val_loss: 0.2546 - val_acc: 0.9220\n",
      "Epoch 77/120\n",
      "313/313 [==============================] - 1s 4ms/step - loss: 0.1228 - acc: 0.9581 - val_loss: 0.2267 - val_acc: 0.9220\n",
      "Epoch 78/120\n",
      "313/313 [==============================] - 1s 4ms/step - loss: 0.1123 - acc: 0.9628 - val_loss: 0.2345 - val_acc: 0.9270\n",
      "Epoch 79/120\n",
      "313/313 [==============================] - 1s 4ms/step - loss: 0.1068 - acc: 0.9613 - val_loss: 0.3008 - val_acc: 0.9070\n",
      "Epoch 80/120\n",
      "313/313 [==============================] - 1s 4ms/step - loss: 0.1038 - acc: 0.9632 - val_loss: 0.2535 - val_acc: 0.9250\n",
      "Epoch 81/120\n",
      "313/313 [==============================] - 1s 4ms/step - loss: 0.1019 - acc: 0.9637 - val_loss: 0.2399 - val_acc: 0.9340\n",
      "Epoch 82/120\n",
      "313/313 [==============================] - 1s 4ms/step - loss: 0.0977 - acc: 0.9667 - val_loss: 0.2483 - val_acc: 0.9290\n",
      "Epoch 83/120\n",
      "313/313 [==============================] - 1s 4ms/step - loss: 0.0922 - acc: 0.9678 - val_loss: 0.2055 - val_acc: 0.9290\n",
      "Epoch 84/120\n",
      "313/313 [==============================] - 1s 4ms/step - loss: 0.0902 - acc: 0.9700 - val_loss: 0.2218 - val_acc: 0.9340\n",
      "Epoch 85/120\n",
      "313/313 [==============================] - 1s 4ms/step - loss: 0.0820 - acc: 0.9722 - val_loss: 0.1925 - val_acc: 0.9430\n",
      "Epoch 86/120\n",
      "313/313 [==============================] - 1s 4ms/step - loss: 0.0738 - acc: 0.9735 - val_loss: 0.2289 - val_acc: 0.9350\n",
      "Epoch 87/120\n",
      "313/313 [==============================] - 1s 4ms/step - loss: 0.0781 - acc: 0.9742 - val_loss: 0.2287 - val_acc: 0.9340\n",
      "Epoch 88/120\n",
      "313/313 [==============================] - 1s 4ms/step - loss: 0.0755 - acc: 0.9774 - val_loss: 0.2399 - val_acc: 0.9280\n",
      "Epoch 89/120\n",
      "313/313 [==============================] - 1s 4ms/step - loss: 0.0680 - acc: 0.9755 - val_loss: 0.2336 - val_acc: 0.9300\n",
      "Epoch 90/120\n",
      "313/313 [==============================] - 1s 4ms/step - loss: 0.0689 - acc: 0.9782 - val_loss: 0.2008 - val_acc: 0.9440\n",
      "Epoch 91/120\n",
      "313/313 [==============================] - 1s 4ms/step - loss: 0.0616 - acc: 0.9808 - val_loss: 0.2034 - val_acc: 0.9360\n",
      "Epoch 92/120\n",
      "313/313 [==============================] - 1s 4ms/step - loss: 0.0651 - acc: 0.9781 - val_loss: 0.2456 - val_acc: 0.9270\n",
      "Epoch 93/120\n",
      "313/313 [==============================] - 1s 4ms/step - loss: 0.0593 - acc: 0.9799 - val_loss: 0.2052 - val_acc: 0.9490\n",
      "Epoch 94/120\n",
      "313/313 [==============================] - 1s 4ms/step - loss: 0.0569 - acc: 0.9813 - val_loss: 0.2245 - val_acc: 0.9330\n",
      "Epoch 95/120\n",
      "313/313 [==============================] - 1s 4ms/step - loss: 0.0570 - acc: 0.9824 - val_loss: 0.2151 - val_acc: 0.9430\n",
      "Epoch 96/120\n",
      "313/313 [==============================] - 1s 4ms/step - loss: 0.0528 - acc: 0.9834 - val_loss: 0.2097 - val_acc: 0.9370\n",
      "Epoch 97/120\n",
      "313/313 [==============================] - 1s 4ms/step - loss: 0.0522 - acc: 0.9833 - val_loss: 0.2157 - val_acc: 0.9390\n",
      "Epoch 98/120\n",
      "313/313 [==============================] - 1s 4ms/step - loss: 0.0577 - acc: 0.9808 - val_loss: 0.1844 - val_acc: 0.9450\n",
      "Epoch 99/120\n",
      "313/313 [==============================] - 1s 4ms/step - loss: 0.0565 - acc: 0.9820 - val_loss: 0.2121 - val_acc: 0.9400\n",
      "Epoch 100/120\n",
      "313/313 [==============================] - 1s 4ms/step - loss: 0.0435 - acc: 0.9854 - val_loss: 0.2062 - val_acc: 0.9410\n",
      "Epoch 101/120\n",
      "313/313 [==============================] - 1s 4ms/step - loss: 0.0472 - acc: 0.9856 - val_loss: 0.2249 - val_acc: 0.9390\n",
      "Epoch 102/120\n",
      "313/313 [==============================] - 1s 4ms/step - loss: 0.0422 - acc: 0.9867 - val_loss: 0.2259 - val_acc: 0.9400\n",
      "Epoch 103/120\n",
      "313/313 [==============================] - 1s 4ms/step - loss: 0.0384 - acc: 0.9863 - val_loss: 0.2097 - val_acc: 0.9430\n",
      "Epoch 104/120\n",
      "313/313 [==============================] - 1s 4ms/step - loss: 0.0473 - acc: 0.9846 - val_loss: 0.1950 - val_acc: 0.9520\n",
      "Epoch 105/120\n",
      "313/313 [==============================] - 1s 4ms/step - loss: 0.0403 - acc: 0.9864 - val_loss: 0.2559 - val_acc: 0.9410\n",
      "Epoch 106/120\n",
      "313/313 [==============================] - 1s 4ms/step - loss: 0.0463 - acc: 0.9859 - val_loss: 0.2207 - val_acc: 0.9460\n",
      "Epoch 107/120\n",
      "313/313 [==============================] - 1s 4ms/step - loss: 0.0400 - acc: 0.9873 - val_loss: 0.2463 - val_acc: 0.9420\n",
      "Epoch 108/120\n",
      "313/313 [==============================] - 1s 4ms/step - loss: 0.0395 - acc: 0.9880 - val_loss: 0.2315 - val_acc: 0.9380\n",
      "Epoch 109/120\n",
      "313/313 [==============================] - 1s 4ms/step - loss: 0.0416 - acc: 0.9885 - val_loss: 0.2134 - val_acc: 0.9450\n",
      "Epoch 110/120\n",
      "313/313 [==============================] - 1s 4ms/step - loss: 0.0360 - acc: 0.9882 - val_loss: 0.2259 - val_acc: 0.9430\n",
      "Epoch 111/120\n",
      "313/313 [==============================] - 1s 4ms/step - loss: 0.0336 - acc: 0.9888 - val_loss: 0.2221 - val_acc: 0.9440\n",
      "Epoch 112/120\n",
      "313/313 [==============================] - 1s 4ms/step - loss: 0.0323 - acc: 0.9892 - val_loss: 0.2115 - val_acc: 0.9510\n",
      "Epoch 113/120\n",
      "313/313 [==============================] - 1s 4ms/step - loss: 0.0343 - acc: 0.9889 - val_loss: 0.2242 - val_acc: 0.9420\n",
      "Epoch 114/120\n",
      "313/313 [==============================] - 1s 4ms/step - loss: 0.0322 - acc: 0.9909 - val_loss: 0.2174 - val_acc: 0.9450\n",
      "Epoch 115/120\n",
      "313/313 [==============================] - 1s 4ms/step - loss: 0.0338 - acc: 0.9904 - val_loss: 0.2416 - val_acc: 0.9460\n",
      "Epoch 116/120\n",
      "313/313 [==============================] - 1s 4ms/step - loss: 0.0345 - acc: 0.9887 - val_loss: 0.1966 - val_acc: 0.9540\n",
      "Epoch 117/120\n",
      "313/313 [==============================] - 1s 4ms/step - loss: 0.0306 - acc: 0.9907 - val_loss: 0.2249 - val_acc: 0.9430\n",
      "Epoch 118/120\n",
      "313/313 [==============================] - 1s 4ms/step - loss: 0.0334 - acc: 0.9894 - val_loss: 0.2663 - val_acc: 0.9360\n",
      "Epoch 119/120\n",
      "313/313 [==============================] - 1s 4ms/step - loss: 0.0294 - acc: 0.9902 - val_loss: 0.2039 - val_acc: 0.9490\n",
      "Epoch 120/120\n",
      "313/313 [==============================] - 1s 4ms/step - loss: 0.0251 - acc: 0.9925 - val_loss: 0.2110 - val_acc: 0.9490\n"
     ]
    }
   ],
   "source": [
    "model = Model([input_sequence, question], answer)\n",
    "model.compile(optimizer='rmsprop', loss='categorical_crossentropy',\n",
    "              metrics=['acc'])\n",
    "\n",
    "print(model.summary())\n",
    "\n",
    "history = model.fit([Xstrain, Xqtrain],\n",
    "                    Ytrain, batch_size, train_epochs,\n",
    "                    validation_data=([Xstest, Xqtest], Ytest))"
   ],
   "metadata": {
    "collapsed": false,
    "ExecuteTime": {
     "end_time": "2024-01-18T13:52:54.180075Z",
     "start_time": "2024-01-18T13:50:36.020140Z"
    }
   },
   "id": "b27826b91be7aad2"
  },
  {
   "cell_type": "code",
   "execution_count": 14,
   "outputs": [
    {
     "data": {
      "text/plain": "<Figure size 432x288 with 2 Axes>",
      "image/png": "[encoded data removed]"
     },
     "metadata": {
      "needs_background": "light"
     },
     "output_type": "display_data"
    },
    {
     "name": "stdout",
     "output_type": "stream",
     "text": [
      "32/32 [==============================] - 0s 1ms/step\n"
     ]
    }
   ],
   "source": [
    "plt.subplot(211)\n",
    "plt.title(\"Accuracy\")\n",
    "plt.plot(history.history[\"acc\"], color=\"g\", label=\"train\")\n",
    "plt.plot(history.history[\"val_acc\"], color=\"b\", label=\"validation\")\n",
    "plt.legend(loc=\"best\")\n",
    "\n",
    "plt.subplot(212)\n",
    "plt.title(\"Loss\")\n",
    "plt.plot(history.history[\"loss\"], color=\"g\", label=\"train\")\n",
    "plt.plot(history.history[\"val_loss\"], color=\"b\", label=\"validation\")\n",
    "plt.legend(loc=\"best\")\n",
    "\n",
    "plt.tight_layout()\n",
    "plt.show()\n",
    "\n",
    "ytest = np.argmax(Ytest, axis=1)\n",
    "\n",
    "Ytest_ = model.predict([Xstest, Xqtest])\n",
    "ytest_ = np.argmax(Ytest_, axis=1)\n"
   ],
   "metadata": {
    "collapsed": false,
    "ExecuteTime": {
     "end_time": "2024-01-18T13:52:54.743192Z",
     "start_time": "2024-01-18T13:52:54.167699Z"
    }
   },
   "id": "49c58463a46b2340"
  }
 ],
 "metadata": {
  "kernelspec": {
   "display_name": "Python 3",
   "language": "python",
   "name": "python3"
  },
  "language_info": {
   "codemirror_mode": {
    "name": "ipython",
    "version": 2
   },
   "file_extension": ".py",
   "mimetype": "text/x-python",
   "name": "python",
   "nbconvert_exporter": "python",
   "pygments_lexer": "ipython2",
   "version": "2.7.6"
  }
 },
 "nbformat": 4,
 "nbformat_minor": 5
}
