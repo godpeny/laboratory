{
 "cells": [
  {
   "cell_type": "code",
   "execution_count": 1,
   "id": "initial_id",
   "metadata": {
    "collapsed": true,
    "ExecuteTime": {
     "end_time": "2024-01-20T10:46:23.854738Z",
     "start_time": "2024-01-20T10:46:20.933062Z"
    }
   },
   "outputs": [],
   "source": [
    "from ckonlpy.tag import Twitter\n",
    "from keras.utils import get_file\n",
    "from keras.preprocessing.sequence import pad_sequences\n",
    "from keras.utils import to_categorical\n",
    "import numpy as np\n",
    "from nltk import FreqDist\n",
    "from functools import reduce\n",
    "import os\n",
    "import re\n",
    "import matplotlib.pyplot as plt"
   ]
  },
  {
   "cell_type": "code",
   "execution_count": 2,
   "outputs": [],
   "source": [
    "data_path = \"../data/\"\n",
    "TRAIN_FILE = os.path.join(data_path + \"qa1_single-supporting-fact_train_kor.txt\")\n",
    "TEST_FILE = os.path.join(data_path + \"qa1_single-supporting-fact_test_kor.txt\")"
   ],
   "metadata": {
    "collapsed": false,
    "ExecuteTime": {
     "end_time": "2024-01-20T10:46:23.855016Z",
     "start_time": "2024-01-20T10:46:23.448700Z"
    }
   },
   "id": "8a1b672d3300f520"
  },
  {
   "cell_type": "code",
   "execution_count": 3,
   "outputs": [
    {
     "name": "stdout",
     "output_type": "stream",
     "text": [
      "훈련용 스토리의 개수 : 10000\n",
      "훈련용 질문의 개수 : 10000\n",
      "훈련용 답변의 개수 : 10000\n",
      "테스트용 스토리의 개수 : 1000\n",
      "테스트용 질문의 개수 : 1000\n",
      "테스트용 답변의 개수 : 1000\n"
     ]
    }
   ],
   "source": [
    "def read_data(dir):\n",
    "    story_temp = []\n",
    "    questions, answers, stories = [], [], []\n",
    "    lines = open(dir, 'rb')\n",
    "\n",
    "    for line in lines:\n",
    "        line = line.decode(\"utf-8\") # b' 제거\n",
    "        line = line.strip() # '\\n' 제거\n",
    "\n",
    "        idx, text = line.split(' ', 1)\n",
    "\n",
    "        if(int(idx)) == 1: # when new story comes\n",
    "            story_temp = []\n",
    "\n",
    "        if '\\t' in text: # when 'Q\\tA' comes\n",
    "            question, answer, _ = text.split('\\t')\n",
    "            stories.append([x for x in story_temp if x])\n",
    "            questions.append(question)\n",
    "            answers.append(answer)\n",
    "\n",
    "        else: # when story comes\n",
    "            story_temp.append(text)\n",
    "\n",
    "    lines.close()\n",
    "    return stories, questions, answers\n",
    "\n",
    "train_data = read_data(TRAIN_FILE)\n",
    "test_data = read_data(TEST_FILE)\n",
    "\n",
    "train_stories, train_questions, train_answers = read_data(TRAIN_FILE)\n",
    "test_stories, test_questions, test_answers = read_data(TEST_FILE)\n",
    "\n",
    "print('훈련용 스토리의 개수 :', len(train_stories))\n",
    "print('훈련용 질문의 개수 :',len(train_questions))\n",
    "print('훈련용 답변의 개수 :',len(train_answers))\n",
    "print('테스트용 스토리의 개수 :',len(test_stories))\n",
    "print('테스트용 질문의 개수 :',len(test_questions))\n",
    "print('테스트용 답변의 개수 :',len(test_answers))"
   ],
   "metadata": {
    "collapsed": false,
    "ExecuteTime": {
     "end_time": "2024-01-20T10:46:23.855222Z",
     "start_time": "2024-01-20T10:46:23.452598Z"
    }
   },
   "id": "ccd766a456efe3aa"
  },
  {
   "cell_type": "markdown",
   "source": [
    "# Tokenizing"
   ],
   "metadata": {
    "collapsed": false
   },
   "id": "c7204b546c6b26ae"
  },
  {
   "cell_type": "code",
   "execution_count": 4,
   "outputs": [],
   "source": [
    "def tokenize(sent):\n",
    "    return [x.strip() for x in re.split('(\\W+)', sent) if x.strip()]\n",
    "\n",
    "def preprocess(train, test):\n",
    "    counter = FreqDist() # frequency distribution\n",
    "    flatten = lambda data: reduce(lambda x, y: x + y, data) # concatenate sentences\n",
    "\n",
    "    story_len, question_len = [], []\n",
    "\n",
    "    for stories, questions, answers in [train, test]:\n",
    "        for story in stories:\n",
    "            stories_tokenized = tokenize(flatten(story))\n",
    "            story_len.append(len(stories_tokenized))\n",
    "            for word in stories_tokenized:\n",
    "                counter[word.lower()] += 1\n",
    "        for question in questions:\n",
    "            question_tokenized = tokenize(question)\n",
    "            question_len.append(len(question_tokenized))\n",
    "            for word in question_tokenized:\n",
    "                counter[word.lower()] += 1\n",
    "        for answer in answers:\n",
    "            answer_tokenized = tokenize(answer)\n",
    "            for word in answer_tokenized:\n",
    "                counter[word.lower()] += 1\n",
    "\n",
    "    # 단어 집합 생성\n",
    "    word2idx = {word : (idx + 1) for idx, (word, _) in enumerate(counter.most_common())}\n",
    "    idx2word = {idx : word for word, idx in word2idx.items()}\n",
    "\n",
    "    # 가장 긴 샘플의 길이\n",
    "    story_max_len = np.max(story_len)\n",
    "    question_max_len = np.max(question_len)\n",
    "\n",
    "    return word2idx, idx2word, story_max_len, question_max_len\n"
   ],
   "metadata": {
    "collapsed": false,
    "ExecuteTime": {
     "end_time": "2024-01-20T10:46:23.855288Z",
     "start_time": "2024-01-20T10:46:23.488214Z"
    }
   },
   "id": "9db3986cf76c812"
  },
  {
   "cell_type": "code",
   "execution_count": 5,
   "outputs": [
    {
     "name": "stdout",
     "output_type": "stream",
     "text": [
      "{'.': 1, '경임이는': 2, '은경이는': 3, '수종이는': 4, '필웅이는': 5, '이동했습니다': 6, '가버렸습니다': 7, '뛰어갔습니다': 8, '복귀했습니다': 9, '갔습니다': 10, '화장실로': 11, '정원으로': 12, '복도로': 13, '어디야': 14, '?': 15, '부엌으로': 16, '사무실로': 17, '침실로': 18, '화장실': 19, '정원': 20, '사무실': 21, '침실': 22, '복도': 23, '부엌': 24}\n",
      "40 3\n"
     ]
    }
   ],
   "source": [
    "word2idx, idx2word, story_max_len, question_max_len = preprocess(train_data, test_data)\n",
    "\n",
    "print(word2idx)\n",
    "print(story_max_len, question_max_len)"
   ],
   "metadata": {
    "collapsed": false,
    "ExecuteTime": {
     "end_time": "2024-01-20T10:46:23.855389Z",
     "start_time": "2024-01-20T10:46:23.544582Z"
    }
   },
   "id": "8b0dd19bbd4d3f8e"
  },
  {
   "cell_type": "code",
   "execution_count": 6,
   "outputs": [
    {
     "name": "stderr",
     "output_type": "stream",
     "text": [
      "/Users/godpeny/Code/venv/laboratory/lib/python3.11/site-packages/konlpy/tag/_okt.py:17: UserWarning: \"Twitter\" has changed to \"Okt\" since KoNLPy v0.4.5.\n",
      "  warn('\"Twitter\" has changed to \"Okt\" since KoNLPy v0.4.5.')\n"
     ]
    },
    {
     "name": "stdout",
     "output_type": "stream",
     "text": [
      "['은경', '이', '는', '화장실', '로', '이동', '했습니다', '.']\n",
      "['경', '임', '이', '는', '정원', '으로', '가버렸습니다', '.']\n",
      "['수', '종이', '는', '복도', '로', '뛰어갔습니다', '.']\n",
      "['필웅이', '는', '부엌', '으로', '복귀', '했습니다', '.']\n",
      "['수', '종이', '는', '사무실', '로', '갔습니다', '.']\n",
      "['은경', '이', '는', '침실', '로', '갔습니다', '.']\n",
      "['은경', '이', '는', '화장실', '로', '이동', '했습니다', '.']\n",
      "['경', '임', '이', '는', '정원', '으로', '가버렸습니다', '.']\n",
      "['수', '종이', '는', '복도', '로', '뛰어갔습니다', '.']\n",
      "['필웅이', '는', '부엌', '으로', '복귀', '했습니다', '.']\n",
      "['수', '종이', '는', '사무실', '로', '갔습니다', '.']\n",
      "['은경', '이', '는', '침실', '로', '갔습니다', '.']\n"
     ]
    }
   ],
   "source": [
    "twitter = Twitter()\n",
    "\n",
    "print(twitter.morphs('은경이는 화장실로 이동했습니다.'))\n",
    "print(twitter.morphs('경임이는 정원으로 가버렸습니다.'))\n",
    "print(twitter.morphs('수종이는 복도로 뛰어갔습니다.'))\n",
    "print(twitter.morphs('필웅이는 부엌으로 복귀했습니다.'))\n",
    "print(twitter.morphs('수종이는 사무실로 갔습니다.'))\n",
    "print(twitter.morphs('은경이는 침실로 갔습니다.'))\n",
    "\n",
    "# add korean name entity recognition\n",
    "twitter.add_dictionary('은경이', 'Noun')\n",
    "twitter.add_dictionary('경임이', 'Noun')\n",
    "twitter.add_dictionary('수종이', 'Noun')\n",
    "twitter.add_dictionary('필웅이', 'Noun')\n",
    "\n",
    "# test (not working currently)\n",
    "print(twitter.morphs('은경이는 화장실로 이동했습니다.'))\n",
    "print(twitter.morphs('경임이는 정원으로 가버렸습니다.'))\n",
    "print(twitter.morphs('수종이는 복도로 뛰어갔습니다.'))\n",
    "print(twitter.morphs('필웅이는 부엌으로 복귀했습니다.'))\n",
    "print(twitter.morphs('수종이는 사무실로 갔습니다.'))\n",
    "print(twitter.morphs('은경이는 침실로 갔습니다.'))"
   ],
   "metadata": {
    "collapsed": false,
    "ExecuteTime": {
     "end_time": "2024-01-20T10:46:26.110404Z",
     "start_time": "2024-01-20T10:46:23.639401Z"
    }
   },
   "id": "8c4444f7023f1659"
  },
  {
   "cell_type": "code",
   "execution_count": 7,
   "outputs": [
    {
     "name": "stdout",
     "output_type": "stream",
     "text": [
      "27\n"
     ]
    }
   ],
   "source": [
    "def tokenize(sent):\n",
    "    return twitter.morphs(sent)\n",
    "\n",
    "word2idx, idx2word, story_max_len, question_max_len = preprocess(train_data, test_data)\n",
    "vocab_size = len(word2idx) + 1 # rearrange vocab size\n",
    "print(vocab_size)"
   ],
   "metadata": {
    "collapsed": false,
    "ExecuteTime": {
     "end_time": "2024-01-20T10:47:21.244507Z",
     "start_time": "2024-01-20T10:46:25.905559Z"
    }
   },
   "id": "846482b3a836447e"
  },
  {
   "cell_type": "code",
   "execution_count": 8,
   "outputs": [],
   "source": [
    "def vectorize(data, word2idx, story_maxlen, question_maxlen):\n",
    "    Xs, Xq, Y = [], [], []\n",
    "    flatten = lambda data: reduce(lambda x, y: x + y, data)\n",
    "\n",
    "    stories, questions, answers = data\n",
    "\n",
    "    for story, question, answer in zip(stories, questions, answers):\n",
    "        xs = [word2idx[w.lower()] for w in tokenize(flatten(story))]\n",
    "        xq = [word2idx[w.lower()] for w in tokenize(question)]\n",
    "\n",
    "        y = np.zeros(len(word2idx) + 1)\n",
    "        y[word2idx[answer]] = 1\n",
    "\n",
    "        Xs.append(xs)\n",
    "        Xq.append(xq)\n",
    "        Y.append(y)\n",
    "\n",
    "    return pad_sequences(Xs, maxlen=story_maxlen), pad_sequences(Xq, maxlen=question_maxlen), np.array(Y)"
   ],
   "metadata": {
    "collapsed": false,
    "ExecuteTime": {
     "end_time": "2024-01-20T10:47:21.247860Z",
     "start_time": "2024-01-20T10:47:21.243860Z"
    }
   },
   "id": "6b6ff441e284a342"
  },
  {
   "cell_type": "code",
   "execution_count": 9,
   "outputs": [
    {
     "name": "stdout",
     "output_type": "stream",
     "text": [
      "(10000, 83) (10000, 7) (10000, 27)\n",
      "(1000, 83) (1000, 7) (1000, 27)\n"
     ]
    }
   ],
   "source": [
    "Xstrain, Xqtrain, Ytrain = vectorize(train_data, word2idx, story_max_len, question_max_len)\n",
    "Xstest, Xqtest, Ytest = vectorize(test_data, word2idx, story_max_len, question_max_len)\n",
    "\n",
    "print(Xstrain.shape, Xqtrain.shape, Ytrain.shape)\n",
    "print(Xstest.shape, Xqtest.shape, Ytest.shape)"
   ],
   "metadata": {
    "collapsed": false,
    "ExecuteTime": {
     "end_time": "2024-01-20T10:48:14.792366Z",
     "start_time": "2024-01-20T10:47:21.247463Z"
    }
   },
   "id": "cbc8ada98504ff5e"
  },
  {
   "cell_type": "markdown",
   "source": [
    "# Modeling"
   ],
   "metadata": {
    "collapsed": false
   },
   "id": "46033bba83fca744"
  },
  {
   "cell_type": "code",
   "execution_count": 10,
   "outputs": [],
   "source": [
    "from keras.models import Sequential, Model\n",
    "from keras.layers import Embedding\n",
    "from keras.layers import Permute, dot, add, concatenate\n",
    "from keras.layers import LSTM, Dense, Dropout, Input, Activation"
   ],
   "metadata": {
    "collapsed": false,
    "ExecuteTime": {
     "end_time": "2024-01-20T10:48:14.792588Z",
     "start_time": "2024-01-20T10:48:14.790722Z"
    }
   },
   "id": "91b3bb8142bf2071"
  },
  {
   "cell_type": "code",
   "execution_count": 11,
   "outputs": [],
   "source": [
    "# hyper parameters\n",
    "train_epochs = 120\n",
    "batch_size = 32\n",
    "embed_size = 50\n",
    "lstm_size = 64\n",
    "dropout_rate = 0.30"
   ],
   "metadata": {
    "collapsed": false,
    "ExecuteTime": {
     "end_time": "2024-01-20T10:48:14.796077Z",
     "start_time": "2024-01-20T10:48:14.793140Z"
    }
   },
   "id": "8ff5ca905b6baa40"
  },
  {
   "cell_type": "code",
   "execution_count": 12,
   "outputs": [
    {
     "name": "stdout",
     "output_type": "stream",
     "text": [
      "Stories : KerasTensor(type_spec=TensorSpec(shape=(None, 83), dtype=tf.float32, name='input_1'), name='input_1', description=\"created by layer 'input_1'\")\n",
      "Question: KerasTensor(type_spec=TensorSpec(shape=(None, 7), dtype=tf.float32, name='input_2'), name='input_2', description=\"created by layer 'input_2'\")\n",
      "Input encoded m KerasTensor(type_spec=TensorSpec(shape=(None, 83, 50), dtype=tf.float32, name=None), name='sequential/dropout/Identity:0', description=\"created by layer 'sequential'\")\n",
      "Input encoded c KerasTensor(type_spec=TensorSpec(shape=(None, 83, 7), dtype=tf.float32, name=None), name='sequential_1/dropout_1/Identity:0', description=\"created by layer 'sequential_1'\")\n",
      "Question encoded KerasTensor(type_spec=TensorSpec(shape=(None, 7, 50), dtype=tf.float32, name=None), name='sequential_2/dropout_2/Identity:0', description=\"created by layer 'sequential_2'\")\n"
     ]
    }
   ],
   "source": [
    "# 플레이스 홀더. 입력을 담는 변수\n",
    "input_sequence = Input((story_max_len,))\n",
    "question = Input((question_max_len,))\n",
    "\n",
    "print('Stories :', input_sequence)\n",
    "print('Question:', question)\n",
    "\n",
    "# 스토리를 위한 첫번째 임베딩. 그림에서의 Embedding A\n",
    "input_encoder_m = Sequential()\n",
    "input_encoder_m.add(Embedding(input_dim=vocab_size,\n",
    "                              output_dim=embed_size))\n",
    "input_encoder_m.add(Dropout(dropout_rate))\n",
    "# 결과 : (samples, story_max_len, embedding_dim) / 샘플의 수, 문장의 최대 길이, 임베딩 벡터의 차원\n",
    "\n",
    "# 스토리를 위한 두번째 임베딩. 그림에서의 Embedding C\n",
    "# 임베딩 벡터의 차원을 question_max_len(질문의 최대 길이)로 한다.\n",
    "input_encoder_c = Sequential()\n",
    "input_encoder_c.add(Embedding(input_dim=vocab_size,\n",
    "                              output_dim=question_max_len))\n",
    "input_encoder_c.add(Dropout(dropout_rate))\n",
    "# 결과 : (samples, story_max_len, question_max_len) / 샘플의 수, 문장의 최대 길이, 질문의 최대 길이(임베딩 벡터의 차원)\n",
    "\n",
    "# 질문을 위한 임베딩. 그림에서의 Embedding B\n",
    "question_encoder = Sequential()\n",
    "question_encoder.add(Embedding(input_dim=vocab_size,\n",
    "                               output_dim=embed_size,\n",
    "                               input_length=question_max_len))\n",
    "question_encoder.add(Dropout(dropout_rate))\n",
    "# 결과 : (samples, question_max_len, embedding_dim) / 샘플의 수, 질문의 최대 길이, 임베딩 벡터의 차원\n",
    "\n",
    "# 실질적인 임베딩 과정\n",
    "input_encoded_m = input_encoder_m(input_sequence)\n",
    "input_encoded_c = input_encoder_c(input_sequence)\n",
    "question_encoded = question_encoder(question)\n",
    "\n",
    "print('Input encoded m', input_encoded_m)\n",
    "print('Input encoded c', input_encoded_c)\n",
    "print('Question encoded', question_encoded)"
   ],
   "metadata": {
    "collapsed": false,
    "ExecuteTime": {
     "end_time": "2024-01-20T10:48:14.837973Z",
     "start_time": "2024-01-20T10:48:14.796176Z"
    }
   },
   "id": "9650eae3805bc44e"
  },
  {
   "cell_type": "code",
   "execution_count": 13,
   "outputs": [
    {
     "name": "stdout",
     "output_type": "stream",
     "text": [
      "Match shape KerasTensor(type_spec=TensorSpec(shape=(None, 83, 7), dtype=tf.float32, name=None), name='activation/Softmax:0', description=\"created by layer 'activation'\")\n",
      "Response shape KerasTensor(type_spec=TensorSpec(shape=(None, 7, 83), dtype=tf.float32, name=None), name='permute/transpose:0', description=\"created by layer 'permute'\")\n",
      "Answer shape KerasTensor(type_spec=TensorSpec(shape=(None, 7, 133), dtype=tf.float32, name=None), name='concatenate/concat:0', description=\"created by layer 'concatenate'\")\n"
     ]
    }
   ],
   "source": [
    "# 스토리 단어들과 질문 단어들 간의 유사도를 구하는 과정\n",
    "# 유사도는 내적을 사용한다.\n",
    "match = dot([input_encoded_m, question_encoded], axes=-1, normalize=False)\n",
    "match = Activation('softmax')(match)\n",
    "print('Match shape', match)\n",
    "# 결과 : (samples, story_maxlen, question_max_len) / 샘플의 수, 문장의 최대 길이, 질문의 최대 길이\n",
    "\n",
    "response = add([match, input_encoded_c])  # (samples, story_max_len, question_max_len)\n",
    "response = Permute((2, 1))(response)  # (samples, question_max_len, story_max_len)\n",
    "print('Response shape', response)\n",
    "\n",
    "answer = concatenate([response, question_encoded])\n",
    "print('Answer shape', answer)\n",
    "\n",
    "answer = LSTM(lstm_size)(answer)\n",
    "answer = Dropout(dropout_rate)(answer)\n",
    "answer = Dense(vocab_size)(answer)\n",
    "answer = Activation('softmax')(answer)"
   ],
   "metadata": {
    "collapsed": false,
    "ExecuteTime": {
     "end_time": "2024-01-20T10:48:14.971593Z",
     "start_time": "2024-01-20T10:48:14.840730Z"
    }
   },
   "id": "6fbd7c7f343e4684"
  },
  {
   "cell_type": "code",
   "execution_count": 14,
   "outputs": [
    {
     "name": "stdout",
     "output_type": "stream",
     "text": [
      "Model: \"model\"\n",
      "__________________________________________________________________________________________________\n",
      " Layer (type)                Output Shape                 Param #   Connected to                  \n",
      "==================================================================================================\n",
      " input_1 (InputLayer)        [(None, 83)]                 0         []                            \n",
      "                                                                                                  \n",
      " input_2 (InputLayer)        [(None, 7)]                  0         []                            \n",
      "                                                                                                  \n",
      " sequential (Sequential)     (None, None, 50)             1350      ['input_1[0][0]']             \n",
      "                                                                                                  \n",
      " sequential_2 (Sequential)   (None, 7, 50)                1350      ['input_2[0][0]']             \n",
      "                                                                                                  \n",
      " dot (Dot)                   (None, 83, 7)                0         ['sequential[0][0]',          \n",
      "                                                                     'sequential_2[0][0]']        \n",
      "                                                                                                  \n",
      " activation (Activation)     (None, 83, 7)                0         ['dot[0][0]']                 \n",
      "                                                                                                  \n",
      " sequential_1 (Sequential)   (None, None, 7)              189       ['input_1[0][0]']             \n",
      "                                                                                                  \n",
      " add (Add)                   (None, 83, 7)                0         ['activation[0][0]',          \n",
      "                                                                     'sequential_1[0][0]']        \n",
      "                                                                                                  \n",
      " permute (Permute)           (None, 7, 83)                0         ['add[0][0]']                 \n",
      "                                                                                                  \n",
      " concatenate (Concatenate)   (None, 7, 133)               0         ['permute[0][0]',             \n",
      "                                                                     'sequential_2[0][0]']        \n",
      "                                                                                                  \n",
      " lstm (LSTM)                 (None, 64)                   50688     ['concatenate[0][0]']         \n",
      "                                                                                                  \n",
      " dropout_3 (Dropout)         (None, 64)                   0         ['lstm[0][0]']                \n",
      "                                                                                                  \n",
      " dense (Dense)               (None, 27)                   1755      ['dropout_3[0][0]']           \n",
      "                                                                                                  \n",
      " activation_1 (Activation)   (None, 27)                   0         ['dense[0][0]']               \n",
      "                                                                                                  \n",
      "==================================================================================================\n",
      "Total params: 55332 (216.14 KB)\n",
      "Trainable params: 55332 (216.14 KB)\n",
      "Non-trainable params: 0 (0.00 Byte)\n",
      "__________________________________________________________________________________________________\n",
      "(10000, 83) (10000, 7) (10000, 27)\n",
      "(1000, 83) (1000, 7) (1000, 27)\n",
      "Epoch 1/120\n",
      "313/313 [==============================] - 3s 6ms/step - loss: 1.8889 - acc: 0.1773 - val_loss: 1.7771 - val_acc: 0.2190\n",
      "Epoch 2/120\n",
      "313/313 [==============================] - 2s 5ms/step - loss: 1.6990 - acc: 0.2545 - val_loss: 1.6202 - val_acc: 0.3280\n",
      "Epoch 3/120\n",
      "313/313 [==============================] - 2s 5ms/step - loss: 1.5758 - acc: 0.3455 - val_loss: 1.5115 - val_acc: 0.4180\n",
      "Epoch 4/120\n",
      "313/313 [==============================] - 2s 5ms/step - loss: 1.4729 - acc: 0.4383 - val_loss: 1.4280 - val_acc: 0.4730\n",
      "Epoch 5/120\n",
      "313/313 [==============================] - 2s 5ms/step - loss: 1.4001 - acc: 0.4781 - val_loss: 1.3590 - val_acc: 0.4990\n",
      "Epoch 6/120\n",
      "313/313 [==============================] - 2s 5ms/step - loss: 1.3534 - acc: 0.4910 - val_loss: 1.3445 - val_acc: 0.4960\n",
      "Epoch 7/120\n",
      "313/313 [==============================] - 2s 5ms/step - loss: 1.3170 - acc: 0.5067 - val_loss: 1.2823 - val_acc: 0.5230\n",
      "Epoch 8/120\n",
      "313/313 [==============================] - 2s 5ms/step - loss: 1.2809 - acc: 0.5148 - val_loss: 1.2648 - val_acc: 0.5180\n",
      "Epoch 9/120\n",
      "313/313 [==============================] - 2s 6ms/step - loss: 1.2439 - acc: 0.5206 - val_loss: 1.2571 - val_acc: 0.5200\n",
      "Epoch 10/120\n",
      "313/313 [==============================] - 2s 6ms/step - loss: 1.2323 - acc: 0.5214 - val_loss: 1.2205 - val_acc: 0.5190\n",
      "Epoch 11/120\n",
      "313/313 [==============================] - 2s 6ms/step - loss: 1.2046 - acc: 0.5308 - val_loss: 1.1859 - val_acc: 0.5260\n",
      "Epoch 12/120\n",
      "313/313 [==============================] - 2s 6ms/step - loss: 1.1933 - acc: 0.5244 - val_loss: 1.1851 - val_acc: 0.5320\n",
      "Epoch 13/120\n",
      "313/313 [==============================] - 2s 6ms/step - loss: 1.1796 - acc: 0.5373 - val_loss: 1.1737 - val_acc: 0.5280\n",
      "Epoch 14/120\n",
      "313/313 [==============================] - 2s 6ms/step - loss: 1.1518 - acc: 0.5432 - val_loss: 1.1652 - val_acc: 0.5300\n",
      "Epoch 15/120\n",
      "313/313 [==============================] - 2s 6ms/step - loss: 1.1471 - acc: 0.5398 - val_loss: 1.1769 - val_acc: 0.5340\n",
      "Epoch 16/120\n",
      "313/313 [==============================] - 2s 6ms/step - loss: 1.1376 - acc: 0.5510 - val_loss: 1.1511 - val_acc: 0.5450\n",
      "Epoch 17/120\n",
      "313/313 [==============================] - 2s 6ms/step - loss: 1.1041 - acc: 0.5599 - val_loss: 1.1195 - val_acc: 0.5560\n",
      "Epoch 18/120\n",
      "313/313 [==============================] - 2s 6ms/step - loss: 1.0872 - acc: 0.5726 - val_loss: 1.1055 - val_acc: 0.5910\n",
      "Epoch 19/120\n",
      "313/313 [==============================] - 2s 6ms/step - loss: 1.0532 - acc: 0.5974 - val_loss: 1.0744 - val_acc: 0.6050\n",
      "Epoch 20/120\n",
      "313/313 [==============================] - 2s 6ms/step - loss: 0.9927 - acc: 0.6323 - val_loss: 0.9447 - val_acc: 0.6690\n",
      "Epoch 21/120\n",
      "313/313 [==============================] - 2s 6ms/step - loss: 0.9151 - acc: 0.6682 - val_loss: 0.8901 - val_acc: 0.6990\n",
      "Epoch 22/120\n",
      "313/313 [==============================] - 2s 6ms/step - loss: 0.8494 - acc: 0.6966 - val_loss: 0.8034 - val_acc: 0.7240\n",
      "Epoch 23/120\n",
      "313/313 [==============================] - 2s 6ms/step - loss: 0.7637 - acc: 0.7274 - val_loss: 0.7012 - val_acc: 0.7390\n",
      "Epoch 24/120\n",
      "313/313 [==============================] - 2s 6ms/step - loss: 0.6957 - acc: 0.7555 - val_loss: 0.6813 - val_acc: 0.7480\n",
      "Epoch 25/120\n",
      "313/313 [==============================] - 2s 6ms/step - loss: 0.6620 - acc: 0.7620 - val_loss: 0.6352 - val_acc: 0.7640\n",
      "Epoch 26/120\n",
      "313/313 [==============================] - 2s 6ms/step - loss: 0.6301 - acc: 0.7723 - val_loss: 0.6171 - val_acc: 0.7680\n",
      "Epoch 27/120\n",
      "313/313 [==============================] - 2s 6ms/step - loss: 0.5987 - acc: 0.7825 - val_loss: 0.6377 - val_acc: 0.7460\n",
      "Epoch 28/120\n",
      "313/313 [==============================] - 2s 6ms/step - loss: 0.5872 - acc: 0.7873 - val_loss: 0.6080 - val_acc: 0.7650\n",
      "Epoch 29/120\n",
      "313/313 [==============================] - 2s 6ms/step - loss: 0.5650 - acc: 0.7945 - val_loss: 0.6141 - val_acc: 0.7720\n",
      "Epoch 30/120\n",
      "313/313 [==============================] - 2s 6ms/step - loss: 0.5591 - acc: 0.7943 - val_loss: 0.6219 - val_acc: 0.7590\n",
      "Epoch 31/120\n",
      "313/313 [==============================] - 2s 6ms/step - loss: 0.5489 - acc: 0.7981 - val_loss: 0.6181 - val_acc: 0.7560\n",
      "Epoch 32/120\n",
      "313/313 [==============================] - 2s 6ms/step - loss: 0.5365 - acc: 0.7995 - val_loss: 0.6326 - val_acc: 0.7540\n",
      "Epoch 33/120\n",
      "313/313 [==============================] - 2s 6ms/step - loss: 0.5296 - acc: 0.8035 - val_loss: 0.6057 - val_acc: 0.7600\n",
      "Epoch 34/120\n",
      "313/313 [==============================] - 2s 6ms/step - loss: 0.5219 - acc: 0.8073 - val_loss: 0.6154 - val_acc: 0.7520\n",
      "Epoch 35/120\n",
      "313/313 [==============================] - 2s 6ms/step - loss: 0.5008 - acc: 0.8115 - val_loss: 0.6063 - val_acc: 0.7590\n",
      "Epoch 36/120\n",
      "313/313 [==============================] - 2s 6ms/step - loss: 0.5042 - acc: 0.8074 - val_loss: 0.6167 - val_acc: 0.7560\n",
      "Epoch 37/120\n",
      "313/313 [==============================] - 2s 7ms/step - loss: 0.4973 - acc: 0.8170 - val_loss: 0.6109 - val_acc: 0.7490\n",
      "Epoch 38/120\n",
      "313/313 [==============================] - 2s 6ms/step - loss: 0.4905 - acc: 0.8152 - val_loss: 0.6400 - val_acc: 0.7510\n",
      "Epoch 39/120\n",
      "313/313 [==============================] - 2s 6ms/step - loss: 0.4781 - acc: 0.8223 - val_loss: 0.6235 - val_acc: 0.7470\n",
      "Epoch 40/120\n",
      "313/313 [==============================] - 2s 6ms/step - loss: 0.4743 - acc: 0.8209 - val_loss: 0.6078 - val_acc: 0.7580\n",
      "Epoch 41/120\n",
      "313/313 [==============================] - 2s 6ms/step - loss: 0.4721 - acc: 0.8237 - val_loss: 0.6305 - val_acc: 0.7490\n",
      "Epoch 42/120\n",
      "313/313 [==============================] - 2s 6ms/step - loss: 0.4594 - acc: 0.8260 - val_loss: 0.6094 - val_acc: 0.7580\n",
      "Epoch 43/120\n",
      "313/313 [==============================] - 2s 6ms/step - loss: 0.4518 - acc: 0.8302 - val_loss: 0.5965 - val_acc: 0.7570\n",
      "Epoch 44/120\n",
      "313/313 [==============================] - 2s 6ms/step - loss: 0.4401 - acc: 0.8358 - val_loss: 0.6041 - val_acc: 0.7570\n",
      "Epoch 45/120\n",
      "313/313 [==============================] - 2s 6ms/step - loss: 0.4502 - acc: 0.8320 - val_loss: 0.6107 - val_acc: 0.7660\n",
      "Epoch 46/120\n",
      "313/313 [==============================] - 2s 7ms/step - loss: 0.4263 - acc: 0.8420 - val_loss: 0.6071 - val_acc: 0.7670\n",
      "Epoch 47/120\n",
      "313/313 [==============================] - 2s 7ms/step - loss: 0.4254 - acc: 0.8413 - val_loss: 0.6220 - val_acc: 0.7690\n",
      "Epoch 48/120\n",
      "313/313 [==============================] - 2s 7ms/step - loss: 0.4136 - acc: 0.8439 - val_loss: 0.6386 - val_acc: 0.7690\n",
      "Epoch 49/120\n",
      "313/313 [==============================] - 2s 7ms/step - loss: 0.4097 - acc: 0.8445 - val_loss: 0.6517 - val_acc: 0.7630\n",
      "Epoch 50/120\n",
      "313/313 [==============================] - 2s 7ms/step - loss: 0.3972 - acc: 0.8512 - val_loss: 0.6135 - val_acc: 0.7630\n",
      "Epoch 51/120\n",
      "313/313 [==============================] - 2s 7ms/step - loss: 0.4004 - acc: 0.8522 - val_loss: 0.6243 - val_acc: 0.7630\n",
      "Epoch 52/120\n",
      "313/313 [==============================] - 2s 8ms/step - loss: 0.3988 - acc: 0.8510 - val_loss: 0.6009 - val_acc: 0.7750\n",
      "Epoch 53/120\n",
      "313/313 [==============================] - 2s 8ms/step - loss: 0.3902 - acc: 0.8526 - val_loss: 0.6541 - val_acc: 0.7670\n",
      "Epoch 54/120\n",
      "313/313 [==============================] - 2s 8ms/step - loss: 0.3657 - acc: 0.8689 - val_loss: 0.6848 - val_acc: 0.7730\n",
      "Epoch 55/120\n",
      "313/313 [==============================] - 3s 8ms/step - loss: 0.3676 - acc: 0.8672 - val_loss: 0.6533 - val_acc: 0.7720\n",
      "Epoch 56/120\n",
      "313/313 [==============================] - 2s 8ms/step - loss: 0.3610 - acc: 0.8675 - val_loss: 0.6345 - val_acc: 0.7620\n",
      "Epoch 57/120\n",
      "313/313 [==============================] - 3s 8ms/step - loss: 0.3625 - acc: 0.8663 - val_loss: 0.6511 - val_acc: 0.7710\n",
      "Epoch 58/120\n",
      "313/313 [==============================] - 2s 8ms/step - loss: 0.3455 - acc: 0.8704 - val_loss: 0.6891 - val_acc: 0.7740\n",
      "Epoch 59/120\n",
      "313/313 [==============================] - 3s 8ms/step - loss: 0.3496 - acc: 0.8726 - val_loss: 0.6658 - val_acc: 0.7720\n",
      "Epoch 60/120\n",
      "313/313 [==============================] - 3s 8ms/step - loss: 0.3289 - acc: 0.8761 - val_loss: 0.6467 - val_acc: 0.7810\n",
      "Epoch 61/120\n",
      "313/313 [==============================] - 3s 8ms/step - loss: 0.3278 - acc: 0.8809 - val_loss: 0.6591 - val_acc: 0.7750\n",
      "Epoch 62/120\n",
      "313/313 [==============================] - 3s 8ms/step - loss: 0.3197 - acc: 0.8799 - val_loss: 0.6709 - val_acc: 0.7810\n",
      "Epoch 63/120\n",
      "313/313 [==============================] - 3s 8ms/step - loss: 0.3080 - acc: 0.8871 - val_loss: 0.6605 - val_acc: 0.7810\n",
      "Epoch 64/120\n",
      "313/313 [==============================] - 3s 8ms/step - loss: 0.3149 - acc: 0.8841 - val_loss: 0.6587 - val_acc: 0.7780\n",
      "Epoch 65/120\n",
      "313/313 [==============================] - 3s 9ms/step - loss: 0.3036 - acc: 0.8917 - val_loss: 0.6523 - val_acc: 0.7810\n",
      "Epoch 66/120\n",
      "313/313 [==============================] - 3s 8ms/step - loss: 0.2931 - acc: 0.8919 - val_loss: 0.6552 - val_acc: 0.7820\n",
      "Epoch 67/120\n",
      "313/313 [==============================] - 3s 9ms/step - loss: 0.2918 - acc: 0.8941 - val_loss: 0.6307 - val_acc: 0.7880\n",
      "Epoch 68/120\n",
      "313/313 [==============================] - 3s 9ms/step - loss: 0.2892 - acc: 0.8936 - val_loss: 0.6600 - val_acc: 0.7770\n",
      "Epoch 69/120\n",
      "313/313 [==============================] - 3s 9ms/step - loss: 0.2755 - acc: 0.8994 - val_loss: 0.7042 - val_acc: 0.7940\n",
      "Epoch 70/120\n",
      "313/313 [==============================] - 3s 9ms/step - loss: 0.2742 - acc: 0.9018 - val_loss: 0.6910 - val_acc: 0.7860\n",
      "Epoch 71/120\n",
      "313/313 [==============================] - 3s 9ms/step - loss: 0.2671 - acc: 0.9048 - val_loss: 0.6482 - val_acc: 0.7750\n",
      "Epoch 72/120\n",
      "313/313 [==============================] - 3s 9ms/step - loss: 0.2568 - acc: 0.9064 - val_loss: 0.6385 - val_acc: 0.7860\n",
      "Epoch 73/120\n",
      "313/313 [==============================] - 3s 9ms/step - loss: 0.2532 - acc: 0.9072 - val_loss: 0.7031 - val_acc: 0.7870\n",
      "Epoch 74/120\n",
      "313/313 [==============================] - 2s 8ms/step - loss: 0.2517 - acc: 0.9116 - val_loss: 0.6966 - val_acc: 0.7960\n",
      "Epoch 75/120\n",
      "313/313 [==============================] - 2s 7ms/step - loss: 0.2401 - acc: 0.9134 - val_loss: 0.7003 - val_acc: 0.7930\n",
      "Epoch 76/120\n",
      "313/313 [==============================] - 2s 7ms/step - loss: 0.2395 - acc: 0.9164 - val_loss: 0.6816 - val_acc: 0.8000\n",
      "Epoch 77/120\n",
      "313/313 [==============================] - 2s 8ms/step - loss: 0.2302 - acc: 0.9191 - val_loss: 0.7150 - val_acc: 0.7920\n",
      "Epoch 78/120\n",
      "313/313 [==============================] - 2s 7ms/step - loss: 0.2281 - acc: 0.9204 - val_loss: 0.7277 - val_acc: 0.7930\n",
      "Epoch 79/120\n",
      "313/313 [==============================] - 2s 7ms/step - loss: 0.2274 - acc: 0.9177 - val_loss: 0.7346 - val_acc: 0.7930\n",
      "Epoch 80/120\n",
      "313/313 [==============================] - 2s 7ms/step - loss: 0.2215 - acc: 0.9196 - val_loss: 0.6982 - val_acc: 0.7980\n",
      "Epoch 81/120\n",
      "313/313 [==============================] - 2s 8ms/step - loss: 0.2189 - acc: 0.9219 - val_loss: 0.7008 - val_acc: 0.7980\n",
      "Epoch 82/120\n",
      "313/313 [==============================] - 2s 7ms/step - loss: 0.2134 - acc: 0.9254 - val_loss: 0.7165 - val_acc: 0.7980\n",
      "Epoch 83/120\n",
      "313/313 [==============================] - 2s 7ms/step - loss: 0.2072 - acc: 0.9268 - val_loss: 0.7211 - val_acc: 0.7960\n",
      "Epoch 84/120\n",
      "313/313 [==============================] - 2s 7ms/step - loss: 0.2053 - acc: 0.9291 - val_loss: 0.7216 - val_acc: 0.8020\n",
      "Epoch 85/120\n",
      "313/313 [==============================] - 2s 7ms/step - loss: 0.1977 - acc: 0.9267 - val_loss: 0.7405 - val_acc: 0.8010\n",
      "Epoch 86/120\n",
      "313/313 [==============================] - 2s 7ms/step - loss: 0.1926 - acc: 0.9311 - val_loss: 0.7620 - val_acc: 0.7970\n",
      "Epoch 87/120\n",
      "313/313 [==============================] - 2s 7ms/step - loss: 0.1935 - acc: 0.9313 - val_loss: 0.7912 - val_acc: 0.7920\n",
      "Epoch 88/120\n",
      "313/313 [==============================] - 2s 8ms/step - loss: 0.1993 - acc: 0.9312 - val_loss: 0.8201 - val_acc: 0.8070\n",
      "Epoch 89/120\n",
      "313/313 [==============================] - 2s 7ms/step - loss: 0.1921 - acc: 0.9312 - val_loss: 0.7175 - val_acc: 0.8080\n",
      "Epoch 90/120\n",
      "313/313 [==============================] - 2s 7ms/step - loss: 0.1888 - acc: 0.9321 - val_loss: 0.7268 - val_acc: 0.8060\n",
      "Epoch 91/120\n",
      "313/313 [==============================] - 2s 7ms/step - loss: 0.1750 - acc: 0.9397 - val_loss: 0.7643 - val_acc: 0.8060\n",
      "Epoch 92/120\n",
      "313/313 [==============================] - 2s 7ms/step - loss: 0.1815 - acc: 0.9356 - val_loss: 0.7546 - val_acc: 0.7990\n",
      "Epoch 93/120\n",
      "313/313 [==============================] - 2s 7ms/step - loss: 0.1664 - acc: 0.9388 - val_loss: 0.7980 - val_acc: 0.8060\n",
      "Epoch 94/120\n",
      "313/313 [==============================] - 2s 7ms/step - loss: 0.1655 - acc: 0.9427 - val_loss: 0.7990 - val_acc: 0.8040\n",
      "Epoch 95/120\n",
      "313/313 [==============================] - 2s 7ms/step - loss: 0.1653 - acc: 0.9424 - val_loss: 0.7752 - val_acc: 0.8050\n",
      "Epoch 96/120\n",
      "313/313 [==============================] - 2s 7ms/step - loss: 0.1730 - acc: 0.9384 - val_loss: 0.7501 - val_acc: 0.8070\n",
      "Epoch 97/120\n",
      "313/313 [==============================] - 2s 7ms/step - loss: 0.1559 - acc: 0.9437 - val_loss: 0.7782 - val_acc: 0.8080\n",
      "Epoch 98/120\n",
      "313/313 [==============================] - 2s 7ms/step - loss: 0.1645 - acc: 0.9401 - val_loss: 0.7929 - val_acc: 0.8210\n",
      "Epoch 99/120\n",
      "313/313 [==============================] - 2s 8ms/step - loss: 0.1578 - acc: 0.9465 - val_loss: 0.7950 - val_acc: 0.8020\n",
      "Epoch 100/120\n",
      "313/313 [==============================] - 2s 8ms/step - loss: 0.1542 - acc: 0.9453 - val_loss: 0.7435 - val_acc: 0.8140\n",
      "Epoch 101/120\n",
      "313/313 [==============================] - 2s 7ms/step - loss: 0.1493 - acc: 0.9491 - val_loss: 0.7301 - val_acc: 0.8060\n",
      "Epoch 102/120\n",
      "313/313 [==============================] - 2s 7ms/step - loss: 0.1508 - acc: 0.9467 - val_loss: 0.7325 - val_acc: 0.8000\n",
      "Epoch 103/120\n",
      "313/313 [==============================] - 2s 7ms/step - loss: 0.1518 - acc: 0.9473 - val_loss: 0.7505 - val_acc: 0.8060\n",
      "Epoch 104/120\n",
      "313/313 [==============================] - 2s 8ms/step - loss: 0.1421 - acc: 0.9492 - val_loss: 0.7991 - val_acc: 0.8080\n",
      "Epoch 105/120\n",
      "313/313 [==============================] - 2s 8ms/step - loss: 0.1433 - acc: 0.9521 - val_loss: 0.7820 - val_acc: 0.8140\n",
      "Epoch 106/120\n",
      "313/313 [==============================] - 3s 9ms/step - loss: 0.1369 - acc: 0.9509 - val_loss: 0.7797 - val_acc: 0.8080\n",
      "Epoch 107/120\n",
      "313/313 [==============================] - 3s 8ms/step - loss: 0.1420 - acc: 0.9500 - val_loss: 0.7834 - val_acc: 0.8130\n",
      "Epoch 108/120\n",
      "313/313 [==============================] - 3s 8ms/step - loss: 0.1430 - acc: 0.9522 - val_loss: 0.8445 - val_acc: 0.8050\n",
      "Epoch 109/120\n",
      "313/313 [==============================] - 3s 8ms/step - loss: 0.1307 - acc: 0.9522 - val_loss: 0.7892 - val_acc: 0.8130\n",
      "Epoch 110/120\n",
      "313/313 [==============================] - 3s 8ms/step - loss: 0.1486 - acc: 0.9488 - val_loss: 0.8076 - val_acc: 0.8120\n",
      "Epoch 111/120\n",
      "313/313 [==============================] - 2s 8ms/step - loss: 0.1289 - acc: 0.9531 - val_loss: 0.7882 - val_acc: 0.8140\n",
      "Epoch 112/120\n",
      "313/313 [==============================] - 2s 8ms/step - loss: 0.1201 - acc: 0.9589 - val_loss: 0.7984 - val_acc: 0.8070\n",
      "Epoch 113/120\n",
      "313/313 [==============================] - 3s 8ms/step - loss: 0.1224 - acc: 0.9585 - val_loss: 0.8131 - val_acc: 0.8070\n",
      "Epoch 114/120\n",
      "313/313 [==============================] - 3s 9ms/step - loss: 0.1267 - acc: 0.9560 - val_loss: 0.8602 - val_acc: 0.8050\n",
      "Epoch 115/120\n",
      "313/313 [==============================] - 3s 8ms/step - loss: 0.1195 - acc: 0.9588 - val_loss: 0.8585 - val_acc: 0.8000\n",
      "Epoch 116/120\n",
      "313/313 [==============================] - 3s 9ms/step - loss: 0.1244 - acc: 0.9554 - val_loss: 0.8167 - val_acc: 0.8090\n",
      "Epoch 117/120\n",
      "313/313 [==============================] - 3s 9ms/step - loss: 0.1154 - acc: 0.9606 - val_loss: 0.8547 - val_acc: 0.8010\n",
      "Epoch 118/120\n",
      "313/313 [==============================] - 3s 9ms/step - loss: 0.1175 - acc: 0.9588 - val_loss: 0.8472 - val_acc: 0.8100\n",
      "Epoch 119/120\n",
      "313/313 [==============================] - 3s 9ms/step - loss: 0.1167 - acc: 0.9606 - val_loss: 0.8181 - val_acc: 0.8140\n",
      "Epoch 120/120\n",
      "313/313 [==============================] - 3s 9ms/step - loss: 0.1195 - acc: 0.9594 - val_loss: 0.8405 - val_acc: 0.8080\n"
     ]
    }
   ],
   "source": [
    "model = Model([input_sequence, question], answer)\n",
    "model.compile(optimizer='rmsprop', loss='categorical_crossentropy',\n",
    "              metrics=['acc'])\n",
    "\n",
    "model.summary()\n",
    "\n",
    "print(Xstrain.shape, Xqtrain.shape, Ytrain.shape)\n",
    "print(Xstest.shape, Xqtest.shape, Ytest.shape)\n",
    "\n",
    "history = model.fit([Xstrain, Xqtrain],\n",
    "                    Ytrain, batch_size, train_epochs,\n",
    "                    validation_data=([Xstest, Xqtest], Ytest))"
   ],
   "metadata": {
    "collapsed": false,
    "ExecuteTime": {
     "end_time": "2024-01-20T10:52:43.185973Z",
     "start_time": "2024-01-20T10:48:14.970591Z"
    }
   },
   "id": "d519836ccd08d6e3"
  },
  {
   "cell_type": "code",
   "execution_count": 15,
   "outputs": [
    {
     "data": {
      "text/plain": "<Figure size 432x288 with 2 Axes>",
      "image/png": "[encoded data removed]"
     },
     "metadata": {
      "needs_background": "light"
     },
     "output_type": "display_data"
    },
    {
     "name": "stdout",
     "output_type": "stream",
     "text": [
      "32/32 [==============================] - 0s 2ms/step\n"
     ]
    }
   ],
   "source": [
    "plt.subplot(211)\n",
    "plt.title(\"Accuracy\")\n",
    "plt.plot(history.history[\"acc\"], color=\"g\", label=\"train\")\n",
    "plt.plot(history.history[\"val_acc\"], color=\"b\", label=\"validation\")\n",
    "plt.legend(loc=\"best\")\n",
    "\n",
    "plt.subplot(212)\n",
    "plt.title(\"Loss\")\n",
    "plt.plot(history.history[\"loss\"], color=\"g\", label=\"train\")\n",
    "plt.plot(history.history[\"val_loss\"], color=\"b\", label=\"validation\")\n",
    "plt.legend(loc=\"best\")\n",
    "\n",
    "plt.tight_layout()\n",
    "plt.show()\n",
    "\n",
    "ytest = np.argmax(Ytest, axis=1)\n",
    "Ytest_ = model.predict([Xstest, Xqtest])\n",
    "ytest_ = np.argmax(Ytest_, axis=1)\n"
   ],
   "metadata": {
    "collapsed": false,
    "ExecuteTime": {
     "end_time": "2024-01-20T10:52:43.760961Z",
     "start_time": "2024-01-20T10:52:43.186417Z"
    }
   },
   "id": "fc66dc5165b711fe"
  },
  {
   "cell_type": "code",
   "execution_count": 15,
   "outputs": [],
   "source": [],
   "metadata": {
    "collapsed": false,
    "ExecuteTime": {
     "end_time": "2024-01-20T10:52:43.764388Z",
     "start_time": "2024-01-20T10:52:43.761249Z"
    }
   },
   "id": "b2a6833b7799865"
  }
 ],
 "metadata": {
  "kernelspec": {
   "display_name": "Python 3",
   "language": "python",
   "name": "python3"
  },
  "language_info": {
   "codemirror_mode": {
    "name": "ipython",
    "version": 2
   },
   "file_extension": ".py",
   "mimetype": "text/x-python",
   "name": "python",
   "nbconvert_exporter": "python",
   "pygments_lexer": "ipython2",
   "version": "2.7.6"
  }
 },
 "nbformat": 4,
 "nbformat_minor": 5
}
