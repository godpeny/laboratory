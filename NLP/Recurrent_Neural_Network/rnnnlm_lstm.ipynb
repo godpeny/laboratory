{
 "cells": [
  {
   "cell_type": "code",
   "execution_count": 1,
   "id": "initial_id",
   "metadata": {
    "collapsed": true,
    "ExecuteTime": {
     "end_time": "2023-10-15T06:49:48.669169Z",
     "start_time": "2023-10-15T06:49:46.824254Z"
    }
   },
   "outputs": [],
   "source": [
    "# import\n",
    "import numpy as np\n",
    "import pandas as pd\n",
    "from string import punctuation\n",
    "\n",
    "import tensorflow as tf\n",
    "import keras\n",
    "\n",
    "from keras.utils import to_categorical\n",
    "from keras.preprocessing.text import Tokenizer\n",
    "from keras.preprocessing.sequence import pad_sequences\n",
    "from keras.models import Sequential, Model\n",
    "from keras.layers import Embedding, Dense, LSTM"
   ]
  },
  {
   "cell_type": "markdown",
   "source": [
    "# Data Preprocessing"
   ],
   "metadata": {
    "collapsed": false
   },
   "id": "a2dda454a06e5bcc"
  },
  {
   "cell_type": "code",
   "execution_count": 2,
   "outputs": [
    {
     "data": {
      "text/plain": "                  articleID  articleWordCount            byline documentType  \\\n0  5adf6684068401528a2aa69b               781    By JOHN BRANCH      article   \n1  5adf653f068401528a2aa697               656  By LISA FRIEDMAN      article   \n2  5adf4626068401528a2aa628              2427     By PETE WELLS      article   \n\n                                            headline  \\\n0  Former N.F.L. Cheerleaders’ Settlement Offer: ...   \n1  E.P.A. to Unveil a New Rule. Its Effect: Less ...   \n2                            The New Noma, Explained   \n\n                                            keywords  multimedia  newDesk  \\\n0  ['Workplace Hazards and Violations', 'Football...          68   Sports   \n1  ['Environmental Protection Agency', 'Pruitt, S...          68  Climate   \n2  ['Restaurants', 'Noma (Copenhagen, Restaurant)...          66   Dining   \n\n   printPage              pubDate   sectionName  \\\n0          0  2018-04-24 17:16:49  Pro Football   \n1          0  2018-04-24 17:11:21       Unknown   \n2          0  2018-04-24 14:58:44       Unknown   \n\n                                             snippet              source  \\\n0  “I understand that they could meet with us, pa...  The New York Times   \n1  The agency plans to publish a new regulation T...  The New York Times   \n2  What’s it like to eat at the second incarnatio...  The New York Times   \n\n  typeOfMaterial                                             webURL  \n0           News  https://www.nytimes.com/2018/04/24/sports/foot...  \n1           News  https://www.nytimes.com/2018/04/24/climate/epa...  \n2           News  https://www.nytimes.com/2018/04/24/dining/noma...  ",
      "text/html": "<div>\n<style scoped>\n    .dataframe tbody tr th:only-of-type {\n        vertical-align: middle;\n    }\n\n    .dataframe tbody tr th {\n        vertical-align: top;\n    }\n\n    .dataframe thead th {\n        text-align: right;\n    }\n</style>\n<table border=\"1\" class=\"dataframe\">\n  <thead>\n    <tr style=\"text-align: right;\">\n      <th></th>\n      <th>articleID</th>\n      <th>articleWordCount</th>\n      <th>byline</th>\n      <th>documentType</th>\n      <th>headline</th>\n      <th>keywords</th>\n      <th>multimedia</th>\n      <th>newDesk</th>\n      <th>printPage</th>\n      <th>pubDate</th>\n      <th>sectionName</th>\n      <th>snippet</th>\n      <th>source</th>\n      <th>typeOfMaterial</th>\n      <th>webURL</th>\n    </tr>\n  </thead>\n  <tbody>\n    <tr>\n      <th>0</th>\n      <td>5adf6684068401528a2aa69b</td>\n      <td>781</td>\n      <td>By JOHN BRANCH</td>\n      <td>article</td>\n      <td>Former N.F.L. Cheerleaders’ Settlement Offer: ...</td>\n      <td>['Workplace Hazards and Violations', 'Football...</td>\n      <td>68</td>\n      <td>Sports</td>\n      <td>0</td>\n      <td>2018-04-24 17:16:49</td>\n      <td>Pro Football</td>\n      <td>“I understand that they could meet with us, pa...</td>\n      <td>The New York Times</td>\n      <td>News</td>\n      <td>https://www.nytimes.com/2018/04/24/sports/foot...</td>\n    </tr>\n    <tr>\n      <th>1</th>\n      <td>5adf653f068401528a2aa697</td>\n      <td>656</td>\n      <td>By LISA FRIEDMAN</td>\n      <td>article</td>\n      <td>E.P.A. to Unveil a New Rule. Its Effect: Less ...</td>\n      <td>['Environmental Protection Agency', 'Pruitt, S...</td>\n      <td>68</td>\n      <td>Climate</td>\n      <td>0</td>\n      <td>2018-04-24 17:11:21</td>\n      <td>Unknown</td>\n      <td>The agency plans to publish a new regulation T...</td>\n      <td>The New York Times</td>\n      <td>News</td>\n      <td>https://www.nytimes.com/2018/04/24/climate/epa...</td>\n    </tr>\n    <tr>\n      <th>2</th>\n      <td>5adf4626068401528a2aa628</td>\n      <td>2427</td>\n      <td>By PETE WELLS</td>\n      <td>article</td>\n      <td>The New Noma, Explained</td>\n      <td>['Restaurants', 'Noma (Copenhagen, Restaurant)...</td>\n      <td>66</td>\n      <td>Dining</td>\n      <td>0</td>\n      <td>2018-04-24 14:58:44</td>\n      <td>Unknown</td>\n      <td>What’s it like to eat at the second incarnatio...</td>\n      <td>The New York Times</td>\n      <td>News</td>\n      <td>https://www.nytimes.com/2018/04/24/dining/noma...</td>\n    </tr>\n  </tbody>\n</table>\n</div>"
     },
     "execution_count": 2,
     "metadata": {},
     "output_type": "execute_result"
    }
   ],
   "source": [
    "# load data\n",
    "df = pd.read_csv('../data/ArticlesApril2018.csv')\n",
    "df.head(3)"
   ],
   "metadata": {
    "collapsed": false,
    "ExecuteTime": {
     "end_time": "2023-10-15T06:49:48.685868Z",
     "start_time": "2023-10-15T06:49:48.669697Z"
    }
   },
   "id": "6505a7eeca6dee26"
  },
  {
   "cell_type": "code",
   "execution_count": 3,
   "outputs": [
    {
     "name": "stdout",
     "output_type": "stream",
     "text": [
      "['articleID' 'articleWordCount' 'byline' 'documentType' 'headline'\n",
      " 'keywords' 'multimedia' 'newDesk' 'printPage' 'pubDate' 'sectionName'\n",
      " 'snippet' 'source' 'typeOfMaterial' 'webURL']\n",
      "False\n",
      "['Former N.F.L. Cheerleaders’ Settlement Offer: $1 and a Meeting With Goodell', 'E.P.A. to Unveil a New Rule. Its Effect: Less Science in Policymaking.', 'The New Noma, Explained', 'Unknown', 'Unknown']\n",
      "1324\n",
      "1214\n"
     ]
    }
   ],
   "source": [
    "# check null\n",
    "print(df.columns.values)\n",
    "print(df.columns.isnull().any()) \n",
    "\n",
    "# choose 'headline' columns\n",
    "headlines = df[\"headline\"].tolist()\n",
    "print(headlines[:5]) # 'Unknown' is in the list\n",
    "\n",
    "# remove 'Unknown' from the 'headline'\n",
    "print(len(headlines))\n",
    "headlines = [word for word in headlines if word != \"Unknown\"] # remove \"Unknown\" headlines\n",
    "print(len(headlines))"
   ],
   "metadata": {
    "collapsed": false,
    "ExecuteTime": {
     "end_time": "2023-10-15T06:49:48.688551Z",
     "start_time": "2023-10-15T06:49:48.685231Z"
    }
   },
   "id": "1ff3f13daf8d75cc"
  },
  {
   "cell_type": "code",
   "execution_count": 4,
   "outputs": [
    {
     "name": "stdout",
     "output_type": "stream",
     "text": [
      "['former nfl cheerleaders settlement offer 1 and a meeting with goodell', 'epa to unveil a new rule its effect less science in policymaking', 'the new noma explained', 'how a bag of texas dirt  became a times tradition', 'is school a place for selfexpression']\n",
      "1214\n"
     ]
    }
   ],
   "source": [
    "# remove non-ascii and punctuation in headlines\n",
    "def preprocessing(sentence):\n",
    "    # remove non-ascii, such as Chinese characters\n",
    "    sentence_processed = sentence.encode('UTF-8').decode('ascii', 'ignore') \n",
    "    # remove punctuation : r\"\"\"!\"#$%&'()*+,-./:;<=>?@[\\]^_`{|}~\"\"\"\n",
    "    sentence_processed = ''.join(char for char in sentence_processed if char not in punctuation).lower() \n",
    "    return sentence_processed\n",
    "\n",
    "headlines_proccessed = [preprocessing(headline) for headline in headlines]\n",
    "print(headlines_proccessed[:5])\n",
    "print(len(headlines_proccessed))"
   ],
   "metadata": {
    "collapsed": false,
    "ExecuteTime": {
     "end_time": "2023-10-15T06:49:48.698429Z",
     "start_time": "2023-10-15T06:49:48.690941Z"
    }
   },
   "id": "e9b1dcc7abb9d4c7"
  },
  {
   "cell_type": "code",
   "execution_count": 5,
   "outputs": [
    {
     "name": "stdout",
     "output_type": "stream",
     "text": [
      "3494\n"
     ]
    }
   ],
   "source": [
    "# tokenize headlines\n",
    "tokenizer = Tokenizer()\n",
    "tokenizer.fit_on_texts(headlines_proccessed)\n",
    "vocab_size = len(tokenizer.word_index) + 1 # index 0 is for padding.\n",
    "print(vocab_size)"
   ],
   "metadata": {
    "collapsed": false,
    "ExecuteTime": {
     "end_time": "2023-10-15T06:49:48.730577Z",
     "start_time": "2023-10-15T06:49:48.702556Z"
    }
   },
   "id": "7bc60d3e988ae64e"
  },
  {
   "cell_type": "code",
   "execution_count": 12,
   "outputs": [
    {
     "name": "stdout",
     "output_type": "stream",
     "text": [
      "[[99, 269], [99, 269, 371], [99, 269, 371, 1115], [99, 269, 371, 1115, 582], [99, 269, 371, 1115, 582, 52], [99, 269, 371, 1115, 582, 52, 7], [99, 269, 371, 1115, 582, 52, 7, 2], [99, 269, 371, 1115, 582, 52, 7, 2, 372], [99, 269, 371, 1115, 582, 52, 7, 2, 372, 10], [99, 269, 371, 1115, 582, 52, 7, 2, 372, 10, 1116], [100, 3]]\n"
     ]
    }
   ],
   "source": [
    "# split headlines into sentences to make training data\n",
    "sequences = list()\n",
    "\n",
    "for headline in headlines_proccessed:\n",
    "    encoded = tokenizer.texts_to_sequences([headline])[0]\n",
    "    \n",
    "    for i in range(1, len(encoded)):\n",
    "        sentence = encoded[:i+1]\n",
    "        sequences.append(sentence)\n",
    "        \n",
    "print(sequences[:11])"
   ],
   "metadata": {
    "collapsed": false,
    "ExecuteTime": {
     "end_time": "2023-10-15T06:59:59.937995Z",
     "start_time": "2023-10-15T06:59:59.932855Z"
    }
   },
   "id": "8a843ea518f017fa"
  },
  {
   "cell_type": "code",
   "execution_count": 10,
   "outputs": [],
   "source": [
    "# make index to word dictionary\n",
    "index_to_word = {}\n",
    "for k,v in tokenizer.word_index.items():# key : word, value : index\n",
    "    index_to_word[v] = k"
   ],
   "metadata": {
    "collapsed": false,
    "ExecuteTime": {
     "end_time": "2023-10-15T06:58:08.956195Z",
     "start_time": "2023-10-15T06:58:08.946570Z"
    }
   },
   "id": "c2cdf53fb42ccb4a"
  },
  {
   "cell_type": "code",
   "execution_count": 17,
   "outputs": [
    {
     "name": "stdout",
     "output_type": "stream",
     "text": [
      "[[   0    0    0    0    0    0    0    0    0    0    0    0    0    0\n",
      "     0    0    0    0    0    0    0    0   99  269]\n",
      " [   0    0    0    0    0    0    0    0    0    0    0    0    0    0\n",
      "     0    0    0    0    0    0    0   99  269  371]\n",
      " [   0    0    0    0    0    0    0    0    0    0    0    0    0    0\n",
      "     0    0    0    0    0    0   99  269  371 1115]]\n"
     ]
    }
   ],
   "source": [
    "# padding sentences with max length\n",
    "max_len = max(len(sequence) for sequence in sequences)\n",
    "sequences_padded = pad_sequences(sequences, maxlen=max_len, padding='pre')\n",
    "print(sequences_padded[:3])"
   ],
   "metadata": {
    "collapsed": false,
    "ExecuteTime": {
     "end_time": "2023-10-15T07:02:35.856439Z",
     "start_time": "2023-10-15T07:02:35.841151Z"
    }
   },
   "id": "4949bdd3c863eb16"
  },
  {
   "cell_type": "code",
   "execution_count": 21,
   "outputs": [
    {
     "name": "stdout",
     "output_type": "stream",
     "text": [
      "[[  0   0   0   0   0   0   0   0   0   0   0   0   0   0   0   0   0   0\n",
      "    0   0   0   0  99]\n",
      " [  0   0   0   0   0   0   0   0   0   0   0   0   0   0   0   0   0   0\n",
      "    0   0   0  99 269]\n",
      " [  0   0   0   0   0   0   0   0   0   0   0   0   0   0   0   0   0   0\n",
      "    0   0  99 269 371]]\n",
      "[ 269  371 1115]\n"
     ]
    }
   ],
   "source": [
    "# split into X and y\n",
    "data = np.array(sequences_padded)\n",
    "X = data[:,:-1]\n",
    "y = data[:,-1]\n",
    "\n",
    "print(X[:3])\n",
    "print(y[:3])\n",
    "\n",
    "# one-hot encoding\n",
    "y = to_categorical(y, num_classes=vocab_size)"
   ],
   "metadata": {
    "collapsed": false,
    "ExecuteTime": {
     "end_time": "2023-10-15T07:03:47.447917Z",
     "start_time": "2023-10-15T07:03:47.433225Z"
    }
   },
   "id": "5d11edb3da6ab9e"
  },
  {
   "cell_type": "markdown",
   "source": [
    "# Modeling"
   ],
   "metadata": {
    "collapsed": false
   },
   "id": "5ce806ca3012bfe6"
  },
  {
   "cell_type": "code",
   "execution_count": 22,
   "outputs": [
    {
     "name": "stdout",
     "output_type": "stream",
     "text": [
      "Model: \"sequential\"\n",
      "_________________________________________________________________\n",
      " Layer (type)                Output Shape              Param #   \n",
      "=================================================================\n",
      " embedding (Embedding)       (None, None, 10)          34940     \n",
      "                                                                 \n",
      " lstm (LSTM)                 (None, 128)               71168     \n",
      "                                                                 \n",
      " dense (Dense)               (None, 3494)              450726    \n",
      "                                                                 \n",
      "=================================================================\n",
      "Total params: 556834 (2.12 MB)\n",
      "Trainable params: 556834 (2.12 MB)\n",
      "Non-trainable params: 0 (0.00 Byte)\n",
      "_________________________________________________________________\n",
      "Epoch 1/200\n",
      "244/244 - 3s - loss: 7.6362 - accuracy: 0.0283 - 3s/epoch - 14ms/step\n",
      "Epoch 2/200\n",
      "244/244 - 3s - loss: 7.1062 - accuracy: 0.0306 - 3s/epoch - 11ms/step\n",
      "Epoch 3/200\n",
      "244/244 - 3s - loss: 6.9765 - accuracy: 0.0355 - 3s/epoch - 11ms/step\n",
      "Epoch 4/200\n",
      "244/244 - 3s - loss: 6.8503 - accuracy: 0.0411 - 3s/epoch - 11ms/step\n",
      "Epoch 5/200\n",
      "244/244 - 3s - loss: 6.6989 - accuracy: 0.0452 - 3s/epoch - 11ms/step\n",
      "Epoch 6/200\n",
      "244/244 - 3s - loss: 6.5203 - accuracy: 0.0477 - 3s/epoch - 11ms/step\n",
      "Epoch 7/200\n",
      "244/244 - 3s - loss: 6.3275 - accuracy: 0.0514 - 3s/epoch - 11ms/step\n",
      "Epoch 8/200\n",
      "244/244 - 3s - loss: 6.1281 - accuracy: 0.0559 - 3s/epoch - 11ms/step\n",
      "Epoch 9/200\n",
      "244/244 - 3s - loss: 5.9315 - accuracy: 0.0619 - 3s/epoch - 11ms/step\n",
      "Epoch 10/200\n",
      "244/244 - 3s - loss: 5.7431 - accuracy: 0.0666 - 3s/epoch - 11ms/step\n",
      "Epoch 11/200\n",
      "244/244 - 3s - loss: 5.5644 - accuracy: 0.0709 - 3s/epoch - 11ms/step\n",
      "Epoch 12/200\n",
      "244/244 - 3s - loss: 5.3990 - accuracy: 0.0763 - 3s/epoch - 11ms/step\n",
      "Epoch 13/200\n",
      "244/244 - 3s - loss: 5.2384 - accuracy: 0.0820 - 3s/epoch - 11ms/step\n",
      "Epoch 14/200\n",
      "244/244 - 3s - loss: 5.0871 - accuracy: 0.0907 - 3s/epoch - 11ms/step\n",
      "Epoch 15/200\n",
      "244/244 - 3s - loss: 4.9426 - accuracy: 0.1012 - 3s/epoch - 11ms/step\n",
      "Epoch 16/200\n",
      "244/244 - 3s - loss: 4.8031 - accuracy: 0.1089 - 3s/epoch - 11ms/step\n",
      "Epoch 17/200\n",
      "244/244 - 3s - loss: 4.6671 - accuracy: 0.1267 - 3s/epoch - 11ms/step\n",
      "Epoch 18/200\n",
      "244/244 - 3s - loss: 4.5372 - accuracy: 0.1385 - 3s/epoch - 11ms/step\n",
      "Epoch 19/200\n",
      "244/244 - 3s - loss: 4.4152 - accuracy: 0.1506 - 3s/epoch - 11ms/step\n",
      "Epoch 20/200\n",
      "244/244 - 3s - loss: 4.2946 - accuracy: 0.1688 - 3s/epoch - 11ms/step\n",
      "Epoch 21/200\n",
      "244/244 - 3s - loss: 4.1787 - accuracy: 0.1874 - 3s/epoch - 11ms/step\n",
      "Epoch 22/200\n",
      "244/244 - 3s - loss: 4.0675 - accuracy: 0.2070 - 3s/epoch - 11ms/step\n",
      "Epoch 23/200\n",
      "244/244 - 3s - loss: 3.9613 - accuracy: 0.2172 - 3s/epoch - 11ms/step\n",
      "Epoch 24/200\n",
      "244/244 - 3s - loss: 3.8564 - accuracy: 0.2336 - 3s/epoch - 11ms/step\n",
      "Epoch 25/200\n",
      "244/244 - 3s - loss: 3.7574 - accuracy: 0.2495 - 3s/epoch - 11ms/step\n",
      "Epoch 26/200\n",
      "244/244 - 3s - loss: 3.6565 - accuracy: 0.2734 - 3s/epoch - 11ms/step\n",
      "Epoch 27/200\n",
      "244/244 - 3s - loss: 3.5645 - accuracy: 0.2868 - 3s/epoch - 10ms/step\n",
      "Epoch 28/200\n",
      "244/244 - 3s - loss: 3.4726 - accuracy: 0.3005 - 3s/epoch - 11ms/step\n",
      "Epoch 29/200\n",
      "244/244 - 3s - loss: 3.3883 - accuracy: 0.3171 - 3s/epoch - 10ms/step\n",
      "Epoch 30/200\n",
      "244/244 - 3s - loss: 3.3029 - accuracy: 0.3345 - 3s/epoch - 11ms/step\n",
      "Epoch 31/200\n",
      "244/244 - 3s - loss: 3.2188 - accuracy: 0.3508 - 3s/epoch - 11ms/step\n",
      "Epoch 32/200\n",
      "244/244 - 3s - loss: 3.1404 - accuracy: 0.3572 - 3s/epoch - 10ms/step\n",
      "Epoch 33/200\n",
      "244/244 - 3s - loss: 3.0648 - accuracy: 0.3749 - 3s/epoch - 10ms/step\n",
      "Epoch 34/200\n",
      "244/244 - 3s - loss: 2.9936 - accuracy: 0.3901 - 3s/epoch - 10ms/step\n",
      "Epoch 35/200\n",
      "244/244 - 3s - loss: 2.9194 - accuracy: 0.4065 - 3s/epoch - 11ms/step\n",
      "Epoch 36/200\n",
      "244/244 - 3s - loss: 2.8536 - accuracy: 0.4136 - 3s/epoch - 11ms/step\n",
      "Epoch 37/200\n",
      "244/244 - 3s - loss: 2.7869 - accuracy: 0.4286 - 3s/epoch - 11ms/step\n",
      "Epoch 38/200\n",
      "244/244 - 3s - loss: 2.7223 - accuracy: 0.4420 - 3s/epoch - 11ms/step\n",
      "Epoch 39/200\n",
      "244/244 - 3s - loss: 2.6614 - accuracy: 0.4541 - 3s/epoch - 11ms/step\n",
      "Epoch 40/200\n",
      "244/244 - 3s - loss: 2.6056 - accuracy: 0.4652 - 3s/epoch - 11ms/step\n",
      "Epoch 41/200\n",
      "244/244 - 3s - loss: 2.5451 - accuracy: 0.4771 - 3s/epoch - 11ms/step\n",
      "Epoch 42/200\n",
      "244/244 - 3s - loss: 2.4884 - accuracy: 0.4870 - 3s/epoch - 11ms/step\n",
      "Epoch 43/200\n",
      "244/244 - 3s - loss: 2.4337 - accuracy: 0.4983 - 3s/epoch - 10ms/step\n",
      "Epoch 44/200\n",
      "244/244 - 3s - loss: 2.3782 - accuracy: 0.5145 - 3s/epoch - 11ms/step\n",
      "Epoch 45/200\n",
      "244/244 - 3s - loss: 2.3277 - accuracy: 0.5208 - 3s/epoch - 11ms/step\n",
      "Epoch 46/200\n",
      "244/244 - 3s - loss: 2.2779 - accuracy: 0.5308 - 3s/epoch - 11ms/step\n",
      "Epoch 47/200\n",
      "244/244 - 3s - loss: 2.2264 - accuracy: 0.5450 - 3s/epoch - 11ms/step\n",
      "Epoch 48/200\n",
      "244/244 - 3s - loss: 2.1788 - accuracy: 0.5511 - 3s/epoch - 11ms/step\n",
      "Epoch 49/200\n",
      "244/244 - 3s - loss: 2.1290 - accuracy: 0.5613 - 3s/epoch - 11ms/step\n",
      "Epoch 50/200\n",
      "244/244 - 3s - loss: 2.0844 - accuracy: 0.5725 - 3s/epoch - 11ms/step\n",
      "Epoch 51/200\n",
      "244/244 - 3s - loss: 2.0401 - accuracy: 0.5821 - 3s/epoch - 10ms/step\n",
      "Epoch 52/200\n",
      "244/244 - 3s - loss: 1.9959 - accuracy: 0.5918 - 3s/epoch - 11ms/step\n",
      "Epoch 53/200\n",
      "244/244 - 3s - loss: 1.9494 - accuracy: 0.6005 - 3s/epoch - 11ms/step\n",
      "Epoch 54/200\n",
      "244/244 - 3s - loss: 1.9080 - accuracy: 0.6075 - 3s/epoch - 11ms/step\n",
      "Epoch 55/200\n",
      "244/244 - 3s - loss: 1.8670 - accuracy: 0.6212 - 3s/epoch - 11ms/step\n",
      "Epoch 56/200\n",
      "244/244 - 3s - loss: 1.8280 - accuracy: 0.6290 - 3s/epoch - 11ms/step\n",
      "Epoch 57/200\n",
      "244/244 - 3s - loss: 1.7869 - accuracy: 0.6358 - 3s/epoch - 11ms/step\n",
      "Epoch 58/200\n",
      "244/244 - 3s - loss: 1.7492 - accuracy: 0.6427 - 3s/epoch - 11ms/step\n",
      "Epoch 59/200\n",
      "244/244 - 3s - loss: 1.7090 - accuracy: 0.6504 - 3s/epoch - 10ms/step\n",
      "Epoch 60/200\n",
      "244/244 - 2s - loss: 1.6718 - accuracy: 0.6594 - 2s/epoch - 10ms/step\n",
      "Epoch 61/200\n",
      "244/244 - 2s - loss: 1.6353 - accuracy: 0.6662 - 2s/epoch - 10ms/step\n",
      "Epoch 62/200\n",
      "244/244 - 2s - loss: 1.6010 - accuracy: 0.6744 - 2s/epoch - 10ms/step\n",
      "Epoch 63/200\n",
      "244/244 - 2s - loss: 1.5625 - accuracy: 0.6827 - 2s/epoch - 10ms/step\n",
      "Epoch 64/200\n",
      "244/244 - 3s - loss: 1.5294 - accuracy: 0.6899 - 3s/epoch - 11ms/step\n",
      "Epoch 65/200\n",
      "244/244 - 3s - loss: 1.4956 - accuracy: 0.6968 - 3s/epoch - 11ms/step\n",
      "Epoch 66/200\n",
      "244/244 - 3s - loss: 1.4615 - accuracy: 0.7038 - 3s/epoch - 11ms/step\n",
      "Epoch 67/200\n",
      "244/244 - 3s - loss: 1.4280 - accuracy: 0.7137 - 3s/epoch - 11ms/step\n",
      "Epoch 68/200\n",
      "244/244 - 389s - loss: 1.3982 - accuracy: 0.7214 - 389s/epoch - 2s/step\n",
      "Epoch 69/200\n",
      "244/244 - 3s - loss: 1.3648 - accuracy: 0.7259 - 3s/epoch - 11ms/step\n",
      "Epoch 70/200\n",
      "244/244 - 3s - loss: 1.3342 - accuracy: 0.7341 - 3s/epoch - 11ms/step\n",
      "Epoch 71/200\n",
      "244/244 - 3s - loss: 1.3044 - accuracy: 0.7374 - 3s/epoch - 11ms/step\n",
      "Epoch 72/200\n",
      "244/244 - 3s - loss: 1.2747 - accuracy: 0.7495 - 3s/epoch - 12ms/step\n",
      "Epoch 73/200\n",
      "244/244 - 3s - loss: 1.2437 - accuracy: 0.7524 - 3s/epoch - 12ms/step\n",
      "Epoch 74/200\n",
      "244/244 - 3s - loss: 1.2164 - accuracy: 0.7580 - 3s/epoch - 12ms/step\n",
      "Epoch 75/200\n",
      "244/244 - 3s - loss: 1.1852 - accuracy: 0.7653 - 3s/epoch - 12ms/step\n",
      "Epoch 76/200\n",
      "244/244 - 3s - loss: 1.1648 - accuracy: 0.7661 - 3s/epoch - 12ms/step\n",
      "Epoch 77/200\n",
      "244/244 - 3s - loss: 1.1364 - accuracy: 0.7748 - 3s/epoch - 11ms/step\n",
      "Epoch 78/200\n",
      "244/244 - 3s - loss: 1.1100 - accuracy: 0.7848 - 3s/epoch - 11ms/step\n",
      "Epoch 79/200\n",
      "244/244 - 3s - loss: 1.0830 - accuracy: 0.7889 - 3s/epoch - 12ms/step\n",
      "Epoch 80/200\n",
      "244/244 - 3s - loss: 1.0581 - accuracy: 0.7943 - 3s/epoch - 12ms/step\n",
      "Epoch 81/200\n",
      "244/244 - 3s - loss: 1.0347 - accuracy: 0.7976 - 3s/epoch - 11ms/step\n",
      "Epoch 82/200\n",
      "244/244 - 3s - loss: 1.0083 - accuracy: 0.8035 - 3s/epoch - 12ms/step\n",
      "Epoch 83/200\n",
      "244/244 - 3s - loss: 0.9844 - accuracy: 0.8067 - 3s/epoch - 12ms/step\n",
      "Epoch 84/200\n",
      "244/244 - 3s - loss: 0.9603 - accuracy: 0.8138 - 3s/epoch - 12ms/step\n",
      "Epoch 85/200\n",
      "244/244 - 3s - loss: 0.9414 - accuracy: 0.8158 - 3s/epoch - 12ms/step\n",
      "Epoch 86/200\n",
      "244/244 - 3s - loss: 0.9197 - accuracy: 0.8207 - 3s/epoch - 12ms/step\n",
      "Epoch 87/200\n",
      "244/244 - 3s - loss: 0.8975 - accuracy: 0.8253 - 3s/epoch - 12ms/step\n",
      "Epoch 88/200\n",
      "244/244 - 3s - loss: 0.8764 - accuracy: 0.8280 - 3s/epoch - 12ms/step\n",
      "Epoch 89/200\n",
      "244/244 - 3s - loss: 0.8578 - accuracy: 0.8333 - 3s/epoch - 12ms/step\n",
      "Epoch 90/200\n",
      "244/244 - 3s - loss: 0.8380 - accuracy: 0.8351 - 3s/epoch - 12ms/step\n",
      "Epoch 91/200\n",
      "244/244 - 3s - loss: 0.8161 - accuracy: 0.8410 - 3s/epoch - 12ms/step\n",
      "Epoch 92/200\n",
      "244/244 - 3s - loss: 0.7993 - accuracy: 0.8411 - 3s/epoch - 12ms/step\n",
      "Epoch 93/200\n",
      "244/244 - 3s - loss: 0.7800 - accuracy: 0.8466 - 3s/epoch - 12ms/step\n",
      "Epoch 94/200\n",
      "244/244 - 3s - loss: 0.7646 - accuracy: 0.8520 - 3s/epoch - 12ms/step\n",
      "Epoch 95/200\n",
      "244/244 - 3s - loss: 0.7457 - accuracy: 0.8512 - 3s/epoch - 12ms/step\n",
      "Epoch 96/200\n",
      "244/244 - 3s - loss: 0.7293 - accuracy: 0.8545 - 3s/epoch - 12ms/step\n",
      "Epoch 97/200\n",
      "244/244 - 3s - loss: 0.7119 - accuracy: 0.8610 - 3s/epoch - 12ms/step\n",
      "Epoch 98/200\n",
      "244/244 - 3s - loss: 0.6960 - accuracy: 0.8635 - 3s/epoch - 13ms/step\n",
      "Epoch 99/200\n",
      "244/244 - 3s - loss: 0.6810 - accuracy: 0.8657 - 3s/epoch - 13ms/step\n",
      "Epoch 100/200\n",
      "244/244 - 3s - loss: 0.6661 - accuracy: 0.8695 - 3s/epoch - 13ms/step\n",
      "Epoch 101/200\n",
      "244/244 - 3s - loss: 0.6517 - accuracy: 0.8692 - 3s/epoch - 13ms/step\n",
      "Epoch 102/200\n",
      "244/244 - 3s - loss: 0.6369 - accuracy: 0.8722 - 3s/epoch - 13ms/step\n",
      "Epoch 103/200\n",
      "244/244 - 3s - loss: 0.6240 - accuracy: 0.8749 - 3s/epoch - 13ms/step\n",
      "Epoch 104/200\n",
      "244/244 - 3s - loss: 0.6152 - accuracy: 0.8766 - 3s/epoch - 13ms/step\n",
      "Epoch 105/200\n",
      "244/244 - 3s - loss: 0.5983 - accuracy: 0.8804 - 3s/epoch - 13ms/step\n",
      "Epoch 106/200\n",
      "244/244 - 3s - loss: 0.5851 - accuracy: 0.8827 - 3s/epoch - 14ms/step\n",
      "Epoch 107/200\n",
      "244/244 - 3s - loss: 0.5726 - accuracy: 0.8833 - 3s/epoch - 14ms/step\n",
      "Epoch 108/200\n",
      "244/244 - 3s - loss: 0.5592 - accuracy: 0.8875 - 3s/epoch - 14ms/step\n",
      "Epoch 109/200\n",
      "244/244 - 3s - loss: 0.5492 - accuracy: 0.8868 - 3s/epoch - 14ms/step\n",
      "Epoch 110/200\n",
      "244/244 - 3s - loss: 0.5396 - accuracy: 0.8886 - 3s/epoch - 14ms/step\n",
      "Epoch 111/200\n",
      "244/244 - 3s - loss: 0.5269 - accuracy: 0.8906 - 3s/epoch - 14ms/step\n",
      "Epoch 112/200\n",
      "244/244 - 4s - loss: 0.5151 - accuracy: 0.8941 - 4s/epoch - 14ms/step\n",
      "Epoch 113/200\n",
      "244/244 - 4s - loss: 0.5066 - accuracy: 0.8938 - 4s/epoch - 14ms/step\n",
      "Epoch 114/200\n",
      "244/244 - 3s - loss: 0.4951 - accuracy: 0.8976 - 3s/epoch - 14ms/step\n",
      "Epoch 115/200\n",
      "244/244 - 4s - loss: 0.4850 - accuracy: 0.8985 - 4s/epoch - 15ms/step\n",
      "Epoch 116/200\n",
      "244/244 - 4s - loss: 0.4779 - accuracy: 0.9008 - 4s/epoch - 14ms/step\n",
      "Epoch 117/200\n",
      "244/244 - 4s - loss: 0.4722 - accuracy: 0.9007 - 4s/epoch - 15ms/step\n",
      "Epoch 118/200\n",
      "244/244 - 4s - loss: 0.4605 - accuracy: 0.9032 - 4s/epoch - 15ms/step\n",
      "Epoch 119/200\n",
      "244/244 - 4s - loss: 0.4486 - accuracy: 0.9030 - 4s/epoch - 16ms/step\n",
      "Epoch 120/200\n",
      "244/244 - 4s - loss: 0.4419 - accuracy: 0.9057 - 4s/epoch - 16ms/step\n",
      "Epoch 121/200\n",
      "244/244 - 4s - loss: 0.4328 - accuracy: 0.9068 - 4s/epoch - 16ms/step\n",
      "Epoch 122/200\n",
      "244/244 - 4s - loss: 0.4264 - accuracy: 0.9070 - 4s/epoch - 15ms/step\n",
      "Epoch 123/200\n",
      "244/244 - 3s - loss: 0.4182 - accuracy: 0.9080 - 3s/epoch - 12ms/step\n",
      "Epoch 124/200\n",
      "244/244 - 3s - loss: 0.4119 - accuracy: 0.9093 - 3s/epoch - 12ms/step\n",
      "Epoch 125/200\n",
      "244/244 - 3s - loss: 0.4046 - accuracy: 0.9097 - 3s/epoch - 12ms/step\n",
      "Epoch 126/200\n",
      "244/244 - 3s - loss: 0.3988 - accuracy: 0.9113 - 3s/epoch - 11ms/step\n",
      "Epoch 127/200\n",
      "244/244 - 3s - loss: 0.3917 - accuracy: 0.9130 - 3s/epoch - 11ms/step\n",
      "Epoch 128/200\n",
      "244/244 - 3s - loss: 0.3849 - accuracy: 0.9120 - 3s/epoch - 12ms/step\n",
      "Epoch 129/200\n",
      "244/244 - 3s - loss: 0.3794 - accuracy: 0.9123 - 3s/epoch - 12ms/step\n",
      "Epoch 130/200\n",
      "244/244 - 3s - loss: 0.3736 - accuracy: 0.9141 - 3s/epoch - 12ms/step\n",
      "Epoch 131/200\n",
      "244/244 - 3s - loss: 0.3682 - accuracy: 0.9127 - 3s/epoch - 12ms/step\n",
      "Epoch 132/200\n",
      "244/244 - 3s - loss: 0.3641 - accuracy: 0.9148 - 3s/epoch - 12ms/step\n",
      "Epoch 133/200\n",
      "244/244 - 3s - loss: 0.3684 - accuracy: 0.9152 - 3s/epoch - 12ms/step\n",
      "Epoch 134/200\n",
      "244/244 - 3s - loss: 0.3571 - accuracy: 0.9143 - 3s/epoch - 12ms/step\n",
      "Epoch 135/200\n",
      "244/244 - 13s - loss: 0.3486 - accuracy: 0.9155 - 13s/epoch - 55ms/step\n",
      "Epoch 136/200\n",
      "244/244 - 3s - loss: 0.3442 - accuracy: 0.9153 - 3s/epoch - 12ms/step\n",
      "Epoch 137/200\n",
      "244/244 - 3s - loss: 0.3410 - accuracy: 0.9157 - 3s/epoch - 12ms/step\n",
      "Epoch 138/200\n",
      "244/244 - 3s - loss: 0.3353 - accuracy: 0.9146 - 3s/epoch - 13ms/step\n",
      "Epoch 139/200\n",
      "244/244 - 3s - loss: 0.3374 - accuracy: 0.9134 - 3s/epoch - 14ms/step\n",
      "Epoch 140/200\n",
      "244/244 - 3s - loss: 0.3317 - accuracy: 0.9158 - 3s/epoch - 13ms/step\n",
      "Epoch 141/200\n",
      "244/244 - 3s - loss: 0.3259 - accuracy: 0.9166 - 3s/epoch - 12ms/step\n",
      "Epoch 142/200\n",
      "244/244 - 3s - loss: 0.3229 - accuracy: 0.9168 - 3s/epoch - 13ms/step\n",
      "Epoch 143/200\n",
      "244/244 - 3s - loss: 0.3194 - accuracy: 0.9168 - 3s/epoch - 13ms/step\n",
      "Epoch 144/200\n",
      "244/244 - 3s - loss: 0.3172 - accuracy: 0.9168 - 3s/epoch - 14ms/step\n",
      "Epoch 145/200\n",
      "244/244 - 3s - loss: 0.3162 - accuracy: 0.9159 - 3s/epoch - 14ms/step\n",
      "Epoch 146/200\n",
      "244/244 - 3s - loss: 0.3231 - accuracy: 0.9149 - 3s/epoch - 14ms/step\n",
      "Epoch 147/200\n",
      "244/244 - 3s - loss: 0.3208 - accuracy: 0.9153 - 3s/epoch - 12ms/step\n",
      "Epoch 148/200\n",
      "244/244 - 3s - loss: 0.3089 - accuracy: 0.9170 - 3s/epoch - 12ms/step\n",
      "Epoch 149/200\n",
      "244/244 - 3s - loss: 0.3028 - accuracy: 0.9173 - 3s/epoch - 13ms/step\n",
      "Epoch 150/200\n",
      "244/244 - 3s - loss: 0.3012 - accuracy: 0.9158 - 3s/epoch - 14ms/step\n",
      "Epoch 151/200\n",
      "244/244 - 3s - loss: 0.2996 - accuracy: 0.9161 - 3s/epoch - 13ms/step\n",
      "Epoch 152/200\n",
      "244/244 - 3s - loss: 0.2980 - accuracy: 0.9166 - 3s/epoch - 13ms/step\n",
      "Epoch 153/200\n",
      "244/244 - 3s - loss: 0.2961 - accuracy: 0.9163 - 3s/epoch - 13ms/step\n",
      "Epoch 154/200\n",
      "244/244 - 3s - loss: 0.2946 - accuracy: 0.9179 - 3s/epoch - 12ms/step\n",
      "Epoch 155/200\n",
      "244/244 - 3s - loss: 0.2978 - accuracy: 0.9172 - 3s/epoch - 12ms/step\n",
      "Epoch 156/200\n",
      "244/244 - 3s - loss: 0.2922 - accuracy: 0.9167 - 3s/epoch - 13ms/step\n",
      "Epoch 157/200\n",
      "244/244 - 3s - loss: 0.2899 - accuracy: 0.9161 - 3s/epoch - 13ms/step\n",
      "Epoch 158/200\n",
      "244/244 - 3s - loss: 0.2878 - accuracy: 0.9180 - 3s/epoch - 13ms/step\n",
      "Epoch 159/200\n",
      "244/244 - 3s - loss: 0.2866 - accuracy: 0.9171 - 3s/epoch - 13ms/step\n",
      "Epoch 160/200\n",
      "244/244 - 3s - loss: 0.2856 - accuracy: 0.9176 - 3s/epoch - 14ms/step\n",
      "Epoch 161/200\n",
      "244/244 - 3s - loss: 0.2847 - accuracy: 0.9167 - 3s/epoch - 14ms/step\n",
      "Epoch 162/200\n",
      "244/244 - 3s - loss: 0.2839 - accuracy: 0.9170 - 3s/epoch - 14ms/step\n",
      "Epoch 163/200\n",
      "244/244 - 4s - loss: 0.2842 - accuracy: 0.9154 - 4s/epoch - 16ms/step\n",
      "Epoch 164/200\n",
      "244/244 - 4s - loss: 0.3010 - accuracy: 0.9134 - 4s/epoch - 14ms/step\n",
      "Epoch 165/200\n",
      "244/244 - 3s - loss: 0.2907 - accuracy: 0.9148 - 3s/epoch - 14ms/step\n",
      "Epoch 166/200\n",
      "244/244 - 3s - loss: 0.2808 - accuracy: 0.9170 - 3s/epoch - 14ms/step\n",
      "Epoch 167/200\n",
      "244/244 - 3s - loss: 0.2783 - accuracy: 0.9157 - 3s/epoch - 14ms/step\n",
      "Epoch 168/200\n",
      "244/244 - 3s - loss: 0.2808 - accuracy: 0.9167 - 3s/epoch - 13ms/step\n",
      "Epoch 169/200\n",
      "244/244 - 3s - loss: 0.2752 - accuracy: 0.9184 - 3s/epoch - 14ms/step\n",
      "Epoch 170/200\n",
      "244/244 - 3s - loss: 0.2743 - accuracy: 0.9166 - 3s/epoch - 14ms/step\n",
      "Epoch 171/200\n",
      "244/244 - 3s - loss: 0.2742 - accuracy: 0.9157 - 3s/epoch - 14ms/step\n",
      "Epoch 172/200\n",
      "244/244 - 3s - loss: 0.2748 - accuracy: 0.9159 - 3s/epoch - 14ms/step\n",
      "Epoch 173/200\n",
      "244/244 - 3s - loss: 0.2741 - accuracy: 0.9171 - 3s/epoch - 14ms/step\n",
      "Epoch 174/200\n",
      "244/244 - 4s - loss: 0.2735 - accuracy: 0.9163 - 4s/epoch - 15ms/step\n",
      "Epoch 175/200\n",
      "244/244 - 3s - loss: 0.2727 - accuracy: 0.9158 - 3s/epoch - 13ms/step\n",
      "Epoch 176/200\n",
      "244/244 - 3s - loss: 0.2714 - accuracy: 0.9164 - 3s/epoch - 13ms/step\n",
      "Epoch 177/200\n",
      "244/244 - 3s - loss: 0.2716 - accuracy: 0.9157 - 3s/epoch - 13ms/step\n",
      "Epoch 178/200\n",
      "244/244 - 4s - loss: 0.2708 - accuracy: 0.9171 - 4s/epoch - 15ms/step\n",
      "Epoch 179/200\n",
      "244/244 - 4s - loss: 0.2702 - accuracy: 0.9166 - 4s/epoch - 15ms/step\n",
      "Epoch 180/200\n",
      "244/244 - 4s - loss: 0.2687 - accuracy: 0.9154 - 4s/epoch - 15ms/step\n",
      "Epoch 181/200\n",
      "244/244 - 4s - loss: 0.2686 - accuracy: 0.9173 - 4s/epoch - 15ms/step\n",
      "Epoch 182/200\n",
      "244/244 - 4s - loss: 0.2733 - accuracy: 0.9146 - 4s/epoch - 15ms/step\n",
      "Epoch 183/200\n",
      "244/244 - 4s - loss: 0.2764 - accuracy: 0.9162 - 4s/epoch - 16ms/step\n",
      "Epoch 184/200\n",
      "244/244 - 4s - loss: 0.2855 - accuracy: 0.9143 - 4s/epoch - 16ms/step\n",
      "Epoch 185/200\n",
      "244/244 - 4s - loss: 0.2888 - accuracy: 0.9127 - 4s/epoch - 16ms/step\n",
      "Epoch 186/200\n",
      "244/244 - 4s - loss: 0.2687 - accuracy: 0.9172 - 4s/epoch - 15ms/step\n",
      "Epoch 187/200\n",
      "244/244 - 4s - loss: 0.2651 - accuracy: 0.9168 - 4s/epoch - 15ms/step\n",
      "Epoch 188/200\n",
      "244/244 - 4s - loss: 0.2646 - accuracy: 0.9180 - 4s/epoch - 15ms/step\n",
      "Epoch 189/200\n",
      "244/244 - 4s - loss: 0.2640 - accuracy: 0.9157 - 4s/epoch - 16ms/step\n",
      "Epoch 190/200\n",
      "244/244 - 4s - loss: 0.2643 - accuracy: 0.9167 - 4s/epoch - 16ms/step\n",
      "Epoch 191/200\n",
      "244/244 - 4s - loss: 0.2632 - accuracy: 0.9164 - 4s/epoch - 15ms/step\n",
      "Epoch 192/200\n",
      "244/244 - 4s - loss: 0.2635 - accuracy: 0.9163 - 4s/epoch - 15ms/step\n",
      "Epoch 193/200\n",
      "244/244 - 4s - loss: 0.2638 - accuracy: 0.9166 - 4s/epoch - 16ms/step\n",
      "Epoch 194/200\n",
      "244/244 - 4s - loss: 0.2650 - accuracy: 0.9177 - 4s/epoch - 16ms/step\n",
      "Epoch 195/200\n",
      "244/244 - 4s - loss: 0.2639 - accuracy: 0.9164 - 4s/epoch - 15ms/step\n",
      "Epoch 196/200\n",
      "244/244 - 4s - loss: 0.2640 - accuracy: 0.9176 - 4s/epoch - 16ms/step\n",
      "Epoch 197/200\n",
      "244/244 - 4s - loss: 0.2624 - accuracy: 0.9158 - 4s/epoch - 17ms/step\n",
      "Epoch 198/200\n",
      "244/244 - 4s - loss: 0.2619 - accuracy: 0.9170 - 4s/epoch - 17ms/step\n",
      "Epoch 199/200\n",
      "244/244 - 4s - loss: 0.2697 - accuracy: 0.9161 - 4s/epoch - 17ms/step\n",
      "Epoch 200/200\n",
      "244/244 - 4s - loss: 0.2748 - accuracy: 0.9138 - 4s/epoch - 16ms/step\n"
     ]
    },
    {
     "data": {
      "text/plain": "<keras.src.callbacks.History at 0x29be39f50>"
     },
     "execution_count": 22,
     "metadata": {},
     "output_type": "execute_result"
    }
   ],
   "source": [
    "imbedding_dim = 10\n",
    "hidden_units = 128\n",
    "\n",
    "model = Sequential()\n",
    "model.add(Embedding(input_dim=vocab_size, output_dim=imbedding_dim))\n",
    "model.add(LSTM(units=hidden_units))\n",
    "model.add(Dense(activation=\"softmax\", units=vocab_size))\n",
    "model.summary()\n",
    "\n",
    "model.compile(loss=\"categorical_crossentropy\", optimizer=\"adam\", metrics=[\"accuracy\"])\n",
    "model.fit(X,y,epochs=200, verbose=2)"
   ],
   "metadata": {
    "collapsed": false,
    "ExecuteTime": {
     "end_time": "2023-10-15T07:36:07.399049Z",
     "start_time": "2023-10-15T07:19:21.810007Z"
    }
   },
   "id": "e69b88b367587df3"
  },
  {
   "cell_type": "code",
   "execution_count": 32,
   "outputs": [],
   "source": [
    "def predict_next_word(model, tokenizer, word, n):\n",
    "    sentence = word\n",
    "    for _ in range(n):\n",
    "        encoded = tokenizer.texts_to_sequences([sentence])[0]\n",
    "        encoded = pad_sequences([encoded], maxlen=max_len-1, padding='pre')\n",
    "        result = model.predict(encoded, verbose=0)\n",
    "        result = np.argmax(result, axis=1)\n",
    "                \n",
    "        word_ = index_to_word[result[0]] # using map to reduce time complexity\n",
    "        sentence += \" \" + word_\n",
    "        \n",
    "    return sentence"
   ],
   "metadata": {
    "collapsed": false,
    "ExecuteTime": {
     "end_time": "2023-10-15T07:43:22.368327Z",
     "start_time": "2023-10-15T07:43:22.361361Z"
    }
   },
   "id": "71ca5422d33001ce"
  },
  {
   "cell_type": "code",
   "execution_count": 35,
   "outputs": [
    {
     "name": "stdout",
     "output_type": "stream",
     "text": [
      "how to make a crossword puzzle floods gave up with a\n"
     ]
    }
   ],
   "source": [
    "print(predict_next_word(model, tokenizer, 'how', 10))"
   ],
   "metadata": {
    "collapsed": false,
    "ExecuteTime": {
     "end_time": "2023-10-15T07:43:43.510027Z",
     "start_time": "2023-10-15T07:43:43.301580Z"
    }
   },
   "id": "8f4c26f47026c31d"
  }
 ],
 "metadata": {
  "kernelspec": {
   "display_name": "Python 3",
   "language": "python",
   "name": "python3"
  },
  "language_info": {
   "codemirror_mode": {
    "name": "ipython",
    "version": 2
   },
   "file_extension": ".py",
   "mimetype": "text/x-python",
   "name": "python",
   "nbconvert_exporter": "python",
   "pygments_lexer": "ipython2",
   "version": "2.7.6"
  }
 },
 "nbformat": 4,
 "nbformat_minor": 5
}
