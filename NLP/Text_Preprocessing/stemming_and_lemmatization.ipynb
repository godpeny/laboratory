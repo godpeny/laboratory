{
 "cells": [
  {
   "cell_type": "markdown",
   "source": [
    "# Stemming vs Lemmatization\n",
    "## Stemming\n",
    " - a process that stems or removes last few characters from a word, often leading to incorrect meanings and spelling.\n",
    " - Stemming is used in case of large dataset where performance is an issue.\n",
    " - For instance, stemming the word ‘Caring‘ would return ‘Car‘.\n",
    "\n",
    "\n",
    "## Lemmatization \n",
    " - a process that considers the context and converts the word to its meaningful base form, which is called Lemma.\n",
    " - Lemmatization is computationally expensive since it involves look-up tables and what not.\n",
    " - For instance, lemmatizing the word ‘Caring‘ would return ‘Care‘.\n",
    "\n",
    "## Rerefence \n",
    "https://www.analyticsvidhya.com/blog/2022/06/stemming-vs-lemmatization-in-nlp-must-know-differences/#:~:text=Stemming%20is%20a%20process%20that,form%2C%20which%20is%20called%20Lemma."
   ],
   "metadata": {
    "collapsed": false
   },
   "id": "eb849d6b93ad153b"
  },
  {
   "cell_type": "code",
   "execution_count": null,
   "outputs": [],
   "source": [],
   "metadata": {
    "collapsed": false
   },
   "id": "71678c8a4f3230ed"
  }
 ],
 "metadata": {
  "kernelspec": {
   "display_name": "Python 3",
   "language": "python",
   "name": "python3"
  },
  "language_info": {
   "codemirror_mode": {
    "name": "ipython",
    "version": 2
   },
   "file_extension": ".py",
   "mimetype": "text/x-python",
   "name": "python",
   "nbconvert_exporter": "python",
   "pygments_lexer": "ipython2",
   "version": "2.7.6"
  }
 },
 "nbformat": 4,
 "nbformat_minor": 5
}
