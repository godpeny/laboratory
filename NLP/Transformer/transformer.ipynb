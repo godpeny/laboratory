{
 "cells": [
  {
   "cell_type": "code",
   "execution_count": 1,
   "outputs": [],
   "source": [
    "import numpy as np\n",
    "import pandas as pd\n",
    "\n",
    "import tensorflow as tf\n",
    "import keras"
   ],
   "metadata": {
    "collapsed": false,
    "ExecuteTime": {
     "end_time": "2023-12-18T13:52:06.560395Z",
     "start_time": "2023-12-18T13:52:03.842518Z"
    }
   },
   "id": "initial_id"
  },
  {
   "cell_type": "markdown",
   "source": [
    "# Attention"
   ],
   "metadata": {
    "collapsed": false
   },
   "id": "e373564139411efc"
  },
  {
   "cell_type": "code",
   "execution_count": 2,
   "outputs": [],
   "source": [
    "def scaled_dot_product_attention(query, key, value, mask):\n",
    "    \"\"\"Calculate the attention weights.\n",
    "    q, k, v must have matching leading dimensions.\n",
    "    \n",
    "    depth : d_model / num_heads\n",
    "    ... : batch_size\n",
    "    \n",
    "    Args:\n",
    "        query: query shape == (..., num_heads, seq_len_q, depth)\n",
    "        key: key shape == (..., num_heads, seq_len_k, depth)\n",
    "        value: value shape == (..., num_heads, seq_len_v, depth)     \n",
    "        mask : mask shape == (..., 1, 1, seq_len_k)   \n",
    "        \n",
    "    Returns:\n",
    "        output, attention_weights\n",
    "    \"\"\"\n",
    "\n",
    "    matmul_qk = tf.matmul(a=query, b=key, transpose_b=True)  # Q*K while K is transposed. (..., num_heads, seq_len_q, seq_len_k)\n",
    "    depth_float = tf.cast(tf.shape(key)[-1], tf.float32)\n",
    "    attention_logits = matmul_qk / tf.math.sqrt(depth_float)  # scale matmul_qk\n",
    "\n",
    "    # add the mask to the scaled tensor.\n",
    "    if mask is not None:\n",
    "        attention_logits += (mask * -1e9)  # -1e9 : -infinite\n",
    "\n",
    "    # softmax is normalized on the last axis (seq_len_k)\n",
    "    # calculate the attention weights(== attention distribution).\n",
    "    attention_weights = tf.nn.softmax(attention_logits, axis=-1)  # (..., num_heads, seq_len_q, seq_len_k)\n",
    "\n",
    "    attention_values = tf.matmul(attention_weights, value)  # (..., num_heads, seq_len_q, depth)\n",
    "\n",
    "    return attention_values, attention_weights"
   ],
   "metadata": {
    "collapsed": false,
    "ExecuteTime": {
     "end_time": "2023-12-18T13:52:06.564184Z",
     "start_time": "2023-12-18T13:52:06.562224Z"
    }
   },
   "id": "ba1e7c3e2b7c39d0"
  },
  {
   "cell_type": "code",
   "execution_count": 3,
   "outputs": [],
   "source": [
    "class MultiHeadAttention(tf.keras.layers.Layer):\n",
    "    def __init__(self, d_model, num_heads, name=\"multi_head_attention\"):\n",
    "        super(MultiHeadAttention, self).__init__(name=name)\n",
    "        self.d_model = d_model\n",
    "        self.num_heads = num_heads\n",
    "        # make sure d_model can be divided by num_heads\n",
    "        assert d_model % self.num_heads == 0 \n",
    "        self.depth = d_model // self.num_heads # // : floor division\n",
    "\n",
    "        # WQ, WK, WV\n",
    "        self.query_dense = tf.keras.layers.Dense(units=d_model)\n",
    "        self.key_dense = tf.keras.layers.Dense(units=d_model)\n",
    "        self.value_dense = tf.keras.layers.Dense(units=d_model)\n",
    "        # WO\n",
    "        self.dense = tf.keras.layers.Dense(units=d_model)\n",
    "\n",
    "    def split_heads(self, inputs, batch_size):\n",
    "        \"\"\"Split Query, Key, Value with num_heads\n",
    "\n",
    "        Args:\n",
    "            inputs: input shape == (batch_size, seq_len, d_model)\n",
    "            batch_size: batch size\n",
    "\n",
    "        Returns:\n",
    "            result: result shape == (batch_size, num_heads, seq_len, depth)\n",
    "        \"\"\"\n",
    "        inputs = tf.reshape(tensor=inputs, shape=(batch_size, -1, self.num_heads, self.depth)) # (batch_size, seq_len, num_heads, depth)\n",
    "        return tf.transpose(a=inputs, perm=[0, 2, 1, 3]) # (batch_size, num_heads, seq_len, depth)\n",
    "\n",
    "    def call(self, inputs):\n",
    "        \"\"\"MultiHeadAttention\n",
    "\n",
    "        Args:\n",
    "            inputs: Q, K, V, mask\n",
    "                Q shape == (batch_size, seq_len_q, d_model)\n",
    "                K shape == (batch_size, seq_len_k, d_model)\n",
    "                V shape == (batch_size, seq_len_v, d_model)\n",
    "                mask shape == (batch_size, seq_len_q, seq_len_k)\n",
    "\n",
    "        Returns:\n",
    "            output, attention_weights\n",
    "        \"\"\"\n",
    "        query, key, value, mask = inputs['query'], inputs['key'], inputs['value'], inputs['mask']\n",
    "        batch_size = tf.shape(input=query)[0]\n",
    "\n",
    "        # 1. Q,K,V linear layer\n",
    "        query = self.query_dense(query) # (batch_size, seq_len_q, d_model)\n",
    "        key = self.key_dense(key) # (batch_size, seq_len_k, d_model)\n",
    "        value = self.value_dense(value) # (batch_size, seq_len_v, d_model)\n",
    "\n",
    "        # 2. split heads\n",
    "        query = self.split_heads(query, batch_size) # (batch_size, num_heads, seq_len_q, depth)\n",
    "        key = self.split_heads(key, batch_size) # (batch_size, num_heads, seq_len_k, depth)\n",
    "        value = self.split_heads(value, batch_size) # (batch_size, num_heads, seq_len_v, depth)\n",
    "\n",
    "        # 3. scaled dot-product attention\n",
    "        temp_attention_values, _ = scaled_dot_product_attention(query, key, value, mask) # (batch_size, num_heads, seq_len_q, depth)\n",
    "\n",
    "        # 4. transpose result and concat heads\n",
    "        temp_attention_values = tf.transpose(a=temp_attention_values, perm=[0, 2, 1, 3]) # (batch_size, seq_len_q, num_heads, depth)\n",
    "        concat_temp_attention_values = tf.reshape(tensor=temp_attention_values, shape=(batch_size, -1, self.d_model)) # (batch_size, seq_len_q, d_model)\n",
    "\n",
    "        # 5. final linear layer\n",
    "        attention_values = self.dense(concat_temp_attention_values) # (batch_size, seq_len_q, d_model)\n",
    "\n",
    "        return attention_values\n"
   ],
   "metadata": {
    "collapsed": false,
    "ExecuteTime": {
     "end_time": "2023-12-18T13:52:06.581464Z",
     "start_time": "2023-12-18T13:52:06.567138Z"
    }
   },
   "id": "97ddb1dc361ee55f"
  },
  {
   "cell_type": "code",
   "execution_count": 4,
   "outputs": [],
   "source": [
    "def create_mask(x):\n",
    "    \"\"\"Create mask for padding\n",
    "    \n",
    "    Args:\n",
    "        x: input sequence\n",
    "        \n",
    "    Returns:\n",
    "        mask: mask for padding\n",
    "    \"\"\"\n",
    "    mask = tf.cast(tf.math.equal(x, 0), tf.float32) # 0 is padding value and find it.\n",
    "    return mask[:, tf.newaxis, tf.newaxis, :] # (batch_size, 1, 1, seq_len)"
   ],
   "metadata": {
    "collapsed": false,
    "ExecuteTime": {
     "end_time": "2023-12-18T13:52:06.587175Z",
     "start_time": "2023-12-18T13:52:06.581895Z"
    }
   },
   "id": "ec74ebf60ab3c765"
  },
  {
   "cell_type": "markdown",
   "source": [
    "# Positional Encoding"
   ],
   "metadata": {
    "collapsed": false
   },
   "id": "ab3b2ac3a603a143"
  },
  {
   "cell_type": "code",
   "execution_count": 5,
   "outputs": [],
   "source": [
    "class PositionalEncoding(tf.keras.layers.Layer):\n",
    "    def __init__(self, position, d_model):\n",
    "        super(PositionalEncoding, self).__init__()\n",
    "        self.pos_encoding = self.positional_encoding(position, d_model)\n",
    "\n",
    "    def get_angles(self, position, i, d_model):\n",
    "        angles = 1 / tf.pow(10000, (2 * (i // 2)) / tf.cast(d_model, tf.float32))\n",
    "        return position * angles\n",
    "\n",
    "    def positional_encoding(self, position, d_model):\n",
    "        angle_rads = self.get_angles(\n",
    "            position = tf.range(position, dtype=tf.float32)[:, tf.newaxis], # position -> (position, 1)\n",
    "            i = tf.range(d_model, dtype=tf.float32)[tf.newaxis, :], # d_model -> (1, d_model)\n",
    "            d_model = d_model\n",
    "        )\n",
    "\n",
    "        # 배열의 짝수 인덱스(2i)에는 사인 함수 적용\n",
    "        sines = tf.math.sin(angle_rads[:, 0::2])\n",
    "\n",
    "        # 배열의 홀수 인덱스(2i+1)에는 코사인 함수 적용\n",
    "        cosines = tf.math.cos(angle_rads[:, 1::2])\n",
    "\n",
    "        # sin 과 cos 를 붙이기\n",
    "        zeros = np.zeros(angle_rads.shape)\n",
    "        zeros[:, 0::2] = sines\n",
    "        zeros[:, 1::2] = cosines\n",
    "\n",
    "        pos_encoding = tf.constant(zeros) # [[s,c,s,c,..s,c]]\n",
    "\n",
    "        # pos_encoding 은 (1, position, d_model) 의 shape 을 가짐\n",
    "        pos_encoding = pos_encoding[tf.newaxis, ...]\n",
    "        return tf.cast(pos_encoding, tf.float32)\n",
    "\n",
    "    def call(self, inputs):\n",
    "        return inputs + self.pos_encoding[:, :tf.shape(inputs)[1], :]"
   ],
   "metadata": {
    "collapsed": false,
    "ExecuteTime": {
     "end_time": "2023-12-18T13:52:06.592052Z",
     "start_time": "2023-12-18T13:52:06.587301Z"
    }
   },
   "id": "54404771fb3c75e9"
  },
  {
   "cell_type": "markdown",
   "source": [
    "# Encoder"
   ],
   "metadata": {
    "collapsed": false
   },
   "id": "63e40efd5c55afca"
  },
  {
   "cell_type": "code",
   "execution_count": 6,
   "outputs": [],
   "source": [
    "def encoder_layer(dff, d_model, num_heads, dropout_ratio, name=\"encoder_layer\"):\n",
    "    \"\"\"Encoder layer\n",
    "\n",
    "    Args:\n",
    "        dff: hidden layer size\n",
    "        d_model: embedding size\n",
    "        num_heads: number of heads\n",
    "        dropout_ratio: dropout ratio\n",
    "        name: encoder layer name\n",
    "\n",
    "    Returns:\n",
    "        output: output of encoder layer\n",
    "    \"\"\"\n",
    "\n",
    "    inputs = tf.keras.Input(shape=(None, d_model), name=\"inputs\")\n",
    "    padding_mask = tf.keras.Input(shape=(1, 1, None), name=\"padding_mask\")\n",
    "\n",
    "    # 1-1. Multi-Head Attention\n",
    "    attention_values = MultiHeadAttention(d_model, num_heads, name=\"attention\")(inputs={\n",
    "        'query': inputs, \n",
    "        'key': inputs, \n",
    "        'value': inputs, \n",
    "        'mask': padding_mask}) # Q=K=V\n",
    "\n",
    "    # 1-2. Dropout + Residual Connection + Layer Normalization\n",
    "    attention_values = tf.keras.layers.Dropout(rate=dropout_ratio)(attention_values)\n",
    "    # Residual Connection : inputs + attention_values\n",
    "    # epsilon : a small number to avoid zero division\n",
    "    attention_values = tf.keras.layers.LayerNormalization(epsilon=1e-6)(inputs + attention_values) \n",
    "\n",
    "    # 2. Position-Wise Feed Forward Neural Networks (fully connected FFNN)\n",
    "    outputs = tf.keras.layers.Dense(units=dff, activation='relu')(attention_values)\n",
    "    outputs = tf.keras.layers.Dense(units=d_model)(outputs)\n",
    "\n",
    "    # 2-2. Dropout + Residual Connection + Layer Normalization\n",
    "    outputs = tf.keras.layers.Dropout(rate=dropout_ratio)(outputs)\n",
    "    outputs = tf.keras.layers.LayerNormalization(epsilon=1e-6)(attention_values + outputs)\n",
    "\n",
    "    return tf.keras.Model(\n",
    "        inputs=[inputs, padding_mask], outputs=outputs, name=name)"
   ],
   "metadata": {
    "collapsed": false,
    "ExecuteTime": {
     "end_time": "2023-12-18T13:52:06.596330Z",
     "start_time": "2023-12-18T13:52:06.591069Z"
    }
   },
   "id": "2edfe18139aa067"
  },
  {
   "cell_type": "code",
   "execution_count": 7,
   "outputs": [],
   "source": [
    "def encoder(vocab_size, num_layers, dff, d_model, num_heads, dropout_ratio, name=\"encoder\"):\n",
    "    \"\"\"Encoder\n",
    "\n",
    "    Args:\n",
    "        vocab_size: vocab size\n",
    "        num_layers: number of layers\n",
    "        dff: hidden layer size\n",
    "        d_model: embedding size\n",
    "        num_heads: number of heads\n",
    "        dropout_ratio: dropout ratio\n",
    "        name: encoder name\n",
    "\n",
    "    Returns:\n",
    "        output: output of encoder\n",
    "    \"\"\"\n",
    "    inputs = tf.keras.Input(shape=(None,), name=\"inputs\")\n",
    "    padding_mask = tf.keras.Input(shape=(1, 1, None), name=\"padding_mask\")\n",
    "\n",
    "    # 1. Embedding\n",
    "    embeddings = tf.keras.layers.Embedding(vocab_size, d_model)(inputs)\n",
    "    embeddings *= tf.math.sqrt(tf.cast(d_model, tf.float32)) # scale. # 그래디언트 배니싱 문제를 완화하는 테크닉 (https://nlp.seas.harvard.edu/2018/04/03/attention.html, 'Embeddings and Softmax' 참고)\n",
    "\n",
    "    # 2. Positional Encoding + Dropout\n",
    "    embeddings = PositionalEncoding(vocab_size, d_model)(embeddings)\n",
    "    outputs = tf.keras.layers.Dropout(rate=dropout_ratio)(embeddings)\n",
    "\n",
    "    # 3. Stacking Encoder Layers by num_layers\n",
    "    for i in range(num_layers):\n",
    "        outputs = encoder_layer(dff=dff, d_model=d_model, num_heads=num_heads, dropout_ratio=dropout_ratio, name=\"encoder_layer_{}\".format(i),)(inputs=[outputs, padding_mask])\n",
    "\n",
    "    return tf.keras.Model(inputs=[inputs, padding_mask], outputs=outputs, name=name)"
   ],
   "metadata": {
    "collapsed": false,
    "ExecuteTime": {
     "end_time": "2023-12-18T13:52:06.599850Z",
     "start_time": "2023-12-18T13:52:06.595187Z"
    }
   },
   "id": "9fdce24b005b69a2"
  },
  {
   "cell_type": "markdown",
   "source": [
    "# Masking"
   ],
   "metadata": {
    "collapsed": false
   },
   "id": "acd950f9f33e903f"
  },
  {
   "cell_type": "code",
   "execution_count": 8,
   "outputs": [],
   "source": [
    "def create_mask(x):\n",
    "    \"\"\"Create mask for padding\n",
    "    \n",
    "    Args:\n",
    "        x: input sequence\n",
    "        \n",
    "    Returns:\n",
    "        mask: mask for padding\n",
    "    \"\"\"\n",
    "    mask = tf.cast(tf.math.equal(x, 0), tf.float32) # 0 is padding value and find it.\n",
    "    return mask[:, tf.newaxis, tf.newaxis, :] # (batch_size, 1, 1, seq_len)"
   ],
   "metadata": {
    "collapsed": false,
    "ExecuteTime": {
     "end_time": "2023-12-18T13:52:06.600277Z",
     "start_time": "2023-12-18T13:52:06.598357Z"
    }
   },
   "id": "7edcd4d6b3aae607"
  },
  {
   "cell_type": "code",
   "execution_count": 9,
   "outputs": [],
   "source": [
    "def create_look_ahead_mask(x):\n",
    "    \"\"\"Create mask for look ahead\n",
    "    \n",
    "    Args:\n",
    "        x: input sequence\n",
    "        \n",
    "    Returns:\n",
    "        mask: mask for look ahead\n",
    "    \"\"\"\n",
    "    seq_len = tf.shape(input=x)[1]\n",
    "    look_ahead_mask = 1 - tf.linalg.band_part(tf.ones((seq_len, seq_len)), -1, 0) # lower triangle is zero, upper triangle is one.\n",
    "    padding_mask = create_mask(x) # if value is 0, then mask is 1.\n",
    "    return tf.maximum(look_ahead_mask, padding_mask) # if 1 is set on any of both masks, then final mask is 1."
   ],
   "metadata": {
    "collapsed": false,
    "ExecuteTime": {
     "end_time": "2023-12-18T13:52:06.603598Z",
     "start_time": "2023-12-18T13:52:06.600884Z"
    }
   },
   "id": "b4865f6a23c2a62d"
  },
  {
   "cell_type": "markdown",
   "source": [
    "# Decoder"
   ],
   "metadata": {
    "collapsed": false
   },
   "id": "504444783d24bcaf"
  },
  {
   "cell_type": "code",
   "execution_count": 10,
   "outputs": [],
   "source": [
    "def decoder_layer(dff, d_model, num_heads, dropout_ratio, name=\"decoder_layer\"):\n",
    "    \"\"\"Decoder layer\n",
    "    \n",
    "    Args:\n",
    "        dff: hidden layer size\n",
    "        d_model: embedding size\n",
    "        num_heads: number of heads\n",
    "        dropout_ratio: dropout ratio\n",
    "        name: decoder layer name\n",
    "    \n",
    "    Returns:\n",
    "        output: output of decoder layer\n",
    "    \"\"\"\n",
    "    inputs = tf.keras.Input(shape=(None, d_model), name=\"inputs\")\n",
    "    encoder_outputs = tf.keras.Input(shape=(None, d_model), name=\"encoder_outputs\")\n",
    "    look_ahead_mask = tf.keras.Input(shape=(1, None, None), name=\"look_ahead_mask\")\n",
    "    padding_mask = tf.keras.Input(shape=(1, 1, None), name='padding_mask')\n",
    "    \n",
    "    # 1-1. Multi-Head Attention (self-attention)\n",
    "    attention1 = MultiHeadAttention(d_model, num_heads, name=\"attention-1\")(inputs={\n",
    "        'query': inputs, \n",
    "        'key': inputs, \n",
    "        'value': inputs, \n",
    "        'mask': look_ahead_mask}) # Q=K=V\n",
    "    \n",
    "    # 1-2. Dropout + Residual Connection + Layer Normalization\n",
    "    attention1 = tf.keras.layers.Dropout(rate=dropout_ratio)(attention1)\n",
    "    attention1 = tf.keras.layers.LayerNormalization(epsilon=1e-6)(attention1 + inputs)\n",
    "    \n",
    "    # 2-1. Multi-Head Attention (encoder-decoder attention)\n",
    "    attention2 = MultiHeadAttention(d_model, num_heads, name=\"attention-2\")(inputs={\n",
    "        'query': attention1, \n",
    "        'key': encoder_outputs, \n",
    "        'value': encoder_outputs, \n",
    "        'mask': padding_mask}) # Q=K=V\n",
    "    \n",
    "    # 2-2. Dropout + Residual Connection + Layer Normalization\n",
    "    attention2 = tf.keras.layers.Dropout(rate=dropout_ratio)(attention2)\n",
    "    attention2 = tf.keras.layers.LayerNormalization(epsilon=1e-6)(attention2 + attention1)\n",
    "    \n",
    "    # 3. Position-Wise Feed Forward Neural Networks (fully connected FFNN)\n",
    "    outputs = tf.keras.layers.Dense(units=dff, activation='relu')(attention2)\n",
    "    outputs = tf.keras.layers.Dense(units=d_model)(outputs)\n",
    "    \n",
    "    # 3-2. Dropout + Residual Connection + Layer Normalization\n",
    "    outputs = tf.keras.layers.Dropout(rate=dropout_ratio)(outputs)\n",
    "    outputs = tf.keras.layers.LayerNormalization(epsilon=1e-6)(outputs + attention2)\n",
    "    \n",
    "    return tf.keras.Model(\n",
    "        inputs=[inputs, encoder_outputs, look_ahead_mask, padding_mask], \n",
    "        outputs=outputs, \n",
    "        name=name)"
   ],
   "metadata": {
    "collapsed": false,
    "ExecuteTime": {
     "end_time": "2023-12-18T13:52:06.614492Z",
     "start_time": "2023-12-18T13:52:06.605615Z"
    }
   },
   "id": "bfceafea6d0ddc32"
  },
  {
   "cell_type": "code",
   "execution_count": 11,
   "outputs": [],
   "source": [
    "def decoder(vocab_size, num_layers, dff, d_model, num_heads, dropout_ratio, name='decoder'):\n",
    "    \"\"\"Decoder\n",
    "    \n",
    "    Args:\n",
    "        vocab_size: vocab size\n",
    "        num_layers: number of layers\n",
    "        dff: hidden layer size\n",
    "        d_model: embedding size\n",
    "        num_heads: number of heads\n",
    "        dropout_ratio: dropout ratio\n",
    "        name: decoder name\n",
    "    \n",
    "    Returns:\n",
    "        output: output of decoder\n",
    "    \"\"\"\n",
    "    inputs = tf.keras.Input(shape=(None,), name='inputs')\n",
    "    encoder_outputs = tf.keras.Input(shape=(None, d_model), name='encoder_outputs')\n",
    "    \n",
    "    look_ahead_mask = tf.keras.Input(shape=(1, None, None), name='look_ahead_mask')\n",
    "    padding_mask = tf.keras.Input(shape=(1, 1, None), name='padding_mask')\n",
    "    \n",
    "    # 1. Embedding\n",
    "    embeddings = tf.keras.layers.Embedding(vocab_size, d_model)(inputs)\n",
    "    embeddings *= tf.math.sqrt(tf.cast(d_model, tf.float32)) # scale. 그래디언트 배니싱 문제를 완화하는 테크닉 (https://nlp.seas.harvard.edu/2018/04/03/attention.html, 'Embeddings and Softmax' 참고)\n",
    "    \n",
    "    # 2. Positional Encoding + Dropout\n",
    "    embeddings = PositionalEncoding(vocab_size, d_model)(embeddings)\n",
    "    outputs = tf.keras.layers.Dropout(rate=dropout_ratio)(embeddings)\n",
    "    \n",
    "    # 3. Stacking Decoder Layers by num_layers\n",
    "    for i in range(num_layers):\n",
    "        outputs = decoder_layer(dff=dff, d_model=d_model, num_heads=num_heads, dropout_ratio=dropout_ratio, name='decoder_layer_{}'.format(i),)(inputs=[outputs, encoder_outputs, look_ahead_mask, padding_mask])\n",
    "    \n",
    "    return tf.keras.Model(inputs=[inputs, encoder_outputs, look_ahead_mask, padding_mask], outputs=outputs, name=name)"
   ],
   "metadata": {
    "collapsed": false,
    "ExecuteTime": {
     "end_time": "2023-12-18T13:52:06.614744Z",
     "start_time": "2023-12-18T13:52:06.609447Z"
    }
   },
   "id": "237ff2b4fceb75d"
  },
  {
   "cell_type": "markdown",
   "source": [
    "# Transformer"
   ],
   "metadata": {
    "collapsed": false
   },
   "id": "ba7502d2f147a893"
  },
  {
   "cell_type": "code",
   "execution_count": 12,
   "outputs": [],
   "source": [
    "import pydotplus\n",
    "from keras.utils import plot_model"
   ],
   "metadata": {
    "collapsed": false,
    "ExecuteTime": {
     "end_time": "2023-12-18T13:52:06.620144Z",
     "start_time": "2023-12-18T13:52:06.611541Z"
    }
   },
   "id": "ee389eae2604ad4a"
  },
  {
   "cell_type": "code",
   "execution_count": 13,
   "outputs": [],
   "source": [
    "def transformer(vocab_size, num_layers, dff, d_model, num_heads, dropout_ratio, name=\"transformer\"):\n",
    "    \"\"\"Transformer\n",
    "\n",
    "    Args:\n",
    "        vocab_size: vocab size\n",
    "        num_layers: number of layers\n",
    "        dff: hidden layer size\n",
    "        d_model: embedding size\n",
    "        num_heads: number of heads\n",
    "        dropout_ratio: dropout ratio\n",
    "        name: transformer name\n",
    "\n",
    "    Returns:\n",
    "        output: output of transformer\n",
    "    \"\"\"\n",
    "    inputs = tf.keras.Input(shape=(None,), name=\"inputs\")\n",
    "    dec_inputs = tf.keras.Input(shape=(None,), name=\"dec_inputs\")\n",
    "\n",
    "    # 1. Encoder padding mask\n",
    "    enc_padding_mask = tf.keras.layers.Lambda(create_mask, output_shape=(1, 1, None), name='enc_padding_mask')(inputs)\n",
    "\n",
    "    # 2. Decoder padding mask\n",
    "    dec_padding_mask = tf.keras.layers.Lambda(create_mask, output_shape=(1, 1, None), name='dec_padding_mask')(inputs)\n",
    "\n",
    "    # 3. Look ahead mask\n",
    "    look_ahead_mask = tf.keras.layers.Lambda(create_look_ahead_mask, output_shape=(1, None, None), name='look_ahead_mask')(dec_inputs)\n",
    "\n",
    "    # 4. Encoder\n",
    "    enc_outputs = encoder(vocab_size=vocab_size, num_layers=num_layers, dff=dff, d_model=d_model, num_heads=num_heads, dropout_ratio=dropout_ratio,)(inputs=[inputs, enc_padding_mask]) # inputs, padding_mask\n",
    "\n",
    "    # 5. Decoder\n",
    "    dec_outputs = decoder(vocab_size=vocab_size, num_layers=num_layers, dff=dff, d_model=d_model, num_heads=num_heads, dropout_ratio=dropout_ratio,)(inputs=[dec_inputs, enc_outputs, look_ahead_mask, dec_padding_mask]) # inputs, encoder_outputs, look_ahead_mask, padding_mask\n",
    "\n",
    "    # 6. Fully Connected Layer\n",
    "    outputs = tf.keras.layers.Dense(units=vocab_size, name=\"outputs\")(dec_outputs)\n",
    "\n",
    "    return tf.keras.Model(inputs=[inputs, dec_inputs], outputs=outputs, name=name)"
   ],
   "metadata": {
    "collapsed": false,
    "ExecuteTime": {
     "end_time": "2023-12-18T13:52:06.620604Z",
     "start_time": "2023-12-18T13:52:06.618429Z"
    }
   },
   "id": "9a22f46c30297a7"
  },
  {
   "cell_type": "code",
   "execution_count": 19,
   "outputs": [
    {
     "name": "stdout",
     "output_type": "stream",
     "text": [
      "Model: \"small_transformer\"\n",
      "__________________________________________________________________________________________________\n",
      " Layer (type)                Output Shape                 Param #   Connected to                  \n",
      "==================================================================================================\n",
      " inputs (InputLayer)         [(None, None)]               0         []                            \n",
      "                                                                                                  \n",
      " dec_inputs (InputLayer)     [(None, None)]               0         []                            \n",
      "                                                                                                  \n",
      " enc_padding_mask (Lambda)   (None, 1, 1, None)           0         ['inputs[0][0]']              \n",
      "                                                                                                  \n",
      " encoder (Functional)        (None, None, 128)            1945088   ['inputs[0][0]',              \n",
      "                                                                     'enc_padding_mask[0][0]']    \n",
      "                                                                                                  \n",
      " look_ahead_mask (Lambda)    (None, 1, None, None)        0         ['dec_inputs[0][0]']          \n",
      "                                                                                                  \n",
      " dec_padding_mask (Lambda)   (None, 1, 1, None)           0         ['inputs[0][0]']              \n",
      "                                                                                                  \n",
      " decoder (Functional)        (None, None, 128)            2210304   ['dec_inputs[0][0]',          \n",
      "                                                                     'encoder[0][0]',             \n",
      "                                                                     'look_ahead_mask[0][0]',     \n",
      "                                                                     'dec_padding_mask[0][0]']    \n",
      "                                                                                                  \n",
      " outputs (Dense)             (None, None, 9000)           1161000   ['decoder[0][0]']             \n",
      "                                                                                                  \n",
      "==================================================================================================\n",
      "Total params: 5316392 (20.28 MB)\n",
      "Trainable params: 5316392 (20.28 MB)\n",
      "Non-trainable params: 0 (0.00 Byte)\n",
      "__________________________________________________________________________________________________\n"
     ]
    }
   ],
   "source": [
    "small_transformer = transformer(\n",
    "    vocab_size = 9000,\n",
    "    num_layers = 4,\n",
    "    dff = 512,\n",
    "    d_model = 128,\n",
    "    num_heads = 4,\n",
    "    dropout_ratio = 0.3,\n",
    "    name=\"small_transformer\")\n",
    "\n",
    "# tf.keras.utils.plot_model(small_transformer, to_file='small_transformer.png', show_shapes=True) # removed. check https://stackoverflow.com/questions/47605558/importerror-failed-to-import-pydot-you-must-install-pydot-and-graphviz-for-py/61625389#61625389\n",
    "small_transformer.summary()"
   ],
   "metadata": {
    "collapsed": false,
    "ExecuteTime": {
     "end_time": "2023-12-18T14:43:17.103802Z",
     "start_time": "2023-12-18T14:43:15.021509Z"
    }
   },
   "id": "a9dbb81a5bf3e695"
  },
  {
   "cell_type": "markdown",
   "source": [
    "# Loss Function & Learning Rate"
   ],
   "metadata": {
    "collapsed": false
   },
   "id": "cb8de7242f771167"
  },
  {
   "cell_type": "code",
   "execution_count": 20,
   "outputs": [],
   "source": [
    "import matplotlib.pyplot as plt"
   ],
   "metadata": {
    "collapsed": false,
    "ExecuteTime": {
     "end_time": "2023-12-18T14:43:29.547052Z",
     "start_time": "2023-12-18T14:43:29.173121Z"
    }
   },
   "id": "36dcef3d41d0180e"
  },
  {
   "cell_type": "code",
   "execution_count": 21,
   "outputs": [],
   "source": [
    "MAX_LENGTH = 40\n",
    "\n",
    "def loss_function(y_true, y_pred):\n",
    "    \"\"\"Loss function\n",
    "\n",
    "    Args:\n",
    "        y_true: true label\n",
    "        y_pred: predicted label\n",
    "\n",
    "    Returns:\n",
    "        loss: cross entropy loss\n",
    "    \"\"\"\n",
    "    y_true = tf.reshape(tensor=y_true, shape=(-1, MAX_LENGTH - 1)) # (batch_size, seq_len - 1)\n",
    "    loss = tf.keras.losses.SparseCategoricalCrossentropy(from_logits=True, reduction='none')(y_true, y_pred) # reduction is none because using custom loss. \n",
    "    mask = tf.cast(tf.math.not_equal(y_true, 0), tf.float32) # 0 is padding value and find it. (batch_size, seq_len - 1)\n",
    "    loss = tf.multiply(loss, mask) # \n",
    "    return tf.reduce_mean(input_tensor=loss)"
   ],
   "metadata": {
    "collapsed": false,
    "ExecuteTime": {
     "end_time": "2023-12-18T14:43:29.626276Z",
     "start_time": "2023-12-18T14:43:29.624455Z"
    }
   },
   "id": "2110b423cbf3b3f1"
  },
  {
   "cell_type": "markdown",
   "source": [
    "### cross-entropy\n",
    " - https://towardsdatascience.com/cross-entropy-loss-function-f38c4ec8643e\n",
    "\n",
    "### loss\n",
    " - https://www.tensorflow.org/tutorials/distribute/custom_trainin#define_the_loss_function"
   ],
   "metadata": {
    "collapsed": false
   },
   "id": "555d76c65e479fac"
  },
  {
   "cell_type": "code",
   "execution_count": 22,
   "outputs": [],
   "source": [
    "class CustomSchedule(tf.keras.optimizers.schedules.LearningRateSchedule):\n",
    "\n",
    "    def __init__(self, d_model, warmup_steps=4000):\n",
    "        super(CustomSchedule, self).__init__()\n",
    "        self.d_model = d_model\n",
    "        self.d_model = tf.cast(self.d_model, tf.float32)\n",
    "        self.warmup_steps = warmup_steps\n",
    "\n",
    "    def __call__(self, step):\n",
    "        step = tf.cast(step, tf.float32)\n",
    "        arg1 = tf.math.rsqrt(step)\n",
    "        arg2 = step * (self.warmup_steps**-1.5)\n",
    "\n",
    "        return tf.math.rsqrt(self.d_model) * tf.math.minimum(arg1, arg2)\n"
   ],
   "metadata": {
    "collapsed": false,
    "ExecuteTime": {
     "end_time": "2023-12-18T14:43:31.383355Z",
     "start_time": "2023-12-18T14:43:31.366320Z"
    }
   },
   "id": "4018a7b67ef6222f"
  },
  {
   "cell_type": "markdown",
   "source": [
    "### transformer learning rate (optimizer)\n",
    " - check 5.3 Optimizer chapter of 'Attention is all you need' paper (https://arxiv.org/pdf/1706.03762.pdf) "
   ],
   "metadata": {
    "collapsed": false
   },
   "id": "53686dd8ade10cb5"
  },
  {
   "cell_type": "code",
   "execution_count": 23,
   "outputs": [
    {
     "data": {
      "text/plain": "Text(0.5, 0, 'Train Step')"
     },
     "execution_count": 23,
     "metadata": {},
     "output_type": "execute_result"
    },
    {
     "data": {
      "text/plain": "<Figure size 640x480 with 1 Axes>",
      "image/png": "[encoded data removed]"
     },
     "metadata": {},
     "output_type": "display_data"
    }
   ],
   "source": [
    "sample_learning_rate = CustomSchedule(d_model=128)\n",
    "\n",
    "plt.plot(sample_learning_rate(tf.range(200000, dtype=tf.float32)))\n",
    "plt.ylabel(\"Learning Rate\")\n",
    "plt.xlabel(\"Train Step\")\n"
   ],
   "metadata": {
    "collapsed": false,
    "ExecuteTime": {
     "end_time": "2023-12-18T14:43:32.742955Z",
     "start_time": "2023-12-18T14:43:32.594315Z"
    }
   },
   "id": "fd3f1f5d870329db"
  },
  {
   "cell_type": "code",
   "execution_count": null,
   "outputs": [],
   "source": [],
   "metadata": {
    "collapsed": false
   },
   "id": "79be293c2a5c045b"
  }
 ],
 "metadata": {
  "kernelspec": {
   "display_name": "Python 3",
   "language": "python",
   "name": "python3"
  },
  "language_info": {
   "codemirror_mode": {
    "name": "ipython",
    "version": 2
   },
   "file_extension": ".py",
   "mimetype": "text/x-python",
   "name": "python",
   "nbconvert_exporter": "python",
   "pygments_lexer": "ipython2",
   "version": "2.7.6"
  }
 },
 "nbformat": 4,
 "nbformat_minor": 5
}
