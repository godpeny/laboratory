{
 "cells": [
  {
   "cell_type": "code",
   "execution_count": 1,
   "id": "initial_id",
   "metadata": {
    "collapsed": true,
    "ExecuteTime": {
     "end_time": "2023-10-29T07:25:51.085241Z",
     "start_time": "2023-10-29T07:25:42.547448Z"
    }
   },
   "outputs": [],
   "source": [
    "import numpy as np\n",
    "import pandas as pd\n",
    "\n",
    "import tensorflow as tf\n",
    "import keras\n",
    "\n",
    "from keras.preprocessing.sequence import pad_sequences\n",
    "from keras.datasets import imdb"
   ]
  },
  {
   "cell_type": "markdown",
   "source": [
    "# Data Preprocessing"
   ],
   "metadata": {
    "collapsed": false
   },
   "id": "f5ea67e4e1ed0ad7"
  },
  {
   "cell_type": "code",
   "execution_count": 7,
   "outputs": [
    {
     "name": "stdout",
     "output_type": "stream",
     "text": [
      "(25000,) (25000,)\n",
      "[1, 14, 22, 16, 43, 530, 973, 1622, 1385, 65, 458, 4468, 66, 3941, 4, 173, 36, 256, 5, 25, 100, 43, 838, 112, 50, 670, 2, 9, 35, 480, 284, 5, 150, 4, 172, 112, 167, 2, 336, 385, 39, 4, 172, 4536, 1111, 17, 546, 38, 13, 447, 4, 192, 50, 16, 6, 147, 2025, 19, 14, 22, 4, 1920, 4613, 469, 4, 22, 71, 87, 12, 16, 43, 530, 38, 76, 15, 13, 1247, 4, 22, 17, 515, 17, 12, 16, 626, 18, 19193, 5, 62, 386, 12, 8, 316, 8, 106, 5, 4, 2223, 5244, 16, 480, 66, 3785, 33, 4, 130, 12, 16, 38, 619, 5, 25, 124, 51, 36, 135, 48, 25, 1415, 33, 6, 22, 12, 215, 28, 77, 52, 5, 14, 407, 16, 82, 10311, 8, 4, 107, 117, 5952, 15, 256, 4, 2, 7, 3766, 5, 723, 36, 71, 43, 530, 476, 26, 400, 317, 46, 7, 4, 12118, 1029, 13, 104, 88, 4, 381, 15, 297, 98, 32, 2071, 56, 26, 141, 6, 194, 7486, 18, 4, 226, 22, 21, 134, 476, 26, 480, 5, 144, 30, 5535, 18, 51, 36, 28, 224, 92, 25, 104, 4, 226, 65, 16, 38, 1334, 88, 12, 16, 283, 5, 16, 4472, 113, 103, 32, 15, 16, 5345, 19, 178, 32]\n"
     ]
    }
   ],
   "source": [
    "vocab_size = 20000\n",
    "\n",
    "(X_train, y_train), (X_test, y_test) = imdb.load_data(num_words=vocab_size) # most frequent 20000 words\n",
    "print(X_train.shape, y_train.shape)\n",
    "print(X_train[0])"
   ],
   "metadata": {
    "collapsed": false,
    "ExecuteTime": {
     "end_time": "2023-10-29T07:32:40.045325Z",
     "start_time": "2023-10-29T07:32:38.451854Z"
    }
   },
   "id": "d3b12b1721ad21d7"
  },
  {
   "cell_type": "code",
   "execution_count": 8,
   "outputs": [
    {
     "name": "stdout",
     "output_type": "stream",
     "text": [
      "238.71364 230.8042\n",
      "(25000, 400) (25000, 400)\n"
     ]
    }
   ],
   "source": [
    "# use padding\n",
    "avg_train_X = np.mean(list(map(len, X_train)))\n",
    "avg_test_X = np.mean(list(map(len, X_test)))\n",
    "print(avg_train_X, avg_test_X)\n",
    "\n",
    "max_len = 400\n",
    "pad_train_X = pad_sequences(X_train, maxlen=max_len)\n",
    "pad_test_X = pad_sequences(X_test, maxlen=max_len)\n",
    "print(pad_train_X.shape, pad_test_X.shape)\n"
   ],
   "metadata": {
    "collapsed": false,
    "ExecuteTime": {
     "end_time": "2023-10-29T07:32:41.590630Z",
     "start_time": "2023-10-29T07:32:41.310886Z"
    }
   },
   "id": "d9d7af0603ea7fc3"
  },
  {
   "cell_type": "markdown",
   "source": [
    "# Modeling"
   ],
   "metadata": {
    "collapsed": false
   },
   "id": "d069f48730e8a012"
  },
  {
   "cell_type": "code",
   "execution_count": 9,
   "outputs": [],
   "source": [
    "from keras.models import Sequential, load_model\n",
    "from keras.layers import Dense, Embedding, GlobalAveragePooling1D"
   ],
   "metadata": {
    "collapsed": false,
    "ExecuteTime": {
     "end_time": "2023-10-29T07:32:42.640625Z",
     "start_time": "2023-10-29T07:32:42.638609Z"
    }
   },
   "id": "47b8c021bf4dd395"
  },
  {
   "cell_type": "code",
   "execution_count": 10,
   "outputs": [
    {
     "name": "stdout",
     "output_type": "stream",
     "text": [
      "Model: \"sequential\"\n",
      "_________________________________________________________________\n",
      " Layer (type)                Output Shape              Param #   \n",
      "=================================================================\n",
      " embedding (Embedding)       (None, 400, 64)           1280000   \n",
      "                                                                 \n",
      " global_average_pooling1d (  (None, 64)                0         \n",
      " GlobalAveragePooling1D)                                         \n",
      "                                                                 \n",
      " dense (Dense)               (None, 1)                 65        \n",
      "                                                                 \n",
      "=================================================================\n",
      "Total params: 1280065 (4.88 MB)\n",
      "Trainable params: 1280065 (4.88 MB)\n",
      "Non-trainable params: 0 (0.00 Byte)\n",
      "_________________________________________________________________\n",
      "Epoch 1/10\n",
      "625/625 [==============================] - 3s 5ms/step - loss: 0.6295 - accuracy: 0.7304 - val_loss: 0.5218 - val_accuracy: 0.8206\n",
      "Epoch 2/10\n",
      "625/625 [==============================] - 3s 5ms/step - loss: 0.4308 - accuracy: 0.8550 - val_loss: 0.3788 - val_accuracy: 0.8678\n",
      "Epoch 3/10\n",
      "625/625 [==============================] - 3s 5ms/step - loss: 0.3191 - accuracy: 0.8925 - val_loss: 0.3234 - val_accuracy: 0.8798\n",
      "Epoch 4/10\n",
      "625/625 [==============================] - 3s 6ms/step - loss: 0.2624 - accuracy: 0.9095 - val_loss: 0.2972 - val_accuracy: 0.8856\n",
      "Epoch 5/10\n",
      "625/625 [==============================] - 4s 6ms/step - loss: 0.2243 - accuracy: 0.9240 - val_loss: 0.2841 - val_accuracy: 0.8898\n",
      "Epoch 6/10\n",
      "625/625 [==============================] - 4s 6ms/step - loss: 0.1961 - accuracy: 0.9343 - val_loss: 0.2754 - val_accuracy: 0.8920\n",
      "Epoch 7/10\n",
      "625/625 [==============================] - 4s 6ms/step - loss: 0.1725 - accuracy: 0.9438 - val_loss: 0.2739 - val_accuracy: 0.8942\n",
      "Epoch 8/10\n",
      "625/625 [==============================] - 4s 6ms/step - loss: 0.1529 - accuracy: 0.9495 - val_loss: 0.2713 - val_accuracy: 0.8946\n",
      "Epoch 9/10\n",
      "625/625 [==============================] - 4s 6ms/step - loss: 0.1351 - accuracy: 0.9564 - val_loss: 0.2753 - val_accuracy: 0.8940\n",
      "Epoch 10/10\n",
      "625/625 [==============================] - 4s 6ms/step - loss: 0.1206 - accuracy: 0.9617 - val_loss: 0.2772 - val_accuracy: 0.8964\n"
     ]
    }
   ],
   "source": [
    "\"\"\"\n",
    " using embedding layer without additional layers\n",
    "\"\"\"\n",
    "embedding_dims=64\n",
    "\n",
    "model = Sequential()\n",
    "model.add(Embedding(input_dim=vocab_size, output_dim=embedding_dims, input_length=max_len))\n",
    "model.add(GlobalAveragePooling1D()) # average of all word vectors\n",
    "model.add(Dense(1, activation='sigmoid')) # output layer\n",
    "model.summary()\n",
    "\n",
    "model.compile(optimizer='adam', loss='binary_crossentropy', metrics=['accuracy'])\n",
    "hist = model.fit(pad_train_X, y_train, batch_size=32, epochs=10, validation_split=0.2)"
   ],
   "metadata": {
    "collapsed": false,
    "ExecuteTime": {
     "end_time": "2023-10-29T07:34:24.604473Z",
     "start_time": "2023-10-29T07:33:48.222505Z"
    }
   },
   "id": "52a3a3c80055f8eb"
  },
  {
   "cell_type": "code",
   "execution_count": 11,
   "outputs": [
    {
     "name": "stderr",
     "output_type": "stream",
     "text": [
      "/Users/godpeny/Code/venv/laboratory/lib/python3.11/site-packages/keras/src/engine/training.py:3079: UserWarning: You are saving your model as an HDF5 file via `model.save()`. This file format is considered legacy. We recommend using instead the native Keras format, e.g. `model.save('my_model.keras')`.\n",
      "  saving_api.save_model(\n"
     ]
    }
   ],
   "source": [
    "# save model\n",
    "model_path = \"../model/\"\n",
    "model.save(model_path + 'imdb_model.h5')"
   ],
   "metadata": {
    "collapsed": false,
    "ExecuteTime": {
     "end_time": "2023-10-29T07:36:30.117222Z",
     "start_time": "2023-10-29T07:36:30.095767Z"
    }
   },
   "id": "6e1207cd463fbeb9"
  },
  {
   "cell_type": "code",
   "execution_count": 13,
   "outputs": [
    {
     "name": "stdout",
     "output_type": "stream",
     "text": [
      "782/782 [==============================] - 1s 1ms/step - loss: 0.2910 - accuracy: 0.8875\n",
      "[0.29098179936408997, 0.8874800205230713]\n"
     ]
    }
   ],
   "source": [
    "loaded_model = load_model(model_path + 'imdb_model.h5')\n",
    "print(loaded_model.evaluate(pad_test_X, y_test)) # loss, accuracy"
   ],
   "metadata": {
    "collapsed": false,
    "ExecuteTime": {
     "end_time": "2023-10-29T07:36:52.682134Z",
     "start_time": "2023-10-29T07:36:51.703366Z"
    }
   },
   "id": "30247a6bcdcf72bc"
  }
 ],
 "metadata": {
  "kernelspec": {
   "display_name": "Python 3",
   "language": "python",
   "name": "python3"
  },
  "language_info": {
   "codemirror_mode": {
    "name": "ipython",
    "version": 2
   },
   "file_extension": ".py",
   "mimetype": "text/x-python",
   "name": "python",
   "nbconvert_exporter": "python",
   "pygments_lexer": "ipython2",
   "version": "2.7.6"
  }
 },
 "nbformat": 4,
 "nbformat_minor": 5
}
