{
 "cells": [
  {
   "cell_type": "code",
   "execution_count": 1,
   "id": "initial_id",
   "metadata": {
    "collapsed": true,
    "ExecuteTime": {
     "end_time": "2023-10-03T06:56:54.341139Z",
     "start_time": "2023-10-03T06:56:52.413995Z"
    }
   },
   "outputs": [],
   "source": [
    "# import\n",
    "import pandas as pd\n",
    "from sklearn.feature_extraction.text import TfidfVectorizer\n",
    "from sklearn.metrics.pairwise import cosine_similarity"
   ]
  },
  {
   "cell_type": "code",
   "execution_count": 29,
   "outputs": [
    {
     "name": "stderr",
     "output_type": "stream",
     "text": [
      "/var/folders/76/r353dd3n1cb9npy26cwjvyz00000gn/T/ipykernel_2071/3176999160.py:2: DtypeWarning: Columns (10) have mixed types. Specify dtype option on import or set low_memory=False.\n",
      "  df = pd.read_csv('../data/movies_metadata.csv')\n"
     ]
    },
    {
     "data": {
      "text/plain": "                         title  \\\n0                    Toy Story   \n1                      Jumanji   \n2             Grumpier Old Men   \n3            Waiting to Exhale   \n4  Father of the Bride Part II   \n\n                                            overview  \n0  Led by Woody, Andy's toys live happily in his ...  \n1  When siblings Judy and Peter discover an encha...  \n2  A family wedding reignites the ancient feud be...  \n3  Cheated on, mistreated and stepped on, the wom...  \n4  Just when George Banks has recovered from his ...  ",
      "text/html": "<div>\n<style scoped>\n    .dataframe tbody tr th:only-of-type {\n        vertical-align: middle;\n    }\n\n    .dataframe tbody tr th {\n        vertical-align: top;\n    }\n\n    .dataframe thead th {\n        text-align: right;\n    }\n</style>\n<table border=\"1\" class=\"dataframe\">\n  <thead>\n    <tr style=\"text-align: right;\">\n      <th></th>\n      <th>title</th>\n      <th>overview</th>\n    </tr>\n  </thead>\n  <tbody>\n    <tr>\n      <th>0</th>\n      <td>Toy Story</td>\n      <td>Led by Woody, Andy's toys live happily in his ...</td>\n    </tr>\n    <tr>\n      <th>1</th>\n      <td>Jumanji</td>\n      <td>When siblings Judy and Peter discover an encha...</td>\n    </tr>\n    <tr>\n      <th>2</th>\n      <td>Grumpier Old Men</td>\n      <td>A family wedding reignites the ancient feud be...</td>\n    </tr>\n    <tr>\n      <th>3</th>\n      <td>Waiting to Exhale</td>\n      <td>Cheated on, mistreated and stepped on, the wom...</td>\n    </tr>\n    <tr>\n      <th>4</th>\n      <td>Father of the Bride Part II</td>\n      <td>Just when George Banks has recovered from his ...</td>\n    </tr>\n  </tbody>\n</table>\n</div>"
     },
     "execution_count": 29,
     "metadata": {},
     "output_type": "execute_result"
    }
   ],
   "source": [
    "# load data\n",
    "df = pd.read_csv('../data/movies_metadata.csv')\n",
    "df = df.head(20000) # use only 20,000\n",
    "df = df[['title', 'overview']] # use only 'title' and 'overview' columns\n",
    "df.head(5)"
   ],
   "metadata": {
    "collapsed": false,
    "ExecuteTime": {
     "end_time": "2023-10-03T07:51:19.291987Z",
     "start_time": "2023-10-03T07:51:18.886068Z"
    }
   },
   "id": "bbb64d566b9af2df"
  },
  {
   "cell_type": "code",
   "execution_count": 30,
   "outputs": [
    {
     "name": "stdout",
     "output_type": "stream",
     "text": [
      "2\n",
      "0\n"
     ]
    }
   ],
   "source": [
    "# check null\n",
    "df['overview'] = df['overview'].fillna('') # fill null with empty string\n",
    "\n",
    "print(df['title'].isnull().sum())\n",
    "print(df['overview'].isnull().sum())"
   ],
   "metadata": {
    "collapsed": false,
    "ExecuteTime": {
     "end_time": "2023-10-03T07:51:21.667764Z",
     "start_time": "2023-10-03T07:51:21.664289Z"
    }
   },
   "id": "1cc57849a5c3e22f"
  },
  {
   "cell_type": "code",
   "execution_count": 31,
   "outputs": [
    {
     "name": "stdout",
     "output_type": "stream",
     "text": [
      "(20000, 47487)\n"
     ]
    }
   ],
   "source": [
    "# apply tf-idf\n",
    "tfidf = TfidfVectorizer(stop_words='english')\n",
    "tfidf_matrix = tfidf.fit_transform(df['overview'])\n",
    "print(tfidf_matrix.shape) # (20000, 47487) : 20,000 movies, 47,487 words"
   ],
   "metadata": {
    "collapsed": false,
    "ExecuteTime": {
     "end_time": "2023-10-03T07:51:24.625878Z",
     "start_time": "2023-10-03T07:51:24.161191Z"
    }
   },
   "id": "201db2c6879a573c"
  },
  {
   "cell_type": "code",
   "execution_count": 35,
   "outputs": [
    {
     "name": "stdout",
     "output_type": "stream",
     "text": [
      "(20000, 20000)\n",
      "[0.01575748 1.         0.04907345 ... 0.         0.         0.        ]\n"
     ]
    }
   ],
   "source": [
    "# calculate cosine similarity\n",
    "cosine_sim = cosine_similarity(tfidf_matrix, tfidf_matrix)\n",
    "print(cosine_sim.shape)\n",
    "print(cosine_sim[1]) # similarity scores of the #'1' movie"
   ],
   "metadata": {
    "collapsed": false,
    "ExecuteTime": {
     "end_time": "2023-10-03T08:13:20.656829Z",
     "start_time": "2023-10-03T08:13:18.877091Z"
    }
   },
   "id": "2803d1b38c5dbd0b"
  },
  {
   "cell_type": "code",
   "execution_count": 36,
   "outputs": [],
   "source": [
    "# functions for processing\n",
    "title_index_map = dict(zip(df['title'], df.index)) # key: title, value: index\n",
    "\n",
    "def get_recommendations(title):\n",
    "    idx = title_index_map[title] \n",
    "    sim_scores = list(enumerate(cosine_sim[idx])) \n",
    "    sim_scores = sorted(sim_scores, key=lambda x: x[1], reverse=True) # sort by similarity scores\n",
    "    sim_scores = sim_scores[1:11] \n",
    "    \n",
    "    movie_indices = [i[0] for i in sim_scores] # get indices of the tuples\n",
    "    return df['title'].iloc[movie_indices] # get the titles of the indices"
   ],
   "metadata": {
    "collapsed": false,
    "ExecuteTime": {
     "end_time": "2023-10-03T08:13:25.337975Z",
     "start_time": "2023-10-03T08:13:25.335278Z"
    }
   },
   "id": "47bbd213552da685"
  },
  {
   "cell_type": "markdown",
   "source": [
    "# enumerate(): The built-in Python enumerate() function returns an iterator that produces pairs (tuples) containing indices (starting from 0) and values from the iterable passed to it. \n",
    "\n",
    "# list(...): This wraps around the enumerate() function to convert the iterator into an actual list of tuples.\n",
    "\n",
    "# key=lambda x: x[1]: The key function is used to extract a comparison key from each element in sim_scores. In this case, the lambda function takes in a tuple x and returns its second element (x[1]). This means that the sorting will be done based on the second elements of the tuples."
   ],
   "metadata": {
    "collapsed": false
   },
   "id": "6084b466f6b7f357"
  },
  {
   "cell_type": "code",
   "execution_count": 37,
   "outputs": [
    {
     "data": {
      "text/plain": "12481                            The Dark Knight\n150                               Batman Forever\n1328                              Batman Returns\n15511                 Batman: Under the Red Hood\n585                                       Batman\n9230          Batman Beyond: Return of the Joker\n18035                           Batman: Year One\n19792    Batman: The Dark Knight Returns, Part 1\n3095                Batman: Mask of the Phantasm\n10122                              Batman Begins\nName: title, dtype: object"
     },
     "execution_count": 37,
     "metadata": {},
     "output_type": "execute_result"
    }
   ],
   "source": [
    "# run\n",
    "get_recommendations('The Dark Knight Rises')"
   ],
   "metadata": {
    "collapsed": false,
    "ExecuteTime": {
     "end_time": "2023-10-03T08:13:44.708234Z",
     "start_time": "2023-10-03T08:13:44.697715Z"
    }
   },
   "id": "2e56b06f567989d4"
  },
  {
   "cell_type": "code",
   "execution_count": null,
   "outputs": [],
   "source": [],
   "metadata": {
    "collapsed": false
   },
   "id": "9bf76b5fcbc97b9b"
  }
 ],
 "metadata": {
  "kernelspec": {
   "display_name": "Python 3",
   "language": "python",
   "name": "python3"
  },
  "language_info": {
   "codemirror_mode": {
    "name": "ipython",
    "version": 2
   },
   "file_extension": ".py",
   "mimetype": "text/x-python",
   "name": "python",
   "nbconvert_exporter": "python",
   "pygments_lexer": "ipython2",
   "version": "2.7.6"
  }
 },
 "nbformat": 4,
 "nbformat_minor": 5
}
