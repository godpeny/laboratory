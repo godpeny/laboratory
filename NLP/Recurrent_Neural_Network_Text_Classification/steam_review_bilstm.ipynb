{
 "cells": [
  {
   "cell_type": "code",
   "execution_count": 1,
   "id": "initial_id",
   "metadata": {
    "collapsed": true,
    "ExecuteTime": {
     "end_time": "2023-11-17T14:15:04.021596Z",
     "start_time": "2023-11-17T14:15:01.615725Z"
    }
   },
   "outputs": [],
   "source": [
    "import pandas as pd\n",
    "import numpy as np\n",
    "import urllib.request\n",
    "\n",
    "import matplotlib.pyplot as plt\n",
    "\n",
    "from collections import Counter\n",
    "from konlpy.tag import Okt\n",
    "\n",
    "from keras.preprocessing.text import Tokenizer\n",
    "from keras.preprocessing.sequence import pad_sequences\n",
    "from sklearn.model_selection import train_test_split"
   ]
  },
  {
   "cell_type": "code",
   "execution_count": 2,
   "outputs": [
    {
     "data": {
      "text/plain": "('../data/steam.txt', <http.client.HTTPMessage at 0x2849ab150>)"
     },
     "execution_count": 2,
     "metadata": {},
     "output_type": "execute_result"
    }
   ],
   "source": [
    "data_path = \"../data/\"\n",
    "urllib.request.urlretrieve(\"https://raw.githubusercontent.com/bab2min/corpus/master/sentiment/steam.txt\", filename=data_path + \"steam.txt\")"
   ],
   "metadata": {
    "collapsed": false,
    "ExecuteTime": {
     "end_time": "2023-11-17T14:15:04.548385Z",
     "start_time": "2023-11-17T14:15:04.014453Z"
    }
   },
   "id": "d63e595f0c24a7c0"
  },
  {
   "cell_type": "code",
   "execution_count": 3,
   "outputs": [
    {
     "name": "stdout",
     "output_type": "stream",
     "text": [
      "100000\n",
      "   label                               reviews\n",
      "0      0                             노래가 너무 적음\n",
      "1      0       돌겠네 진짜. 황숙아, 어크 공장 그만 돌려라. 죽는다.\n",
      "2      1      막노동 체험판 막노동 하는사람인데 장비를 내가 사야돼 뭐지\n",
      "3      1  차악!차악!!차악!!! 정말 이래서 왕국을 되찾을 수 있는거야??\n",
      "4      1   시간 때우기에 좋음.. 도전과제는 50시간이면 다 깰 수 있어요\n"
     ]
    }
   ],
   "source": [
    "df = pd.read_table(data_path + \"steam.txt\", names=['label', 'reviews'])\n",
    "print(len(df))\n",
    "print(df.head(5))"
   ],
   "metadata": {
    "collapsed": false,
    "ExecuteTime": {
     "end_time": "2023-11-17T14:15:04.732548Z",
     "start_time": "2023-11-17T14:15:04.541765Z"
    }
   },
   "id": "3a25841984dc970e"
  },
  {
   "cell_type": "markdown",
   "source": [
    "# Data Preprocessing"
   ],
   "metadata": {
    "collapsed": false
   },
   "id": "ff0e4c626ebca2f6"
  },
  {
   "cell_type": "code",
   "execution_count": 4,
   "outputs": [
    {
     "name": "stdout",
     "output_type": "stream",
     "text": [
      "False\n",
      "False\n",
      "99892\n",
      "99892 99892\n"
     ]
    }
   ],
   "source": [
    "# check null and drop duplicate\n",
    "print(df['label'].isnull().values.any())\n",
    "print(df['reviews'].isnull().values.any())\n",
    "\n",
    "print(df['reviews'].nunique())\n",
    "df.drop_duplicates(subset=['reviews'], inplace=True)\n",
    "print(df['reviews'].nunique(), len(df)) "
   ],
   "metadata": {
    "collapsed": false,
    "ExecuteTime": {
     "end_time": "2023-11-17T14:15:04.833720Z",
     "start_time": "2023-11-17T14:15:04.745298Z"
    }
   },
   "id": "2a08e45894dfa1e1"
  },
  {
   "cell_type": "code",
   "execution_count": 5,
   "outputs": [
    {
     "name": "stdout",
     "output_type": "stream",
     "text": [
      "79913 19979\n"
     ]
    },
    {
     "data": {
      "text/plain": "<Axes: xlabel='label'>"
     },
     "execution_count": 5,
     "metadata": {},
     "output_type": "execute_result"
    },
    {
     "data": {
      "text/plain": "<Figure size 640x480 with 1 Axes>",
      "image/png": "[encoded data removed]"
     },
     "metadata": {},
     "output_type": "display_data"
    }
   ],
   "source": [
    "df_train, df_test = train_test_split(df, test_size=0.2, random_state=77)\n",
    "print(len(df_train), len(df_test))\n",
    "df_train['label'].value_counts().plot(kind='bar')"
   ],
   "metadata": {
    "collapsed": false,
    "ExecuteTime": {
     "end_time": "2023-11-17T14:15:04.981126Z",
     "start_time": "2023-11-17T14:15:04.831440Z"
    }
   },
   "id": "37e11d448bfe4dbc"
  },
  {
   "cell_type": "code",
   "execution_count": 6,
   "outputs": [
    {
     "name": "stdout",
     "output_type": "stream",
     "text": [
      "0\n",
      "       label                                            reviews\n",
      "79698      0                   전작보다 몰입이 떨어짐 보스전도없고 쓸데없는 캐릭만 더나옴\n",
      "68365      1  재미있어요 물론 둘이 해야만 불친절해서 더 탐험욕구가 생기구요 신기한 경험도 많이 ...\n",
      "39371      1   는 갓겜 맞다 키보드로 안하고 플스 패드로 해서 모르겠는데 플스 패드로 하면 더욱...\n",
      "58974      0                                          고인물이 넘쳐난다\n",
      "59716      1     분만 더하면 깰줄 알았는데 일걸려 한스테이지 깼어요 기묘한 난이도에 매우 반했습니다\n",
      "48092      0               벗지않는 보단 벗는 가 더 꼴리니까 동인지나 구해서 딸이나 칩시다\n",
      "7874       1                          재밋음 다만 자유로운 커스텀땜에 훈수가좀 잇음\n",
      "12732      0  굳이 평가까지는 안하려고 했는데 기본컨텐츠 강화나 프리 디엘시가 아닌 유료 디엘시를...\n",
      "36125      1  멀티로 인 플레이를 해서 클리어를 했습니다 스토리도 괜찮고 게임성도 좋았는데 눈이 ...\n",
      "20279      0                                              아잠와  \n",
      "2333       0  이겜은 모르면 맞아아지  배워야 기술이 외워진다는데언제 외우나여 기술도 모르면서 쳐...\n",
      "15369      0  오픈월드 치곤 좋은 게임 하지만 오픈월드 치고는 너무 현실도가 떨어짐 하다보면 점점...\n",
      "74781      1                                    그냥 아무생각없이 하기 좋음\n",
      "37846      0  제겐 너무너무 어려운 게임이였어요 광활한 우주를 누비며 이것저것 해보고싶었는데 너무...\n",
      "5586       1                                            넘모 재밌는것\n",
      "54187      0                             친구가 문명빠돌이에 전쟁광이면 사지마세요\n",
      "43727      1               밤에  이륙시키고   킨다음에 한 숨 자고 일어나면 착륙하는 갓겜\n",
      "5200       0  ㅅ ㅈ같네 아무리 설정을 돌려도  컨트롤러가 안 뜸 박스 컨트롤러만 뜨고 누구 문제...\n",
      "27827      0      건물 옮기는 기능빼면 전부다 퇴보한 느낌 뭐 찾아달라는 퀘스트는 솔찍히 짜증만 남\n",
      "68534      1                               로그라이크 로그라이크는 나에겐 힘들다\n",
      "57191      0                               실행이 안되네요 화면 멈춤현상이ㅡㅡㅋ\n",
      "5206       0                           할인해서 샀지만 몇분 해보고 환불 재미 없음\n",
      "6158       0                                                질리네\n",
      "69102      1                          탱크는 완벽 그러나 전투기는 너무완벽 그래서 \n",
      "71923      0  아침 점심가지는 괜찮음 근데 저녘만되면 서버가 핑이 미친듯이 핑이튐 뭐 어떻게 할수가없음\n",
      "6080       1                           정말 쉽고 재밌는 겜입니다 여러분들도 하십쇼\n",
      "20544      0  굳이 사지 않아도 됩니다 본편이 훨씬 재밌습니다 그냥 이걸 먼저 플레이하신 후 본편...\n",
      "21459      0        본편은 그래도 이해는 하겠는데 는 을 안해봐서 그런지 무슨 내용인지도 모르겠음\n",
      "26998      1                     단계를 깨기 전까지는 빡치지만 깬다면 쾌감을 주는 게임\n",
      "42717      0  가격에 비해 별로임 클릭질만오질나게 하다가 끄는게임 그냥반복컨텐츠 부족얼리엑세스 수...\n",
      "0\n",
      "       label                                            reviews\n",
      "51370      0  스페셜은 지원되는모드가 너무적네여 미리 알았으면 레전드리 샀는데 앞으로 사실 분들도...\n",
      "93843      0  인내심 유발 게임 난이도 쉬움도 실제로는 어려운 편이라 도전과제를 목표로 하면 더더...\n",
      "43272      1  모놀리스의  리벨리온의 보다 리벨리온의 첫 이 공포감이 장난 아닌 게임이다 다만 게...\n",
      "43814      0                                      이게임 뭐하는지 모르겠다\n",
      "5439       0  마지막에 웨스커 바주카쏘고 터뜨린담에 쉐바 개 개좆같은년이 주사기를 쳐 안꽂아서 진...\n",
      "50339      0  아무리 운빨겜이긴 하지만 시작전 액티브 패시브 선택 밸런스가 너무 엉망이다 처음에만...\n",
      "57673      0                                           개좆같은 운빨겜\n",
      "49892      1           직관성이 뛰어남 다만 내가 어디까지 했는지 못봐서 아쉬웠음 짧아서 좋았음\n",
      "15320      0                         왜 콜옵은 싱글이고 멀티는 배필인지 알려주는게임\n",
      "11807      1                                 시도는 좋았으나 눈탱이 로 끝난다\n",
      "15834      0                                           너무재밌었습니다\n",
      "16755      0  를 가장 좋아하는데 딱  기준으로 나뉘어서 콜렉션 개를 다 사아하는 슬픔 키 셋팅 ...\n",
      "9022       1        오픈월드인 것은 좋다 이말이야 근데 오픈월드 치고는 나 혼자 있는 기분이 든다\n",
      "50550      0   밀려요 게임은 프레임 고정할정도로 사양은 충분한데 이 곡 처음부분은 맞다가 초 지...\n",
      "64135      1  무료 플레이 시간도안 잠시 해봤는데 조금 불편한점도 있지만 오래하면 재미는 확실히 ...\n",
      "85731      0  컨셉은 재미있게 잘 잡은 게임입니다 다만 패드 위주의 게임이라 그런지 키보드로 플레...\n",
      "32461      0             그냥 편한 마음으로 플레이 하는 게임인줄 알았으나 전혀 그러지 않았다\n",
      "68117      0                                       너무 옛날게임 단조롭다\n",
      "22694      0  아직도 게임 하다 멈추네요  아니 게임이 아무리 재밌으면 뭐합니까 플레이타임이 짧은...\n",
      "73734      0                  게임 플레이할때 프레임 드랍이심해서 게임에 몰입이 되지않는다\n",
      "5604       0  튜토리얼 후에 스토리 모드 들어가서 해봤는데 화면이 부드럽지가 않네요 기본적으로 프...\n",
      "13273      1                원치않게 발소리가 너무 크게 나는 게임 박수로 괴물을 환영해보자\n",
      "31396      0           메타 딱지가 노란것에는 다 이유가 있었습니다 코옵에 낚여서 샀다가 관짝행\n",
      "10600      0                                      음성이 안나와요 ㅠㅠㅠㅠ\n",
      "90173      1                                         재밌는데 멀미 조짐\n",
      "57202      1                            시간가는줄 모르고 했어요ㅋㅋ중독성 오집니다\n",
      "94496      0                               를 누르면 앞으로 이동할 수 있습니다\n",
      "18304      0                                        노답입니다 매우 많이\n",
      "81740      0    손흥민을 아주그냥 개 병신같이 만들어놔서 쓸수가없다 ㅅ 발 카가와였어봐 벌써 검공이다\n",
      "32701      0                                            응 안해 시발\n"
     ]
    }
   ],
   "source": [
    "# remove non-Korean\n",
    "df_train['reviews'].replace(\"[^ㄱ-ㅎㅏ-ㅣ가-힣 ]\",\"\", regex=True, inplace=True)\n",
    "df_train['reviews'].replace('', np.nan, inplace=True)\n",
    "print(df_train['reviews'].isnull().sum())\n",
    "print(df_train[:30]) # check\n",
    "\n",
    "# apply to test data\n",
    "df_test['reviews'].replace(\"[^ㄱ-ㅎㅏ-ㅣ가-힣 ]\",\"\", regex=True, inplace=True)\n",
    "df_test['reviews'].replace('', np.nan, inplace=True)\n",
    "print(df_test['reviews'].isnull().sum())\n",
    "print(df_test[:30]) # check"
   ],
   "metadata": {
    "collapsed": false,
    "ExecuteTime": {
     "end_time": "2023-11-17T14:15:05.072873Z",
     "start_time": "2023-11-17T14:15:04.944729Z"
    }
   },
   "id": "6818b6b801cb6a7f"
  },
  {
   "cell_type": "markdown",
   "source": [
    "# Tokenizing"
   ],
   "metadata": {
    "collapsed": false
   },
   "id": "d65c7cd8e9434802"
  },
  {
   "cell_type": "code",
   "execution_count": 7,
   "outputs": [
    {
     "name": "stdout",
     "output_type": "stream",
     "text": [
      "79698       [전작, 보다, 몰입, 떨어짐, 보스, 전도, 없고, 쓸데없는, 캐릭, 더, 나옴]\n",
      "68365    [재미있어요, 물론, 둘, 해야만, 불친절해서, 더, 탐험, 욕구, 생기구요, 신기...\n",
      "39371    [갓, 맞다, 키, 보드, 로, 안, 하고, 플스, 패드, 로, 해서, 모르겠는데,...\n",
      "58974                                         [인물, 넘쳐, 난다]\n",
      "59716    [분만, 더하면, 깰줄, 알았는데, 일, 걸려, 스테이지, 깼어요, 기묘한, 난이도...\n",
      "48092    [벗지, 않는, 보단, 벗는, 더, 꼴리니까, 동인지, 나, 구해, 서, 딸, 이나...\n",
      "7874                  [재밋음, 다만, 자유로운, 커, 스텀, 땜, 훈수, 좀, 잇음]\n",
      "12732    [굳이, 평가, 까지는, 안, 하려고, 했는데, 기본, 컨텐츠, 강화, 나, 프리,...\n",
      "36125    [멀티, 로, 플레이, 해서, 클리어, 했습니다, 스토리, 괜찮고, 성도, 좋았는데...\n",
      "20279                                               [아, 잠]\n",
      "2333     [모르면, 맞아아지, 배워야, 기술, 외워진다는데, 언제, 외우나여, 기술, 모르면...\n",
      "15369    [오픈월드, 치곤, 좋은, 하지만, 오픈월드, 치고는, 너무, 현실, 떨어짐, 하다...\n",
      "74781                             [그냥, 아무, 생각, 없이, 하기, 좋음]\n",
      "37846    [제겐, 너무, 너무, 어려운, 였어요, 광활한, 우주, 누비, 며, 것, 저, 것...\n",
      "5586                                          [넘, 모, 재밌는것]\n",
      "54187                        [친구, 문명, 빠돌이, 전쟁, 광, 사지, 마세요]\n",
      "43727            [밤, 이륙, 시키고, 킨다음, 숨, 자고, 일어나면, 착륙, 하는, 갓]\n",
      "5200     [ㅅ, ㅈ, 같네, 아무리, 설정, 돌려도, 컨트롤러, 안, 뜸, 박스, 컨트롤러,...\n",
      "27827    [건물, 옮기는, 기능, 빼면, 전부, 퇴보한, 느낌, 뭐, 찾아, 달라, 퀘스트,...\n",
      "68534                           [로그라이크, 로그라이크, 나, 에겐, 힘들다]\n",
      "57191                          [실행, 안되네요, 화면, 멈춤, 현상, ㅡㅡㅋ]\n",
      "5206                  [할인, 해서, 샀지만, 몇, 분, 해보고, 환불, 재미, 없음]\n",
      "6158                                                  [질리]\n",
      "69102                      [탱크, 완벽, 그러나, 전투기, 너무, 완벽, 그래서]\n",
      "71923    [아침, 점심, 가지는, 괜찮음, 근데, 저, 녘, 되면, 서버, 핑, 미친듯이, ...\n",
      "6080                        [정말, 쉽고, 재밌는, 입니다, 여러분, 하십, 쇼]\n",
      "20544    [굳이, 사지, 않아도, 됩니다, 본, 편이, 훨씬, 재밌습니다, 그냥, 걸, 먼저...\n",
      "21459    [본, 편, 그래도, 이해, 하겠는데, 안, 해봐서, 그런지, 무슨, 내용, 인지도...\n",
      "26998                  [단계, 깨기, 전, 까지는, 빡치지만, 깬다면, 쾌감, 주는]\n",
      "42717    [가격, 비해, 별로, 클릭, 질, 오질나게, 하다가, 끄는, 그냥, 반복, 컨텐츠...\n",
      "Name: tokenized, dtype: object\n",
      "51370    [스페셜, 지원, 되는, 모드, 너, 무적, 여, 미리, 알았으면, 레전드, 리, ...\n",
      "93843    [인내심, 유발, 난이도, 쉬움, 실제, 로는, 어려운, 편이, 라, 도전, 과제,...\n",
      "43272    [모, 놀, 리스, 리, 벨리, 온, 보다, 리, 벨리, 온, 첫, 공포, 감, 장...\n",
      "43814                                       [뭐, 하는지, 모르겠다]\n",
      "5439     [마지막, 웨스커, 바주카, 쏘고, 터뜨린, 담, 쉐바, 개, 개좆, 같은, 년, ...\n",
      "50339    [아무리, 운빨겜, 이긴, 하지만, 시, 작전, 액티브, 패, 시브, 선택, 밸런스...\n",
      "57673                                        [개좆, 같은, 운빨겜]\n",
      "49892    [직관, 성, 뛰어남, 다만, 내, 어디, 까지, 했는지, 못, 봐서, 아쉬웠음, ...\n",
      "15320                    [왜, 콜옵, 싱글, 이고, 멀티, 배필, 인지, 알려주는]\n",
      "11807                               [시도, 좋았으나, 눈탱, 로, 끝난다]\n",
      "15834                                         [너무, 재밌었습니다]\n",
      "16755    [가장, 좋아하는데, 딱, 기준, 으로, 나뉘어서, 콜렉션, 개, 사, 아하, 슬픔...\n",
      "9022     [오픈월드, 것, 좋다, 말, 이야, 근데, 오픈월드, 치고는, 나, 혼자, 있는,...\n",
      "50550    [밀려요, 프레임, 고정, 할, 정도, 로, 사양, 충분한데, 곡, 처음, 부분, ...\n",
      "64135    [무료, 플레이, 시간, 도안, 잠시, 해봤는데, 조금, 불편한, 점도, 있지만, ...\n",
      "85731    [컨셉, 재미있게, 잘, 잡은, 입니다, 다만, 패드, 위주, 이라, 그런지, 키,...\n",
      "32461     [그냥, 편한, 마음, 으로, 플레이, 하는, 줄, 알았으나, 전혀, 그러지, 않았다]\n",
      "68117                                       [너무, 옛날, 단조롭다]\n",
      "22694    [아직도, 하다, 멈추네요, 아니, 아무리, 재밌으면, 뭐합, 니까, 플레이, 타임...\n",
      "73734               [플레이, 할, 때, 프레임, 드랍, 심해서, 몰입, 되지, 않는다]\n",
      "5604     [튜토리얼, 후, 스토리, 모드, 들어가서, 해봤는데, 화면, 부드럽지가, 않네요,...\n",
      "13273         [원치않게, 발, 소리, 너무, 크게, 나, 박수, 로, 괴물, 환영, 해보자]\n",
      "31396      [메타, 딱지, 노란것에는, 이유, 있었습니다, 코옵, 낚, 여서, 샀다가, 관짝행]\n",
      "10600                                   [음성, 안, 나와요, ㅠㅠㅠㅠ]\n",
      "90173                                       [재밌는데, 멀미, 조짐]\n",
      "57202               [시간, 가는줄, 모르고, 했어요, ㅋㅋ, 중독, 성, 오, 집니다]\n",
      "94496                         [누르면, 앞, 으로, 이동, 할, 수, 있습니다]\n",
      "18304                                    [노답, 입니다, 매우, 많이]\n",
      "81740    [손흥민, 아주, 그냥, 개, 병신, 같이, 만들어, 놔서, 쓸수가, 없다, ㅅ, ...\n",
      "32701                                          [응, 안해, 시발]\n",
      "Name: tokenized, dtype: object\n"
     ]
    }
   ],
   "source": [
    "stopwords = ['도', '는', '다', '의', '가', '이', '은', '한', '에', '하', '고', '을', '를', '인', '듯', '과', '와', '네', '들', '듯', '지', '임', '게', '만', '게임', '겜', '되', '음', '면']\n",
    "\n",
    "okt = Okt()\n",
    "\n",
    "df_train['tokenized'] = df_train['reviews'].apply(lambda x: okt.morphs(x))\n",
    "df_train['tokenized'] = df_train['tokenized'].apply(lambda x: [word for word in x if not word in stopwords])\n",
    "\n",
    "df_test['tokenized'] = df_test['reviews'].apply(lambda x: okt.morphs(x))\n",
    "df_test['tokenized'] = df_test['tokenized'].apply(lambda x: [word for word in x if not word in stopwords])\n",
    "\n",
    "print(df_train['tokenized'][:30]) # check\n",
    "print(df_test['tokenized'][:30]) # check"
   ],
   "metadata": {
    "collapsed": false,
    "ExecuteTime": {
     "end_time": "2023-11-17T14:17:23.994053Z",
     "start_time": "2023-11-17T14:15:05.071259Z"
    }
   },
   "id": "a0c28ca99bdca712"
  },
  {
   "cell_type": "code",
   "execution_count": 8,
   "outputs": [
    {
     "name": "stdout",
     "output_type": "stream",
     "text": [
      "[('로', 3767), ('으로', 3644), ('할', 2877), ('플레이', 2836), ('시간', 2597), ('입니다', 2570), ('것', 2493), ('너무', 2443), ('적', 2429), ('추천', 2428), ('때', 2411), ('하는', 2408), ('좀', 2289), ('갓', 2282), ('안', 2211), ('수', 2206), ('하고', 2159), ('에서', 2046), ('하면', 1997), ('생각', 1949)]\n",
      "[('안', 4258), ('로', 3980), ('너무', 3657), ('못', 3312), ('으로', 3265), ('하고', 2704), ('할', 2543), ('개', 2376), ('적', 2306), ('그냥', 2290), ('시간', 2284), ('하는', 2245), ('거', 2235), ('것', 2162), ('왜', 2157), ('에서', 2140), ('플레이', 2125), ('나', 2081), ('좀', 2025), ('사람', 1914)]\n"
     ]
    }
   ],
   "source": [
    "positive_words = np.hstack(df_train[df_train['label'] == 1]['tokenized'].values)\n",
    "negative_words = np.hstack(df_train[df_train['label'] == 0]['tokenized'].values)\n",
    "\n",
    "positive_word_count = Counter(positive_words)\n",
    "negative_word_count = Counter(negative_words)\n",
    "\n",
    "print(positive_word_count.most_common(20))\n",
    "print(negative_word_count.most_common(20))"
   ],
   "metadata": {
    "collapsed": false,
    "ExecuteTime": {
     "end_time": "2023-11-17T14:17:24.596003Z",
     "start_time": "2023-11-17T14:17:23.995642Z"
    }
   },
   "id": "e203820852531db4"
  },
  {
   "cell_type": "code",
   "execution_count": 9,
   "outputs": [
    {
     "name": "stdout",
     "output_type": "stream",
     "text": [
      "13.164936851319245\n",
      "13.5190843518333\n"
     ]
    }
   ],
   "source": [
    "positive_len = np.mean(df_train[df_train.label == 1]['tokenized'].map(lambda x: len(x)))\n",
    "negative_len = np.mean(df_train[df_train.label == 0]['tokenized'].map(lambda x: len(x)))\n",
    "\n",
    "print(positive_len)\n",
    "print(negative_len)"
   ],
   "metadata": {
    "collapsed": false,
    "ExecuteTime": {
     "end_time": "2023-11-17T14:17:24.614385Z",
     "start_time": "2023-11-17T14:17:24.594844Z"
    }
   },
   "id": "2d244f14a92f889d"
  },
  {
   "cell_type": "code",
   "execution_count": 14,
   "outputs": [],
   "source": [
    "# define train, test data\n",
    "X_train = df_train['tokenized'].values\n",
    "y_train = df_train['label'].values\n",
    "X_test = df_test['tokenized'].values\n",
    "y_test = df_test['label'].values"
   ],
   "metadata": {
    "collapsed": false,
    "ExecuteTime": {
     "end_time": "2023-11-17T14:18:02.563038Z",
     "start_time": "2023-11-17T14:18:02.554366Z"
    }
   },
   "id": "e1e0fdd4e4215dea"
  },
  {
   "cell_type": "code",
   "execution_count": 16,
   "outputs": [
    {
     "name": "stdout",
     "output_type": "stream",
     "text": [
      "단어 집합(vocabulary)의 크기 : 72128\n",
      "등장 빈도가 1번 이하인 희귀 단어의 수: 39225\n",
      "단어 집합에서 희귀 단어의 비율: 54.3824866903283\n",
      "전체 등장 빈도에서 희귀 단어 등장 빈도 비율: 3.678987797672085\n"
     ]
    }
   ],
   "source": [
    "tokenizer = Tokenizer()\n",
    "tokenizer.fit_on_texts(X_train)\n",
    "\n",
    "threshold = 2\n",
    "\n",
    "rare_word_cnt = 0\n",
    "rare_word_freq = 0\n",
    "total_word_cnt = len(tokenizer.word_index)\n",
    "total_word_freq = 0\n",
    "\n",
    "for word, count in tokenizer.word_counts.items(): # (word, word_count)\n",
    "    total_word_freq += count\n",
    "    if count < threshold:\n",
    "        rare_word_cnt += 1\n",
    "        rare_word_freq += count\n",
    "        \n",
    "print('단어 집합(vocabulary)의 크기 :', total_word_cnt)\n",
    "print('등장 빈도가 %s번 이하인 희귀 단어의 수: %s'%(threshold - 1, rare_word_cnt))\n",
    "print(\"단어 집합에서 희귀 단어의 비율:\", (rare_word_cnt / total_word_cnt)*100)\n",
    "print(\"전체 등장 빈도에서 희귀 단어 등장 빈도 비율:\", (rare_word_freq / total_word_freq)*100)"
   ],
   "metadata": {
    "collapsed": false,
    "ExecuteTime": {
     "end_time": "2023-11-17T14:18:27.961513Z",
     "start_time": "2023-11-17T14:18:27.443598Z"
    }
   },
   "id": "dfc5a38bc2bac87b"
  },
  {
   "cell_type": "code",
   "execution_count": 17,
   "outputs": [
    {
     "name": "stdout",
     "output_type": "stream",
     "text": [
      "[[195, 39, 448, 1817, 285, 4863, 129, 3966, 993, 28, 897], [1022, 443, 1283, 7087, 5149, 28, 1644, 2801, 1, 4265, 1035, 72, 143, 418, 556, 443, 1283, 7087], [34, 3339, 93, 318, 2, 4, 9, 1267, 259, 2, 48, 1253, 1267, 259, 2, 24, 837, 28, 303, 1]]\n",
      "[[10585, 182, 126, 107, 452, 4100, 356, 2724, 6392, 1565, 469, 199, 473, 3, 405, 50, 1, 107, 437, 2024, 1565, 469, 2, 379], [2354, 1558, 67, 1215, 1109, 909, 470, 507, 98, 94, 113, 1483, 2, 24, 28, 837, 3548, 12, 137, 2268, 11, 3, 9679, 91, 94, 9, 10445, 649, 577, 4277, 10, 71, 26, 494, 3725, 3271, 137, 633, 775, 15393, 19, 10, 844], [714, 5201, 2042, 469, 15049, 1027, 39, 469, 15049, 1027, 673, 324, 63, 707, 465, 36, 231, 360, 109, 6420, 889, 3363, 10221, 80, 9520, 4547, 78]]\n"
     ]
    }
   ],
   "source": [
    "vocab_size = total_word_cnt - rare_word_cnt + 2\n",
    "\n",
    "tokenizer = Tokenizer(num_words=vocab_size, oov_token='OOV') # OOV: Out Of Vocabulary if word is not in vocab_size\n",
    "tokenizer.fit_on_texts(X_train) # word -> index\n",
    "X_train_seq = tokenizer.texts_to_sequences(X_train) # sentence -> word index\n",
    "X_test_seq = tokenizer.texts_to_sequences(X_test)\n",
    "\n",
    "print(X_train_seq[:3])\n",
    "print(X_test_seq[:3])"
   ],
   "metadata": {
    "collapsed": false,
    "ExecuteTime": {
     "end_time": "2023-11-17T14:18:30.921477Z",
     "start_time": "2023-11-17T14:18:30.160357Z"
    }
   },
   "id": "b7d64ea810a3b1df"
  },
  {
   "cell_type": "code",
   "execution_count": 18,
   "outputs": [
    {
     "name": "stdout",
     "output_type": "stream",
     "text": [
      "리뷰의 최대 길이 : 59\n",
      "리뷰의 평균 길이 : 13.341884299175353\n"
     ]
    }
   ],
   "source": [
    "max_len_review = max(len(sentence) for sentence in X_train_seq)\n",
    "avg_len_review = sum(map(len, X_train_seq)) / len(X_train_seq)\n",
    "\n",
    "print('리뷰의 최대 길이 : {}'.format(max_len_review))\n",
    "print('리뷰의 평균 길이 : {}'.format(avg_len_review))"
   ],
   "metadata": {
    "collapsed": false,
    "ExecuteTime": {
     "end_time": "2023-11-17T14:18:37.304831Z",
     "start_time": "2023-11-17T14:18:37.302318Z"
    }
   },
   "id": "59ca62696d128520"
  },
  {
   "cell_type": "code",
   "execution_count": 19,
   "outputs": [
    {
     "name": "stdout",
     "output_type": "stream",
     "text": [
      "전체 샘플 중 길이가 42 이하인 샘플의 비율: 99.4994556580281\n"
     ]
    }
   ],
   "source": [
    "def below_threshold_len(max_len, nested_list):\n",
    "    count = 0\n",
    "    for sentence in nested_list:\n",
    "        if(len(sentence) <= max_len):\n",
    "            count = count + 1\n",
    "    print('전체 샘플 중 길이가 %s 이하인 샘플의 비율: %s'%(max_len, (count / len(nested_list))*100))\n",
    "\n",
    "below_threshold_len(42, X_train_seq)\n",
    "max_len = 42"
   ],
   "metadata": {
    "collapsed": false,
    "ExecuteTime": {
     "end_time": "2023-11-17T14:18:38.828619Z",
     "start_time": "2023-11-17T14:18:38.825174Z"
    }
   },
   "id": "7ba2214af5302910"
  },
  {
   "cell_type": "code",
   "execution_count": 20,
   "outputs": [],
   "source": [
    "X_train_seq_pad = pad_sequences(X_train_seq, maxlen=max_len)\n",
    "X_test_seq_pad = pad_sequences(X_test_seq, maxlen=max_len)"
   ],
   "metadata": {
    "collapsed": false,
    "ExecuteTime": {
     "end_time": "2023-11-17T14:18:41.411233Z",
     "start_time": "2023-11-17T14:18:41.301741Z"
    }
   },
   "id": "7de7bffac4f5b037"
  },
  {
   "cell_type": "markdown",
   "source": [
    "# Modeling"
   ],
   "metadata": {
    "collapsed": false
   },
   "id": "6688440b24d884e4"
  },
  {
   "cell_type": "code",
   "execution_count": 21,
   "outputs": [],
   "source": [
    "import re\n",
    "\n",
    "from keras.layers import Embedding, Dense, LSTM, Bidirectional\n",
    "from keras.models import Sequential\n",
    "from keras.models import load_model\n",
    "from keras.callbacks import EarlyStopping, ModelCheckpoint"
   ],
   "metadata": {
    "collapsed": false,
    "ExecuteTime": {
     "end_time": "2023-11-17T14:18:43.371820Z",
     "start_time": "2023-11-17T14:18:43.370003Z"
    }
   },
   "id": "234a296230457790"
  },
  {
   "cell_type": "code",
   "execution_count": 23,
   "outputs": [
    {
     "name": "stdout",
     "output_type": "stream",
     "text": [
      "Model: \"sequential\"\n",
      "_________________________________________________________________\n",
      " Layer (type)                Output Shape              Param #   \n",
      "=================================================================\n",
      " embedding (Embedding)       (None, None, 100)         3290500   \n",
      "                                                                 \n",
      " bidirectional (Bidirection  (None, 256)               234496    \n",
      " al)                                                             \n",
      "                                                                 \n",
      " dense (Dense)               (None, 1)                 257       \n",
      "                                                                 \n",
      "=================================================================\n",
      "Total params: 3525253 (13.45 MB)\n",
      "Trainable params: 3525253 (13.45 MB)\n",
      "Non-trainable params: 0 (0.00 Byte)\n",
      "_________________________________________________________________\n"
     ]
    }
   ],
   "source": [
    "embedding_dims = 100\n",
    "hidden_units = 128\n",
    "\n",
    "model = Sequential()\n",
    "model.add(Embedding(input_dim=vocab_size, output_dim=embedding_dims))\n",
    "model.add(Bidirectional(LSTM(hidden_units))) # using Bi-LSTM\n",
    "model.add(Dense(1, activation='sigmoid'))\n",
    "model.summary()"
   ],
   "metadata": {
    "collapsed": false,
    "ExecuteTime": {
     "end_time": "2023-11-17T14:21:44.842626Z",
     "start_time": "2023-11-17T14:21:44.093315Z"
    }
   },
   "id": "7a80bcb0e6d9c7b7"
  },
  {
   "cell_type": "code",
   "execution_count": 24,
   "outputs": [
    {
     "name": "stdout",
     "output_type": "stream",
     "text": [
      "Epoch 1/15\n",
      "250/250 [==============================] - ETA: 0s - loss: 0.5213 - acc: 0.7413\n",
      "Epoch 1: val_acc improved from -inf to 0.78177, saving model to ../model/steam_best_model.h5\n",
      "250/250 [==============================] - 36s 138ms/step - loss: 0.5213 - acc: 0.7413 - val_loss: 0.4633 - val_acc: 0.7818\n",
      "Epoch 2/15\n",
      "  1/250 [..............................] - ETA: 27s - loss: 0.4112 - acc: 0.8086"
     ]
    },
    {
     "name": "stderr",
     "output_type": "stream",
     "text": [
      "/Users/godpeny/Code/venv/laboratory/lib/python3.11/site-packages/keras/src/engine/training.py:3079: UserWarning: You are saving your model as an HDF5 file via `model.save()`. This file format is considered legacy. We recommend using instead the native Keras format, e.g. `model.save('my_model.keras')`.\n",
      "  saving_api.save_model(\n"
     ]
    },
    {
     "name": "stdout",
     "output_type": "stream",
     "text": [
      "250/250 [==============================] - ETA: 0s - loss: 0.4087 - acc: 0.8180\n",
      "Epoch 2: val_acc improved from 0.78177 to 0.78227, saving model to ../model/steam_best_model.h5\n",
      "250/250 [==============================] - 36s 145ms/step - loss: 0.4087 - acc: 0.8180 - val_loss: 0.4615 - val_acc: 0.7823\n",
      "Epoch 3/15\n",
      "250/250 [==============================] - ETA: 0s - loss: 0.3724 - acc: 0.8377\n",
      "Epoch 3: val_acc improved from 0.78227 to 0.78552, saving model to ../model/steam_best_model.h5\n",
      "250/250 [==============================] - 38s 154ms/step - loss: 0.3724 - acc: 0.8377 - val_loss: 0.4673 - val_acc: 0.7855\n",
      "Epoch 4/15\n",
      "250/250 [==============================] - ETA: 0s - loss: 0.3439 - acc: 0.8534\n",
      "Epoch 4: val_acc did not improve from 0.78552\n",
      "250/250 [==============================] - 38s 152ms/step - loss: 0.3439 - acc: 0.8534 - val_loss: 0.4661 - val_acc: 0.7840\n",
      "Epoch 5/15\n",
      "250/250 [==============================] - ETA: 0s - loss: 0.3163 - acc: 0.8666\n",
      "Epoch 5: val_acc did not improve from 0.78552\n",
      "250/250 [==============================] - 37s 148ms/step - loss: 0.3163 - acc: 0.8666 - val_loss: 0.4922 - val_acc: 0.7791\n",
      "Epoch 6/15\n",
      "250/250 [==============================] - ETA: 0s - loss: 0.2889 - acc: 0.8800\n",
      "Epoch 6: val_acc did not improve from 0.78552\n",
      "250/250 [==============================] - 36s 145ms/step - loss: 0.2889 - acc: 0.8800 - val_loss: 0.5125 - val_acc: 0.7762\n",
      "Epoch 6: early stopping\n"
     ]
    }
   ],
   "source": [
    "model_path = '../model/'\n",
    "\n",
    "es = EarlyStopping(monitor='val_loss', mode='min', verbose=1, patience=4)\n",
    "mc = ModelCheckpoint(filepath=model_path + 'steam_best_model.h5', monitor='val_acc', mode='max', verbose=1, save_best_only=True)\n",
    "model.compile(optimizer='rmsprop', loss='binary_crossentropy', metrics=['acc'])\n",
    "history = model.fit(X_train_seq_pad, y_train, epochs=15, callbacks=[es, mc], batch_size=256, validation_split=0.2)"
   ],
   "metadata": {
    "collapsed": false,
    "ExecuteTime": {
     "end_time": "2023-11-17T14:27:00.941454Z",
     "start_time": "2023-11-17T14:23:19.077676Z"
    }
   },
   "id": "78e5ca2383761fd1"
  },
  {
   "cell_type": "code",
   "execution_count": 25,
   "outputs": [
    {
     "name": "stdout",
     "output_type": "stream",
     "text": [
      "625/625 [==============================] - 10s 16ms/step - loss: 0.4692 - acc: 0.7876\n",
      "\n",
      " 테스트 정확도: 0.7876\n"
     ]
    }
   ],
   "source": [
    "loaded_model = load_model(model_path + 'steam_best_model.h5')\n",
    "print(\"\\n 테스트 정확도: %.4f\" % (loaded_model.evaluate(X_test_seq_pad, y_test)[1]))"
   ],
   "metadata": {
    "collapsed": false,
    "ExecuteTime": {
     "end_time": "2023-11-17T14:28:22.757400Z",
     "start_time": "2023-11-17T14:28:11.928353Z"
    }
   },
   "id": "20a308343ab1f105"
  },
  {
   "cell_type": "markdown",
   "source": [
    "# Inferencing"
   ],
   "metadata": {
    "collapsed": false
   },
   "id": "30ce1251b9f7b507"
  },
  {
   "cell_type": "code",
   "execution_count": 26,
   "outputs": [],
   "source": [
    "def predict(new_sentence):\n",
    "    new_sentence = okt.morphs(new_sentence) # tokenize\n",
    "    new_sentence = [word for word in new_sentence if not word in stopwords] # remove stopwords\n",
    "    encoded = tokenizer.texts_to_sequences([new_sentence]) # encoding\n",
    "    pad_new = pad_sequences(encoded, maxlen=max_len) # padding\n",
    "    score = float(loaded_model.predict(pad_new)) # predict\n",
    "    if(score > 0.5):\n",
    "        print(\"{:.2f}% 확률로 긍정 리뷰입니다.\\n\".format(score * 100))\n",
    "    else:\n",
    "        print(\"{:.2f}% 확률로 부정 리뷰입니다.\\n\".format((1 - score) * 100))"
   ],
   "metadata": {
    "collapsed": false,
    "ExecuteTime": {
     "end_time": "2023-11-17T14:28:59.158590Z",
     "start_time": "2023-11-17T14:28:59.130014Z"
    }
   },
   "id": "5d09ea2912fc1373"
  },
  {
   "cell_type": "code",
   "execution_count": 27,
   "outputs": [
    {
     "name": "stdout",
     "output_type": "stream",
     "text": [
      "1/1 [==============================] - 0s 250ms/step\n",
      "96.29% 확률로 긍정 리뷰입니다.\n"
     ]
    },
    {
     "name": "stderr",
     "output_type": "stream",
     "text": [
      "/var/folders/76/r353dd3n1cb9npy26cwjvyz00000gn/T/ipykernel_2209/921745657.py:6: DeprecationWarning: Conversion of an array with ndim > 0 to a scalar is deprecated, and will error in future. Ensure you extract a single element from your array before performing this operation. (Deprecated NumPy 1.25.)\n",
      "  score = float(loaded_model.predict(pad_new)) # predict\n"
     ]
    }
   ],
   "source": [
    "predict(\"이 게임은 너무 재밌다. 그래픽도 좋고, 스토리도 좋다. 다만, 가격이 조금 비싸다.\")"
   ],
   "metadata": {
    "collapsed": false,
    "ExecuteTime": {
     "end_time": "2023-11-17T14:29:03.138601Z",
     "start_time": "2023-11-17T14:29:02.826445Z"
    }
   },
   "id": "83646cf2c4e8ff61"
  },
  {
   "cell_type": "code",
   "execution_count": 28,
   "outputs": [
    {
     "name": "stdout",
     "output_type": "stream",
     "text": [
      "1/1 [==============================] - 0s 13ms/step\n",
      "79.52% 확률로 부정 리뷰입니다.\n"
     ]
    },
    {
     "name": "stderr",
     "output_type": "stream",
     "text": [
      "/var/folders/76/r353dd3n1cb9npy26cwjvyz00000gn/T/ipykernel_2209/921745657.py:6: DeprecationWarning: Conversion of an array with ndim > 0 to a scalar is deprecated, and will error in future. Ensure you extract a single element from your array before performing this operation. (Deprecated NumPy 1.25.)\n",
      "  score = float(loaded_model.predict(pad_new)) # predict\n"
     ]
    }
   ],
   "source": [
    "predict(\"너무 구리다.\")"
   ],
   "metadata": {
    "collapsed": false,
    "ExecuteTime": {
     "end_time": "2023-11-17T14:29:11.390477Z",
     "start_time": "2023-11-17T14:29:11.334419Z"
    }
   },
   "id": "77ed2f5ab07ff0ca"
  },
  {
   "cell_type": "code",
   "execution_count": null,
   "outputs": [],
   "source": [],
   "metadata": {
    "collapsed": false
   },
   "id": "cd6334b627bc9678"
  }
 ],
 "metadata": {
  "kernelspec": {
   "display_name": "Python 3",
   "language": "python",
   "name": "python3"
  },
  "language_info": {
   "codemirror_mode": {
    "name": "ipython",
    "version": 2
   },
   "file_extension": ".py",
   "mimetype": "text/x-python",
   "name": "python",
   "nbconvert_exporter": "python",
   "pygments_lexer": "ipython2",
   "version": "2.7.6"
  }
 },
 "nbformat": 4,
 "nbformat_minor": 5
}
