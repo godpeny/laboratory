{
 "cells": [
  {
   "cell_type": "code",
   "execution_count": 1,
   "id": "initial_id",
   "metadata": {
    "collapsed": true,
    "ExecuteTime": {
     "end_time": "2023-12-29T00:30:06.213515Z",
     "start_time": "2023-12-29T00:30:06.142957Z"
    }
   },
   "outputs": [],
   "source": [
    "import numpy as np"
   ]
  },
  {
   "cell_type": "markdown",
   "source": [
    "# Full Singular Value Decomposition(SVD)"
   ],
   "metadata": {
    "collapsed": false
   },
   "id": "78856d0b1953aab2"
  },
  {
   "cell_type": "code",
   "execution_count": 2,
   "outputs": [
    {
     "name": "stdout",
     "output_type": "stream",
     "text": [
      "(4, 9)\n"
     ]
    }
   ],
   "source": [
    "arr = np.array([\n",
    "    [0,0,0,1,0,1,1,0,0],\n",
    "    [0,0,0,1,1,0,1,0,0],\n",
    "    [0,1,1,0,2,0,0,0,0],\n",
    "    [1,0,0,0,0,0,0,1,1]])\n",
    "\n",
    "print(arr.shape)"
   ],
   "metadata": {
    "collapsed": false,
    "ExecuteTime": {
     "end_time": "2023-12-29T00:30:06.233549Z",
     "start_time": "2023-12-29T00:30:06.226700Z"
    }
   },
   "id": "b448022c016f2c4f"
  },
  {
   "cell_type": "code",
   "execution_count": 3,
   "outputs": [
    {
     "name": "stdout",
     "output_type": "stream",
     "text": [
      "(4, 4)\n",
      "(4,)\n",
      "(9, 9)\n"
     ]
    }
   ],
   "source": [
    "# U=4x4, d=4x9, Vt=9x9\n",
    "U, d, Vt = np.linalg.svd(arr, full_matrices=True) \n",
    "\n",
    "print(U.shape)\n",
    "print(d.shape)\n",
    "print(Vt.shape)"
   ],
   "metadata": {
    "collapsed": false,
    "ExecuteTime": {
     "end_time": "2023-12-29T00:30:06.275981Z",
     "start_time": "2023-12-29T00:30:06.234079Z"
    }
   },
   "id": "4157aceb6880dcf3"
  },
  {
   "cell_type": "code",
   "execution_count": 4,
   "outputs": [
    {
     "name": "stdout",
     "output_type": "stream",
     "text": [
      "[2.68731789 2.04508425 1.73205081 0.77197992]\n",
      "[[2.68731789 0.         0.         0.         0.         0.\n",
      "  0.         0.         0.        ]\n",
      " [0.         2.04508425 0.         0.         0.         0.\n",
      "  0.         0.         0.        ]\n",
      " [0.         0.         1.73205081 0.         0.         0.\n",
      "  0.         0.         0.        ]\n",
      " [0.         0.         0.         0.77197992 0.         0.\n",
      "  0.         0.         0.        ]]\n"
     ]
    }
   ],
   "source": [
    "print(d) # [a,b,c,d]\n",
    "\n",
    "_d = np.zeros((4,9))\n",
    "_d[:4,:4] = np.diag(d)\n",
    "print(_d)\n",
    "\n",
    "d = _d"
   ],
   "metadata": {
    "collapsed": false,
    "ExecuteTime": {
     "end_time": "2023-12-29T00:30:06.284038Z",
     "start_time": "2023-12-29T00:30:06.239439Z"
    }
   },
   "id": "f9619db1c7a01b01"
  },
  {
   "cell_type": "code",
   "execution_count": 11,
   "outputs": [
    {
     "name": "stdout",
     "output_type": "stream",
     "text": [
      "[[-2.39751712e-01  7.51083898e-01  9.90665210e-17 -6.15135834e-01]\n",
      " [-5.06077194e-01  4.44029376e-01 -1.48599782e-16  7.39407727e-01]\n",
      " [-8.28495619e-01 -4.88580485e-01 -4.39152715e-17 -2.73649629e-01]\n",
      " [-8.78352025e-17 -2.98807451e-17  1.00000000e+00  1.58797796e-16]]\n",
      "[[2.68731789 0.         0.         0.         0.         0.\n",
      "  0.         0.         0.        ]\n",
      " [0.         2.04508425 0.         0.         0.         0.\n",
      "  0.         0.         0.        ]\n",
      " [0.         0.         1.73205081 0.         0.         0.\n",
      "  0.         0.         0.        ]\n",
      " [0.         0.         0.         0.77197992 0.         0.\n",
      "  0.         0.         0.        ]]\n",
      "[[-1.26987588e-16 -3.08298331e-01 -3.08298331e-01 -2.77536539e-01\n",
      "  -8.04917216e-01 -8.92159849e-02 -2.77536539e-01 -5.17165587e-17\n",
      "  -5.17165587e-17]\n",
      " [ 2.33985050e-17 -2.38904821e-01 -2.38904821e-01  5.84383395e-01\n",
      "  -2.60689306e-01  3.67263060e-01  5.84383395e-01 -4.00759068e-17\n",
      "  -4.00759068e-17]\n",
      " [ 5.77350269e-01 -3.27798955e-17  4.45404999e-17  1.40359371e-16\n",
      "  -1.41641982e-16  1.54532077e-16 -8.16852336e-17  5.77350269e-01\n",
      "   5.77350269e-01]\n",
      " [ 2.47977116e-16 -3.54477649e-01 -3.54477649e-01  1.60978141e-01\n",
      "   2.48851639e-01 -7.96828796e-01  1.60978141e-01 -5.94630665e-17\n",
      "  -5.94630665e-17]\n",
      " [-1.07632684e-16 -7.79217669e-01 -1.33887309e-02 -1.98151600e-01\n",
      "   3.96303200e-01  3.96303200e-01 -1.98151600e-01  4.99257920e-17\n",
      "   4.99257920e-17]\n",
      " [-2.88675135e-01  3.11555335e-01 -7.80527867e-01 -2.42243133e-01\n",
      "   2.34486266e-01  2.34486266e-01  7.75686693e-03  1.44337567e-01\n",
      "   1.44337567e-01]\n",
      " [-2.88675135e-01 -1.03851778e-01  2.60175956e-01 -5.85918956e-01\n",
      "  -7.81620887e-02 -7.81620887e-02  6.64081044e-01  1.44337567e-01\n",
      "   1.44337567e-01]\n",
      " [-5.00000000e-01 -5.99588521e-02  1.50212658e-01  2.39069802e-01\n",
      "  -4.51269030e-02 -4.51269030e-02 -1.93942899e-01  7.50000000e-01\n",
      "  -2.50000000e-01]\n",
      " [-5.00000000e-01 -5.99588521e-02  1.50212658e-01  2.39069802e-01\n",
      "  -4.51269030e-02 -4.51269030e-02 -1.93942899e-01 -2.50000000e-01\n",
      "   7.50000000e-01]]\n",
      "(4, 4) (4, 9) (9, 9)\n"
     ]
    }
   ],
   "source": [
    "print(U)\n",
    "print(d)\n",
    "print(Vt)\n",
    "\n",
    "print(U.shape, d.shape, Vt.shape)"
   ],
   "metadata": {
    "collapsed": false,
    "ExecuteTime": {
     "end_time": "2023-12-29T00:38:17.931460Z",
     "start_time": "2023-12-29T00:38:17.926304Z"
    }
   },
   "id": "3e9f51c8b5a989fe"
  },
  {
   "cell_type": "code",
   "execution_count": 20,
   "outputs": [
    {
     "name": "stdout",
     "output_type": "stream",
     "text": [
      "[[ 0. -0. -0.  1. -0.  1.  1.  0.  0.]\n",
      " [ 0.  0.  0.  1.  1. -0.  1. -0. -0.]\n",
      " [ 0.  1.  1. -0.  2. -0. -0.  0.  0.]\n",
      " [ 1. -0.  0.  0. -0.  0. -0.  1.  1.]]\n",
      "True\n"
     ]
    }
   ],
   "source": [
    "_arr = U@(d@Vt)\n",
    "print(_arr.round(2))\n",
    "\n",
    "print(np.allclose(arr, _arr)) # see if two arrays are equal."
   ],
   "metadata": {
    "collapsed": false,
    "ExecuteTime": {
     "end_time": "2023-12-29T00:44:54.475880Z",
     "start_time": "2023-12-29T00:44:54.468635Z"
    }
   },
   "id": "d0365fe7d441ab80"
  },
  {
   "cell_type": "markdown",
   "source": [
    "### np.allclose\n",
    " - returns True if two arrays are element-wise equal within a tolerance.\n",
    "\n",
    "### np.dot\n",
    " - dot product of two arrays.\n",
    " - if both `a` and `b` are 1-D arrays, it is inner product of vectors(without complex conjugation).\n",
    " - if both `a` and `b` are 2-D arrays, it is matrix multiplication, but using :func:`matmul` or ``a @ b`` is preferred."
   ],
   "metadata": {
    "collapsed": false
   },
   "id": "d77f509c0b222649"
  },
  {
   "cell_type": "markdown",
   "source": [
    "# Truncated Singular Value Decomposition(Truncated SVD)"
   ],
   "metadata": {
    "collapsed": false
   },
   "id": "70ca48c8e5c2a95b"
  },
  {
   "cell_type": "code",
   "execution_count": 8,
   "outputs": [],
   "source": [
    "t=2 # truncate to 2 units = # of topics"
   ],
   "metadata": {
    "collapsed": false,
    "ExecuteTime": {
     "end_time": "2023-12-29T00:37:05.754791Z",
     "start_time": "2023-12-29T00:37:05.750443Z"
    }
   },
   "id": "cc1a4b3d22cdef24"
  },
  {
   "cell_type": "code",
   "execution_count": 14,
   "outputs": [
    {
     "name": "stdout",
     "output_type": "stream",
     "text": [
      "(4, 2)\n",
      "(2, 2)\n",
      "(2, 9)\n"
     ]
    }
   ],
   "source": [
    "U_t = U[:,:t] # 4*4 -> 4*2\n",
    "print(U_t.shape)\n",
    "\n",
    "d_t = d[:t,:t] # 4*9 -> 2*2\n",
    "print(d_t.shape)\n",
    "\n",
    "Vt_t = Vt[:t,:] # 9*9 -> 2*9\n",
    "print(Vt_t.shape)"
   ],
   "metadata": {
    "collapsed": false,
    "ExecuteTime": {
     "end_time": "2023-12-29T00:42:06.962742Z",
     "start_time": "2023-12-29T00:42:06.958102Z"
    }
   },
   "id": "21b33e8b740f854d"
  },
  {
   "cell_type": "code",
   "execution_count": 17,
   "outputs": [
    {
     "name": "stdout",
     "output_type": "stream",
     "text": [
      "[[ 0.   -0.17 -0.17  1.08  0.12  0.62  1.08 -0.   -0.  ]\n",
      " [ 0.    0.2   0.2   0.91  0.86  0.45  0.91  0.    0.  ]\n",
      " [ 0.    0.93  0.93  0.03  2.05 -0.17  0.03  0.    0.  ]\n",
      " [ 0.    0.    0.    0.    0.   -0.    0.    0.    0.  ]]\n",
      "(4, 9)\n"
     ]
    }
   ],
   "source": [
    "_U_t = U_t@(d_t@Vt_t)\n",
    "print(_U_t.round(2))\n",
    "\n",
    "print(_U_t.shape)"
   ],
   "metadata": {
    "collapsed": false,
    "ExecuteTime": {
     "end_time": "2023-12-29T00:44:23.627033Z",
     "start_time": "2023-12-29T00:44:23.618438Z"
    }
   },
   "id": "9b0bbc7294c683cb"
  }
 ],
 "metadata": {
  "kernelspec": {
   "display_name": "Python 3",
   "language": "python",
   "name": "python3"
  },
  "language_info": {
   "codemirror_mode": {
    "name": "ipython",
    "version": 2
   },
   "file_extension": ".py",
   "mimetype": "text/x-python",
   "name": "python",
   "nbconvert_exporter": "python",
   "pygments_lexer": "ipython2",
   "version": "2.7.6"
  }
 },
 "nbformat": 4,
 "nbformat_minor": 5
}
