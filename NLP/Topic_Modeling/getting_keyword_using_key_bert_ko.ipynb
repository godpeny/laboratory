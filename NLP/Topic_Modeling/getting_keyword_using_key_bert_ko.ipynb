{
 "cells": [
  {
   "cell_type": "code",
   "execution_count": 1,
   "id": "initial_id",
   "metadata": {
    "collapsed": true,
    "ExecuteTime": {
     "end_time": "2023-12-31T06:10:01.988634Z",
     "start_time": "2023-12-31T06:10:00.095593Z"
    }
   },
   "outputs": [],
   "source": [
    "`import numpy as np\n",
    "import itertools\n",
    "\n",
    "from konlpy.tag import Okt\n",
    "from sklearn.feature_extraction.text import CountVectorizer\n",
    "from sklearn.metrics.pairwise import cosine_similarity\n",
    "from sentence_transformers import SentenceTransformer"
   ]
  },
  {
   "cell_type": "code",
   "execution_count": 6,
   "outputs": [],
   "source": [
    "doc = \"\"\"\n",
    "         드론 활용 범위도 점차 확대되고 있다. 최근에는 미세먼지 관리에 드론이 활용되고 있다.\n",
    "         서울시는 '미세먼지 계절관리제' 기간인 지난달부터 오는 3월까지 4개월간 드론에 측정장치를 달아 미세먼지 집중 관리를 실시하고 있다.\n",
    "         드론은 산업단지와 사업장 밀집지역을 날아다니며 미세먼지 배출 수치를 점검하고, 현장 모습을 영상으로 담는다.\n",
    "         영상을 통해 미세먼지 방지 시설을 제대로 가동하지 않는 업체와 무허가 시설에 대한 단속이 한층 수월해질 전망이다.\n",
    "         드론 활용에 가장 적극적인 소방청은 광범위하고 복합적인 재난 대응 차원에서 드론과 관련 전문인력 보강을 꾸준히 이어가고 있다.\n",
    "         지난해 말 기준 소방청이 보유한 드론은 총 304대, 드론 조종 자격증을 갖춘 소방대원의 경우 1,860명이다.\n",
    "         이 중 실기평가지도 자격증까지 갖춘 ‘드론 전문가’ 21명도 배치돼 있다.\n",
    "         소방청 관계자는 \"소방드론은 재난현장에서 영상정보를 수집, 산악ㆍ수난 사고 시 인명수색·구조활동,\n",
    "         유독가스·폭발사고 시 대원안전 확보 등에 활용된다\"며\n",
    "         \"향후 화재진압, 인명구조 등에도 드론을 활용하기 위해 연구개발(R&D)을 하고 있다\"고 말했다.\n",
    "      \"\"\""
   ],
   "metadata": {
    "collapsed": false,
    "ExecuteTime": {
     "end_time": "2023-12-31T06:13:16.786179Z",
     "start_time": "2023-12-31T06:13:16.776937Z"
    }
   },
   "id": "dd8a6a8408046364"
  },
  {
   "cell_type": "code",
   "execution_count": 9,
   "outputs": [
    {
     "name": "stdout",
     "output_type": "stream",
     "text": [
      "[('\\n         ', 'Foreign'), ('드론', 'Noun'), ('활용', 'Noun'), ('범위', 'Noun'), ('도', 'Josa'), ('점차', 'Noun'), ('확대', 'Noun'), ('되고', 'Verb'), ('있다', 'Adjective'), ('.', 'Punctuation'), ('최근', 'Noun'), ('에는', 'Josa'), ('미세먼지', 'Noun'), ('관리', 'Noun'), ('에', 'Josa'), ('드론', 'Noun'), ('이', 'Josa'), ('활용', 'Noun'), ('되고', 'Verb'), ('있다', 'Adjective'), ('.', 'Punctuation'), ('\\n         ', 'Foreign'), ('서울시', 'Noun'), ('는', 'Josa'), (\"'\", 'Punctuation'), ('미세먼지', 'Noun'), ('계절', 'Noun'), ('관리제', 'Noun'), (\"'\", 'Punctuation'), ('기간', 'Noun'), ('인', 'Josa'), ('지난달', 'Noun'), ('부터', 'Josa'), ('오는', 'Verb'), ('3월', 'Number'), ('까지', 'Foreign'), ('4', 'Number'), ('개', 'Noun'), ('월간', 'Noun'), ('드론', 'Noun'), ('에', 'Josa'), ('측정', 'Noun'), ('장치', 'Noun'), ('를', 'Josa'), ('달', 'Noun'), ('아', 'Josa'), ('미세먼지', 'Noun'), ('집중', 'Noun'), ('관리', 'Noun'), ('를', 'Josa'), ('실시', 'Noun'), ('하고', 'Josa'), ('있다', 'Adjective'), ('.', 'Punctuation'), ('\\n         ', 'Foreign'), ('드론', 'Noun'), ('은', 'Josa'), ('산업', 'Noun'), ('단지', 'Noun'), ('와', 'Josa'), ('사업', 'Noun'), ('장', 'Suffix'), ('밀집', 'Noun'), ('지역', 'Noun'), ('을', 'Josa'), ('날아다니며', 'Verb'), ('미세먼지', 'Noun'), ('배출', 'Noun'), ('수치', 'Noun'), ('를', 'Josa'), ('점검', 'Noun'), ('하고', 'Josa'), (',', 'Punctuation'), ('현장', 'Noun'), ('모습', 'Noun'), ('을', 'Josa'), ('영상', 'Noun'), ('으로', 'Josa'), ('담는다', 'Verb'), ('.', 'Punctuation'), ('\\n         ', 'Foreign'), ('영상', 'Noun'), ('을', 'Josa'), ('통해', 'Noun'), ('미세먼지', 'Noun'), ('방지', 'Noun'), ('시설', 'Noun'), ('을', 'Josa'), ('제대로', 'Noun'), ('가동', 'Noun'), ('하지', 'Verb'), ('않는', 'Verb'), ('업체', 'Noun'), ('와', 'Josa'), ('무허가', 'Noun'), ('시설', 'Noun'), ('에', 'Josa'), ('대한', 'Noun'), ('단속', 'Noun'), ('이', 'Josa'), ('한층', 'Noun'), ('수월해질', 'Adjective'), ('전망', 'Noun'), ('이다', 'Josa'), ('.', 'Punctuation'), ('\\n         ', 'Foreign'), ('드론', 'Noun'), ('활용', 'Noun'), ('에', 'Josa'), ('가장', 'Noun'), ('적극', 'Noun'), ('적', 'Suffix'), ('인', 'Josa'), ('소방청', 'Noun'), ('은', 'Josa'), ('광범위하고', 'Adjective'), ('복합', 'Noun'), ('적', 'Suffix'), ('인', 'Josa'), ('재난', 'Noun'), ('대응', 'Noun'), ('차원', 'Noun'), ('에서', 'Josa'), ('드론', 'Noun'), ('과', 'Josa'), ('관련', 'Noun'), ('전문', 'Noun'), ('인력', 'Noun'), ('보강', 'Noun'), ('을', 'Josa'), ('꾸준히', 'Adjective'), ('이', 'Determiner'), ('어가', 'Noun'), ('고', 'Josa'), ('있다', 'Adjective'), ('.', 'Punctuation'), ('\\n         ', 'Foreign'), ('지난해', 'Noun'), ('말', 'Noun'), ('기준', 'Noun'), ('소방청', 'Noun'), ('이', 'Josa'), ('보유', 'Noun'), ('한', 'Josa'), ('드론', 'Noun'), ('은', 'Josa'), ('총', 'Noun'), ('304', 'Number'), ('대', 'Verb'), (',', 'Punctuation'), ('드론', 'Noun'), ('조종', 'Noun'), ('자격증', 'Noun'), ('을', 'Josa'), ('갖춘', 'Verb'), ('소방대', 'Noun'), ('원', 'Suffix'), ('의', 'Josa'), ('경우', 'Noun'), ('1,860', 'Number'), ('명', 'Noun'), ('이다', 'Josa'), ('.', 'Punctuation'), ('\\n         ', 'Foreign'), ('이', 'Noun'), ('중', 'Noun'), ('실기', 'Noun'), ('평가', 'Noun'), ('지도', 'Noun'), ('자격증', 'Noun'), ('까지', 'Josa'), ('갖춘', 'Verb'), ('‘', 'Foreign'), ('드론', 'Noun'), ('전문가', 'Noun'), ('’', 'Punctuation'), ('21', 'Number'), ('명도', 'Noun'), ('배치', 'Noun'), ('돼', 'Verb'), ('있다', 'Adjective'), ('.', 'Punctuation'), ('\\n         ', 'Foreign'), ('소방청', 'Noun'), ('관계자', 'Noun'), ('는', 'Josa'), ('\"', 'Punctuation'), ('소방', 'Noun'), ('드론', 'Noun'), ('은', 'Josa'), ('재난', 'Noun'), ('현장', 'Noun'), ('에서', 'Josa'), ('영상', 'Noun'), ('정보', 'Noun'), ('를', 'Josa'), ('수집', 'Noun'), (',', 'Punctuation'), ('산악', 'Noun'), ('ㆍ', 'Foreign'), ('수난', 'Noun'), ('사고', 'Noun'), ('시', 'Noun'), ('인명', 'Noun'), ('수색', 'Noun'), ('·', 'Punctuation'), ('구조', 'Noun'), ('활동', 'Noun'), (',', 'Punctuation'), ('\\n         ', 'Foreign'), ('유독가스', 'Noun'), ('·', 'Punctuation'), ('폭발사고', 'Noun'), ('시', 'Noun'), ('대원', 'Noun'), ('안전', 'Noun'), ('확보', 'Noun'), ('등', 'Noun'), ('에', 'Josa'), ('활용', 'Noun'), ('된다', 'Verb'), ('\"', 'Punctuation'), ('며', 'Noun'), ('\\n         ', 'Foreign'), ('\"', 'Punctuation'), ('향후', 'Noun'), ('화재', 'Noun'), ('진압', 'Noun'), (',', 'Punctuation'), ('인명구조', 'Noun'), ('등', 'Noun'), ('에도', 'Josa'), ('드론', 'Noun'), ('을', 'Josa'), ('활용', 'Noun'), ('하기', 'Verb'), ('위해', 'Noun'), ('연구개발', 'Noun'), ('(', 'Punctuation'), ('R', 'Alpha'), ('&', 'Punctuation'), ('D', 'Alpha'), (')', 'Punctuation'), ('을', 'Josa'), ('하고', 'Verb'), ('있다', 'Adjective'), ('\"', 'Punctuation'), ('고', 'Noun'), ('말', 'Noun'), ('했다', 'Verb'), ('.', 'Punctuation'), ('\\n      ', 'Foreign')]\n",
      "드론 활용 범위 점차 확대 최근 미세먼지 관리 드론 활용 서울시 미세먼지 계절 관리제 기간 지난달 개 월간 드론 측정 장치 달 미세먼지 집중 관리 실시 드론 산업 단지 사업 밀집 지역 미세먼지 배출 수치 점검 현장 모습 영상 영상 통해 미세먼지 방지 시설 제대로 가동 업체 무허가 시설 대한 단속 한층 전망 드론 활용 가장 적극 소방청 복합 재난 대응 차원 드론 관련 전문 인력 보강 어가 지난해 말 기준 소방청 보유 드론 총 드론 조종 자격증 소방대 경우 명 이 중 실기 평가 지도 자격증 드론 전문가 명도 배치 소방청 관계자 소방 드론 재난 현장 영상 정보 수집 산악 수난 사고 시 인명 수색 구조 활동 유독가스 폭발사고 시 대원 안전 확보 등 활용 며 향후 화재 진압 인명구조 등 드론 활용 위해 연구개발 고 말\n"
     ]
    }
   ],
   "source": [
    "okt = Okt()\n",
    "\n",
    "tokenized_doc = okt.pos(doc)\n",
    "print(tokenized_doc)\n",
    "tokenized_doc = ' '.join([tuple[0] for tuple in tokenized_doc if tuple[1] == 'Noun'])\n",
    "\n",
    "print(tokenized_doc)"
   ],
   "metadata": {
    "collapsed": false,
    "ExecuteTime": {
     "end_time": "2023-12-31T06:14:31.455454Z",
     "start_time": "2023-12-31T06:14:31.426563Z"
    }
   },
   "id": "faa93429e8e5396c"
  },
  {
   "cell_type": "code",
   "execution_count": 10,
   "outputs": [
    {
     "name": "stdout",
     "output_type": "stream",
     "text": [
      "['가동 업체' '가동 업체 무허가' '가장 적극' '가장 적극 소방청' '경우 실기' '경우 실기 평가' '계절 관리제'\n",
      " '계절 관리제 기간' '관계자 소방' '관계자 소방 드론' '관련 전문' '관련 전문 인력' '관리 드론' '관리 드론 활용'\n",
      " '관리 실시' '관리 실시 드론' '관리제 기간' '관리제 기간 지난달' '구조 활동' '구조 활동 유독가스' '기간 지난달'\n",
      " '기간 지난달 월간' '기준 소방청' '기준 소방청 보유' '단속 한층' '단속 한층 전망' '단지 사업' '단지 사업 밀집'\n",
      " '대원 안전' '대원 안전 확보' '대응 차원' '대응 차원 드론' '대한 단속' '대한 단속 한층' '드론 관련'\n",
      " '드론 관련 전문' '드론 드론' '드론 드론 조종' '드론 산업' '드론 산업 단지' '드론 재난' '드론 재난 현장'\n",
      " '드론 전문가' '드론 전문가 명도' '드론 조종' '드론 조종 자격증' '드론 측정' '드론 측정 장치' '드론 활용'\n",
      " '드론 활용 가장' '드론 활용 범위' '드론 활용 서울시' '드론 활용 위해' '명도 배치' '명도 배치 소방청' '모습 영상'\n",
      " '모습 영상 영상' '무허가 시설' '무허가 시설 대한' '미세먼지 계절' '미세먼지 계절 관리제' '미세먼지 관리'\n",
      " '미세먼지 관리 드론' '미세먼지 방지' '미세먼지 방지 시설' '미세먼지 배출' '미세먼지 배출 수치' '미세먼지 집중'\n",
      " '미세먼지 집중 관리' '밀집 지역' '밀집 지역 미세먼지' '방지 시설' '방지 시설 제대로' '배출 수치' '배출 수치 점검'\n",
      " '배치 소방청' '배치 소방청 관계자' '범위 점차' '범위 점차 확대' '보강 어가' '보강 어가 지난해' '보유 드론'\n",
      " '보유 드론 드론' '복합 재난' '복합 재난 대응' '사고 인명' '사고 인명 수색' '사업 밀집' '사업 밀집 지역'\n",
      " '산악 수난' '산악 수난 사고' '산업 단지' '산업 단지 사업' '서울시 미세먼지' '서울시 미세먼지 계절' '소방 드론'\n",
      " '소방 드론 재난' '소방대 경우' '소방대 경우 실기' '소방청 관계자' '소방청 관계자 소방' '소방청 보유'\n",
      " '소방청 보유 드론' '소방청 복합' '소방청 복합 재난' '수난 사고' '수난 사고 인명' '수색 구조' '수색 구조 활동'\n",
      " '수집 산악' '수집 산악 수난' '수치 점검' '수치 점검 현장' '시설 대한' '시설 대한 단속' '시설 제대로'\n",
      " '시설 제대로 가동' '실기 평가' '실기 평가 지도' '실시 드론' '실시 드론 산업' '안전 확보' '안전 확보 활용'\n",
      " '어가 지난해' '어가 지난해 기준' '업체 무허가' '업체 무허가 시설' '영상 영상' '영상 영상 통해' '영상 정보'\n",
      " '영상 정보 수집' '영상 통해' '영상 통해 미세먼지' '월간 드론' '월간 드론 측정' '위해 연구개발' '유독가스 폭발사고'\n",
      " '유독가스 폭발사고 대원' '인력 보강' '인력 보강 어가' '인명 수색' '인명 수색 구조' '인명구조 드론'\n",
      " '인명구조 드론 활용' '자격증 드론' '자격증 드론 전문가' '자격증 소방대' '자격증 소방대 경우' '장치 미세먼지'\n",
      " '장치 미세먼지 집중' '재난 대응' '재난 대응 차원' '재난 현장' '재난 현장 영상' '적극 소방청' '적극 소방청 복합'\n",
      " '전망 드론' '전망 드론 활용' '전문 인력' '전문 인력 보강' '전문가 명도' '전문가 명도 배치' '점검 현장'\n",
      " '점검 현장 모습' '점차 확대' '점차 확대 최근' '정보 수집' '정보 수집 산악' '제대로 가동' '제대로 가동 업체'\n",
      " '조종 자격증' '조종 자격증 소방대' '지난달 월간' '지난달 월간 드론' '지난해 기준' '지난해 기준 소방청' '지도 자격증'\n",
      " '지도 자격증 드론' '지역 미세먼지' '지역 미세먼지 배출' '진압 인명구조' '진압 인명구조 드론' '집중 관리'\n",
      " '집중 관리 실시' '차원 드론' '차원 드론 관련' '최근 미세먼지' '최근 미세먼지 관리' '측정 장치' '측정 장치 미세먼지'\n",
      " '통해 미세먼지' '통해 미세먼지 방지' '평가 지도' '평가 지도 자격증' '폭발사고 대원' '폭발사고 대원 안전' '한층 전망'\n",
      " '한층 전망 드론' '향후 화재' '향후 화재 진압' '현장 모습' '현장 모습 영상' '현장 영상' '현장 영상 정보'\n",
      " '화재 진압' '화재 진압 인명구조' '확대 최근' '확대 최근 미세먼지' '확보 활용' '확보 활용 향후' '활동 유독가스'\n",
      " '활동 유독가스 폭발사고' '활용 가장' '활용 가장 적극' '활용 범위' '활용 범위 점차' '활용 서울시'\n",
      " '활용 서울시 미세먼지' '활용 위해' '활용 위해 연구개발' '활용 향후' '활용 향후 화재']\n",
      "222\n"
     ]
    }
   ],
   "source": [
    "n_gram_range = (2,3)\n",
    "\n",
    "# Extract candidate words/phrases\n",
    "cv = CountVectorizer(ngram_range=n_gram_range).fit([tokenized_doc])\n",
    "candidates = cv.get_feature_names_out()\n",
    "\n",
    "print(candidates)\n",
    "print(len(candidates))"
   ],
   "metadata": {
    "collapsed": false,
    "ExecuteTime": {
     "end_time": "2023-12-31T06:14:59.316388Z",
     "start_time": "2023-12-31T06:14:59.309626Z"
    }
   },
   "id": "1e6c20f5f7bd46de"
  },
  {
   "cell_type": "code",
   "execution_count": 15,
   "outputs": [
    {
     "name": "stdout",
     "output_type": "stream",
     "text": [
      "document_embedding: (1, 768)\n",
      "candidate_embeddings: (222, 768)\n",
      "distances: (1, 222)\n"
     ]
    }
   ],
   "source": [
    "model = SentenceTransformer('sentence-transformers/xlm-r-100langs-bert-base-nli-stsb-mean-tokens')\n",
    "doc_embedding = model.encode([doc])\n",
    "candidate_embeddings = model.encode(candidates)\n",
    "distances = cosine_similarity(doc_embedding, candidate_embeddings)\n",
    "\n",
    "print('document_embedding:', doc_embedding.shape)\n",
    "print('candidate_embeddings:', candidate_embeddings.shape)\n",
    "print('distances:', distances.shape)"
   ],
   "metadata": {
    "collapsed": false,
    "ExecuteTime": {
     "end_time": "2023-12-31T06:15:46.278278Z",
     "start_time": "2023-12-31T06:15:43.830113Z"
    }
   },
   "id": "871fba68fa1867f8"
  },
  {
   "cell_type": "markdown",
   "source": [
    "# 1. Basic Key BERT"
   ],
   "metadata": {
    "collapsed": false
   },
   "id": "940daa1780a2aa91"
  },
  {
   "cell_type": "code",
   "execution_count": 12,
   "outputs": [
    {
     "name": "stdout",
     "output_type": "stream",
     "text": [
      "['드론 산업', '드론 드론 조종', '실시 드론 산업', '관리 드론 활용', '미세먼지 관리 드론']\n"
     ]
    }
   ],
   "source": [
    "# pick top_n words closest to the doc.\n",
    "top_n = 5\n",
    "\n",
    "keywords = [candidates[index] for index in distances.argsort()[0][-top_n:]]  # return top n keywords\n",
    "print(keywords)"
   ],
   "metadata": {
    "collapsed": false,
    "ExecuteTime": {
     "end_time": "2023-12-31T06:15:30.204191Z",
     "start_time": "2023-12-31T06:15:30.193216Z"
    }
   },
   "id": "bf29ee94a9154d92"
  },
  {
   "cell_type": "markdown",
   "source": [
    "# 2. Max Sum Similarity"
   ],
   "metadata": {
    "collapsed": false
   },
   "id": "cc179aba7d0e5c1b"
  },
  {
   "cell_type": "code",
   "execution_count": 14,
   "outputs": [
    {
     "name": "stdout",
     "output_type": "stream",
     "text": [
      "['드론 산업 단지', '전망 드론 활용', '드론 산업', '관리 드론 활용', '미세먼지 관리 드론']\n"
     ]
    }
   ],
   "source": [
    "candidates_num = 10\n",
    "\n",
    "dist_doc_word = cosine_similarity(doc_embedding, candidate_embeddings) # (1, 72)\n",
    "dist_word_word = cosine_similarity(candidate_embeddings, candidate_embeddings) # (72, 72)\n",
    "\n",
    "words_idx = list(np.argsort(dist_doc_word)[0][-candidates_num:])\n",
    "words = [candidates[idx] for idx in words_idx]\n",
    "\n",
    "dist_word_word = dist_word_word[np.ix_(words_idx, words_idx)]\n",
    "\n",
    "min_sim = np.inf\n",
    "candidate = None\n",
    "\n",
    "# find the least similar words\n",
    "for combination in itertools.combinations(range(len(words_idx)), top_n):\n",
    "    sim = sum([dist_word_word[i][j] for i in combination for j in combination if i != j])\n",
    "    if sim < min_sim:\n",
    "        candidate = combination\n",
    "        min_sim = sim\n",
    "        \n",
    "result = [words[idx] for idx in candidate]\n",
    "\n",
    "print(result)"
   ],
   "metadata": {
    "collapsed": false,
    "ExecuteTime": {
     "end_time": "2023-12-31T06:15:37.877474Z",
     "start_time": "2023-12-31T06:15:37.804939Z"
    }
   },
   "id": "e1ab14cbf9fc84ec"
  },
  {
   "cell_type": "markdown",
   "source": [
    "### np.ix_\n",
    " - construct an open mesh from multiple sequences.\n",
    "```python\n",
    "a = np.array([[1,2,3,4,5,6,7,8,9,10],[11,12,13,14,15,16,17,18,19,20],[21,22,23,24,25,26,27,28,29,30]])\n",
    "_a = a[np.ix_([0,2,1],[0,1,2])]\n",
    "print(_a) \n",
    "\"\"\"\n",
    "[[ 1  2  3]\n",
    " [21 22 23]\n",
    " [11 12 13]]\n",
    "\"\"\"\n",
    "```\n",
    "\n",
    "### itertools.combinations\n",
    " - return r length subsequences of elements from the input iterable.\n",
    " - combinations('ABCD', 2) --> AB AC AD BC BD CD\n",
    " - combinations(range(4), 3) --> 012 013 023 123\n",
    "```python\n",
    "for combination in itertools.combinations(range(5), 3):\n",
    "  print(combination)\n",
    "\"\"\"\n",
    "(0, 1, 2)\n",
    "(0, 1, 3)\n",
    "(0, 1, 4)\n",
    "(0, 2, 3)\n",
    "(0, 2, 4)\n",
    "(0, 3, 4)\n",
    "(1, 2, 3)\n",
    "(1, 2, 4)\n",
    "(1, 3, 4)\n",
    "(2, 3, 4)\n",
    "\"\"\"\n",
    "```"
   ],
   "metadata": {
    "collapsed": false
   },
   "id": "4ac7d70332ea057a"
  },
  {
   "cell_type": "markdown",
   "source": [
    "# 3. Maximal Marginal Relevance"
   ],
   "metadata": {
    "collapsed": false
   },
   "id": "b81abfc4057b4812"
  },
  {
   "cell_type": "code",
   "execution_count": 16,
   "outputs": [
    {
     "name": "stdout",
     "output_type": "stream",
     "text": [
      "['미세먼지 관리 드론', '실시 드론 산업', '관리 드론 활용', '월간 드론 측정', '전망 드론 활용']\n"
     ]
    }
   ],
   "source": [
    "diversity = 0.2\n",
    "\n",
    "dist_word_doc = cosine_similarity(candidate_embeddings, doc_embedding) # (72, 1)\n",
    "dist_word_word_2 = cosine_similarity(candidate_embeddings) # (72, 72)\n",
    "\n",
    "most_similar_keyword = [np.argmax(dist_word_doc)] # [2]\n",
    "\n",
    "# cand_indexes of words except most_similar_keyword\n",
    "cand_indexes = [i for i in range(len(candidates)) if i not in most_similar_keyword] \n",
    "\n",
    "for _ in range(top_n-1):\n",
    "    candidate_similarities = dist_word_doc[cand_indexes]\n",
    "    target_similarities = np.max(dist_word_word_2[cand_indexes][:, most_similar_keyword], axis=1)\n",
    "    # print(candidate_similarities.shape)\n",
    "    # print(target_similarities.reshape(-1,1).shape)\n",
    "    \n",
    "    mmr = (1-diversity) * candidate_similarities - diversity * target_similarities.reshape(-1,1)\n",
    "    mmr_idx = cand_indexes[np.argmax(mmr)]\n",
    "    \n",
    "    most_similar_keyword.append(mmr_idx)\n",
    "    cand_indexes.remove(mmr_idx)\n",
    "    \n",
    "result = [candidates[idx] for idx in most_similar_keyword]\n",
    "print(result)"
   ],
   "metadata": {
    "collapsed": false,
    "ExecuteTime": {
     "end_time": "2023-12-31T06:15:55.342716Z",
     "start_time": "2023-12-31T06:15:55.282949Z"
    }
   },
   "id": "692fa1e6b56a3e6"
  },
  {
   "cell_type": "markdown",
   "source": [
    "### np.array\n",
    "```python\n",
    "a = np.array([1,2,3,4,5,6,7,8,9])\n",
    "a = a.reshape(3,3)\n",
    "print(a)\n",
    "\"\"\"\n",
    "[[1 2 3]\n",
    " [4 5 6]\n",
    " [7 8 9]]\n",
    "\"\"\"\n",
    "print(a[[0,1,2]][:,[2]])\n",
    "\"\"\"\n",
    "[[3]\n",
    " [6]\n",
    " [9]]\n",
    "\"\"\"\n",
    "```"
   ],
   "metadata": {
    "collapsed": false
   },
   "id": "f19f3d65f6e3a1a2"
  },
  {
   "cell_type": "code",
   "execution_count": null,
   "outputs": [],
   "source": [],
   "metadata": {
    "collapsed": false
   },
   "id": "99678cb863c76f11"
  }
 ],
 "metadata": {
  "kernelspec": {
   "display_name": "Python 3",
   "language": "python",
   "name": "python3"
  },
  "language_info": {
   "codemirror_mode": {
    "name": "ipython",
    "version": 2
   },
   "file_extension": ".py",
   "mimetype": "text/x-python",
   "name": "python",
   "nbconvert_exporter": "python",
   "pygments_lexer": "ipython2",
   "version": "2.7.6"
  }
 },
 "nbformat": 4,
 "nbformat_minor": 5
}
