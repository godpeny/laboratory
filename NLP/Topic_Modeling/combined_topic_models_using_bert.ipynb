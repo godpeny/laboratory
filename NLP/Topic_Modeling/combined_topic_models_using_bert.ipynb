{
 "cells": [
  {
   "cell_type": "code",
   "execution_count": 1,
   "id": "initial_id",
   "metadata": {
    "collapsed": true,
    "ExecuteTime": {
     "end_time": "2024-01-01T10:05:39.285603Z",
     "start_time": "2024-01-01T10:05:37.818228Z"
    }
   },
   "outputs": [],
   "source": [
    "from contextualized_topic_models.models.ctm import CombinedTM\n",
    "from contextualized_topic_models.utils.data_preparation import TopicModelDataPreparation\n",
    "from contextualized_topic_models.utils.preprocessing import WhiteSpacePreprocessing\n",
    "import nltk"
   ]
  },
  {
   "cell_type": "code",
   "execution_count": 2,
   "outputs": [
    {
     "name": "stderr",
     "output_type": "stream",
     "text": [
      "[nltk_data] Downloading package stopwords to\n",
      "[nltk_data]     /Users/godpeny/nltk_data...\n",
      "[nltk_data]   Package stopwords is already up-to-date!\n"
     ]
    },
    {
     "name": "stdout",
     "output_type": "stream",
     "text": [
      "['mid peninsula highway proposed across peninsula canadian province ontario although highway connecting hamilton fort south international study published ministry', 'died march american photographer specialized photography operated studio silver spring maryland later lived florida magazine photographer year', 'henry howard august august british peer son henry howard father died march behind became']\n",
      "['The Mid-Peninsula Highway is a proposed freeway across the Niagara Peninsula in the Canadian province of Ontario. Although plans for a highway connecting Hamilton to Fort Erie south of the Niagara Escarpment have surfaced for decades,it was not until The Niagara Frontier International Gateway Study was published by the Ministry', \"Monte Zucker (died March 15, 2007) was an American photographer. He specialized in wedding photography, entering it as a profession in 1947. In the 1970s he operated a studio in Silver Spring, Maryland. Later he lived in Florida. He was Brides Magazine's Wedding Photographer of the Year for 1990 and\", 'Henry Howard, 13th Earl of Suffolk, 6th Earl of Berkshire (8 August 1779 – 10 August 1779) was a British peer, the son of Henry Howard, 12th Earl of Suffolk. His father died on 7 March 1779, leaving behind his pregnant widow. The Earldom of Suffolk became dormant until she']\n",
      "2000\n"
     ]
    }
   ],
   "source": [
    "nltk.download('stopwords')\n",
    "\n",
    "data_path = \"../data/\"\n",
    "\n",
    "documents = [line.strip() for line in open(data_path + \"dbpedia_sample_abstract_20k_unprep.txt\", \"r\").readlines()]\n",
    "sp = WhiteSpacePreprocessing(documents, stopwords_language='english') \n",
    "preprocessed_documents, unpreprocessed_corpus, vocab = sp.preprocess()\n",
    "\n",
    "print(preprocessed_documents[:3])\n",
    "print(unpreprocessed_corpus[:3])\n",
    "print(len(vocab))"
   ],
   "metadata": {
    "collapsed": false,
    "ExecuteTime": {
     "end_time": "2024-01-01T10:05:40.220358Z",
     "start_time": "2024-01-01T10:05:39.287658Z"
    }
   },
   "id": "4485a1189e2bfe25"
  },
  {
   "cell_type": "markdown",
   "source": [
    "# Modeling"
   ],
   "metadata": {
    "collapsed": false
   },
   "id": "834d4b0f04de6dc6"
  },
  {
   "cell_type": "code",
   "execution_count": 3,
   "outputs": [
    {
     "data": {
      "text/plain": "Batches:   0%|          | 0/100 [00:00<?, ?it/s]",
      "application/vnd.jupyter.widget-view+json": {
       "version_major": 2,
       "version_minor": 0,
       "model_id": "4e49a5f5ef3f4db195fde90344c70e2e"
      }
     },
     "metadata": {},
     "output_type": "display_data"
    },
    {
     "name": "stderr",
     "output_type": "stream",
     "text": [
      "Epoch: [10/10]\t Seen Samples: [200000/200000]\tTrain Loss: 136.5857074951172\tTime: 0:01:03.019182: : 10it [10:32, 63.27s/it]\n"
     ]
    }
   ],
   "source": [
    "tp = TopicModelDataPreparation(\"paraphrase-distilroberta-base-v1\")\n",
    "training_dataset = tp.fit(text_for_contextual=unpreprocessed_corpus, text_for_bow=preprocessed_documents)\n",
    "ctm = CombinedTM(bow_size=len(tp.vocab), contextual_size=768, n_components=50, num_epochs=5)\n",
    "\n",
    "ctm.fit(training_dataset)"
   ],
   "metadata": {
    "collapsed": false,
    "ExecuteTime": {
     "end_time": "2024-01-01T10:19:53.023933Z",
     "start_time": "2024-01-01T10:05:40.038714Z"
    }
   },
   "id": "7494396f4654e91"
  },
  {
   "cell_type": "code",
   "execution_count": 4,
   "outputs": [
    {
     "data": {
      "text/plain": "[['season', 'league', 'team', 'tournament', 'football'],\n ['town', 'county', 'located', 'census', 'city'],\n ['son', 'de', 'french', 'wife', 'daughter'],\n ['name', 'king', 'church', 'century', 'roman'],\n ['school', 'high', 'house', 'built', 'students'],\n ['born', 'played', 'former', 'player', 'made'],\n ['railway', 'line', 'company', 'service', 'services'],\n ['century', 'greek', 'ancient', 'king', 'period'],\n ['published', 'game', 'developed', 'magazine', 'video'],\n ['album', 'american', 'music', 'band', 'released'],\n ['university', 'professor', 'born', 'served', 'american'],\n ['series', 'film', 'produced', 'directed', 'written'],\n ['album', 'released', 'band', 'studio', 'music'],\n ['family', 'species', 'found', 'genus', 'mm'],\n ['american', 'born', 'played', 'university', 'former'],\n ['member', 'politician', 'party', 'elected', 'served'],\n ['built', 'building', 'house', 'story', 'historic'],\n ['series', 'published', 'book', 'american', 'television'],\n ['world', 'summer', 'competed', 'olympics', 'championships'],\n ['island', 'river', 'land', 'islands', 'named'],\n ['member', 'party', 'council', 'election', 'held'],\n ['organization', 'founded', 'health', 'research', 'company'],\n ['film', 'directed', 'written', 'drama', 'novel'],\n ['use', 'used', 'type', 'different', 'using'],\n ['river', 'road', 'bridge', 'lake', 'near'],\n ['county', 'states', 'united', 'located', 'state'],\n ['football', 'league', 'team', 'season', 'played'],\n ['region', 'municipality', 'area', 'located', 'population'],\n ['university', 'professor', 'war', 'received', 'research'],\n ['mi', 'km', 'south', 'west', 'north'],\n ['family', 'found', 'species', 'mm', 'native'],\n ['released', 'game', 'series', 'album', 'band'],\n ['played', 'league', 'born', 'football', 'former'],\n ['held', 'championship', 'tournament', 'world', 'cup'],\n ['film', 'best', 'director', 'american', 'work'],\n ['district', 'population', 'county', 'census', 'town'],\n ['population', 'district', 'province', 'village', 'region'],\n ['mi', 'km', 'west', 'east', 'south'],\n ['form', 'used', 'term', 'chemical', 'type'],\n ['mi', 'km', 'district', 'north', 'east'],\n ['station', 'located', 'city', 'railway', 'line'],\n ['states', 'university', 'united', 'education', 'established'],\n ['school', 'college', 'university', 'team', 'high'],\n ['station', 'located', 'river', 'railway', 'miles'],\n ['known', 'best', 'film', 'television', 'actor'],\n ['company', 'radio', 'owned', 'station', 'channel'],\n ['war', 'army', 'united', 'government', 'navy'],\n ['area', 'mi', 'kilometres', 'region', 'municipality'],\n ['used', 'system', 'multiple', 'using', 'systems'],\n ['born', 'known', 'former', 'october', 'august']]"
     },
     "execution_count": 4,
     "metadata": {},
     "output_type": "execute_result"
    }
   ],
   "source": [
    "ctm.get_topic_lists(5)"
   ],
   "metadata": {
    "collapsed": false,
    "ExecuteTime": {
     "end_time": "2024-01-01T10:31:10.300766Z",
     "start_time": "2024-01-01T10:31:10.273757Z"
    }
   },
   "id": "4e00d3f0b8f842ab"
  },
  {
   "cell_type": "markdown",
   "source": [
    "# Prediction"
   ],
   "metadata": {
    "collapsed": false
   },
   "id": "24553d9840016eaf"
  },
  {
   "cell_type": "code",
   "execution_count": 10,
   "outputs": [],
   "source": [
    "import numpy as np"
   ],
   "metadata": {
    "collapsed": false,
    "ExecuteTime": {
     "end_time": "2024-01-01T11:02:25.092219Z",
     "start_time": "2024-01-01T11:02:25.087411Z"
    }
   },
   "id": "d5d8613588fbb2a"
  },
  {
   "cell_type": "code",
   "execution_count": 6,
   "outputs": [
    {
     "name": "stderr",
     "output_type": "stream",
     "text": [
      "Sampling: [3/3]: : 3it [02:59, 60.00s/it]\n"
     ]
    }
   ],
   "source": [
    "topics_predictions = ctm.get_thetas(training_dataset, n_samples=3) "
   ],
   "metadata": {
    "collapsed": false,
    "ExecuteTime": {
     "end_time": "2024-01-01T10:58:04.308946Z",
     "start_time": "2024-01-01T10:55:04.298700Z"
    }
   },
   "id": "91559f99e46d71a3"
  },
  {
   "cell_type": "code",
   "execution_count": 20,
   "outputs": [
    {
     "name": "stdout",
     "output_type": "stream",
     "text": [
      "mid peninsula highway proposed across peninsula canadian province ontario although highway connecting hamilton fort south international study published ministry\n"
     ]
    }
   ],
   "source": [
    "print(preprocessed_documents[0])"
   ],
   "metadata": {
    "collapsed": false,
    "ExecuteTime": {
     "end_time": "2024-01-01T11:07:43.593111Z",
     "start_time": "2024-01-01T11:07:43.585742Z"
    }
   },
   "id": "ef6878019f77ef3c"
  },
  {
   "cell_type": "code",
   "execution_count": 17,
   "outputs": [
    {
     "name": "stdout",
     "output_type": "stream",
     "text": [
      "[[0.01077348 0.01356979 0.00509916 ... 0.03638788 0.0092768  0.01338069]\n",
      " [0.00246786 0.00571247 0.00603287 ... 0.00244921 0.0123746  0.06028802]\n",
      " [0.00385155 0.00399819 0.26056468 ... 0.00345671 0.00545027 0.03472301]\n",
      " ...\n",
      " [0.00311637 0.02559119 0.00579893 ... 0.00491325 0.04074635 0.01217081]\n",
      " [0.00881516 0.00299022 0.03167975 ... 0.00859608 0.10077539 0.00538099]\n",
      " [0.00325098 0.00294681 0.00615367 ... 0.00189291 0.00317795 0.02111261]]\n",
      "40\n"
     ]
    }
   ],
   "source": [
    "print(topics_predictions)\n",
    "topic_idx = np.argmax(topics_predictions[0])\n",
    "\n",
    "print(topic_idx)"
   ],
   "metadata": {
    "collapsed": false,
    "ExecuteTime": {
     "end_time": "2024-01-01T11:07:26.338237Z",
     "start_time": "2024-01-01T11:07:26.331112Z"
    }
   },
   "id": "bd7fc0d7cb25208f"
  },
  {
   "cell_type": "code",
   "execution_count": 21,
   "outputs": [
    {
     "data": {
      "text/plain": "['station',\n 'located',\n 'city',\n 'railway',\n 'line',\n 'road',\n 'airport',\n 'owned',\n 'street',\n 'mill']"
     },
     "execution_count": 21,
     "metadata": {},
     "output_type": "execute_result"
    }
   ],
   "source": [
    "ctm.get_topic_lists(10)[topic_idx]"
   ],
   "metadata": {
    "collapsed": false,
    "ExecuteTime": {
     "end_time": "2024-01-01T11:08:03.745722Z",
     "start_time": "2024-01-01T11:08:03.733361Z"
    }
   },
   "id": "63454bc022a9459"
  },
  {
   "cell_type": "code",
   "execution_count": null,
   "outputs": [],
   "source": [],
   "metadata": {
    "collapsed": false
   },
   "id": "20cf1f1f421dacb2"
  }
 ],
 "metadata": {
  "kernelspec": {
   "display_name": "Python 3",
   "language": "python",
   "name": "python3"
  },
  "language_info": {
   "codemirror_mode": {
    "name": "ipython",
    "version": 2
   },
   "file_extension": ".py",
   "mimetype": "text/x-python",
   "name": "python",
   "nbconvert_exporter": "python",
   "pygments_lexer": "ipython2",
   "version": "2.7.6"
  }
 },
 "nbformat": 4,
 "nbformat_minor": 5
}
