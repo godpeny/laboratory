{
 "cells": [
  {
   "cell_type": "markdown",
   "source": [
    "# Term Frequency - Inverse Document Frequency (TF-IDF)\n",
    "https://wikidocs.net/31698\n"
   ],
   "metadata": {
    "collapsed": false
   },
   "id": "32cbd4ec20ab8812"
  },
  {
   "cell_type": "code",
   "execution_count": 18,
   "outputs": [],
   "source": [
    "# import\n",
    "import pandas as pd \n",
    "from math import log\n",
    "\n",
    "from sklearn.feature_extraction.text import CountVectorizer\n",
    "from sklearn.feature_extraction.text import TfidfVectorizer"
   ],
   "metadata": {
    "collapsed": false,
    "ExecuteTime": {
     "end_time": "2023-10-03T09:47:39.300415Z",
     "start_time": "2023-10-03T09:47:38.829962Z"
    }
   },
   "id": "167668f29a7cc9c5"
  },
  {
   "cell_type": "markdown",
   "source": [
    "# Calculating TF-IDF Manually"
   ],
   "metadata": {
    "collapsed": false
   },
   "id": "9196c494afbc8b7a"
  },
  {
   "cell_type": "code",
   "execution_count": 19,
   "outputs": [
    {
     "name": "stdout",
     "output_type": "stream",
     "text": [
      "['저는', '좋아요', '사과', '노란', '바나나', '싶은', '길고', '먹고', '과일이']\n"
     ]
    }
   ],
   "source": [
    "# data preprocessing\n",
    "docs = [\n",
    "    '먹고 싶은 사과',\n",
    "    '먹고 싶은 바나나',\n",
    "    '길고 노란 바나나 바나나',\n",
    "    '저는 과일이 좋아요'\n",
    "]\n",
    "\n",
    "vocab = list(set(w for doc in docs for w in doc.split())) # using set to remove duplication\n",
    "print(vocab)"
   ],
   "metadata": {
    "collapsed": false,
    "ExecuteTime": {
     "start_time": "2023-10-03T09:47:41.717093Z"
    }
   },
   "id": "354c3434059726dd"
  },
  {
   "cell_type": "markdown",
   "source": [
    "# nested list comprehension\n",
    "## 'for doc in docs': Outer loop. It iterates over each document in the docs list. Each doc is assumed to be a string.\n",
    "## 'for w in doc.split()': Inner loop. After splitting each doc into words, this loop iterates over each word, which is represented by w."
   ],
   "metadata": {
    "collapsed": false
   },
   "id": "14200d50a04590f2"
  },
  {
   "cell_type": "code",
   "execution_count": 6,
   "outputs": [],
   "source": [
    "# functions\n",
    "def tf(t, d):\n",
    "    \"\"\"\n",
    "    tf(t, d): 특정 문서 d에서 특정 단어 t의 등장 횟수.\n",
    "    \"\"\"\n",
    "    return d.count(t)\n",
    "\n",
    "def df(t):\n",
    "    \"\"\"\n",
    "    df(t, D): 특정 단어 t가 등장한 문서의 수.\n",
    "    \"\"\"\n",
    "    df = 0\n",
    "    for doc in docs:\n",
    "        df += t in doc # increments the variable df by 1 if t exists in the current doc. (True == 1 in arithmetic operations in Python)\n",
    "    return df\n",
    "\n",
    "def idf(t):\n",
    "    \"\"\"\n",
    "    idf(t, D): df(t, D)에 반비례 하는 수.\n",
    "    \"\"\"\n",
    "    return log(N / (df(t) + 1)) # log(N / (df(t) + 1))\n",
    "\n",
    "def tfidf(t, d):\n",
    "    \"\"\"\n",
    "    tfidf(t, d): tf * idf\n",
    "    \"\"\"\n",
    "    return tf(t, d) * idf(t)"
   ],
   "metadata": {
    "collapsed": false,
    "ExecuteTime": {
     "start_time": "2023-10-03T09:32:02.964572Z"
    }
   },
   "id": "88a5efd1cdc1b7ea"
  },
  {
   "cell_type": "code",
   "execution_count": 16,
   "outputs": [
    {
     "name": "stdout",
     "output_type": "stream",
     "text": [
      "(4, 9)\n",
      "   저는  좋아요  사과  노란  바나나  싶은  길고  먹고  과일이\n",
      "0   0    0   1   0    0   1   0   1    0\n",
      "1   0    0   0   0    1   1   0   1    0\n",
      "2   0    0   0   1    2   0   1   0    0\n",
      "3   1    1   0   0    0   0   0   0    1\n"
     ]
    }
   ],
   "source": [
    "# calculation for Document-Term Matrix (DTM)\n",
    "result = []\n",
    "\n",
    "for doc in docs:\n",
    "    result.append([])\n",
    "    for t in vocab:\n",
    "        result[-1].append(tf(t, doc))\n",
    "        \n",
    "dtm = pd.DataFrame(result, columns=vocab)\n",
    "print(dtm.shape)\n",
    "print(dtm)"
   ],
   "metadata": {
    "collapsed": false,
    "ExecuteTime": {
     "end_time": "2023-10-03T09:44:11.620950Z",
     "start_time": "2023-10-03T09:44:11.617222Z"
    }
   },
   "id": "9463fc000eddd5e0"
  },
  {
   "cell_type": "code",
   "execution_count": 15,
   "outputs": [
    {
     "name": "stdout",
     "output_type": "stream",
     "text": [
      "          IDF\n",
      "저는   0.693147\n",
      "좋아요  0.693147\n",
      "사과   0.693147\n",
      "노란   0.693147\n",
      "바나나  0.287682\n",
      "싶은   0.287682\n",
      "길고   0.693147\n",
      "먹고   0.287682\n",
      "과일이  0.693147\n"
     ]
    }
   ],
   "source": [
    "# calculation for Inverse Document Frequency (IDF)\n",
    "\n",
    "result = []\n",
    "for t in vocab:\n",
    "    result.append(idf(t))\n",
    "    \n",
    "idf_ = pd.DataFrame(result, index=vocab, columns=['IDF'])\n",
    "print(idf_)"
   ],
   "metadata": {
    "collapsed": false,
    "ExecuteTime": {
     "end_time": "2023-10-03T09:43:34.559080Z",
     "start_time": "2023-10-03T09:43:34.554492Z"
    }
   },
   "id": "b810b4adbe559d3b"
  },
  {
   "cell_type": "code",
   "execution_count": 17,
   "outputs": [
    {
     "name": "stdout",
     "output_type": "stream",
     "text": [
      "                     저는       좋아요        사과        노란       바나나        싶은  \\\n",
      "먹고 싶은 사과       0.000000  0.000000  0.693147  0.000000  0.000000  0.287682   \n",
      "먹고 싶은 바나나      0.000000  0.000000  0.000000  0.000000  0.287682  0.287682   \n",
      "길고 노란 바나나 바나나  0.000000  0.000000  0.000000  0.693147  0.575364  0.000000   \n",
      "저는 과일이 좋아요     0.693147  0.693147  0.000000  0.000000  0.000000  0.000000   \n",
      "\n",
      "                     길고        먹고       과일이  \n",
      "먹고 싶은 사과       0.000000  0.287682  0.000000  \n",
      "먹고 싶은 바나나      0.000000  0.287682  0.000000  \n",
      "길고 노란 바나나 바나나  0.693147  0.000000  0.000000  \n",
      "저는 과일이 좋아요     0.000000  0.000000  0.693147  \n"
     ]
    }
   ],
   "source": [
    "# calculation for TF-IDF\n",
    "result = []\n",
    "\n",
    "for doc in docs:\n",
    "    result.append([])\n",
    "    for t in vocab:\n",
    "        result[-1].append(tfidf(t, doc))\n",
    "\n",
    "tfidf_ = pd.DataFrame(result, index=docs, columns=vocab)\n",
    "print(tfidf_)"
   ],
   "metadata": {
    "collapsed": false,
    "ExecuteTime": {
     "end_time": "2023-10-03T09:45:56.905Z",
     "start_time": "2023-10-03T09:45:56.894570Z"
    }
   },
   "id": "3925fc7d18211c6d"
  },
  {
   "cell_type": "markdown",
   "source": [
    "# Calculating TF-IDF using scikit-learn"
   ],
   "metadata": {
    "collapsed": false
   },
   "id": "500f97a3934cf52"
  },
  {
   "cell_type": "code",
   "execution_count": 31,
   "outputs": [
    {
     "name": "stdout",
     "output_type": "stream",
     "text": [
      "[[0 1 0 1 0 1 0 1 1]\n",
      " [0 0 1 0 0 0 0 1 0]\n",
      " [1 0 0 0 1 0 1 0 0]]\n",
      "{'you': 7, 'know': 1, 'want': 5, 'your': 8, 'love': 3, 'like': 2, 'what': 6, 'should': 4, 'do': 0}\n"
     ]
    }
   ],
   "source": [
    "# calculating DTM using CountVectorizer\n",
    "corpus = [\n",
    "    'you know I want your love',\n",
    "    'I like you',\n",
    "    'what should I do ',\n",
    "]\n",
    "\n",
    "vector = CountVectorizer()\n",
    "vector.fit_transform(corpus)\n",
    "\n",
    "print(vector.transform(corpus).toarray())\n",
    "print(vector.vocabulary_)"
   ],
   "metadata": {
    "collapsed": false,
    "ExecuteTime": {
     "end_time": "2023-10-03T09:56:10.601774Z",
     "start_time": "2023-10-03T09:56:10.597709Z"
    }
   },
   "id": "594708903cc3286e"
  },
  {
   "cell_type": "code",
   "execution_count": 32,
   "outputs": [
    {
     "name": "stdout",
     "output_type": "stream",
     "text": [
      "[[0.         0.46735098 0.         0.46735098 0.         0.46735098\n",
      "  0.         0.35543247 0.46735098]\n",
      " [0.         0.         0.79596054 0.         0.         0.\n",
      "  0.         0.60534851 0.        ]\n",
      " [0.57735027 0.         0.         0.         0.57735027 0.\n",
      "  0.57735027 0.         0.        ]]\n",
      "{'you': 7, 'know': 1, 'want': 5, 'your': 8, 'love': 3, 'like': 2, 'what': 6, 'should': 4, 'do': 0}\n"
     ]
    }
   ],
   "source": [
    "# calculating TF-IDF using TfidfVectorizer\n",
    "tfidfv = TfidfVectorizer()\n",
    "tfidfv.fit_transform(corpus)\n",
    "\n",
    "print(tfidfv.transform(corpus).toarray())\n",
    "print(tfidfv.vocabulary_)"
   ],
   "metadata": {
    "collapsed": false,
    "ExecuteTime": {
     "end_time": "2023-10-03T09:57:22.003454Z",
     "start_time": "2023-10-03T09:57:21.990707Z"
    }
   },
   "id": "27cc4162eba34f05"
  },
  {
   "cell_type": "code",
   "execution_count": null,
   "outputs": [],
   "source": [],
   "metadata": {
    "collapsed": false
   },
   "id": "e961a42394683d7a"
  }
 ],
 "metadata": {
  "kernelspec": {
   "display_name": "Python 3",
   "language": "python",
   "name": "python3"
  },
  "language_info": {
   "codemirror_mode": {
    "name": "ipython",
    "version": 2
   },
   "file_extension": ".py",
   "mimetype": "text/x-python",
   "name": "python",
   "nbconvert_exporter": "python",
   "pygments_lexer": "ipython2",
   "version": "2.7.6"
  }
 },
 "nbformat": 4,
 "nbformat_minor": 5
}
