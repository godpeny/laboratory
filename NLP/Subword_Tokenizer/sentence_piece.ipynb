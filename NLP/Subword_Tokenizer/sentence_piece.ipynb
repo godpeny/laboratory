{
 "cells": [
  {
   "cell_type": "markdown",
   "source": [
    "# SentencePiece\n",
    "## https://arxiv.org/pdf/1808.06226.pdf\n",
    "## https://github.com/google/sentencepiece"
   ],
   "metadata": {
    "collapsed": false
   },
   "id": "44690a8471cb9ade"
  },
  {
   "cell_type": "code",
   "execution_count": 9,
   "outputs": [],
   "source": [
    "import numpy as np\n",
    "import pandas as pd\n",
    "import csv\n",
    "\n",
    "import os\n",
    "import urllib.request\n",
    "\n",
    "import sentencepiece as spm"
   ],
   "metadata": {
    "collapsed": false,
    "ExecuteTime": {
     "end_time": "2023-12-02T03:52:39.874674Z",
     "start_time": "2023-12-02T03:52:39.866299Z"
    }
   },
   "id": "c498a2be7070f65c"
  },
  {
   "cell_type": "code",
   "execution_count": 2,
   "outputs": [
    {
     "data": {
      "text/plain": "('../data/IMDb_Reviews.csv', <http.client.HTTPMessage at 0x1101b2510>)"
     },
     "execution_count": 2,
     "metadata": {},
     "output_type": "execute_result"
    }
   ],
   "source": [
    "data_path = \"../data/\"\n",
    "urllib.request.urlretrieve(\"https://raw.githubusercontent.com/LawrenceDuan/IMDb-Review-Analysis/master/IMDb_Reviews.csv\", filename=data_path + \"IMDb_Reviews.csv\")"
   ],
   "metadata": {
    "collapsed": false,
    "ExecuteTime": {
     "end_time": "2023-12-02T03:06:29.750013Z",
     "start_time": "2023-12-02T03:06:14.783687Z"
    }
   },
   "id": "1e314ec3e9b6a27e"
  },
  {
   "cell_type": "code",
   "execution_count": 3,
   "outputs": [
    {
     "data": {
      "text/plain": "                                              review  sentiment\n0  My family and I normally do not watch local mo...          1\n1  Believe it or not, this was at one time the wo...          0\n2  After some internet surfing, I found the \"Home...          0\n3  One of the most unheralded great works of anim...          1\n4  It was the Sixties, and anyone with long hair ...          0",
      "text/html": "<div>\n<style scoped>\n    .dataframe tbody tr th:only-of-type {\n        vertical-align: middle;\n    }\n\n    .dataframe tbody tr th {\n        vertical-align: top;\n    }\n\n    .dataframe thead th {\n        text-align: right;\n    }\n</style>\n<table border=\"1\" class=\"dataframe\">\n  <thead>\n    <tr style=\"text-align: right;\">\n      <th></th>\n      <th>review</th>\n      <th>sentiment</th>\n    </tr>\n  </thead>\n  <tbody>\n    <tr>\n      <th>0</th>\n      <td>My family and I normally do not watch local mo...</td>\n      <td>1</td>\n    </tr>\n    <tr>\n      <th>1</th>\n      <td>Believe it or not, this was at one time the wo...</td>\n      <td>0</td>\n    </tr>\n    <tr>\n      <th>2</th>\n      <td>After some internet surfing, I found the \"Home...</td>\n      <td>0</td>\n    </tr>\n    <tr>\n      <th>3</th>\n      <td>One of the most unheralded great works of anim...</td>\n      <td>1</td>\n    </tr>\n    <tr>\n      <th>4</th>\n      <td>It was the Sixties, and anyone with long hair ...</td>\n      <td>0</td>\n    </tr>\n  </tbody>\n</table>\n</div>"
     },
     "execution_count": 3,
     "metadata": {},
     "output_type": "execute_result"
    }
   ],
   "source": [
    "df = pd.read_csv(data_path + \"IMDb_Reviews.csv\")\n",
    "df.head(5)"
   ],
   "metadata": {
    "collapsed": false,
    "ExecuteTime": {
     "end_time": "2023-12-02T03:06:37.786876Z",
     "start_time": "2023-12-02T03:06:37.287550Z"
    }
   },
   "id": "bc9545f0cd11bd0"
  },
  {
   "cell_type": "markdown",
   "source": [
    "## Make Model using SentencePiece"
   ],
   "metadata": {
    "collapsed": false
   },
   "id": "aa2a4f35d7f8d909"
  },
  {
   "cell_type": "code",
   "execution_count": 4,
   "outputs": [],
   "source": [
    "# convert csv to txt for sentencepiece\n",
    "with open(data_path + \"imdb_review.txt\", \"w\", encoding=\"utf-8\") as f:\n",
    "    f.write(\"\\n\".join(df[\"review\"])) # only review column"
   ],
   "metadata": {
    "collapsed": false,
    "ExecuteTime": {
     "end_time": "2023-12-02T03:09:25.197543Z",
     "start_time": "2023-12-02T03:09:25.118995Z"
    }
   },
   "id": "79b856da8da78d5b"
  },
  {
   "cell_type": "code",
   "execution_count": 8,
   "outputs": [
    {
     "name": "stderr",
     "output_type": "stream",
     "text": [
      "sentencepiece_trainer.cc(177) LOG(INFO) Running command: --input=../data/imdb_review.txt --model_prefix=imdb --vocab_size=5000 --model_type=bpe --max_sentence_length=9999\n",
      "sentencepiece_trainer.cc(77) LOG(INFO) Starts training with : \n",
      "trainer_spec {\n",
      "  input: ../data/imdb_review.txt\n",
      "  input_format: \n",
      "  model_prefix: imdb\n",
      "  model_type: BPE\n",
      "  vocab_size: 5000\n",
      "  self_test_sample_size: 0\n",
      "  character_coverage: 0.9995\n",
      "  input_sentence_size: 0\n",
      "  shuffle_input_sentence: 1\n",
      "  seed_sentencepiece_size: 1000000\n",
      "  shrinking_factor: 0.75\n",
      "  max_sentence_length: 9999\n",
      "  num_threads: 16\n",
      "  num_sub_iterations: 2\n",
      "  max_sentencepiece_length: 16\n",
      "  split_by_unicode_script: 1\n",
      "  split_by_number: 1\n",
      "  split_by_whitespace: 1\n",
      "  split_digits: 0\n",
      "  pretokenization_delimiter: \n",
      "  treat_whitespace_as_suffix: 0\n",
      "  allow_whitespace_only_pieces: 0\n",
      "  required_chars: \n",
      "  byte_fallback: 0\n",
      "  vocabulary_output_piece_score: 1\n",
      "  train_extremely_large_corpus: 0\n",
      "  hard_vocab_limit: 1\n",
      "  use_all_vocab: 0\n",
      "  unk_id: 0\n",
      "  bos_id: 1\n",
      "  eos_id: 2\n",
      "  pad_id: -1\n",
      "  unk_piece: <unk>\n",
      "  bos_piece: <s>\n",
      "  eos_piece: </s>\n",
      "  pad_piece: <pad>\n",
      "  unk_surface:  ⁇ \n",
      "  enable_differential_privacy: 0\n",
      "  differential_privacy_noise_level: 0\n",
      "  differential_privacy_clipping_threshold: 0\n",
      "}\n",
      "normalizer_spec {\n",
      "  name: nmt_nfkc\n",
      "  add_dummy_prefix: 1\n",
      "  remove_extra_whitespaces: 1\n",
      "  escape_whitespaces: 1\n",
      "  normalization_rule_tsv: \n",
      "}\n",
      "denormalizer_spec {}\n",
      "trainer_interface.cc(351) LOG(INFO) SentenceIterator is not specified. Using MultiFileSentenceIterator.\n",
      "trainer_interface.cc(183) LOG(INFO) Loading corpus: ../data/imdb_review.txt\n",
      "trainer_interface.cc(378) LOG(WARNING) Found too long line (10321 > 9999).\n",
      "trainer_interface.cc(380) LOG(WARNING) Too long lines are skipped in the training.\n",
      "trainer_interface.cc(381) LOG(WARNING) The maximum length can be changed with --max_sentence_length=<size> flag.\n",
      "trainer_interface.cc(407) LOG(INFO) Loaded all 49994 sentences\n",
      "trainer_interface.cc(414) LOG(INFO) Skipped 6 too long sentences.\n",
      "trainer_interface.cc(423) LOG(INFO) Adding meta_piece: <unk>\n",
      "trainer_interface.cc(423) LOG(INFO) Adding meta_piece: <s>\n",
      "trainer_interface.cc(423) LOG(INFO) Adding meta_piece: </s>\n",
      "trainer_interface.cc(428) LOG(INFO) Normalizing sentences...\n",
      "trainer_interface.cc(537) LOG(INFO) all chars count=65449658\n",
      "trainer_interface.cc(548) LOG(INFO) Done: 99.9552% characters are covered.\n",
      "trainer_interface.cc(558) LOG(INFO) Alphabet size=76\n",
      "trainer_interface.cc(559) LOG(INFO) Final character coverage=0.999552\n",
      "trainer_interface.cc(591) LOG(INFO) Done! preprocessed 49994 sentences.\n",
      "trainer_interface.cc(597) LOG(INFO) Tokenizing input sentences with whitespace: 49994\n",
      "trainer_interface.cc(608) LOG(INFO) Done! 438648\n",
      "bpe_model_trainer.cc(159) LOG(INFO) Updating active symbols. max_freq=1557312 min_freq=373\n",
      "bpe_model_trainer.cc(268) LOG(INFO) Added: freq=384101 size=20 all=3611 active=1972 piece=en\n",
      "bpe_model_trainer.cc(268) LOG(INFO) Added: freq=220588 size=40 all=4932 active=3293 piece=om\n",
      "bpe_model_trainer.cc(268) LOG(INFO) Added: freq=158358 size=60 all=6355 active=4716 piece=ie\n",
      "bpe_model_trainer.cc(268) LOG(INFO) Added: freq=106638 size=80 all=7931 active=6292 piece=id\n",
      "bpe_model_trainer.cc(268) LOG(INFO) Added: freq=90444 size=100 all=9108 active=7469 piece=am\n",
      "bpe_model_trainer.cc(159) LOG(INFO) Updating active symbols. max_freq=90105 min_freq=5590\n",
      "bpe_model_trainer.cc(268) LOG(INFO) Added: freq=65629 size=120 all=10552 active=2264 piece=ally\n",
      "bpe_model_trainer.cc(268) LOG(INFO) Added: freq=54599 size=140 all=11902 active=3614 piece=▁have\n",
      "bpe_model_trainer.cc(268) LOG(INFO) Added: freq=47018 size=160 all=13192 active=4904 piece=▁k\n",
      "bpe_model_trainer.cc(268) LOG(INFO) Added: freq=41819 size=180 all=14928 active=6640 piece=ol\n",
      "bpe_model_trainer.cc(268) LOG(INFO) Added: freq=37033 size=200 all=16837 active=8549 piece=ven\n",
      "bpe_model_trainer.cc(159) LOG(INFO) Updating active symbols. max_freq=37018 min_freq=4995\n",
      "bpe_model_trainer.cc(268) LOG(INFO) Added: freq=34053 size=220 all=18236 active=2327 piece=▁me\n",
      "bpe_model_trainer.cc(268) LOG(INFO) Added: freq=30398 size=240 all=19803 active=3894 piece=▁un\n",
      "bpe_model_trainer.cc(268) LOG(INFO) Added: freq=27178 size=260 all=21138 active=5229 piece=▁get\n",
      "bpe_model_trainer.cc(268) LOG(INFO) Added: freq=24165 size=280 all=21984 active=6075 piece=▁bec\n",
      "bpe_model_trainer.cc(268) LOG(INFO) Added: freq=22036 size=300 all=22865 active=6956 piece=▁watch\n",
      "bpe_model_trainer.cc(159) LOG(INFO) Updating active symbols. max_freq=22031 min_freq=3786\n",
      "bpe_model_trainer.cc(268) LOG(INFO) Added: freq=20573 size=320 all=24298 active=2568 piece=▁kn\n",
      "bpe_model_trainer.cc(268) LOG(INFO) Added: freq=19165 size=340 all=26041 active=4311 piece=▁pe\n",
      "bpe_model_trainer.cc(268) LOG(INFO) Added: freq=18034 size=360 all=26899 active=5169 piece=▁how\n",
      "bpe_model_trainer.cc(268) LOG(INFO) Added: freq=16799 size=380 all=27926 active=6196 piece=other\n",
      "bpe_model_trainer.cc(268) LOG(INFO) Added: freq=15869 size=400 all=29087 active=7357 piece=▁direct\n",
      "bpe_model_trainer.cc(159) LOG(INFO) Updating active symbols. max_freq=15837 min_freq=2654\n",
      "bpe_model_trainer.cc(268) LOG(INFO) Added: freq=14689 size=420 all=30336 active=2691 piece=▁movies\n",
      "bpe_model_trainer.cc(268) LOG(INFO) Added: freq=13994 size=440 all=31414 active=3769 piece=ob\n",
      "bpe_model_trainer.cc(268) LOG(INFO) Added: freq=13210 size=460 all=32677 active=5032 piece=▁plot\n",
      "bpe_model_trainer.cc(268) LOG(INFO) Added: freq=12444 size=480 all=33129 active=5484 piece=ittle\n",
      "bpe_model_trainer.cc(268) LOG(INFO) Added: freq=11855 size=500 all=34392 active=6747 piece=ved\n",
      "bpe_model_trainer.cc(159) LOG(INFO) Updating active symbols. max_freq=11779 min_freq=2013\n",
      "bpe_model_trainer.cc(268) LOG(INFO) Added: freq=11066 size=520 all=35367 active=2659 piece=▁br\n",
      "bpe_model_trainer.cc(268) LOG(INFO) Added: freq=10278 size=540 all=36441 active=3733 piece=vers\n",
      "bpe_model_trainer.cc(268) LOG(INFO) Added: freq=9987 size=560 all=37360 active=4652 piece=augh\n",
      "bpe_model_trainer.cc(268) LOG(INFO) Added: freq=9449 size=580 all=38291 active=5583 piece=ense\n",
      "bpe_model_trainer.cc(268) LOG(INFO) Added: freq=8980 size=600 all=39016 active=6308 piece=▁performan\n",
      "bpe_model_trainer.cc(159) LOG(INFO) Updating active symbols. max_freq=8915 min_freq=1643\n",
      "bpe_model_trainer.cc(268) LOG(INFO) Added: freq=8632 size=620 all=39980 active=2913 piece=▁ap\n",
      "bpe_model_trainer.cc(268) LOG(INFO) Added: freq=8202 size=640 all=40330 active=3263 piece=▁set\n",
      "bpe_model_trainer.cc(268) LOG(INFO) Added: freq=7865 size=660 all=41238 active=4171 piece=▁few\n",
      "bpe_model_trainer.cc(268) LOG(INFO) Added: freq=7528 size=680 all=42014 active=4947 piece=▁got\n",
      "bpe_model_trainer.cc(268) LOG(INFO) Added: freq=7345 size=700 all=42491 active=5424 piece=▁Jo\n",
      "bpe_model_trainer.cc(159) LOG(INFO) Updating active symbols. max_freq=7344 min_freq=1382\n",
      "bpe_model_trainer.cc(268) LOG(INFO) Added: freq=7043 size=720 all=43424 active=3029 piece=▁effect\n",
      "bpe_model_trainer.cc(268) LOG(INFO) Added: freq=6745 size=740 all=43985 active=3590 piece=ched\n",
      "bpe_model_trainer.cc(268) LOG(INFO) Added: freq=6523 size=760 all=44838 active=4443 piece=▁high\n",
      "bpe_model_trainer.cc(268) LOG(INFO) Added: freq=6354 size=780 all=45455 active=5060 piece=▁give\n",
      "bpe_model_trainer.cc(268) LOG(INFO) Added: freq=6125 size=800 all=46095 active=5700 piece=▁put\n",
      "bpe_model_trainer.cc(159) LOG(INFO) Updating active symbols. max_freq=6123 min_freq=1214\n",
      "bpe_model_trainer.cc(268) LOG(INFO) Added: freq=6012 size=820 all=46378 active=2570 piece=oot\n",
      "bpe_model_trainer.cc(268) LOG(INFO) Added: freq=5812 size=840 all=46847 active=3039 piece=▁cons\n",
      "bpe_model_trainer.cc(268) LOG(INFO) Added: freq=5653 size=860 all=47420 active=3612 piece=▁expl\n",
      "bpe_model_trainer.cc(268) LOG(INFO) Added: freq=5434 size=880 all=48074 active=4266 piece=▁help\n",
      "bpe_model_trainer.cc(268) LOG(INFO) Added: freq=5215 size=900 all=48753 active=4945 piece=oney\n",
      "bpe_model_trainer.cc(159) LOG(INFO) Updating active symbols. max_freq=5199 min_freq=1094\n",
      "bpe_model_trainer.cc(268) LOG(INFO) Added: freq=5050 size=920 all=49421 active=3072 piece=This\n",
      "bpe_model_trainer.cc(268) LOG(INFO) Added: freq=4922 size=940 all=50658 active=4309 piece=▁worst\n",
      "bpe_model_trainer.cc(268) LOG(INFO) Added: freq=4820 size=960 all=50989 active=4640 piece=▁episod\n",
      "bpe_model_trainer.cc(268) LOG(INFO) Added: freq=4686 size=980 all=51744 active=5395 piece=▁job\n",
      "bpe_model_trainer.cc(268) LOG(INFO) Added: freq=4568 size=1000 all=52338 active=5989 piece=▁ty\n",
      "bpe_model_trainer.cc(159) LOG(INFO) Updating active symbols. max_freq=4568 min_freq=961\n",
      "bpe_model_trainer.cc(268) LOG(INFO) Added: freq=4487 size=1020 all=52887 active=3155 piece=ray\n",
      "bpe_model_trainer.cc(268) LOG(INFO) Added: freq=4390 size=1040 all=53364 active=3632 piece=▁money\n",
      "bpe_model_trainer.cc(268) LOG(INFO) Added: freq=4303 size=1060 all=54345 active=4613 piece=....\n",
      "bpe_model_trainer.cc(268) LOG(INFO) Added: freq=4198 size=1080 all=54980 active=5248 piece=▁having\n",
      "bpe_model_trainer.cc(268) LOG(INFO) Added: freq=4079 size=1100 all=55278 active=5546 piece=not\n",
      "bpe_model_trainer.cc(159) LOG(INFO) Updating active symbols. max_freq=4078 min_freq=872\n",
      "bpe_model_trainer.cc(268) LOG(INFO) Added: freq=4025 size=1120 all=55901 active=3335 piece=▁American\n",
      "bpe_model_trainer.cc(268) LOG(INFO) Added: freq=3935 size=1140 all=56651 active=4085 piece=▁invol\n",
      "bpe_model_trainer.cc(268) LOG(INFO) Added: freq=3813 size=1160 all=57291 active=4725 piece=▁Un\n",
      "bpe_model_trainer.cc(268) LOG(INFO) Added: freq=3755 size=1180 all=57769 active=5203 piece=▁low\n",
      "bpe_model_trainer.cc(268) LOG(INFO) Added: freq=3658 size=1200 all=58430 active=5864 piece=ains\n",
      "bpe_model_trainer.cc(159) LOG(INFO) Updating active symbols. max_freq=3650 min_freq=783\n",
      "bpe_model_trainer.cc(268) LOG(INFO) Added: freq=3573 size=1220 all=59095 active=3539 piece=▁exp\n",
      "bpe_model_trainer.cc(268) LOG(INFO) Added: freq=3490 size=1240 all=59668 active=4112 piece=▁along\n",
      "bpe_model_trainer.cc(268) LOG(INFO) Added: freq=3408 size=1260 all=59983 active=4427 piece=▁dra\n",
      "bpe_model_trainer.cc(268) LOG(INFO) Added: freq=3329 size=1280 all=60633 active=5077 piece=▁exam\n",
      "bpe_model_trainer.cc(268) LOG(INFO) Added: freq=3280 size=1300 all=61064 active=5508 piece=med\n",
      "bpe_model_trainer.cc(159) LOG(INFO) Updating active symbols. max_freq=3279 min_freq=720\n",
      "bpe_model_trainer.cc(268) LOG(INFO) Added: freq=3220 size=1320 all=61412 active=3340 piece=▁hero\n",
      "bpe_model_trainer.cc(268) LOG(INFO) Added: freq=3157 size=1340 all=61960 active=3888 piece=▁instead\n",
      "bpe_model_trainer.cc(268) LOG(INFO) Added: freq=3045 size=1360 all=62710 active=4638 piece=▁doing\n",
      "bpe_model_trainer.cc(268) LOG(INFO) Added: freq=3008 size=1380 all=63183 active=5111 piece=reme\n",
      "bpe_model_trainer.cc(268) LOG(INFO) Added: freq=2941 size=1400 all=63669 active=5597 piece=▁cor\n",
      "bpe_model_trainer.cc(159) LOG(INFO) Updating active symbols. max_freq=2937 min_freq=664\n",
      "bpe_model_trainer.cc(268) LOG(INFO) Added: freq=2884 size=1420 all=64126 active=3614 piece=▁develop\n",
      "bpe_model_trainer.cc(268) LOG(INFO) Added: freq=2818 size=1440 all=64656 active=4144 piece=▁stars\n",
      "bpe_model_trainer.cc(268) LOG(INFO) Added: freq=2755 size=1460 all=65242 active=4730 piece=ccess\n",
      "bpe_model_trainer.cc(268) LOG(INFO) Added: freq=2690 size=1480 all=65728 active=5216 piece=▁seemed\n",
      "bpe_model_trainer.cc(268) LOG(INFO) Added: freq=2647 size=1500 all=66048 active=5536 piece=▁several\n",
      "bpe_model_trainer.cc(159) LOG(INFO) Updating active symbols. max_freq=2644 min_freq=619\n",
      "bpe_model_trainer.cc(268) LOG(INFO) Added: freq=2597 size=1520 all=66481 active=3736 piece=▁adm\n",
      "bpe_model_trainer.cc(268) LOG(INFO) Added: freq=2549 size=1540 all=66935 active=4190 piece=▁although\n",
      "bpe_model_trainer.cc(268) LOG(INFO) Added: freq=2491 size=1560 all=67431 active=4686 piece=▁self\n",
      "bpe_model_trainer.cc(268) LOG(INFO) Added: freq=2442 size=1580 all=67862 active=5117 piece=▁Char\n",
      "bpe_model_trainer.cc(268) LOG(INFO) Added: freq=2403 size=1600 all=68268 active=5523 piece=sych\n",
      "bpe_model_trainer.cc(159) LOG(INFO) Updating active symbols. max_freq=2399 min_freq=578\n",
      "bpe_model_trainer.cc(268) LOG(INFO) Added: freq=2370 size=1620 all=68618 active=3739 piece=▁mag\n",
      "bpe_model_trainer.cc(268) LOG(INFO) Added: freq=2327 size=1640 all=69221 active=4342 piece=▁stra\n",
      "bpe_model_trainer.cc(268) LOG(INFO) Added: freq=2294 size=1660 all=69644 active=4765 piece=▁contin\n",
      "bpe_model_trainer.cc(268) LOG(INFO) Added: freq=2260 size=1680 all=69946 active=5067 piece=▁Robert\n",
      "bpe_model_trainer.cc(268) LOG(INFO) Added: freq=2224 size=1700 all=70427 active=5548 piece=▁opp\n",
      "bpe_model_trainer.cc(159) LOG(INFO) Updating active symbols. max_freq=2224 min_freq=544\n",
      "bpe_model_trainer.cc(268) LOG(INFO) Added: freq=2193 size=1720 all=70896 active=3981 piece=▁decent\n",
      "bpe_model_trainer.cc(268) LOG(INFO) Added: freq=2151 size=1740 all=71320 active=4405 piece=ys\n",
      "bpe_model_trainer.cc(268) LOG(INFO) Added: freq=2109 size=1760 all=71900 active=4985 piece=▁tele\n",
      "bpe_model_trainer.cc(268) LOG(INFO) Added: freq=2078 size=1780 all=72384 active=5469 piece=ters\n",
      "bpe_model_trainer.cc(268) LOG(INFO) Added: freq=2047 size=1800 all=72878 active=5963 piece=aves\n",
      "bpe_model_trainer.cc(159) LOG(INFO) Updating active symbols. max_freq=2047 min_freq=509\n",
      "bpe_model_trainer.cc(268) LOG(INFO) Added: freq=2019 size=1820 all=73307 active=4037 piece=▁uni\n",
      "bpe_model_trainer.cc(268) LOG(INFO) Added: freq=1992 size=1840 all=73580 active=4310 piece=rench\n",
      "bpe_model_trainer.cc(268) LOG(INFO) Added: freq=1968 size=1860 all=74252 active=4982 piece=cer\n",
      "bpe_model_trainer.cc(268) LOG(INFO) Added: freq=1941 size=1880 all=75104 active=5834 piece=▁known\n",
      "bpe_model_trainer.cc(268) LOG(INFO) Added: freq=1916 size=1900 all=75692 active=6422 piece=▁highly\n",
      "bpe_model_trainer.cc(159) LOG(INFO) Updating active symbols. max_freq=1915 min_freq=475\n",
      "bpe_model_trainer.cc(268) LOG(INFO) Added: freq=1883 size=1920 all=75841 active=3934 piece=▁yourself\n",
      "bpe_model_trainer.cc(268) LOG(INFO) Added: freq=1862 size=1940 all=76110 active=4203 piece=ubl\n",
      "bpe_model_trainer.cc(268) LOG(INFO) Added: freq=1843 size=1960 all=76576 active=4669 piece=▁writer\n",
      "bpe_model_trainer.cc(268) LOG(INFO) Added: freq=1814 size=1980 all=76919 active=5012 piece=bel\n",
      "bpe_model_trainer.cc(268) LOG(INFO) Added: freq=1798 size=2000 all=77360 active=5453 piece=▁moder\n",
      "bpe_model_trainer.cc(159) LOG(INFO) Updating active symbols. max_freq=1797 min_freq=452\n",
      "bpe_model_trainer.cc(268) LOG(INFO) Added: freq=1780 size=2020 all=77498 active=3996 piece=▁turned\n",
      "bpe_model_trainer.cc(268) LOG(INFO) Added: freq=1748 size=2040 all=77953 active=4451 piece=ald\n",
      "bpe_model_trainer.cc(268) LOG(INFO) Added: freq=1716 size=2060 all=78455 active=4953 piece=lt\n",
      "bpe_model_trainer.cc(268) LOG(INFO) Added: freq=1703 size=2080 all=79062 active=5560 piece=▁among\n",
      "bpe_model_trainer.cc(268) LOG(INFO) Added: freq=1676 size=2100 all=79338 active=5836 piece=EN\n",
      "bpe_model_trainer.cc(159) LOG(INFO) Updating active symbols. max_freq=1676 min_freq=427\n",
      "bpe_model_trainer.cc(268) LOG(INFO) Added: freq=1654 size=2120 all=79631 active=4189 piece=lo\n",
      "bpe_model_trainer.cc(268) LOG(INFO) Added: freq=1624 size=2140 all=80075 active=4633 piece=▁sets\n",
      "bpe_model_trainer.cc(268) LOG(INFO) Added: freq=1602 size=2160 all=80421 active=4979 piece=▁upon\n",
      "bpe_model_trainer.cc(268) LOG(INFO) Added: freq=1581 size=2180 all=80746 active=5304 piece=▁clearly\n",
      "bpe_model_trainer.cc(268) LOG(INFO) Added: freq=1562 size=2200 all=80931 active=5489 piece=▁feature\n",
      "bpe_model_trainer.cc(159) LOG(INFO) Updating active symbols. max_freq=1560 min_freq=409\n",
      "bpe_model_trainer.cc(268) LOG(INFO) Added: freq=1542 size=2220 all=81278 active=4392 piece=▁showing\n",
      "bpe_model_trainer.cc(268) LOG(INFO) Added: freq=1522 size=2240 all=81672 active=4786 piece=ltim\n",
      "bpe_model_trainer.cc(268) LOG(INFO) Added: freq=1504 size=2260 all=82115 active=5229 piece=▁George\n",
      "bpe_model_trainer.cc(268) LOG(INFO) Added: freq=1491 size=2280 all=82571 active=5685 piece=▁easy\n",
      "bpe_model_trainer.cc(268) LOG(INFO) Added: freq=1474 size=2300 all=82834 active=5948 piece=upp\n",
      "bpe_model_trainer.cc(159) LOG(INFO) Updating active symbols. max_freq=1473 min_freq=387\n",
      "bpe_model_trainer.cc(268) LOG(INFO) Added: freq=1450 size=2320 all=83095 active=4348 piece=▁Richard\n",
      "bpe_model_trainer.cc(268) LOG(INFO) Added: freq=1433 size=2340 all=83341 active=4594 piece=▁truth\n",
      "bpe_model_trainer.cc(268) LOG(INFO) Added: freq=1409 size=2360 all=83907 active=5160 piece=lin\n",
      "bpe_model_trainer.cc(268) LOG(INFO) Added: freq=1398 size=2380 all=84329 active=5582 piece=▁city\n",
      "bpe_model_trainer.cc(268) LOG(INFO) Added: freq=1376 size=2400 all=84528 active=5781 piece=▁sens\n",
      "bpe_model_trainer.cc(159) LOG(INFO) Updating active symbols. max_freq=1373 min_freq=370\n",
      "bpe_model_trainer.cc(268) LOG(INFO) Added: freq=1360 size=2420 all=85042 active=4721 piece=▁wait\n",
      "bpe_model_trainer.cc(268) LOG(INFO) Added: freq=1339 size=2440 all=85412 active=5091 piece=▁Peter\n",
      "bpe_model_trainer.cc(268) LOG(INFO) Added: freq=1322 size=2460 all=85768 active=5447 piece=▁utter\n",
      "bpe_model_trainer.cc(268) LOG(INFO) Added: freq=1309 size=2480 all=86027 active=5706 piece=▁lame\n",
      "bpe_model_trainer.cc(268) LOG(INFO) Added: freq=1296 size=2500 all=86374 active=6053 piece=▁Com\n",
      "bpe_model_trainer.cc(159) LOG(INFO) Updating active symbols. max_freq=1296 min_freq=352\n",
      "bpe_model_trainer.cc(268) LOG(INFO) Added: freq=1279 size=2520 all=86796 active=4708 piece=▁monster\n",
      "bpe_model_trainer.cc(268) LOG(INFO) Added: freq=1262 size=2540 all=87211 active=5123 piece=▁perfectly\n",
      "bpe_model_trainer.cc(268) LOG(INFO) Added: freq=1250 size=2560 all=87549 active=5461 piece=▁Par\n",
      "bpe_model_trainer.cc(268) LOG(INFO) Added: freq=1240 size=2580 all=87903 active=5815 piece=▁law\n",
      "bpe_model_trainer.cc(268) LOG(INFO) Added: freq=1227 size=2600 all=88309 active=6221 piece=My\n",
      "bpe_model_trainer.cc(159) LOG(INFO) Updating active symbols. max_freq=1227 min_freq=337\n",
      "bpe_model_trainer.cc(268) LOG(INFO) Added: freq=1214 size=2620 all=88696 active=4789 piece=▁conne\n",
      "bpe_model_trainer.cc(268) LOG(INFO) Added: freq=1202 size=2640 all=89060 active=5153 piece=allow\n",
      "bpe_model_trainer.cc(268) LOG(INFO) Added: freq=1191 size=2660 all=89335 active=5428 piece=▁incredibly\n",
      "bpe_model_trainer.cc(268) LOG(INFO) Added: freq=1179 size=2680 all=89740 active=5833 piece=▁conv\n",
      "bpe_model_trainer.cc(268) LOG(INFO) Added: freq=1165 size=2700 all=90011 active=6104 piece=▁occas\n",
      "bpe_model_trainer.cc(159) LOG(INFO) Updating active symbols. max_freq=1165 min_freq=324\n",
      "bpe_model_trainer.cc(268) LOG(INFO) Added: freq=1152 size=2720 all=90351 active=4838 piece=▁invest\n",
      "bpe_model_trainer.cc(268) LOG(INFO) Added: freq=1140 size=2740 all=90728 active=5215 piece=▁manages\n",
      "bpe_model_trainer.cc(268) LOG(INFO) Added: freq=1122 size=2760 all=91194 active=5681 piece=▁langu\n",
      "bpe_model_trainer.cc(268) LOG(INFO) Added: freq=1109 size=2780 all=91436 active=5923 piece=mist\n",
      "bpe_model_trainer.cc(268) LOG(INFO) Added: freq=1099 size=2800 all=91710 active=6197 piece=▁fighting\n",
      "bpe_model_trainer.cc(159) LOG(INFO) Updating active symbols. max_freq=1096 min_freq=310\n",
      "bpe_model_trainer.cc(268) LOG(INFO) Added: freq=1088 size=2820 all=92153 active=5029 piece=▁outside\n",
      "bpe_model_trainer.cc(268) LOG(INFO) Added: freq=1078 size=2840 all=92542 active=5418 piece=▁30\n",
      "bpe_model_trainer.cc(268) LOG(INFO) Added: freq=1067 size=2860 all=92815 active=5691 piece=▁Other\n",
      "bpe_model_trainer.cc(268) LOG(INFO) Added: freq=1058 size=2880 all=93052 active=5928 piece=IS\n",
      "bpe_model_trainer.cc(268) LOG(INFO) Added: freq=1047 size=2900 all=93391 active=6267 piece=▁former\n",
      "bpe_model_trainer.cc(159) LOG(INFO) Updating active symbols. max_freq=1046 min_freq=297\n",
      "bpe_model_trainer.cc(268) LOG(INFO) Added: freq=1038 size=2920 all=93661 active=4939 piece=▁hardly\n",
      "bpe_model_trainer.cc(268) LOG(INFO) Added: freq=1029 size=2940 all=93886 active=5164 piece=ging\n",
      "bpe_model_trainer.cc(268) LOG(INFO) Added: freq=1020 size=2960 all=94303 active=5581 piece=▁accent\n",
      "bpe_model_trainer.cc(268) LOG(INFO) Added: freq=1008 size=2980 all=94523 active=5801 piece=▁rate\n",
      "bpe_model_trainer.cc(268) LOG(INFO) Added: freq=999 size=3000 all=94949 active=6227 piece=inger\n",
      "bpe_model_trainer.cc(159) LOG(INFO) Updating active symbols. max_freq=999 min_freq=284\n",
      "bpe_model_trainer.cc(268) LOG(INFO) Added: freq=984 size=3020 all=95332 active=5082 piece=this\n",
      "bpe_model_trainer.cc(268) LOG(INFO) Added: freq=972 size=3040 all=95633 active=5383 piece=▁ground\n",
      "bpe_model_trainer.cc(268) LOG(INFO) Added: freq=965 size=3060 all=95961 active=5711 piece=▁humour\n",
      "bpe_model_trainer.cc(268) LOG(INFO) Added: freq=954 size=3080 all=96303 active=6053 piece=ribly\n",
      "bpe_model_trainer.cc(268) LOG(INFO) Added: freq=944 size=3100 all=96676 active=6426 piece=▁otherwise\n",
      "bpe_model_trainer.cc(159) LOG(INFO) Updating active symbols. max_freq=943 min_freq=274\n",
      "bpe_model_trainer.cc(268) LOG(INFO) Added: freq=939 size=3120 all=96859 active=5017 piece=▁changed\n",
      "bpe_model_trainer.cc(268) LOG(INFO) Added: freq=928 size=3140 all=96967 active=5125 piece=▁Love\n",
      "bpe_model_trainer.cc(268) LOG(INFO) Added: freq=915 size=3160 all=97266 active=5424 piece=▁suc\n",
      "bpe_model_trainer.cc(268) LOG(INFO) Added: freq=909 size=3180 all=97465 active=5623 piece=▁suddenly\n",
      "bpe_model_trainer.cc(268) LOG(INFO) Added: freq=902 size=3200 all=97669 active=5827 piece=▁trash\n",
      "bpe_model_trainer.cc(159) LOG(INFO) Updating active symbols. max_freq=901 min_freq=268\n",
      "bpe_model_trainer.cc(268) LOG(INFO) Added: freq=893 size=3220 all=97834 active=5042 piece=ales\n",
      "bpe_model_trainer.cc(268) LOG(INFO) Added: freq=887 size=3240 all=98305 active=5513 piece=▁repl\n",
      "bpe_model_trainer.cc(268) LOG(INFO) Added: freq=878 size=3260 all=98613 active=5821 piece=▁govern\n",
      "bpe_model_trainer.cc(268) LOG(INFO) Added: freq=872 size=3280 all=98794 active=6002 piece=▁House\n",
      "bpe_model_trainer.cc(268) LOG(INFO) Added: freq=864 size=3300 all=99109 active=6317 piece=▁fashion\n",
      "bpe_model_trainer.cc(159) LOG(INFO) Updating active symbols. max_freq=863 min_freq=259\n",
      "bpe_model_trainer.cc(268) LOG(INFO) Added: freq=857 size=3320 all=99498 active=5339 piece=lessly\n",
      "bpe_model_trainer.cc(268) LOG(INFO) Added: freq=848 size=3340 all=99939 active=5780 piece=▁smart\n",
      "bpe_model_trainer.cc(268) LOG(INFO) Added: freq=841 size=3360 all=100366 active=6207 piece=��sav\n",
      "bpe_model_trainer.cc(268) LOG(INFO) Added: freq=833 size=3380 all=100548 active=6389 piece=▁Bat\n",
      "bpe_model_trainer.cc(268) LOG(INFO) Added: freq=827 size=3400 all=100758 active=6599 piece=▁soldiers\n",
      "bpe_model_trainer.cc(159) LOG(INFO) Updating active symbols. max_freq=826 min_freq=249\n",
      "bpe_model_trainer.cc(268) LOG(INFO) Added: freq=819 size=3420 all=100893 active=5173 piece=▁Austral\n",
      "bpe_model_trainer.cc(268) LOG(INFO) Added: freq=814 size=3440 all=101090 active=5370 piece=▁emotions\n",
      "bpe_model_trainer.cc(268) LOG(INFO) Added: freq=807 size=3460 all=101301 active=5581 piece=▁charming\n",
      "bpe_model_trainer.cc(268) LOG(INFO) Added: freq=800 size=3480 all=101521 active=5801 piece=▁High\n",
      "bpe_model_trainer.cc(268) LOG(INFO) Added: freq=795 size=3500 all=101803 active=6083 piece=▁historical\n",
      "bpe_model_trainer.cc(159) LOG(INFO) Updating active symbols. max_freq=794 min_freq=242\n",
      "bpe_model_trainer.cc(268) LOG(INFO) Added: freq=787 size=3520 all=102019 active=5307 piece=arsh\n",
      "bpe_model_trainer.cc(268) LOG(INFO) Added: freq=780 size=3540 all=102203 active=5491 piece=field\n",
      "bpe_model_trainer.cc(268) LOG(INFO) Added: freq=773 size=3560 all=102483 active=5771 piece=▁soft\n",
      "bpe_model_trainer.cc(268) LOG(INFO) Added: freq=767 size=3580 all=102746 active=6034 piece=▁makers\n",
      "bpe_model_trainer.cc(268) LOG(INFO) Added: freq=760 size=3600 all=103035 active=6323 piece=CH\n",
      "bpe_model_trainer.cc(159) LOG(INFO) Updating active symbols. max_freq=759 min_freq=235\n",
      "bpe_model_trainer.cc(268) LOG(INFO) Added: freq=754 size=3620 all=103296 active=5350 piece=▁element\n",
      "bpe_model_trainer.cc(268) LOG(INFO) Added: freq=748 size=3640 all=103429 active=5483 piece=▁current\n",
      "bpe_model_trainer.cc(268) LOG(INFO) Added: freq=742 size=3660 all=103734 active=5788 piece=▁drive\n",
      "bpe_model_trainer.cc(268) LOG(INFO) Added: freq=733 size=3680 all=104079 active=6133 piece=▁Yet\n",
      "bpe_model_trainer.cc(268) LOG(INFO) Added: freq=728 size=3700 all=104262 active=6316 piece=▁students\n",
      "bpe_model_trainer.cc(159) LOG(INFO) Updating active symbols. max_freq=727 min_freq=228\n",
      "bpe_model_trainer.cc(268) LOG(INFO) Added: freq=722 size=3720 all=104656 active=5608 piece=▁irrit\n",
      "bpe_model_trainer.cc(268) LOG(INFO) Added: freq=714 size=3740 all=104904 active=5856 piece=▁trag\n",
      "bpe_model_trainer.cc(268) LOG(INFO) Added: freq=710 size=3760 all=105065 active=6017 piece=▁drawn\n",
      "bpe_model_trainer.cc(268) LOG(INFO) Added: freq=704 size=3780 all=105248 active=6200 piece=▁confused\n",
      "bpe_model_trainer.cc(268) LOG(INFO) Added: freq=699 size=3800 all=105546 active=6498 piece=▁hospital\n",
      "bpe_model_trainer.cc(159) LOG(INFO) Updating active symbols. max_freq=698 min_freq=222\n",
      "bpe_model_trainer.cc(268) LOG(INFO) Added: freq=693 size=3820 all=105868 active=5596 piece=▁delivers\n",
      "bpe_model_trainer.cc(268) LOG(INFO) Added: freq=687 size=3840 all=106210 active=5938 piece=▁paid\n",
      "bpe_model_trainer.cc(268) LOG(INFO) Added: freq=683 size=3860 all=106448 active=6176 piece=▁anymore\n",
      "bpe_model_trainer.cc(268) LOG(INFO) Added: freq=676 size=3880 all=106621 active=6349 piece=azz\n",
      "bpe_model_trainer.cc(268) LOG(INFO) Added: freq=672 size=3900 all=106986 active=6714 piece=▁bi\n",
      "bpe_model_trainer.cc(159) LOG(INFO) Updating active symbols. max_freq=672 min_freq=216\n",
      "bpe_model_trainer.cc(268) LOG(INFO) Added: freq=669 size=3920 all=107192 active=5540 piece=▁market\n",
      "bpe_model_trainer.cc(268) LOG(INFO) Added: freq=664 size=3940 all=107352 active=5700 piece=----\n",
      "bpe_model_trainer.cc(268) LOG(INFO) Added: freq=661 size=3960 all=107606 active=5954 piece=▁mediocre\n",
      "bpe_model_trainer.cc(268) LOG(INFO) Added: freq=657 size=3980 all=107916 active=6264 piece=stein\n",
      "bpe_model_trainer.cc(268) LOG(INFO) Added: freq=652 size=4000 all=108207 active=6555 piece=she\n",
      "bpe_model_trainer.cc(159) LOG(INFO) Updating active symbols. max_freq=652 min_freq=211\n",
      "bpe_model_trainer.cc(268) LOG(INFO) Added: freq=649 size=4020 all=108425 active=5601 piece=iday\n",
      "bpe_model_trainer.cc(268) LOG(INFO) Added: freq=646 size=4040 all=108612 active=5788 piece=athetic\n",
      "bpe_model_trainer.cc(268) LOG(INFO) Added: freq=641 size=4060 all=108924 active=6100 piece=▁/>-\n",
      "bpe_model_trainer.cc(268) LOG(INFO) Added: freq=637 size=4080 all=109090 active=6266 piece=▁professional\n",
      "bpe_model_trainer.cc(268) LOG(INFO) Added: freq=632 size=4100 all=109391 active=6567 piece=herent\n",
      "bpe_model_trainer.cc(159) LOG(INFO) Updating active symbols. max_freq=632 min_freq=205\n",
      "bpe_model_trainer.cc(268) LOG(INFO) Added: freq=626 size=4120 all=109568 active=5638 piece=requ\n",
      "bpe_model_trainer.cc(268) LOG(INFO) Added: freq=620 size=4140 all=109810 active=5880 piece=▁angry\n",
      "bpe_model_trainer.cc(268) LOG(INFO) Added: freq=615 size=4160 all=110016 active=6086 piece=▁Once\n",
      "bpe_model_trainer.cc(268) LOG(INFO) Added: freq=611 size=4180 all=110380 active=6450 piece=ovies\n",
      "bpe_model_trainer.cc(268) LOG(INFO) Added: freq=608 size=4200 all=110593 active=6663 piece=▁favourite\n",
      "bpe_model_trainer.cc(159) LOG(INFO) Updating active symbols. max_freq=607 min_freq=200\n",
      "bpe_model_trainer.cc(268) LOG(INFO) Added: freq=603 size=4220 all=110870 active=5807 piece=▁epic\n",
      "bpe_model_trainer.cc(268) LOG(INFO) Added: freq=599 size=4240 all=111175 active=6112 piece=▁numbers\n",
      "bpe_model_trainer.cc(268) LOG(INFO) Added: freq=596 size=4260 all=111371 active=6308 piece=▁brutal\n",
      "bpe_model_trainer.cc(268) LOG(INFO) Added: freq=591 size=4280 all=111435 active=6372 piece=▁anywhere\n",
      "bpe_model_trainer.cc(268) LOG(INFO) Added: freq=587 size=4300 all=111683 active=6620 piece=▁rape\n",
      "bpe_model_trainer.cc(159) LOG(INFO) Updating active symbols. max_freq=587 min_freq=195\n",
      "bpe_model_trainer.cc(268) LOG(INFO) Added: freq=583 size=4320 all=111870 active=5768 piece=▁IN\n",
      "bpe_model_trainer.cc(268) LOG(INFO) Added: freq=580 size=4340 all=112088 active=5986 piece=▁Wal\n",
      "bpe_model_trainer.cc(268) LOG(INFO) Added: freq=575 size=4360 all=112329 active=6227 piece=AM\n",
      "bpe_model_trainer.cc(268) LOG(INFO) Added: freq=570 size=4380 all=112744 active=6642 piece=▁ted\n",
      "bpe_model_trainer.cc(268) LOG(INFO) Added: freq=567 size=4400 all=112963 active=6861 piece=pective\n",
      "bpe_model_trainer.cc(159) LOG(INFO) Updating active symbols. max_freq=567 min_freq=190\n",
      "bpe_model_trainer.cc(268) LOG(INFO) Added: freq=563 size=4420 all=113192 active=5874 piece=hand\n",
      "bpe_model_trainer.cc(268) LOG(INFO) Added: freq=559 size=4440 all=113402 active=6084 piece=ET\n",
      "bpe_model_trainer.cc(268) LOG(INFO) Added: freq=557 size=4460 all=113580 active=6262 piece=▁hurt\n",
      "bpe_model_trainer.cc(268) LOG(INFO) Added: freq=553 size=4480 all=113825 active=6507 piece=▁Sus\n",
      "bpe_model_trainer.cc(268) LOG(INFO) Added: freq=549 size=4500 all=113976 active=6658 piece=ipul\n",
      "bpe_model_trainer.cc(159) LOG(INFO) Updating active symbols. max_freq=549 min_freq=185\n",
      "bpe_model_trainer.cc(268) LOG(INFO) Added: freq=546 size=4520 all=114221 active=5927 piece=▁tight\n",
      "bpe_model_trainer.cc(268) LOG(INFO) Added: freq=542 size=4540 all=114435 active=6141 piece=star\n",
      "bpe_model_trainer.cc(268) LOG(INFO) Added: freq=539 size=4560 all=114626 active=6332 piece=unter\n",
      "bpe_model_trainer.cc(268) LOG(INFO) Added: freq=535 size=4580 all=114875 active=6581 piece=John\n",
      "bpe_model_trainer.cc(268) LOG(INFO) Added: freq=532 size=4600 all=115057 active=6763 piece=ennifer\n",
      "bpe_model_trainer.cc(159) LOG(INFO) Updating active symbols. max_freq=532 min_freq=182\n",
      "bpe_model_trainer.cc(268) LOG(INFO) Added: freq=529 size=4620 all=115218 active=5909 piece=▁fights\n",
      "bpe_model_trainer.cc(268) LOG(INFO) Added: freq=526 size=4640 all=115360 active=6051 piece=▁stret\n",
      "bpe_model_trainer.cc(268) LOG(INFO) Added: freq=523 size=4660 all=115615 active=6306 piece=▁capture\n",
      "bpe_model_trainer.cc(268) LOG(INFO) Added: freq=520 size=4680 all=115852 active=6543 piece=▁net\n",
      "bpe_model_trainer.cc(268) LOG(INFO) Added: freq=517 size=4700 all=115978 active=6669 piece=▁finest\n",
      "bpe_model_trainer.cc(159) LOG(INFO) Updating active symbols. max_freq=516 min_freq=177\n",
      "bpe_model_trainer.cc(268) LOG(INFO) Added: freq=513 size=4720 all=116127 active=5948 piece=viron\n",
      "bpe_model_trainer.cc(268) LOG(INFO) Added: freq=511 size=4740 all=116361 active=6182 piece=▁incomp\n",
      "bpe_model_trainer.cc(268) LOG(INFO) Added: freq=507 size=4760 all=116494 active=6315 piece=screen\n",
      "bpe_model_trainer.cc(268) LOG(INFO) Added: freq=503 size=4780 all=116903 active=6724 piece=▁guns\n",
      "bpe_model_trainer.cc(268) LOG(INFO) Added: freq=501 size=4800 all=117032 active=6853 piece=▁terribly\n",
      "bpe_model_trainer.cc(159) LOG(INFO) Updating active symbols. max_freq=500 min_freq=173\n",
      "bpe_model_trainer.cc(268) LOG(INFO) Added: freq=497 size=4820 all=117325 active=6145 piece=unn\n",
      "bpe_model_trainer.cc(268) LOG(INFO) Added: freq=495 size=4840 all=117594 active=6414 piece=▁toward\n",
      "bpe_model_trainer.cc(268) LOG(INFO) Added: freq=492 size=4860 all=117911 active=6731 piece=edding\n",
      "bpe_model_trainer.cc(268) LOG(INFO) Added: freq=489 size=4880 all=118123 active=6943 piece=▁levels\n",
      "bpe_model_trainer.cc(268) LOG(INFO) Added: freq=487 size=4900 all=118232 active=7052 piece=▁attitude\n",
      "bpe_model_trainer.cc(159) LOG(INFO) Updating active symbols. max_freq=486 min_freq=168\n",
      "bpe_model_trainer.cc(268) LOG(INFO) Added: freq=484 size=4920 all=118461 active=6141 piece=▁kiss\n",
      "trainer_interface.cc(686) LOG(INFO) Saving model: imdb.model\n",
      "trainer_interface.cc(698) LOG(INFO) Saving vocabs: imdb.vocab\n"
     ]
    }
   ],
   "source": [
    "model_path = \"../model/\"\n",
    "model_name = model_path + \"imdb_bpe.model\"\n",
    "vocab_name = model_path + \"imdb_bpe.vocab\"\n",
    "\n",
    "spm.SentencePieceTrainer.Train('--input=../data/imdb_review.txt --model_prefix=imdb --vocab_size=5000 --model_type=bpe --max_sentence_length=9999')\n",
    "\n",
    "# move model and vocab file to model folder\n",
    "os.rename(\"imdb.model\", model_name)\n",
    "os.rename(\"imdb.vocab\", vocab_name)"
   ],
   "metadata": {
    "collapsed": false,
    "ExecuteTime": {
     "end_time": "2023-12-02T03:48:09.077728Z",
     "start_time": "2023-12-02T03:48:09.075498Z"
    }
   },
   "id": "c89ceb2ce7258df1"
  },
  {
   "cell_type": "markdown",
   "source": [
    "### sentencepiece parameters\n",
    "#### https://github.com/google/sentencepiece#usage-instructions\n",
    "--input: one-sentence-per-line raw corpus file. No need to run tokenizer, normalizer or preprocessor. By default, SentencePiece normalizes the input with Unicode NFKC. You can pass a comma-separated list of files.\n",
    "--model_prefix: output model name prefix. <model_name>.model and <model_name>.vocab are generated.\n",
    "--vocab_size: vocabulary size, e.g., 8000, 16000, or 32000\n",
    "--character_coverage: amount of characters covered by the model, good defaults are: 0.9995 for languages with rich character set like Japanese or Chinese and 1.0 for other languages with small character set.\n",
    "--model_type: model type. Choose from unigram (default), bpe, char, or word. The input sentence must be pretokenized when using word type."
   ],
   "metadata": {
    "collapsed": false
   },
   "id": "7885522c8e8fa4e7"
  },
  {
   "cell_type": "code",
   "execution_count": 13,
   "outputs": [
    {
     "name": "stdout",
     "output_type": "stream",
     "text": [
      "5000\n"
     ]
    },
    {
     "data": {
      "text/plain": "       0  1\n0  <unk>  0\n1    <s>  0\n2   </s>  0\n3     ▁t  0\n4     ▁a -1\n5     he -2\n6     in -3\n7   ▁the -4\n8     ▁s -5\n9     re -6",
      "text/html": "<div>\n<style scoped>\n    .dataframe tbody tr th:only-of-type {\n        vertical-align: middle;\n    }\n\n    .dataframe tbody tr th {\n        vertical-align: top;\n    }\n\n    .dataframe thead th {\n        text-align: right;\n    }\n</style>\n<table border=\"1\" class=\"dataframe\">\n  <thead>\n    <tr style=\"text-align: right;\">\n      <th></th>\n      <th>0</th>\n      <th>1</th>\n    </tr>\n  </thead>\n  <tbody>\n    <tr>\n      <th>0</th>\n      <td>&lt;unk&gt;</td>\n      <td>0</td>\n    </tr>\n    <tr>\n      <th>1</th>\n      <td>&lt;s&gt;</td>\n      <td>0</td>\n    </tr>\n    <tr>\n      <th>2</th>\n      <td>&lt;/s&gt;</td>\n      <td>0</td>\n    </tr>\n    <tr>\n      <th>3</th>\n      <td>▁t</td>\n      <td>0</td>\n    </tr>\n    <tr>\n      <th>4</th>\n      <td>▁a</td>\n      <td>-1</td>\n    </tr>\n    <tr>\n      <th>5</th>\n      <td>he</td>\n      <td>-2</td>\n    </tr>\n    <tr>\n      <th>6</th>\n      <td>in</td>\n      <td>-3</td>\n    </tr>\n    <tr>\n      <th>7</th>\n      <td>▁the</td>\n      <td>-4</td>\n    </tr>\n    <tr>\n      <th>8</th>\n      <td>▁s</td>\n      <td>-5</td>\n    </tr>\n    <tr>\n      <th>9</th>\n      <td>re</td>\n      <td>-6</td>\n    </tr>\n  </tbody>\n</table>\n</div>"
     },
     "execution_count": 13,
     "metadata": {},
     "output_type": "execute_result"
    }
   ],
   "source": [
    "# check vocab file\n",
    "vocab_list = pd.read_csv(model_path + \"imdb_bpe.vocab\", sep=\"\\t\", header=None, quoting=csv.QUOTE_NONE) # no quoting\n",
    "\n",
    "print(len(vocab_list))\n",
    "vocab_list.head(10)"
   ],
   "metadata": {
    "collapsed": false,
    "ExecuteTime": {
     "end_time": "2023-12-02T03:56:16.135702Z",
     "start_time": "2023-12-02T03:56:16.129461Z"
    }
   },
   "id": "311efa94b48527de"
  },
  {
   "cell_type": "code",
   "execution_count": 14,
   "outputs": [
    {
     "data": {
      "text/plain": "True"
     },
     "execution_count": 14,
     "metadata": {},
     "output_type": "execute_result"
    }
   ],
   "source": [
    "# load model file\n",
    "sp = spm.SentencePieceProcessor()\n",
    "sp.Load(model_name)"
   ],
   "metadata": {
    "collapsed": false,
    "ExecuteTime": {
     "end_time": "2023-12-02T03:57:28.002750Z",
     "start_time": "2023-12-02T03:57:28.000913Z"
    }
   },
   "id": "fef36c1bc0993cde"
  },
  {
   "cell_type": "markdown",
   "source": [
    "## Using SentencePiece"
   ],
   "metadata": {
    "collapsed": false
   },
   "id": "b2ab2a003bb4e30a"
  },
  {
   "cell_type": "code",
   "execution_count": 15,
   "outputs": [],
   "source": [
    "lines = [\n",
    "\"I didn't like the movie at all.\",\n",
    "    \"The movie was good.\",\n",
    "    \"The movie was not bad.\",\n",
    "    \"I liked the movie very much.\"\n",
    "]"
   ],
   "metadata": {
    "collapsed": false,
    "ExecuteTime": {
     "end_time": "2023-12-02T04:03:15.187447Z",
     "start_time": "2023-12-02T04:03:15.181878Z"
    }
   },
   "id": "3f7b0a15619a54e1"
  },
  {
   "cell_type": "code",
   "execution_count": 21,
   "outputs": [
    {
     "name": "stdout",
     "output_type": "stream",
     "text": [
      "['▁I', '▁didn', \"'\", 't', '▁like', '▁the', '▁movie', '▁at', '▁all', '.']\n",
      "[41, 624, 4950, 4926, 197, 7, 106, 139, 170, 4945]\n",
      "['▁The', '▁movie', '▁was', '▁good', '.']\n",
      "[105, 106, 84, 253, 4945]\n",
      "['▁The', '▁movie', '▁was', '▁not', '▁bad', '.']\n",
      "[105, 106, 84, 120, 349, 4945]\n",
      "['▁I', '▁liked', '▁the', '▁movie', '▁very', '▁much', '.']\n",
      "[41, 1412, 7, 106, 270, 347, 4945]\n",
      "5000\n",
      ".\n",
      "4945\n",
      "I liked the movie very much.\n",
      "The movie was not bad.\n"
     ]
    }
   ],
   "source": [
    "for line in lines:\n",
    "    print(sp.encode_as_pieces(line)) # tokenize\n",
    "    print(sp.encode_as_ids(line)) # index\n",
    "    \n",
    "print(sp.GetPieceSize()) # vocab size\n",
    "print(sp.IdToPiece(4945)) # index to token\n",
    "print(sp.PieceToId(\".\")) # token to index\n",
    "print(sp.DecodeIds([41, 1412, 7, 106, 270, 347, 4945]))\n",
    "print(sp.DecodePieces(['▁The', '▁movie', '▁was', '▁not', '▁bad', '.']))"
   ],
   "metadata": {
    "collapsed": false,
    "ExecuteTime": {
     "end_time": "2023-12-02T04:09:30.947938Z",
     "start_time": "2023-12-02T04:09:30.945135Z"
    }
   },
   "id": "7da55832e76cc86b"
  },
  {
   "cell_type": "code",
   "execution_count": null,
   "outputs": [],
   "source": [],
   "metadata": {
    "collapsed": false
   },
   "id": "e93be5ca628e545e"
  }
 ],
 "metadata": {
  "kernelspec": {
   "display_name": "Python 3",
   "language": "python",
   "name": "python3"
  },
  "language_info": {
   "codemirror_mode": {
    "name": "ipython",
    "version": 2
   },
   "file_extension": ".py",
   "mimetype": "text/x-python",
   "name": "python",
   "nbconvert_exporter": "python",
   "pygments_lexer": "ipython2",
   "version": "2.7.6"
  }
 },
 "nbformat": 4,
 "nbformat_minor": 5
}
