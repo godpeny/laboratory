{
 "cells": [
  {
   "cell_type": "code",
   "execution_count": 12,
   "id": "initial_id",
   "metadata": {
    "collapsed": true,
    "ExecuteTime": {
     "end_time": "2023-12-02T04:27:18.837534Z",
     "start_time": "2023-12-02T04:27:18.834475Z"
    }
   },
   "outputs": [],
   "source": [
    "import numpy as np\n",
    "import pandas as pd\n",
    "\n",
    "import os\n",
    "import csv\n",
    "\n",
    "import sentencepiece as spm"
   ]
  },
  {
   "cell_type": "code",
   "execution_count": 3,
   "outputs": [
    {
     "name": "stdout",
     "output_type": "stream",
     "text": [
      "200000\n"
     ]
    },
    {
     "data": {
      "text/plain": "         id                                           document  label\n0   8112052                                어릴때보고 지금다시봐도 재밌어요ㅋㅋ      1\n1   8132799  디자인을 배우는 학생으로, 외국디자이너와 그들이 일군 전통을 통해 발전해가는 문화산...      1\n2   4655635               폴리스스토리 시리즈는 1부터 뉴까지 버릴께 하나도 없음.. 최고.      1\n3   9251303  와.. 연기가 진짜 개쩔구나.. 지루할거라고 생각했는데 몰입해서 봤다.. 그래 이런...      1\n4  10067386                        안개 자욱한 밤하늘에 떠 있는 초승달 같은 영화.      1",
      "text/html": "<div>\n<style scoped>\n    .dataframe tbody tr th:only-of-type {\n        vertical-align: middle;\n    }\n\n    .dataframe tbody tr th {\n        vertical-align: top;\n    }\n\n    .dataframe thead th {\n        text-align: right;\n    }\n</style>\n<table border=\"1\" class=\"dataframe\">\n  <thead>\n    <tr style=\"text-align: right;\">\n      <th></th>\n      <th>id</th>\n      <th>document</th>\n      <th>label</th>\n    </tr>\n  </thead>\n  <tbody>\n    <tr>\n      <th>0</th>\n      <td>8112052</td>\n      <td>어릴때보고 지금다시봐도 재밌어요ㅋㅋ</td>\n      <td>1</td>\n    </tr>\n    <tr>\n      <th>1</th>\n      <td>8132799</td>\n      <td>디자인을 배우는 학생으로, 외국디자이너와 그들이 일군 전통을 통해 발전해가는 문화산...</td>\n      <td>1</td>\n    </tr>\n    <tr>\n      <th>2</th>\n      <td>4655635</td>\n      <td>폴리스스토리 시리즈는 1부터 뉴까지 버릴께 하나도 없음.. 최고.</td>\n      <td>1</td>\n    </tr>\n    <tr>\n      <th>3</th>\n      <td>9251303</td>\n      <td>와.. 연기가 진짜 개쩔구나.. 지루할거라고 생각했는데 몰입해서 봤다.. 그래 이런...</td>\n      <td>1</td>\n    </tr>\n    <tr>\n      <th>4</th>\n      <td>10067386</td>\n      <td>안개 자욱한 밤하늘에 떠 있는 초승달 같은 영화.</td>\n      <td>1</td>\n    </tr>\n  </tbody>\n</table>\n</div>"
     },
     "execution_count": 3,
     "metadata": {},
     "output_type": "execute_result"
    }
   ],
   "source": [
    "data_path = \"../data/\"\n",
    "df = pd.read_table(data_path + \"ratings.txt\")\n",
    "\n",
    "print(len(df))\n",
    "df.head(5)"
   ],
   "metadata": {
    "collapsed": false,
    "ExecuteTime": {
     "end_time": "2023-12-02T04:19:35.853562Z",
     "start_time": "2023-12-02T04:19:35.516330Z"
    }
   },
   "id": "580a6dac3facd85e"
  },
  {
   "cell_type": "markdown",
   "source": [
    "# Data Preprocessing"
   ],
   "metadata": {
    "collapsed": false
   },
   "id": "884f0ab99d85ccaa"
  },
  {
   "cell_type": "code",
   "execution_count": 8,
   "outputs": [
    {
     "name": "stdout",
     "output_type": "stream",
     "text": [
      "False\n",
      "None\n",
      "199992\n",
      "False\n",
      "194543\n",
      "194543\n"
     ]
    }
   ],
   "source": [
    "# drop null and duplicates\n",
    "print(df.isnull().values.any()) \n",
    "print(df.dropna(inplace=True))\n",
    "\n",
    "print(len(df))\n",
    "print(df.isnull().values.any())\n",
    "\n",
    "print(df['document'].nunique())\n",
    "df.drop_duplicates(subset=['document'], inplace=True) # document 열에서 중복인 내용이 있다면 중복 제거\n",
    "print(len(df))"
   ],
   "metadata": {
    "collapsed": false,
    "ExecuteTime": {
     "end_time": "2023-12-02T04:23:08.890859Z",
     "start_time": "2023-12-02T04:23:08.794783Z"
    }
   },
   "id": "a6c66d1825e70422"
  },
  {
   "cell_type": "markdown",
   "source": [
    "# Tokenizing with SentencePiece"
   ],
   "metadata": {
    "collapsed": false
   },
   "id": "daf4ac2b64916df8"
  },
  {
   "cell_type": "code",
   "execution_count": 11,
   "outputs": [],
   "source": [
    "with open(file=data_path + 'ratings_processed.txt', mode=\"w\", encoding='utf-8') as f:\n",
    "    f.write('\\n'.join(df['document'].tolist()))"
   ],
   "metadata": {
    "collapsed": false,
    "ExecuteTime": {
     "end_time": "2023-12-02T04:25:57.337324Z",
     "start_time": "2023-12-02T04:25:57.303348Z"
    }
   },
   "id": "a3fa5db9f7253d7f"
  },
  {
   "cell_type": "code",
   "execution_count": 13,
   "outputs": [
    {
     "name": "stderr",
     "output_type": "stream",
     "text": [
      "sentencepiece_trainer.cc(177) LOG(INFO) Running command: --input=../data/ratings_processed.txt --model_prefix=naver --vocab_size=5000 --model_type=bpe --max_sentence_length=9999\n",
      "sentencepiece_trainer.cc(77) LOG(INFO) Starts training with : \n",
      "trainer_spec {\n",
      "  input: ../data/ratings_processed.txt\n",
      "  input_format: \n",
      "  model_prefix: naver\n",
      "  model_type: BPE\n",
      "  vocab_size: 5000\n",
      "  self_test_sample_size: 0\n",
      "  character_coverage: 0.9995\n",
      "  input_sentence_size: 0\n",
      "  shuffle_input_sentence: 1\n",
      "  seed_sentencepiece_size: 1000000\n",
      "  shrinking_factor: 0.75\n",
      "  max_sentence_length: 9999\n",
      "  num_threads: 16\n",
      "  num_sub_iterations: 2\n",
      "  max_sentencepiece_length: 16\n",
      "  split_by_unicode_script: 1\n",
      "  split_by_number: 1\n",
      "  split_by_whitespace: 1\n",
      "  split_digits: 0\n",
      "  pretokenization_delimiter: \n",
      "  treat_whitespace_as_suffix: 0\n",
      "  allow_whitespace_only_pieces: 0\n",
      "  required_chars: \n",
      "  byte_fallback: 0\n",
      "  vocabulary_output_piece_score: 1\n",
      "  train_extremely_large_corpus: 0\n",
      "  hard_vocab_limit: 1\n",
      "  use_all_vocab: 0\n",
      "  unk_id: 0\n",
      "  bos_id: 1\n",
      "  eos_id: 2\n",
      "  pad_id: -1\n",
      "  unk_piece: <unk>\n",
      "  bos_piece: <s>\n",
      "  eos_piece: </s>\n",
      "  pad_piece: <pad>\n",
      "  unk_surface:  ⁇ \n",
      "  enable_differential_privacy: 0\n",
      "  differential_privacy_noise_level: 0\n",
      "  differential_privacy_clipping_threshold: 0\n",
      "}\n",
      "normalizer_spec {\n",
      "  name: nmt_nfkc\n",
      "  add_dummy_prefix: 1\n",
      "  remove_extra_whitespaces: 1\n",
      "  escape_whitespaces: 1\n",
      "  normalization_rule_tsv: \n",
      "}\n",
      "denormalizer_spec {}\n",
      "trainer_interface.cc(351) LOG(INFO) SentenceIterator is not specified. Using MultiFileSentenceIterator.\n",
      "trainer_interface.cc(183) LOG(INFO) Loading corpus: ../data/ratings_processed.txt\n",
      "trainer_interface.cc(407) LOG(INFO) Loaded all 194543 sentences\n",
      "trainer_interface.cc(423) LOG(INFO) Adding meta_piece: <unk>\n",
      "trainer_interface.cc(423) LOG(INFO) Adding meta_piece: <s>\n",
      "trainer_interface.cc(423) LOG(INFO) Adding meta_piece: </s>\n",
      "trainer_interface.cc(428) LOG(INFO) Normalizing sentences...\n",
      "trainer_interface.cc(537) LOG(INFO) all chars count=7206432\n",
      "trainer_interface.cc(548) LOG(INFO) Done: 99.9501% characters are covered.\n",
      "trainer_interface.cc(558) LOG(INFO) Alphabet size=1726\n",
      "trainer_interface.cc(559) LOG(INFO) Final character coverage=0.999501\n",
      "trainer_interface.cc(591) LOG(INFO) Done! preprocessed 194543 sentences.\n",
      "trainer_interface.cc(597) LOG(INFO) Tokenizing input sentences with whitespace: 194543\n",
      "trainer_interface.cc(608) LOG(INFO) Done! 449382\n",
      "bpe_model_trainer.cc(159) LOG(INFO) Updating active symbols. max_freq=144797 min_freq=99\n",
      "bpe_model_trainer.cc(268) LOG(INFO) Added: freq=15236 size=20 all=124345 active=11699 piece=▁없\n",
      "bpe_model_trainer.cc(268) LOG(INFO) Added: freq=11845 size=40 all=129333 active=16687 piece=▁정말\n",
      "bpe_model_trainer.cc(268) LOG(INFO) Added: freq=8409 size=60 all=133237 active=20591 piece=▁생\n",
      "bpe_model_trainer.cc(268) LOG(INFO) Added: freq=6991 size=80 all=137882 active=25236 piece=▁말\n",
      "bpe_model_trainer.cc(268) LOG(INFO) Added: freq=5685 size=100 all=141898 active=29252 piece=하게\n",
      "bpe_model_trainer.cc(159) LOG(INFO) Updating active symbols. max_freq=5628 min_freq=83\n",
      "bpe_model_trainer.cc(268) LOG(INFO) Added: freq=4908 size=120 all=145413 active=10117 piece=▁ᄏᄏ\n",
      "bpe_model_trainer.cc(268) LOG(INFO) Added: freq=4469 size=140 all=148092 active=12796 piece=▁끝\n",
      "bpe_model_trainer.cc(268) LOG(INFO) Added: freq=3825 size=160 all=150819 active=15523 piece=▁영\n",
      "bpe_model_trainer.cc(268) LOG(INFO) Added: freq=3582 size=180 all=153769 active=18473 piece=▁매\n",
      "bpe_model_trainer.cc(268) LOG(INFO) Added: freq=3210 size=200 all=156455 active=21159 piece=▁내가\n",
      "bpe_model_trainer.cc(159) LOG(INFO) Updating active symbols. max_freq=3209 min_freq=74\n",
      "bpe_model_trainer.cc(268) LOG(INFO) Added: freq=2976 size=220 all=158781 active=10037 piece=▁의\n",
      "bpe_model_trainer.cc(268) LOG(INFO) Added: freq=2774 size=240 all=161811 active=13067 piece=▁하는\n",
      "bpe_model_trainer.cc(268) LOG(INFO) Added: freq=2561 size=260 all=165342 active=16598 piece=▁이해\n",
      "bpe_model_trainer.cc(268) LOG(INFO) Added: freq=2405 size=280 all=168227 active=19483 piece=▁별로\n",
      "bpe_model_trainer.cc(268) LOG(INFO) Added: freq=2250 size=300 all=170152 active=21408 piece=▁당\n",
      "bpe_model_trainer.cc(159) LOG(INFO) Updating active symbols. max_freq=2248 min_freq=67\n",
      "bpe_model_trainer.cc(268) LOG(INFO) Added: freq=2084 size=320 all=172413 active=10710 piece=리는\n",
      "bpe_model_trainer.cc(268) LOG(INFO) Added: freq=1928 size=340 all=174794 active=13091 piece=▁특\n",
      "bpe_model_trainer.cc(268) LOG(INFO) Added: freq=1853 size=360 all=177253 active=15550 piece=▁줄\n",
      "bpe_model_trainer.cc(268) LOG(INFO) Added: freq=1776 size=380 all=179983 active=18280 piece=▁ᄏᄏᄏ\n",
      "bpe_model_trainer.cc(268) LOG(INFO) Added: freq=1684 size=400 all=182532 active=20829 piece=▁남자\n",
      "bpe_model_trainer.cc(159) LOG(INFO) Updating active symbols. max_freq=1678 min_freq=61\n",
      "bpe_model_trainer.cc(268) LOG(INFO) Added: freq=1622 size=420 all=184516 active=10987 piece=▁맞\n",
      "bpe_model_trainer.cc(268) LOG(INFO) Added: freq=1560 size=440 all=186441 active=12912 piece=▁억\n",
      "bpe_model_trainer.cc(268) LOG(INFO) Added: freq=1488 size=460 all=188826 active=15297 piece=▁솔직\n",
      "bpe_model_trainer.cc(268) LOG(INFO) Added: freq=1427 size=480 all=190885 active=17356 piece=▁간\n",
      "bpe_model_trainer.cc(268) LOG(INFO) Added: freq=1361 size=500 all=192585 active=19056 piece=나오\n",
      "bpe_model_trainer.cc(159) LOG(INFO) Updating active symbols. max_freq=1361 min_freq=57\n",
      "bpe_model_trainer.cc(268) LOG(INFO) Added: freq=1310 size=520 all=194637 active=11381 piece=떨어\n",
      "bpe_model_trainer.cc(268) LOG(INFO) Added: freq=1245 size=540 all=196255 active=12999 piece=기도\n",
      "bpe_model_trainer.cc(268) LOG(INFO) Added: freq=1200 size=560 all=198256 active=15000 piece=▁독\n",
      "bpe_model_trainer.cc(268) LOG(INFO) Added: freq=1172 size=580 all=201368 active=18112 piece=▁계속\n",
      "bpe_model_trainer.cc(268) LOG(INFO) Added: freq=1136 size=600 all=203731 active=20475 piece=▁크\n",
      "bpe_model_trainer.cc(159) LOG(INFO) Updating active symbols. max_freq=1136 min_freq=53\n",
      "bpe_model_trainer.cc(268) LOG(INFO) Added: freq=1106 size=620 all=205861 active=12255 piece=점도\n",
      "bpe_model_trainer.cc(268) LOG(INFO) Added: freq=1064 size=640 all=208252 active=14646 piece=있다\n",
      "bpe_model_trainer.cc(268) LOG(INFO) Added: freq=1037 size=660 all=209787 active=16181 piece=어도\n",
      "bpe_model_trainer.cc(268) LOG(INFO) Added: freq=1009 size=680 all=212497 active=18891 piece=해요\n",
      "bpe_model_trainer.cc(268) LOG(INFO) Added: freq=979 size=700 all=214477 active=20871 piece=▁근데\n",
      "bpe_model_trainer.cc(159) LOG(INFO) Updating active symbols. max_freq=977 min_freq=49\n",
      "bpe_model_trainer.cc(268) LOG(INFO) Added: freq=949 size=720 all=216132 active=12339 piece=▁보다가\n",
      "bpe_model_trainer.cc(268) LOG(INFO) Added: freq=922 size=740 all=217919 active=14126 piece=▁감독이\n",
      "bpe_model_trainer.cc(268) LOG(INFO) Added: freq=889 size=760 all=219063 active=15270 piece=할수\n",
      "bpe_model_trainer.cc(268) LOG(INFO) Added: freq=867 size=780 all=220755 active=16962 piece=▁살아\n",
      "bpe_model_trainer.cc(268) LOG(INFO) Added: freq=852 size=800 all=222377 active=18584 piece=이네\n",
      "bpe_model_trainer.cc(159) LOG(INFO) Updating active symbols. max_freq=852 min_freq=46\n",
      "bpe_model_trainer.cc(268) LOG(INFO) Added: freq=830 size=820 all=223994 active=12480 piece=▁싫\n",
      "bpe_model_trainer.cc(268) LOG(INFO) Added: freq=818 size=840 all=225222 active=13708 piece=었습니다\n",
      "bpe_model_trainer.cc(268) LOG(INFO) Added: freq=792 size=860 all=226485 active=14971 piece=▁어이\n",
      "bpe_model_trainer.cc(268) LOG(INFO) Added: freq=774 size=880 all=228263 active=16749 piece=▁우리나라\n",
      "bpe_model_trainer.cc(268) LOG(INFO) Added: freq=762 size=900 all=229416 active=17902 piece=한데\n",
      "bpe_model_trainer.cc(159) LOG(INFO) Updating active symbols. max_freq=761 min_freq=44\n",
      "bpe_model_trainer.cc(268) LOG(INFO) Added: freq=743 size=920 all=230946 active=12807 piece=▁생각이\n",
      "bpe_model_trainer.cc(268) LOG(INFO) Added: freq=727 size=940 all=232363 active=14224 piece=▁배경\n",
      "bpe_model_trainer.cc(268) LOG(INFO) Added: freq=712 size=960 all=233713 active=15574 piece=▁들어\n",
      "bpe_model_trainer.cc(268) LOG(INFO) Added: freq=701 size=980 all=234891 active=16752 piece=▁임\n",
      "bpe_model_trainer.cc(268) LOG(INFO) Added: freq=684 size=1000 all=235678 active=17539 piece=▁혼\n",
      "bpe_model_trainer.cc(159) LOG(INFO) Updating active symbols. max_freq=684 min_freq=43\n",
      "bpe_model_trainer.cc(268) LOG(INFO) Added: freq=671 size=1020 all=237426 active=13491 piece=▁애니메이션\n",
      "bpe_model_trainer.cc(268) LOG(INFO) Added: freq=660 size=1040 all=238928 active=14993 piece=주의\n",
      "bpe_model_trainer.cc(268) LOG(INFO) Added: freq=640 size=1060 all=240856 active=16921 piece=▁제발\n",
      "bpe_model_trainer.cc(268) LOG(INFO) Added: freq=625 size=1080 all=242263 active=18328 piece=길래\n",
      "bpe_model_trainer.cc(268) LOG(INFO) Added: freq=612 size=1100 all=243814 active=19879 piece=학생\n",
      "bpe_model_trainer.cc(159) LOG(INFO) Updating active symbols. max_freq=611 min_freq=41\n",
      "bpe_model_trainer.cc(268) LOG(INFO) Added: freq=595 size=1120 all=245106 active=13380 piece=▁괴\n",
      "bpe_model_trainer.cc(268) LOG(INFO) Added: freq=584 size=1140 all=246315 active=14589 piece=▁영화중\n",
      "bpe_model_trainer.cc(268) LOG(INFO) Added: freq=568 size=1160 all=247579 active=15853 piece=이야기\n",
      "bpe_model_trainer.cc(268) LOG(INFO) Added: freq=560 size=1180 all=249131 active=17405 piece=▁위해\n",
      "bpe_model_trainer.cc(268) LOG(INFO) Added: freq=549 size=1200 all=250423 active=18697 piece=▁훨씬\n",
      "bpe_model_trainer.cc(159) LOG(INFO) Updating active symbols. max_freq=549 min_freq=39\n",
      "bpe_model_trainer.cc(268) LOG(INFO) Added: freq=537 size=1220 all=251857 active=13939 piece=라서\n",
      "bpe_model_trainer.cc(268) LOG(INFO) Added: freq=523 size=1240 all=253659 active=15741 piece=겠지만\n",
      "bpe_model_trainer.cc(268) LOG(INFO) Added: freq=512 size=1260 all=255177 active=17259 piece=▁보여주는\n",
      "bpe_model_trainer.cc(268) LOG(INFO) Added: freq=506 size=1280 all=256384 active=18466 piece=▁상황\n",
      "bpe_model_trainer.cc(268) LOG(INFO) Added: freq=496 size=1300 all=258061 active=20143 piece=▁c\n",
      "bpe_model_trainer.cc(159) LOG(INFO) Updating active symbols. max_freq=496 min_freq=37\n",
      "bpe_model_trainer.cc(268) LOG(INFO) Added: freq=484 size=1320 all=259512 active=14332 piece=▁이것\n",
      "bpe_model_trainer.cc(268) LOG(INFO) Added: freq=475 size=1340 all=260612 active=15432 piece=주세요\n",
      "bpe_model_trainer.cc(268) LOG(INFO) Added: freq=470 size=1360 all=261972 active=16792 piece=▁성룡\n",
      "bpe_model_trainer.cc(268) LOG(INFO) Added: freq=465 size=1380 all=263699 active=18519 piece=▁사회\n",
      "bpe_model_trainer.cc(268) LOG(INFO) Added: freq=457 size=1400 all=264848 active=19668 piece=영화의\n",
      "bpe_model_trainer.cc(159) LOG(INFO) Updating active symbols. max_freq=456 min_freq=36\n",
      "bpe_model_trainer.cc(268) LOG(INFO) Added: freq=451 size=1420 all=266262 active=14499 piece=▁했는데\n",
      "bpe_model_trainer.cc(268) LOG(INFO) Added: freq=442 size=1440 all=267739 active=15976 piece=▁뭐야\n",
      "bpe_model_trainer.cc(268) LOG(INFO) Added: freq=433 size=1460 all=268534 active=16771 piece=간다\n",
      "bpe_model_trainer.cc(268) LOG(INFO) Added: freq=428 size=1480 all=269681 active=17918 piece=▁허무\n",
      "bpe_model_trainer.cc(268) LOG(INFO) Added: freq=419 size=1500 all=270836 active=19073 piece=▁착\n",
      "bpe_model_trainer.cc(159) LOG(INFO) Updating active symbols. max_freq=419 min_freq=35\n",
      "bpe_model_trainer.cc(268) LOG(INFO) Added: freq=412 size=1520 all=272373 active=15043 piece=▁질질\n",
      "bpe_model_trainer.cc(268) LOG(INFO) Added: freq=406 size=1540 all=273636 active=16306 piece=▁믿고\n",
      "bpe_model_trainer.cc(268) LOG(INFO) Added: freq=398 size=1560 all=274502 active=17172 piece=▁장면이\n",
      "bpe_model_trainer.cc(268) LOG(INFO) Added: freq=391 size=1580 all=275385 active=18055 piece=기대\n",
      "bpe_model_trainer.cc(268) LOG(INFO) Added: freq=386 size=1600 all=276613 active=19283 piece=▁예고\n",
      "bpe_model_trainer.cc(159) LOG(INFO) Updating active symbols. max_freq=386 min_freq=34\n",
      "bpe_model_trainer.cc(268) LOG(INFO) Added: freq=381 size=1620 all=277409 active=14598 piece=리티\n",
      "bpe_model_trainer.cc(268) LOG(INFO) Added: freq=376 size=1640 all=278409 active=15598 piece=▁회\n",
      "bpe_model_trainer.cc(268) LOG(INFO) Added: freq=372 size=1660 all=279939 active=17128 piece=우드\n",
      "bpe_model_trainer.cc(268) LOG(INFO) Added: freq=367 size=1680 all=281064 active=18253 piece=▁대단한\n",
      "bpe_model_trainer.cc(268) LOG(INFO) Added: freq=363 size=1700 all=282209 active=19398 piece=▁합니다\n",
      "bpe_model_trainer.cc(159) LOG(INFO) Updating active symbols. max_freq=362 min_freq=33\n",
      "bpe_model_trainer.cc(268) LOG(INFO) Added: freq=355 size=1720 all=283536 active=15427 piece=일까\n",
      "bpe_model_trainer.cc(268) LOG(INFO) Added: freq=351 size=1740 all=285007 active=16898 piece=▁헐리\n",
      "bpe_model_trainer.cc(268) LOG(INFO) Added: freq=347 size=1760 all=286170 active=18061 piece=▁훈훈\n",
      "bpe_model_trainer.cc(268) LOG(INFO) Added: freq=343 size=1780 all=287263 active=19154 piece=저씨\n",
      "bpe_model_trainer.cc(268) LOG(INFO) Added: freq=337 size=1800 all=288204 active=20095 piece=▁전개가\n",
      "bpe_model_trainer.cc(159) LOG(INFO) Updating active symbols. max_freq=336 min_freq=31\n",
      "bpe_model_trainer.cc(268) LOG(INFO) Added: freq=332 size=1820 all=289286 active=15487 piece=리게\n",
      "bpe_model_trainer.cc(268) LOG(INFO) Added: freq=328 size=1840 all=290472 active=16673 piece=많은\n",
      "bpe_model_trainer.cc(268) LOG(INFO) Added: freq=324 size=1860 all=291455 active=17656 piece=▁결혼\n",
      "bpe_model_trainer.cc(268) LOG(INFO) Added: freq=321 size=1880 all=292994 active=19195 piece=▁물론\n",
      "bpe_model_trainer.cc(268) LOG(INFO) Added: freq=318 size=1900 all=294043 active=20244 piece=▁학교\n",
      "bpe_model_trainer.cc(159) LOG(INFO) Updating active symbols. max_freq=318 min_freq=31\n",
      "bpe_model_trainer.cc(268) LOG(INFO) Added: freq=312 size=1920 all=294818 active=15429 piece=▁친\n",
      "bpe_model_trainer.cc(268) LOG(INFO) Added: freq=309 size=1940 all=295918 active=16529 piece=▁저질\n",
      "bpe_model_trainer.cc(268) LOG(INFO) Added: freq=305 size=1960 all=297136 active=17747 piece=▁바람\n",
      "bpe_model_trainer.cc(268) LOG(INFO) Added: freq=302 size=1980 all=297745 active=18356 piece=▁유명\n",
      "bpe_model_trainer.cc(268) LOG(INFO) Added: freq=299 size=2000 all=298590 active=19201 piece=▁��들었다\n",
      "bpe_model_trainer.cc(159) LOG(INFO) Updating active symbols. max_freq=299 min_freq=30\n",
      "bpe_model_trainer.cc(268) LOG(INFO) Added: freq=296 size=2020 all=299941 active=16262 piece=▁이런거\n",
      "bpe_model_trainer.cc(268) LOG(INFO) Added: freq=291 size=2040 all=300996 active=17317 piece=웠던\n",
      "bpe_model_trainer.cc(268) LOG(INFO) Added: freq=287 size=2060 all=301712 active=18033 piece=▁풀어\n",
      "bpe_model_trainer.cc(268) LOG(INFO) Added: freq=285 size=2080 all=302412 active=18733 piece=▁장면은\n",
      "bpe_model_trainer.cc(268) LOG(INFO) Added: freq=281 size=2100 all=303541 active=19862 piece=▁!!\n",
      "bpe_model_trainer.cc(159) LOG(INFO) Updating active symbols. max_freq=281 min_freq=29\n",
      "bpe_model_trainer.cc(268) LOG(INFO) Added: freq=279 size=2120 all=304746 active=16377 piece=▁유치하고\n",
      "bpe_model_trainer.cc(268) LOG(INFO) Added: freq=276 size=2140 all=305696 active=17327 piece=▁이런걸\n",
      "bpe_model_trainer.cc(268) LOG(INFO) Added: freq=271 size=2160 all=306956 active=18587 piece=▁이어\n",
      "bpe_model_trainer.cc(268) LOG(INFO) Added: freq=267 size=2180 all=307643 active=19274 piece=▁누군\n",
      "bpe_model_trainer.cc(268) LOG(INFO) Added: freq=265 size=2200 all=308506 active=20137 piece=▁재밌어\n",
      "bpe_model_trainer.cc(159) LOG(INFO) Updating active symbols. max_freq=264 min_freq=28\n",
      "bpe_model_trainer.cc(268) LOG(INFO) Added: freq=263 size=2220 all=309614 active=16488 piece=▁생각한다\n",
      "bpe_model_trainer.cc(268) LOG(INFO) Added: freq=260 size=2240 all=310714 active=17588 piece=기다\n",
      "bpe_model_trainer.cc(268) LOG(INFO) Added: freq=258 size=2260 all=312003 active=18877 piece=▁안맞\n",
      "bpe_model_trainer.cc(268) LOG(INFO) Added: freq=256 size=2280 all=312948 active=19822 piece=▁왜이렇게\n",
      "bpe_model_trainer.cc(268) LOG(INFO) Added: freq=253 size=2300 all=313964 active=20838 piece=있는데\n",
      "bpe_model_trainer.cc(159) LOG(INFO) Updating active symbols. max_freq=253 min_freq=27\n",
      "bpe_model_trainer.cc(268) LOG(INFO) Added: freq=251 size=2320 all=314759 active=16383 piece=절한\n",
      "bpe_model_trainer.cc(268) LOG(INFO) Added: freq=249 size=2340 all=315754 active=17378 piece=성애\n",
      "bpe_model_trainer.cc(268) LOG(INFO) Added: freq=247 size=2360 all=316932 active=18556 piece=▁외국\n",
      "bpe_model_trainer.cc(268) LOG(INFO) Added: freq=243 size=2380 all=318248 active=19872 piece=▁;;\n",
      "bpe_model_trainer.cc(268) LOG(INFO) Added: freq=241 size=2400 all=319152 active=20776 piece=▁했지만\n",
      "bpe_model_trainer.cc(159) LOG(INFO) Updating active symbols. max_freq=241 min_freq=27\n",
      "bpe_model_trainer.cc(268) LOG(INFO) Added: freq=238 size=2420 all=319864 active=16662 piece=사는\n",
      "bpe_model_trainer.cc(268) LOG(INFO) Added: freq=237 size=2440 all=320731 active=17529 piece=▁감동적이고\n",
      "bpe_model_trainer.cc(268) LOG(INFO) Added: freq=233 size=2460 all=321486 active=18284 piece=명이\n",
      "bpe_model_trainer.cc(268) LOG(INFO) Added: freq=231 size=2480 all=322352 active=19150 piece=▁액션이\n",
      "bpe_model_trainer.cc(268) LOG(INFO) Added: freq=228 size=2500 all=323303 active=20101 piece=있네\n",
      "bpe_model_trainer.cc(159) LOG(INFO) Updating active symbols. max_freq=228 min_freq=26\n",
      "bpe_model_trainer.cc(268) LOG(INFO) Added: freq=226 size=2520 all=323945 active=16743 piece=▁까지\n",
      "bpe_model_trainer.cc(268) LOG(INFO) Added: freq=224 size=2540 all=325050 active=17848 piece=▁짜증나는\n",
      "bpe_model_trainer.cc(268) LOG(INFO) Added: freq=222 size=2560 all=326019 active=18817 piece=▁시선\n",
      "bpe_model_trainer.cc(268) LOG(INFO) Added: freq=220 size=2580 all=326745 active=19543 piece=▁보러\n",
      "bpe_model_trainer.cc(268) LOG(INFO) Added: freq=218 size=2600 all=327404 active=20202 piece=위해\n",
      "bpe_model_trainer.cc(159) LOG(INFO) Updating active symbols. max_freq=218 min_freq=25\n",
      "bpe_model_trainer.cc(268) LOG(INFO) Added: freq=216 size=2620 all=328260 active=17183 piece=레스\n",
      "bpe_model_trainer.cc(268) LOG(INFO) Added: freq=215 size=2640 all=329376 active=18299 piece=▁슈퍼\n",
      "bpe_model_trainer.cc(268) LOG(INFO) Added: freq=213 size=2660 all=330001 active=18924 piece=▁I\n",
      "bpe_model_trainer.cc(268) LOG(INFO) Added: freq=211 size=2680 all=330813 active=19736 piece=는가\n",
      "bpe_model_trainer.cc(268) LOG(INFO) Added: freq=209 size=2700 all=331665 active=20588 piece=▁침\n",
      "bpe_model_trainer.cc(159) LOG(INFO) Updating active symbols. max_freq=209 min_freq=25\n",
      "bpe_model_trainer.cc(268) LOG(INFO) Added: freq=208 size=2720 all=332654 active=17546 piece=▁그럭저럭\n",
      "bpe_model_trainer.cc(268) LOG(INFO) Added: freq=206 size=2740 all=333255 active=18147 piece=▁재밌습니다\n",
      "bpe_model_trainer.cc(268) LOG(INFO) Added: freq=204 size=2760 all=334206 active=19098 piece=▁영화냐\n",
      "bpe_model_trainer.cc(268) LOG(INFO) Added: freq=202 size=2780 all=335228 active=20120 piece=▁형편\n",
      "bpe_model_trainer.cc(268) LOG(INFO) Added: freq=201 size=2800 all=336332 active=21224 piece=▁이유는\n",
      "bpe_model_trainer.cc(159) LOG(INFO) Updating active symbols. max_freq=201 min_freq=24\n",
      "bpe_model_trainer.cc(268) LOG(INFO) Added: freq=200 size=2820 all=336942 active=17424 piece=▁필요없는\n",
      "bpe_model_trainer.cc(268) LOG(INFO) Added: freq=198 size=2840 all=337505 active=17987 piece=라스\n",
      "bpe_model_trainer.cc(268) LOG(INFO) Added: freq=196 size=2860 all=338186 active=18668 piece=▁던\n",
      "bpe_model_trainer.cc(268) LOG(INFO) Added: freq=195 size=2880 all=339515 active=19997 piece=의미\n",
      "bpe_model_trainer.cc(268) LOG(INFO) Added: freq=194 size=2900 all=340449 active=20931 piece=▁말을\n",
      "bpe_model_trainer.cc(159) LOG(INFO) Updating active symbols. max_freq=194 min_freq=24\n",
      "bpe_model_trainer.cc(268) LOG(INFO) Added: freq=192 size=2920 all=341281 active=17838 piece=르노\n",
      "bpe_model_trainer.cc(268) LOG(INFO) Added: freq=191 size=2940 all=342250 active=18807 piece=▁이쁜\n",
      "bpe_model_trainer.cc(268) LOG(INFO) Added: freq=190 size=2960 all=343240 active=19797 piece=▁있지\n",
      "bpe_model_trainer.cc(268) LOG(INFO) Added: freq=188 size=2980 all=344040 active=20597 piece=▁스티\n",
      "bpe_model_trainer.cc(268) LOG(INFO) Added: freq=186 size=3000 all=344855 active=21412 piece=▁가까\n",
      "bpe_model_trainer.cc(159) LOG(INFO) Updating active symbols. max_freq=186 min_freq=23\n",
      "bpe_model_trainer.cc(268) LOG(INFO) Added: freq=184 size=3020 all=345454 active=17826 piece=▁컨\n",
      "bpe_model_trainer.cc(268) LOG(INFO) Added: freq=183 size=3040 all=346663 active=19035 piece=▁나중에\n",
      "bpe_model_trainer.cc(268) LOG(INFO) Added: freq=182 size=3060 all=347547 active=19919 piece=▁좋아서\n",
      "bpe_model_trainer.cc(268) LOG(INFO) Added: freq=180 size=3080 all=348137 active=20509 piece=오글\n",
      "bpe_model_trainer.cc(268) LOG(INFO) Added: freq=179 size=3100 all=348733 active=21105 piece=▁영화보는\n",
      "bpe_model_trainer.cc(159) LOG(INFO) Updating active symbols. max_freq=179 min_freq=23\n",
      "bpe_model_trainer.cc(268) LOG(INFO) Added: freq=178 size=3120 all=349419 active=18101 piece=▁현실적인\n",
      "bpe_model_trainer.cc(268) LOG(INFO) Added: freq=177 size=3140 all=350318 active=19000 piece=아니다\n",
      "bpe_model_trainer.cc(268) LOG(INFO) Added: freq=175 size=3160 all=351021 active=19703 piece=드의\n",
      "bpe_model_trainer.cc(268) LOG(INFO) Added: freq=174 size=3180 all=351970 active=20652 piece=▁되지\n",
      "bpe_model_trainer.cc(268) LOG(INFO) Added: freq=173 size=3200 all=352885 active=21567 piece=▁드럽게\n",
      "bpe_model_trainer.cc(159) LOG(INFO) Updating active symbols. max_freq=173 min_freq=22\n",
      "bpe_model_trainer.cc(268) LOG(INFO) Added: freq=172 size=3220 all=353437 active=18186 piece=▁이따위\n",
      "bpe_model_trainer.cc(268) LOG(INFO) Added: freq=170 size=3240 all=354008 active=18757 piece=인들\n",
      "bpe_model_trainer.cc(268) LOG(INFO) Added: freq=168 size=3260 all=355072 active=19821 piece=▁싱\n",
      "trainer_interface.cc(686) LOG(INFO) Saving model: naver.model\n",
      "trainer_interface.cc(698) LOG(INFO) Saving vocabs: naver.vocab\n"
     ]
    }
   ],
   "source": [
    "spm.SentencePieceTrainer.Train(\n",
    "    '--input={} --model_prefix={} --vocab_size={} --model_type={} --max_sentence_length={}'.format(\n",
    "        data_path + 'ratings_processed.txt',\n",
    "        'naver',\n",
    "        5000,\n",
    "        'bpe',\n",
    "        9999,\n",
    "    )\n",
    ")\n",
    "\n",
    "model_path = \"../model/\"\n",
    "os.rename('naver.model', model_path + 'naver.model')\n",
    "os.rename('naver.vocab', model_path + 'naver.vocab')"
   ],
   "metadata": {
    "collapsed": false,
    "ExecuteTime": {
     "end_time": "2023-12-02T04:27:50.713269Z",
     "start_time": "2023-12-02T04:27:50.711189Z"
    }
   },
   "id": "84301b6d169a8aee"
  },
  {
   "cell_type": "code",
   "execution_count": 15,
   "outputs": [
    {
     "name": "stdout",
     "output_type": "stream",
     "text": [
      "5000\n"
     ]
    },
    {
     "data": {
      "text/plain": "         0     1\n2251    보이 -2248\n1485  ▁나와서 -1482\n4946     흩 -4943\n3284     가 -3281\n3520     ᅮ -3517\n3495     출 -3492\n2495   ▁리뷰 -2492\n4768     딪 -4765\n4897     닠 -4894\n3436     애 -3433",
      "text/html": "<div>\n<style scoped>\n    .dataframe tbody tr th:only-of-type {\n        vertical-align: middle;\n    }\n\n    .dataframe tbody tr th {\n        vertical-align: top;\n    }\n\n    .dataframe thead th {\n        text-align: right;\n    }\n</style>\n<table border=\"1\" class=\"dataframe\">\n  <thead>\n    <tr style=\"text-align: right;\">\n      <th></th>\n      <th>0</th>\n      <th>1</th>\n    </tr>\n  </thead>\n  <tbody>\n    <tr>\n      <th>2251</th>\n      <td>보이</td>\n      <td>-2248</td>\n    </tr>\n    <tr>\n      <th>1485</th>\n      <td>▁나와서</td>\n      <td>-1482</td>\n    </tr>\n    <tr>\n      <th>4946</th>\n      <td>흩</td>\n      <td>-4943</td>\n    </tr>\n    <tr>\n      <th>3284</th>\n      <td>가</td>\n      <td>-3281</td>\n    </tr>\n    <tr>\n      <th>3520</th>\n      <td>ᅮ</td>\n      <td>-3517</td>\n    </tr>\n    <tr>\n      <th>3495</th>\n      <td>출</td>\n      <td>-3492</td>\n    </tr>\n    <tr>\n      <th>2495</th>\n      <td>▁리뷰</td>\n      <td>-2492</td>\n    </tr>\n    <tr>\n      <th>4768</th>\n      <td>딪</td>\n      <td>-4765</td>\n    </tr>\n    <tr>\n      <th>4897</th>\n      <td>닠</td>\n      <td>-4894</td>\n    </tr>\n    <tr>\n      <th>3436</th>\n      <td>애</td>\n      <td>-3433</td>\n    </tr>\n  </tbody>\n</table>\n</div>"
     },
     "execution_count": 15,
     "metadata": {},
     "output_type": "execute_result"
    }
   ],
   "source": [
    "# check vocab\n",
    "vocab = pd.read_csv(model_path + 'naver.vocab', sep='\\t', header=None, quoting=csv.QUOTE_NONE)\n",
    "\n",
    "print(len(vocab))\n",
    "vocab.sample(10)"
   ],
   "metadata": {
    "collapsed": false,
    "ExecuteTime": {
     "end_time": "2023-12-02T04:28:30.130167Z",
     "start_time": "2023-12-02T04:28:30.118908Z"
    }
   },
   "id": "627488ddbc0fcbc7"
  },
  {
   "cell_type": "code",
   "execution_count": 16,
   "outputs": [
    {
     "data": {
      "text/plain": "True"
     },
     "execution_count": 16,
     "metadata": {},
     "output_type": "execute_result"
    }
   ],
   "source": [
    "# check model\n",
    "sp = spm.SentencePieceProcessor()\n",
    "sp.load(model_path + 'naver.model')"
   ],
   "metadata": {
    "collapsed": false,
    "ExecuteTime": {
     "end_time": "2023-12-02T04:28:53.490052Z",
     "start_time": "2023-12-02T04:28:53.479443Z"
    }
   },
   "id": "bd72faedd2dde099"
  },
  {
   "cell_type": "markdown",
   "source": [
    "# Using Naver model"
   ],
   "metadata": {
    "collapsed": false
   },
   "id": "7f3f86f179b88b34"
  },
  {
   "cell_type": "code",
   "execution_count": 17,
   "outputs": [],
   "source": [
    "lines = [\n",
    "    \"뭐 이딴 것도 영화냐.\",\n",
    "    \"진짜 최고의 영화입니다 ㅋㅋ\",\n",
    "]"
   ],
   "metadata": {
    "collapsed": false,
    "ExecuteTime": {
     "end_time": "2023-12-02T04:29:39.283074Z",
     "start_time": "2023-12-02T04:29:39.277844Z"
    }
   },
   "id": "c313c6cdce4e7b5f"
  },
  {
   "cell_type": "code",
   "execution_count": 18,
   "outputs": [
    {
     "name": "stdout",
     "output_type": "stream",
     "text": [
      "['▁뭐', '▁이딴', '▁것도', '▁영화냐', '.']\n",
      "[135, 969, 1296, 2762, 3275]\n",
      "['▁진짜', '▁최고의', '▁영화입니다', '▁ᄏᄏ']\n",
      "[54, 210, 826, 122]\n"
     ]
    }
   ],
   "source": [
    "for line in lines:\n",
    "    print(sp.encode_as_pieces(line))\n",
    "    print(sp.encode_as_ids(line))"
   ],
   "metadata": {
    "collapsed": false,
    "ExecuteTime": {
     "end_time": "2023-12-02T04:29:55.208842Z",
     "start_time": "2023-12-02T04:29:55.198361Z"
    }
   },
   "id": "52eb18622b969cf"
  },
  {
   "cell_type": "code",
   "execution_count": 20,
   "outputs": [
    {
     "name": "stdout",
     "output_type": "stream",
     "text": [
      "[135, 969, 1296, 2762, 3275]\n",
      "[135, 969, 1296, 2762, 3275]\n"
     ]
    }
   ],
   "source": [
    "print(sp.encode(lines[0]))\n",
    "print(sp.encode_as_ids(lines[0]))"
   ],
   "metadata": {
    "collapsed": false,
    "ExecuteTime": {
     "end_time": "2023-12-02T04:30:58.784295Z",
     "start_time": "2023-12-02T04:30:58.781475Z"
    }
   },
   "id": "96f81c9b78a1494f"
  },
  {
   "cell_type": "code",
   "execution_count": null,
   "outputs": [],
   "source": [],
   "metadata": {
    "collapsed": false
   },
   "id": "a1d439f89cb855fc"
  }
 ],
 "metadata": {
  "kernelspec": {
   "display_name": "Python 3",
   "language": "python",
   "name": "python3"
  },
  "language_info": {
   "codemirror_mode": {
    "name": "ipython",
    "version": 2
   },
   "file_extension": ".py",
   "mimetype": "text/x-python",
   "name": "python",
   "nbconvert_exporter": "python",
   "pygments_lexer": "ipython2",
   "version": "2.7.6"
  }
 },
 "nbformat": 4,
 "nbformat_minor": 5
}
