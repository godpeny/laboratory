{
 "cells": [
  {
   "cell_type": "code",
   "execution_count": 2,
   "id": "initial_id",
   "metadata": {
    "collapsed": true,
    "ExecuteTime": {
     "end_time": "2023-12-02T08:57:37.791611Z",
     "start_time": "2023-12-02T08:57:35.514466Z"
    }
   },
   "outputs": [],
   "source": [
    "import numpy as np\n",
    "import pandas as pd\n",
    "\n",
    "import tensorflow as tf\n",
    "import tensorflow_datasets as tfds\n",
    "import keras"
   ]
  },
  {
   "cell_type": "code",
   "execution_count": 3,
   "outputs": [
    {
     "name": "stdout",
     "output_type": "stream",
     "text": [
      "150000\n"
     ]
    },
    {
     "data": {
      "text/plain": "         id                                           document  label\n0   9976970                                아 더빙.. 진짜 짜증나네요 목소리      0\n1   3819312                  흠...포스터보고 초딩영화줄....오버연기조차 가볍지 않구나      1\n2  10265843                                  너무재밓었다그래서보는것을추천한다      0\n3   9045019                      교도소 이야기구먼 ..솔직히 재미는 없다..평점 조정      0\n4   6483659  사이몬페그의 익살스런 연기가 돋보였던 영화!스파이더맨에서 늙어보이기만 했던 커스틴 ...      1",
      "text/html": "<div>\n<style scoped>\n    .dataframe tbody tr th:only-of-type {\n        vertical-align: middle;\n    }\n\n    .dataframe tbody tr th {\n        vertical-align: top;\n    }\n\n    .dataframe thead th {\n        text-align: right;\n    }\n</style>\n<table border=\"1\" class=\"dataframe\">\n  <thead>\n    <tr style=\"text-align: right;\">\n      <th></th>\n      <th>id</th>\n      <th>document</th>\n      <th>label</th>\n    </tr>\n  </thead>\n  <tbody>\n    <tr>\n      <th>0</th>\n      <td>9976970</td>\n      <td>아 더빙.. 진짜 짜증나네요 목소리</td>\n      <td>0</td>\n    </tr>\n    <tr>\n      <th>1</th>\n      <td>3819312</td>\n      <td>흠...포스터보고 초딩영화줄....오버연기조차 가볍지 않구나</td>\n      <td>1</td>\n    </tr>\n    <tr>\n      <th>2</th>\n      <td>10265843</td>\n      <td>너무재밓었다그래서보는것을추천한다</td>\n      <td>0</td>\n    </tr>\n    <tr>\n      <th>3</th>\n      <td>9045019</td>\n      <td>교도소 이야기구먼 ..솔직히 재미는 없다..평점 조정</td>\n      <td>0</td>\n    </tr>\n    <tr>\n      <th>4</th>\n      <td>6483659</td>\n      <td>사이몬페그의 익살스런 연기가 돋보였던 영화!스파이더맨에서 늙어보이기만 했던 커스틴 ...</td>\n      <td>1</td>\n    </tr>\n  </tbody>\n</table>\n</div>"
     },
     "execution_count": 3,
     "metadata": {},
     "output_type": "execute_result"
    }
   ],
   "source": [
    "data_path = \"../data/\"\n",
    "df = pd.read_table(data_path+\"ratings_train.txt\")\n",
    "\n",
    "print(len(df))\n",
    "df.head(5)"
   ],
   "metadata": {
    "collapsed": false,
    "ExecuteTime": {
     "end_time": "2023-12-02T08:57:38.597504Z",
     "start_time": "2023-12-02T08:57:38.365080Z"
    }
   },
   "id": "8400c0381ef40185"
  },
  {
   "cell_type": "markdown",
   "source": [
    "# Data Preprocessing"
   ],
   "metadata": {
    "collapsed": false
   },
   "id": "52d5e37ccc967484"
  },
  {
   "cell_type": "code",
   "execution_count": 4,
   "outputs": [
    {
     "name": "stdout",
     "output_type": "stream",
     "text": [
      "True\n",
      "None\n",
      "149995\n",
      "False\n",
      "146182\n",
      "146182\n"
     ]
    }
   ],
   "source": [
    "# drop null and duplicates\n",
    "print(df.isnull().values.any())\n",
    "print(df.dropna(inplace=True))\n",
    "\n",
    "print(len(df))\n",
    "print(df.isnull().values.any())\n",
    "\n",
    "print(df['document'].nunique())\n",
    "df.drop_duplicates(subset=['document'], inplace=True) # document 열에서 중복인 내용이 있다면 중복 제거\n",
    "print(len(df))"
   ],
   "metadata": {
    "collapsed": false,
    "ExecuteTime": {
     "end_time": "2023-12-02T09:00:34.256687Z",
     "start_time": "2023-12-02T09:00:34.155499Z"
    }
   },
   "id": "d3742e618f92d968"
  },
  {
   "cell_type": "markdown",
   "source": [
    "# Tokenizing with Tensorflow Subword Tokenizer"
   ],
   "metadata": {
    "collapsed": false
   },
   "id": "813ce9dfa07bf74a"
  },
  {
   "cell_type": "code",
   "execution_count": 6,
   "outputs": [],
   "source": [
    "tokenizer = tfds.deprecated.text.SubwordTextEncoder.build_from_corpus(\n",
    "    df['document'], target_vocab_size=2**13)"
   ],
   "metadata": {
    "collapsed": false,
    "ExecuteTime": {
     "end_time": "2023-12-02T09:02:51.293369Z",
     "start_time": "2023-12-02T09:01:00.611855Z"
    }
   },
   "id": "e2e0e758933bb6ae"
  },
  {
   "cell_type": "code",
   "execution_count": 7,
   "outputs": [
    {
     "name": "stdout",
     "output_type": "stream",
     "text": [
      "['. ', '..', '영화', '이_', '...', '의_', '도_', '는_', '다', ', ', '을_', '고_', '은_', '가_', '에_', '.. ', '한_', '너무_', '정말_', '를_', '고', '게_', '영화_', '지', '... ', '이', '진짜_', '다_', '요', '만_']\n"
     ]
    }
   ],
   "source": [
    "print(tokenizer.subwords[:30])"
   ],
   "metadata": {
    "collapsed": false,
    "ExecuteTime": {
     "end_time": "2023-12-02T09:03:58.243019Z",
     "start_time": "2023-12-02T09:03:58.235848Z"
    }
   },
   "id": "215ce8358e0ea7b8"
  },
  {
   "cell_type": "code",
   "execution_count": 8,
   "outputs": [
    {
     "name": "stdout",
     "output_type": "stream",
     "text": [
      "ㄱ냥 매번 긴장되고 재밋음ㅠㅠ\n",
      "[1043, 7149, 240, 1363, 2723, 1436, 5043, 177]\n"
     ]
    }
   ],
   "source": [
    "print(df['document'][15])\n",
    "print(tokenizer.encode(df['document'][15]))"
   ],
   "metadata": {
    "collapsed": false,
    "ExecuteTime": {
     "end_time": "2023-12-02T09:04:23.588295Z",
     "start_time": "2023-12-02T09:04:23.575120Z"
    }
   },
   "id": "49c94e908fe702eb"
  },
  {
   "cell_type": "code",
   "execution_count": 9,
   "outputs": [
    {
     "name": "stdout",
     "output_type": "stream",
     "text": [
      "671 ----> 나름 \n",
      "4718 ----> 심오\n",
      "17 ----> 한 \n",
      "1760 ----> 뜻\n",
      "7 ----> 도 \n",
      "98 ----> 있는 \n",
      "133 ----> 듯\n",
      "1 ----> . \n",
      "48 ----> 그냥 \n",
      "2249 ----> 학생\n",
      "4 ----> 이 \n",
      "7493 ----> 선생\n",
      "32 ----> 과 \n",
      "1028 ----> 놀\n",
      "2661 ----> 아나\n",
      "8 ----> 는 \n",
      "81 ----> 영화는 \n",
      "750 ----> 절대 \n",
      "1220 ----> 아님\n"
     ]
    }
   ],
   "source": [
    "sample_strings = df.document[20]\n",
    "sample_strings_encoded = tokenizer.encode(sample_strings)\n",
    "\n",
    "for string in sample_strings_encoded:\n",
    "    print('{} ----> {}'.format(string, tokenizer.decode([string])))"
   ],
   "metadata": {
    "collapsed": false,
    "ExecuteTime": {
     "end_time": "2023-12-02T09:05:29.428355Z",
     "start_time": "2023-12-02T09:05:29.419855Z"
    }
   },
   "id": "8d2a1f2a9e50c452"
  },
  {
   "cell_type": "code",
   "execution_count": null,
   "outputs": [],
   "source": [],
   "metadata": {
    "collapsed": false
   },
   "id": "3f4278d9fce83f2e"
  }
 ],
 "metadata": {
  "kernelspec": {
   "display_name": "Python 3",
   "language": "python",
   "name": "python3"
  },
  "language_info": {
   "codemirror_mode": {
    "name": "ipython",
    "version": 2
   },
   "file_extension": ".py",
   "mimetype": "text/x-python",
   "name": "python",
   "nbconvert_exporter": "python",
   "pygments_lexer": "ipython2",
   "version": "2.7.6"
  }
 },
 "nbformat": 4,
 "nbformat_minor": 5
}
