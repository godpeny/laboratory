{
 "cells": [
  {
   "cell_type": "code",
   "execution_count": 1,
   "id": "initial_id",
   "metadata": {
    "collapsed": true,
    "ExecuteTime": {
     "end_time": "2024-01-07T12:34:58.371643Z",
     "start_time": "2024-01-07T12:34:55.235780Z"
    }
   },
   "outputs": [],
   "source": [
    "import numpy as np\n",
    "import pandas as pd\n",
    "import re\n",
    "import matplotlib.pyplot as plt\n",
    "from nltk.corpus import stopwords\n",
    "from bs4 import BeautifulSoup\n",
    "from keras.preprocessing.text import Tokenizer\n",
    "from keras.preprocessing.sequence import pad_sequences\n",
    "import urllib.request\n",
    "\n",
    "np.random.seed(seed=0)"
   ]
  },
  {
   "cell_type": "code",
   "execution_count": 2,
   "outputs": [
    {
     "name": "stdout",
     "output_type": "stream",
     "text": [
      "   Id   ProductId          UserId                      ProfileName  \\\n",
      "0   1  B001E4KFG0  A3SGXH7AUHU8GW                       delmartian   \n",
      "1   2  B00813GRG4  A1D87F6ZCVE5NK                           dll pa   \n",
      "2   3  B000LQOCH0   ABXLMWJIXXAIN  Natalia Corres \"Natalia Corres\"   \n",
      "\n",
      "   HelpfulnessNumerator  HelpfulnessDenominator  Score        Time  \\\n",
      "0                     1                       1      5  1303862400   \n",
      "1                     0                       0      1  1346976000   \n",
      "2                     1                       1      4  1219017600   \n",
      "\n",
      "                 Summary                                               Text  \n",
      "0  Good Quality Dog Food  I have bought several of the Vitality canned d...  \n",
      "1      Not as Advertised  Product arrived labeled as Jumbo Salted Peanut...  \n",
      "2  \"Delight\" says it all  This is a confection that has been around a fe...  \n",
      "100000\n"
     ]
    }
   ],
   "source": [
    "data_path = \"../data/\"\n",
    "\n",
    "df = pd.read_csv(data_path + \"reviews.csv\", nrows=100000)\n",
    "print(df.head(3))\n",
    "print(len(df))"
   ],
   "metadata": {
    "collapsed": false,
    "ExecuteTime": {
     "end_time": "2024-01-07T12:34:58.807033Z",
     "start_time": "2024-01-07T12:34:58.373078Z"
    }
   },
   "id": "82739f5b7d9d4937"
  },
  {
   "cell_type": "markdown",
   "source": [
    "# Data Preprocessing"
   ],
   "metadata": {
    "collapsed": false
   },
   "id": "4b05434060ecbe50"
  },
  {
   "cell_type": "code",
   "execution_count": 3,
   "outputs": [
    {
     "name": "stdout",
     "output_type": "stream",
     "text": [
      "                 Summary                                               Text\n",
      "0  Good Quality Dog Food  I have bought several of the Vitality canned d...\n",
      "1      Not as Advertised  Product arrived labeled as Jumbo Salted Peanut...\n",
      "2  \"Delight\" says it all  This is a confection that has been around a fe...\n"
     ]
    }
   ],
   "source": [
    "df = df[['Summary', 'Text']] # use only two columns\n",
    "print(df.head(3))"
   ],
   "metadata": {
    "collapsed": false,
    "ExecuteTime": {
     "end_time": "2024-01-07T12:34:58.812278Z",
     "start_time": "2024-01-07T12:34:58.803570Z"
    }
   },
   "id": "edc0ac1765ed37a5"
  },
  {
   "cell_type": "code",
   "execution_count": 4,
   "outputs": [
    {
     "name": "stdout",
     "output_type": "stream",
     "text": [
      "Summary    2\n",
      "Text       0\n",
      "dtype: int64\n",
      "Summary    72348\n",
      "Text       88426\n",
      "dtype: int64\n",
      "88425\n"
     ]
    }
   ],
   "source": [
    "# check null and duplicate\n",
    "print(df.isnull().sum())\n",
    "print(df.nunique())\n",
    "\n",
    "df = df.dropna()\n",
    "df = df.drop_duplicates(subset=['Text']) # drop duplicates in Text column\n",
    "print(len(df))"
   ],
   "metadata": {
    "collapsed": false,
    "ExecuteTime": {
     "end_time": "2024-01-07T12:34:58.978658Z",
     "start_time": "2024-01-07T12:34:58.819448Z"
    }
   },
   "id": "ee795ba894db9157"
  },
  {
   "cell_type": "code",
   "execution_count": 5,
   "outputs": [],
   "source": [
    "contractions = {\"'cause\": 'because',\n",
    "                \"I'd\": 'I would',\n",
    "                \"I'd've\": 'I would have',\n",
    "                \"I'll\": 'I will',\n",
    "                \"I'll've\": 'I will have',\n",
    "                \"I'm\": 'I am',\n",
    "                \"I've\": 'I have',\n",
    "                \"ain't\": 'is not',\n",
    "                \"aren't\": 'are not',\n",
    "                \"can't\": 'cannot',\n",
    "                \"could've\": 'could have',\n",
    "                \"couldn't\": 'could not',\n",
    "                \"didn't\": 'did not',\n",
    "                \"doesn't\": 'does not',\n",
    "                \"don't\": 'do not',\n",
    "                \"hadn't\": 'had not',\n",
    "                \"hasn't\": 'has not',\n",
    "                \"haven't\": 'have not',\n",
    "                \"he'd\": 'he would',\n",
    "                \"he'll\": 'he will',\n",
    "                \"he's\": 'he is',\n",
    "                \"here's\": 'here is',\n",
    "                \"how'd\": 'how did',\n",
    "                \"how'd'y\": 'how do you',\n",
    "                \"how'll\": 'how will',\n",
    "                \"how's\": 'how is',\n",
    "                \"i'd\": 'i would',\n",
    "                \"i'd've\": 'i would have',\n",
    "                \"i'll\": 'i will',\n",
    "                \"i'll've\": 'i will have',\n",
    "                \"i'm\": 'i am',\n",
    "                \"i've\": 'i have',\n",
    "                \"isn't\": 'is not',\n",
    "                \"it'd\": 'it would',\n",
    "                \"it'd've\": 'it would have',\n",
    "                \"it'll\": 'it will',\n",
    "                \"it'll've\": 'it will have',\n",
    "                \"it's\": 'it is',\n",
    "                \"let's\": 'let us',\n",
    "                \"ma'am\": 'madam',\n",
    "                \"mayn't\": 'may not',\n",
    "                \"might've\": 'might have',\n",
    "                \"mightn't\": 'might not',\n",
    "                \"mightn't've\": 'might not have',\n",
    "                \"must've\": 'must have',\n",
    "                \"mustn't\": 'must not',\n",
    "                \"mustn't've\": 'must not have',\n",
    "                \"needn't\": 'need not',\n",
    "                \"needn't've\": 'need not have',\n",
    "                \"o'clock\": 'of the clock',\n",
    "                \"oughtn't\": 'ought not',\n",
    "                \"oughtn't've\": 'ought not have',\n",
    "                \"sha'n't\": 'shall not',\n",
    "                \"shan't\": 'shall not',\n",
    "                \"shan't've\": 'shall not have',\n",
    "                \"she'd\": 'she would',\n",
    "                \"she'd've\": 'she would have',\n",
    "                \"she'll\": 'she will',\n",
    "                \"she'll've\": 'she will have',\n",
    "                \"she's\": 'she is',\n",
    "                \"should've\": 'should have',\n",
    "                \"shouldn't\": 'should not',\n",
    "                \"shouldn't've\": 'should not have',\n",
    "                \"so's\": 'so as',\n",
    "                \"so've\": 'so have',\n",
    "                \"that'd\": 'that would',\n",
    "                \"that'd've\": 'that would have',\n",
    "                \"that's\": 'that is',\n",
    "                \"there'd\": 'there would',\n",
    "                \"there'd've\": 'there would have',\n",
    "                \"there's\": 'there is',\n",
    "                \"they'd\": 'they would',\n",
    "                \"they'd've\": 'they would have',\n",
    "                \"they'll\": 'they will',\n",
    "                \"they'll've\": 'they will have',\n",
    "                \"they're\": 'they are',\n",
    "                \"they've\": 'they have',\n",
    "                \"this's\": 'this is',\n",
    "                \"to've\": 'to have',\n",
    "                \"wasn't\": 'was not',\n",
    "                \"we'd\": 'we would',\n",
    "                \"we'd've\": 'we would have',\n",
    "                \"we'll\": 'we will',\n",
    "                \"we'll've\": 'we will have',\n",
    "                \"we're\": 'we are',\n",
    "                \"we've\": 'we have',\n",
    "                \"weren't\": 'were not',\n",
    "                \"what'll\": 'what will',\n",
    "                \"what'll've\": 'what will have',\n",
    "                \"what're\": 'what are',\n",
    "                \"what's\": 'what is',\n",
    "                \"what've\": 'what have',\n",
    "                \"when's\": 'when is',\n",
    "                \"when've\": 'when have',\n",
    "                \"where'd\": 'where did',\n",
    "                \"where's\": 'where is',\n",
    "                \"where've\": 'where have',\n",
    "                \"who'll\": 'who will',\n",
    "                \"who'll've\": 'who will have',\n",
    "                \"who's\": 'who is',\n",
    "                \"who've\": 'who have',\n",
    "                \"why's\": 'why is',\n",
    "                \"why've\": 'why have',\n",
    "                \"will've\": 'will have',\n",
    "                \"won't\": 'will not',\n",
    "                \"won't've\": 'will not have',\n",
    "                \"would've\": 'would have',\n",
    "                \"wouldn't\": 'would not',\n",
    "                \"wouldn't've\": 'would not have',\n",
    "                \"y'all\": 'you all',\n",
    "                \"y'all'd\": 'you all would',\n",
    "                \"y'all'd've\": 'you all would have',\n",
    "                \"y'all're\": 'you all are',\n",
    "                \"y'all've\": 'you all have',\n",
    "                \"you'd\": 'you would',\n",
    "                \"you'd've\": 'you would have',\n",
    "                \"you'll\": 'you will',\n",
    "                \"you'll've\": 'you will have',\n",
    "                \"you're\": 'you are',\n",
    "                \"you've\": 'you have'}"
   ],
   "metadata": {
    "collapsed": false,
    "ExecuteTime": {
     "end_time": "2024-01-07T12:34:58.983694Z",
     "start_time": "2024-01-07T12:34:58.981601Z"
    }
   },
   "id": "80fc5f10f169e140"
  },
  {
   "cell_type": "code",
   "execution_count": 6,
   "outputs": [
    {
     "name": "stdout",
     "output_type": "stream",
     "text": [
      "179\n"
     ]
    }
   ],
   "source": [
    "# stopwords\n",
    "stopwords = set(stopwords.words('english'))\n",
    "print(len(stopwords))"
   ],
   "metadata": {
    "collapsed": false,
    "ExecuteTime": {
     "end_time": "2024-01-07T12:34:58.989673Z",
     "start_time": "2024-01-07T12:34:58.984031Z"
    }
   },
   "id": "4ecd67cdf6195e2f"
  },
  {
   "cell_type": "code",
   "execution_count": 7,
   "outputs": [
    {
     "name": "stdout",
     "output_type": "stream",
     "text": [
      "everything bought great infact ordered twice third ordered wasfor mother father\n",
      "great way to start the day\n"
     ]
    }
   ],
   "source": [
    "def preprocess_sentence(sentence, is_stopwords=True):\n",
    "    sentence = sentence.lower()\n",
    "    sentence = BeautifulSoup(sentence, features='lxml').text\n",
    "    sentence = re.sub(r'\\([^)]*\\)', '', sentence) # 괄호로 닫힌 문자열  제거 e.g.,) my husband (and myself) for => my husband for\n",
    "    sentence = re.sub('\"','', sentence) \n",
    "    sentence = ' '.join([contractions[word] if word in contractions else word for word in sentence.split()])\n",
    "    sentence = re.sub(r\"'s\\b\",\"\",sentence)\n",
    "    sentence = re.sub(\"[^a-zA-Z]\", \" \", sentence)\n",
    "    sentence = re.sub('[m]{2,}', 'mm', sentence) # m이 3개 이상이면 2개로 변경. Ex) ummmmmmm yeah -> umm yeah\n",
    "    \n",
    "    if is_stopwords:\n",
    "        tokens = ' '.join([word for word in sentence.split() if not word in stopwords if len(word) > 1])\n",
    "    else:\n",
    "        tokens = ' '.join(word for word in sentence.split() if len(word) > 1)\n",
    "    \n",
    "    return tokens\n",
    "\n",
    "# test\n",
    "temp_text = 'Everything I bought was great, infact I ordered twice and the third ordered was<br />for my mother and father.'\n",
    "temp_summary = 'Great way to start (or finish) the day!!!'\n",
    "print(preprocess_sentence(temp_text))\n",
    "print(preprocess_sentence(temp_summary, 0))"
   ],
   "metadata": {
    "collapsed": false,
    "ExecuteTime": {
     "end_time": "2024-01-07T12:34:58.990947Z",
     "start_time": "2024-01-07T12:34:58.988324Z"
    }
   },
   "id": "46291494361ffe91"
  },
  {
   "cell_type": "code",
   "execution_count": 8,
   "outputs": [
    {
     "name": "stderr",
     "output_type": "stream",
     "text": [
      "<ipython-input-7-6c217c7be6b7>:3: MarkupResemblesLocatorWarning: The input looks more like a filename than markup. You may want to open this file and pass the filehandle into Beautiful Soup.\n",
      "  sentence = BeautifulSoup(sentence, features='lxml').text\n",
      "<ipython-input-7-6c217c7be6b7>:3: MarkupResemblesLocatorWarning: The input looks more like a URL than markup. You may want to use an HTTP client like requests to get the document behind the URL, and feed that document to Beautiful Soup.\n",
      "  sentence = BeautifulSoup(sentence, features='lxml').text\n"
     ]
    },
    {
     "data": {
      "text/plain": "                 Summary                                               Text\n0  good quality dog food  bought several vitality canned dog food produc...\n1      not as advertised  product arrived labeled jumbo salted peanuts p...\n2    delight says it all  confection around centuries light pillowy citr...\n3         cough medicine  looking secret ingredient robitussin believe f...\n4            great taffy  great taffy great price wide assortment yummy ...",
      "text/html": "<div>\n<style scoped>\n    .dataframe tbody tr th:only-of-type {\n        vertical-align: middle;\n    }\n\n    .dataframe tbody tr th {\n        vertical-align: top;\n    }\n\n    .dataframe thead th {\n        text-align: right;\n    }\n</style>\n<table border=\"1\" class=\"dataframe\">\n  <thead>\n    <tr style=\"text-align: right;\">\n      <th></th>\n      <th>Summary</th>\n      <th>Text</th>\n    </tr>\n  </thead>\n  <tbody>\n    <tr>\n      <th>0</th>\n      <td>good quality dog food</td>\n      <td>bought several vitality canned dog food produc...</td>\n    </tr>\n    <tr>\n      <th>1</th>\n      <td>not as advertised</td>\n      <td>product arrived labeled jumbo salted peanuts p...</td>\n    </tr>\n    <tr>\n      <th>2</th>\n      <td>delight says it all</td>\n      <td>confection around centuries light pillowy citr...</td>\n    </tr>\n    <tr>\n      <th>3</th>\n      <td>cough medicine</td>\n      <td>looking secret ingredient robitussin believe f...</td>\n    </tr>\n    <tr>\n      <th>4</th>\n      <td>great taffy</td>\n      <td>great taffy great price wide assortment yummy ...</td>\n    </tr>\n  </tbody>\n</table>\n</div>"
     },
     "execution_count": 8,
     "metadata": {},
     "output_type": "execute_result"
    }
   ],
   "source": [
    "clean_text = []\n",
    "for sentence in df['Text']:\n",
    "    clean_sentence = preprocess_sentence(sentence)\n",
    "    clean_text.append(clean_sentence)\n",
    "    \n",
    "df['Text'] = clean_text\n",
    "    \n",
    "clean_summary = []\n",
    "for sentence in df['Summary']:\n",
    "    clean_sentence = preprocess_sentence(sentence, 0)\n",
    "    clean_summary.append(clean_sentence)\n",
    "    \n",
    "df['Summary'] = clean_summary\n",
    "    \n",
    "df.head(5)"
   ],
   "metadata": {
    "collapsed": false,
    "ExecuteTime": {
     "end_time": "2024-01-07T12:35:11.005287Z",
     "start_time": "2024-01-07T12:34:58.991620Z"
    }
   },
   "id": "f0dfd008ac00a25d"
  },
  {
   "cell_type": "code",
   "execution_count": 9,
   "outputs": [
    {
     "name": "stdout",
     "output_type": "stream",
     "text": [
      "Summary    0\n",
      "Text       0\n",
      "dtype: int64\n",
      "Summary    62801\n",
      "Text       88350\n",
      "dtype: int64\n",
      "88425\n",
      "88350\n"
     ]
    }
   ],
   "source": [
    "# check null and duplicate again\n",
    "print(df.isnull().sum())\n",
    "print(df.nunique())\n",
    "print(len(df))\n",
    "\n",
    "df = df.drop_duplicates(subset=['Text'])\n",
    "print(len(df))"
   ],
   "metadata": {
    "collapsed": false,
    "ExecuteTime": {
     "end_time": "2024-01-07T12:35:11.113415Z",
     "start_time": "2024-01-07T12:35:11.016597Z"
    }
   },
   "id": "bb57babf626e0664"
  },
  {
   "cell_type": "code",
   "execution_count": 10,
   "outputs": [
    {
     "name": "stdout",
     "output_type": "stream",
     "text": [
      "텍스트의 최소 길이 : 2\n",
      "텍스트의 최대 길이 : 1235\n",
      "텍스트의 평균 길이 : 38.789620826259195\n",
      "요약의 최소 길이 : 0\n",
      "요약의 최대 길이 : 28\n",
      "요약의 평균 길이 : 4.006191284663271\n"
     ]
    },
    {
     "data": {
      "text/plain": "<Figure size 432x288 with 2 Axes>",
      "image/png": "[encoded data removed]"
     },
     "metadata": {
      "needs_background": "light"
     },
     "output_type": "display_data"
    },
    {
     "data": {
      "text/plain": "<Figure size 432x288 with 1 Axes>",
      "image/png": "[encoded data removed]"
     },
     "metadata": {
      "needs_background": "light"
     },
     "output_type": "display_data"
    },
    {
     "data": {
      "text/plain": "<Figure size 432x288 with 1 Axes>",
      "image/png": "[encoded data removed]"
     },
     "metadata": {
      "needs_background": "light"
     },
     "output_type": "display_data"
    }
   ],
   "source": [
    "# 길이 분포 출력\n",
    "text_len = [len(s.split()) for s in df['Text']]\n",
    "summary_len = [len(s.split()) for s in df['Summary']]\n",
    "\n",
    "print('텍스트의 최소 길이 : {}'.format(np.min(text_len)))\n",
    "print('텍스트의 최대 길이 : {}'.format(np.max(text_len)))\n",
    "print('텍스트의 평균 길이 : {}'.format(np.mean(text_len)))\n",
    "print('요약의 최소 길이 : {}'.format(np.min(summary_len)))\n",
    "print('요약의 최대 길이 : {}'.format(np.max(summary_len)))\n",
    "print('요약의 평균 길이 : {}'.format(np.mean(summary_len)))\n",
    "\n",
    "plt.subplot(1,2,1)\n",
    "plt.boxplot(summary_len)\n",
    "plt.title('Summary')\n",
    "plt.subplot(1,2,2)\n",
    "plt.boxplot(text_len)\n",
    "plt.title('Text')\n",
    "plt.tight_layout()\n",
    "plt.show()\n",
    "\n",
    "plt.title('Summary')\n",
    "plt.hist(summary_len, bins=40)\n",
    "plt.xlabel('length of samples')\n",
    "plt.ylabel('number of samples')\n",
    "plt.show()\n",
    "\n",
    "plt.title('Text')\n",
    "plt.hist(text_len, bins=40)\n",
    "plt.xlabel('length of samples')\n",
    "plt.ylabel('number of samples')\n",
    "plt.show()"
   ],
   "metadata": {
    "collapsed": false,
    "ExecuteTime": {
     "end_time": "2024-01-07T12:35:11.830835Z",
     "start_time": "2024-01-07T12:35:11.163206Z"
    }
   },
   "id": "56cb2dd60f0b814c"
  },
  {
   "cell_type": "code",
   "execution_count": 11,
   "outputs": [
    {
     "name": "stdout",
     "output_type": "stream",
     "text": [
      "전체 샘플 중 길이가 50 이하인 샘플의 비율: 0.7746576117713639\n",
      "전체 샘플 중 길이가 8 이하인 샘플의 비율: 0.9426372382569327\n"
     ]
    }
   ],
   "source": [
    "text_max_len = 50\n",
    "summary_max_len = 8\n",
    "\n",
    "def below_threshold_len(max_len, nested_list):\n",
    "    cnt = 0\n",
    "    for s in nested_list:\n",
    "        if(len(s.split()) <= max_len):\n",
    "            cnt = cnt + 1\n",
    "    print('전체 샘플 중 길이가 %s 이하인 샘플의 비율: %s'%(max_len, (cnt / len(nested_list))))\n",
    "\n",
    "\n",
    "below_threshold_len(text_max_len, df['Text'])\n",
    "below_threshold_len(summary_max_len, df['Summary'])"
   ],
   "metadata": {
    "collapsed": false,
    "ExecuteTime": {
     "end_time": "2024-01-07T12:35:11.969488Z",
     "start_time": "2024-01-07T12:35:11.881Z"
    }
   },
   "id": "2fbe769347fb6da3"
  },
  {
   "cell_type": "code",
   "execution_count": 12,
   "outputs": [
    {
     "name": "stdout",
     "output_type": "stream",
     "text": [
      "65828\n",
      "                 Summary                                               Text\n",
      "0  good quality dog food  bought several vitality canned dog food produc...\n",
      "1      not as advertised  product arrived labeled jumbo salted peanuts p...\n",
      "2    delight says it all  confection around centuries light pillowy citr...\n",
      "3         cough medicine  looking secret ingredient robitussin believe f...\n",
      "4            great taffy  great taffy great price wide assortment yummy ...\n"
     ]
    }
   ],
   "source": [
    "df = df[df['Text'].apply(lambda row: len(row.split()) <= text_max_len)]\n",
    "df = df[df['Summary'].apply(lambda row: len(row.split()) <= summary_max_len)]\n",
    "\n",
    "print(len(df))\n",
    "print(df.head(5))"
   ],
   "metadata": {
    "collapsed": false,
    "ExecuteTime": {
     "end_time": "2024-01-07T12:35:12.105316Z",
     "start_time": "2024-01-07T12:35:11.970078Z"
    }
   },
   "id": "f97d05612532c269"
  },
  {
   "cell_type": "markdown",
   "source": [
    "### df[...]:\n",
    " - boolean indexing operation on the DataFrame df. The inner operation creates a boolean series, where each value is True if the condition is met (i.e., the text length is within the limit) and False otherwise.The df is then indexed with this boolean series, resulting in a new DataFrame that only contains rows where the condition is True."
   ],
   "metadata": {
    "collapsed": false
   },
   "id": "f8be175f64d138b3"
  },
  {
   "cell_type": "markdown",
   "source": [
    "# Tokenizing"
   ],
   "metadata": {
    "collapsed": false
   },
   "id": "fbf50c32352afcd"
  },
  {
   "cell_type": "code",
   "execution_count": 13,
   "outputs": [
    {
     "data": {
      "text/plain": "                 Summary                                               Text  \\\n0  good quality dog food  bought several vitality canned dog food produc...   \n1      not as advertised  product arrived labeled jumbo salted peanuts p...   \n2    delight says it all  confection around centuries light pillowy citr...   \n3         cough medicine  looking secret ingredient robitussin believe f...   \n4            great taffy  great taffy great price wide assortment yummy ...   \n\n                    decoder_input                  decoder_target  \n0  sostoken good quality dog food  good quality dog food eostoken  \n1      sostoken not as advertised      not as advertised eostoken  \n2    sostoken delight says it all    delight says it all eostoken  \n3         sostoken cough medicine         cough medicine eostoken  \n4            sostoken great taffy            great taffy eostoken  ",
      "text/html": "<div>\n<style scoped>\n    .dataframe tbody tr th:only-of-type {\n        vertical-align: middle;\n    }\n\n    .dataframe tbody tr th {\n        vertical-align: top;\n    }\n\n    .dataframe thead th {\n        text-align: right;\n    }\n</style>\n<table border=\"1\" class=\"dataframe\">\n  <thead>\n    <tr style=\"text-align: right;\">\n      <th></th>\n      <th>Summary</th>\n      <th>Text</th>\n      <th>decoder_input</th>\n      <th>decoder_target</th>\n    </tr>\n  </thead>\n  <tbody>\n    <tr>\n      <th>0</th>\n      <td>good quality dog food</td>\n      <td>bought several vitality canned dog food produc...</td>\n      <td>sostoken good quality dog food</td>\n      <td>good quality dog food eostoken</td>\n    </tr>\n    <tr>\n      <th>1</th>\n      <td>not as advertised</td>\n      <td>product arrived labeled jumbo salted peanuts p...</td>\n      <td>sostoken not as advertised</td>\n      <td>not as advertised eostoken</td>\n    </tr>\n    <tr>\n      <th>2</th>\n      <td>delight says it all</td>\n      <td>confection around centuries light pillowy citr...</td>\n      <td>sostoken delight says it all</td>\n      <td>delight says it all eostoken</td>\n    </tr>\n    <tr>\n      <th>3</th>\n      <td>cough medicine</td>\n      <td>looking secret ingredient robitussin believe f...</td>\n      <td>sostoken cough medicine</td>\n      <td>cough medicine eostoken</td>\n    </tr>\n    <tr>\n      <th>4</th>\n      <td>great taffy</td>\n      <td>great taffy great price wide assortment yummy ...</td>\n      <td>sostoken great taffy</td>\n      <td>great taffy eostoken</td>\n    </tr>\n  </tbody>\n</table>\n</div>"
     },
     "execution_count": 13,
     "metadata": {},
     "output_type": "execute_result"
    }
   ],
   "source": [
    "df['decoder_input'] = df['Summary'].apply(lambda s: 'sostoken '+ s)\n",
    "df['decoder_target'] = df['Summary'].apply(lambda s: s + ' eostoken')\n",
    "\n",
    "encoder_input = np.array(df['Text'])\n",
    "decoder_input = np.array(df['decoder_input'])\n",
    "decoder_target = np.array(df['decoder_target'])\n",
    "\n",
    "df.head(5)"
   ],
   "metadata": {
    "collapsed": false,
    "ExecuteTime": {
     "end_time": "2024-01-07T12:35:12.121945Z",
     "start_time": "2024-01-07T12:35:12.118146Z"
    }
   },
   "id": "f30ecd6e120e27ff"
  },
  {
   "cell_type": "code",
   "execution_count": 14,
   "outputs": [
    {
     "name": "stdout",
     "output_type": "stream",
     "text": [
      "[29466 29593 29630 ... 45891 42613 43567]\n",
      "테스트 데이터의 수 : 13165\n",
      "훈련 데이터의 개수 : 52663\n",
      "훈련 레이블의 개수 : 52663\n",
      "테스트 데이터의 개수 : 13165\n",
      "테스트 레이블의 개수 : 13165\n"
     ]
    }
   ],
   "source": [
    "indices = np.arange(encoder_input.shape[0])\n",
    "np.random.shuffle(indices)\n",
    "print(indices)\n",
    "\n",
    "encoder_input = encoder_input[indices]\n",
    "decoder_input = decoder_input[indices]\n",
    "decoder_target = decoder_target[indices]\n",
    "\n",
    "n_of_val = int(len(encoder_input)*0.2)\n",
    "print('테스트 데이터의 수 :',n_of_val)\n",
    "\n",
    "encoder_input_train = encoder_input[:-n_of_val]\n",
    "decoder_input_train = decoder_input[:-n_of_val]\n",
    "decoder_target_train = decoder_target[:-n_of_val]\n",
    "\n",
    "encoder_input_test = encoder_input[-n_of_val:]\n",
    "decoder_input_test = decoder_input[-n_of_val:]\n",
    "decoder_target_test = decoder_target[-n_of_val:]\n",
    "\n",
    "print('훈련 데이터의 개수 :', len(encoder_input_train))\n",
    "print('훈련 레이블의 개수 :',len(decoder_input_train))\n",
    "print('테스트 데이터의 개수 :',len(encoder_input_test))\n",
    "print('테스트 레이블의 개수 :',len(decoder_input_test))"
   ],
   "metadata": {
    "collapsed": false,
    "ExecuteTime": {
     "end_time": "2024-01-07T12:35:12.151422Z",
     "start_time": "2024-01-07T12:35:12.123771Z"
    }
   },
   "id": "2f25618c070c4313"
  },
  {
   "cell_type": "code",
   "execution_count": 15,
   "outputs": [
    {
     "name": "stdout",
     "output_type": "stream",
     "text": [
      "11309 gap\n",
      "1155\n"
     ]
    }
   ],
   "source": [
    "src_tokenizer = Tokenizer()\n",
    "src_tokenizer.fit_on_texts(encoder_input_train)\n",
    "\n",
    "print(src_tokenizer.word_index['gap'], src_tokenizer.index_word[11309]) # check index of word\n",
    "print(src_tokenizer.word_counts['home']) # check frequency of word"
   ],
   "metadata": {
    "collapsed": false,
    "ExecuteTime": {
     "end_time": "2024-01-07T12:35:12.747099Z",
     "start_time": "2024-01-07T12:35:12.186378Z"
    }
   },
   "id": "e69e1dd498907fa7"
  },
  {
   "cell_type": "code",
   "execution_count": 16,
   "outputs": [
    {
     "name": "stdout",
     "output_type": "stream",
     "text": [
      "단어 집합(vocabulary)의 크기 : 32081\n",
      "등장 빈도가 6번 이하인 희귀 단어의 수: 23821\n",
      "단어 집합에서 희귀 단어를 제외시킬 경우의 단어 집합의 크기 8260\n",
      "단어 집합에서 희귀 단어의 비율: 74.25267292166703\n",
      "전체 등장 빈도에서 희귀 단어 등장 빈도 비율: 3.394822959978698\n"
     ]
    }
   ],
   "source": [
    "threshold = 7\n",
    "total_cnt = len(src_tokenizer.word_index) # 단어의 수\n",
    "rare_cnt = 0 # 등장 빈도수가 threshold보다 작은 단어의 개수를 카운트\n",
    "total_freq = 0 # 훈련 데이터의 전체 단어 빈도수 총 합\n",
    "rare_freq = 0 # 등장 빈도수가 threshold보다 작은 단어의 등장 빈도수의 총 합\n",
    "\n",
    "# 단어와 빈도수의 쌍(pair)을 key와 value로 받는다.\n",
    "for key, value in src_tokenizer.word_counts.items():\n",
    "    total_freq = total_freq + value\n",
    "\n",
    "    # 단어의 등장 빈도수가 threshold보다 작으면\n",
    "    if(value < threshold):\n",
    "        rare_cnt = rare_cnt + 1\n",
    "        rare_freq = rare_freq + value\n",
    "\n",
    "print('단어 집합(vocabulary)의 크기 :',total_cnt)\n",
    "print('등장 빈도가 %s번 이하인 희귀 단어의 수: %s'%(threshold - 1, rare_cnt))\n",
    "print('단어 집합에서 희귀 단어를 제외시킬 경우의 단어 집합의 크기 %s'%(total_cnt - rare_cnt))\n",
    "print(\"단어 집합에서 희귀 단어의 비율:\", (rare_cnt / total_cnt)*100)\n",
    "print(\"전체 등장 빈도에서 희귀 단어 등장 빈도 비율:\", (rare_freq / total_freq)*100)"
   ],
   "metadata": {
    "collapsed": false,
    "ExecuteTime": {
     "end_time": "2024-01-07T12:35:12.757123Z",
     "start_time": "2024-01-07T12:35:12.755041Z"
    }
   },
   "id": "e4727ff2a60d5ec"
  },
  {
   "cell_type": "code",
   "execution_count": 17,
   "outputs": [
    {
     "name": "stdout",
     "output_type": "stream",
     "text": [
      "[[242, 12, 1303, 1841, 5287, 19, 77, 762, 19, 2809, 818, 22, 2095, 130, 7682, 10, 1081, 101, 1860, 4170, 818, 762, 19, 3, 16, 242, 6], [41, 1, 1633, 666, 1528, 157, 626, 294, 1070, 150, 917, 1574, 1382, 324, 6, 498, 205, 967, 100, 7182, 5112, 205, 1181, 4, 58, 273, 899, 3], [4272, 1968, 175, 2648, 76, 113, 51, 920, 335, 93, 340, 36, 192, 86, 14, 243, 239, 41, 2, 1929, 407, 784, 180, 556, 14, 108, 231, 7183, 867, 166, 20, 517, 161, 51, 645, 296, 14]]\n"
     ]
    }
   ],
   "source": [
    "# remove rare words\n",
    "src_vocab = 8500\n",
    "src_tokenizer = Tokenizer(num_words=src_vocab)\n",
    "src_tokenizer.fit_on_texts(encoder_input_train)\n",
    "\n",
    "# integer encoding\n",
    "encoder_input_train = src_tokenizer.texts_to_sequences(encoder_input_train)\n",
    "encoder_input_test = src_tokenizer.texts_to_sequences(encoder_input_test)\n",
    "\n",
    "print(encoder_input_train[:3])"
   ],
   "metadata": {
    "collapsed": false,
    "ExecuteTime": {
     "end_time": "2024-01-07T12:35:13.886032Z",
     "start_time": "2024-01-07T12:35:12.805874Z"
    }
   },
   "id": "53d1e0cb081ca47c"
  },
  {
   "cell_type": "code",
   "execution_count": 18,
   "outputs": [
    {
     "name": "stdout",
     "output_type": "stream",
     "text": [
      "337 home\n",
      "77\n"
     ]
    }
   ],
   "source": [
    "tar_tokenizer = Tokenizer()\n",
    "tar_tokenizer.fit_on_texts(decoder_input_train)\n",
    "\n",
    "print(tar_tokenizer.word_index['home'], tar_tokenizer.index_word[337])\n",
    "print(tar_tokenizer.word_counts['home'])"
   ],
   "metadata": {
    "collapsed": false,
    "ExecuteTime": {
     "end_time": "2024-01-07T12:35:14.109280Z",
     "start_time": "2024-01-07T12:35:13.941567Z"
    }
   },
   "id": "5758681bd536d629"
  },
  {
   "cell_type": "code",
   "execution_count": 19,
   "outputs": [
    {
     "name": "stdout",
     "output_type": "stream",
     "text": [
      "단어 집합(vocabulary)의 크기 : 10442\n",
      "등장 빈도가 5번 이하인 희귀 단어의 수: 8047\n",
      "단어 집합에서 희귀 단어를 제외시킬 경우의 단어 집합의 크기 2395\n",
      "단어 집합에서 희귀 단어의 비율: 77.06378088488796\n",
      "전체 등장 빈도에서 희귀 단어 등장 빈도 비율: 5.843161775803704\n"
     ]
    }
   ],
   "source": [
    "threshold = 6\n",
    "total_cnt = len(tar_tokenizer.word_index) # 단어의 수\n",
    "rare_cnt = 0 # 등장 빈도수가 threshold보다 작은 단어의 개수를 카운트\n",
    "total_freq = 0 # 훈련 데이터의 전체 단어 빈도수 총 합\n",
    "rare_freq = 0 # 등장 빈도수가 threshold보다 작은 단어의 등장 빈도수의 총 합\n",
    "\n",
    "# 단어와 빈도수의 쌍(pair)을 key와 value로 받는다.\n",
    "for key, value in tar_tokenizer.word_counts.items():\n",
    "    total_freq = total_freq + value\n",
    "\n",
    "    # 단어의 등장 빈도수가 threshold보다 작으면\n",
    "    if(value < threshold):\n",
    "        rare_cnt = rare_cnt + 1\n",
    "        rare_freq = rare_freq + value\n",
    "\n",
    "print('단어 집합(vocabulary)의 크기 :',total_cnt)\n",
    "print('등장 빈도가 %s번 이하인 희귀 단어의 수: %s'%(threshold - 1, rare_cnt))\n",
    "print('단어 집합에서 희귀 단어를 제외시킬 경우의 단어 집합의 크기 %s'%(total_cnt - rare_cnt))\n",
    "print(\"단어 집합에서 희귀 단어의 비율:\", (rare_cnt / total_cnt)*100)\n",
    "print(\"전체 등장 빈도에서 희귀 단어 등장 빈도 비율:\", (rare_freq / total_freq)*100)"
   ],
   "metadata": {
    "collapsed": false,
    "ExecuteTime": {
     "end_time": "2024-01-07T12:35:14.114450Z",
     "start_time": "2024-01-07T12:35:14.112418Z"
    }
   },
   "id": "49acffb5d1a165c5"
  },
  {
   "cell_type": "code",
   "execution_count": 20,
   "outputs": [
    {
     "name": "stdout",
     "output_type": "stream",
     "text": [
      "[[1, 219, 619], [1, 80, 1153, 54], [1, 11, 32], [1, 271, 20], [1, 49, 147]]\n",
      "[[219, 619, 2], [80, 1153, 54, 2], [11, 32, 2], [271, 20, 2], [49, 147, 2]]\n"
     ]
    }
   ],
   "source": [
    "# remove rare words\n",
    "tar_vocab = 2400\n",
    "tar_tokenizer = Tokenizer(num_words=tar_vocab)\n",
    "tar_tokenizer.fit_on_texts(decoder_input_train) \n",
    "tar_tokenizer.fit_on_texts(decoder_target_train)\n",
    "\n",
    "# integer encoding\n",
    "decoder_input_train = tar_tokenizer.texts_to_sequences(decoder_input_train)\n",
    "decoder_target_train = tar_tokenizer.texts_to_sequences(decoder_target_train)\n",
    "decoder_input_test = tar_tokenizer.texts_to_sequences(decoder_input_test)\n",
    "decoder_target_test = tar_tokenizer.texts_to_sequences(decoder_target_test)\n",
    "\n",
    "print(decoder_input_train[:5])\n",
    "print(decoder_target_train[:5])"
   ],
   "metadata": {
    "collapsed": false,
    "ExecuteTime": {
     "end_time": "2024-01-07T12:35:15.092754Z",
     "start_time": "2024-01-07T12:35:14.162016Z"
    }
   },
   "id": "ccb1c6a2686df75c"
  },
  {
   "cell_type": "code",
   "execution_count": 21,
   "outputs": [
    {
     "name": "stdout",
     "output_type": "stream",
     "text": [
      "52663 52663 52663 13165 13165 13165\n",
      "51546 51546 51546 12858 12858 12858\n"
     ]
    }
   ],
   "source": [
    "# finding empty sample indices\n",
    "print(len(encoder_input_train), len(decoder_input_train), len(decoder_target_train), len(encoder_input_test), len(decoder_input_test), len(decoder_target_test))\n",
    "\n",
    "drop_train = [index for index, sentence in enumerate(decoder_input_train) if len(sentence) == 1]\n",
    "drop_test = [index for index, sentence in enumerate(decoder_input_test) if len(sentence) == 1]\n",
    "\n",
    "# padding\n",
    "encoder_input_train = pad_sequences(encoder_input_train, maxlen=text_max_len, padding='post')\n",
    "decoder_input_train = pad_sequences(decoder_input_train, maxlen=summary_max_len, padding='post')\n",
    "decoder_target_train = pad_sequences(decoder_target_train, maxlen=summary_max_len, padding='post')\n",
    "\n",
    "encoder_input_test = pad_sequences(encoder_input_test, maxlen=text_max_len, padding='post')\n",
    "decoder_input_test = pad_sequences(decoder_input_test, maxlen=summary_max_len, padding='post')\n",
    "decoder_target_test = pad_sequences(decoder_target_test, maxlen=summary_max_len, padding='post')\n",
    "\n",
    "# drop\n",
    "encoder_input_train = np.delete(encoder_input_train, drop_train, axis=0)\n",
    "decoder_input_train = np.delete(decoder_input_train, drop_train, axis=0)\n",
    "decoder_target_train = np.delete(decoder_target_train, drop_train, axis=0)\n",
    "\n",
    "encoder_input_test = np.delete(encoder_input_test, drop_test, axis=0)\n",
    "decoder_input_test = np.delete(decoder_input_test, drop_test, axis=0)\n",
    "decoder_target_test = np.delete(decoder_target_test, drop_test, axis=0)\n",
    "\n",
    "print(len(encoder_input_train), len(decoder_input_train), len(decoder_target_train), len(encoder_input_test), len(decoder_input_test), len(decoder_target_test))"
   ],
   "metadata": {
    "collapsed": false,
    "ExecuteTime": {
     "end_time": "2024-01-07T12:35:15.285398Z",
     "start_time": "2024-01-07T12:35:15.099443Z"
    }
   },
   "id": "fad254e9390726dc"
  },
  {
   "cell_type": "markdown",
   "source": [
    "# Modeling"
   ],
   "metadata": {
    "collapsed": false
   },
   "id": "8502b200bdb8b614"
  },
  {
   "cell_type": "code",
   "execution_count": 22,
   "outputs": [],
   "source": [
    "from keras.layers import Input, LSTM, Embedding, Dense, Concatenate\n",
    "from keras.models import Model\n",
    "from keras.callbacks import EarlyStopping, ModelCheckpoint"
   ],
   "metadata": {
    "collapsed": false,
    "ExecuteTime": {
     "end_time": "2024-01-07T12:35:15.290566Z",
     "start_time": "2024-01-07T12:35:15.285793Z"
    }
   },
   "id": "165f6e1fea3566f1"
  },
  {
   "cell_type": "markdown",
   "source": [
    "## Encoder"
   ],
   "metadata": {
    "collapsed": false
   },
   "id": "2f811c78cf7f739c"
  },
  {
   "cell_type": "code",
   "execution_count": 23,
   "outputs": [],
   "source": [
    "# hyperparameters\n",
    "embedding_dim = 128\n",
    "hidden_units = 256\n",
    "dropout_ratio = 0.4\n",
    "\n",
    "enc_input = Input(shape=(text_max_len,))\n",
    "enc_emb = Embedding(src_vocab, embedding_dim)(enc_input)\n",
    "\n",
    "# lstm\n",
    "encoder_outputs_layer_1 = LSTM(units=hidden_units, return_state=False, return_sequences=True, dropout=dropout_ratio, recurrent_dropout=dropout_ratio)\n",
    "encoder_outputs_1 = encoder_outputs_layer_1(enc_emb)\n",
    "\n",
    "encoder_outputs_layer_2 = LSTM(units=hidden_units, return_state=False, return_sequences=True, dropout=dropout_ratio, recurrent_dropout=dropout_ratio)\n",
    "encoder_outputs_2 = encoder_outputs_layer_2(encoder_outputs_1)\n",
    "\n",
    "encoder_outputs_layer_fin = LSTM(units=hidden_units, return_state=True, return_sequences=True, dropout=dropout_ratio, recurrent_dropout=dropout_ratio)\n",
    "encoder_outputs, state_h, state_c = encoder_outputs_layer_fin(encoder_outputs_2)"
   ],
   "metadata": {
    "collapsed": false,
    "ExecuteTime": {
     "end_time": "2024-01-07T12:35:15.494965Z",
     "start_time": "2024-01-07T12:35:15.288574Z"
    }
   },
   "id": "fa9cf65c2dda6c96"
  },
  {
   "cell_type": "markdown",
   "source": [
    "# Decoder"
   ],
   "metadata": {
    "collapsed": false
   },
   "id": "2a4e3d12940d37bb"
  },
  {
   "cell_type": "code",
   "execution_count": 38,
   "outputs": [],
   "source": [
    "dec_input = Input(shape=(None,))\n",
    "\n",
    "dec_emb_layer = Embedding(tar_vocab, embedding_dim)\n",
    "dec_emb = dec_emb_layer(dec_input)\n",
    "\n",
    "# lstm\n",
    "decoder_lstm = LSTM(units=hidden_units, return_state=True, return_sequences=True, dropout=dropout_ratio, recurrent_dropout=0.2)\n",
    "decoder_outputs, _, _ = decoder_lstm(dec_emb, initial_state=[state_h, state_c])"
   ],
   "metadata": {
    "collapsed": false,
    "ExecuteTime": {
     "end_time": "2024-01-07T12:45:27.624759Z",
     "start_time": "2024-01-07T12:45:27.550833Z"
    }
   },
   "id": "23f3353ac1503514"
  },
  {
   "cell_type": "code",
   "execution_count": 25,
   "outputs": [],
   "source": [
    "# using attention layer instead of this part.\n",
    "# \n",
    "# # softmax\n",
    "# decoder_softmax_layer = Dense(tar_vocab, activation='softmax')\n",
    "# decoder_softmax_outputs = decoder_softmax_layer(decoder_outputs)\n",
    "# \n",
    "# # model\n",
    "# model = Model([enc_input, dec_input], decoder_softmax_outputs)\n",
    "# model.summary()"
   ],
   "metadata": {
    "collapsed": false,
    "ExecuteTime": {
     "end_time": "2024-01-07T12:35:15.567562Z",
     "start_time": "2024-01-07T12:35:15.561867Z"
    }
   },
   "id": "98bda1b4278ffade"
  },
  {
   "cell_type": "markdown",
   "source": [
    "## Attention "
   ],
   "metadata": {
    "collapsed": false
   },
   "id": "f2541b40ef561b8e"
  },
  {
   "cell_type": "code",
   "execution_count": 26,
   "outputs": [],
   "source": [
    "import tensorflow as tf\n",
    "from keras import backend as K\n",
    "from keras.layers import Layer"
   ],
   "metadata": {
    "collapsed": false,
    "ExecuteTime": {
     "end_time": "2024-01-07T12:35:15.567717Z",
     "start_time": "2024-01-07T12:35:15.564269Z"
    }
   },
   "id": "abbaa98b27ca690b"
  },
  {
   "cell_type": "code",
   "execution_count": 27,
   "outputs": [],
   "source": [
    "# Bahdanau AttentionLayer code from outsource.\n",
    "class AttentionLayer(Layer):\n",
    "    \"\"\"\n",
    "    This class implements Bahdanau attention (https://arxiv.org/pdf/1409.0473.pdf).\n",
    "    There are three sets of weights introduced W_a, U_a, and V_a\n",
    "     \"\"\"\n",
    "\n",
    "    def __init__(self, **kwargs):\n",
    "        super(AttentionLayer, self).__init__(**kwargs)\n",
    "\n",
    "    def build(self, input_shape):\n",
    "        assert isinstance(input_shape, list)\n",
    "        # Create a trainable weight variable for this layer.\n",
    "\n",
    "        self.W_a = self.add_weight(name='W_a',\n",
    "                                   shape=tf.TensorShape((input_shape[0][2], input_shape[0][2])),\n",
    "                                   initializer='uniform',\n",
    "                                   trainable=True)\n",
    "        self.U_a = self.add_weight(name='U_a',\n",
    "                                   shape=tf.TensorShape((input_shape[1][2], input_shape[0][2])),\n",
    "                                   initializer='uniform',\n",
    "                                   trainable=True)\n",
    "        self.V_a = self.add_weight(name='V_a',\n",
    "                                   shape=tf.TensorShape((input_shape[0][2], 1)),\n",
    "                                   initializer='uniform',\n",
    "                                   trainable=True)\n",
    "\n",
    "        super(AttentionLayer, self).build(input_shape)  # Be sure to call this at the end\n",
    "\n",
    "    def call(self, inputs, verbose=False):\n",
    "        \"\"\"\n",
    "        inputs: [encoder_output_sequence, decoder_output_sequence]\n",
    "        \"\"\"\n",
    "        assert type(inputs) == list\n",
    "        encoder_out_seq, decoder_out_seq = inputs\n",
    "        if verbose:\n",
    "            print('encoder_out_seq>', encoder_out_seq.shape)\n",
    "            print('decoder_out_seq>', decoder_out_seq.shape)\n",
    "\n",
    "        def energy_step(inputs, states):\n",
    "            \"\"\" Step function for computing energy for a single decoder state\n",
    "            inputs: (batchsize * 1 * de_in_dim)\n",
    "            states: (batchsize * 1 * de_latent_dim)\n",
    "            \"\"\"\n",
    "\n",
    "            assert_msg = \"States must be an iterable. Got {} of type {}\".format(states, type(states))\n",
    "            assert isinstance(states, list) or isinstance(states, tuple), assert_msg\n",
    "\n",
    "            \"\"\" Some parameters required for shaping tensors\"\"\"\n",
    "            en_seq_len, en_hidden = encoder_out_seq.shape[1], encoder_out_seq.shape[2]\n",
    "            de_hidden = inputs.shape[-1]\n",
    "\n",
    "            \"\"\" Computing S.Wa where S=[s0, s1, ..., si]\"\"\"\n",
    "            # <= batch size * en_seq_len * latent_dim\n",
    "            W_a_dot_s = K.dot(encoder_out_seq, self.W_a)\n",
    "\n",
    "            \"\"\" Computing hj.Ua \"\"\"\n",
    "            U_a_dot_h = K.expand_dims(K.dot(inputs, self.U_a), 1)  # <= batch_size, 1, latent_dim\n",
    "            if verbose:\n",
    "                print('Ua.h>', U_a_dot_h.shape)\n",
    "\n",
    "            \"\"\" tanh(S.Wa + hj.Ua) \"\"\"\n",
    "            # <= batch_size*en_seq_len, latent_dim\n",
    "            Ws_plus_Uh = K.tanh(W_a_dot_s + U_a_dot_h)\n",
    "            if verbose:\n",
    "                print('Ws+Uh>', Ws_plus_Uh.shape)\n",
    "\n",
    "            \"\"\" softmax(va.tanh(S.Wa + hj.Ua)) \"\"\"\n",
    "            # <= batch_size, en_seq_len\n",
    "            e_i = K.squeeze(K.dot(Ws_plus_Uh, self.V_a), axis=-1)\n",
    "            # <= batch_size, en_seq_len\n",
    "            e_i = K.softmax(e_i)\n",
    "\n",
    "            if verbose:\n",
    "                print('ei>', e_i.shape)\n",
    "\n",
    "            return e_i, [e_i]\n",
    "\n",
    "        def context_step(inputs, states):\n",
    "            \"\"\" Step function for computing ci using ei \"\"\"\n",
    "\n",
    "            assert_msg = \"States must be an iterable. Got {} of type {}\".format(states, type(states))\n",
    "            assert isinstance(states, list) or isinstance(states, tuple), assert_msg\n",
    "\n",
    "            # <= batch_size, hidden_size\n",
    "            c_i = K.sum(encoder_out_seq * K.expand_dims(inputs, -1), axis=1)\n",
    "            if verbose:\n",
    "                print('ci>', c_i.shape)\n",
    "            return c_i, [c_i]\n",
    "\n",
    "        fake_state_c = K.sum(encoder_out_seq, axis=1)\n",
    "        fake_state_e = K.sum(encoder_out_seq, axis=2)  # <= (batch_size, enc_seq_len, latent_dim\n",
    "\n",
    "        \"\"\" Computing energy outputs \"\"\"\n",
    "        # e_outputs => (batch_size, de_seq_len, en_seq_len)\n",
    "        last_out, e_outputs, _ = K.rnn(\n",
    "            energy_step, decoder_out_seq, [fake_state_e],\n",
    "        )\n",
    "\n",
    "        \"\"\" Computing context vectors \"\"\"\n",
    "        last_out, c_outputs, _ = K.rnn(\n",
    "            context_step, e_outputs, [fake_state_c],\n",
    "        )\n",
    "\n",
    "        return c_outputs, e_outputs\n",
    "\n",
    "    def compute_output_shape(self, input_shape):\n",
    "        \"\"\" Outputs produced by the layer \"\"\"\n",
    "        return [\n",
    "            tf.TensorShape((input_shape[1][0], input_shape[1][1], input_shape[1][2])),\n",
    "            tf.TensorShape((input_shape[1][0], input_shape[1][1], input_shape[0][1]))\n",
    "        ]"
   ],
   "metadata": {
    "collapsed": false,
    "ExecuteTime": {
     "end_time": "2024-01-07T12:35:15.574976Z",
     "start_time": "2024-01-07T12:35:15.573606Z"
    }
   },
   "id": "88041bcd5e321ffc"
  },
  {
   "cell_type": "code",
   "execution_count": 28,
   "outputs": [
    {
     "name": "stdout",
     "output_type": "stream",
     "text": [
      "Model: \"model\"\n",
      "__________________________________________________________________________________________________\n",
      " Layer (type)                Output Shape                 Param #   Connected to                  \n",
      "==================================================================================================\n",
      " input_1 (InputLayer)        [(None, 50)]                 0         []                            \n",
      "                                                                                                  \n",
      " embedding (Embedding)       (None, 50, 128)              1088000   ['input_1[0][0]']             \n",
      "                                                                                                  \n",
      " lstm (LSTM)                 (None, 50, 256)              394240    ['embedding[0][0]']           \n",
      "                                                                                                  \n",
      " input_2 (InputLayer)        [(None, None)]               0         []                            \n",
      "                                                                                                  \n",
      " lstm_1 (LSTM)               (None, 50, 256)              525312    ['lstm[0][0]']                \n",
      "                                                                                                  \n",
      " embedding_1 (Embedding)     (None, None, 128)            307200    ['input_2[0][0]']             \n",
      "                                                                                                  \n",
      " lstm_2 (LSTM)               [(None, 50, 256),            525312    ['lstm_1[0][0]']              \n",
      "                              (None, 256),                                                        \n",
      "                              (None, 256)]                                                        \n",
      "                                                                                                  \n",
      " lstm_3 (LSTM)               (None, None, 256)            394240    ['embedding_1[0][0]',         \n",
      "                                                                     'lstm_2[0][1]',              \n",
      "                                                                     'lstm_2[0][2]']              \n",
      "                                                                                                  \n",
      " attention_layer (Attention  ((None, None, 256),          131328    ['lstm_2[0][0]',              \n",
      " Layer)                       (None, None, 50))                      'lstm_3[0][0]']              \n",
      "                                                                                                  \n",
      " concat_layer (Concatenate)  (None, None, 512)            0         ['lstm_3[0][0]',              \n",
      "                                                                     'attention_layer[0][0]']     \n",
      "                                                                                                  \n",
      " dense (Dense)               (None, None, 2400)           1231200   ['concat_layer[0][0]']        \n",
      "                                                                                                  \n",
      "==================================================================================================\n",
      "Total params: 4596832 (17.54 MB)\n",
      "Trainable params: 4596832 (17.54 MB)\n",
      "Non-trainable params: 0 (0.00 Byte)\n",
      "__________________________________________________________________________________________________\n"
     ]
    }
   ],
   "source": [
    "attention_layer = AttentionLayer(name='attention_layer')\n",
    "\n",
    "attention_out, attention_states = attention_layer([encoder_outputs, decoder_outputs])\n",
    "\n",
    "decoder_concat_input = Concatenate(axis=-1, name='concat_layer')([decoder_outputs, attention_out])\n",
    "\n",
    "# softmax\n",
    "decoder_softmax_layer = Dense(tar_vocab, activation='softmax')\n",
    "decoder_softmax_outputs = decoder_softmax_layer(decoder_concat_input)\n",
    "\n",
    "# model\n",
    "model = Model([enc_input, dec_input], decoder_softmax_outputs)\n",
    "model.summary()"
   ],
   "metadata": {
    "collapsed": false,
    "ExecuteTime": {
     "end_time": "2024-01-07T12:35:15.746909Z",
     "start_time": "2024-01-07T12:35:15.578438Z"
    }
   },
   "id": "2531b00fa64e7d48"
  },
  {
   "cell_type": "code",
   "execution_count": 29,
   "outputs": [
    {
     "name": "stdout",
     "output_type": "stream",
     "text": [
      "202/202 [==============================] - 352s 2s/step - loss: 2.7726 - val_loss: 2.4972\n"
     ]
    }
   ],
   "source": [
    "model.compile(optimizer='rmsprop', loss='sparse_categorical_crossentropy')\n",
    "\n",
    "es = EarlyStopping(monitor='val_loss', mode='min', verbose=1, patience = 2)\n",
    "history = model.fit(x = [encoder_input_train, decoder_input_train], y = decoder_target_train,\n",
    "                    validation_data = ([encoder_input_test, decoder_input_test], decoder_target_test),\n",
    "                    batch_size = 256, callbacks=[es], epochs = 1)"
   ],
   "metadata": {
    "collapsed": false,
    "ExecuteTime": {
     "end_time": "2024-01-07T12:41:08.103443Z",
     "start_time": "2024-01-07T12:35:15.752197Z"
    }
   },
   "id": "4ef1714a15008f48"
  },
  {
   "cell_type": "markdown",
   "source": [
    "# Inferencing"
   ],
   "metadata": {
    "collapsed": false
   },
   "id": "6d1c271e397915c0"
  },
  {
   "cell_type": "code",
   "execution_count": 44,
   "outputs": [],
   "source": [
    "src_word_index = src_tokenizer.word_index\n",
    "src_index_word = src_tokenizer.index_word\n",
    "tar_word_index = tar_tokenizer.word_index\n",
    "tar_index_word = tar_tokenizer.index_word"
   ],
   "metadata": {
    "collapsed": false,
    "ExecuteTime": {
     "end_time": "2024-01-07T12:51:46.292831Z",
     "start_time": "2024-01-07T12:51:46.275833Z"
    }
   },
   "id": "70a2b4443b4e6c9e"
  },
  {
   "cell_type": "markdown",
   "source": [
    "# Encoder"
   ],
   "metadata": {
    "collapsed": false
   },
   "id": "6a24eb0e3986ea6e"
  },
  {
   "cell_type": "code",
   "execution_count": 31,
   "outputs": [
    {
     "name": "stdout",
     "output_type": "stream",
     "text": [
      "Model: \"model_1\"\n",
      "_________________________________________________________________\n",
      " Layer (type)                Output Shape              Param #   \n",
      "=================================================================\n",
      " input_1 (InputLayer)        [(None, 50)]              0         \n",
      "                                                                 \n",
      " embedding (Embedding)       (None, 50, 128)           1088000   \n",
      "                                                                 \n",
      " lstm (LSTM)                 (None, 50, 256)           394240    \n",
      "                                                                 \n",
      " lstm_1 (LSTM)               (None, 50, 256)           525312    \n",
      "                                                                 \n",
      " lstm_2 (LSTM)               [(None, 50, 256),         525312    \n",
      "                              (None, 256),                       \n",
      "                              (None, 256)]                       \n",
      "                                                                 \n",
      "=================================================================\n",
      "Total params: 2532864 (9.66 MB)\n",
      "Trainable params: 2532864 (9.66 MB)\n",
      "Non-trainable params: 0 (0.00 Byte)\n",
      "_________________________________________________________________\n"
     ]
    }
   ],
   "source": [
    "# encoder\n",
    "# get all encoder layers from 'enc_input' to [encoder_outputs, state_h, state_c]\n",
    "enc_model_inf = Model(inputs=enc_input, outputs=[encoder_outputs, state_h, state_c])\n",
    "enc_model_inf.summary()"
   ],
   "metadata": {
    "collapsed": false,
    "ExecuteTime": {
     "end_time": "2024-01-07T12:41:08.114926Z",
     "start_time": "2024-01-07T12:41:08.102747Z"
    }
   },
   "id": "836025fad9d2120e"
  },
  {
   "cell_type": "markdown",
   "source": [
    "## Decoder"
   ],
   "metadata": {
    "collapsed": false
   },
   "id": "f87709b176c5feb7"
  },
  {
   "cell_type": "code",
   "execution_count": 39,
   "outputs": [],
   "source": [
    "# save previous states\n",
    "# previous states will be injected in 'decode_sequence' function\n",
    "dec_inf_input_h = Input(shape=(hidden_units,))\n",
    "dec_inf_input_c = Input(shape=(hidden_units,))\n",
    "\n",
    "dec_inf_emb = dec_emb_layer(dec_input) # dec_input = Input(shape=(None,)\n",
    "\n",
    "dec_inf_output, dec_inf_state_h, dec_inf_state_c = decoder_lstm(dec_inf_emb, initial_state=[dec_inf_input_h, dec_inf_input_c])"
   ],
   "metadata": {
    "collapsed": false,
    "ExecuteTime": {
     "end_time": "2024-01-07T12:45:31.764977Z",
     "start_time": "2024-01-07T12:45:31.712391Z"
    }
   },
   "id": "84b2abd7d683d6d8"
  },
  {
   "cell_type": "code",
   "execution_count": 40,
   "outputs": [
    {
     "name": "stdout",
     "output_type": "stream",
     "text": [
      "Model: \"model_2\"\n",
      "__________________________________________________________________________________________________\n",
      " Layer (type)                Output Shape                 Param #   Connected to                  \n",
      "==================================================================================================\n",
      " input_9 (InputLayer)        [(None, None)]               0         []                            \n",
      "                                                                                                  \n",
      " embedding_2 (Embedding)     (None, None, 128)            307200    ['input_9[0][0]']             \n",
      "                                                                                                  \n",
      " input_10 (InputLayer)       [(None, 256)]                0         []                            \n",
      "                                                                                                  \n",
      " input_11 (InputLayer)       [(None, 256)]                0         []                            \n",
      "                                                                                                  \n",
      " lstm_4 (LSTM)               [(None, None, 256),          394240    ['embedding_2[1][0]',         \n",
      "                              (None, 256),                           'input_10[0][0]',            \n",
      "                              (None, 256)]                           'input_11[0][0]']            \n",
      "                                                                                                  \n",
      " input_12 (InputLayer)       [(None, 50, 256)]            0         []                            \n",
      "                                                                                                  \n",
      " attention_layer (Attention  ((None, None, 256),          131328    ['input_12[0][0]',            \n",
      " Layer)                       (None, None, 50))                      'lstm_4[1][0]']              \n",
      "                                                                                                  \n",
      " concat (Concatenate)        (None, None, 512)            0         ['lstm_4[1][0]',              \n",
      "                                                                     'attention_layer[1][0]']     \n",
      "                                                                                                  \n",
      " dense (Dense)               (None, None, 2400)           1231200   ['concat[0][0]']              \n",
      "                                                                                                  \n",
      "==================================================================================================\n",
      "Total params: 2063968 (7.87 MB)\n",
      "Trainable params: 2063968 (7.87 MB)\n",
      "Non-trainable params: 0 (0.00 Byte)\n",
      "__________________________________________________________________________________________________\n"
     ]
    }
   ],
   "source": [
    "dec_inf_hidden_input = Input(shape=(text_max_len, hidden_units)) # encoder output = ('encoder_outputs')\n",
    "dec_inf_attention_out, dec_inf_attention_states = attention_layer([dec_inf_hidden_input, dec_inf_output])\n",
    "dec_inf_concat = Concatenate(axis=-1, name='concat')([dec_inf_output, dec_inf_attention_out])\n",
    "\n",
    "dec_inf_output_layer = decoder_softmax_layer(dec_inf_concat)\n",
    "\n",
    "dec_inf_model = Model(\n",
    "    inputs=[dec_input] + [dec_inf_hidden_input, dec_inf_input_h, dec_inf_input_c],\n",
    "    outputs=[dec_inf_output_layer] + [dec_inf_state_h, dec_inf_state_c]\n",
    ")\n",
    "\n",
    "dec_inf_model.summary()"
   ],
   "metadata": {
    "collapsed": false,
    "ExecuteTime": {
     "end_time": "2024-01-07T12:45:34.283992Z",
     "start_time": "2024-01-07T12:45:34.200146Z"
    }
   },
   "id": "16f3375d1d1e0a41"
  },
  {
   "cell_type": "code",
   "execution_count": 43,
   "outputs": [],
   "source": [
    "def decode_sequence(input_seq):\n",
    "    # 입력으로부터 인코더의 상태를 얻음\n",
    "    e_out, e_h, e_c = enc_model_inf.predict(input_seq)\n",
    "\n",
    "    # <SOS>에 해당하는 토큰 생성\n",
    "    target_seq = np.zeros((1,1))\n",
    "    target_seq[0, 0] = tar_word_index['sostoken']\n",
    "\n",
    "    stop_condition = False\n",
    "    decoded_sentence = ''\n",
    "    while not stop_condition: # stop_condition이 True가 될 때까지 루프 반복\n",
    "\n",
    "        output_tokens, h, c = dec_inf_model.predict([target_seq] + [e_out, e_h, e_c])\n",
    "        sampled_token_index = np.argmax(output_tokens[0, -1, :]) # -1 : last time step\n",
    "        sampled_token = tar_index_word[sampled_token_index]\n",
    "\n",
    "        if(sampled_token!='eostoken'):\n",
    "            decoded_sentence += ' '+sampled_token\n",
    "\n",
    "        #  <eos>에 도달하거나 최대 길이를 넘으면 중단.\n",
    "        if (sampled_token == 'eostoken'  or len(decoded_sentence.split()) >= (summary_max_len-1)):\n",
    "            stop_condition = True\n",
    "\n",
    "        # 길이가 1인 타겟 시퀀스를 업데이트\n",
    "        target_seq = np.zeros((1,1))\n",
    "        target_seq[0, 0] = sampled_token_index\n",
    "\n",
    "        # 상태를 업데이트 합니다.\n",
    "        e_h, e_c = h, c\n",
    "\n",
    "    return decoded_sentence\n"
   ],
   "metadata": {
    "collapsed": false,
    "ExecuteTime": {
     "end_time": "2024-01-07T12:51:05.463966Z",
     "start_time": "2024-01-07T12:51:05.458902Z"
    }
   },
   "id": "c97a98419afed9c1"
  },
  {
   "cell_type": "code",
   "execution_count": 45,
   "outputs": [],
   "source": [
    "# 원문의 정수 시퀀스를 텍스트 시퀀스로 변환\n",
    "def seq2text(input_seq):\n",
    "    sentence=''\n",
    "    for i in input_seq:\n",
    "        if(i!=0):\n",
    "            sentence = sentence + src_index_word[i]+' '\n",
    "    return sentence\n",
    "\n",
    "# 요약문의 정수 시퀀스를 텍스트 시퀀스로 변환\n",
    "def seq2summary(input_seq):\n",
    "    sentence=''\n",
    "    for i in input_seq:\n",
    "        if((i!=0 and i!=tar_word_index['sostoken']) and i!=tar_word_index['eostoken']):\n",
    "            sentence = sentence + tar_index_word[i] + ' '\n",
    "    return sentence\n"
   ],
   "metadata": {
    "collapsed": false,
    "ExecuteTime": {
     "end_time": "2024-01-07T12:52:01.126167Z",
     "start_time": "2024-01-07T12:52:01.089869Z"
    }
   },
   "id": "9bc5ca87dba41068"
  },
  {
   "cell_type": "code",
   "execution_count": 46,
   "outputs": [
    {
     "name": "stdout",
     "output_type": "stream",
     "text": [
      "원문 :  bought cheaper alternative le de de bad stick le product find \n",
      "실제 요약문 : not bad but \n",
      "1/1 [==============================] - 0s 341ms/step\n",
      "1/1 [==============================] - 0s 235ms/step\n",
      "1/1 [==============================] - 0s 10ms/step\n",
      "1/1 [==============================] - 0s 10ms/step\n",
      "1/1 [==============================] - 0s 10ms/step\n",
      "1/1 [==============================] - 0s 11ms/step\n",
      "1/1 [==============================] - 0s 12ms/step\n",
      "1/1 [==============================] - 0s 11ms/step\n",
      "예측 요약문 :  great great great great great great great\n",
      "\n",
      "\n",
      "원문 :  like product much healthy alternative greasy pork sausages bacon morning especially good grits eggs bit butter drop hot sauce try believe like \n",
      "실제 요약문 : product \n",
      "1/1 [==============================] - 0s 39ms/step\n",
      "1/1 [==============================] - 0s 12ms/step\n",
      "1/1 [==============================] - 0s 10ms/step\n",
      "1/1 [==============================] - 0s 10ms/step\n",
      "1/1 [==============================] - 0s 10ms/step\n",
      "1/1 [==============================] - 0s 11ms/step\n",
      "1/1 [==============================] - 0s 10ms/step\n",
      "1/1 [==============================] - 0s 10ms/step\n",
      "예측 요약문 :  my my my my my my not\n",
      "\n",
      "\n",
      "원문 :  purchased paramount oz popcorn maker figuring would easy quick mess however half kernals popped thats gave lower review flavor mark movie theater taste perfect salt butter flavor opinion wish kernals popped \n",
      "실제 요약문 : movie theater popcorn \n",
      "1/1 [==============================] - 0s 60ms/step\n",
      "1/1 [==============================] - 0s 10ms/step\n",
      "1/1 [==============================] - 0s 10ms/step\n",
      "1/1 [==============================] - 0s 11ms/step\n",
      "1/1 [==============================] - 0s 10ms/step\n",
      "1/1 [==============================] - 0s 9ms/step\n",
      "1/1 [==============================] - 0s 10ms/step\n",
      "1/1 [==============================] - 0s 10ms/step\n",
      "예측 요약문 :  great great my my my great great\n",
      "\n"
     ]
    }
   ],
   "source": [
    "for i in range(500, 503):\n",
    "    print(\"원문 : \",seq2text(encoder_input_test[i]))\n",
    "    print(\"실제 요약문 :\",seq2summary(decoder_input_test[i]))\n",
    "    print(\"예측 요약문 :\",decode_sequence(encoder_input_test[i].reshape(1, text_max_len)))\n",
    "    print(\"\\n\")"
   ],
   "metadata": {
    "collapsed": false,
    "ExecuteTime": {
     "end_time": "2024-01-07T12:52:27.505276Z",
     "start_time": "2024-01-07T12:52:26.121401Z"
    }
   },
   "id": "5686749472cb681b"
  },
  {
   "cell_type": "code",
   "execution_count": null,
   "outputs": [],
   "source": [],
   "metadata": {
    "collapsed": false
   },
   "id": "fbb32e2307a47c49"
  }
 ],
 "metadata": {
  "kernelspec": {
   "display_name": "Python 3",
   "language": "python",
   "name": "python3"
  },
  "language_info": {
   "codemirror_mode": {
    "name": "ipython",
    "version": 2
   },
   "file_extension": ".py",
   "mimetype": "text/x-python",
   "name": "python",
   "nbconvert_exporter": "python",
   "pygments_lexer": "ipython2",
   "version": "2.7.6"
  }
 },
 "nbformat": 4,
 "nbformat_minor": 5
}
