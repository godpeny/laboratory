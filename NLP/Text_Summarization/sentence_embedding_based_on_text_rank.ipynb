{
 "cells": [
  {
   "cell_type": "code",
   "execution_count": 1,
   "outputs": [],
   "source": [
    "import numpy as np\n",
    "import re\n",
    "import pandas as pd\n",
    "import matplotlib.pyplot as plt\n",
    "from nltk.tokenize import sent_tokenize, word_tokenize\n",
    "from nltk.corpus import stopwords\n",
    "from urllib.request import urlretrieve\n",
    "import zipfile\n",
    "from sklearn.metrics.pairwise import cosine_similarity\n",
    "import networkx as nx"
   ],
   "metadata": {
    "collapsed": false,
    "ExecuteTime": {
     "end_time": "2024-01-13T07:05:47.305204Z",
     "start_time": "2024-01-13T07:05:42.595828Z"
    }
   },
   "id": "99723b3a51eb90a"
  },
  {
   "cell_type": "markdown",
   "source": [
    "# GloVe"
   ],
   "metadata": {
    "collapsed": false
   },
   "id": "d713088d07cd5837"
  },
  {
   "cell_type": "code",
   "execution_count": 2,
   "outputs": [
    {
     "name": "stdout",
     "output_type": "stream",
     "text": [
      "Glove dictionary size:  400000\n"
     ]
    }
   ],
   "source": [
    "glove_dict = dict()\n",
    "\n",
    "data_path = \"../data/\"\n",
    "f = open(data_path + \"glove.6B.100d.txt\", \"r\", encoding=\"utf-8\")\n",
    "\n",
    "for line in f:\n",
    "    chunk = line.split()\n",
    "    word = chunk[0]\n",
    "    vector = np.array(chunk[1:], dtype=np.float32)\n",
    "    glove_dict[word] = vector\n",
    "    \n",
    "print(\"Glove dictionary size: \", len(glove_dict))"
   ],
   "metadata": {
    "collapsed": false,
    "ExecuteTime": {
     "end_time": "2024-01-13T07:05:51.308218Z",
     "start_time": "2024-01-13T07:05:47.306264Z"
    }
   },
   "id": "initial_id"
  },
  {
   "cell_type": "code",
   "execution_count": 3,
   "outputs": [
    {
     "name": "stdout",
     "output_type": "stream",
     "text": [
      "8\n",
      "   article_id                                       article_text  \\\n",
      "0           1  Maria Sharapova has basically no friends as te...   \n",
      "1           2  BASEL, Switzerland (AP), Roger Federer advance...   \n",
      "2           3  Roger Federer has revealed that organisers of ...   \n",
      "3           4  Kei Nishikori will try to end his long losing ...   \n",
      "4           5  Federer, 37, first broke through on tour over ...   \n",
      "\n",
      "                                              source  \n",
      "0  https://www.tennisworldusa.org/tennis/news/Mar...  \n",
      "1  http://www.tennis.com/pro-game/2018/10/copil-s...  \n",
      "2  https://scroll.in/field/899938/tennis-roger-fe...  \n",
      "3  http://www.tennis.com/pro-game/2018/10/nishiko...  \n",
      "4  https://www.express.co.uk/sport/tennis/1036101...  \n"
     ]
    }
   ],
   "source": [
    "df = pd.read_csv(data_path + \"tennis_articles_v4.csv\")\n",
    "print(len(df))\n",
    "print(df.head(5))"
   ],
   "metadata": {
    "collapsed": false,
    "ExecuteTime": {
     "end_time": "2024-01-13T07:05:51.317099Z",
     "start_time": "2024-01-13T07:05:51.308692Z"
    }
   },
   "id": "3ff04cfd76fdb234"
  },
  {
   "cell_type": "markdown",
   "source": [
    "# Data Preprocessing"
   ],
   "metadata": {
    "collapsed": false
   },
   "id": "3ef47bd7aa89fbfd"
  },
  {
   "cell_type": "code",
   "execution_count": 4,
   "outputs": [
    {
     "name": "stdout",
     "output_type": "stream",
     "text": [
      "                                        article_text  \\\n",
      "0  Maria Sharapova has basically no friends as te...   \n",
      "1  BASEL, Switzerland (AP), Roger Federer advance...   \n",
      "2  Roger Federer has revealed that organisers of ...   \n",
      "3  Kei Nishikori will try to end his long losing ...   \n",
      "4  Federer, 37, first broke through on tour over ...   \n",
      "\n",
      "                                           sentences  \n",
      "0  [Maria Sharapova has basically no friends as t...  \n",
      "1  [BASEL, Switzerland (AP), Roger Federer advanc...  \n",
      "2  [Roger Federer has revealed that organisers of...  \n",
      "3  [Kei Nishikori will try to end his long losing...  \n",
      "4  [Federer, 37, first broke through on tour over...  \n"
     ]
    },
    {
     "name": "stderr",
     "output_type": "stream",
     "text": [
      "<ipython-input-4-80de73c47802>:2: SettingWithCopyWarning: \n",
      "A value is trying to be set on a copy of a slice from a DataFrame.\n",
      "Try using .loc[row_indexer,col_indexer] = value instead\n",
      "\n",
      "See the caveats in the documentation: https://pandas.pydata.org/pandas-docs/stable/user_guide/indexing.html#returning-a-view-versus-a-copy\n",
      "  data['sentences'] = data['article_text'].apply(sent_tokenize)\n"
     ]
    }
   ],
   "source": [
    "data = df[['article_text']]\n",
    "data['sentences'] = data['article_text'].apply(sent_tokenize)\n",
    "print(data.head(5))"
   ],
   "metadata": {
    "collapsed": false,
    "ExecuteTime": {
     "end_time": "2024-01-13T07:05:51.328477Z",
     "start_time": "2024-01-13T07:05:51.316292Z"
    }
   },
   "id": "1794926aa12d68c6"
  },
  {
   "cell_type": "code",
   "execution_count": 5,
   "outputs": [],
   "source": [
    "stop_words = stopwords.words('english')\n",
    "\n",
    "def tokenize(sentence):\n",
    "    return [word_tokenize(sentence) for sentence in sentence]\n",
    "\n",
    "def preprocess_sentence(sentence):\n",
    "    sentence_processed = [re.sub(r'[^a-zA-z\\s]', '', word.lower()) for word in sentence]\n",
    "    return [word for word in sentence_processed if word not in stop_words and word != '']\n",
    "\n",
    "def preprocess_sentences(sentences):\n",
    "    return [preprocess_sentence(sentence) for sentence in sentences]"
   ],
   "metadata": {
    "collapsed": false,
    "ExecuteTime": {
     "end_time": "2024-01-13T07:05:51.360713Z",
     "start_time": "2024-01-13T07:05:51.325960Z"
    }
   },
   "id": "3ac963c4106b1cfe"
  },
  {
   "cell_type": "code",
   "execution_count": 6,
   "outputs": [
    {
     "name": "stdout",
     "output_type": "stream",
     "text": [
      "                                        article_text  \\\n",
      "0  Maria Sharapova has basically no friends as te...   \n",
      "1  BASEL, Switzerland (AP), Roger Federer advance...   \n",
      "2  Roger Federer has revealed that organisers of ...   \n",
      "3  Kei Nishikori will try to end his long losing ...   \n",
      "4  Federer, 37, first broke through on tour over ...   \n",
      "\n",
      "                                           sentences  \\\n",
      "0  [Maria Sharapova has basically no friends as t...   \n",
      "1  [BASEL, Switzerland (AP), Roger Federer advanc...   \n",
      "2  [Roger Federer has revealed that organisers of...   \n",
      "3  [Kei Nishikori will try to end his long losing...   \n",
      "4  [Federer, 37, first broke through on tour over...   \n",
      "\n",
      "                                 tokenized_sentences  \n",
      "0  [[Maria, Sharapova, has, basically, no, friend...  \n",
      "1  [[BASEL, ,, Switzerland, (, AP, ), ,, Roger, F...  \n",
      "2  [[Roger, Federer, has, revealed, that, organis...  \n",
      "3  [[Kei, Nishikori, will, try, to, end, his, lon...  \n",
      "4  [[Federer, ,, 37, ,, first, broke, through, on...  \n",
      "                                        article_text  \\\n",
      "0  Maria Sharapova has basically no friends as te...   \n",
      "1  BASEL, Switzerland (AP), Roger Federer advance...   \n",
      "2  Roger Federer has revealed that organisers of ...   \n",
      "3  Kei Nishikori will try to end his long losing ...   \n",
      "4  Federer, 37, first broke through on tour over ...   \n",
      "\n",
      "                                           sentences  \\\n",
      "0  [Maria Sharapova has basically no friends as t...   \n",
      "1  [BASEL, Switzerland (AP), Roger Federer advanc...   \n",
      "2  [Roger Federer has revealed that organisers of...   \n",
      "3  [Kei Nishikori will try to end his long losing...   \n",
      "4  [Federer, 37, first broke through on tour over...   \n",
      "\n",
      "                                 tokenized_sentences  \n",
      "0  [[maria, sharapova, basically, friends, tennis...  \n",
      "1  [[basel, switzerland, ap, roger, federer, adva...  \n",
      "2  [[roger, federer, revealed, organisers, relaun...  \n",
      "3  [[kei, nishikori, try, end, long, losing, stre...  \n",
      "4  [[federer, first, broke, tour, two, decades, a...  \n"
     ]
    }
   ],
   "source": [
    "data['tokenized_sentences'] = data['sentences'].apply(tokenize)\n",
    "print(data.head(5))\n",
    "data['tokenized_sentences'] = data['tokenized_sentences'].apply(preprocess_sentences)\n",
    "print(data.head(5))"
   ],
   "metadata": {
    "collapsed": false,
    "ExecuteTime": {
     "end_time": "2024-01-13T07:05:51.369207Z",
     "start_time": "2024-01-13T07:05:51.348419Z"
    }
   },
   "id": "995ba7771feb8291"
  },
  {
   "cell_type": "markdown",
   "source": [
    "# Sentence Embedding"
   ],
   "metadata": {
    "collapsed": false
   },
   "id": "bb0dcbd0197f5ab7"
  },
  {
   "cell_type": "code",
   "execution_count": 7,
   "outputs": [],
   "source": [
    "# sentence embedding using GloVe\n",
    "# calculate the average of all word vectors in a sentence\n",
    "embedding_dims = 100\n",
    "zero_vector = np.zeros(embedding_dims) # zero vector for out of vocabulary words (OOV)\n",
    "\n",
    "def calculate_sentence_vector(sentence):\n",
    "    if len(sentence) != 0:\n",
    "        result = sum([glove_dict.get(word, zero_vector) for word in sentence]) / len(sentence)\n",
    "        return result\n",
    "    else:\n",
    "        return zero_vector\n",
    "    \n",
    "def calculate_sentence_vectors(sentences):\n",
    "    return [calculate_sentence_vector(sentence) for sentence in sentences]"
   ],
   "metadata": {
    "collapsed": false,
    "ExecuteTime": {
     "end_time": "2024-01-13T07:05:51.369419Z",
     "start_time": "2024-01-13T07:05:51.351054Z"
    }
   },
   "id": "6116e3028b10efaa"
  },
  {
   "cell_type": "markdown",
   "source": [
    "### dict.get(key, default_value)\n",
    " - return the value for key if key is in the dictionary, else default. If default is not given, it defaults to None, so that this method never raises a KeyError."
   ],
   "metadata": {
    "collapsed": false
   },
   "id": "579ade5f4f78a68b"
  },
  {
   "cell_type": "code",
   "execution_count": 8,
   "outputs": [
    {
     "data": {
      "text/plain": "                                        article_text  \\\n0  Maria Sharapova has basically no friends as te...   \n1  BASEL, Switzerland (AP), Roger Federer advance...   \n2  Roger Federer has revealed that organisers of ...   \n3  Kei Nishikori will try to end his long losing ...   \n4  Federer, 37, first broke through on tour over ...   \n\n                                           sentences  \\\n0  [Maria Sharapova has basically no friends as t...   \n1  [BASEL, Switzerland (AP), Roger Federer advanc...   \n2  [Roger Federer has revealed that organisers of...   \n3  [Kei Nishikori will try to end his long losing...   \n4  [Federer, 37, first broke through on tour over...   \n\n                                 tokenized_sentences  \\\n0  [[maria, sharapova, basically, friends, tennis...   \n1  [[basel, switzerland, ap, roger, federer, adva...   \n2  [[roger, federer, revealed, organisers, relaun...   \n3  [[kei, nishikori, try, end, long, losing, stre...   \n4  [[federer, first, broke, tour, two, decades, a...   \n\n                                  sentence_embedding  \n0  [[0.051488996, 0.1105585, 0.6950863, 0.1891917...  \n1  [[0.10566062456928194, -0.10534465219825506, 0...  \n2  [[-0.022272188, -0.0474477, 0.14933074, -0.086...  \n3  [[0.045201838, -0.064647146, 0.5035717, -0.160...  \n4  [[0.21536233, 0.180915, 0.25600883, 0.06924241...  ",
      "text/html": "<div>\n<style scoped>\n    .dataframe tbody tr th:only-of-type {\n        vertical-align: middle;\n    }\n\n    .dataframe tbody tr th {\n        vertical-align: top;\n    }\n\n    .dataframe thead th {\n        text-align: right;\n    }\n</style>\n<table border=\"1\" class=\"dataframe\">\n  <thead>\n    <tr style=\"text-align: right;\">\n      <th></th>\n      <th>article_text</th>\n      <th>sentences</th>\n      <th>tokenized_sentences</th>\n      <th>sentence_embedding</th>\n    </tr>\n  </thead>\n  <tbody>\n    <tr>\n      <th>0</th>\n      <td>Maria Sharapova has basically no friends as te...</td>\n      <td>[Maria Sharapova has basically no friends as t...</td>\n      <td>[[maria, sharapova, basically, friends, tennis...</td>\n      <td>[[0.051488996, 0.1105585, 0.6950863, 0.1891917...</td>\n    </tr>\n    <tr>\n      <th>1</th>\n      <td>BASEL, Switzerland (AP), Roger Federer advance...</td>\n      <td>[BASEL, Switzerland (AP), Roger Federer advanc...</td>\n      <td>[[basel, switzerland, ap, roger, federer, adva...</td>\n      <td>[[0.10566062456928194, -0.10534465219825506, 0...</td>\n    </tr>\n    <tr>\n      <th>2</th>\n      <td>Roger Federer has revealed that organisers of ...</td>\n      <td>[Roger Federer has revealed that organisers of...</td>\n      <td>[[roger, federer, revealed, organisers, relaun...</td>\n      <td>[[-0.022272188, -0.0474477, 0.14933074, -0.086...</td>\n    </tr>\n    <tr>\n      <th>3</th>\n      <td>Kei Nishikori will try to end his long losing ...</td>\n      <td>[Kei Nishikori will try to end his long losing...</td>\n      <td>[[kei, nishikori, try, end, long, losing, stre...</td>\n      <td>[[0.045201838, -0.064647146, 0.5035717, -0.160...</td>\n    </tr>\n    <tr>\n      <th>4</th>\n      <td>Federer, 37, first broke through on tour over ...</td>\n      <td>[Federer, 37, first broke through on tour over...</td>\n      <td>[[federer, first, broke, tour, two, decades, a...</td>\n      <td>[[0.21536233, 0.180915, 0.25600883, 0.06924241...</td>\n    </tr>\n  </tbody>\n</table>\n</div>"
     },
     "execution_count": 8,
     "metadata": {},
     "output_type": "execute_result"
    }
   ],
   "source": [
    "data['sentence_embedding'] = data['tokenized_sentences'].apply(calculate_sentence_vectors)\n",
    "data.head(5)"
   ],
   "metadata": {
    "collapsed": false,
    "ExecuteTime": {
     "end_time": "2024-01-13T07:05:51.416846Z",
     "start_time": "2024-01-13T07:05:51.354820Z"
    }
   },
   "id": "8ecdd1005b34ad7d"
  },
  {
   "cell_type": "code",
   "execution_count": 9,
   "outputs": [],
   "source": [
    "def similarity_matrix(sentence_embedding):\n",
    "    sim_mat = np.zeros([len(sentence_embedding), len(sentence_embedding)])\n",
    "    for i in range(len(sentence_embedding)):\n",
    "        for j in range(len(sentence_embedding)):\n",
    "            sim_mat[i][j] = cosine_similarity(sentence_embedding[i].reshape(1, embedding_dims), sentence_embedding[j].reshape(1, embedding_dims))[0,0]\n",
    "    return sim_mat"
   ],
   "metadata": {
    "collapsed": false,
    "ExecuteTime": {
     "end_time": "2024-01-13T07:05:51.417220Z",
     "start_time": "2024-01-13T07:05:51.391078Z"
    }
   },
   "id": "c0fec4aa424cd66d"
  },
  {
   "cell_type": "code",
   "execution_count": 10,
   "outputs": [
    {
     "data": {
      "text/plain": "                                        article_text  \\\n0  Maria Sharapova has basically no friends as te...   \n1  BASEL, Switzerland (AP), Roger Federer advance...   \n2  Roger Federer has revealed that organisers of ...   \n3  Kei Nishikori will try to end his long losing ...   \n4  Federer, 37, first broke through on tour over ...   \n\n                                           sentences  \\\n0  [Maria Sharapova has basically no friends as t...   \n1  [BASEL, Switzerland (AP), Roger Federer advanc...   \n2  [Roger Federer has revealed that organisers of...   \n3  [Kei Nishikori will try to end his long losing...   \n4  [Federer, 37, first broke through on tour over...   \n\n                                 tokenized_sentences  \\\n0  [[maria, sharapova, basically, friends, tennis...   \n1  [[basel, switzerland, ap, roger, federer, adva...   \n2  [[roger, federer, revealed, organisers, relaun...   \n3  [[kei, nishikori, try, end, long, losing, stre...   \n4  [[federer, first, broke, tour, two, decades, a...   \n\n                                  sentence_embedding  \\\n0  [[0.051488996, 0.1105585, 0.6950863, 0.1891917...   \n1  [[0.10566062456928194, -0.10534465219825506, 0...   \n2  [[-0.022272188, -0.0474477, 0.14933074, -0.086...   \n3  [[0.045201838, -0.064647146, 0.5035717, -0.160...   \n4  [[0.21536233, 0.180915, 0.25600883, 0.06924241...   \n\n                                   similarity_matrix  \n0  [[1.0, 0.6477208137512207, 0.5915699601173401,...  \n1  [[1.0, 0.8745531210608368, 0.8054854557907094,...  \n2  [[0.9999998807907104, 0.9130853414535522, 0.89...  \n3  [[1.0, 0.7769179305294038, 0.8405090570449829,...  \n4  [[0.9999999403953552, 0.8306209732530097, 0.90...  ",
      "text/html": "<div>\n<style scoped>\n    .dataframe tbody tr th:only-of-type {\n        vertical-align: middle;\n    }\n\n    .dataframe tbody tr th {\n        vertical-align: top;\n    }\n\n    .dataframe thead th {\n        text-align: right;\n    }\n</style>\n<table border=\"1\" class=\"dataframe\">\n  <thead>\n    <tr style=\"text-align: right;\">\n      <th></th>\n      <th>article_text</th>\n      <th>sentences</th>\n      <th>tokenized_sentences</th>\n      <th>sentence_embedding</th>\n      <th>similarity_matrix</th>\n    </tr>\n  </thead>\n  <tbody>\n    <tr>\n      <th>0</th>\n      <td>Maria Sharapova has basically no friends as te...</td>\n      <td>[Maria Sharapova has basically no friends as t...</td>\n      <td>[[maria, sharapova, basically, friends, tennis...</td>\n      <td>[[0.051488996, 0.1105585, 0.6950863, 0.1891917...</td>\n      <td>[[1.0, 0.6477208137512207, 0.5915699601173401,...</td>\n    </tr>\n    <tr>\n      <th>1</th>\n      <td>BASEL, Switzerland (AP), Roger Federer advance...</td>\n      <td>[BASEL, Switzerland (AP), Roger Federer advanc...</td>\n      <td>[[basel, switzerland, ap, roger, federer, adva...</td>\n      <td>[[0.10566062456928194, -0.10534465219825506, 0...</td>\n      <td>[[1.0, 0.8745531210608368, 0.8054854557907094,...</td>\n    </tr>\n    <tr>\n      <th>2</th>\n      <td>Roger Federer has revealed that organisers of ...</td>\n      <td>[Roger Federer has revealed that organisers of...</td>\n      <td>[[roger, federer, revealed, organisers, relaun...</td>\n      <td>[[-0.022272188, -0.0474477, 0.14933074, -0.086...</td>\n      <td>[[0.9999998807907104, 0.9130853414535522, 0.89...</td>\n    </tr>\n    <tr>\n      <th>3</th>\n      <td>Kei Nishikori will try to end his long losing ...</td>\n      <td>[Kei Nishikori will try to end his long losing...</td>\n      <td>[[kei, nishikori, try, end, long, losing, stre...</td>\n      <td>[[0.045201838, -0.064647146, 0.5035717, -0.160...</td>\n      <td>[[1.0, 0.7769179305294038, 0.8405090570449829,...</td>\n    </tr>\n    <tr>\n      <th>4</th>\n      <td>Federer, 37, first broke through on tour over ...</td>\n      <td>[Federer, 37, first broke through on tour over...</td>\n      <td>[[federer, first, broke, tour, two, decades, a...</td>\n      <td>[[0.21536233, 0.180915, 0.25600883, 0.06924241...</td>\n      <td>[[0.9999999403953552, 0.8306209732530097, 0.90...</td>\n    </tr>\n  </tbody>\n</table>\n</div>"
     },
     "execution_count": 10,
     "metadata": {},
     "output_type": "execute_result"
    }
   ],
   "source": [
    "data['similarity_matrix'] = data['sentence_embedding'].apply(similarity_matrix)\n",
    "data.head(5)"
   ],
   "metadata": {
    "collapsed": false,
    "ExecuteTime": {
     "end_time": "2024-01-13T07:05:51.556879Z",
     "start_time": "2024-01-13T07:05:51.393981Z"
    }
   },
   "id": "5acfac040383eea8"
  },
  {
   "cell_type": "code",
   "execution_count": 11,
   "outputs": [],
   "source": [
    "def calculate_score(sim_matrix):\n",
    "    nx_graph = nx.from_numpy_array(sim_matrix)\n",
    "    scores = nx.pagerank(nx_graph)\n",
    "    return scores"
   ],
   "metadata": {
    "collapsed": false,
    "ExecuteTime": {
     "end_time": "2024-01-13T07:10:18.974317Z",
     "start_time": "2024-01-13T07:10:18.962534Z"
    }
   },
   "id": "594f86cf67d2772"
  },
  {
   "cell_type": "code",
   "execution_count": 12,
   "outputs": [
    {
     "data": {
      "text/plain": "                                        article_text  \\\n0  Maria Sharapova has basically no friends as te...   \n1  BASEL, Switzerland (AP), Roger Federer advance...   \n2  Roger Federer has revealed that organisers of ...   \n3  Kei Nishikori will try to end his long losing ...   \n4  Federer, 37, first broke through on tour over ...   \n\n                                           sentences  \\\n0  [Maria Sharapova has basically no friends as t...   \n1  [BASEL, Switzerland (AP), Roger Federer advanc...   \n2  [Roger Federer has revealed that organisers of...   \n3  [Kei Nishikori will try to end his long losing...   \n4  [Federer, 37, first broke through on tour over...   \n\n                                 tokenized_sentences  \\\n0  [[maria, sharapova, basically, friends, tennis...   \n1  [[basel, switzerland, ap, roger, federer, adva...   \n2  [[roger, federer, revealed, organisers, relaun...   \n3  [[kei, nishikori, try, end, long, losing, stre...   \n4  [[federer, first, broke, tour, two, decades, a...   \n\n                                  sentence_embedding  \\\n0  [[0.051488996, 0.1105585, 0.6950863, 0.1891917...   \n1  [[0.10566062456928194, -0.10534465219825506, 0...   \n2  [[-0.022272188, -0.0474477, 0.14933074, -0.086...   \n3  [[0.045201838, -0.064647146, 0.5035717, -0.160...   \n4  [[0.21536233, 0.180915, 0.25600883, 0.06924241...   \n\n                                   similarity_matrix  \\\n0  [[1.0, 0.6477208137512207, 0.5915699601173401,...   \n1  [[1.0, 0.8745531210608368, 0.8054854557907094,...   \n2  [[0.9999998807907104, 0.9130853414535522, 0.89...   \n3  [[1.0, 0.7769179305294038, 0.8405090570449829,...   \n4  [[0.9999999403953552, 0.8306209732530097, 0.90...   \n\n                                               score  \n0  {0: 0.05492159165231015, 1: 0.0628651974204509...  \n1  {0: 0.08315094418018205, 1: 0.0849861134785175...  \n2  {0: 0.061484405802359955, 1: 0.062248644459824...  \n3  {0: 0.08164728344152744, 1: 0.0727647935126785...  \n4  {0: 0.0556868981277235, 1: 0.05099231773928478...  ",
      "text/html": "<div>\n<style scoped>\n    .dataframe tbody tr th:only-of-type {\n        vertical-align: middle;\n    }\n\n    .dataframe tbody tr th {\n        vertical-align: top;\n    }\n\n    .dataframe thead th {\n        text-align: right;\n    }\n</style>\n<table border=\"1\" class=\"dataframe\">\n  <thead>\n    <tr style=\"text-align: right;\">\n      <th></th>\n      <th>article_text</th>\n      <th>sentences</th>\n      <th>tokenized_sentences</th>\n      <th>sentence_embedding</th>\n      <th>similarity_matrix</th>\n      <th>score</th>\n    </tr>\n  </thead>\n  <tbody>\n    <tr>\n      <th>0</th>\n      <td>Maria Sharapova has basically no friends as te...</td>\n      <td>[Maria Sharapova has basically no friends as t...</td>\n      <td>[[maria, sharapova, basically, friends, tennis...</td>\n      <td>[[0.051488996, 0.1105585, 0.6950863, 0.1891917...</td>\n      <td>[[1.0, 0.6477208137512207, 0.5915699601173401,...</td>\n      <td>{0: 0.05492159165231015, 1: 0.0628651974204509...</td>\n    </tr>\n    <tr>\n      <th>1</th>\n      <td>BASEL, Switzerland (AP), Roger Federer advance...</td>\n      <td>[BASEL, Switzerland (AP), Roger Federer advanc...</td>\n      <td>[[basel, switzerland, ap, roger, federer, adva...</td>\n      <td>[[0.10566062456928194, -0.10534465219825506, 0...</td>\n      <td>[[1.0, 0.8745531210608368, 0.8054854557907094,...</td>\n      <td>{0: 0.08315094418018205, 1: 0.0849861134785175...</td>\n    </tr>\n    <tr>\n      <th>2</th>\n      <td>Roger Federer has revealed that organisers of ...</td>\n      <td>[Roger Federer has revealed that organisers of...</td>\n      <td>[[roger, federer, revealed, organisers, relaun...</td>\n      <td>[[-0.022272188, -0.0474477, 0.14933074, -0.086...</td>\n      <td>[[0.9999998807907104, 0.9130853414535522, 0.89...</td>\n      <td>{0: 0.061484405802359955, 1: 0.062248644459824...</td>\n    </tr>\n    <tr>\n      <th>3</th>\n      <td>Kei Nishikori will try to end his long losing ...</td>\n      <td>[Kei Nishikori will try to end his long losing...</td>\n      <td>[[kei, nishikori, try, end, long, losing, stre...</td>\n      <td>[[0.045201838, -0.064647146, 0.5035717, -0.160...</td>\n      <td>[[1.0, 0.7769179305294038, 0.8405090570449829,...</td>\n      <td>{0: 0.08164728344152744, 1: 0.0727647935126785...</td>\n    </tr>\n    <tr>\n      <th>4</th>\n      <td>Federer, 37, first broke through on tour over ...</td>\n      <td>[Federer, 37, first broke through on tour over...</td>\n      <td>[[federer, first, broke, tour, two, decades, a...</td>\n      <td>[[0.21536233, 0.180915, 0.25600883, 0.06924241...</td>\n      <td>[[0.9999999403953552, 0.8306209732530097, 0.90...</td>\n      <td>{0: 0.0556868981277235, 1: 0.05099231773928478...</td>\n    </tr>\n  </tbody>\n</table>\n</div>"
     },
     "execution_count": 12,
     "metadata": {},
     "output_type": "execute_result"
    }
   ],
   "source": [
    "data['score'] = data['similarity_matrix'].apply(calculate_score)\n",
    "data.head(5)"
   ],
   "metadata": {
    "collapsed": false,
    "ExecuteTime": {
     "end_time": "2024-01-13T07:10:19.635051Z",
     "start_time": "2024-01-13T07:10:19.585131Z"
    }
   },
   "id": "da8e3841f482077b"
  },
  {
   "cell_type": "code",
   "execution_count": 32,
   "outputs": [],
   "source": [
    "def ranked_sentences(sentences, scores, n=3):\n",
    "    top_scores = sorted(((scores[i],s)\n",
    "                         for i,s in enumerate(sentences)),\n",
    "                        reverse=True)\n",
    "    # print(\"@\")\n",
    "    # print(top_scores)\n",
    "    top_n_sentences = [sentence\n",
    "                       for score,sentence in top_scores[:n]]\n",
    "    return \" \".join(top_n_sentences)"
   ],
   "metadata": {
    "collapsed": false,
    "ExecuteTime": {
     "end_time": "2024-01-13T07:19:45.480863Z",
     "start_time": "2024-01-13T07:19:45.470792Z"
    }
   },
   "id": "2bb4b74765d1de65"
  },
  {
   "cell_type": "code",
   "execution_count": 33,
   "outputs": [
    {
     "data": {
      "text/plain": "                                        article_text  \\\n0  Maria Sharapova has basically no friends as te...   \n1  BASEL, Switzerland (AP), Roger Federer advance...   \n2  Roger Federer has revealed that organisers of ...   \n3  Kei Nishikori will try to end his long losing ...   \n4  Federer, 37, first broke through on tour over ...   \n\n                                           sentences  \\\n0  [Maria Sharapova has basically no friends as t...   \n1  [BASEL, Switzerland (AP), Roger Federer advanc...   \n2  [Roger Federer has revealed that organisers of...   \n3  [Kei Nishikori will try to end his long losing...   \n4  [Federer, 37, first broke through on tour over...   \n\n                                 tokenized_sentences  \\\n0  [[maria, sharapova, basically, friends, tennis...   \n1  [[basel, switzerland, ap, roger, federer, adva...   \n2  [[roger, federer, revealed, organisers, relaun...   \n3  [[kei, nishikori, try, end, long, losing, stre...   \n4  [[federer, first, broke, tour, two, decades, a...   \n\n                                  sentence_embedding  \\\n0  [[0.051488996, 0.1105585, 0.6950863, 0.1891917...   \n1  [[0.10566062456928194, -0.10534465219825506, 0...   \n2  [[-0.022272188, -0.0474477, 0.14933074, -0.086...   \n3  [[0.045201838, -0.064647146, 0.5035717, -0.160...   \n4  [[0.21536233, 0.180915, 0.25600883, 0.06924241...   \n\n                                   similarity_matrix  \\\n0  [[1.0, 0.6477208137512207, 0.5915699601173401,...   \n1  [[1.0, 0.8745531210608368, 0.8054854557907094,...   \n2  [[0.9999998807907104, 0.9130853414535522, 0.89...   \n3  [[1.0, 0.7769179305294038, 0.8405090570449829,...   \n4  [[0.9999999403953552, 0.8306209732530097, 0.90...   \n\n                                               score  \\\n0  {0: 0.05492159165231015, 1: 0.0628651974204509...   \n1  {0: 0.08315094418018205, 1: 0.0849861134785175...   \n2  {0: 0.061484405802359955, 1: 0.062248644459824...   \n3  {0: 0.08164728344152744, 1: 0.0727647935126785...   \n4  {0: 0.0556868981277235, 1: 0.05099231773928478...   \n\n                                             summary  \n0  I think just because you're in the same sport ...  \n1  Federer had an easier time than in his only pr...  \n2  Major players feel that a big event in late No...  \n3  Kei Nishikori will try to end his long losing ...  \n4  \"Not always, but I really feel like in the mid...  ",
      "text/html": "<div>\n<style scoped>\n    .dataframe tbody tr th:only-of-type {\n        vertical-align: middle;\n    }\n\n    .dataframe tbody tr th {\n        vertical-align: top;\n    }\n\n    .dataframe thead th {\n        text-align: right;\n    }\n</style>\n<table border=\"1\" class=\"dataframe\">\n  <thead>\n    <tr style=\"text-align: right;\">\n      <th></th>\n      <th>article_text</th>\n      <th>sentences</th>\n      <th>tokenized_sentences</th>\n      <th>sentence_embedding</th>\n      <th>similarity_matrix</th>\n      <th>score</th>\n      <th>summary</th>\n    </tr>\n  </thead>\n  <tbody>\n    <tr>\n      <th>0</th>\n      <td>Maria Sharapova has basically no friends as te...</td>\n      <td>[Maria Sharapova has basically no friends as t...</td>\n      <td>[[maria, sharapova, basically, friends, tennis...</td>\n      <td>[[0.051488996, 0.1105585, 0.6950863, 0.1891917...</td>\n      <td>[[1.0, 0.6477208137512207, 0.5915699601173401,...</td>\n      <td>{0: 0.05492159165231015, 1: 0.0628651974204509...</td>\n      <td>I think just because you're in the same sport ...</td>\n    </tr>\n    <tr>\n      <th>1</th>\n      <td>BASEL, Switzerland (AP), Roger Federer advance...</td>\n      <td>[BASEL, Switzerland (AP), Roger Federer advanc...</td>\n      <td>[[basel, switzerland, ap, roger, federer, adva...</td>\n      <td>[[0.10566062456928194, -0.10534465219825506, 0...</td>\n      <td>[[1.0, 0.8745531210608368, 0.8054854557907094,...</td>\n      <td>{0: 0.08315094418018205, 1: 0.0849861134785175...</td>\n      <td>Federer had an easier time than in his only pr...</td>\n    </tr>\n    <tr>\n      <th>2</th>\n      <td>Roger Federer has revealed that organisers of ...</td>\n      <td>[Roger Federer has revealed that organisers of...</td>\n      <td>[[roger, federer, revealed, organisers, relaun...</td>\n      <td>[[-0.022272188, -0.0474477, 0.14933074, -0.086...</td>\n      <td>[[0.9999998807907104, 0.9130853414535522, 0.89...</td>\n      <td>{0: 0.061484405802359955, 1: 0.062248644459824...</td>\n      <td>Major players feel that a big event in late No...</td>\n    </tr>\n    <tr>\n      <th>3</th>\n      <td>Kei Nishikori will try to end his long losing ...</td>\n      <td>[Kei Nishikori will try to end his long losing...</td>\n      <td>[[kei, nishikori, try, end, long, losing, stre...</td>\n      <td>[[0.045201838, -0.064647146, 0.5035717, -0.160...</td>\n      <td>[[1.0, 0.7769179305294038, 0.8405090570449829,...</td>\n      <td>{0: 0.08164728344152744, 1: 0.0727647935126785...</td>\n      <td>Kei Nishikori will try to end his long losing ...</td>\n    </tr>\n    <tr>\n      <th>4</th>\n      <td>Federer, 37, first broke through on tour over ...</td>\n      <td>[Federer, 37, first broke through on tour over...</td>\n      <td>[[federer, first, broke, tour, two, decades, a...</td>\n      <td>[[0.21536233, 0.180915, 0.25600883, 0.06924241...</td>\n      <td>[[0.9999999403953552, 0.8306209732530097, 0.90...</td>\n      <td>{0: 0.0556868981277235, 1: 0.05099231773928478...</td>\n      <td>\"Not always, but I really feel like in the mid...</td>\n    </tr>\n  </tbody>\n</table>\n</div>"
     },
     "execution_count": 33,
     "metadata": {},
     "output_type": "execute_result"
    }
   ],
   "source": [
    "data['summary'] = data.apply(lambda row: ranked_sentences(row['sentences'], row['score']), axis=1)\n",
    "data.head(5)"
   ],
   "metadata": {
    "collapsed": false,
    "ExecuteTime": {
     "end_time": "2024-01-13T07:19:45.917778Z",
     "start_time": "2024-01-13T07:19:45.911675Z"
    }
   },
   "id": "698d83b302b2622b"
  },
  {
   "cell_type": "code",
   "execution_count": 34,
   "outputs": [
    {
     "name": "stdout",
     "output_type": "stream",
     "text": [
      "1 번 문서\n",
      "원문 : Maria Sharapova has basically no friends as tennis players on the WTA Tour. The Russian player has no problems in openly speaking about it and in a recent interview she said: 'I don't really hide any feelings too much. I think everyone knows this is my job here. When I'm on the courts or when I'm on the court playing, I'm a competitor and I want to beat every single person whether they're in the locker room or across the net.So I'm not the one to strike up a conversation about the weather and know that in the next few minutes I have to go and try to win a tennis match. I'm a pretty competitive girl. I say my hellos, but I'm not sending any players flowers as well. Uhm, I'm not really friendly or close to many players. I have not a lot of friends away from the courts.' When she said she is not really close to a lot of players, is that something strategic that she is doing? Is it different on the men's tour than the women's tour? 'No, not at all. I think just because you're in the same sport doesn't mean that you have to be friends with everyone just because you're categorized, you're a tennis player, so you're going to get along with tennis players. I think every person has different interests. I have friends that have completely different jobs and interests, and I've met them in very different parts of my life. I think everyone just thinks because we're tennis players we should be the greatest of friends. But ultimately tennis is just a very small part of what we do. There are so many other things that we're interested in, that we do.'\n",
      "\n",
      "요약 : I think just because you're in the same sport doesn't mean that you have to be friends with everyone just because you're categorized, you're a tennis player, so you're going to get along with tennis players. When I'm on the courts or when I'm on the court playing, I'm a competitor and I want to beat every single person whether they're in the locker room or across the net.So I'm not the one to strike up a conversation about the weather and know that in the next few minutes I have to go and try to win a tennis match. I think everyone just thinks because we're tennis players we should be the greatest of friends.\n",
      "\n",
      "2 번 문서\n",
      "원문 : BASEL, Switzerland (AP), Roger Federer advanced to the 14th Swiss Indoors final of his career by beating seventh-seeded Daniil Medvedev 6-1, 6-4 on Saturday. Seeking a ninth title at his hometown event, and a 99th overall, Federer will play 93th-ranked Marius Copil on Sunday. Federer dominated the 20th-ranked Medvedev and had his first match-point chance to break serve again at 5-1. He then dropped his serve to love, and let another match point slip in Medvedev's next service game by netting a backhand. He clinched on his fourth chance when Medvedev netted from the baseline. Copil upset expectations of a Federer final against Alexander Zverev in a 6-3, 6-7 (6), 6-4 win over the fifth-ranked German in the earlier semifinal. The Romanian aims for a first title after arriving at Basel without a career win over a top-10 opponent. Copil has two after also beating No. 6 Marin Cilic in the second round. Copil fired 26 aces past Zverev and never dropped serve, clinching after 2 1/2 hours with a forehand volley winner to break Zverev for the second time in the semifinal. He came through two rounds of qualifying last weekend to reach the Basel main draw, including beating Zverev's older brother, Mischa. Federer had an easier time than in his only previous match against Medvedev, a three-setter at Shanghai two weeks ago.\n",
      "\n",
      "요약 : Federer had an easier time than in his only previous match against Medvedev, a three-setter at Shanghai two weeks ago. Federer dominated the 20th-ranked Medvedev and had his first match-point chance to break serve again at 5-1. Copil fired 26 aces past Zverev and never dropped serve, clinching after 2 1/2 hours with a forehand volley winner to break Zverev for the second time in the semifinal.\n",
      "\n",
      "3 번 문서\n",
      "원문 : Roger Federer has revealed that organisers of the re-launched and condensed Davis Cup gave him three days to decide if he would commit to the controversial competition. Speaking at the Swiss Indoors tournament where he will play in Sundays final against Romanian qualifier Marius Copil, the world number three said that given the impossibly short time frame to make a decision, he opted out of any commitment. \"They only left me three days to decide\", Federer said. \"I didn't to have time to consult with all the people I had to consult. \"I could not make a decision in that time, so I told them to do what they wanted.\" The 20-time Grand Slam champion has voiced doubts about the wisdom of the one-week format to be introduced by organisers Kosmos, who have promised the International Tennis Federation up to $3 billion in prize money over the next quarter-century. The competition is set to feature 18 countries in the November 18-24 finals in Madrid next year, and will replace the classic home-and-away ties played four times per year for decades. Kosmos is headed by Barcelona footballer Gerard Pique, who is hoping fellow Spaniard Rafael Nadal will play in the upcoming event. Novak Djokovic has said he will give precedence to the ATP's intended re-launch of the defunct World Team Cup in January 2020, at various Australian venues. Major players feel that a big event in late November combined with one in January before the Australian Open will mean too much tennis and too little rest. Federer said earlier this month in Shanghai in that his chances of playing the Davis Cup were all but non-existent. \"I highly doubt it, of course. We will see what happens,\" he said. \"I do not think this was designed for me, anyhow. This was designed for the future generation of players.\" Argentina and Britain received wild cards to the new-look event, and will compete along with the four 2018 semi-finalists and the 12 teams who win qualifying rounds next February. \"I don't like being under that kind of pressure,\" Federer said of the deadline Kosmos handed him.\n",
      "\n",
      "요약 : Major players feel that a big event in late November combined with one in January before the Australian Open will mean too much tennis and too little rest. Speaking at the Swiss Indoors tournament where he will play in Sundays final against Romanian qualifier Marius Copil, the world number three said that given the impossibly short time frame to make a decision, he opted out of any commitment. \"They only left me three days to decide\", Federer said.\n",
      "\n",
      "4 번 문서\n",
      "원문 : Kei Nishikori will try to end his long losing streak in ATP finals and Kevin Anderson will go for his second title of the year at the Erste Bank Open on Sunday. The fifth-seeded Nishikori reached his third final of 2018 after beating Mikhail Kukushkin of Kazakhstan 6-4, 6-3 in the semifinals. A winner of 11 ATP events, Nishikori hasn't triumphed since winning in Memphis in February 2016. He has lost eight straight finals since. The second-seeded Anderson defeated Fernando Verdasco 6-3, 3-6, 6-4. Anderson has a shot at a fifth career title and second of the year after winning in New York in February. Nishikori leads Anderson 4-2 on career matchups, but the South African won their only previous meeting this year. With a victory on Sunday, Anderson will qualify for the ATP Finals. Currently in ninth place, Nishikori with a win could move to within 125 points of the cut for the eight-man event in London next month. Nishikori held serve throughout against Kukushkin, who came through qualifying. He used his first break point to close out the first set before going up 3-0 in the second and wrapping up the win on his first match point. Against Verdasco, Anderson hit nine of his 19 aces in the opening set. The Spaniard broke Anderson twice in the second but didn't get another chance on the South African's serve in the final set.\n",
      "\n",
      "요약 : Kei Nishikori will try to end his long losing streak in ATP finals and Kevin Anderson will go for his second title of the year at the Erste Bank Open on Sunday. The Spaniard broke Anderson twice in the second but didn't get another chance on the South African's serve in the final set. He has lost eight straight finals since.\n",
      "\n",
      "5 번 문서\n",
      "원문 : Federer, 37, first broke through on tour over two decades ago and he has since gone on to enjoy a glittering career. The 20-time Grand Slam winner is chasing his 99th ATP title at the Swiss Indoors this week and he faces Jan-Lennard Struff in the second round on Thursday (6pm BST). Davenport enjoyed most of her success in the late 1990s and her third and final major tournament win came at the 2000 Australian Open. But she claims the mentality of professional tennis players slowly began to change after the new millennium. \"It seems pretty friendly right now,\" said Davenport. \"I think there is a really nice environment and a great atmosphere, especially between some of the veteran players helping some of the younger players out. \"It's a very pleasant atmosphere, I'd have to say, around the locker rooms. \"I felt like the best weeks that I had to get to know players when I was playing were the Fed Cup weeks or the Olympic weeks, not necessarily during the tournaments. \"And even though maybe we had smaller teams, I still think we kept to ourselves quite a bit. \"Not always, but I really feel like in the mid-2000 years there was a huge shift of the attitudes of the top players and being more friendly and being more giving, and a lot of that had to do with players like Roger coming up. \"I just felt like it really kind of changed where people were a little bit, definitely in the 90s, a lot more quiet, into themselves, and then it started to become better.\" Meanwhile, Federer is hoping he can improve his service game as he hunts his ninth Swiss Indoors title this week. \"I didn't serve very well [against first-round opponent Filip Kranjovic,\" Federer said. \"I think I was misfiring the corners, I was not hitting the lines enough. \"Clearly you make your life more difficult, but still I was up 6-2, 3-1, break points, so things could have ended very quickly today, even though I didn't have the best serve percentage stats. \"But maybe that's exactly what caught up to me eventually. It's just getting used to it. This is where the first rounds can be tricky.\"\n",
      "\n",
      "요약 : \"Not always, but I really feel like in the mid-2000 years there was a huge shift of the attitudes of the top players and being more friendly and being more giving, and a lot of that had to do with players like Roger coming up. \"I felt like the best weeks that I had to get to know players when I was playing were the Fed Cup weeks or the Olympic weeks, not necessarily during the tournaments. \"Clearly you make your life more difficult, but still I was up 6-2, 3-1, break points, so things could have ended very quickly today, even though I didn't have the best serve percentage stats.\n",
      "\n",
      "6 번 문서\n",
      "원문 : Nadal has not played tennis since he was forced to retire from the US Open semi-finals against Juan Martin Del Porto with a knee injury. The world No 1 has been forced to miss Spain's Davis Cup clash with France and the Asian hard court season. But with the ATP World Tour Finals due to begin next month, Nadal is ready to prove his fitness before the season-ending event at the 02 Arena. Nadal flew to Paris on Friday and footage from the Paris Masters official Twitter account shows the Spaniard smiling as he strides onto court for practice. The Paris Masters draw has been made and Nadal will start his campaign on Tuesday or Wednesday against either Fernando Verdasco or Jeremy Chardy. Nadal could then play defending champion Jack Sock in the third round before a potential quarter-final with either Borna Coric or Dominic Thiem. Nadal's appearance in Paris is a big boost to the tournament organisers who could see Roger Federer withdraw. Federer is in action at the Swiss Indoors in Basel and if he reaches the final, he could pull out of Paris in a bid to stay fresh for London. But as it stands, Federer is in the draw and is scheduled to face either former world No 3 Milos Raonic or Jo-Wilfried Tsonga in the second round. Federer's projected route to the Paris final could also lead to matches against Kevin Anderson and Novak Djokovic. Djokovic could play Marco Cecchinato in the second round. British No 1 Kyle Edmund is the 12th seed in Paris and will get underway in round two against either Karen Khachanov or Filip Krajinovic.\n",
      "\n",
      "요약 : Nadal's appearance in Paris is a big boost to the tournament organisers who could see Roger Federer withdraw. Federer's projected route to the Paris final could also lead to matches against Kevin Anderson and Novak Djokovic. But as it stands, Federer is in the draw and is scheduled to face either former world No 3 Milos Raonic or Jo-Wilfried Tsonga in the second round.\n",
      "\n",
      "7 번 문서\n",
      "원문 : Tennis giveth, and tennis taketh away. The end of the season is finally in sight, and with so many players defending,or losing,huge chunks of points in Singapore, Zhuhai and London, podcast co-hosts Nina Pantic and Irina Falconi discuss the art of defending points (02:14). It's no secret that Jack Sock has struggled on the singles court this year (his record is 7-19). He could lose 1,400 points in the next few weeks, but instead of focusing on the negative, it can all be about perspective (06:28). Let's also not forget his two Grand Slam doubles triumphs this season. Two players, Stefanos Tsitsipas and Kyle Edmund, won their first career ATP titles last week (13:26). It's a big deal because you never forget your first. Irina looks back at her WTA title win in Bogota in 2016, and tells an unforgettable story about her semifinal drama (14:04). In Singapore, one of the biggest storylines (aside from the matches, of course) has been the on-court coaching debate. Nina and Irina give their opinions on what coaching should look like in the future, on both tours (18:55).\n",
      "\n",
      "요약 : Let's also not forget his two Grand Slam doubles triumphs this season. The end of the season is finally in sight, and with so many players defending,or losing,huge chunks of points in Singapore, Zhuhai and London, podcast co-hosts Nina Pantic and Irina Falconi discuss the art of defending points (02:14). In Singapore, one of the biggest storylines (aside from the matches, of course) has been the on-court coaching debate.\n",
      "\n",
      "8 번 문서\n",
      "원문 : Federer won the Swiss Indoors last week by beating Romanian qualifier Marius Copil in the final. The 37-year-old claimed his 99th ATP title and is hunting the century in the French capital this week. Federer has been handed a difficult draw where could could come across Kevin Anderson, Novak Djokovic and Rafael Nadal in the latter rounds. But first the 20-time Grand Slam winner wants to train on the Paris Masters court this afternoon before deciding whether to appear for his opening match against either Milos Raonic or Jo-Wilfried Tsonga. \"On Monday, I am free and will look how I feel,\" Federer said after winning the Swiss Indoors. \"On Tuesday I will fly to Paris and train in the afternoon to be ready for my first match on Wednesday night. \"I felt good all week and better every day. \"We also had the impression that at this stage it might be better to play matches than to train. \"And as long as I fear no injury, I play.\" Federer's success in Basel last week was the ninth time he has won his hometown tournament. And he was delighted to be watched on by all of his family and friends as he purchased 60 tickets for the final for those dearest to him. \"My children, my parents, my sister and my team are all there,\" Federer added. \"It is always very emotional for me to thank my team. And sometimes it tilts with the emotions, sometimes I just stumble. \"It means the world to me. It makes me incredibly happy to win my home tournament and make people happy here. \"I do not know if it's maybe my last title, so today I try a lot more to absorb that and enjoy the moments much more consciously. \"Maybe I should celebrate as if it were my last title. \"There are very touching moments: seeing the ball children, the standing ovations, all the familiar faces in the audience. Because it was not always easy in the last weeks.\"\n",
      "\n",
      "요약 : \"We also had the impression that at this stage it might be better to play matches than to train. \"Maybe I should celebrate as if it were my last title. \"On Monday, I am free and will look how I feel,\" Federer said after winning the Swiss Indoors.\n",
      "\n"
     ]
    }
   ],
   "source": [
    "for i in range(0, len(data)):\n",
    "    print(i+1,'번 문서')\n",
    "    print('원문 :',data.loc[i].article_text)\n",
    "    print('')\n",
    "    print('요약 :',data.loc[i].summary)\n",
    "    print('')"
   ],
   "metadata": {
    "collapsed": false,
    "ExecuteTime": {
     "end_time": "2024-01-13T07:20:03.319829Z",
     "start_time": "2024-01-13T07:20:03.309655Z"
    }
   },
   "id": "b6fc338240233f90"
  },
  {
   "cell_type": "code",
   "execution_count": null,
   "outputs": [],
   "source": [],
   "metadata": {
    "collapsed": false
   },
   "id": "bf52a09495022d83"
  }
 ],
 "metadata": {
  "kernelspec": {
   "display_name": "Python 3",
   "language": "python",
   "name": "python3"
  },
  "language_info": {
   "codemirror_mode": {
    "name": "ipython",
    "version": 2
   },
   "file_extension": ".py",
   "mimetype": "text/x-python",
   "name": "python",
   "nbconvert_exporter": "python",
   "pygments_lexer": "ipython2",
   "version": "2.7.6"
  }
 },
 "nbformat": 4,
 "nbformat_minor": 5
}
