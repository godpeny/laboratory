{
 "cells": [
  {
   "cell_type": "code",
   "execution_count": 9,
   "id": "initial_id",
   "metadata": {
    "collapsed": true,
    "ExecuteTime": {
     "end_time": "2023-10-08T11:39:04.402214Z",
     "start_time": "2023-10-08T11:39:04.395889Z"
    }
   },
   "outputs": [],
   "source": [
    "import numpy as np\n",
    "\n",
    "import tensorflow as tf\n",
    "import keras\n",
    "\n",
    "from keras.models import Sequential, Model\n",
    "from keras.layers import SimpleRNN, Dense, Input"
   ]
  },
  {
   "cell_type": "markdown",
   "source": [
    "# RNN Basics"
   ],
   "metadata": {
    "collapsed": false
   },
   "id": "3a613dd5a3dfef9b"
  },
  {
   "cell_type": "code",
   "execution_count": 8,
   "outputs": [
    {
     "name": "stdout",
     "output_type": "stream",
     "text": [
      "Model: \"sequential_6\"\n",
      "_________________________________________________________________\n",
      " Layer (type)                Output Shape              Param #   \n",
      "=================================================================\n",
      " simple_rnn_6 (SimpleRNN)    (8, 2, 3)                 42        \n",
      "                                                                 \n",
      "=================================================================\n",
      "Total params: 42 (168.00 Byte)\n",
      "Trainable params: 42 (168.00 Byte)\n",
      "Non-trainable params: 0 (0.00 Byte)\n",
      "_________________________________________________________________\n"
     ]
    }
   ],
   "source": [
    "model = Sequential()\n",
    "\"\"\"\n",
    "output shape = (batch_size, units) or (batch_size, timesteps(=input_length), units)\n",
    "batch_input_shape = (batch_size, timesteps(=input_length), input_dim)\n",
    "input_shape = (input_length, input_dim)\n",
    "\"\"\"\n",
    "model.add(SimpleRNN(units=3, batch_input_shape=(8,2,10), return_sequences=True))\n",
    "# model.add(SimpleRNN(units=3, batch_size=8,input_shape=(2,10), return_sequences=True)) equals to above\n",
    "model.summary()"
   ],
   "metadata": {
    "collapsed": false,
    "ExecuteTime": {
     "end_time": "2023-10-08T11:28:56.205877Z",
     "start_time": "2023-10-08T11:28:56.174498Z"
    }
   },
   "id": "d03a447363eb3b7b"
  },
  {
   "cell_type": "markdown",
   "source": [
    "# Implementing RNN from scratch\n",
    "\n",
    "## pseudo code for RNN\n",
    "\n",
    "```python\n",
    "hidden_state_t = 0 # initial hidden state\n",
    "\n",
    "for input_t in input_length: \n",
    "    output_t = tanh(input_t, hidden_state_t) # output is a result of tanh function with input and hidden state from previous time step\n",
    "    hidden_state_t = output_t # output becomes current time step's hidden state\n",
    "```"
   ],
   "metadata": {
    "collapsed": false
   },
   "id": "89eb61dd6150304c"
  },
  {
   "cell_type": "code",
   "execution_count": 16,
   "outputs": [
    {
     "name": "stdout",
     "output_type": "stream",
     "text": [
      "[[4.98705738e-01 3.43579551e-01 7.29424948e-01 8.83242390e-01]\n",
      " [6.57167566e-01 2.75695171e-01 4.18105849e-01 2.87613807e-01]\n",
      " [5.04763833e-01 8.07398860e-01 2.44745919e-01 7.93149621e-01]\n",
      " [5.17434268e-01 5.93458272e-01 5.39100197e-01 6.17021694e-01]\n",
      " [8.98304903e-04 3.89044120e-01 8.07803813e-01 7.09065966e-01]\n",
      " [9.63687096e-01 7.73384134e-01 9.84945676e-01 3.96307645e-01]\n",
      " [4.44714669e-01 6.57832453e-01 1.38266969e-01 4.39878920e-01]\n",
      " [7.79074827e-01 8.72103339e-03 7.89651492e-01 1.76798585e-01]\n",
      " [2.88806605e-01 3.78584281e-01 2.04598350e-01 8.16329346e-01]\n",
      " [7.73349873e-01 4.73593833e-01 7.84976774e-01 1.81558486e-02]]\n",
      "[0. 0. 0. 0. 0. 0. 0. 0.]\n",
      "(10, 4) (8,)\n"
     ]
    }
   ],
   "source": [
    "timesteps = 10 # input sequence length (=input_length)\n",
    "input_dim = 4\n",
    "hidden_units = 8 # number of neurons in hidden layer\n",
    "\n",
    "inputs = np.random.random((timesteps, input_dim)) # input data\n",
    "hidden_state_t = np.zeros((hidden_units,)) # initial hidden state\n",
    "\n",
    "print(inputs)\n",
    "print(hidden_state_t)\n",
    "print(inputs.shape, hidden_state_t.shape)"
   ],
   "metadata": {
    "collapsed": false,
    "ExecuteTime": {
     "end_time": "2023-10-08T14:09:56.726733Z",
     "start_time": "2023-10-08T14:09:56.723570Z"
    }
   },
   "id": "198381ce5d1bf925"
  },
  {
   "cell_type": "code",
   "execution_count": 17,
   "outputs": [
    {
     "name": "stdout",
     "output_type": "stream",
     "text": [
      "(8, 4) (8, 8) (8,)\n"
     ]
    }
   ],
   "source": [
    "Wx = np.random.random((hidden_units, input_dim)) # input to hidden weight\n",
    "Wh = np.random.random((hidden_units, hidden_units)) # hidden to hidden weight\n",
    "b = np.random.random((hidden_units,)) # bias\n",
    "\n",
    "print(Wx.shape, Wh.shape, b.shape)"
   ],
   "metadata": {
    "collapsed": false,
    "ExecuteTime": {
     "end_time": "2023-10-08T14:09:58.094078Z",
     "start_time": "2023-10-08T14:09:58.091536Z"
    }
   },
   "id": "bb4477e81ce1d182"
  },
  {
   "cell_type": "code",
   "execution_count": 18,
   "outputs": [],
   "source": [
    "total_hidden_states = []\n",
    "\n",
    "for input_t in inputs:\n",
    "    \"\"\"\n",
    "    RNN equation : (Wx * Xt) + (Wh * Ht-1) + b\n",
    "    \"\"\"\n",
    "    output_t = np.tanh(np.dot(Wx, input_t) + np.dot(Wh, hidden_state_t) + b) # shape : (hidden_units, ) = (8, )\n",
    "    total_hidden_states.append(list(output_t))\n",
    "    hidden_state_t = output_t # output becomes current time step's hidden state"
   ],
   "metadata": {
    "collapsed": false,
    "ExecuteTime": {
     "end_time": "2023-10-08T14:09:59.274363Z",
     "start_time": "2023-10-08T14:09:59.268389Z"
    }
   },
   "id": "51a15b9182696c90"
  },
  {
   "cell_type": "code",
   "execution_count": 21,
   "outputs": [
    {
     "name": "stdout",
     "output_type": "stream",
     "text": [
      "[[0.99049901 0.92493837 0.89850866 0.98886213 0.89177211 0.97707599\n",
      "  0.92730828 0.9001823 ]\n",
      " [0.99999449 0.99989076 0.99989179 0.99999587 0.99993034 0.99946534\n",
      "  0.9998369  0.99981889]\n",
      " [0.99999827 0.99997633 0.99996929 0.99999851 0.99998195 0.99987508\n",
      "  0.9999071  0.9999501 ]\n",
      " [0.99999855 0.9999768  0.99996781 0.99999871 0.99997613 0.99981816\n",
      "  0.99992724 0.99993875]\n",
      " [0.99999847 0.99998269 0.99995566 0.99999811 0.99997488 0.99957686\n",
      "  0.99989596 0.99989746]\n",
      " [0.99999953 0.99998902 0.99998851 0.99999965 0.99997298 0.99992919\n",
      "  0.99997732 0.99997598]\n",
      " [0.99999512 0.99994458 0.99993582 0.99999664 0.99996805 0.99966904\n",
      "  0.99982996 0.99992139]\n",
      " [0.99999819 0.9999462  0.99994156 0.99999856 0.99995337 0.99953928\n",
      "  0.99994303 0.99986071]\n",
      " [0.9999972  0.9999576  0.99993262 0.99999708 0.99997961 0.99967604\n",
      "  0.99985401 0.99986625]\n",
      " [0.99999788 0.99996182 0.99996172 0.9999987  0.99994641 0.9996791\n",
      "  0.99993868 0.99994085]]\n"
     ]
    }
   ],
   "source": [
    "print(total_hidden_states)"
   ],
   "metadata": {
    "collapsed": false,
    "ExecuteTime": {
     "end_time": "2023-10-08T14:10:27.756131Z",
     "start_time": "2023-10-08T14:10:27.752095Z"
    }
   },
   "id": "dcba00ab036c5c71"
  }
 ],
 "metadata": {
  "kernelspec": {
   "display_name": "Python 3",
   "language": "python",
   "name": "python3"
  },
  "language_info": {
   "codemirror_mode": {
    "name": "ipython",
    "version": 2
   },
   "file_extension": ".py",
   "mimetype": "text/x-python",
   "name": "python",
   "nbconvert_exporter": "python",
   "pygments_lexer": "ipython2",
   "version": "2.7.6"
  }
 },
 "nbformat": 4,
 "nbformat_minor": 5
}
