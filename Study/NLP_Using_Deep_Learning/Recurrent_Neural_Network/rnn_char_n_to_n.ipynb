{
 "cells": [
  {
   "cell_type": "code",
   "execution_count": 50,
   "id": "initial_id",
   "metadata": {
    "collapsed": true,
    "ExecuteTime": {
     "end_time": "2023-10-15T09:18:40.622459Z",
     "start_time": "2023-10-15T09:18:40.615043Z"
    }
   },
   "outputs": [],
   "source": [
    "import numpy as np\n",
    "import pandas as pd\n",
    "\n",
    "import tensorflow as tf\n",
    "import keras\n",
    "from keras.models import Sequential, Model\n",
    "from keras.layers import Dense, LSTM, TimeDistributed\n",
    "from keras.utils import to_categorical\n",
    "\n",
    "import urllib.request"
   ]
  },
  {
   "cell_type": "markdown",
   "source": [
    "# Data Preprocessing"
   ],
   "metadata": {
    "collapsed": false
   },
   "id": "699d875b1b5bb846"
  },
  {
   "cell_type": "code",
   "execution_count": 3,
   "outputs": [
    {
     "data": {
      "text/plain": "('../data/11-0.txt', <http.client.HTTPMessage at 0x2a0dc4790>)"
     },
     "execution_count": 3,
     "metadata": {},
     "output_type": "execute_result"
    }
   ],
   "source": [
    "# download data\n",
    "urllib.request.urlretrieve(\"http://www.gutenberg.org/files/11/11-0.txt\", filename=\"../data/11-0.txt\")"
   ],
   "metadata": {
    "collapsed": false,
    "ExecuteTime": {
     "end_time": "2023-10-15T08:14:19.474324Z",
     "start_time": "2023-10-15T08:14:17.791261Z"
    }
   },
   "id": "8b1da7d3a76e7b65"
  },
  {
   "cell_type": "code",
   "execution_count": 7,
   "outputs": [
    {
     "name": "stdout",
     "output_type": "stream",
     "text": [
      "['the project gutenberg ebook of alices adventures in wonderland, by lewis carroll', 'this ebook is for the use of anyone anywhere in the united states and', 'most other parts of the world at no cost and with almost no restrictions', 'whatsoever. you may copy it, give it away or re-use it under the terms', 'of the project gutenberg license included with this ebook or online at', 'www.gutenberg.org. if you are not located in the united states, you', 'will have to check the laws of the country where you are located before', 'using this ebook.', 'title: alices adventures in wonderland', 'author: lewis carroll']\n"
     ]
    }
   ],
   "source": [
    "# load data\n",
    "sentences = list()\n",
    "with open(\"../data/11-0.txt\", \"rb\") as f:    \n",
    "    for sentence in f:\n",
    "        sentence = sentence.strip() # remove spaces such as \\n\n",
    "        sentence = sentence.decode('ascii', 'ignore') # remove non-ascii characters\n",
    "        sentence = sentence.lower() # lower case\n",
    "        \n",
    "        if len(sentence) > 0:\n",
    "            sentences.append(sentence)     \n",
    "            \n",
    "print(sentences[:10])"
   ],
   "metadata": {
    "collapsed": false,
    "ExecuteTime": {
     "end_time": "2023-10-15T08:23:31.942725Z",
     "start_time": "2023-10-15T08:23:31.938780Z"
    }
   },
   "id": "5a8aaf78abba5914"
  },
  {
   "cell_type": "code",
   "execution_count": 25,
   "outputs": [
    {
     "name": "stdout",
     "output_type": "stream",
     "text": [
      "the project gutenberg ebook of alices adventures in wonderland, by lewis carroll this ebook is for the use of anyone anywhere in the united states and\n",
      "159484\n"
     ]
    }
   ],
   "source": [
    "# combine all sentences into one string\n",
    "data = \" \".join(sentences)\n",
    "print(data[:150])\n",
    "print(len(data))"
   ],
   "metadata": {
    "collapsed": false,
    "ExecuteTime": {
     "end_time": "2023-10-15T08:43:39.650683Z",
     "start_time": "2023-10-15T08:43:39.644225Z"
    }
   },
   "id": "e9aa5f4bc92e32c9"
  },
  {
   "cell_type": "code",
   "execution_count": 26,
   "outputs": [
    {
     "name": "stdout",
     "output_type": "stream",
     "text": [
      "{' ': 0, '!': 1, '\"': 2, '#': 3, '$': 4, '%': 5, \"'\": 6, '(': 7, ')': 8, '*': 9, ',': 10, '-': 11, '.': 12, '/': 13, '0': 14, '1': 15, '2': 16, '3': 17, '4': 18, '5': 19, '6': 20, '7': 21, '8': 22, '9': 23, ':': 24, ';': 25, '?': 26, '[': 27, ']': 28, '_': 29, 'a': 30, 'b': 31, 'c': 32, 'd': 33, 'e': 34, 'f': 35, 'g': 36, 'h': 37, 'i': 38, 'j': 39, 'k': 40, 'l': 41, 'm': 42, 'n': 43, 'o': 44, 'p': 45, 'q': 46, 'r': 47, 's': 48, 't': 49, 'u': 50, 'v': 51, 'w': 52, 'x': 53, 'y': 54, 'z': 55}\n"
     ]
    }
   ],
   "source": [
    "# make char-index dictionary\n",
    "char_vocab = sorted(list(set(data))) # check unique characters\n",
    "char_to_index_pair = dict((char, index) for index, char in enumerate(char_vocab))\n",
    "index_to_char_pair = dict((index, char) for index, char in enumerate(char_vocab))\n",
    "print(char_to_index_pair)\n",
    "# print(index_to_char_pair)"
   ],
   "metadata": {
    "collapsed": false,
    "ExecuteTime": {
     "end_time": "2023-10-15T08:43:40.068231Z",
     "start_time": "2023-10-15T08:43:40.066205Z"
    }
   },
   "id": "f1ae43bca58b10cf"
  },
  {
   "cell_type": "code",
   "execution_count": 28,
   "outputs": [
    {
     "name": "stdout",
     "output_type": "stream",
     "text": [
      "2658\n"
     ]
    }
   ],
   "source": [
    "# split data into n_sample\n",
    "split_unit = 60\n",
    "n_sample = int(np.floor(len(data) / split_unit))\n",
    "print(n_sample)"
   ],
   "metadata": {
    "collapsed": false,
    "ExecuteTime": {
     "end_time": "2023-10-15T08:47:16.204137Z",
     "start_time": "2023-10-15T08:47:16.197686Z"
    }
   },
   "id": "5f0e79e78ca3b00b"
  },
  {
   "cell_type": "code",
   "execution_count": 40,
   "outputs": [
    {
     "name": "stdout",
     "output_type": "stream",
     "text": [
      "[49, 37, 34, 0, 45, 47, 44, 39, 34, 32, 49, 0, 36, 50, 49, 34, 43, 31, 34, 47, 36, 0, 34, 31, 44, 44, 40, 0, 44, 35, 0, 30, 41, 38, 32, 34, 48, 0, 30, 33, 51, 34, 43, 49, 50, 47, 34, 48, 0, 38, 43, 0, 52, 44, 43, 33, 34, 47, 41, 30]\n",
      "[37, 34, 0, 45, 47, 44, 39, 34, 32, 49, 0, 36, 50, 49, 34, 43, 31, 34, 47, 36, 0, 34, 31, 44, 44, 40, 0, 44, 35, 0, 30, 41, 38, 32, 34, 48, 0, 30, 33, 51, 34, 43, 49, 50, 47, 34, 48, 0, 38, 43, 0, 52, 44, 43, 33, 34, 47, 41, 30, 43]\n"
     ]
    }
   ],
   "source": [
    "# make data sets\n",
    "X_train = list()\n",
    "y_train = list()\n",
    "\n",
    "for i in range(0, n_sample): # 0~n_sample-1\n",
    "    X = data[i*split_unit:(i+1)*split_unit]\n",
    "    X_encoded = [char_to_index_pair[c] for c in X]\n",
    "    X_train.append(X_encoded)\n",
    "    \n",
    "    y = data[i*split_unit+1:(i+1)*split_unit+1] # y is shifted version of X by 1\n",
    "    y_encoded = [char_to_index_pair[c] for c in y]\n",
    "    y_train.append(y_encoded)\n",
    "    \n",
    "print(X_train[0])\n",
    "print(y_train[0])"
   ],
   "metadata": {
    "collapsed": false,
    "ExecuteTime": {
     "end_time": "2023-10-15T09:03:47.034592Z",
     "start_time": "2023-10-15T09:03:47.029275Z"
    }
   },
   "id": "7d836e27c55c7bd2"
  },
  {
   "cell_type": "code",
   "execution_count": 48,
   "outputs": [
    {
     "name": "stdout",
     "output_type": "stream",
     "text": [
      "(2658, 60, 56)\n",
      "(2658, 60, 56)\n"
     ]
    },
    {
     "data": {
      "text/plain": "array([[0., 0., 0., ..., 0., 0., 0.],\n       [0., 0., 0., ..., 0., 0., 0.],\n       [0., 0., 0., ..., 0., 0., 0.],\n       ...,\n       [0., 0., 0., ..., 0., 0., 0.],\n       [0., 0., 0., ..., 0., 0., 0.],\n       [0., 0., 0., ..., 0., 0., 0.]], dtype=float32)"
     },
     "execution_count": 48,
     "metadata": {},
     "output_type": "execute_result"
    }
   ],
   "source": [
    "# one-hot encoding\n",
    "X_train_encoded = to_categorical(X_train)\n",
    "y_train_encoded = to_categorical(y_train)\n",
    "\n",
    "print(X_train_encoded.shape) # (n_sample, split_unit, n_char)\n",
    "print(y_train_encoded.shape) # (n_sample, split_unit, n_char) for n to n rnn\n",
    "\n",
    "X_train_encoded[0]"
   ],
   "metadata": {
    "collapsed": false,
    "ExecuteTime": {
     "end_time": "2023-10-15T09:11:18.869262Z",
     "start_time": "2023-10-15T09:11:18.846215Z"
    }
   },
   "id": "67ed67d8f3e525f5"
  },
  {
   "cell_type": "markdown",
   "source": [
    "# Modeling"
   ],
   "metadata": {
    "collapsed": false
   },
   "id": "9b7f0911f358768c"
  },
  {
   "cell_type": "code",
   "execution_count": 55,
   "outputs": [
    {
     "name": "stdout",
     "output_type": "stream",
     "text": [
      "Model: \"sequential_4\"\n",
      "_________________________________________________________________\n",
      " Layer (type)                Output Shape              Param #   \n",
      "=================================================================\n",
      " lstm_8 (LSTM)               (None, None, 256)         320512    \n",
      "                                                                 \n",
      " lstm_9 (LSTM)               (None, None, 256)         525312    \n",
      "                                                                 \n",
      " time_distributed_4 (TimeDi  (None, None, 56)          14392     \n",
      " stributed)                                                      \n",
      "                                                                 \n",
      "=================================================================\n",
      "Total params: 860216 (3.28 MB)\n",
      "Trainable params: 860216 (3.28 MB)\n",
      "Non-trainable params: 0 (0.00 Byte)\n",
      "_________________________________________________________________\n",
      "Epoch 1/10\n",
      "84/84 - 20s - loss: 3.0664 - accuracy: 0.1838 - 20s/epoch - 244ms/step\n",
      "Epoch 2/10\n",
      "84/84 - 23s - loss: 2.6932 - accuracy: 0.2580 - 23s/epoch - 275ms/step\n",
      "Epoch 3/10\n",
      "84/84 - 23s - loss: 2.3622 - accuracy: 0.3338 - 23s/epoch - 271ms/step\n",
      "Epoch 4/10\n",
      "84/84 - 22s - loss: 2.2212 - accuracy: 0.3697 - 22s/epoch - 267ms/step\n",
      "Epoch 5/10\n",
      "84/84 - 23s - loss: 2.1203 - accuracy: 0.3943 - 23s/epoch - 271ms/step\n",
      "Epoch 6/10\n",
      "84/84 - 22s - loss: 2.0384 - accuracy: 0.4142 - 22s/epoch - 258ms/step\n",
      "Epoch 7/10\n",
      "84/84 - 19s - loss: 1.9730 - accuracy: 0.4298 - 19s/epoch - 230ms/step\n",
      "Epoch 8/10\n",
      "84/84 - 21s - loss: 1.9113 - accuracy: 0.4458 - 21s/epoch - 251ms/step\n",
      "Epoch 9/10\n",
      "84/84 - 19s - loss: 1.8568 - accuracy: 0.4606 - 19s/epoch - 230ms/step\n",
      "Epoch 10/10\n",
      "84/84 - 19s - loss: 1.8097 - accuracy: 0.4747 - 19s/epoch - 226ms/step\n"
     ]
    },
    {
     "data": {
      "text/plain": "<keras.src.callbacks.History at 0x165d0e110>"
     },
     "execution_count": 55,
     "metadata": {},
     "output_type": "execute_result"
    }
   ],
   "source": [
    "hidden_units = 256\n",
    "\n",
    "model = Sequential()\n",
    "model.add(LSTM(units=hidden_units, input_shape=(None, len(char_vocab)), return_sequences=True))\n",
    "model.add(LSTM(units=hidden_units, return_sequences=True))\n",
    "model.add(TimeDistributed(Dense(units=len(char_vocab), activation='softmax')))\n",
    "model.summary()\n",
    "\n",
    "model.compile(loss='categorical_crossentropy', optimizer='adam', metrics=['accuracy'])\n",
    "model.fit(X_train_encoded, y_train_encoded, epochs=10, verbose=2)"
   ],
   "metadata": {
    "collapsed": false,
    "ExecuteTime": {
     "end_time": "2023-10-15T09:54:13.740474Z",
     "start_time": "2023-10-15T09:50:41.689768Z"
    }
   },
   "id": "ba2016ecf27bcda7"
  },
  {
   "cell_type": "code",
   "execution_count": 69,
   "outputs": [
    {
     "name": "stdout",
     "output_type": "stream",
     "text": [
      "1/1 [==============================] - 0s 11ms/step\n",
      "1/1 [==============================] - 0s 8ms/step\n",
      "1/1 [==============================] - 0s 9ms/step\n",
      "1/1 [==============================] - 0s 9ms/step\n",
      "1/1 [==============================] - 0s 8ms/step\n",
      "1/1 [==============================] - 0s 10ms/step\n",
      "1/1 [==============================] - 0s 9ms/step\n",
      "1/1 [==============================] - 0s 10ms/step\n",
      "1/1 [==============================] - 0s 10ms/step\n",
      "1/1 [==============================] - 0s 10ms/step\n",
      "1/1 [==============================] - 0s 10ms/step\n",
      "1/1 [==============================] - 0s 10ms/step\n",
      "1/1 [==============================] - 0s 11ms/step\n",
      "1/1 [==============================] - 0s 10ms/step\n",
      "1/1 [==============================] - 0s 12ms/step\n",
      "1/1 [==============================] - 0s 11ms/step\n",
      "1/1 [==============================] - 0s 13ms/step\n",
      "1/1 [==============================] - 0s 13ms/step\n",
      "1/1 [==============================] - 0s 12ms/step\n",
      "1/1 [==============================] - 0s 12ms/step\n",
      "1/1 [==============================] - 0s 13ms/step\n",
      "1/1 [==============================] - 0s 12ms/step\n",
      "1/1 [==============================] - 0s 13ms/step\n",
      "1/1 [==============================] - 0s 13ms/step\n",
      "1/1 [==============================] - 0s 14ms/step\n",
      "ing the marge the marked t\n"
     ]
    }
   ],
   "source": [
    "# generating sentences with word\n",
    "def generate(model, char, n):\n",
    "    ix = []\n",
    "    sentence = \"\"\n",
    "\n",
    "    idx = [char_to_index_pair[c] for c in char]\n",
    "    ix.append(idx)\n",
    "    sentence += char\n",
    "    \n",
    "    X = np.zeros((1, n, len(char_vocab))) # (1, n, n_char) to fit into model\n",
    "    for i in range(n):\n",
    "        X[0][i][ix[-1]] = 1 # one-hot encoding\n",
    "        pred = model.predict(X[:, :i+1, :]) # (1, i+1, n_char)\n",
    "        ix = np.argmax(pred[0], axis=1) # axis=1 means getting max value for each row, while axis=0 means getting max value for each column\n",
    "        sentence += index_to_char_pair[ix[-1]]\n",
    "    \n",
    "    print(sentence)\n",
    "\n",
    "generate(model, 'i', 25)"
   ],
   "metadata": {
    "collapsed": false,
    "ExecuteTime": {
     "end_time": "2023-10-15T10:15:35.622982Z",
     "start_time": "2023-10-15T10:15:34.990667Z"
    }
   },
   "id": "cce66e678b397d58"
  },
  {
   "cell_type": "code",
   "execution_count": null,
   "outputs": [],
   "source": [],
   "metadata": {
    "collapsed": false
   },
   "id": "b2b5df91fc8a506d"
  }
 ],
 "metadata": {
  "kernelspec": {
   "display_name": "Python 3",
   "language": "python",
   "name": "python3"
  },
  "language_info": {
   "codemirror_mode": {
    "name": "ipython",
    "version": 2
   },
   "file_extension": ".py",
   "mimetype": "text/x-python",
   "name": "python",
   "nbconvert_exporter": "python",
   "pygments_lexer": "ipython2",
   "version": "2.7.6"
  }
 },
 "nbformat": 4,
 "nbformat_minor": 5
}
