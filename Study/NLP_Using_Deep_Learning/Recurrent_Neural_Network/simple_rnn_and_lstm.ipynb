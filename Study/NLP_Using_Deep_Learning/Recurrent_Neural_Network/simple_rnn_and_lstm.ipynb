{
 "cells": [
  {
   "cell_type": "code",
   "execution_count": 11,
   "id": "initial_id",
   "metadata": {
    "collapsed": true,
    "ExecuteTime": {
     "end_time": "2023-10-09T08:48:55.483526Z",
     "start_time": "2023-10-09T08:48:55.480698Z"
    }
   },
   "outputs": [],
   "source": [
    "import numpy as np\n",
    "import pandas as pd\n",
    "\n",
    "import tensorflow as tf\n",
    "import keras\n",
    "from keras.layers import SimpleRNN, LSTM, Bidirectional"
   ]
  },
  {
   "cell_type": "markdown",
   "source": [
    "# Simple RNN"
   ],
   "metadata": {
    "collapsed": false
   },
   "id": "ed499cf043411858"
  },
  {
   "cell_type": "code",
   "execution_count": 2,
   "outputs": [
    {
     "name": "stdout",
     "output_type": "stream",
     "text": [
      "(4, 5)\n",
      "(1, 4, 5)\n"
     ]
    }
   ],
   "source": [
    "# data\n",
    "raw_X = [[0.1, 4.2, 1.5, 1.1, 2.8], [1.0, 3.1, 2.5, 0.7, 1.1], [0.3, 2.1, 1.5, 2.1, 0.1], [2.2, 1.4, 0.5, 0.9, 1.1]]\n",
    "train_X = np.array([raw_X]) # since input tensor of keras RNN layer must be 3D (batch_size, timesteps, input_dim)\n",
    "\n",
    "print(np.shape(raw_X))\n",
    "print(np.shape(train_X))"
   ],
   "metadata": {
    "collapsed": false,
    "ExecuteTime": {
     "end_time": "2023-10-09T07:53:39.307523Z",
     "start_time": "2023-10-09T07:53:39.305094Z"
    }
   },
   "id": "764f8e00aefcf9a0"
  },
  {
   "cell_type": "code",
   "execution_count": 3,
   "outputs": [
    {
     "name": "stdout",
     "output_type": "stream",
     "text": [
      "tf.Tensor([[-0.90406674 -0.95695645  0.4871061 ]], shape=(1, 3), dtype=float32)\n",
      "tf.Tensor(\n",
      "[[[ 0.53989905 -0.7305396   0.9989259 ]\n",
      "  [ 0.56508136 -0.42520976  0.93777025]\n",
      "  [ 0.40157634  0.5699616   0.20279834]\n",
      "  [-0.7226658  -0.7673637  -0.7919916 ]]], shape=(1, 4, 3), dtype=float32)\n",
      "tf.Tensor(\n",
      "[[[-0.93144274 -0.98647815  0.95165825]\n",
      "  [-0.9861711  -0.99771756  0.90277547]\n",
      "  [-0.911559   -0.9881302   0.53207195]\n",
      "  [-0.1292545  -0.99389213  0.9906109 ]]], shape=(1, 4, 3), dtype=float32)\n",
      "tf.Tensor([[-0.1292545  -0.99389213  0.9906109 ]], shape=(1, 3), dtype=float32)\n"
     ]
    }
   ],
   "source": [
    "# RNN\n",
    "rnn = SimpleRNN(units=3)\n",
    "hidden_states = rnn(train_X)\n",
    "print(hidden_states)\n",
    "\n",
    "rnn = SimpleRNN(units=3, return_sequences=True) # time series data\n",
    "hidden_states = rnn(train_X)\n",
    "print(hidden_states)\n",
    "\n",
    "rnn = SimpleRNN(units=3, return_sequences=True, return_state=True) # return hidden states and last hidden state\n",
    "hidden_states, last_state = rnn(train_X)\n",
    "print(hidden_states)\n",
    "print(last_state)"
   ],
   "metadata": {
    "collapsed": false,
    "ExecuteTime": {
     "end_time": "2023-10-09T07:53:39.349004Z",
     "start_time": "2023-10-09T07:53:39.308141Z"
    }
   },
   "id": "f911847466638ce8"
  },
  {
   "cell_type": "markdown",
   "source": [
    "# LSTM (Long Short Term Memory)"
   ],
   "metadata": {
    "collapsed": false
   },
   "id": "e5f3a3eb9e406985"
  },
  {
   "cell_type": "code",
   "execution_count": 7,
   "outputs": [
    {
     "name": "stdout",
     "output_type": "stream",
     "text": [
      "hidden state : [[-0.14770149 -0.3586996   0.17888106]], shape: (1, 3)\n",
      "last hidden state : [[-0.14770149 -0.3586996   0.17888106]], shape: (1, 3)\n",
      "last cell state : [[-0.5037084  -0.5890213   0.21560201]], shape: (1, 3)\n",
      "hidden states : [[[-0.05164738 -0.0841753   0.34916106]\n",
      "  [-0.11765892  0.00512141  0.65895736]\n",
      "  [-0.03715635  0.0396741   0.71605664]\n",
      "  [-0.20584036  0.28282502  0.5444041 ]]], shape: (1, 4, 3)\n",
      "last hidden state : [[-0.20584036  0.28282502  0.5444041 ]], shape: (1, 3)\n",
      "last cell state : [[-0.44378722  0.5295171   1.237071  ]], shape: (1, 3)\n"
     ]
    }
   ],
   "source": [
    "lstm = LSTM(units=3, return_sequences=False, return_state=True)\n",
    "hidden_state, last_hidden_state, last_cell_state = lstm(train_X)\n",
    "print('hidden state : {}, shape: {}'.format(hidden_state, hidden_state.shape))\n",
    "print('last hidden state : {}, shape: {}'.format(last_hidden_state, last_hidden_state.shape))\n",
    "print('last cell state : {}, shape: {}'.format(last_cell_state, last_cell_state.shape))\n",
    "\n",
    "lstm = LSTM(units=3, return_sequences=True, return_state=True)\n",
    "hidden_states, last_hidden_state, last_cell_state = lstm(train_X)\n",
    "print('hidden states : {}, shape: {}'.format(hidden_states, hidden_states.shape))\n",
    "print('last hidden state : {}, shape: {}'.format(last_hidden_state, last_hidden_state.shape))\n",
    "print('last cell state : {}, shape: {}'.format(last_cell_state, last_cell_state.shape))"
   ],
   "metadata": {
    "collapsed": false,
    "ExecuteTime": {
     "end_time": "2023-10-09T07:56:41.080120Z",
     "start_time": "2023-10-09T07:56:41.055806Z"
    }
   },
   "id": "ca2c5f45e12e13f6"
  },
  {
   "cell_type": "markdown",
   "source": [
    "# Bidirectional LSTM\n",
    "## recurrent kernel is weights for the previous output\n",
    "## kernel is weights for the current input"
   ],
   "metadata": {
    "collapsed": false
   },
   "id": "1d8c94d7a1e10399"
  },
  {
   "cell_type": "code",
   "execution_count": 10,
   "outputs": [],
   "source": [
    "# fix initializing values\n",
    "k_init = tf.keras.initializers.Constant(value=0.1)\n",
    "b_init = tf.keras.initializers.Constant(value=0)\n",
    "r_init = tf.keras.initializers.Constant(value=0.1)"
   ],
   "metadata": {
    "collapsed": false,
    "ExecuteTime": {
     "end_time": "2023-10-09T08:46:47.969150Z",
     "start_time": "2023-10-09T08:46:47.965873Z"
    }
   },
   "id": "10cc070e7eec75db"
  },
  {
   "cell_type": "code",
   "execution_count": 14,
   "outputs": [
    {
     "name": "stdout",
     "output_type": "stream",
     "text": [
      "hidden state : [[0.63031393 0.63031393 0.63031393 0.7038734  0.7038734  0.7038734 ]], shape: (1, 6)\n",
      "forward hidden state : [[0.63031393 0.63031393 0.63031393]], shape: (1, 3)\n",
      "backward hidden state : [[0.7038734 0.7038734 0.7038734]], shape: (1, 3)\n",
      "forward cell state : [[1.5707088 1.5707088 1.5707088]], shape: (1, 3)\n",
      "backward cell state : [[1.6402447 1.6402447 1.6402447]], shape: (1, 3)\n",
      "hidden states : [[[0.35906473 0.35906473 0.35906473 0.7038734  0.7038734  0.7038734 ]\n",
      "  [0.5511133  0.5511133  0.5511133  0.58863586 0.58863586 0.58863586]\n",
      "  [0.59115756 0.59115756 0.59115756 0.3951699  0.3951699  0.3951699 ]\n",
      "  [0.63031393 0.63031393 0.63031393 0.21942244 0.21942244 0.21942244]]], shape: (1, 4, 6)\n",
      "forward hidden state : [[0.63031393 0.63031393 0.63031393]], shape: (1, 3)\n",
      "backward hidden state : [[0.7038734 0.7038734 0.7038734]], shape: (1, 3)\n",
      "forward cell state : [[1.5707088 1.5707088 1.5707088]], shape: (1, 3)\n",
      "backward cell state : [[1.6402447 1.6402447 1.6402447]], shape: (1, 3)\n"
     ]
    }
   ],
   "source": [
    "\"\"\"\n",
    "hidden_state and cell_state of forward and backward\n",
    "hidden_state = [forward_h, backward_h]\n",
    "\n",
    "when return_sequences=False : hidden_state is combined of latest forward_h and backward_h\n",
    "when return_sequences=True : hidden_state is combined of latest forward_h and first backward_h\n",
    "\"\"\"\n",
    "bi_lstm = Bidirectional(LSTM(units=3, kernel_initializer=k_init, bias_initializer=b_init, recurrent_initializer=r_init, return_sequences=False, return_state=True))\n",
    "\n",
    "hidden_state, forward_h, forward_c, backward_h, backward_c = bi_lstm(train_X) \n",
    "print('hidden state : {}, shape: {}'.format(hidden_state, hidden_state.shape))\n",
    "print('forward hidden state : {}, shape: {}'.format(forward_h, forward_h.shape))\n",
    "print('backward hidden state : {}, shape: {}'.format(backward_h, backward_h.shape))\n",
    "print('forward cell state : {}, shape: {}'.format(forward_c, forward_c.shape))\n",
    "print('backward cell state : {}, shape: {}'.format(backward_c, backward_c.shape))\n",
    "\n",
    "bi_lstm = Bidirectional(LSTM(units=3, kernel_initializer=k_init, bias_initializer=b_init, recurrent_initializer=r_init, return_sequences=True, return_state=True))\n",
    "hidden_states, forward_h, forward_c, backward_h, backward_c = bi_lstm(train_X)\n",
    "print('hidden states : {}, shape: {}'.format(hidden_states, hidden_states.shape))\n",
    "print('forward hidden state : {}, shape: {}'.format(forward_h, forward_h.shape))\n",
    "print('backward hidden state : {}, shape: {}'.format(backward_h, backward_h.shape))\n",
    "print('forward cell state : {}, shape: {}'.format(forward_c, forward_c.shape))\n",
    "print('backward cell state : {}, shape: {}'.format(backward_c, backward_c.shape))"
   ],
   "metadata": {
    "collapsed": false,
    "ExecuteTime": {
     "end_time": "2023-10-09T08:54:17.797441Z",
     "start_time": "2023-10-09T08:54:17.769068Z"
    }
   },
   "id": "ba1d843267c5caab"
  },
  {
   "cell_type": "code",
   "execution_count": null,
   "outputs": [],
   "source": [],
   "metadata": {
    "collapsed": false
   },
   "id": "bb7b9e557f6d408"
  }
 ],
 "metadata": {
  "kernelspec": {
   "display_name": "Python 3",
   "language": "python",
   "name": "python3"
  },
  "language_info": {
   "codemirror_mode": {
    "name": "ipython",
    "version": 2
   },
   "file_extension": ".py",
   "mimetype": "text/x-python",
   "name": "python",
   "nbconvert_exporter": "python",
   "pygments_lexer": "ipython2",
   "version": "2.7.6"
  }
 },
 "nbformat": 4,
 "nbformat_minor": 5
}
