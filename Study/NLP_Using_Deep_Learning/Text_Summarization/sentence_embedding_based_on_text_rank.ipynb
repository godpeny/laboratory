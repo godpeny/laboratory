{
 "cells": [
  {
   "cell_type": "code",
   "execution_count": 1,
   "outputs": [],
   "source": [
    "import numpy as np\n",
    "import re\n",
    "import pandas as pd\n",
    "import matplotlib.pyplot as plt\n",
    "from nltk.tokenize import sent_tokenize, word_tokenize\n",
    "from nltk.corpus import stopwords\n",
    "from urllib.request import urlretrieve\n",
    "import zipfile\n",
    "from sklearn.metrics.pairwise import cosine_similarity\n",
    "import networkx as nx"
   ],
   "metadata": {
    "collapsed": false,
    "ExecuteTime": {
     "end_time": "2024-01-08T14:26:13.667266Z",
     "start_time": "2024-01-08T14:26:12.594930Z"
    }
   },
   "id": "99723b3a51eb90a"
  },
  {
   "cell_type": "markdown",
   "source": [
    "# GloVe"
   ],
   "metadata": {
    "collapsed": false
   },
   "id": "d713088d07cd5837"
  },
  {
   "cell_type": "code",
   "execution_count": 2,
   "outputs": [
    {
     "name": "stdout",
     "output_type": "stream",
     "text": [
      "Glove dictionary size:  400000\n"
     ]
    }
   ],
   "source": [
    "glove_dict = dict()\n",
    "\n",
    "data_path = \"../data/\"\n",
    "f = open(data_path + \"glove.6B.100d.txt\", \"r\", encoding=\"utf-8\")\n",
    "\n",
    "for line in f:\n",
    "    chunk = line.split()\n",
    "    word = chunk[0]\n",
    "    vector = np.array(chunk[1:], dtype=np.float32)\n",
    "    glove_dict[word] = vector\n",
    "    \n",
    "print(\"Glove dictionary size: \", len(glove_dict))"
   ],
   "metadata": {
    "collapsed": false,
    "ExecuteTime": {
     "end_time": "2024-01-08T14:26:17.656125Z",
     "start_time": "2024-01-08T14:26:13.668471Z"
    }
   },
   "id": "initial_id"
  },
  {
   "cell_type": "code",
   "execution_count": 3,
   "outputs": [
    {
     "name": "stdout",
     "output_type": "stream",
     "text": [
      "8\n",
      "   article_id                                       article_text  \\\n",
      "0           1  Maria Sharapova has basically no friends as te...   \n",
      "1           2  BASEL, Switzerland (AP), Roger Federer advance...   \n",
      "2           3  Roger Federer has revealed that organisers of ...   \n",
      "3           4  Kei Nishikori will try to end his long losing ...   \n",
      "4           5  Federer, 37, first broke through on tour over ...   \n",
      "\n",
      "                                              source  \n",
      "0  https://www.tennisworldusa.org/tennis/news/Mar...  \n",
      "1  http://www.tennis.com/pro-game/2018/10/copil-s...  \n",
      "2  https://scroll.in/field/899938/tennis-roger-fe...  \n",
      "3  http://www.tennis.com/pro-game/2018/10/nishiko...  \n",
      "4  https://www.express.co.uk/sport/tennis/1036101...  \n"
     ]
    }
   ],
   "source": [
    "df = pd.read_csv(data_path + \"tennis_articles_v4.csv\")\n",
    "print(len(df))\n",
    "print(df.head(5))"
   ],
   "metadata": {
    "collapsed": false,
    "ExecuteTime": {
     "end_time": "2024-01-08T14:26:17.661989Z",
     "start_time": "2024-01-08T14:26:17.656012Z"
    }
   },
   "id": "3ff04cfd76fdb234"
  },
  {
   "cell_type": "markdown",
   "source": [
    "# Data Preprocessing"
   ],
   "metadata": {
    "collapsed": false
   },
   "id": "3ef47bd7aa89fbfd"
  },
  {
   "cell_type": "code",
   "execution_count": 4,
   "outputs": [
    {
     "name": "stdout",
     "output_type": "stream",
     "text": [
      "                                        article_text  \\\n",
      "0  Maria Sharapova has basically no friends as te...   \n",
      "1  BASEL, Switzerland (AP), Roger Federer advance...   \n",
      "2  Roger Federer has revealed that organisers of ...   \n",
      "3  Kei Nishikori will try to end his long losing ...   \n",
      "4  Federer, 37, first broke through on tour over ...   \n",
      "\n",
      "                                           sentences  \n",
      "0  [Maria Sharapova has basically no friends as t...  \n",
      "1  [BASEL, Switzerland (AP), Roger Federer advanc...  \n",
      "2  [Roger Federer has revealed that organisers of...  \n",
      "3  [Kei Nishikori will try to end his long losing...  \n",
      "4  [Federer, 37, first broke through on tour over...  \n"
     ]
    },
    {
     "name": "stderr",
     "output_type": "stream",
     "text": [
      "<ipython-input-4-80de73c47802>:2: SettingWithCopyWarning: \n",
      "A value is trying to be set on a copy of a slice from a DataFrame.\n",
      "Try using .loc[row_indexer,col_indexer] = value instead\n",
      "\n",
      "See the caveats in the documentation: https://pandas.pydata.org/pandas-docs/stable/user_guide/indexing.html#returning-a-view-versus-a-copy\n",
      "  data['sentences'] = data['article_text'].apply(sent_tokenize)\n"
     ]
    }
   ],
   "source": [
    "data = df[['article_text']]\n",
    "data['sentences'] = data['article_text'].apply(sent_tokenize)\n",
    "print(data.head(5))"
   ],
   "metadata": {
    "collapsed": false,
    "ExecuteTime": {
     "end_time": "2024-01-08T14:26:17.671507Z",
     "start_time": "2024-01-08T14:26:17.663057Z"
    }
   },
   "id": "1794926aa12d68c6"
  },
  {
   "cell_type": "code",
   "execution_count": 5,
   "outputs": [],
   "source": [
    "stop_words = stopwords.words('english')\n",
    "\n",
    "def tokenize(sentence):\n",
    "    return [word_tokenize(sentence) for sentence in sentence]\n",
    "\n",
    "def preprocess_sentence(sentence):\n",
    "    sentence_processed = [re.sub(r'[^a-zA-z\\s]', '', word.lower()) for word in sentence]\n",
    "    return [word for word in sentence_processed if word not in stop_words and word != '']\n",
    "\n",
    "def preprocess_sentences(sentences):\n",
    "    return [preprocess_sentence(sentence) for sentence in sentences]"
   ],
   "metadata": {
    "collapsed": false,
    "ExecuteTime": {
     "end_time": "2024-01-08T14:26:17.673954Z",
     "start_time": "2024-01-08T14:26:17.670896Z"
    }
   },
   "id": "3ac963c4106b1cfe"
  },
  {
   "cell_type": "code",
   "execution_count": 6,
   "outputs": [
    {
     "name": "stdout",
     "output_type": "stream",
     "text": [
      "                                        article_text  \\\n",
      "0  Maria Sharapova has basically no friends as te...   \n",
      "1  BASEL, Switzerland (AP), Roger Federer advance...   \n",
      "2  Roger Federer has revealed that organisers of ...   \n",
      "3  Kei Nishikori will try to end his long losing ...   \n",
      "4  Federer, 37, first broke through on tour over ...   \n",
      "\n",
      "                                           sentences  \\\n",
      "0  [Maria Sharapova has basically no friends as t...   \n",
      "1  [BASEL, Switzerland (AP), Roger Federer advanc...   \n",
      "2  [Roger Federer has revealed that organisers of...   \n",
      "3  [Kei Nishikori will try to end his long losing...   \n",
      "4  [Federer, 37, first broke through on tour over...   \n",
      "\n",
      "                                 tokenized_sentences  \n",
      "0  [[Maria, Sharapova, has, basically, no, friend...  \n",
      "1  [[BASEL, ,, Switzerland, (, AP, ), ,, Roger, F...  \n",
      "2  [[Roger, Federer, has, revealed, that, organis...  \n",
      "3  [[Kei, Nishikori, will, try, to, end, his, lon...  \n",
      "4  [[Federer, ,, 37, ,, first, broke, through, on...  \n",
      "                                        article_text  \\\n",
      "0  Maria Sharapova has basically no friends as te...   \n",
      "1  BASEL, Switzerland (AP), Roger Federer advance...   \n",
      "2  Roger Federer has revealed that organisers of ...   \n",
      "3  Kei Nishikori will try to end his long losing ...   \n",
      "4  Federer, 37, first broke through on tour over ...   \n",
      "\n",
      "                                           sentences  \\\n",
      "0  [Maria Sharapova has basically no friends as t...   \n",
      "1  [BASEL, Switzerland (AP), Roger Federer advanc...   \n",
      "2  [Roger Federer has revealed that organisers of...   \n",
      "3  [Kei Nishikori will try to end his long losing...   \n",
      "4  [Federer, 37, first broke through on tour over...   \n",
      "\n",
      "                                 tokenized_sentences  \n",
      "0  [[maria, sharapova, basically, friends, tennis...  \n",
      "1  [[basel, switzerland, ap, roger, federer, adva...  \n",
      "2  [[roger, federer, revealed, organisers, relaun...  \n",
      "3  [[kei, nishikori, try, end, long, losing, stre...  \n",
      "4  [[federer, first, broke, tour, two, decades, a...  \n"
     ]
    }
   ],
   "source": [
    "data['tokenized_sentences'] = data['sentences'].apply(tokenize)\n",
    "print(data.head(5))\n",
    "data['tokenized_sentences'] = data['tokenized_sentences'].apply(preprocess_sentences)\n",
    "print(data.head(5))"
   ],
   "metadata": {
    "collapsed": false,
    "ExecuteTime": {
     "end_time": "2024-01-08T14:26:17.715045Z",
     "start_time": "2024-01-08T14:26:17.693062Z"
    }
   },
   "id": "995ba7771feb8291"
  },
  {
   "cell_type": "markdown",
   "source": [
    "# Sentence Embedding"
   ],
   "metadata": {
    "collapsed": false
   },
   "id": "bb0dcbd0197f5ab7"
  },
  {
   "cell_type": "code",
   "execution_count": 7,
   "outputs": [],
   "source": [
    "# sentence embedding using GloVe\n",
    "# calculate the average of all word vectors in a sentence\n",
    "embedding_dims = 100\n",
    "zero_vector = np.zeros(embedding_dims) # zero vector for out of vocabulary words (OOV)\n",
    "\n",
    "def calculate_sentence_vector(sentence):\n",
    "    if len(sentence) != 0:\n",
    "        result = sum([glove_dict.get(word, zero_vector) for word in sentence]) / len(sentence)\n",
    "        return result\n",
    "    else:\n",
    "        return zero_vector\n",
    "    \n",
    "def calculate_sentence_vectors(sentences):\n",
    "    return [calculate_sentence_vector(sentence) for sentence in sentences]"
   ],
   "metadata": {
    "collapsed": false,
    "ExecuteTime": {
     "end_time": "2024-01-08T14:26:17.715308Z",
     "start_time": "2024-01-08T14:26:17.695728Z"
    }
   },
   "id": "6116e3028b10efaa"
  },
  {
   "cell_type": "markdown",
   "source": [
    "### dict.get(key, default_value)\n",
    " - return the value for key if key is in the dictionary, else default. If default is not given, it defaults to None, so that this method never raises a KeyError."
   ],
   "metadata": {
    "collapsed": false
   },
   "id": "579ade5f4f78a68b"
  },
  {
   "cell_type": "code",
   "execution_count": 9,
   "outputs": [
    {
     "data": {
      "text/plain": "                                        article_text  \\\n0  Maria Sharapova has basically no friends as te...   \n1  BASEL, Switzerland (AP), Roger Federer advance...   \n2  Roger Federer has revealed that organisers of ...   \n3  Kei Nishikori will try to end his long losing ...   \n4  Federer, 37, first broke through on tour over ...   \n\n                                           sentences  \\\n0  [Maria Sharapova has basically no friends as t...   \n1  [BASEL, Switzerland (AP), Roger Federer advanc...   \n2  [Roger Federer has revealed that organisers of...   \n3  [Kei Nishikori will try to end his long losing...   \n4  [Federer, 37, first broke through on tour over...   \n\n                                 tokenized_sentences  \\\n0  [[maria, sharapova, basically, friends, tennis...   \n1  [[basel, switzerland, ap, roger, federer, adva...   \n2  [[roger, federer, revealed, organisers, relaun...   \n3  [[kei, nishikori, try, end, long, losing, stre...   \n4  [[federer, first, broke, tour, two, decades, a...   \n\n                                  sentence_embedding  \n0  [[0.051488996, 0.1105585, 0.6950863, 0.1891917...  \n1  [[0.10566062456928194, -0.10534465219825506, 0...  \n2  [[-0.022272188, -0.0474477, 0.14933074, -0.086...  \n3  [[0.045201838, -0.064647146, 0.5035717, -0.160...  \n4  [[0.21536233, 0.180915, 0.25600883, 0.06924241...  ",
      "text/html": "<div>\n<style scoped>\n    .dataframe tbody tr th:only-of-type {\n        vertical-align: middle;\n    }\n\n    .dataframe tbody tr th {\n        vertical-align: top;\n    }\n\n    .dataframe thead th {\n        text-align: right;\n    }\n</style>\n<table border=\"1\" class=\"dataframe\">\n  <thead>\n    <tr style=\"text-align: right;\">\n      <th></th>\n      <th>article_text</th>\n      <th>sentences</th>\n      <th>tokenized_sentences</th>\n      <th>sentence_embedding</th>\n    </tr>\n  </thead>\n  <tbody>\n    <tr>\n      <th>0</th>\n      <td>Maria Sharapova has basically no friends as te...</td>\n      <td>[Maria Sharapova has basically no friends as t...</td>\n      <td>[[maria, sharapova, basically, friends, tennis...</td>\n      <td>[[0.051488996, 0.1105585, 0.6950863, 0.1891917...</td>\n    </tr>\n    <tr>\n      <th>1</th>\n      <td>BASEL, Switzerland (AP), Roger Federer advance...</td>\n      <td>[BASEL, Switzerland (AP), Roger Federer advanc...</td>\n      <td>[[basel, switzerland, ap, roger, federer, adva...</td>\n      <td>[[0.10566062456928194, -0.10534465219825506, 0...</td>\n    </tr>\n    <tr>\n      <th>2</th>\n      <td>Roger Federer has revealed that organisers of ...</td>\n      <td>[Roger Federer has revealed that organisers of...</td>\n      <td>[[roger, federer, revealed, organisers, relaun...</td>\n      <td>[[-0.022272188, -0.0474477, 0.14933074, -0.086...</td>\n    </tr>\n    <tr>\n      <th>3</th>\n      <td>Kei Nishikori will try to end his long losing ...</td>\n      <td>[Kei Nishikori will try to end his long losing...</td>\n      <td>[[kei, nishikori, try, end, long, losing, stre...</td>\n      <td>[[0.045201838, -0.064647146, 0.5035717, -0.160...</td>\n    </tr>\n    <tr>\n      <th>4</th>\n      <td>Federer, 37, first broke through on tour over ...</td>\n      <td>[Federer, 37, first broke through on tour over...</td>\n      <td>[[federer, first, broke, tour, two, decades, a...</td>\n      <td>[[0.21536233, 0.180915, 0.25600883, 0.06924241...</td>\n    </tr>\n  </tbody>\n</table>\n</div>"
     },
     "execution_count": 9,
     "metadata": {},
     "output_type": "execute_result"
    }
   ],
   "source": [
    "data['sentence_embedding'] = data['tokenized_sentences'].apply(calculate_sentence_vectors)\n",
    "data.head(5)"
   ],
   "metadata": {
    "collapsed": false,
    "ExecuteTime": {
     "end_time": "2024-01-08T14:26:38.346061Z",
     "start_time": "2024-01-08T14:26:38.319267Z"
    }
   },
   "id": "8ecdd1005b34ad7d"
  },
  {
   "cell_type": "code",
   "execution_count": null,
   "outputs": [],
   "source": [],
   "metadata": {
    "collapsed": false
   },
   "id": "c0fec4aa424cd66d"
  }
 ],
 "metadata": {
  "kernelspec": {
   "display_name": "Python 3",
   "language": "python",
   "name": "python3"
  },
  "language_info": {
   "codemirror_mode": {
    "name": "ipython",
    "version": 2
   },
   "file_extension": ".py",
   "mimetype": "text/x-python",
   "name": "python",
   "nbconvert_exporter": "python",
   "pygments_lexer": "ipython2",
   "version": "2.7.6"
  }
 },
 "nbformat": 4,
 "nbformat_minor": 5
}
