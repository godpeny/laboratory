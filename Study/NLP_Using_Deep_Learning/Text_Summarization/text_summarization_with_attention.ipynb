{
 "cells": [
  {
   "cell_type": "code",
   "execution_count": 53,
   "id": "initial_id",
   "metadata": {
    "collapsed": true,
    "ExecuteTime": {
     "end_time": "2024-01-05T11:39:23.000386Z",
     "start_time": "2024-01-05T11:39:22.984291Z"
    }
   },
   "outputs": [],
   "source": [
    "import numpy as np\n",
    "import pandas as pd\n",
    "import re\n",
    "import matplotlib.pyplot as plt\n",
    "from nltk.corpus import stopwords\n",
    "from bs4 import BeautifulSoup\n",
    "from keras.preprocessing.text import Tokenizer\n",
    "from keras.preprocessing.sequence import pad_sequences\n",
    "import urllib.request\n",
    "\n",
    "np.random.seed(seed=0)"
   ]
  },
  {
   "cell_type": "code",
   "execution_count": 54,
   "outputs": [
    {
     "name": "stdout",
     "output_type": "stream",
     "text": [
      "   Id   ProductId          UserId                      ProfileName  \\\n",
      "0   1  B001E4KFG0  A3SGXH7AUHU8GW                       delmartian   \n",
      "1   2  B00813GRG4  A1D87F6ZCVE5NK                           dll pa   \n",
      "2   3  B000LQOCH0   ABXLMWJIXXAIN  Natalia Corres \"Natalia Corres\"   \n",
      "\n",
      "   HelpfulnessNumerator  HelpfulnessDenominator  Score        Time  \\\n",
      "0                     1                       1      5  1303862400   \n",
      "1                     0                       0      1  1346976000   \n",
      "2                     1                       1      4  1219017600   \n",
      "\n",
      "                 Summary                                               Text  \n",
      "0  Good Quality Dog Food  I have bought several of the Vitality canned d...  \n",
      "1      Not as Advertised  Product arrived labeled as Jumbo Salted Peanut...  \n",
      "2  \"Delight\" says it all  This is a confection that has been around a fe...  \n",
      "10000\n"
     ]
    }
   ],
   "source": [
    "data_path = \"../data/\"\n",
    "\n",
    "df = pd.read_csv(data_path + \"reviews.csv\", nrows=10000)\n",
    "print(df.head(3))\n",
    "print(len(df))"
   ],
   "metadata": {
    "collapsed": false,
    "ExecuteTime": {
     "end_time": "2024-01-05T11:39:23.045048Z",
     "start_time": "2024-01-05T11:39:22.989579Z"
    }
   },
   "id": "82739f5b7d9d4937"
  },
  {
   "cell_type": "markdown",
   "source": [
    "# Data Preprocessing"
   ],
   "metadata": {
    "collapsed": false
   },
   "id": "4b05434060ecbe50"
  },
  {
   "cell_type": "code",
   "execution_count": 55,
   "outputs": [
    {
     "name": "stdout",
     "output_type": "stream",
     "text": [
      "                 Summary                                               Text\n",
      "0  Good Quality Dog Food  I have bought several of the Vitality canned d...\n",
      "1      Not as Advertised  Product arrived labeled as Jumbo Salted Peanut...\n",
      "2  \"Delight\" says it all  This is a confection that has been around a fe...\n"
     ]
    }
   ],
   "source": [
    "df = df[['Summary', 'Text']] # use only two columns\n",
    "print(df.head(3))"
   ],
   "metadata": {
    "collapsed": false,
    "ExecuteTime": {
     "end_time": "2024-01-05T11:39:23.048015Z",
     "start_time": "2024-01-05T11:39:23.045333Z"
    }
   },
   "id": "edc0ac1765ed37a5"
  },
  {
   "cell_type": "code",
   "execution_count": 56,
   "outputs": [
    {
     "name": "stdout",
     "output_type": "stream",
     "text": [
      "Summary    0\n",
      "Text       0\n",
      "dtype: int64\n",
      "Summary    8526\n",
      "Text       9513\n",
      "dtype: int64\n",
      "9513\n"
     ]
    }
   ],
   "source": [
    "# check null and duplicate\n",
    "print(df.isnull().sum())\n",
    "print(df.nunique())\n",
    "\n",
    "df = df.dropna()\n",
    "df = df.drop_duplicates(subset=['Text']) # drop duplicates in Text column\n",
    "print(len(df))"
   ],
   "metadata": {
    "collapsed": false,
    "ExecuteTime": {
     "end_time": "2024-01-05T11:39:23.080719Z",
     "start_time": "2024-01-05T11:39:23.049604Z"
    }
   },
   "id": "ee795ba894db9157"
  },
  {
   "cell_type": "code",
   "execution_count": 57,
   "outputs": [],
   "source": [
    "contractions = {\"'cause\": 'because',\n",
    "                \"I'd\": 'I would',\n",
    "                \"I'd've\": 'I would have',\n",
    "                \"I'll\": 'I will',\n",
    "                \"I'll've\": 'I will have',\n",
    "                \"I'm\": 'I am',\n",
    "                \"I've\": 'I have',\n",
    "                \"ain't\": 'is not',\n",
    "                \"aren't\": 'are not',\n",
    "                \"can't\": 'cannot',\n",
    "                \"could've\": 'could have',\n",
    "                \"couldn't\": 'could not',\n",
    "                \"didn't\": 'did not',\n",
    "                \"doesn't\": 'does not',\n",
    "                \"don't\": 'do not',\n",
    "                \"hadn't\": 'had not',\n",
    "                \"hasn't\": 'has not',\n",
    "                \"haven't\": 'have not',\n",
    "                \"he'd\": 'he would',\n",
    "                \"he'll\": 'he will',\n",
    "                \"he's\": 'he is',\n",
    "                \"here's\": 'here is',\n",
    "                \"how'd\": 'how did',\n",
    "                \"how'd'y\": 'how do you',\n",
    "                \"how'll\": 'how will',\n",
    "                \"how's\": 'how is',\n",
    "                \"i'd\": 'i would',\n",
    "                \"i'd've\": 'i would have',\n",
    "                \"i'll\": 'i will',\n",
    "                \"i'll've\": 'i will have',\n",
    "                \"i'm\": 'i am',\n",
    "                \"i've\": 'i have',\n",
    "                \"isn't\": 'is not',\n",
    "                \"it'd\": 'it would',\n",
    "                \"it'd've\": 'it would have',\n",
    "                \"it'll\": 'it will',\n",
    "                \"it'll've\": 'it will have',\n",
    "                \"it's\": 'it is',\n",
    "                \"let's\": 'let us',\n",
    "                \"ma'am\": 'madam',\n",
    "                \"mayn't\": 'may not',\n",
    "                \"might've\": 'might have',\n",
    "                \"mightn't\": 'might not',\n",
    "                \"mightn't've\": 'might not have',\n",
    "                \"must've\": 'must have',\n",
    "                \"mustn't\": 'must not',\n",
    "                \"mustn't've\": 'must not have',\n",
    "                \"needn't\": 'need not',\n",
    "                \"needn't've\": 'need not have',\n",
    "                \"o'clock\": 'of the clock',\n",
    "                \"oughtn't\": 'ought not',\n",
    "                \"oughtn't've\": 'ought not have',\n",
    "                \"sha'n't\": 'shall not',\n",
    "                \"shan't\": 'shall not',\n",
    "                \"shan't've\": 'shall not have',\n",
    "                \"she'd\": 'she would',\n",
    "                \"she'd've\": 'she would have',\n",
    "                \"she'll\": 'she will',\n",
    "                \"she'll've\": 'she will have',\n",
    "                \"she's\": 'she is',\n",
    "                \"should've\": 'should have',\n",
    "                \"shouldn't\": 'should not',\n",
    "                \"shouldn't've\": 'should not have',\n",
    "                \"so's\": 'so as',\n",
    "                \"so've\": 'so have',\n",
    "                \"that'd\": 'that would',\n",
    "                \"that'd've\": 'that would have',\n",
    "                \"that's\": 'that is',\n",
    "                \"there'd\": 'there would',\n",
    "                \"there'd've\": 'there would have',\n",
    "                \"there's\": 'there is',\n",
    "                \"they'd\": 'they would',\n",
    "                \"they'd've\": 'they would have',\n",
    "                \"they'll\": 'they will',\n",
    "                \"they'll've\": 'they will have',\n",
    "                \"they're\": 'they are',\n",
    "                \"they've\": 'they have',\n",
    "                \"this's\": 'this is',\n",
    "                \"to've\": 'to have',\n",
    "                \"wasn't\": 'was not',\n",
    "                \"we'd\": 'we would',\n",
    "                \"we'd've\": 'we would have',\n",
    "                \"we'll\": 'we will',\n",
    "                \"we'll've\": 'we will have',\n",
    "                \"we're\": 'we are',\n",
    "                \"we've\": 'we have',\n",
    "                \"weren't\": 'were not',\n",
    "                \"what'll\": 'what will',\n",
    "                \"what'll've\": 'what will have',\n",
    "                \"what're\": 'what are',\n",
    "                \"what's\": 'what is',\n",
    "                \"what've\": 'what have',\n",
    "                \"when's\": 'when is',\n",
    "                \"when've\": 'when have',\n",
    "                \"where'd\": 'where did',\n",
    "                \"where's\": 'where is',\n",
    "                \"where've\": 'where have',\n",
    "                \"who'll\": 'who will',\n",
    "                \"who'll've\": 'who will have',\n",
    "                \"who's\": 'who is',\n",
    "                \"who've\": 'who have',\n",
    "                \"why's\": 'why is',\n",
    "                \"why've\": 'why have',\n",
    "                \"will've\": 'will have',\n",
    "                \"won't\": 'will not',\n",
    "                \"won't've\": 'will not have',\n",
    "                \"would've\": 'would have',\n",
    "                \"wouldn't\": 'would not',\n",
    "                \"wouldn't've\": 'would not have',\n",
    "                \"y'all\": 'you all',\n",
    "                \"y'all'd\": 'you all would',\n",
    "                \"y'all'd've\": 'you all would have',\n",
    "                \"y'all're\": 'you all are',\n",
    "                \"y'all've\": 'you all have',\n",
    "                \"you'd\": 'you would',\n",
    "                \"you'd've\": 'you would have',\n",
    "                \"you'll\": 'you will',\n",
    "                \"you'll've\": 'you will have',\n",
    "                \"you're\": 'you are',\n",
    "                \"you've\": 'you have'}"
   ],
   "metadata": {
    "collapsed": false,
    "ExecuteTime": {
     "end_time": "2024-01-05T11:39:23.081338Z",
     "start_time": "2024-01-05T11:39:23.069805Z"
    }
   },
   "id": "80fc5f10f169e140"
  },
  {
   "cell_type": "code",
   "execution_count": 58,
   "outputs": [
    {
     "name": "stdout",
     "output_type": "stream",
     "text": [
      "179\n"
     ]
    }
   ],
   "source": [
    "# stopwords\n",
    "stopwords = set(stopwords.words('english'))\n",
    "print(len(stopwords))"
   ],
   "metadata": {
    "collapsed": false,
    "ExecuteTime": {
     "end_time": "2024-01-05T11:39:23.081693Z",
     "start_time": "2024-01-05T11:39:23.072110Z"
    }
   },
   "id": "4ecd67cdf6195e2f"
  },
  {
   "cell_type": "code",
   "execution_count": 59,
   "outputs": [
    {
     "name": "stdout",
     "output_type": "stream",
     "text": [
      "everything bought great infact ordered twice third ordered wasfor mother father\n",
      "great way to start the day\n"
     ]
    }
   ],
   "source": [
    "def preprocess_sentence(sentence, is_stopwords=True):\n",
    "    sentence = sentence.lower()\n",
    "    sentence = BeautifulSoup(sentence, features='lxml').text\n",
    "    sentence = re.sub(r'\\([^)]*\\)', '', sentence) # 괄호로 닫힌 문자열  제거 e.g.,) my husband (and myself) for => my husband for\n",
    "    sentence = re.sub('\"','', sentence) \n",
    "    sentence = ' '.join([contractions[word] if word in contractions else word for word in sentence.split()])\n",
    "    sentence = re.sub(r\"'s\\b\",\"\",sentence)\n",
    "    sentence = re.sub(\"[^a-zA-Z]\", \" \", sentence)\n",
    "    sentence = re.sub('[m]{2,}', 'mm', sentence) # m이 3개 이상이면 2개로 변경. Ex) ummmmmmm yeah -> umm yeah\n",
    "    \n",
    "    if is_stopwords:\n",
    "        tokens = ' '.join([word for word in sentence.split() if not word in stopwords if len(word) > 1])\n",
    "    else:\n",
    "        tokens = ' '.join(word for word in sentence.split() if len(word) > 1)\n",
    "    \n",
    "    return tokens\n",
    "\n",
    "# test\n",
    "temp_text = 'Everything I bought was great, infact I ordered twice and the third ordered was<br />for my mother and father.'\n",
    "temp_summary = 'Great way to start (or finish) the day!!!'\n",
    "print(preprocess_sentence(temp_text))\n",
    "print(preprocess_sentence(temp_summary, 0))"
   ],
   "metadata": {
    "collapsed": false,
    "ExecuteTime": {
     "end_time": "2024-01-05T11:39:23.081863Z",
     "start_time": "2024-01-05T11:39:23.076262Z"
    }
   },
   "id": "46291494361ffe91"
  },
  {
   "cell_type": "code",
   "execution_count": 60,
   "outputs": [
    {
     "name": "stderr",
     "output_type": "stream",
     "text": [
      "<ipython-input-59-6c217c7be6b7>:3: MarkupResemblesLocatorWarning: The input looks more like a filename than markup. You may want to open this file and pass the filehandle into Beautiful Soup.\n",
      "  sentence = BeautifulSoup(sentence, features='lxml').text\n"
     ]
    },
    {
     "data": {
      "text/plain": "                 Summary                                               Text\n0  good quality dog food  bought several vitality canned dog food produc...\n1      not as advertised  product arrived labeled jumbo salted peanuts p...\n2    delight says it all  confection around centuries light pillowy citr...\n3         cough medicine  looking secret ingredient robitussin believe f...\n4            great taffy  great taffy great price wide assortment yummy ...",
      "text/html": "<div>\n<style scoped>\n    .dataframe tbody tr th:only-of-type {\n        vertical-align: middle;\n    }\n\n    .dataframe tbody tr th {\n        vertical-align: top;\n    }\n\n    .dataframe thead th {\n        text-align: right;\n    }\n</style>\n<table border=\"1\" class=\"dataframe\">\n  <thead>\n    <tr style=\"text-align: right;\">\n      <th></th>\n      <th>Summary</th>\n      <th>Text</th>\n    </tr>\n  </thead>\n  <tbody>\n    <tr>\n      <th>0</th>\n      <td>good quality dog food</td>\n      <td>bought several vitality canned dog food produc...</td>\n    </tr>\n    <tr>\n      <th>1</th>\n      <td>not as advertised</td>\n      <td>product arrived labeled jumbo salted peanuts p...</td>\n    </tr>\n    <tr>\n      <th>2</th>\n      <td>delight says it all</td>\n      <td>confection around centuries light pillowy citr...</td>\n    </tr>\n    <tr>\n      <th>3</th>\n      <td>cough medicine</td>\n      <td>looking secret ingredient robitussin believe f...</td>\n    </tr>\n    <tr>\n      <th>4</th>\n      <td>great taffy</td>\n      <td>great taffy great price wide assortment yummy ...</td>\n    </tr>\n  </tbody>\n</table>\n</div>"
     },
     "execution_count": 60,
     "metadata": {},
     "output_type": "execute_result"
    }
   ],
   "source": [
    "clean_text = []\n",
    "for sentence in df['Text']:\n",
    "    clean_sentence = preprocess_sentence(sentence)\n",
    "    clean_text.append(clean_sentence)\n",
    "    \n",
    "df['Text'] = clean_text\n",
    "    \n",
    "clean_summary = []\n",
    "for sentence in df['Summary']:\n",
    "    clean_sentence = preprocess_sentence(sentence, 0)\n",
    "    clean_summary.append(clean_sentence)\n",
    "    \n",
    "df['Summary'] = clean_summary\n",
    "    \n",
    "df.head(5)"
   ],
   "metadata": {
    "collapsed": false,
    "ExecuteTime": {
     "end_time": "2024-01-05T11:39:24.449876Z",
     "start_time": "2024-01-05T11:39:23.080865Z"
    }
   },
   "id": "f0dfd008ac00a25d"
  },
  {
   "cell_type": "code",
   "execution_count": 61,
   "outputs": [
    {
     "name": "stdout",
     "output_type": "stream",
     "text": [
      "Summary    0\n",
      "Text       0\n",
      "dtype: int64\n",
      "Summary    7643\n",
      "Text       9508\n",
      "dtype: int64\n",
      "9513\n",
      "9508\n"
     ]
    }
   ],
   "source": [
    "# check null and duplicate again\n",
    "print(df.isnull().sum())\n",
    "print(df.nunique())\n",
    "print(len(df))\n",
    "\n",
    "df = df.drop_duplicates(subset=['Text'])\n",
    "print(len(df))"
   ],
   "metadata": {
    "collapsed": false,
    "ExecuteTime": {
     "end_time": "2024-01-05T11:39:24.462944Z",
     "start_time": "2024-01-05T11:39:24.450317Z"
    }
   },
   "id": "bb57babf626e0664"
  },
  {
   "cell_type": "code",
   "execution_count": 62,
   "outputs": [
    {
     "name": "stdout",
     "output_type": "stream",
     "text": [
      "텍스트의 최소 길이 : 4\n",
      "텍스트의 최대 길이 : 845\n",
      "텍스트의 평균 길이 : 36.71424063946151\n",
      "요약의 최소 길이 : 0\n",
      "요약의 최대 길이 : 25\n",
      "요약의 평균 길이 : 3.9328986116954145\n"
     ]
    },
    {
     "data": {
      "text/plain": "<Figure size 432x288 with 2 Axes>",
      "image/png": "[encoded data removed]"
     },
     "metadata": {
      "needs_background": "light"
     },
     "output_type": "display_data"
    },
    {
     "data": {
      "text/plain": "<Figure size 432x288 with 1 Axes>",
      "image/png": "[encoded data removed]"
     },
     "metadata": {
      "needs_background": "light"
     },
     "output_type": "display_data"
    },
    {
     "data": {
      "text/plain": "<Figure size 432x288 with 1 Axes>",
      "image/png": "[encoded data removed]"
     },
     "metadata": {
      "needs_background": "light"
     },
     "output_type": "display_data"
    }
   ],
   "source": [
    "# 길이 분포 출력\n",
    "text_len = [len(s.split()) for s in df['Text']]\n",
    "summary_len = [len(s.split()) for s in df['Summary']]\n",
    "\n",
    "print('텍스트의 최소 길이 : {}'.format(np.min(text_len)))\n",
    "print('텍스트의 최대 길이 : {}'.format(np.max(text_len)))\n",
    "print('텍스트의 평균 길이 : {}'.format(np.mean(text_len)))\n",
    "print('요약의 최소 길이 : {}'.format(np.min(summary_len)))\n",
    "print('요약의 최대 길이 : {}'.format(np.max(summary_len)))\n",
    "print('요약의 평균 길이 : {}'.format(np.mean(summary_len)))\n",
    "\n",
    "plt.subplot(1,2,1)\n",
    "plt.boxplot(summary_len)\n",
    "plt.title('Summary')\n",
    "plt.subplot(1,2,2)\n",
    "plt.boxplot(text_len)\n",
    "plt.title('Text')\n",
    "plt.tight_layout()\n",
    "plt.show()\n",
    "\n",
    "plt.title('Summary')\n",
    "plt.hist(summary_len, bins=40)\n",
    "plt.xlabel('length of samples')\n",
    "plt.ylabel('number of samples')\n",
    "plt.show()\n",
    "\n",
    "plt.title('Text')\n",
    "plt.hist(text_len, bins=40)\n",
    "plt.xlabel('length of samples')\n",
    "plt.ylabel('number of samples')\n",
    "plt.show()"
   ],
   "metadata": {
    "collapsed": false,
    "ExecuteTime": {
     "end_time": "2024-01-05T11:39:24.702502Z",
     "start_time": "2024-01-05T11:39:24.478766Z"
    }
   },
   "id": "56cb2dd60f0b814c"
  },
  {
   "cell_type": "code",
   "execution_count": 63,
   "outputs": [
    {
     "name": "stdout",
     "output_type": "stream",
     "text": [
      "전체 샘플 중 길이가 50 이하인 샘플의 비율: 0.7974337400084139\n",
      "전체 샘플 중 길이가 8 이하인 샘플의 비율: 0.9467816575515355\n"
     ]
    }
   ],
   "source": [
    "text_max_len = 50\n",
    "summary_max_len = 8\n",
    "\n",
    "def below_threshold_len(max_len, nested_list):\n",
    "    cnt = 0\n",
    "    for s in nested_list:\n",
    "        if(len(s.split()) <= max_len):\n",
    "            cnt = cnt + 1\n",
    "    print('전체 샘플 중 길이가 %s 이하인 샘플의 비율: %s'%(max_len, (cnt / len(nested_list))))\n",
    "\n",
    "\n",
    "below_threshold_len(text_max_len, df['Text'])\n",
    "below_threshold_len(summary_max_len, df['Summary'])"
   ],
   "metadata": {
    "collapsed": false,
    "ExecuteTime": {
     "end_time": "2024-01-05T11:39:24.720033Z",
     "start_time": "2024-01-05T11:39:24.716416Z"
    }
   },
   "id": "2fbe769347fb6da3"
  },
  {
   "cell_type": "code",
   "execution_count": 64,
   "outputs": [
    {
     "name": "stdout",
     "output_type": "stream",
     "text": [
      "7311\n",
      "                 Summary                                               Text\n",
      "0  good quality dog food  bought several vitality canned dog food produc...\n",
      "1      not as advertised  product arrived labeled jumbo salted peanuts p...\n",
      "2    delight says it all  confection around centuries light pillowy citr...\n",
      "3         cough medicine  looking secret ingredient robitussin believe f...\n",
      "4            great taffy  great taffy great price wide assortment yummy ...\n"
     ]
    }
   ],
   "source": [
    "df = df[df['Text'].apply(lambda row: len(row.split()) <= text_max_len)]\n",
    "df = df[df['Summary'].apply(lambda row: len(row.split()) <= summary_max_len)]\n",
    "\n",
    "print(len(df))\n",
    "print(df.head(5))"
   ],
   "metadata": {
    "collapsed": false,
    "ExecuteTime": {
     "end_time": "2024-01-05T11:39:24.754044Z",
     "start_time": "2024-01-05T11:39:24.731126Z"
    }
   },
   "id": "f97d05612532c269"
  },
  {
   "cell_type": "markdown",
   "source": [
    "### df[...]:\n",
    " - boolean indexing operation on the DataFrame df. The inner operation creates a boolean series, where each value is True if the condition is met (i.e., the text length is within the limit) and False otherwise.The df is then indexed with this boolean series, resulting in a new DataFrame that only contains rows where the condition is True."
   ],
   "metadata": {
    "collapsed": false
   },
   "id": "f8be175f64d138b3"
  },
  {
   "cell_type": "markdown",
   "source": [
    "# Tokenizing"
   ],
   "metadata": {
    "collapsed": false
   },
   "id": "fbf50c32352afcd"
  }
 ],
 "metadata": {
  "kernelspec": {
   "display_name": "Python 3",
   "language": "python",
   "name": "python3"
  },
  "language_info": {
   "codemirror_mode": {
    "name": "ipython",
    "version": 2
   },
   "file_extension": ".py",
   "mimetype": "text/x-python",
   "name": "python",
   "nbconvert_exporter": "python",
   "pygments_lexer": "ipython2",
   "version": "2.7.6"
  }
 },
 "nbformat": 4,
 "nbformat_minor": 5
}
