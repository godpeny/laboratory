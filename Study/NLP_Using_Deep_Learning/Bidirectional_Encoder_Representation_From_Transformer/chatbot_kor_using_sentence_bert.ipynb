{
 "cells": [
  {
   "cell_type": "code",
   "execution_count": 1,
   "outputs": [],
   "source": [
    "import numpy as np\n",
    "import pandas as pd\n",
    "\n",
    "import tensorflow as tf\n",
    "import keras\n",
    "\n",
    "from sentence_transformers import SentenceTransformer"
   ],
   "metadata": {
    "collapsed": false,
    "ExecuteTime": {
     "end_time": "2023-12-28T11:39:46.176346Z",
     "start_time": "2023-12-28T11:39:42.131653Z"
    }
   },
   "id": "a2cff2ad74675166"
  },
  {
   "cell_type": "code",
   "execution_count": 2,
   "outputs": [
    {
     "data": {
      "text/plain": "                 Q            A  label\n0           12시 땡!   하루가 또 가네요.      0\n1      1지망 학교 떨어졌어    위로해 드립니다.      0\n2     3박4일 놀러가고 싶다  여행은 언제나 좋죠.      0\n3  3박4일 정도 놀러가고 싶다  여행은 언제나 좋죠.      0\n4          PPL 심하네   눈살이 찌푸려지죠.      0",
      "text/html": "<div>\n<style scoped>\n    .dataframe tbody tr th:only-of-type {\n        vertical-align: middle;\n    }\n\n    .dataframe tbody tr th {\n        vertical-align: top;\n    }\n\n    .dataframe thead th {\n        text-align: right;\n    }\n</style>\n<table border=\"1\" class=\"dataframe\">\n  <thead>\n    <tr style=\"text-align: right;\">\n      <th></th>\n      <th>Q</th>\n      <th>A</th>\n      <th>label</th>\n    </tr>\n  </thead>\n  <tbody>\n    <tr>\n      <th>0</th>\n      <td>12시 땡!</td>\n      <td>하루가 또 가네요.</td>\n      <td>0</td>\n    </tr>\n    <tr>\n      <th>1</th>\n      <td>1지망 학교 떨어졌어</td>\n      <td>위로해 드립니다.</td>\n      <td>0</td>\n    </tr>\n    <tr>\n      <th>2</th>\n      <td>3박4일 놀러가고 싶다</td>\n      <td>여행은 언제나 좋죠.</td>\n      <td>0</td>\n    </tr>\n    <tr>\n      <th>3</th>\n      <td>3박4일 정도 놀러가고 싶다</td>\n      <td>여행은 언제나 좋죠.</td>\n      <td>0</td>\n    </tr>\n    <tr>\n      <th>4</th>\n      <td>PPL 심하네</td>\n      <td>눈살이 찌푸려지죠.</td>\n      <td>0</td>\n    </tr>\n  </tbody>\n</table>\n</div>"
     },
     "execution_count": 2,
     "metadata": {},
     "output_type": "execute_result"
    }
   ],
   "source": [
    "data_path = \"../data/\"\n",
    "df = pd.read_csv(data_path + \"chat_bot_data.csv\")\n",
    "df.head(5)"
   ],
   "metadata": {
    "collapsed": false,
    "ExecuteTime": {
     "end_time": "2023-12-28T11:39:46.200722Z",
     "start_time": "2023-12-28T11:39:46.178346Z"
    }
   },
   "id": "3222ef8afb29953d"
  },
  {
   "cell_type": "markdown",
   "source": [
    "# Modeling"
   ],
   "metadata": {
    "collapsed": false
   },
   "id": "4a572aabb4584ad6"
  },
  {
   "cell_type": "code",
   "execution_count": 3,
   "outputs": [],
   "source": [
    "model = SentenceTransformer('sentence-transformers/xlm-r-100langs-bert-base-nli-stsb-mean-tokens')"
   ],
   "metadata": {
    "collapsed": false,
    "ExecuteTime": {
     "end_time": "2023-12-28T11:39:47.282555Z",
     "start_time": "2023-12-28T11:39:46.199471Z"
    }
   },
   "id": "50bf65cf02a391a3"
  },
  {
   "cell_type": "code",
   "execution_count": 4,
   "outputs": [],
   "source": [
    "# cosine similarity\n",
    "def cos_sim(A,B):\n",
    "    dot_product = np.dot(A,B)\n",
    "    norm_A = np.linalg.norm(A)\n",
    "    norm_B = np.linalg.norm(B)\n",
    "    \n",
    "    result = dot_product / (norm_A * norm_B)\n",
    "    return result"
   ],
   "metadata": {
    "collapsed": false,
    "ExecuteTime": {
     "end_time": "2023-12-28T11:39:47.287432Z",
     "start_time": "2023-12-28T11:39:47.283381Z"
    }
   },
   "id": "d75c5fbb13c30cd3"
  },
  {
   "cell_type": "code",
   "execution_count": 5,
   "outputs": [
    {
     "data": {
      "text/plain": "                 Q            A  label  \\\n0           12시 땡!   하루가 또 가네요.      0   \n1      1지망 학교 떨어졌어    위로해 드립니다.      0   \n2     3박4일 놀러가고 싶다  여행은 언제나 좋죠.      0   \n3  3박4일 정도 놀러가고 싶다  여행은 언제나 좋죠.      0   \n4          PPL 심하네   눈살이 찌푸려지죠.      0   \n\n                                           embedding  \n0  [0.20179577, -0.03443793, 1.5395724, 0.0106974...  \n1  [0.07716593, -0.03427811, 0.86244196, 0.026360...  \n2  [0.10445253, -0.012432268, 1.0132881, 0.022501...  \n3  [0.09760731, -0.046716906, 0.89369446, 0.02104...  \n4  [-0.07002919, 0.03196142, 1.4915429, 4.3293196...  ",
      "text/html": "<div>\n<style scoped>\n    .dataframe tbody tr th:only-of-type {\n        vertical-align: middle;\n    }\n\n    .dataframe tbody tr th {\n        vertical-align: top;\n    }\n\n    .dataframe thead th {\n        text-align: right;\n    }\n</style>\n<table border=\"1\" class=\"dataframe\">\n  <thead>\n    <tr style=\"text-align: right;\">\n      <th></th>\n      <th>Q</th>\n      <th>A</th>\n      <th>label</th>\n      <th>embedding</th>\n    </tr>\n  </thead>\n  <tbody>\n    <tr>\n      <th>0</th>\n      <td>12시 땡!</td>\n      <td>하루가 또 가네요.</td>\n      <td>0</td>\n      <td>[0.20179577, -0.03443793, 1.5395724, 0.0106974...</td>\n    </tr>\n    <tr>\n      <th>1</th>\n      <td>1지망 학교 떨어졌어</td>\n      <td>위로해 드립니다.</td>\n      <td>0</td>\n      <td>[0.07716593, -0.03427811, 0.86244196, 0.026360...</td>\n    </tr>\n    <tr>\n      <th>2</th>\n      <td>3박4일 놀러가고 싶다</td>\n      <td>여행은 언제나 좋죠.</td>\n      <td>0</td>\n      <td>[0.10445253, -0.012432268, 1.0132881, 0.022501...</td>\n    </tr>\n    <tr>\n      <th>3</th>\n      <td>3박4일 정도 놀러가고 싶다</td>\n      <td>여행은 언제나 좋죠.</td>\n      <td>0</td>\n      <td>[0.09760731, -0.046716906, 0.89369446, 0.02104...</td>\n    </tr>\n    <tr>\n      <th>4</th>\n      <td>PPL 심하네</td>\n      <td>눈살이 찌푸려지죠.</td>\n      <td>0</td>\n      <td>[-0.07002919, 0.03196142, 1.4915429, 4.3293196...</td>\n    </tr>\n  </tbody>\n</table>\n</div>"
     },
     "execution_count": 5,
     "metadata": {},
     "output_type": "execute_result"
    }
   ],
   "source": [
    "df['embedding'] = df.apply(lambda row: model.encode(row['Q']), axis=1) # axis : 0 - row, 1 - column\n",
    "df.head(5)"
   ],
   "metadata": {
    "collapsed": false,
    "ExecuteTime": {
     "end_time": "2023-12-28T11:49:57.856028Z",
     "start_time": "2023-12-28T11:39:47.289385Z"
    }
   },
   "id": "cf954bc608d98133"
  },
  {
   "cell_type": "code",
   "execution_count": 6,
   "outputs": [],
   "source": [
    "def answer(question):\n",
    "    q_embedding = model.encode(question)\n",
    "    df['score'] = df.apply(lambda row: cos_sim(row['embedding'], q_embedding), axis=1)\n",
    "    return df.loc[df['score'].idxmax()]['A']"
   ],
   "metadata": {
    "collapsed": false,
    "ExecuteTime": {
     "end_time": "2023-12-28T11:49:57.857798Z",
     "start_time": "2023-12-28T11:49:57.854177Z"
    }
   },
   "id": "a43aa9c2967e81b2"
  },
  {
   "cell_type": "markdown",
   "source": [
    "### df.loc\n",
    " - access a group of rows and columns by label(s) or a boolean array\n",
    "\n",
    "### df.idxmax()\n",
    " - return the row label of the maximum value.\n",
    "\n",
    "```python\n",
    "df = pd.DataFrame([['a','b',3], ['c','d',6], ['e','f',9]], columns=['col1', 'col2', 'col3'])\n",
    "print(df)\n",
    "\"\"\"\n",
    "col1 col2  col3\n",
    "0    a    b     3\n",
    "1    c    d     6\n",
    "2    e    f     9\n",
    "\"\"\"\n",
    "\n",
    "print(df.col3.idxmax()) # 2\n",
    "print(df.loc[2])\n",
    "\"\"\"\n",
    "col1    e\n",
    "col2    f\n",
    "col3    9\n",
    "\"\"\"\n",
    "\n",
    "print(df[loc[2]['col1']]) # e\n",
    "```"
   ],
   "metadata": {
    "collapsed": false
   },
   "id": "505d110780b72097"
  },
  {
   "cell_type": "code",
   "execution_count": 7,
   "outputs": [
    {
     "data": {
      "text/plain": "'좋은 사람이랑 결혼할 수 있을 거예요.'"
     },
     "execution_count": 7,
     "metadata": {},
     "output_type": "execute_result"
    }
   ],
   "source": [
    "answer('결혼하고싶어')"
   ],
   "metadata": {
    "collapsed": false,
    "ExecuteTime": {
     "end_time": "2023-12-28T11:49:57.973345Z",
     "start_time": "2023-12-28T11:49:57.857686Z"
    }
   },
   "id": "6cb8db45497d5142"
  },
  {
   "cell_type": "code",
   "execution_count": 7,
   "outputs": [],
   "source": [],
   "metadata": {
    "collapsed": false,
    "ExecuteTime": {
     "end_time": "2023-12-28T11:49:57.973544Z",
     "start_time": "2023-12-28T11:49:57.969777Z"
    }
   },
   "id": "fa1bdc6aab02ca94"
  }
 ],
 "metadata": {
  "kernelspec": {
   "display_name": "Python 3",
   "language": "python",
   "name": "python3"
  },
  "language_info": {
   "codemirror_mode": {
    "name": "ipython",
    "version": 2
   },
   "file_extension": ".py",
   "mimetype": "text/x-python",
   "name": "python",
   "nbconvert_exporter": "python",
   "pygments_lexer": "ipython2",
   "version": "2.7.6"
  }
 },
 "nbformat": 4,
 "nbformat_minor": 5
}
