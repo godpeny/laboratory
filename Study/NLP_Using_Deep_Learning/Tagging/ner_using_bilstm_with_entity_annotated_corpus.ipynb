{
 "cells": [
  {
   "cell_type": "code",
   "execution_count": 1,
   "id": "initial_id",
   "metadata": {
    "collapsed": true,
    "ExecuteTime": {
     "end_time": "2023-11-20T13:26:37.056355Z",
     "start_time": "2023-11-20T13:26:34.861982Z"
    }
   },
   "outputs": [],
   "source": [
    "import urllib.request\n",
    "\n",
    "import pandas as pd\n",
    "import numpy as np\n",
    "\n",
    "import matplotlib.pyplot as plt\n",
    "\n",
    "from keras.preprocessing.text import Tokenizer\n",
    "from keras.preprocessing.sequence import pad_sequences\n",
    "from keras.utils import to_categorical\n",
    "\n",
    "from sklearn.model_selection import train_test_split"
   ]
  },
  {
   "cell_type": "code",
   "execution_count": 2,
   "outputs": [
    {
     "name": "stdout",
     "output_type": "stream",
     "text": [
      "1048575\n",
      "    Sentence #           Word  POS Tag\n",
      "0  Sentence: 1      Thousands  NNS   O\n",
      "1          NaN             of   IN   O\n",
      "2          NaN  demonstrators  NNS   O\n",
      "3          NaN           have  VBP   O\n",
      "4          NaN        marched  VBN   O\n"
     ]
    }
   ],
   "source": [
    "data_path = \"../data/\"\n",
    "df = pd.read_csv(data_path + \"ner_dataset.csv\", encoding=\"latin1\")\n",
    "\n",
    "print(len(df))\n",
    "print(df.head(5))"
   ],
   "metadata": {
    "collapsed": false,
    "ExecuteTime": {
     "end_time": "2023-11-20T13:26:37.890854Z",
     "start_time": "2023-11-20T13:26:37.639478Z"
    }
   },
   "id": "95c0fcd84091c464"
  },
  {
   "cell_type": "markdown",
   "source": [
    "# Data Preprocessing"
   ],
   "metadata": {
    "collapsed": false
   },
   "id": "b7a8a95bf774ef99"
  },
  {
   "cell_type": "code",
   "execution_count": 3,
   "outputs": [
    {
     "name": "stdout",
     "output_type": "stream",
     "text": [
      "47959 35177 17\n",
      "      Tag  counts\n",
      "0   B-art     402\n",
      "1   B-eve     308\n",
      "2   B-geo   37644\n",
      "3   B-gpe   15870\n",
      "4   B-nat     201\n",
      "5   B-org   20143\n",
      "6   B-per   16990\n",
      "7   B-tim   20333\n",
      "8   I-art     297\n",
      "9   I-eve     253\n",
      "10  I-geo    7414\n",
      "11  I-gpe     198\n",
      "12  I-nat      51\n",
      "13  I-org   16784\n",
      "14  I-per   17251\n",
      "15  I-tim    6528\n",
      "16      O  887908\n"
     ]
    }
   ],
   "source": [
    "# see 'Tag' distribution\n",
    "print(df['Sentence #'].nunique(), df.Word.nunique(), df.Tag.nunique())\n",
    "print(df.groupby('Tag').size().reset_index(name='counts'))"
   ],
   "metadata": {
    "collapsed": false,
    "ExecuteTime": {
     "end_time": "2023-11-20T13:26:38.713769Z",
     "start_time": "2023-11-20T13:26:38.671739Z"
    }
   },
   "id": "e5d49e154c6e592c"
  },
  {
   "cell_type": "code",
   "execution_count": 4,
   "outputs": [
    {
     "name": "stdout",
     "output_type": "stream",
     "text": [
      "False\n",
      "              Sentence #       Word  POS    Tag\n",
      "1048565  Sentence: 47958     impact   NN      O\n",
      "1048566  Sentence: 47958          .    .      O\n",
      "1048567  Sentence: 47959     Indian   JJ  B-gpe\n",
      "1048568  Sentence: 47959     forces  NNS      O\n",
      "1048569  Sentence: 47959       said  VBD      O\n",
      "1048570  Sentence: 47959       they  PRP      O\n",
      "1048571  Sentence: 47959  responded  VBD      O\n",
      "1048572  Sentence: 47959         to   TO      O\n",
      "1048573  Sentence: 47959        the   DT      O\n",
      "1048574  Sentence: 47959     attack   NN      O\n"
     ]
    },
    {
     "name": "stderr",
     "output_type": "stream",
     "text": [
      "/var/folders/76/r353dd3n1cb9npy26cwjvyz00000gn/T/ipykernel_1843/3415340063.py:2: FutureWarning: DataFrame.fillna with 'method' is deprecated and will raise in a future version. Use obj.ffill() or obj.bfill() instead.\n",
      "  df = df.fillna(method=\"ffill\") # fill NaN with previous value\n"
     ]
    }
   ],
   "source": [
    "# fill NaN with previous value\n",
    "df = df.fillna(method=\"ffill\") # fill NaN with previous value\n",
    "print(df.isnull().values.any())\n",
    "print(df.tail(10))"
   ],
   "metadata": {
    "collapsed": false,
    "ExecuteTime": {
     "end_time": "2023-11-20T13:26:39.605909Z",
     "start_time": "2023-11-20T13:26:39.301648Z"
    }
   },
   "id": "7650cab060beb129"
  },
  {
   "cell_type": "code",
   "execution_count": 5,
   "outputs": [
    {
     "name": "stdout",
     "output_type": "stream",
     "text": [
      "47959 31817 17\n"
     ]
    }
   ],
   "source": [
    "df['Word'] = df['Word'].str.lower() # lowercase \n",
    "print(df['Sentence #'].nunique(), df.Word.nunique(), df.Tag.nunique())"
   ],
   "metadata": {
    "collapsed": false,
    "ExecuteTime": {
     "end_time": "2023-11-20T13:26:42.697416Z",
     "start_time": "2023-11-20T13:26:42.503111Z"
    }
   },
   "id": "cd78b89150acaafa"
  },
  {
   "cell_type": "code",
   "execution_count": 7,
   "outputs": [],
   "source": [
    "# get word and tag in each sentence\n",
    "func = lambda temp: [(word, tag) for word, tag in zip(temp[\"Word\"].values.tolist(), temp[\"Tag\"].values.tolist())]\n",
    "tagged_sentences=[t for t in df.groupby(\"Sentence #\").apply(func)]"
   ],
   "metadata": {
    "collapsed": false,
    "ExecuteTime": {
     "end_time": "2023-11-20T13:27:51.384789Z",
     "start_time": "2023-11-20T13:27:50.153788Z"
    }
   },
   "id": "43851432a3defb74"
  },
  {
   "cell_type": "code",
   "execution_count": 8,
   "outputs": [
    {
     "name": "stdout",
     "output_type": "stream",
     "text": [
      "[('thousands', 'O'), ('of', 'O'), ('demonstrators', 'O'), ('have', 'O'), ('marched', 'O'), ('through', 'O'), ('london', 'B-geo'), ('to', 'O'), ('protest', 'O'), ('the', 'O'), ('war', 'O'), ('in', 'O'), ('iraq', 'B-geo'), ('and', 'O'), ('demand', 'O'), ('the', 'O'), ('withdrawal', 'O'), ('of', 'O'), ('british', 'B-gpe'), ('troops', 'O'), ('from', 'O'), ('that', 'O'), ('country', 'O'), ('.', 'O')]\n"
     ]
    }
   ],
   "source": [
    "print(tagged_sentences[0])"
   ],
   "metadata": {
    "collapsed": false,
    "ExecuteTime": {
     "end_time": "2023-11-20T13:27:52.185865Z",
     "start_time": "2023-11-20T13:27:52.179800Z"
    }
   },
   "id": "d407d1fed4ffc02b"
  },
  {
   "cell_type": "code",
   "execution_count": 14,
   "outputs": [
    {
     "name": "stdout",
     "output_type": "stream",
     "text": [
      "['thousands', 'of', 'demonstrators', 'have', 'marched', 'through', 'london', 'to', 'protest', 'the', 'war', 'in', 'iraq', 'and', 'demand', 'the', 'withdrawal', 'of', 'british', 'troops', 'from', 'that', 'country', '.']\n",
      "['O', 'O', 'O', 'O', 'O', 'O', 'B-geo', 'O', 'O', 'O', 'O', 'O', 'B-geo', 'O', 'O', 'O', 'O', 'O', 'B-gpe', 'O', 'O', 'O', 'O', 'O']\n"
     ]
    }
   ],
   "source": [
    "# get sentence and tag\n",
    "sentences, tags = [], []\n",
    "\n",
    "for tagged_sentence in tagged_sentences:\n",
    "    sentence, tag = zip(*tagged_sentence)\n",
    "    sentences.append(list(sentence))\n",
    "    tags.append(list(tag))\n",
    "\n",
    "print(sentences[0])\n",
    "print(tags[0])"
   ],
   "metadata": {
    "collapsed": false,
    "ExecuteTime": {
     "end_time": "2023-11-20T13:32:16.394008Z",
     "start_time": "2023-11-20T13:32:16.371071Z"
    }
   },
   "id": "bcca8d13c37512a6"
  },
  {
   "cell_type": "code",
   "execution_count": 15,
   "outputs": [
    {
     "name": "stdout",
     "output_type": "stream",
     "text": [
      "max sentence length: 104, average sentence length: 21.863987989741236\n"
     ]
    }
   ],
   "source": [
    "max_sentence_len = max(len(s) for s in sentences)\n",
    "avg_sentence_len = sum(map(len, sentences))/len(sentences)\n",
    "print(\"max sentence length: {}, average sentence length: {}\".format(max_sentence_len, avg_sentence_len))"
   ],
   "metadata": {
    "collapsed": false,
    "ExecuteTime": {
     "end_time": "2023-11-20T13:36:12.937240Z",
     "start_time": "2023-11-20T13:36:12.925486Z"
    }
   },
   "id": "71e49c1148e15ce9"
  },
  {
   "cell_type": "markdown",
   "source": [
    "# Tokenizing"
   ],
   "metadata": {
    "collapsed": false
   },
   "id": "3b50d8398fb80eea"
  },
  {
   "cell_type": "code",
   "execution_count": 21,
   "outputs": [
    {
     "name": "stdout",
     "output_type": "stream",
     "text": [
      "1\n",
      "31819\n",
      "18\n",
      "[254, 6, 967, 16, 1795, 238, 468, 7, 523, 2, 129, 5, 61, 9, 571, 2, 833, 6, 186, 90, 22, 15, 56, 3]\n",
      "[1, 1, 1, 1, 1, 1, 2, 1, 1, 1, 1, 1, 2, 1, 1, 1, 1, 1, 8, 1, 1, 1, 1, 1]\n"
     ]
    }
   ],
   "source": [
    "sen_tokenizer = Tokenizer(oov_token=\"OOV\")\n",
    "tag_tokenizer = Tokenizer(lower=False) # keep the original case\n",
    "\n",
    "sen_tokenizer.fit_on_texts(sentences)\n",
    "tag_tokenizer.fit_on_texts(tags)\n",
    "\n",
    "X_data = sen_tokenizer.texts_to_sequences(sentences)\n",
    "y_data = tag_tokenizer.texts_to_sequences(tags)\n",
    "\n",
    "vocab_size = len(sen_tokenizer.word_index) + 1\n",
    "tag_size = len(tag_tokenizer.word_index) + 1\n",
    "\n",
    "print(sen_tokenizer.word_index[\"OOV\"])\n",
    "print(vocab_size)\n",
    "print(tag_size)\n",
    "\n",
    "print(X_data[0])\n",
    "print(y_data[0])"
   ],
   "metadata": {
    "collapsed": false,
    "ExecuteTime": {
     "end_time": "2023-11-20T13:50:31.668921Z",
     "start_time": "2023-11-20T13:50:30.942522Z"
    }
   },
   "id": "113b9a942112ea83"
  },
  {
   "cell_type": "code",
   "execution_count": 19,
   "outputs": [
    {
     "name": "stdout",
     "output_type": "stream",
     "text": [
      "(38367, 70) (38367, 70, 18)\n",
      "(9592, 70) (9592, 70, 18)\n"
     ]
    }
   ],
   "source": [
    "max_len = 70 # hyperparameter\n",
    "\n",
    "X_data_pad = pad_sequences(X_data, padding=\"post\", maxlen=max_len)\n",
    "y_data_pad = pad_sequences(y_data, padding=\"post\", maxlen=max_len)\n",
    "\n",
    "X_train, X_test, y_train, y_test = train_test_split(X_data_pad, y_data_pad, test_size=0.2, random_state=0)\n",
    "\n",
    "y_train_encod = to_categorical(y_train)\n",
    "y_test_encod = to_categorical(y_test)\n",
    "\n",
    "print(X_train.shape, y_train_encod.shape)\n",
    "print(X_test.shape, y_test_encod.shape)"
   ],
   "metadata": {
    "collapsed": false,
    "ExecuteTime": {
     "end_time": "2023-11-20T13:49:46.465046Z",
     "start_time": "2023-11-20T13:49:46.293902Z"
    }
   },
   "id": "74f9bece063cce7a"
  },
  {
   "cell_type": "code",
   "execution_count": null,
   "outputs": [],
   "source": [],
   "metadata": {
    "collapsed": false
   },
   "id": "eaa6f73843c234f0"
  }
 ],
 "metadata": {
  "kernelspec": {
   "display_name": "Python 3",
   "language": "python",
   "name": "python3"
  },
  "language_info": {
   "codemirror_mode": {
    "name": "ipython",
    "version": 2
   },
   "file_extension": ".py",
   "mimetype": "text/x-python",
   "name": "python",
   "nbconvert_exporter": "python",
   "pygments_lexer": "ipython2",
   "version": "2.7.6"
  }
 },
 "nbformat": 4,
 "nbformat_minor": 5
}
