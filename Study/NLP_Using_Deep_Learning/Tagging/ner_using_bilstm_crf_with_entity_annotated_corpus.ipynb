{
 "cells": [
  {
   "cell_type": "code",
   "execution_count": 1,
   "id": "initial_id",
   "metadata": {
    "collapsed": true,
    "ExecuteTime": {
     "end_time": "2023-11-24T05:37:51.598577Z",
     "start_time": "2023-11-24T05:37:46.445976Z"
    }
   },
   "outputs": [],
   "source": [
    "import urllib.request\n",
    "\n",
    "import pandas as pd\n",
    "import numpy as np\n",
    "\n",
    "import matplotlib.pyplot as plt\n",
    "\n",
    "from keras.preprocessing.text import Tokenizer\n",
    "from keras.preprocessing.sequence import pad_sequences\n",
    "from keras.utils import to_categorical\n",
    "\n",
    "from sklearn.model_selection import train_test_split"
   ]
  },
  {
   "cell_type": "code",
   "execution_count": 2,
   "outputs": [
    {
     "name": "stdout",
     "output_type": "stream",
     "text": [
      "1048575\n",
      "    Sentence #           Word  POS Tag\n",
      "0  Sentence: 1      Thousands  NNS   O\n",
      "1          NaN             of   IN   O\n",
      "2          NaN  demonstrators  NNS   O\n",
      "3          NaN           have  VBP   O\n",
      "4          NaN        marched  VBN   O\n"
     ]
    }
   ],
   "source": [
    "data_path = \"../data/\"\n",
    "df = pd.read_csv(data_path + \"ner_dataset.csv\", encoding=\"latin1\")\n",
    "\n",
    "print(len(df))\n",
    "print(df.head(5))"
   ],
   "metadata": {
    "collapsed": false,
    "ExecuteTime": {
     "end_time": "2023-11-24T05:37:51.834813Z",
     "start_time": "2023-11-24T05:37:51.600081Z"
    }
   },
   "id": "95c0fcd84091c464"
  },
  {
   "cell_type": "markdown",
   "source": [
    "# Data Preprocessing"
   ],
   "metadata": {
    "collapsed": false
   },
   "id": "b7a8a95bf774ef99"
  },
  {
   "cell_type": "code",
   "execution_count": 3,
   "outputs": [
    {
     "name": "stdout",
     "output_type": "stream",
     "text": [
      "47959 35177 17\n",
      "      Tag  counts\n",
      "0   B-art     402\n",
      "1   B-eve     308\n",
      "2   B-geo   37644\n",
      "3   B-gpe   15870\n",
      "4   B-nat     201\n",
      "5   B-org   20143\n",
      "6   B-per   16990\n",
      "7   B-tim   20333\n",
      "8   I-art     297\n",
      "9   I-eve     253\n",
      "10  I-geo    7414\n",
      "11  I-gpe     198\n",
      "12  I-nat      51\n",
      "13  I-org   16784\n",
      "14  I-per   17251\n",
      "15  I-tim    6528\n",
      "16      O  887908\n"
     ]
    }
   ],
   "source": [
    "# see 'Tag' distribution\n",
    "print(df['Sentence #'].nunique(), df.Word.nunique(), df.Tag.nunique())\n",
    "print(df.groupby('Tag').size().reset_index(name='counts'))"
   ],
   "metadata": {
    "collapsed": false,
    "ExecuteTime": {
     "end_time": "2023-11-24T05:37:51.942698Z",
     "start_time": "2023-11-24T05:37:51.903592Z"
    }
   },
   "id": "e5d49e154c6e592c"
  },
  {
   "cell_type": "code",
   "execution_count": 4,
   "outputs": [
    {
     "name": "stderr",
     "output_type": "stream",
     "text": [
      "/var/folders/76/r353dd3n1cb9npy26cwjvyz00000gn/T/ipykernel_1057/3415340063.py:2: FutureWarning: DataFrame.fillna with 'method' is deprecated and will raise in a future version. Use obj.ffill() or obj.bfill() instead.\n",
      "  df = df.fillna(method=\"ffill\") # fill NaN with previous value\n"
     ]
    },
    {
     "name": "stdout",
     "output_type": "stream",
     "text": [
      "False\n",
      "              Sentence #       Word  POS    Tag\n",
      "1048565  Sentence: 47958     impact   NN      O\n",
      "1048566  Sentence: 47958          .    .      O\n",
      "1048567  Sentence: 47959     Indian   JJ  B-gpe\n",
      "1048568  Sentence: 47959     forces  NNS      O\n",
      "1048569  Sentence: 47959       said  VBD      O\n",
      "1048570  Sentence: 47959       they  PRP      O\n",
      "1048571  Sentence: 47959  responded  VBD      O\n",
      "1048572  Sentence: 47959         to   TO      O\n",
      "1048573  Sentence: 47959        the   DT      O\n",
      "1048574  Sentence: 47959     attack   NN      O\n"
     ]
    }
   ],
   "source": [
    "# fill NaN with previous value\n",
    "df = df.fillna(method=\"ffill\") # fill NaN with previous value\n",
    "print(df.isnull().values.any())\n",
    "print(df.tail(10))"
   ],
   "metadata": {
    "collapsed": false,
    "ExecuteTime": {
     "end_time": "2023-11-24T05:37:52.235486Z",
     "start_time": "2023-11-24T05:37:51.944235Z"
    }
   },
   "id": "7650cab060beb129"
  },
  {
   "cell_type": "code",
   "execution_count": 5,
   "outputs": [
    {
     "name": "stdout",
     "output_type": "stream",
     "text": [
      "47959 31817 17\n"
     ]
    }
   ],
   "source": [
    "df['Word'] = df['Word'].str.lower() # lowercase \n",
    "print(df['Sentence #'].nunique(), df.Word.nunique(), df.Tag.nunique())"
   ],
   "metadata": {
    "collapsed": false,
    "ExecuteTime": {
     "end_time": "2023-11-24T05:37:52.417944Z",
     "start_time": "2023-11-24T05:37:52.258847Z"
    }
   },
   "id": "cd78b89150acaafa"
  },
  {
   "cell_type": "code",
   "execution_count": 6,
   "outputs": [],
   "source": [
    "# get word and tag in each sentence\n",
    "func = lambda temp: [(word, tag) for word, tag in zip(temp[\"Word\"].values.tolist(), temp[\"Tag\"].values.tolist())]\n",
    "tagged_sentences=[t for t in df.groupby(\"Sentence #\").apply(func)]"
   ],
   "metadata": {
    "collapsed": false,
    "ExecuteTime": {
     "end_time": "2023-11-24T05:37:53.655585Z",
     "start_time": "2023-11-24T05:37:52.421390Z"
    }
   },
   "id": "43851432a3defb74"
  },
  {
   "cell_type": "code",
   "execution_count": 7,
   "outputs": [
    {
     "name": "stdout",
     "output_type": "stream",
     "text": [
      "[('thousands', 'O'), ('of', 'O'), ('demonstrators', 'O'), ('have', 'O'), ('marched', 'O'), ('through', 'O'), ('london', 'B-geo'), ('to', 'O'), ('protest', 'O'), ('the', 'O'), ('war', 'O'), ('in', 'O'), ('iraq', 'B-geo'), ('and', 'O'), ('demand', 'O'), ('the', 'O'), ('withdrawal', 'O'), ('of', 'O'), ('british', 'B-gpe'), ('troops', 'O'), ('from', 'O'), ('that', 'O'), ('country', 'O'), ('.', 'O')]\n"
     ]
    }
   ],
   "source": [
    "print(tagged_sentences[0])"
   ],
   "metadata": {
    "collapsed": false,
    "ExecuteTime": {
     "end_time": "2023-11-24T05:37:53.659256Z",
     "start_time": "2023-11-24T05:37:53.656001Z"
    }
   },
   "id": "d407d1fed4ffc02b"
  },
  {
   "cell_type": "code",
   "execution_count": 8,
   "outputs": [
    {
     "name": "stdout",
     "output_type": "stream",
     "text": [
      "['thousands', 'of', 'demonstrators', 'have', 'marched', 'through', 'london', 'to', 'protest', 'the', 'war', 'in', 'iraq', 'and', 'demand', 'the', 'withdrawal', 'of', 'british', 'troops', 'from', 'that', 'country', '.']\n",
      "['O', 'O', 'O', 'O', 'O', 'O', 'B-geo', 'O', 'O', 'O', 'O', 'O', 'B-geo', 'O', 'O', 'O', 'O', 'O', 'B-gpe', 'O', 'O', 'O', 'O', 'O']\n"
     ]
    }
   ],
   "source": [
    "# get sentence and tag\n",
    "sentences, tags = [], []\n",
    "\n",
    "for tagged_sentence in tagged_sentences:\n",
    "    sentence, tag = zip(*tagged_sentence)\n",
    "    sentences.append(list(sentence))\n",
    "    tags.append(list(tag))\n",
    "\n",
    "print(sentences[0])\n",
    "print(tags[0])"
   ],
   "metadata": {
    "collapsed": false,
    "ExecuteTime": {
     "end_time": "2023-11-24T05:37:53.829734Z",
     "start_time": "2023-11-24T05:37:53.696633Z"
    }
   },
   "id": "bcca8d13c37512a6"
  },
  {
   "cell_type": "code",
   "execution_count": 9,
   "outputs": [
    {
     "name": "stdout",
     "output_type": "stream",
     "text": [
      "max sentence length: 104, average sentence length: 21.863987989741236\n"
     ]
    }
   ],
   "source": [
    "max_sentence_len = max(len(s) for s in sentences)\n",
    "avg_sentence_len = sum(map(len, sentences))/len(sentences)\n",
    "print(\"max sentence length: {}, average sentence length: {}\".format(max_sentence_len, avg_sentence_len))"
   ],
   "metadata": {
    "collapsed": false,
    "ExecuteTime": {
     "end_time": "2023-11-24T05:37:53.837030Z",
     "start_time": "2023-11-24T05:37:53.833815Z"
    }
   },
   "id": "71e49c1148e15ce9"
  },
  {
   "cell_type": "markdown",
   "source": [
    "# Tokenizing"
   ],
   "metadata": {
    "collapsed": false
   },
   "id": "3b50d8398fb80eea"
  },
  {
   "cell_type": "code",
   "execution_count": 10,
   "outputs": [
    {
     "name": "stdout",
     "output_type": "stream",
     "text": [
      "1\n",
      "31819\n",
      "18\n",
      "[254, 6, 967, 16, 1795, 238, 468, 7, 523, 2, 129, 5, 61, 9, 571, 2, 833, 6, 186, 90, 22, 15, 56, 3]\n",
      "[1, 1, 1, 1, 1, 1, 2, 1, 1, 1, 1, 1, 2, 1, 1, 1, 1, 1, 8, 1, 1, 1, 1, 1]\n"
     ]
    }
   ],
   "source": [
    "sen_tokenizer = Tokenizer(oov_token=\"OOV\")\n",
    "tag_tokenizer = Tokenizer(lower=False) # keep the original case\n",
    "\n",
    "sen_tokenizer.fit_on_texts(sentences)\n",
    "tag_tokenizer.fit_on_texts(tags)\n",
    "\n",
    "X_data = sen_tokenizer.texts_to_sequences(sentences)\n",
    "y_data = tag_tokenizer.texts_to_sequences(tags)\n",
    "\n",
    "vocab_size = len(sen_tokenizer.word_index) + 1\n",
    "tag_size = len(tag_tokenizer.word_index) + 1\n",
    "\n",
    "print(sen_tokenizer.word_index[\"OOV\"])\n",
    "print(vocab_size)\n",
    "print(tag_size)\n",
    "\n",
    "print(X_data[0])\n",
    "print(y_data[0])"
   ],
   "metadata": {
    "collapsed": false,
    "ExecuteTime": {
     "end_time": "2023-11-24T05:37:54.421255Z",
     "start_time": "2023-11-24T05:37:53.902151Z"
    }
   },
   "id": "113b9a942112ea83"
  },
  {
   "cell_type": "code",
   "execution_count": 11,
   "outputs": [
    {
     "name": "stdout",
     "output_type": "stream",
     "text": [
      "(38367, 70) (38367, 70, 18)\n",
      "(9592, 70) (9592, 70, 18)\n"
     ]
    }
   ],
   "source": [
    "max_len = 70 # hyperparameter\n",
    "\n",
    "X_data_pad = pad_sequences(X_data, padding=\"post\", maxlen=max_len)\n",
    "y_data_pad = pad_sequences(y_data, padding=\"post\", maxlen=max_len)\n",
    "\n",
    "X_train, X_test, y_train, y_test = train_test_split(X_data_pad, y_data_pad, test_size=0.2, random_state=0)\n",
    "\n",
    "y_train_encod = to_categorical(y_train)\n",
    "y_test_encod = to_categorical(y_test)\n",
    "\n",
    "print(X_train.shape, y_train_encod.shape)\n",
    "print(X_test.shape, y_test_encod.shape)"
   ],
   "metadata": {
    "collapsed": false,
    "ExecuteTime": {
     "end_time": "2023-11-24T05:37:54.574351Z",
     "start_time": "2023-11-24T05:37:54.422348Z"
    }
   },
   "id": "74f9bece063cce7a"
  },
  {
   "cell_type": "markdown",
   "source": [
    "# Modeling"
   ],
   "metadata": {
    "collapsed": false
   },
   "id": "6d18174b66673c7c"
  },
  {
   "cell_type": "code",
   "execution_count": 21,
   "outputs": [],
   "source": [
    "from keras import Model\n",
    "from keras.layers import Dense, LSTM, Input, Bidirectional, TimeDistributed, Embedding, Dropout\n",
    "from keras.callbacks import EarlyStopping, ModelCheckpoint\n",
    "from keras.optimizers import Adam\n",
    "from keras_crf import CRFModel\n",
    "from seqeval.metrics import f1_score, classification_report"
   ],
   "metadata": {
    "collapsed": false,
    "ExecuteTime": {
     "end_time": "2023-11-24T06:58:18.688261Z",
     "start_time": "2023-11-24T06:58:18.679628Z"
    }
   },
   "id": "afbe7b6f36427769"
  },
  {
   "cell_type": "code",
   "execution_count": 22,
   "outputs": [
    {
     "name": "stdout",
     "output_type": "stream",
     "text": [
      "Model: \"crf_model_2\"\n",
      "__________________________________________________________________________________________________\n",
      " Layer (type)                Output Shape                 Param #   Connected to                  \n",
      "==================================================================================================\n",
      " input_5 (InputLayer)        [(None, 70)]                 0         []                            \n",
      "                                                                                                  \n",
      " embedding_4 (Embedding)     (None, 70, 128)              4072832   ['input_5[0][0]']             \n",
      "                                                                                                  \n",
      " bidirectional_4 (Bidirecti  (None, 70, 128)              98816     ['embedding_4[0][0]']         \n",
      " onal)                                                                                            \n",
      "                                                                                                  \n",
      " dropout_4 (Dropout)         (None, 70, 128)              0         ['bidirectional_4[0][0]']     \n",
      "                                                                                                  \n",
      " time_distributed_4 (TimeDi  (None, 70, 18)               2322      ['dropout_4[0][0]']           \n",
      " stributed)                                                                                       \n",
      "                                                                                                  \n",
      " crf_2 (CRF)                 [(None, 70),                 702       ['time_distributed_4[0][0]']  \n",
      "                              (None, 70, 18),                                                     \n",
      "                              (None,),                                                            \n",
      "                              (18, 18)]                                                           \n",
      "                                                                                                  \n",
      " decode_sequence (Lambda)    (None, 70)                   0         ['crf_2[0][0]']               \n",
      "                                                                                                  \n",
      " potentials (Lambda)         (None, 70, 18)               0         ['crf_2[0][1]']               \n",
      "                                                                                                  \n",
      " sequence_length (Lambda)    (None,)                      0         ['crf_2[0][2]']               \n",
      "                                                                                                  \n",
      " kernel (Lambda)             (18, 18)                     0         ['crf_2[0][3]']               \n",
      "                                                                                                  \n",
      "==================================================================================================\n",
      "Total params: 4174672 (15.93 MB)\n",
      "Trainable params: 4174672 (15.93 MB)\n",
      "Non-trainable params: 0 (0.00 Byte)\n",
      "__________________________________________________________________________________________________\n"
     ]
    },
    {
     "name": "stderr",
     "output_type": "stream",
     "text": [
      "WARNING:absl:At this time, the v2.11+ optimizer `tf.keras.optimizers.Adam` runs slowly on M1/M2 Macs, please use the legacy Keras optimizer instead, located at `tf.keras.optimizers.legacy.Adam`.\n"
     ]
    }
   ],
   "source": [
    "# hyperparameter\n",
    "embedding_dims = 128\n",
    "hidden_units = 64\n",
    "dropout_ratio = 0.3\n",
    "\n",
    "input = Input(shape=(max_len,))\n",
    "model = Embedding(input_dim=vocab_size, output_dim=embedding_dims, input_length=max_len)(input)\n",
    "model = Bidirectional(LSTM(units=hidden_units, return_sequences=True))(model)\n",
    "model = Dropout(dropout_ratio)(model)\n",
    "model = TimeDistributed(Dense(tag_size, activation=\"relu\"))(model)\n",
    "model = Model(input,model)\n",
    "model = CRFModel(model=model, units=tag_size) # CRF layer\n",
    "model.summary()\n",
    "\n",
    "model.compile(optimizer=Adam(0.001), metrics=['accuracy']) # loss function is included in CRF layer"
   ],
   "metadata": {
    "collapsed": false,
    "ExecuteTime": {
     "end_time": "2023-11-24T06:58:19.598831Z",
     "start_time": "2023-11-24T06:58:19.395657Z"
    }
   },
   "id": "d5d3cb438a3a4136"
  },
  {
   "cell_type": "markdown",
   "source": [
    "#### no need to specify a loss for CRFModel, model will compute crf loss by itself\n",
    "#### https://pypi.org/project/keras-crf/"
   ],
   "metadata": {
    "collapsed": false
   },
   "id": "454189717b3621c7"
  },
  {
   "cell_type": "code",
   "execution_count": 23,
   "outputs": [],
   "source": [
    "model_path = \"../model/\"\n",
    "es = EarlyStopping(monitor='val_loss', mode='min', verbose=1, patience=3)\n",
    "mc = ModelCheckpoint(model_path + 'ner_bilstm_crf_model.ckpt', monitor='val_decode_sequence_accuracy', mode='max', verbose=1, save_best_only=True, save_weights_only=True)"
   ],
   "metadata": {
    "collapsed": false,
    "ExecuteTime": {
     "end_time": "2023-11-24T06:58:21.573033Z",
     "start_time": "2023-11-24T06:58:21.567079Z"
    }
   },
   "id": "9d9fa2a576417c2"
  },
  {
   "cell_type": "code",
   "execution_count": 24,
   "outputs": [
    {
     "name": "stdout",
     "output_type": "stream",
     "text": [
      "Epoch 1/15\n",
      "270/270 [==============================] - ETA: 0s - decode_sequence_accuracy: 0.9300 - loss: 28.3109\n",
      "Epoch 1: val_decode_sequence_accuracy improved from -inf to 0.95959, saving model to ../model/ner_bilstm_crf_model.ckpt\n",
      "270/270 [==============================] - 37s 130ms/step - decode_sequence_accuracy: 0.9300 - loss: 28.2393 - val_decode_sequence_accuracy: 0.9596 - val_loss: 8.9147\n",
      "Epoch 2/15\n",
      "270/270 [==============================] - ETA: 0s - decode_sequence_accuracy: 0.9677 - loss: 7.1964\n",
      "Epoch 2: val_decode_sequence_accuracy improved from 0.95959 to 0.97711, saving model to ../model/ner_bilstm_crf_model.ckpt\n",
      "270/270 [==============================] - 39s 145ms/step - decode_sequence_accuracy: 0.9677 - loss: 7.1936 - val_decode_sequence_accuracy: 0.9771 - val_loss: 5.0081\n",
      "Epoch 3/15\n",
      "270/270 [==============================] - ETA: 0s - decode_sequence_accuracy: 0.9816 - loss: 3.9207\n",
      "Epoch 3: val_decode_sequence_accuracy improved from 0.97711 to 0.98275, saving model to ../model/ner_bilstm_crf_model.ckpt\n",
      "270/270 [==============================] - 41s 150ms/step - decode_sequence_accuracy: 0.9816 - loss: 3.9194 - val_decode_sequence_accuracy: 0.9828 - val_loss: 3.4665\n",
      "Epoch 4/15\n",
      "270/270 [==============================] - ETA: 0s - decode_sequence_accuracy: 0.9855 - loss: 2.7761\n",
      "Epoch 4: val_decode_sequence_accuracy improved from 0.98275 to 0.98419, saving model to ../model/ner_bilstm_crf_model.ckpt\n",
      "270/270 [==============================] - 40s 150ms/step - decode_sequence_accuracy: 0.9855 - loss: 2.7728 - val_decode_sequence_accuracy: 0.9842 - val_loss: 3.1259\n",
      "Epoch 5/15\n",
      "270/270 [==============================] - ETA: 0s - decode_sequence_accuracy: 0.9876 - loss: 2.2166\n",
      "Epoch 5: val_decode_sequence_accuracy improved from 0.98419 to 0.98484, saving model to ../model/ner_bilstm_crf_model.ckpt\n",
      "270/270 [==============================] - 41s 153ms/step - decode_sequence_accuracy: 0.9876 - loss: 2.2160 - val_decode_sequence_accuracy: 0.9848 - val_loss: 3.0297\n",
      "Epoch 6/15\n",
      "270/270 [==============================] - ETA: 0s - decode_sequence_accuracy: 0.9890 - loss: 1.8687\n",
      "Epoch 6: val_decode_sequence_accuracy improved from 0.98484 to 0.98523, saving model to ../model/ner_bilstm_crf_model.ckpt\n",
      "270/270 [==============================] - 40s 149ms/step - decode_sequence_accuracy: 0.9890 - loss: 1.8693 - val_decode_sequence_accuracy: 0.9852 - val_loss: 3.0632\n",
      "Epoch 7/15\n",
      "270/270 [==============================] - ETA: 0s - decode_sequence_accuracy: 0.9899 - loss: 1.6214\n",
      "Epoch 7: val_decode_sequence_accuracy improved from 0.98523 to 0.98564, saving model to ../model/ner_bilstm_crf_model.ckpt\n",
      "270/270 [==============================] - 40s 149ms/step - decode_sequence_accuracy: 0.9899 - loss: 1.6233 - val_decode_sequence_accuracy: 0.9856 - val_loss: 2.9944\n",
      "Epoch 8/15\n",
      "270/270 [==============================] - ETA: 0s - decode_sequence_accuracy: 0.9907 - loss: 1.4269\n",
      "Epoch 8: val_decode_sequence_accuracy did not improve from 0.98564\n",
      "270/270 [==============================] - 42s 154ms/step - decode_sequence_accuracy: 0.9907 - loss: 1.4272 - val_decode_sequence_accuracy: 0.9849 - val_loss: 3.1368\n",
      "Epoch 9/15\n",
      "270/270 [==============================] - ETA: 0s - decode_sequence_accuracy: 0.9913 - loss: 1.2620\n",
      "Epoch 9: val_decode_sequence_accuracy did not improve from 0.98564\n",
      "270/270 [==============================] - 41s 153ms/step - decode_sequence_accuracy: 0.9913 - loss: 1.2631 - val_decode_sequence_accuracy: 0.9849 - val_loss: 3.2608\n",
      "Epoch 10/15\n",
      "270/270 [==============================] - ETA: 0s - decode_sequence_accuracy: 0.9920 - loss: 1.1280\n",
      "Epoch 10: val_decode_sequence_accuracy did not improve from 0.98564\n",
      "270/270 [==============================] - 41s 152ms/step - decode_sequence_accuracy: 0.9920 - loss: 1.1280 - val_decode_sequence_accuracy: 0.9850 - val_loss: 3.2770\n",
      "Epoch 10: early stopping\n"
     ]
    }
   ],
   "source": [
    "history = model.fit(X_train, y_train, batch_size=128, epochs=15, validation_split=0.1, verbose=1, callbacks=[es, mc]) # use y_train instead of y_train_encod because CRF does not need one-hot encoding"
   ],
   "metadata": {
    "collapsed": false,
    "ExecuteTime": {
     "end_time": "2023-11-24T07:05:12.122298Z",
     "start_time": "2023-11-24T06:58:29.493243Z"
    }
   },
   "id": "782d48f770b2083c"
  },
  {
   "cell_type": "markdown",
   "source": [
    "# Evaluate"
   ],
   "metadata": {
    "collapsed": false
   },
   "id": "f511f7b6565328b3"
  },
  {
   "cell_type": "code",
   "execution_count": 37,
   "outputs": [
    {
     "name": "stdout",
     "output_type": "stream",
     "text": [
      "1/1 [==============================] - 0s 13ms/step\n",
      "단어             |실제값  |예측값\n",
      "-----------------------------------\n",
      "jordan           : B-org   B-gpe\n",
      "'s               : O       O\n",
      "king             : B-per   B-per\n",
      "abdullah         : I-per   I-per\n",
      "joined           : O       O\n",
      "a                : O       O\n",
      "prayer           : O       O\n",
      "service          : O       O\n",
      "in               : O       O\n",
      "the              : O       O\n",
      "red              : B-geo   B-geo\n",
      "sea              : I-geo   I-geo\n",
      "port             : O       O\n",
      "of               : O       O\n",
      "aqaba            : B-geo   B-geo\n",
      ".                : O       O\n"
     ]
    }
   ],
   "source": [
    "model.load_weights(model_path +'ner_bilstm_crf_model.ckpt' )\n",
    "\n",
    "i = 13 # 확인하고 싶은 테스트용 샘플의 인덱스.\n",
    "y_predicted = model.predict(np.array([X_test[i]]))[0] # 입력한 테스트용 샘플에 대해서 예측 y를 리턴\n",
    "labels = np.argmax(y_test_encod[i], -1) # 원-핫 인코딩을 다시 정수 인코딩으로 변경.\n",
    "\n",
    "print(\"{:15}|{:5}|{}\".format(\"단어\", \"실제값\", \"예측값\"))\n",
    "print(35 * \"-\")\n",
    "\n",
    "for word, tag, pred in zip(X_test[i], labels, y_predicted[0]):\n",
    "    if word != 0: # PAD값은 제외함.\n",
    "        print(\"{:17}: {:7} {}\".format(sen_tokenizer.index_word[word], tag_tokenizer.index_word[tag], tag_tokenizer.index_word[pred]))"
   ],
   "metadata": {
    "collapsed": false,
    "ExecuteTime": {
     "end_time": "2023-11-24T07:20:01.731269Z",
     "start_time": "2023-11-24T07:20:01.637673Z"
    }
   },
   "id": "5acbce396c8d6bbf"
  },
  {
   "cell_type": "code",
   "execution_count": 43,
   "outputs": [
    {
     "name": "stdout",
     "output_type": "stream",
     "text": [
      "300/300 [==============================] - 5s 16ms/step\n",
      "[[1 1 1 1 1 1 1 1 1 1 1 1 1 1 1 1 1 3 1 2 9 8 1 1 1 1 1 1 1 1 1 1 1 1 1 1\n",
      "  1 2 1 1 1 1 1 1 1 1 1 1 1 1 1 3 1 0 0 0 0 0 0 0 0 0 0 0 0 0 0 0 0 0]\n",
      " [1 1 1 1 1 1 1 1 1 0 0 0 0 0 0 0 0 0 0 0 0 0 0 0 0 0 0 0 0 0 0 0 0 0 0 0\n",
      "  0 0 0 0 0 0 0 0 0 0 0 0 0 0 0 0 0 0 0 0 0 0 0 0 0 0 0 0 0 0 0 0 0 0]]\n"
     ]
    }
   ],
   "source": [
    "y_predicted = model.predict(X_test)[0]\n",
    "print(y_predicted[:2])"
   ],
   "metadata": {
    "collapsed": false,
    "ExecuteTime": {
     "end_time": "2023-11-24T07:26:25.036344Z",
     "start_time": "2023-11-24T07:26:20.208247Z"
    }
   },
   "id": "9627bbe5b2e06565"
  },
  {
   "cell_type": "code",
   "execution_count": 44,
   "outputs": [
    {
     "name": "stdout",
     "output_type": "stream",
     "text": [
      "F1-score: 79.2%\n"
     ]
    },
    {
     "name": "stderr",
     "output_type": "stream",
     "text": [
      "/Users/godpeny/Code/venv/laboratory/lib/python3.11/site-packages/seqeval/metrics/v1.py:57: UndefinedMetricWarning: Precision and F-score are ill-defined and being set to 0.0 in labels with no predicted samples. Use `zero_division` parameter to control this behavior.\n",
      "  _warn_prf(average, modifier, msg_start, len(result))\n"
     ]
    },
    {
     "name": "stdout",
     "output_type": "stream",
     "text": [
      "              precision    recall  f1-score   support\n",
      "\n",
      "         art       0.00      0.00      0.00        91\n",
      "         eve       0.75      0.14      0.23        65\n",
      "         geo       0.82      0.85      0.83      7584\n",
      "         gpe       0.94      0.93      0.94      3195\n",
      "         nat       0.57      0.09      0.15        47\n",
      "         org       0.64      0.58      0.61      4036\n",
      "         per       0.74      0.70      0.72      3403\n",
      "         tim       0.86      0.83      0.85      4149\n",
      "\n",
      "   micro avg       0.80      0.78      0.79     22570\n",
      "   macro avg       0.67      0.51      0.54     22570\n",
      "weighted avg       0.80      0.78      0.79     22570\n"
     ]
    }
   ],
   "source": [
    "def sequences_to_tag_for_crf(sequences):\n",
    "    result = []\n",
    "    # 전체 시퀀스로부터 시퀀스를 하나씩 꺼낸다.\n",
    "    for sequence in sequences:\n",
    "        word_sequence = []\n",
    "        # 시퀀스로부터 예측 정수 레이블을 하나씩 꺼낸다.\n",
    "        for pred_index in sequence:\n",
    "            # 정수를 태깅 정보로 변환. 'PAD'는 'O'로 변경.\n",
    "            if pred_index == 0: # PAD\n",
    "                word_sequence.append(\"O\")\n",
    "            else:\n",
    "                word_sequence.append(tag_tokenizer.index_word[pred_index].replace(\"PAD\", \"O\"))\n",
    "        result.append(word_sequence)\n",
    "    return result\n",
    "\n",
    "pred_tags = sequences_to_tag_for_crf(y_predicted)\n",
    "test_tags = sequences_to_tag_for_crf(y_test) # not using 'y_test_encod' because CRF does not need one-hot encoding\n",
    "\n",
    "print(\"F1-score: {:.1%}\".format(f1_score(test_tags, pred_tags)))\n",
    "print(classification_report(test_tags, pred_tags))"
   ],
   "metadata": {
    "collapsed": false,
    "ExecuteTime": {
     "end_time": "2023-11-24T07:26:40.990714Z",
     "start_time": "2023-11-24T07:26:36.798943Z"
    }
   },
   "id": "5650aa6c95dca9d4"
  },
  {
   "cell_type": "code",
   "execution_count": null,
   "outputs": [],
   "source": [],
   "metadata": {
    "collapsed": false
   },
   "id": "a1bd380674c1b60d"
  }
 ],
 "metadata": {
  "kernelspec": {
   "display_name": "Python 3",
   "language": "python",
   "name": "python3"
  },
  "language_info": {
   "codemirror_mode": {
    "name": "ipython",
    "version": 2
   },
   "file_extension": ".py",
   "mimetype": "text/x-python",
   "name": "python",
   "nbconvert_exporter": "python",
   "pygments_lexer": "ipython2",
   "version": "2.7.6"
  }
 },
 "nbformat": 4,
 "nbformat_minor": 5
}
