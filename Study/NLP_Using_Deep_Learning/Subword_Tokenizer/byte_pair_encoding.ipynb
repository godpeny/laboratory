{
 "cells": [
  {
   "cell_type": "code",
   "execution_count": 1,
   "id": "initial_id",
   "metadata": {
    "collapsed": true,
    "ExecuteTime": {
     "end_time": "2023-12-02T02:32:43.975719Z",
     "start_time": "2023-12-02T02:32:43.973255Z"
    }
   },
   "outputs": [],
   "source": [
    "import re, collections"
   ]
  },
  {
   "cell_type": "markdown",
   "source": [
    "# Basics of Byte Pair Encoding\n",
    "## https://arxiv.org/pdf/1508.07909.pdf"
   ],
   "metadata": {
    "collapsed": false
   },
   "id": "6646484211904070"
  },
  {
   "cell_type": "code",
   "execution_count": 2,
   "outputs": [],
   "source": [
    "epochs = 10\n",
    "\n",
    "# data\n",
    "dictionary = {'l o w </w>' : 5,\n",
    "              'l o w e r </w>' : 2,\n",
    "              'n e w e s t </w>':6,\n",
    "              'w i d e s t </w>':3\n",
    "              }"
   ],
   "metadata": {
    "collapsed": false,
    "ExecuteTime": {
     "end_time": "2023-12-02T02:32:46.322070Z",
     "start_time": "2023-12-02T02:32:46.319827Z"
    }
   },
   "id": "8236ed4b1d03ca06"
  },
  {
   "cell_type": "code",
   "execution_count": 3,
   "outputs": [
    {
     "name": "stdout",
     "output_type": "stream",
     "text": [
      "l o w </w>\n"
     ]
    }
   ],
   "source": [
    "# example \n",
    "pair = {'l','o'}\n",
    "bigram = re.escape(' '.join(pair)) # 'l\\ o'\n",
    "p = re.compile(r'(?<!\\S)' + bigram + r'(?!\\S)') # (?<!\\S)l\\ o(?!\\\\S)\n",
    "out = p.sub(repl=''.join(pair), string='l o w </w>') # l o w </w> -> low </w>\n",
    "\n",
    "print(out)"
   ],
   "metadata": {
    "collapsed": false,
    "ExecuteTime": {
     "end_time": "2023-12-02T02:32:46.813757Z",
     "start_time": "2023-12-02T02:32:46.807204Z"
    }
   },
   "id": "218bbac48d326aae"
  },
  {
   "cell_type": "code",
   "execution_count": 4,
   "outputs": [],
   "source": [
    "def get_stats(dict):\n",
    "    pairs = collections.defaultdict(int)\n",
    "    \n",
    "    for word, freq in dict.items():\n",
    "        symbols = word.split()\n",
    "        for i in range(len(symbols)-1):\n",
    "            pairs[symbols[i],symbols[i+1]] += freq\n",
    "            \n",
    "    return pairs\n",
    "            \n",
    "def merge_dict(pair, dict_in):\n",
    "    dict_out = {}\n",
    "    bigram = re.escape(' '.join(pair))\n",
    "    p = re.compile(r'(?<!\\S)' + bigram + r'(?!\\S)')\n",
    "    \n",
    "    for word in dict_in:\n",
    "        word_out = p.sub(repl=''.join(pair), string=word)\n",
    "        dict_out[word_out] = dict_in[word]\n",
    "        \n",
    "    return dict_out"
   ],
   "metadata": {
    "collapsed": false,
    "ExecuteTime": {
     "end_time": "2023-12-02T02:32:47.280682Z",
     "start_time": "2023-12-02T02:32:47.275583Z"
    }
   },
   "id": "682d0211d3cbd7af"
  },
  {
   "cell_type": "markdown",
   "source": [
    "#### collections.defaultdict(int)\n",
    " - acts like a regular dictionary but will automatically initialize non-existent keys with a default value of 0 upon first access.\n",
    "#### re.escape\n",
    " - escape special characters = using \\ to escape special characters.\n",
    "#### re.compile(r'(?<!\\S)' + bigram + r'(?!\\S)')\n",
    " - (?<!\\\\S)hello world(?!\\\\S) -> matches hello world, hello world!, hellohello world, but not helloworld.\n",
    "### re.sub(pattern, repl, string)\n",
    " - return the string obtained by replacing the leftmost non-overlapping occurrences of pattern in string by the replacement repl. If the pattern isn’t found, string is returned unchanged. "
   ],
   "metadata": {
    "collapsed": false
   },
   "id": "d4cce2ab648f8ffc"
  },
  {
   "cell_type": "code",
   "execution_count": 5,
   "outputs": [
    {
     "name": "stdout",
     "output_type": "stream",
     "text": [
      "Iter: 0\n",
      "Most frequent pair: ('e', 's')\n",
      "Dictionary: {'l o w </w>': 5, 'l o w e r </w>': 2, 'n e w es t </w>': 6, 'w i d es t </w>': 3}\n",
      "Iter: 1\n",
      "Most frequent pair: ('es', 't')\n",
      "Dictionary: {'l o w </w>': 5, 'l o w e r </w>': 2, 'n e w est </w>': 6, 'w i d est </w>': 3}\n",
      "Iter: 2\n",
      "Most frequent pair: ('est', '</w>')\n",
      "Dictionary: {'l o w </w>': 5, 'l o w e r </w>': 2, 'n e w est</w>': 6, 'w i d est</w>': 3}\n",
      "Iter: 3\n",
      "Most frequent pair: ('l', 'o')\n",
      "Dictionary: {'lo w </w>': 5, 'lo w e r </w>': 2, 'n e w est</w>': 6, 'w i d est</w>': 3}\n",
      "Iter: 4\n",
      "Most frequent pair: ('lo', 'w')\n",
      "Dictionary: {'low </w>': 5, 'low e r </w>': 2, 'n e w est</w>': 6, 'w i d est</w>': 3}\n",
      "Iter: 5\n",
      "Most frequent pair: ('n', 'e')\n",
      "Dictionary: {'low </w>': 5, 'low e r </w>': 2, 'ne w est</w>': 6, 'w i d est</w>': 3}\n",
      "Iter: 6\n",
      "Most frequent pair: ('ne', 'w')\n",
      "Dictionary: {'low </w>': 5, 'low e r </w>': 2, 'new est</w>': 6, 'w i d est</w>': 3}\n",
      "Iter: 7\n",
      "Most frequent pair: ('new', 'est</w>')\n",
      "Dictionary: {'low </w>': 5, 'low e r </w>': 2, 'newest</w>': 6, 'w i d est</w>': 3}\n",
      "Iter: 8\n",
      "Most frequent pair: ('low', '</w>')\n",
      "Dictionary: {'low</w>': 5, 'low e r </w>': 2, 'newest</w>': 6, 'w i d est</w>': 3}\n",
      "Iter: 9\n",
      "Most frequent pair: ('w', 'i')\n",
      "Dictionary: {'low</w>': 5, 'low e r </w>': 2, 'newest</w>': 6, 'wi d est</w>': 3}\n"
     ]
    }
   ],
   "source": [
    "bpe_codes = {}\n",
    "bpe_codes_reverse = {}\n",
    "\n",
    "for i in range(epochs):\n",
    "    pairs = get_stats(dictionary)\n",
    "    most_freq = max(pairs, key=pairs.get)\n",
    "    dictionary = merge_dict(most_freq, dictionary)\n",
    "    \n",
    "    bpe_codes[most_freq] = i\n",
    "    bpe_codes_reverse[most_freq[0] + most_freq[1]] = most_freq\n",
    "    \n",
    "    print('Iter: {}'.format(i))\n",
    "    print('Most frequent pair: {}'.format(most_freq))\n",
    "    print('Dictionary: {}'.format(dictionary))"
   ],
   "metadata": {
    "collapsed": false,
    "ExecuteTime": {
     "end_time": "2023-12-02T02:32:48.475917Z",
     "start_time": "2023-12-02T02:32:48.470177Z"
    }
   },
   "id": "7d930c22da13252b"
  },
  {
   "cell_type": "markdown",
   "source": [
    "#### key=pairs.get\n",
    " - specifies how to compute the 'value' for each element in the iterable for comparison purposes. \n",
    " - pairs.get is a method that, when called with a key, returns the value associated with that key in the pairs dictionary.\n",
    " - By passing pairs.get as the key function, you're telling max() to find the key in pairs whose associated value is the highest."
   ],
   "metadata": {
    "collapsed": false
   },
   "id": "3ffc6531491aa42a"
  },
  {
   "cell_type": "code",
   "execution_count": 6,
   "outputs": [
    {
     "name": "stdout",
     "output_type": "stream",
     "text": [
      "{('e', 's'): 0, ('es', 't'): 1, ('est', '</w>'): 2, ('l', 'o'): 3, ('lo', 'w'): 4, ('n', 'e'): 5, ('ne', 'w'): 6, ('new', 'est</w>'): 7, ('low', '</w>'): 8, ('w', 'i'): 9}\n",
      "{'es': ('e', 's'), 'est': ('es', 't'), 'est</w>': ('est', '</w>'), 'lo': ('l', 'o'), 'low': ('lo', 'w'), 'ne': ('n', 'e'), 'new': ('ne', 'w'), 'newest</w>': ('new', 'est</w>'), 'low</w>': ('low', '</w>'), 'wi': ('w', 'i')}\n"
     ]
    }
   ],
   "source": [
    "print(bpe_codes) # key: pair, value: iteration : record the order of merging\n",
    "print(bpe_codes_reverse)"
   ],
   "metadata": {
    "collapsed": false,
    "ExecuteTime": {
     "end_time": "2023-12-02T02:32:50.259072Z",
     "start_time": "2023-12-02T02:32:50.255983Z"
    }
   },
   "id": "d227bd0faba42419"
  },
  {
   "cell_type": "markdown",
   "source": [
    "# Handling OOV"
   ],
   "metadata": {
    "collapsed": false
   },
   "id": "7d97218c225bf632"
  },
  {
   "cell_type": "code",
   "execution_count": 14,
   "outputs": [],
   "source": [
    "def get_pairs(word):\n",
    "    \"\"\"Return set of symbol pairs in a word.\n",
    "    Word is represented as a tuple of symbols (symbols being variable-length strings).\n",
    "    \"\"\"\n",
    "    pairs = set()\n",
    "    prev_char = word[0]\n",
    "    for char in word[1:]:\n",
    "        pairs.add((prev_char, char))\n",
    "        prev_char = char\n",
    "    return pairs\n",
    "\n",
    "\n",
    "def encode(orig):\n",
    "    \"\"\"Encode word based on list of BPE merge operations, which are applied consecutively\"\"\"\n",
    "\n",
    "    word = tuple(orig) + ('</w>',)\n",
    "    print(word)\n",
    "    pairs = get_pairs(word)\n",
    "\n",
    "    if not pairs:\n",
    "        return orig\n",
    "\n",
    "    iteration = 0\n",
    "    while True:\n",
    "        iteration += 1\n",
    "        print(\"Iteration {}\".format(iteration))\n",
    "\n",
    "        print(\"bigrams in the word: {}\".format(pairs))\n",
    "        bigram = min(pairs, key = lambda pair: bpe_codes.get(pair, float('inf')))\n",
    "        print(\"candidate for merging: {}\".format(bigram))\n",
    "        if bigram not in bpe_codes:\n",
    "            print(\"Candidate not in BPE merges, algorithm stops.\")\n",
    "            break\n",
    "        first, second = bigram\n",
    "        new_word = []\n",
    "        i = 0\n",
    "        while i < len(word):\n",
    "            print(\"in\")\n",
    "            try:\n",
    "                j = word.index(first, i)\n",
    "                new_word.extend(word[i:j])\n",
    "                print(j)\n",
    "                print(new_word)\n",
    "                i = j\n",
    "            except:\n",
    "                new_word.extend(word[i:])\n",
    "                print(\"except\")\n",
    "                print(i)\n",
    "                print(word[i:])\n",
    "                print(new_word)\n",
    "                break\n",
    "\n",
    "            if word[i] == first and i < len(word)-1 and word[i+1] == second:\n",
    "                print(\"a\")\n",
    "                new_word.append(first+second)\n",
    "                i += 2\n",
    "            else:\n",
    "                print(\"b\")\n",
    "                new_word.append(word[i])\n",
    "                i += 1\n",
    "        new_word = tuple(new_word)\n",
    "        word = new_word\n",
    "        print(\"word after merging: {}\".format(word))\n",
    "        if len(word) == 1:\n",
    "            break\n",
    "        else:\n",
    "            pairs = get_pairs(word)\n",
    "\n",
    "    # 특별 토큰인 </w>는 출력하지 않는다.\n",
    "    if word[-1] == '</w>':\n",
    "        word = word[:-1]\n",
    "    elif word[-1].endswith('</w>'):\n",
    "        word = word[:-1] + (word[-1].replace('</w>',''),)\n",
    "\n",
    "    return word"
   ],
   "metadata": {
    "collapsed": false,
    "ExecuteTime": {
     "end_time": "2023-12-02T02:50:27.521858Z",
     "start_time": "2023-12-02T02:50:27.518210Z"
    }
   },
   "id": "af51624ca3aa964b"
  },
  {
   "cell_type": "code",
   "execution_count": 15,
   "outputs": [
    {
     "name": "stdout",
     "output_type": "stream",
     "text": [
      "('l', 'o', 'w', 'e', 's', 't', '</w>')\n",
      "Iteration 1\n",
      "bigrams in the word: {('o', 'w'), ('t', '</w>'), ('l', 'o'), ('e', 's'), ('w', 'e'), ('s', 't')}\n",
      "candidate for merging: ('e', 's')\n",
      "in\n",
      "3\n",
      "['l', 'o', 'w']\n",
      "a\n",
      "in\n",
      "except\n",
      "5\n",
      "('t', '</w>')\n",
      "['l', 'o', 'w', 'es', 't', '</w>']\n",
      "word after merging: ('l', 'o', 'w', 'es', 't', '</w>')\n",
      "Iteration 2\n",
      "bigrams in the word: {('o', 'w'), ('t', '</w>'), ('w', 'es'), ('es', 't'), ('l', 'o')}\n",
      "candidate for merging: ('es', 't')\n",
      "in\n",
      "3\n",
      "['l', 'o', 'w']\n",
      "a\n",
      "in\n",
      "except\n",
      "5\n",
      "('</w>',)\n",
      "['l', 'o', 'w', 'est', '</w>']\n",
      "word after merging: ('l', 'o', 'w', 'est', '</w>')\n",
      "Iteration 3\n",
      "bigrams in the word: {('o', 'w'), ('est', '</w>'), ('l', 'o'), ('w', 'est')}\n",
      "candidate for merging: ('est', '</w>')\n",
      "in\n",
      "3\n",
      "['l', 'o', 'w']\n",
      "a\n",
      "word after merging: ('l', 'o', 'w', 'est</w>')\n",
      "Iteration 4\n",
      "bigrams in the word: {('o', 'w'), ('l', 'o'), ('w', 'est</w>')}\n",
      "candidate for merging: ('l', 'o')\n",
      "in\n",
      "0\n",
      "[]\n",
      "a\n",
      "in\n",
      "except\n",
      "2\n",
      "('w', 'est</w>')\n",
      "['lo', 'w', 'est</w>']\n",
      "word after merging: ('lo', 'w', 'est</w>')\n",
      "Iteration 5\n",
      "bigrams in the word: {('w', 'est</w>'), ('lo', 'w')}\n",
      "candidate for merging: ('lo', 'w')\n",
      "in\n",
      "0\n",
      "[]\n",
      "a\n",
      "in\n",
      "except\n",
      "2\n",
      "('est</w>',)\n",
      "['low', 'est</w>']\n",
      "word after merging: ('low', 'est</w>')\n",
      "Iteration 6\n",
      "bigrams in the word: {('low', 'est</w>')}\n",
      "candidate for merging: ('low', 'est</w>')\n",
      "Candidate not in BPE merges, algorithm stops.\n"
     ]
    },
    {
     "data": {
      "text/plain": "('low', 'est')"
     },
     "execution_count": 15,
     "metadata": {},
     "output_type": "execute_result"
    }
   ],
   "source": [
    "encode(\"lowest\")"
   ],
   "metadata": {
    "collapsed": false,
    "ExecuteTime": {
     "end_time": "2023-12-02T02:50:28.410854Z",
     "start_time": "2023-12-02T02:50:28.404591Z"
    }
   },
   "id": "91e4174bf5edd766"
  },
  {
   "cell_type": "code",
   "execution_count": null,
   "outputs": [],
   "source": [],
   "metadata": {
    "collapsed": false
   },
   "id": "b1e429446caab2a0"
  }
 ],
 "metadata": {
  "kernelspec": {
   "display_name": "Python 3",
   "language": "python",
   "name": "python3"
  },
  "language_info": {
   "codemirror_mode": {
    "name": "ipython",
    "version": 2
   },
   "file_extension": ".py",
   "mimetype": "text/x-python",
   "name": "python",
   "nbconvert_exporter": "python",
   "pygments_lexer": "ipython2",
   "version": "2.7.6"
  }
 },
 "nbformat": 4,
 "nbformat_minor": 5
}
