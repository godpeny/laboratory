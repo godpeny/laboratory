{
 "cells": [
  {
   "cell_type": "code",
   "execution_count": 1,
   "id": "initial_id",
   "metadata": {
    "collapsed": true,
    "ExecuteTime": {
     "end_time": "2023-11-27T11:40:10.636246Z",
     "start_time": "2023-11-27T11:40:10.631384Z"
    }
   },
   "outputs": [],
   "source": [
    "import re, collections"
   ]
  },
  {
   "cell_type": "markdown",
   "source": [
    "# Basics of Byte Pair Encoding\n",
    "## https://arxiv.org/pdf/1508.07909.pdf"
   ],
   "metadata": {
    "collapsed": false
   },
   "id": "6646484211904070"
  },
  {
   "cell_type": "code",
   "execution_count": 17,
   "outputs": [],
   "source": [
    "epochs = 10\n",
    "\n",
    "# data\n",
    "dictionary = {'l o w </w>' : 5,\n",
    "              'l o w e r </w>' : 2,\n",
    "              'n e w e s t </w>':6,\n",
    "              'w i d e s t </w>':3\n",
    "              }"
   ],
   "metadata": {
    "collapsed": false,
    "ExecuteTime": {
     "end_time": "2023-11-27T13:44:50.630326Z",
     "start_time": "2023-11-27T13:44:50.622934Z"
    }
   },
   "id": "8236ed4b1d03ca06"
  },
  {
   "cell_type": "code",
   "execution_count": 18,
   "outputs": [
    {
     "name": "stdout",
     "output_type": "stream",
     "text": [
      "lo w </w>\n"
     ]
    }
   ],
   "source": [
    "# example \n",
    "pair = {'l','o'}\n",
    "bigram = re.escape(' '.join(pair)) # 'l\\ o'\n",
    "p = re.compile(r'(?<!\\S)' + bigram + r'(?!\\S)') # (?<!\\S)l\\ o(?!\\\\S)\n",
    "out = p.sub(repl=''.join(pair), string='l o w </w>') # l o w </w> -> low </w>\n",
    "\n",
    "print(out)"
   ],
   "metadata": {
    "collapsed": false,
    "ExecuteTime": {
     "end_time": "2023-11-27T13:44:51.297315Z",
     "start_time": "2023-11-27T13:44:51.294675Z"
    }
   },
   "id": "218bbac48d326aae"
  },
  {
   "cell_type": "code",
   "execution_count": 19,
   "outputs": [],
   "source": [
    "def get_stats(dict):\n",
    "    pairs = collections.defaultdict(int)\n",
    "    \n",
    "    for word, freq in dict.items():\n",
    "        symbols = word.split()\n",
    "        for i in range(len(symbols)-1):\n",
    "            pairs[symbols[i],symbols[i+1]] += freq\n",
    "            \n",
    "    return pairs\n",
    "            \n",
    "def merge_dict(pair, dict_in):\n",
    "    dict_out = {}\n",
    "    bigram = re.escape(' '.join(pair))\n",
    "    p = re.compile(r'(?<!\\S)' + bigram + r'(?!\\S)')\n",
    "    \n",
    "    for word in dict_in:\n",
    "        word_out = p.sub(repl=''.join(pair), string=word)\n",
    "        dict_out[word_out] = dict_in[word]\n",
    "        \n",
    "    return dict_out"
   ],
   "metadata": {
    "collapsed": false,
    "ExecuteTime": {
     "end_time": "2023-11-27T13:44:51.902420Z",
     "start_time": "2023-11-27T13:44:51.898475Z"
    }
   },
   "id": "682d0211d3cbd7af"
  },
  {
   "cell_type": "markdown",
   "source": [
    "#### collections.defaultdict(int)\n",
    " - acts like a regular dictionary but will automatically initialize non-existent keys with a default value of 0 upon first access.\n",
    "#### re.escape\n",
    " - escape special characters = using \\ to escape special characters.\n",
    "#### re.compile(r'(?<!\\S)' + bigram + r'(?!\\S)')\n",
    " - (?<!\\\\S)hello world(?!\\\\S) -> matches hello world, hello world!, hellohello world, but not helloworld.\n",
    "### re.sub(pattern, repl, string)\n",
    " - return the string obtained by replacing the leftmost non-overlapping occurrences of pattern in string by the replacement repl. If the pattern isn’t found, string is returned unchanged. "
   ],
   "metadata": {
    "collapsed": false
   },
   "id": "d4cce2ab648f8ffc"
  },
  {
   "cell_type": "code",
   "execution_count": 20,
   "outputs": [
    {
     "name": "stdout",
     "output_type": "stream",
     "text": [
      "Iter: 0\n",
      "Most frequent pair: ('e', 's')\n",
      "Dictionary: {'l o w </w>': 5, 'l o w e r </w>': 2, 'n e w es t </w>': 6, 'w i d es t </w>': 3}\n",
      "Iter: 1\n",
      "Most frequent pair: ('es', 't')\n",
      "Dictionary: {'l o w </w>': 5, 'l o w e r </w>': 2, 'n e w est </w>': 6, 'w i d est </w>': 3}\n",
      "Iter: 2\n",
      "Most frequent pair: ('est', '</w>')\n",
      "Dictionary: {'l o w </w>': 5, 'l o w e r </w>': 2, 'n e w est</w>': 6, 'w i d est</w>': 3}\n",
      "Iter: 3\n",
      "Most frequent pair: ('l', 'o')\n",
      "Dictionary: {'lo w </w>': 5, 'lo w e r </w>': 2, 'n e w est</w>': 6, 'w i d est</w>': 3}\n",
      "Iter: 4\n",
      "Most frequent pair: ('lo', 'w')\n",
      "Dictionary: {'low </w>': 5, 'low e r </w>': 2, 'n e w est</w>': 6, 'w i d est</w>': 3}\n",
      "Iter: 5\n",
      "Most frequent pair: ('n', 'e')\n",
      "Dictionary: {'low </w>': 5, 'low e r </w>': 2, 'ne w est</w>': 6, 'w i d est</w>': 3}\n",
      "Iter: 6\n",
      "Most frequent pair: ('ne', 'w')\n",
      "Dictionary: {'low </w>': 5, 'low e r </w>': 2, 'new est</w>': 6, 'w i d est</w>': 3}\n",
      "Iter: 7\n",
      "Most frequent pair: ('new', 'est</w>')\n",
      "Dictionary: {'low </w>': 5, 'low e r </w>': 2, 'newest</w>': 6, 'w i d est</w>': 3}\n",
      "Iter: 8\n",
      "Most frequent pair: ('low', '</w>')\n",
      "Dictionary: {'low</w>': 5, 'low e r </w>': 2, 'newest</w>': 6, 'w i d est</w>': 3}\n",
      "Iter: 9\n",
      "Most frequent pair: ('w', 'i')\n",
      "Dictionary: {'low</w>': 5, 'low e r </w>': 2, 'newest</w>': 6, 'wi d est</w>': 3}\n"
     ]
    }
   ],
   "source": [
    "bpe_codes = {}\n",
    "bpe_codes_reverse = {}\n",
    "\n",
    "for i in range(epochs):\n",
    "    pairs = get_stats(dictionary)\n",
    "    most_freq = max(pairs, key=pairs.get)\n",
    "    dictionary = merge_dict(most_freq, dictionary)\n",
    "    \n",
    "    bpe_codes[most_freq] = i\n",
    "    bpe_codes_reverse[most_freq[0] + most_freq[1]] = most_freq\n",
    "    \n",
    "    print('Iter: {}'.format(i))\n",
    "    print('Most frequent pair: {}'.format(most_freq))\n",
    "    print('Dictionary: {}'.format(dictionary))"
   ],
   "metadata": {
    "collapsed": false,
    "ExecuteTime": {
     "end_time": "2023-11-27T13:44:53.415562Z",
     "start_time": "2023-11-27T13:44:53.409723Z"
    }
   },
   "id": "7d930c22da13252b"
  },
  {
   "cell_type": "markdown",
   "source": [
    "#### key=pairs.get\n",
    " - specifies how to compute the 'value' for each element in the iterable for comparison purposes. \n",
    " - pairs.get is a method that, when called with a key, returns the value associated with that key in the pairs dictionary.\n",
    " - By passing pairs.get as the key function, you're telling max() to find the key in pairs whose associated value is the highest."
   ],
   "metadata": {
    "collapsed": false
   },
   "id": "3ffc6531491aa42a"
  },
  {
   "cell_type": "code",
   "execution_count": 23,
   "outputs": [
    {
     "name": "stdout",
     "output_type": "stream",
     "text": [
      "{('e', 's'): 0, ('es', 't'): 1, ('est', '</w>'): 2, ('l', 'o'): 3, ('lo', 'w'): 4, ('n', 'e'): 5, ('ne', 'w'): 6, ('new', 'est</w>'): 7, ('low', '</w>'): 8, ('w', 'i'): 9}\n",
      "{'es': ('e', 's'), 'est': ('es', 't'), 'est</w>': ('est', '</w>'), 'lo': ('l', 'o'), 'low': ('lo', 'w'), 'ne': ('n', 'e'), 'new': ('ne', 'w'), 'newest</w>': ('new', 'est</w>'), 'low</w>': ('low', '</w>'), 'wi': ('w', 'i')}\n"
     ]
    }
   ],
   "source": [
    "print(bpe_codes)\n",
    "print(bpe_codes_reverse)\n"
   ],
   "metadata": {
    "collapsed": false,
    "ExecuteTime": {
     "end_time": "2023-11-27T13:46:40.055967Z",
     "start_time": "2023-11-27T13:46:40.053487Z"
    }
   },
   "id": "d227bd0faba42419"
  },
  {
   "cell_type": "code",
   "execution_count": null,
   "outputs": [],
   "source": [],
   "metadata": {
    "collapsed": false
   },
   "id": "dc5d9977cd00a5"
  }
 ],
 "metadata": {
  "kernelspec": {
   "display_name": "Python 3",
   "language": "python",
   "name": "python3"
  },
  "language_info": {
   "codemirror_mode": {
    "name": "ipython",
    "version": 2
   },
   "file_extension": ".py",
   "mimetype": "text/x-python",
   "name": "python",
   "nbconvert_exporter": "python",
   "pygments_lexer": "ipython2",
   "version": "2.7.6"
  }
 },
 "nbformat": 4,
 "nbformat_minor": 5
}
