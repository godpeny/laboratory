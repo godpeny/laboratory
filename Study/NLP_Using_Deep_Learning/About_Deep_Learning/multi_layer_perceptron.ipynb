{
 "cells": [
  {
   "cell_type": "code",
   "execution_count": 1,
   "id": "initial_id",
   "metadata": {
    "collapsed": true,
    "ExecuteTime": {
     "end_time": "2023-10-08T05:59:54.021101Z",
     "start_time": "2023-10-08T05:59:51.734049Z"
    }
   },
   "outputs": [],
   "source": [
    "import pandas as pd\n",
    "import numpy as np\n",
    "\n",
    "import tensorflow as tf\n",
    "import keras\n",
    "\n",
    "from keras.utils import to_categorical\n",
    "from keras.preprocessing.text import Tokenizer\n",
    "from keras.models import Model,Sequential\n",
    "from keras.layers import Input, Dense, Dropout\n",
    "\n",
    "from sklearn.datasets import fetch_20newsgroups\n",
    "import matplotlib.pyplot as plt"
   ]
  },
  {
   "cell_type": "code",
   "execution_count": 2,
   "outputs": [
    {
     "name": "stdout",
     "output_type": "stream",
     "text": [
      "dict_keys(['data', 'filenames', 'target_names', 'target', 'DESCR'])\n"
     ]
    }
   ],
   "source": [
    "# load data sets\n",
    "train_data = fetch_20newsgroups(subset='train')\n",
    "test_data = fetch_20newsgroups(subset='test')\n",
    "\n",
    "print(train_data.keys())"
   ],
   "metadata": {
    "collapsed": false,
    "ExecuteTime": {
     "end_time": "2023-10-08T05:59:54.176251Z",
     "start_time": "2023-10-08T05:59:54.022537Z"
    }
   },
   "id": "af160408feec225b"
  },
  {
   "cell_type": "code",
   "execution_count": 3,
   "outputs": [
    {
     "name": "stdout",
     "output_type": "stream",
     "text": [
      "                                                text  target\n",
      "0  From: lerxst@wam.umd.edu (where's my thing)\\nS...       7\n",
      "1  From: guykuo@carson.u.washington.edu (Guy Kuo)...       4\n",
      "2  From: twillis@ec.ecn.purdue.edu (Thomas E Will...       4\n",
      "3  From: jgreen@amber (Joe Green)\\nSubject: Re: W...       1\n",
      "4  From: jcm@head-cfa.harvard.edu (Jonathan McDow...      14\n",
      "<class 'pandas.core.frame.DataFrame'>\n",
      "RangeIndex: 11314 entries, 0 to 11313\n",
      "Data columns (total 2 columns):\n",
      " #   Column  Non-Null Count  Dtype \n",
      "---  ------  --------------  ----- \n",
      " 0   text    11314 non-null  object\n",
      " 1   target  11314 non-null  int64 \n",
      "dtypes: int64(1), object(1)\n",
      "memory usage: 176.9+ KB\n",
      "None\n"
     ]
    },
    {
     "data": {
      "text/plain": "text      11314\ntarget       20\ndtype: int64"
     },
     "execution_count": 3,
     "metadata": {},
     "output_type": "execute_result"
    }
   ],
   "source": [
    "# data preprocessing\n",
    "df = pd.DataFrame(train_data.data, columns=['text'])\n",
    "df['target'] = pd.Series(train_data.target)\n",
    "\n",
    "df_test = pd.DataFrame(test_data.data, columns=['text'])\n",
    "df_test['target'] = pd.Series(test_data.target)\n",
    "\n",
    "print(df.head(5))\n",
    "print(df.info())\n",
    "\n",
    "# check null\n",
    "df.isnull().sum()\n",
    "\n",
    "# check unique\n",
    "df.nunique()"
   ],
   "metadata": {
    "collapsed": false,
    "ExecuteTime": {
     "end_time": "2023-10-08T05:59:54.247267Z",
     "start_time": "2023-10-08T05:59:54.176086Z"
    }
   },
   "id": "5bf07063f4e920ba"
  },
  {
   "cell_type": "code",
   "execution_count": 4,
   "outputs": [
    {
     "name": "stdout",
     "output_type": "stream",
     "text": [
      "    target  count\n",
      "0        0    480\n",
      "1        1    584\n",
      "2        2    591\n",
      "3        3    590\n",
      "4        4    578\n",
      "5        5    593\n",
      "6        6    585\n",
      "7        7    594\n",
      "8        8    598\n",
      "9        9    597\n",
      "10      10    600\n",
      "11      11    595\n",
      "12      12    591\n",
      "13      13    594\n",
      "14      14    593\n",
      "15      15    599\n",
      "16      16    546\n",
      "17      17    564\n",
      "18      18    465\n",
      "19      19    377\n"
     ]
    },
    {
     "data": {
      "text/plain": "<Figure size 640x480 with 1 Axes>",
      "image/png": "[encoded data removed]"
     },
     "metadata": {},
     "output_type": "display_data"
    }
   ],
   "source": [
    "# check data distribution\n",
    "df['target'].value_counts().plot(kind='bar')\n",
    "print(df.groupby('target').size().reset_index(name='count'))"
   ],
   "metadata": {
    "collapsed": false,
    "ExecuteTime": {
     "end_time": "2023-10-08T05:59:54.420877Z",
     "start_time": "2023-10-08T05:59:54.244769Z"
    }
   },
   "id": "e7045821e8cd108f"
  },
  {
   "cell_type": "code",
   "execution_count": 5,
   "outputs": [],
   "source": [
    "def tokenize(train_data, test_data, mode, num=10000):\n",
    "    \"\"\"\n",
    "    tokenize data and return matrix\n",
    "    \n",
    "    if train and test data are tokenized separately,\n",
    "    the number of words in train and test data will be different.\n",
    "\n",
    "    \"\"\"\n",
    "    tokenizer = Tokenizer(num_words=num) # num_words: max number of words to keep based on frequency\n",
    "    tokenizer.fit_on_texts(train_data) # map words to integers\n",
    "    train_matrix = tokenizer.texts_to_matrix(train_data, mode=mode)\n",
    "    test_matrix = tokenizer.texts_to_matrix(test_data, mode=mode)\n",
    "    return train_matrix, test_matrix, tokenizer.index_word"
   ],
   "metadata": {
    "collapsed": false,
    "ExecuteTime": {
     "end_time": "2023-10-08T05:59:54.421347Z",
     "start_time": "2023-10-08T05:59:54.412435Z"
    }
   },
   "id": "efc2a5fe20a2eaeb"
  },
  {
   "cell_type": "code",
   "execution_count": 6,
   "outputs": [
    {
     "name": "stdout",
     "output_type": "stream",
     "text": [
      "(11314, 10000) (11314, 20)\n",
      "(7532, 10000) (7532, 20)\n",
      "[0. 1. 1. ... 0. 0. 0.]\n",
      "the\n"
     ]
    }
   ],
   "source": [
    "X_train, X_test, index_word = tokenize(df['text'], df_test['text'], mode='binary')\n",
    "\n",
    "y_train = to_categorical(df['target'])\n",
    "y_test = to_categorical(df_test['target'])\n",
    "\n",
    "print(X_train.shape, y_train.shape)\n",
    "print(X_test.shape, y_test.shape)\n",
    "\n",
    "print(X_train[0])\n",
    "print(index_word[1]) # most frequent word (0 is reserved for padding)"
   ],
   "metadata": {
    "collapsed": false,
    "ExecuteTime": {
     "end_time": "2023-10-08T05:59:57.628027Z",
     "start_time": "2023-10-08T05:59:54.418708Z"
    }
   },
   "id": "e6ebbafbb4c895b3"
  },
  {
   "cell_type": "code",
   "execution_count": 7,
   "outputs": [],
   "source": [
    "# modeling with multi-layer perceptron (MLP)\n",
    "def model():\n",
    "    model = Sequential()\n",
    "    model.add(Dense(512, input_dim=X_train.shape[1], activation='relu')) # 10000 -> 512\n",
    "    model.add(Dropout(0.5))\n",
    "    model.add(Dense(128, activation='relu')) # 512 -> 128\n",
    "    model.add(Dropout(0.5))\n",
    "    model.add(Dense(y_train.shape[1], activation='softmax')) # 128 -> 20\n",
    "    model.summary()\n",
    "    \n",
    "    return model\n",
    "\n",
    "def train(model, X_train, X_test, y_train, y_test):\n",
    "    m = model()\n",
    "    m.compile(loss='categorical_crossentropy', optimizer='adam', metrics=['accuracy'])\n",
    "    m.fit(X_train, y_train, epochs=5, batch_size=128, validation_split=0.1)\n",
    "    score = m.evaluate(X_test, y_test, batch_size=128, verbose=0)\n",
    "    return score"
   ],
   "metadata": {
    "collapsed": false,
    "ExecuteTime": {
     "end_time": "2023-10-08T05:59:57.628175Z",
     "start_time": "2023-10-08T05:59:57.625937Z"
    }
   },
   "id": "febecca2820bca07"
  },
  {
   "cell_type": "code",
   "execution_count": 8,
   "outputs": [
    {
     "name": "stdout",
     "output_type": "stream",
     "text": [
      "Model: \"sequential\"\n",
      "_________________________________________________________________\n",
      " Layer (type)                Output Shape              Param #   \n",
      "=================================================================\n",
      " dense (Dense)               (None, 512)               5120512   \n",
      "                                                                 \n",
      " dropout (Dropout)           (None, 512)               0         \n",
      "                                                                 \n",
      " dense_1 (Dense)             (None, 128)               65664     \n",
      "                                                                 \n",
      " dropout_1 (Dropout)         (None, 128)               0         \n",
      "                                                                 \n",
      " dense_2 (Dense)             (None, 20)                2580      \n",
      "                                                                 \n",
      "=================================================================\n",
      "Total params: 5188756 (19.79 MB)\n",
      "Trainable params: 5188756 (19.79 MB)\n",
      "Non-trainable params: 0 (0.00 Byte)\n",
      "_________________________________________________________________\n",
      "Epoch 1/5\n",
      "80/80 [==============================] - 1s 12ms/step - loss: 2.0045 - accuracy: 0.4278 - val_loss: 0.7019 - val_accuracy: 0.8472\n",
      "Epoch 2/5\n",
      "80/80 [==============================] - 1s 12ms/step - loss: 0.6307 - accuracy: 0.8319 - val_loss: 0.3964 - val_accuracy: 0.8922\n",
      "Epoch 3/5\n",
      "80/80 [==============================] - 1s 12ms/step - loss: 0.2964 - accuracy: 0.9268 - val_loss: 0.3220 - val_accuracy: 0.9019\n",
      "Epoch 4/5\n",
      "80/80 [==============================] - 1s 12ms/step - loss: 0.1664 - accuracy: 0.9586 - val_loss: 0.3005 - val_accuracy: 0.9081\n",
      "Epoch 5/5\n",
      "80/80 [==============================] - 1s 12ms/step - loss: 0.1006 - accuracy: 0.9779 - val_loss: 0.2963 - val_accuracy: 0.9143\n",
      "[0.6740244030952454, 0.8267392516136169]\n",
      "mode: binary, accuracy: 0.8267392516136169\n",
      "Model: \"sequential_1\"\n",
      "_________________________________________________________________\n",
      " Layer (type)                Output Shape              Param #   \n",
      "=================================================================\n",
      " dense_3 (Dense)             (None, 512)               5120512   \n",
      "                                                                 \n",
      " dropout_2 (Dropout)         (None, 512)               0         \n",
      "                                                                 \n",
      " dense_4 (Dense)             (None, 128)               65664     \n",
      "                                                                 \n",
      " dropout_3 (Dropout)         (None, 128)               0         \n",
      "                                                                 \n",
      " dense_5 (Dense)             (None, 20)                2580      \n",
      "                                                                 \n",
      "=================================================================\n",
      "Total params: 5188756 (19.79 MB)\n",
      "Trainable params: 5188756 (19.79 MB)\n",
      "Non-trainable params: 0 (0.00 Byte)\n",
      "_________________________________________________________________\n",
      "Epoch 1/5\n",
      "80/80 [==============================] - 1s 13ms/step - loss: 2.5441 - accuracy: 0.3192 - val_loss: 1.1288 - val_accuracy: 0.7845\n",
      "Epoch 2/5\n",
      "80/80 [==============================] - 1s 12ms/step - loss: 1.0960 - accuracy: 0.7254 - val_loss: 0.5809 - val_accuracy: 0.8710\n",
      "Epoch 3/5\n",
      "80/80 [==============================] - 1s 12ms/step - loss: 0.6014 - accuracy: 0.8565 - val_loss: 0.4659 - val_accuracy: 0.8825\n",
      "Epoch 4/5\n",
      "80/80 [==============================] - 1s 13ms/step - loss: 0.3861 - accuracy: 0.9194 - val_loss: 0.4147 - val_accuracy: 0.9002\n",
      "Epoch 5/5\n",
      "80/80 [==============================] - 1s 13ms/step - loss: 0.2678 - accuracy: 0.9476 - val_loss: 0.4217 - val_accuracy: 0.8905\n",
      "[0.9212808609008789, 0.8153212666511536]\n",
      "mode: count, accuracy: 0.8153212666511536\n",
      "Model: \"sequential_2\"\n",
      "_________________________________________________________________\n",
      " Layer (type)                Output Shape              Param #   \n",
      "=================================================================\n",
      " dense_6 (Dense)             (None, 512)               5120512   \n",
      "                                                                 \n",
      " dropout_4 (Dropout)         (None, 512)               0         \n",
      "                                                                 \n",
      " dense_7 (Dense)             (None, 128)               65664     \n",
      "                                                                 \n",
      " dropout_5 (Dropout)         (None, 128)               0         \n",
      "                                                                 \n",
      " dense_8 (Dense)             (None, 20)                2580      \n",
      "                                                                 \n",
      "=================================================================\n",
      "Total params: 5188756 (19.79 MB)\n",
      "Trainable params: 5188756 (19.79 MB)\n",
      "Non-trainable params: 0 (0.00 Byte)\n",
      "_________________________________________________________________\n",
      "Epoch 1/5\n",
      "80/80 [==============================] - 1s 12ms/step - loss: 1.9397 - accuracy: 0.4520 - val_loss: 0.5731 - val_accuracy: 0.8746\n",
      "Epoch 2/5\n",
      "80/80 [==============================] - 1s 12ms/step - loss: 0.6479 - accuracy: 0.8374 - val_loss: 0.3601 - val_accuracy: 0.8949\n",
      "Epoch 3/5\n",
      "80/80 [==============================] - 1s 12ms/step - loss: 0.3076 - accuracy: 0.9216 - val_loss: 0.3177 - val_accuracy: 0.9196\n",
      "Epoch 4/5\n",
      "80/80 [==============================] - 1s 12ms/step - loss: 0.2211 - accuracy: 0.9540 - val_loss: 0.3110 - val_accuracy: 0.9143\n",
      "Epoch 5/5\n",
      "80/80 [==============================] - 1s 12ms/step - loss: 0.1551 - accuracy: 0.9693 - val_loss: 0.3381 - val_accuracy: 0.9081\n",
      "[0.9156962037086487, 0.8243494629859924]\n",
      "mode: tfidf, accuracy: 0.8243494629859924\n",
      "Model: \"sequential_3\"\n",
      "_________________________________________________________________\n",
      " Layer (type)                Output Shape              Param #   \n",
      "=================================================================\n",
      " dense_9 (Dense)             (None, 512)               5120512   \n",
      "                                                                 \n",
      " dropout_6 (Dropout)         (None, 512)               0         \n",
      "                                                                 \n",
      " dense_10 (Dense)            (None, 128)               65664     \n",
      "                                                                 \n",
      " dropout_7 (Dropout)         (None, 128)               0         \n",
      "                                                                 \n",
      " dense_11 (Dense)            (None, 20)                2580      \n",
      "                                                                 \n",
      "=================================================================\n",
      "Total params: 5188756 (19.79 MB)\n",
      "Trainable params: 5188756 (19.79 MB)\n",
      "Non-trainable params: 0 (0.00 Byte)\n",
      "_________________________________________________________________\n",
      "Epoch 1/5\n",
      "80/80 [==============================] - 1s 12ms/step - loss: 2.9652 - accuracy: 0.1064 - val_loss: 2.8756 - val_accuracy: 0.2394\n",
      "Epoch 2/5\n",
      "80/80 [==============================] - 1s 12ms/step - loss: 2.5612 - accuracy: 0.2688 - val_loss: 2.1287 - val_accuracy: 0.5044\n",
      "Epoch 3/5\n",
      "80/80 [==============================] - 1s 12ms/step - loss: 1.8936 - accuracy: 0.4220 - val_loss: 1.5459 - val_accuracy: 0.6466\n",
      "Epoch 4/5\n",
      "80/80 [==============================] - 1s 12ms/step - loss: 1.4085 - accuracy: 0.5795 - val_loss: 1.1571 - val_accuracy: 0.7261\n",
      "Epoch 5/5\n",
      "80/80 [==============================] - 1s 12ms/step - loss: 1.0512 - accuracy: 0.7035 - val_loss: 0.8907 - val_accuracy: 0.7845\n",
      "[1.0610538721084595, 0.7318109273910522]\n",
      "mode: freq, accuracy: 0.7318109273910522\n"
     ]
    }
   ],
   "source": [
    "# main\n",
    "modes = ['binary', 'count', 'tfidf', 'freq']\n",
    "scores = []\n",
    "\n",
    "for mode in modes:\n",
    "    X_train, X_test, num_word = tokenize(df['text'], df_test['text'], mode=mode)\n",
    "    \n",
    "    y_train = to_categorical(df['target'])\n",
    "    y_test = to_categorical(df_test['target'])\n",
    "    \n",
    "    score = train(model, X_train, X_test, y_train, y_test)\n",
    "    scores.append([])\n",
    "    scores[-1].append(score)\n",
    "    print('mode: {}, accuracy: {}'.format(mode, score[1]))"
   ],
   "metadata": {
    "collapsed": false,
    "ExecuteTime": {
     "end_time": "2023-10-08T06:00:35.406818Z",
     "start_time": "2023-10-08T05:59:57.690832Z"
    }
   },
   "id": "90230303d9c2adc5"
  },
  {
   "cell_type": "code",
   "execution_count": 10,
   "outputs": [
    {
     "name": "stdout",
     "output_type": "stream",
     "text": [
      "mode: binary, accuracy: 0.8267392516136169\n",
      "mode: count, accuracy: 0.8153212666511536\n",
      "mode: tfidf, accuracy: 0.8243494629859924\n",
      "mode: freq, accuracy: 0.7318109273910522\n"
     ]
    }
   ],
   "source": [
    "for mode, score in zip(modes, scores):\n",
    "   print('mode: {}, accuracy: {}'.format(mode, score[0][1]))"
   ],
   "metadata": {
    "collapsed": false,
    "ExecuteTime": {
     "end_time": "2023-10-08T06:01:14.780434Z",
     "start_time": "2023-10-08T06:01:14.760174Z"
    }
   },
   "id": "ca6f5cfc53ea8966"
  },
  {
   "cell_type": "code",
   "execution_count": null,
   "outputs": [],
   "source": [],
   "metadata": {
    "collapsed": false
   },
   "id": "6344ba3770c8871f"
  }
 ],
 "metadata": {
  "kernelspec": {
   "display_name": "Python 3",
   "language": "python",
   "name": "python3"
  },
  "language_info": {
   "codemirror_mode": {
    "name": "ipython",
    "version": 2
   },
   "file_extension": ".py",
   "mimetype": "text/x-python",
   "name": "python",
   "nbconvert_exporter": "python",
   "pygments_lexer": "ipython2",
   "version": "2.7.6"
  }
 },
 "nbformat": 4,
 "nbformat_minor": 5
}
