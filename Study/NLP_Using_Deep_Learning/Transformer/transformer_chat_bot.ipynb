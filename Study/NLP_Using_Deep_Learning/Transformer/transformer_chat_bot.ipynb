{
 "cells": [
  {
   "cell_type": "code",
   "execution_count": 1,
   "id": "initial_id",
   "metadata": {
    "collapsed": true,
    "ExecuteTime": {
     "end_time": "2023-12-22T13:43:41.628952Z",
     "start_time": "2023-12-22T13:43:37.525426Z"
    }
   },
   "outputs": [],
   "source": [
    "import numpy as np\n",
    "import pandas as pd\n",
    "import re\n",
    "\n",
    "import matplotlib.pyplot as plt\n",
    "\n",
    "import tensorflow as tf\n",
    "import keras"
   ]
  },
  {
   "cell_type": "code",
   "execution_count": 2,
   "outputs": [
    {
     "name": "stdout",
     "output_type": "stream",
     "text": [
      "11823\n",
      "                 Q            A  label\n",
      "0           12시 땡!   하루가 또 가네요.      0\n",
      "1      1지망 학교 떨어졌어    위로해 드립니다.      0\n",
      "2     3박4일 놀러가고 싶다  여행은 언제나 좋죠.      0\n",
      "3  3박4일 정도 놀러가고 싶다  여행은 언제나 좋죠.      0\n",
      "4          PPL 심하네   눈살이 찌푸려지죠.      0\n",
      "Q        0\n",
      "A        0\n",
      "label    0\n",
      "dtype: int64\n"
     ]
    }
   ],
   "source": [
    "data_path = \"../data/\"\n",
    "df = pd.read_csv(data_path + \"chatbot_data.csv\")\n",
    "print(len(df))\n",
    "print(df.head(5))\n",
    "\n",
    "print(df.isnull().sum()) # no null values"
   ],
   "metadata": {
    "collapsed": false,
    "ExecuteTime": {
     "end_time": "2023-12-22T13:43:41.653475Z",
     "start_time": "2023-12-22T13:43:41.630674Z"
    }
   },
   "id": "25d4db072dceb260"
  },
  {
   "cell_type": "markdown",
   "source": [
    "# Data Preprocessing"
   ],
   "metadata": {
    "collapsed": false
   },
   "id": "673f31bcca906976"
  },
  {
   "cell_type": "code",
   "execution_count": 3,
   "outputs": [],
   "source": [
    "import tensorflow_datasets as tfds"
   ],
   "metadata": {
    "collapsed": false,
    "ExecuteTime": {
     "end_time": "2023-12-22T13:43:41.921968Z",
     "start_time": "2023-12-22T13:43:41.653325Z"
    }
   },
   "id": "4a0d3e9440b747a2"
  },
  {
   "cell_type": "code",
   "execution_count": 4,
   "outputs": [
    {
     "name": "stdout",
     "output_type": "stream",
     "text": [
      "['12시 땡 !', '1지망 학교 떨어졌어', '3박4일 놀러가고 싶다', '3박4일 정도 놀러가고 싶다', 'PPL 심하네']\n",
      "['하루가 또 가네요 .', '위로해 드립니다 .', '여행은 언제나 좋죠 .', '여행은 언제나 좋죠 .', '눈살이 찌푸려지죠 .']\n"
     ]
    }
   ],
   "source": [
    "questions = []\n",
    "answers = []\n",
    "\n",
    "for sentence in df['Q']:\n",
    "    updated_sentence = re.sub(r\"([?.!,])\", r\" \\1 \", sentence)\n",
    "    updated_and_stripped_sentence = updated_sentence.strip()\n",
    "    questions.append(updated_and_stripped_sentence)\n",
    "    \n",
    "for sentence in df['A']:\n",
    "    updated_sentence = re.sub(r\"([?.!,])\", r\" \\1 \", sentence)\n",
    "    updated_and_stripped_sentence = updated_sentence.strip()\n",
    "    answers.append(updated_and_stripped_sentence)\n",
    "\n",
    "print(questions[:5])\n",
    "print(answers[:5])"
   ],
   "metadata": {
    "collapsed": false,
    "ExecuteTime": {
     "end_time": "2023-12-22T13:43:41.954904Z",
     "start_time": "2023-12-22T13:43:41.949467Z"
    }
   },
   "id": "a23e6eac46deaa57"
  },
  {
   "cell_type": "markdown",
   "source": [
    "### sentence = re.sub(r\"([?.!,])\", r\" \\1 \", sentence)\n",
    " - the ``r`` before the string starts a raw string literal, which tells Python not to interpret backslashes as escape characters (common in regular expressions).\n",
    " - ``r\" \\1 \"`` : refers to the content of the first capture group in the regex pattern. In this case, it refers to whichever character (either ?, ., !, or ,) was matched.\n",
    "```python\n",
    "sentence = \"Hello, how are you?\"\n",
    "sentence = re.sub(r\"([?.!,])\", r\" \\1 \", sentence)\n",
    "print(sentence) # Hello ,  how are you ?\n",
    "```\n",
    "\n",
    "### strip() : remove the leading and trailing characters\n"
   ],
   "metadata": {
    "collapsed": false
   },
   "id": "5a3fa40ea0b8ff4d"
  },
  {
   "cell_type": "code",
   "execution_count": 6,
   "outputs": [
    {
     "name": "stdout",
     "output_type": "stream",
     "text": [
      "[8178] [8179] 8180\n"
     ]
    }
   ],
   "source": [
    "tokenizer = tfds.deprecated.text.SubwordTextEncoder.build_from_corpus(\n",
    "    questions + answers, target_vocab_size=2**13) # target_vocab_size : the maximum size of the vocabulary to create (if None, no maximum)\n",
    "\n",
    "START_TOKEN, END_TOKEN = [tokenizer.vocab_size], [tokenizer.vocab_size + 1]\n",
    "VOCAB_SIZE = tokenizer.vocab_size + 2 # +2 for start and end token\n",
    "\n",
    "print(START_TOKEN, END_TOKEN, VOCAB_SIZE)"
   ],
   "metadata": {
    "collapsed": false,
    "ExecuteTime": {
     "end_time": "2023-12-22T13:46:27.429962Z",
     "start_time": "2023-12-22T13:46:21.934292Z"
    }
   },
   "id": "674d3ccbc955452"
  },
  {
   "cell_type": "code",
   "execution_count": null,
   "outputs": [],
   "source": [],
   "metadata": {
    "collapsed": false
   },
   "id": "e7a3fc7fdea4b246"
  }
 ],
 "metadata": {
  "kernelspec": {
   "display_name": "Python 3",
   "language": "python",
   "name": "python3"
  },
  "language_info": {
   "codemirror_mode": {
    "name": "ipython",
    "version": 2
   },
   "file_extension": ".py",
   "mimetype": "text/x-python",
   "name": "python",
   "nbconvert_exporter": "python",
   "pygments_lexer": "ipython2",
   "version": "2.7.6"
  }
 },
 "nbformat": 4,
 "nbformat_minor": 5
}
