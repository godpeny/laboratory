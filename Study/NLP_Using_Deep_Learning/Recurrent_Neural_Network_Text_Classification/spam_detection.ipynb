{
 "cells": [
  {
   "cell_type": "code",
   "execution_count": 40,
   "id": "initial_id",
   "metadata": {
    "collapsed": true,
    "ExecuteTime": {
     "end_time": "2023-11-03T13:54:56.278609Z",
     "start_time": "2023-11-03T13:54:55.225234Z"
    }
   },
   "outputs": [],
   "source": [
    "import numpy as np\n",
    "import pandas as pd\n",
    "\n",
    "import matplotlib.pyplot as plt\n",
    "\n",
    "import keras\n",
    "from keras.preprocessing.text import Tokenizer\n",
    "from keras.preprocessing.sequence import pad_sequences\n",
    "\n",
    "from sklearn.model_selection import train_test_split"
   ]
  },
  {
   "cell_type": "markdown",
   "source": [
    "# Data Preprocessing"
   ],
   "metadata": {
    "collapsed": false
   },
   "id": "456d05228df2b0a"
  },
  {
   "cell_type": "code",
   "execution_count": 33,
   "outputs": [
    {
     "data": {
      "text/plain": "     v1                                                 v2 Unnamed: 2  \\\n0   ham  Go until jurong point, crazy.. Available only ...        NaN   \n1   ham                      Ok lar... Joking wif u oni...        NaN   \n2  spam  Free entry in 2 a wkly comp to win FA Cup fina...        NaN   \n\n  Unnamed: 3 Unnamed: 4  \n0        NaN        NaN  \n1        NaN        NaN  \n2        NaN        NaN  ",
      "text/html": "<div>\n<style scoped>\n    .dataframe tbody tr th:only-of-type {\n        vertical-align: middle;\n    }\n\n    .dataframe tbody tr th {\n        vertical-align: top;\n    }\n\n    .dataframe thead th {\n        text-align: right;\n    }\n</style>\n<table border=\"1\" class=\"dataframe\">\n  <thead>\n    <tr style=\"text-align: right;\">\n      <th></th>\n      <th>v1</th>\n      <th>v2</th>\n      <th>Unnamed: 2</th>\n      <th>Unnamed: 3</th>\n      <th>Unnamed: 4</th>\n    </tr>\n  </thead>\n  <tbody>\n    <tr>\n      <th>0</th>\n      <td>ham</td>\n      <td>Go until jurong point, crazy.. Available only ...</td>\n      <td>NaN</td>\n      <td>NaN</td>\n      <td>NaN</td>\n    </tr>\n    <tr>\n      <th>1</th>\n      <td>ham</td>\n      <td>Ok lar... Joking wif u oni...</td>\n      <td>NaN</td>\n      <td>NaN</td>\n      <td>NaN</td>\n    </tr>\n    <tr>\n      <th>2</th>\n      <td>spam</td>\n      <td>Free entry in 2 a wkly comp to win FA Cup fina...</td>\n      <td>NaN</td>\n      <td>NaN</td>\n      <td>NaN</td>\n    </tr>\n  </tbody>\n</table>\n</div>"
     },
     "execution_count": 33,
     "metadata": {},
     "output_type": "execute_result"
    }
   ],
   "source": [
    "data_path = '../data/'\n",
    "df = pd.read_csv(data_path + 'spam.csv', encoding='latin-1')\n",
    "df.head(3)"
   ],
   "metadata": {
    "collapsed": false,
    "ExecuteTime": {
     "end_time": "2023-11-03T13:24:03.636785Z",
     "start_time": "2023-11-03T13:24:03.619119Z"
    }
   },
   "id": "45e8e40c3c9672f2"
  },
  {
   "cell_type": "code",
   "execution_count": 34,
   "outputs": [
    {
     "data": {
      "text/plain": "   v1                                                 v2\n0   0  Go until jurong point, crazy.. Available only ...\n1   0                      Ok lar... Joking wif u oni...\n2   1  Free entry in 2 a wkly comp to win FA Cup fina...",
      "text/html": "<div>\n<style scoped>\n    .dataframe tbody tr th:only-of-type {\n        vertical-align: middle;\n    }\n\n    .dataframe tbody tr th {\n        vertical-align: top;\n    }\n\n    .dataframe thead th {\n        text-align: right;\n    }\n</style>\n<table border=\"1\" class=\"dataframe\">\n  <thead>\n    <tr style=\"text-align: right;\">\n      <th></th>\n      <th>v1</th>\n      <th>v2</th>\n    </tr>\n  </thead>\n  <tbody>\n    <tr>\n      <th>0</th>\n      <td>0</td>\n      <td>Go until jurong point, crazy.. Available only ...</td>\n    </tr>\n    <tr>\n      <th>1</th>\n      <td>0</td>\n      <td>Ok lar... Joking wif u oni...</td>\n    </tr>\n    <tr>\n      <th>2</th>\n      <td>1</td>\n      <td>Free entry in 2 a wkly comp to win FA Cup fina...</td>\n    </tr>\n  </tbody>\n</table>\n</div>"
     },
     "execution_count": 34,
     "metadata": {},
     "output_type": "execute_result"
    }
   ],
   "source": [
    "# remove unnecessary columns\n",
    "del df['Unnamed: 2']\n",
    "del df['Unnamed: 3']\n",
    "del df['Unnamed: 4']\n",
    "# ham: 0, spam: 1\n",
    "df[\"v1\"] = df[\"v1\"].replace(to_replace=['ham', 'spam'], value=[0, 1]) \n",
    "\n",
    "df.head(3)"
   ],
   "metadata": {
    "collapsed": false,
    "ExecuteTime": {
     "end_time": "2023-11-03T13:24:04.158685Z",
     "start_time": "2023-11-03T13:24:04.154988Z"
    }
   },
   "id": "fbce66f04e7de027"
  },
  {
   "cell_type": "code",
   "execution_count": 35,
   "outputs": [
    {
     "name": "stdout",
     "output_type": "stream",
     "text": [
      "False\n",
      "True\n",
      "False\n"
     ]
    }
   ],
   "source": [
    "print(df.isnull().values.any()) # False : no null values\n",
    "print(len(df['v2']) != df['v2'].nunique()) # True : there are duplicates\n",
    "\n",
    "# drop duplicate\n",
    "df.drop_duplicates(subset=['v2'], inplace=True)\n",
    "print(len(df['v2']) != df['v2'].nunique()) # False : no duplicates"
   ],
   "metadata": {
    "collapsed": false,
    "ExecuteTime": {
     "end_time": "2023-11-03T13:24:04.936470Z",
     "start_time": "2023-11-03T13:24:04.926077Z"
    }
   },
   "id": "4f7853302a37d985"
  },
  {
   "cell_type": "code",
   "execution_count": 43,
   "outputs": [
    {
     "name": "stdout",
     "output_type": "stream",
     "text": [
      "5169\n",
      "4516\n",
      "653\n",
      "6.915773353751915\n"
     ]
    },
    {
     "data": {
      "text/plain": "<Figure size 640x480 with 1 Axes>",
      "image/png": "[encoded data removed]"
     },
     "metadata": {},
     "output_type": "display_data"
    }
   ],
   "source": [
    "df['v1'].value_counts().plot(kind='bar')\n",
    "print(len(df['v1']))\n",
    "print(df['v1'].value_counts()[0])\n",
    "print(df['v1'].value_counts()[1])\n",
    "print(df['v1'].value_counts()[0] / df['v1'].value_counts()[1])"
   ],
   "metadata": {
    "collapsed": false,
    "ExecuteTime": {
     "end_time": "2023-11-03T14:01:24.991995Z",
     "start_time": "2023-11-03T14:01:24.887671Z"
    }
   },
   "id": "67933d3e36e249d6"
  },
  {
   "cell_type": "code",
   "execution_count": 42,
   "outputs": [
    {
     "name": "stdout",
     "output_type": "stream",
     "text": [
      "6.921455938697318\n",
      "6.893129770992366\n"
     ]
    }
   ],
   "source": [
    "X_train = df['v2']\n",
    "y_train = df['v1']\n",
    "# random_state: seed, stratify: same ratio of y_train\n",
    "X_train, X_test, y_train, y_test = train_test_split(X_train, y_train, test_size=0.2, random_state=777, stratify=y_train) \n",
    "\n",
    "print(y_train.value_counts()[0] / y_train.value_counts()[1])\n",
    "print(y_test.value_counts()[0] / y_test.value_counts()[1])"
   ],
   "metadata": {
    "collapsed": false,
    "ExecuteTime": {
     "end_time": "2023-11-03T14:01:04.415122Z",
     "start_time": "2023-11-03T14:01:04.410189Z"
    }
   },
   "id": "2f253ca6ba8d0b8f"
  },
  {
   "cell_type": "markdown",
   "source": [
    "# Tokenizing"
   ],
   "metadata": {
    "collapsed": false
   },
   "id": "9e2717d74eaacab1"
  },
  {
   "cell_type": "code",
   "execution_count": 66,
   "outputs": [
    {
     "name": "stdout",
     "output_type": "stream",
     "text": [
      "5\n",
      "[[57, 553, 17, 40, 3482, 2361, 70, 11, 441, 1310, 1, 120, 40, 3483, 3, 153, 7, 647, 11, 2362, 1, 89, 15, 3, 7, 72, 4, 1311, 389, 44, 941, 5, 746, 3484, 3485, 15, 3486, 3487, 3, 3488, 2363], [166, 119, 22, 161, 245, 792], [10, 109, 368, 1, 942, 2, 648, 3, 113, 1, 1513, 3, 34, 98, 57, 195, 15, 10], [150, 38, 1312, 246, 12, 131, 522, 29, 793, 342, 46, 943], [39, 23, 38, 697, 4, 2364, 1830, 584, 2, 207, 127, 3489, 17, 128, 82, 22, 27, 1, 18, 8]]\n"
     ]
    }
   ],
   "source": [
    "tokenizer = Tokenizer()\n",
    "tokenizer.fit_on_texts(X_train) # mapping word to index on frequency order\n",
    "X_train_encoded = tokenizer.texts_to_sequences(X_train) # convert X_train data to index\n",
    "X_test_encoded = tokenizer.texts_to_sequences(X_test)\n",
    "\n",
    "print(tokenizer.word_index['the'])\n",
    "print(X_train_encoded[:5])"
   ],
   "metadata": {
    "collapsed": false,
    "ExecuteTime": {
     "end_time": "2023-11-03T14:33:38.308623Z",
     "start_time": "2023-11-03T14:33:38.273872Z"
    }
   },
   "id": "58558ba8ca0082f8"
  },
  {
   "cell_type": "code",
   "execution_count": 67,
   "outputs": [
    {
     "name": "stdout",
     "output_type": "stream",
     "text": [
      "total word: 7842\n",
      "total freq: 64325\n",
      "rare word: 4361\n",
      "rare word freq: 4361\n",
      "rare word ratio: 0.5561081356796735\n",
      "rare word freq ratio: 0.0677963466770307\n"
     ]
    }
   ],
   "source": [
    "# analyze tokenized data\n",
    "total_word = len(tokenizer.word_index)\n",
    "total_freq = 0\n",
    "threshold = 2 # choose words that appear more than 2 times\n",
    "\n",
    "rare_word = 0\n",
    "rare_word_freq = 0\n",
    "\n",
    "for k, f in tokenizer.word_counts.items():\n",
    "    total_freq += f\n",
    "    \n",
    "    if f < threshold:\n",
    "        rare_word += 1\n",
    "        rare_word_freq += f\n",
    "        \n",
    "print('total word:', total_word)\n",
    "print('total freq:', total_freq)\n",
    "print('rare word:', rare_word)\n",
    "print('rare word freq:', rare_word_freq)\n",
    "print('rare word ratio:', rare_word / total_word)\n",
    "print('rare word freq ratio:', rare_word_freq / total_freq)"
   ],
   "metadata": {
    "collapsed": false,
    "ExecuteTime": {
     "end_time": "2023-11-03T14:33:38.710323Z",
     "start_time": "2023-11-03T14:33:38.708266Z"
    }
   },
   "id": "5e0b2c5ad33a4752"
  },
  {
   "cell_type": "code",
   "execution_count": 69,
   "outputs": [
    {
     "name": "stdout",
     "output_type": "stream",
     "text": [
      "vocab size: 7843\n",
      "max X_train len: 162\n",
      "max X_test len: 183\n",
      "max X len: 183\n",
      "avg X_train len: 15.556227327690447\n"
     ]
    },
    {
     "data": {
      "text/plain": "(array([ 92., 696., 809., 522., 471., 282., 218., 260., 386., 180., 100.,\n         29.,  25.,   9.,   8.,   8.,   9.,   5.,   2.,   4.,   1.,   5.,\n          1.,   3.,   0.,   2.,   0.,   3.,   0.,   0.,   2.,   0.,   0.,\n          0.,   0.,   1.,   0.,   1.,   0.,   0.,   0.,   0.,   0.,   0.,\n          0.,   0.,   0.,   0.,   0.,   1.]),\n array([  0.  ,   3.24,   6.48,   9.72,  12.96,  16.2 ,  19.44,  22.68,\n         25.92,  29.16,  32.4 ,  35.64,  38.88,  42.12,  45.36,  48.6 ,\n         51.84,  55.08,  58.32,  61.56,  64.8 ,  68.04,  71.28,  74.52,\n         77.76,  81.  ,  84.24,  87.48,  90.72,  93.96,  97.2 , 100.44,\n        103.68, 106.92, 110.16, 113.4 , 116.64, 119.88, 123.12, 126.36,\n        129.6 , 132.84, 136.08, 139.32, 142.56, 145.8 , 149.04, 152.28,\n        155.52, 158.76, 162.  ]),\n <BarContainer object of 50 artists>)"
     },
     "execution_count": 69,
     "metadata": {},
     "output_type": "execute_result"
    },
    {
     "data": {
      "text/plain": "<Figure size 640x480 with 1 Axes>",
      "image/png": "[encoded data removed]"
     },
     "metadata": {},
     "output_type": "display_data"
    }
   ],
   "source": [
    "vocab_size = len(tokenizer.word_index) + 1 # +1 for padding\n",
    "\n",
    "max_X_train_len = max(len(d) for d in X_train_encoded)\n",
    "max_X_test_len = max(len(d) for d in X_test_encoded)\n",
    "max_X_len = max(max_X_train_len, max_X_test_len)\n",
    "avg_X_train_len = sum(map(len, X_train_encoded)) / len(X_train_encoded)\n",
    "\n",
    "print('vocab size:', vocab_size)\n",
    "print('max X_train len:', max_X_train_len)\n",
    "print('max X_test len:', max_X_test_len)\n",
    "print('max X len:', max_X_len)\n",
    "print('avg X_train len:', avg_X_train_len)\n",
    "\n",
    "plt.hist([len(d) for d in X_train_encoded], bins=50)"
   ],
   "metadata": {
    "collapsed": false,
    "ExecuteTime": {
     "end_time": "2023-11-03T14:34:08.665474Z",
     "start_time": "2023-11-03T14:34:08.583779Z"
    }
   },
   "id": "9717497a838c4241"
  },
  {
   "cell_type": "code",
   "execution_count": 70,
   "outputs": [
    {
     "name": "stdout",
     "output_type": "stream",
     "text": [
      "(4135, 183)\n",
      "(1034, 183)\n"
     ]
    }
   ],
   "source": [
    "# padding \n",
    "X_train_encoded_padded = pad_sequences(X_train_encoded, maxlen=max_X_len)\n",
    "X_test_encoded_padded = pad_sequences(X_test_encoded, maxlen=max_X_len)\n",
    "print(X_train_encoded_padded.shape)\n",
    "print(X_test_encoded_padded.shape)"
   ],
   "metadata": {
    "collapsed": false,
    "ExecuteTime": {
     "end_time": "2023-11-03T14:34:39.786598Z",
     "start_time": "2023-11-03T14:34:39.768465Z"
    }
   },
   "id": "83f318602dbe4906"
  },
  {
   "cell_type": "markdown",
   "source": [
    "# Modeling"
   ],
   "metadata": {
    "collapsed": false
   },
   "id": "b753f2c630714f58"
  },
  {
   "cell_type": "code",
   "execution_count": 71,
   "outputs": [],
   "source": [
    "from keras.models import Sequential\n",
    "from keras.layers import Dense, Embedding, Flatten, SimpleRNN"
   ],
   "metadata": {
    "collapsed": false,
    "ExecuteTime": {
     "end_time": "2023-11-03T14:36:46.693079Z",
     "start_time": "2023-11-03T14:36:46.674029Z"
    }
   },
   "id": "565e8c829cc0e345"
  },
  {
   "cell_type": "code",
   "execution_count": 74,
   "outputs": [
    {
     "name": "stdout",
     "output_type": "stream",
     "text": [
      "Model: \"sequential_2\"\n",
      "_________________________________________________________________\n",
      " Layer (type)                Output Shape              Param #   \n",
      "=================================================================\n",
      " embedding_2 (Embedding)     (None, None, 32)          250976    \n",
      "                                                                 \n",
      " simple_rnn_2 (SimpleRNN)    (None, 32)                2080      \n",
      "                                                                 \n",
      " dense_2 (Dense)             (None, 1)                 33        \n",
      "                                                                 \n",
      "=================================================================\n",
      "Total params: 253089 (988.63 KB)\n",
      "Trainable params: 253089 (988.63 KB)\n",
      "Non-trainable params: 0 (0.00 Byte)\n",
      "_________________________________________________________________\n"
     ]
    }
   ],
   "source": [
    "embedding_dims = 32\n",
    "rnn_hidden_dims = 32\n",
    "\n",
    "model = Sequential()\n",
    "model.add(Embedding(input_dim=vocab_size, output_dim=embedding_dims))\n",
    "model.add(SimpleRNN(rnn_hidden_dims))\n",
    "model.add(Dense(1, activation='sigmoid'))\n",
    "model.summary()\n",
    "\n",
    "model.compile(optimizer='adam', loss='binary_crossentropy', metrics=['accuracy'])"
   ],
   "metadata": {
    "collapsed": false,
    "ExecuteTime": {
     "end_time": "2023-11-03T14:40:08.936115Z",
     "start_time": "2023-11-03T14:40:08.891037Z"
    }
   },
   "id": "974287ae92298bb8"
  },
  {
   "cell_type": "code",
   "execution_count": 77,
   "outputs": [
    {
     "name": "stdout",
     "output_type": "stream",
     "text": [
      "Epoch 1/4\n",
      "52/52 [==============================] - 1s 15ms/step - loss: 0.0213 - accuracy: 0.9967 - val_loss: 0.0812 - val_accuracy: 0.9782\n",
      "Epoch 2/4\n",
      "52/52 [==============================] - 1s 15ms/step - loss: 0.0167 - accuracy: 0.9973 - val_loss: 0.0772 - val_accuracy: 0.9807\n",
      "Epoch 3/4\n",
      "52/52 [==============================] - 1s 15ms/step - loss: 0.0098 - accuracy: 0.9991 - val_loss: 0.0766 - val_accuracy: 0.9807\n",
      "Epoch 4/4\n",
      "52/52 [==============================] - 1s 15ms/step - loss: 0.0106 - accuracy: 0.9979 - val_loss: 0.0840 - val_accuracy: 0.9807\n"
     ]
    }
   ],
   "source": [
    "hist = model.fit(X_train_encoded_padded, y_train, epochs=4, batch_size=64, validation_split=0.2)"
   ],
   "metadata": {
    "collapsed": false,
    "ExecuteTime": {
     "end_time": "2023-11-03T14:43:29.211716Z",
     "start_time": "2023-11-03T14:43:26.047485Z"
    }
   },
   "id": "62528c385cf966eb"
  },
  {
   "cell_type": "code",
   "execution_count": 76,
   "outputs": [
    {
     "name": "stdout",
     "output_type": "stream",
     "text": [
      "33/33 [==============================] - 0s 3ms/step - loss: 0.0865 - accuracy: 0.9739\n"
     ]
    },
    {
     "data": {
      "text/plain": "[0.08653198927640915, 0.9738878011703491]"
     },
     "execution_count": 76,
     "metadata": {},
     "output_type": "execute_result"
    }
   ],
   "source": [
    "model.evaluate(X_test_encoded_padded, y_test)"
   ],
   "metadata": {
    "collapsed": false,
    "ExecuteTime": {
     "end_time": "2023-11-03T14:41:50.824365Z",
     "start_time": "2023-11-03T14:41:50.693777Z"
    }
   },
   "id": "27357a7b0fd6d39b"
  },
  {
   "cell_type": "code",
   "execution_count": 81,
   "outputs": [
    {
     "data": {
      "text/plain": "<Figure size 640x480 with 1 Axes>",
      "image/png": "[encoded data removed]"
     },
     "metadata": {},
     "output_type": "display_data"
    }
   ],
   "source": [
    "epochs = range(1, len(hist.history['accuracy']) + 1)\n",
    "plt.plot(epochs, hist.history['loss'], label='Training loss')\n",
    "plt.plot(epochs, hist.history['val_loss'], label='Validation loss')\n",
    "plt.show()"
   ],
   "metadata": {
    "collapsed": false,
    "ExecuteTime": {
     "end_time": "2023-11-03T14:44:46.924486Z",
     "start_time": "2023-11-03T14:44:46.870944Z"
    }
   },
   "id": "d8f35553589446de"
  },
  {
   "cell_type": "code",
   "execution_count": null,
   "outputs": [],
   "source": [],
   "metadata": {
    "collapsed": false
   },
   "id": "47859f9ff822470a"
  }
 ],
 "metadata": {
  "kernelspec": {
   "display_name": "Python 3",
   "language": "python",
   "name": "python3"
  },
  "language_info": {
   "codemirror_mode": {
    "name": "ipython",
    "version": 2
   },
   "file_extension": ".py",
   "mimetype": "text/x-python",
   "name": "python",
   "nbconvert_exporter": "python",
   "pygments_lexer": "ipython2",
   "version": "2.7.6"
  }
 },
 "nbformat": 4,
 "nbformat_minor": 5
}
