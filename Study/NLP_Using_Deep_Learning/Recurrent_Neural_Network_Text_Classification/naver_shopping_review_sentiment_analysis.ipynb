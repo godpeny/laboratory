{
 "cells": [
  {
   "cell_type": "code",
   "execution_count": 1,
   "id": "initial_id",
   "metadata": {
    "collapsed": true,
    "ExecuteTime": {
     "end_time": "2023-11-11T06:36:58.995918Z",
     "start_time": "2023-11-11T06:36:56.700070Z"
    }
   },
   "outputs": [],
   "source": [
    "import re\n",
    "import pandas as pd\n",
    "import numpy as np\n",
    "from collections import Counter\n",
    "import urllib.request\n",
    "\n",
    "import matplotlib.pyplot as plt\n",
    "\n",
    "import tensorflow as tf\n",
    "import keras\n",
    "from keras.preprocessing.text import Tokenizer\n",
    "from keras.preprocessing.sequence import pad_sequences\n",
    "from sklearn.model_selection import train_test_split\n",
    "\n",
    "from konlpy.tag import Okt"
   ]
  },
  {
   "cell_type": "code",
   "execution_count": 2,
   "outputs": [
    {
     "data": {
      "text/plain": "('../data/shopping_ratings_total.txt',\n <http.client.HTTPMessage at 0x2a1591a90>)"
     },
     "execution_count": 2,
     "metadata": {},
     "output_type": "execute_result"
    }
   ],
   "source": [
    "data_path = \"../data/\"\n",
    "urllib.request.urlretrieve(\n",
    "    \"https://raw.githubusercontent.com/bab2min/corpus/master/sentiment/naver_shopping.txt\", \n",
    "    filename=data_path + \"shopping_ratings_total.txt\")"
   ],
   "metadata": {
    "collapsed": false,
    "ExecuteTime": {
     "end_time": "2023-11-11T06:36:59.602259Z",
     "start_time": "2023-11-11T06:36:58.997167Z"
    }
   },
   "id": "c515f9827cfa6edf"
  },
  {
   "cell_type": "code",
   "execution_count": 3,
   "outputs": [
    {
     "name": "stdout",
     "output_type": "stream",
     "text": [
      "200000\n",
      "   ratings                                            reviews\n",
      "0        5                                            배공빠르고 굿\n",
      "1        2                      택배가 엉망이네용 저희집 밑에층에 말도없이 놔두고가고\n",
      "2        5  아주좋아요 바지 정말 좋아서2개 더 구매했어요 이가격에 대박입니다. 바느질이 조금 ...\n",
      "3        2  선물용으로 빨리 받아서 전달했어야 하는 상품이었는데 머그컵만 와서 당황했습니다. 전...\n",
      "4        5                  민트색상 예뻐요. 옆 손잡이는 거는 용도로도 사용되네요 ㅎㅎ\n"
     ]
    }
   ],
   "source": [
    "df = pd.read_table(data_path + \"shopping_ratings_total.txt\", names=['ratings', 'reviews']) # set column names\n",
    "print(len(df))\n",
    "print(df.head(5))"
   ],
   "metadata": {
    "collapsed": false,
    "ExecuteTime": {
     "end_time": "2023-11-11T06:36:59.899186Z",
     "start_time": "2023-11-11T06:36:59.598147Z"
    }
   },
   "id": "77f1bca95b92df54"
  },
  {
   "cell_type": "markdown",
   "source": [
    "# Data Preprocessing"
   ],
   "metadata": {
    "collapsed": false
   },
   "id": "5574403fc927eee1"
  },
  {
   "cell_type": "code",
   "execution_count": 4,
   "outputs": [
    {
     "data": {
      "text/plain": "   ratings                                            reviews  label\n0        5                                            배공빠르고 굿      1\n1        2                      택배가 엉망이네용 저희집 밑에층에 말도없이 놔두고가고      0\n2        5  아주좋아요 바지 정말 좋아서2개 더 구매했어요 이가격에 대박입니다. 바느질이 조금 ...      1\n3        2  선물용으로 빨리 받아서 전달했어야 하는 상품이었는데 머그컵만 와서 당황했습니다. 전...      0\n4        5                  민트색상 예뻐요. 옆 손잡이는 거는 용도로도 사용되네요 ㅎㅎ      1",
      "text/html": "<div>\n<style scoped>\n    .dataframe tbody tr th:only-of-type {\n        vertical-align: middle;\n    }\n\n    .dataframe tbody tr th {\n        vertical-align: top;\n    }\n\n    .dataframe thead th {\n        text-align: right;\n    }\n</style>\n<table border=\"1\" class=\"dataframe\">\n  <thead>\n    <tr style=\"text-align: right;\">\n      <th></th>\n      <th>ratings</th>\n      <th>reviews</th>\n      <th>label</th>\n    </tr>\n  </thead>\n  <tbody>\n    <tr>\n      <th>0</th>\n      <td>5</td>\n      <td>배공빠르고 굿</td>\n      <td>1</td>\n    </tr>\n    <tr>\n      <th>1</th>\n      <td>2</td>\n      <td>택배가 엉망이네용 저희집 밑에층에 말도없이 놔두고가고</td>\n      <td>0</td>\n    </tr>\n    <tr>\n      <th>2</th>\n      <td>5</td>\n      <td>아주좋아요 바지 정말 좋아서2개 더 구매했어요 이가격에 대박입니다. 바느질이 조금 ...</td>\n      <td>1</td>\n    </tr>\n    <tr>\n      <th>3</th>\n      <td>2</td>\n      <td>선물용으로 빨리 받아서 전달했어야 하는 상품이었는데 머그컵만 와서 당황했습니다. 전...</td>\n      <td>0</td>\n    </tr>\n    <tr>\n      <th>4</th>\n      <td>5</td>\n      <td>민트색상 예뻐요. 옆 손잡이는 거는 용도로도 사용되네요 ㅎㅎ</td>\n      <td>1</td>\n    </tr>\n  </tbody>\n</table>\n</div>"
     },
     "execution_count": 4,
     "metadata": {},
     "output_type": "execute_result"
    }
   ],
   "source": [
    "# add new columns\n",
    "df['label'] = df['ratings'].apply(lambda x: 1 if x>3 else 0) # 1: positive, 0: negative\n",
    "df.head(5)"
   ],
   "metadata": {
    "collapsed": false,
    "ExecuteTime": {
     "end_time": "2023-11-11T06:36:59.946926Z",
     "start_time": "2023-11-11T06:36:59.896316Z"
    }
   },
   "id": "eda5d46604846070"
  },
  {
   "cell_type": "code",
   "execution_count": 5,
   "outputs": [
    {
     "name": "stdout",
     "output_type": "stream",
     "text": [
      "4 199908 2\n",
      "199908 False\n"
     ]
    }
   ],
   "source": [
    "# remove null and duplicate values\n",
    "print(df['ratings'].nunique(), df['reviews'].nunique(), df['label'].nunique()) # check unique values\n",
    "df.drop_duplicates(subset=['reviews'], inplace=True) # drop duplicates\n",
    "df.dropna(how='any', inplace=True) # drop null values\n",
    "print(len(df), df.isnull().values.any()) # check null values"
   ],
   "metadata": {
    "collapsed": false,
    "ExecuteTime": {
     "end_time": "2023-11-11T06:37:00.068146Z",
     "start_time": "2023-11-11T06:36:59.929572Z"
    }
   },
   "id": "c06cf78a81325bff"
  },
  {
   "cell_type": "code",
   "execution_count": 6,
   "outputs": [
    {
     "name": "stdout",
     "output_type": "stream",
     "text": [
      "199908\n",
      "149931 49977 None\n"
     ]
    }
   ],
   "source": [
    "# split total into train and test data\n",
    "train_data, test_data = train_test_split(df, test_size=0.25, random_state=42) # random_state: seed\n",
    "print(len(train_data), len(test_data), print(len(df)))"
   ],
   "metadata": {
    "collapsed": false,
    "ExecuteTime": {
     "end_time": "2023-11-11T06:37:00.080505Z",
     "start_time": "2023-11-11T06:37:00.066173Z"
    }
   },
   "id": "bff0891574f02ddf"
  },
  {
   "cell_type": "code",
   "execution_count": 7,
   "outputs": [
    {
     "data": {
      "text/plain": "<Axes: xlabel='label'>"
     },
     "execution_count": 7,
     "metadata": {},
     "output_type": "execute_result"
    },
    {
     "data": {
      "text/plain": "<Figure size 640x480 with 1 Axes>",
      "image/png": "[encoded data removed]"
     },
     "metadata": {},
     "output_type": "display_data"
    }
   ],
   "source": [
    " # check if evenly distributed\n",
    "train_data['label'].value_counts().plot(kind='bar')"
   ],
   "metadata": {
    "collapsed": false,
    "ExecuteTime": {
     "end_time": "2023-11-11T06:37:00.208083Z",
     "start_time": "2023-11-11T06:37:00.079246Z"
    }
   },
   "id": "27a5c674515ea9c"
  },
  {
   "cell_type": "code",
   "execution_count": 8,
   "outputs": [
    {
     "name": "stdout",
     "output_type": "stream",
     "text": [
      "149931 ratings    0\n",
      "reviews    0\n",
      "label      0\n",
      "dtype: int64\n",
      "49977 ratings    0\n",
      "reviews    0\n",
      "label      0\n",
      "dtype: int64\n"
     ]
    }
   ],
   "source": [
    "train_data['reviews'].str.replace(\"[^ㄱ-ㅎㅏ-ㅣ가-힣 ]\", \"\") # convert non-Korean characters to blank\n",
    "test_data['reviews'].str.replace(\"[^ㄱ-ㅎㅏ-ㅣ가-힣 ]\", \"\") \n",
    "\n",
    "train_data['reviews'].replace(\"\", np.nan, inplace=True) # convert blank to null\n",
    "test_data['reviews'].replace(\"\", np.nan, inplace=True) \n",
    "\n",
    "train_data.dropna(how='any', inplace=True) # drop null values\n",
    "test_data.dropna(how='any', inplace=True) \n",
    "\n",
    "train_data.drop_duplicates(subset=['reviews'], inplace=True) # drop duplicates\n",
    "test_data.drop_duplicates(subset=['reviews'], inplace=True)\n",
    "\n",
    "print(train_data['reviews'].nunique(), train_data.isnull().sum()) # check null values and unique values\n",
    "print(test_data['reviews'].nunique(), test_data.isnull().sum())"
   ],
   "metadata": {
    "collapsed": false,
    "ExecuteTime": {
     "end_time": "2023-11-11T06:37:00.425176Z",
     "start_time": "2023-11-11T06:37:00.212553Z"
    }
   },
   "id": "2018d6b7a824f413"
  },
  {
   "cell_type": "markdown",
   "source": [
    "# Tokenizing"
   ],
   "metadata": {
    "collapsed": false
   },
   "id": "7011e231ac3a6697"
  },
  {
   "cell_type": "code",
   "execution_count": 9,
   "outputs": [
    {
     "name": "stdout",
     "output_type": "stream",
     "text": [
      "['와', '이런', '것', '도', '상품', '이라고', '차라리', '내', '가', '만드는', '게', '나을', '뻔']\n"
     ]
    }
   ],
   "source": [
    "okt = Okt()\n",
    "stopwords = ['도', '는', '다', '의', '가', '이', '은', '한', '에', '하', '고', '을', '를', '인', '듯', '과', '와', '네', '들', '듯', '지', '임', '게']\n",
    "\n",
    "print(okt.morphs('와 이런 것도 상품이라고 차라리 내가 만드는 게 나을 뻔')) # test"
   ],
   "metadata": {
    "collapsed": false,
    "ExecuteTime": {
     "end_time": "2023-11-11T06:37:02.327330Z",
     "start_time": "2023-11-11T06:37:00.422598Z"
    }
   },
   "id": "6d44e674f0d67d01"
  },
  {
   "cell_type": "code",
   "execution_count": 10,
   "outputs": [],
   "source": [
    "train_data['tokenized'] = train_data['reviews'].apply(lambda x: okt.morphs(x, stem=True)) # tokenize train data\n",
    "train_data['tokenized'] = train_data['reviews'].apply(lambda x: [word for word in x if not word in stopwords]) # remove stopwords\n",
    "\n",
    "test_data['tokenized'] = test_data['reviews'].apply(lambda x: okt.morphs(x, stem=True)) # tokenize test data\n",
    "test_data['tokenized'] = test_data['reviews'].apply(lambda x: [word for word in x if not word in stopwords]) # remove stopwords"
   ],
   "metadata": {
    "collapsed": false,
    "ExecuteTime": {
     "end_time": "2023-11-11T06:41:41.520487Z",
     "start_time": "2023-11-11T06:37:02.326406Z"
    }
   },
   "id": "ee6c28af84871206"
  },
  {
   "cell_type": "code",
   "execution_count": 10,
   "outputs": [],
   "source": [],
   "metadata": {
    "collapsed": false,
    "ExecuteTime": {
     "end_time": "2023-11-11T06:41:41.521947Z",
     "start_time": "2023-11-11T06:41:41.520664Z"
    }
   },
   "id": "5c38ebfd1d6248f1"
  }
 ],
 "metadata": {
  "kernelspec": {
   "display_name": "Python 3",
   "language": "python",
   "name": "python3"
  },
  "language_info": {
   "codemirror_mode": {
    "name": "ipython",
    "version": 2
   },
   "file_extension": ".py",
   "mimetype": "text/x-python",
   "name": "python",
   "nbconvert_exporter": "python",
   "pygments_lexer": "ipython2",
   "version": "2.7.6"
  }
 },
 "nbformat": 4,
 "nbformat_minor": 5
}
