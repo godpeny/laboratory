{
 "cells": [
  {
   "cell_type": "code",
   "execution_count": 1,
   "id": "initial_id",
   "metadata": {
    "collapsed": true,
    "ExecuteTime": {
     "end_time": "2023-12-30T06:20:26.898201Z",
     "start_time": "2023-12-30T06:20:23.772027Z"
    }
   },
   "outputs": [],
   "source": [
    "import numpy as np\n",
    "import itertools\n",
    "\n",
    "from sklearn.feature_extraction.text import CountVectorizer\n",
    "from sklearn.metrics.pairwise import cosine_similarity\n",
    "from sentence_transformers import SentenceTransformer"
   ]
  },
  {
   "cell_type": "code",
   "execution_count": 2,
   "outputs": [],
   "source": [
    "doc = \"\"\"\n",
    "         Supervised learning is the machine learning task of \n",
    "         learning a function that maps an input to an output based \n",
    "         on example input-output pairs.[1] It infers a function \n",
    "         from labeled training data consisting of a set of \n",
    "         training examples.[2] In supervised learning, each \n",
    "         example is a pair consisting of an input object \n",
    "         (typically a vector) and a desired output value (also \n",
    "         called the supervisory signal). A supervised learning \n",
    "         algorithm analyzes the training data and produces an \n",
    "         inferred function, which can be used for mapping new \n",
    "         examples. An optimal scenario will allow for the algorithm \n",
    "         to correctly determine the class labels for unseen \n",
    "         instances. This requires the learning algorithm to  \n",
    "         generalize from the training data to unseen situations \n",
    "         in a 'reasonable' way (see inductive bias).\n",
    "      \"\"\"\n"
   ],
   "metadata": {
    "collapsed": false,
    "ExecuteTime": {
     "end_time": "2023-12-30T06:20:26.901935Z",
     "start_time": "2023-12-30T06:20:26.899233Z"
    }
   },
   "id": "dd8a6a8408046364"
  },
  {
   "cell_type": "code",
   "execution_count": 4,
   "outputs": [
    {
     "name": "stdout",
     "output_type": "stream",
     "text": [
      "['algorithm analyzes training' 'algorithm correctly determine'\n",
      " 'algorithm generalize training' 'allow algorithm correctly'\n",
      " 'analyzes training data' 'based example input'\n",
      " 'called supervisory signal' 'class labels unseen'\n",
      " 'consisting input object' 'consisting set training'\n",
      " 'correctly determine class' 'data consisting set'\n",
      " 'data produces inferred' 'data unseen situations' 'desired output value'\n",
      " 'determine class labels' 'example input output' 'example pair consisting'\n",
      " 'examples optimal scenario' 'examples supervised learning'\n",
      " 'function labeled training' 'function maps input' 'function used mapping'\n",
      " 'generalize training data' 'inferred function used'\n",
      " 'infers function labeled' 'input object typically' 'input output based'\n",
      " 'input output pairs' 'instances requires learning'\n",
      " 'labeled training data' 'labels unseen instances'\n",
      " 'learning algorithm analyzes' 'learning algorithm generalize'\n",
      " 'learning example pair' 'learning function maps'\n",
      " 'learning machine learning' 'learning task learning'\n",
      " 'machine learning task' 'mapping new examples' 'maps input output'\n",
      " 'new examples optimal' 'object typically vector' 'optimal scenario allow'\n",
      " 'output based example' 'output pairs infers' 'output value called'\n",
      " 'pair consisting input' 'pairs infers function'\n",
      " 'produces inferred function' 'reasonable way inductive'\n",
      " 'requires learning algorithm' 'scenario allow algorithm'\n",
      " 'set training examples' 'signal supervised learning'\n",
      " 'situations reasonable way' 'supervised learning algorithm'\n",
      " 'supervised learning example' 'supervised learning machine'\n",
      " 'supervisory signal supervised' 'task learning function'\n",
      " 'training data consisting' 'training data produces'\n",
      " 'training data unseen' 'training examples supervised'\n",
      " 'typically vector desired' 'unseen instances requires'\n",
      " 'unseen situations reasonable' 'used mapping new'\n",
      " 'value called supervisory' 'vector desired output' 'way inductive bias']\n",
      "72\n"
     ]
    }
   ],
   "source": [
    "n_gram_range = (3,3) # trigrams\n",
    "stop_words = \"english\"\n",
    "\n",
    "# Extract candidate words/phrases\n",
    "cv = CountVectorizer(ngram_range=n_gram_range, stop_words=stop_words).fit([doc])\n",
    "candidates = cv.get_feature_names_out()\n",
    "\n",
    "print(candidates)\n",
    "print(len(candidates))"
   ],
   "metadata": {
    "collapsed": false,
    "ExecuteTime": {
     "end_time": "2023-12-30T06:23:48.939925Z",
     "start_time": "2023-12-30T06:23:48.933213Z"
    }
   },
   "id": "1e6c20f5f7bd46de"
  },
  {
   "cell_type": "code",
   "execution_count": 6,
   "outputs": [],
   "source": [
    "model = SentenceTransformer('distilbert-base-nli-mean-tokens')\n",
    "doc_embedding = model.encode([doc])\n",
    "candidate_embeddings = model.encode(candidates)"
   ],
   "metadata": {
    "collapsed": false,
    "ExecuteTime": {
     "end_time": "2023-12-30T06:27:32.745210Z",
     "start_time": "2023-12-30T06:27:32.108050Z"
    }
   },
   "id": "871fba68fa1867f8"
  },
  {
   "cell_type": "code",
   "execution_count": 7,
   "outputs": [
    {
     "name": "stdout",
     "output_type": "stream",
     "text": [
      "['algorithm analyzes training', 'learning algorithm generalize', 'learning machine learning', 'learning algorithm analyzes', 'algorithm generalize training']\n"
     ]
    }
   ],
   "source": [
    "# pick top_n words closest to the doc.\n",
    "top_n = 5\n",
    "\n",
    "distances = cosine_similarity(doc_embedding, candidate_embeddings)\n",
    "keywords = [candidates[index] for index in distances.argsort()[0][-top_n:]]\n",
    "print(keywords)"
   ],
   "metadata": {
    "collapsed": false,
    "ExecuteTime": {
     "end_time": "2023-12-30T06:27:34.031324Z",
     "start_time": "2023-12-30T06:27:34.006482Z"
    }
   },
   "id": "bf29ee94a9154d92"
  },
  {
   "cell_type": "code",
   "execution_count": null,
   "outputs": [],
   "source": [],
   "metadata": {
    "collapsed": false
   },
   "id": "22822166140d2fe6"
  }
 ],
 "metadata": {
  "kernelspec": {
   "display_name": "Python 3",
   "language": "python",
   "name": "python3"
  },
  "language_info": {
   "codemirror_mode": {
    "name": "ipython",
    "version": 2
   },
   "file_extension": ".py",
   "mimetype": "text/x-python",
   "name": "python",
   "nbconvert_exporter": "python",
   "pygments_lexer": "ipython2",
   "version": "2.7.6"
  }
 },
 "nbformat": 4,
 "nbformat_minor": 5
}
