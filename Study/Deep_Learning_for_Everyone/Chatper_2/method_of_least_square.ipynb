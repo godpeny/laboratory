{
  "nbformat": 4,
  "nbformat_minor": 0,
  "metadata": {
    "colab": {
      "provenance": [],
      "authorship_tag": "ABX9TyPRhxbDqhzTWqXqSiNejUe8",
      "include_colab_link": true
    },
    "kernelspec": {
      "name": "python3",
      "display_name": "Python 3"
    },
    "language_info": {
      "name": "python"
    },
    "accelerator": "TPU"
  },
  "cells": [
    {
      "cell_type": "markdown",
      "metadata": {
        "id": "view-in-github",
        "colab_type": "text"
      },
      "source": [
        "<a href=\"https://colab.research.google.com/github/godpeny/laboratory/blob/master/Study/Deep_Learning_for_Everyone/Chatper_4/method_of_least_squre.ipynb\" target=\"_parent\"><img src=\"https://colab.research.google.com/assets/colab-badge.svg\" alt=\"Open In Colab\"/></a>"
      ]
    },
    {
      "cell_type": "code",
      "execution_count": null,
      "metadata": {
        "colab": {
          "base_uri": "https://localhost:8080/"
        },
        "id": "u4lm7t32Aq11",
        "outputId": "c6fe4d29-0545-4cb3-8f8e-10acb86364ed"
      },
      "outputs": [
        {
          "output_type": "stream",
          "name": "stdout",
          "text": [
            "Requirement already satisfied: numpy in /usr/local/lib/python3.10/dist-packages (1.23.5)\n"
          ]
        }
      ],
      "source": [
        "%pip install numpy"
      ]
    },
    {
      "cell_type": "code",
      "source": [
        "# import\n",
        "import numpy as np"
      ],
      "metadata": {
        "id": "Biyyt0yCDzBW"
      },
      "execution_count": null,
      "outputs": []
    },
    {
      "cell_type": "code",
      "source": [
        "x = np.array([2,4,6,8])\n",
        "y = np.array([81,93,91, 97])\n",
        "\n",
        "mx = np.mean(x)\n",
        "my = np.mean(y)\n",
        "\n",
        "divisor = sum(pow((mx - i),2) for i in x) # 분모\n",
        "dividend = 0.0 # 분자\n",
        "\n",
        "for i in range(len(x)):\n",
        "  dividend += (mx - x[i]) * (my - y[i])\n",
        "\n",
        "print(divisor)\n",
        "print(dividend)"
      ],
      "metadata": {
        "colab": {
          "base_uri": "https://localhost:8080/"
        },
        "id": "q2k4gNnXGgfO",
        "outputId": "2286fb52-2168-40be-9fb0-8acef4e5d7c8"
      },
      "execution_count": null,
      "outputs": [
        {
          "output_type": "stream",
          "name": "stdout",
          "text": [
            "20.0\n",
            "46.0\n"
          ]
        }
      ]
    },
    {
      "cell_type": "code",
      "source": [
        "a = dividend / divisor\n",
        "b = my - (a * mx) # y = ax + b\n",
        "\n",
        "print(a)\n",
        "print(b)"
      ],
      "metadata": {
        "colab": {
          "base_uri": "https://localhost:8080/"
        },
        "id": "hkAFtPKGQhDQ",
        "outputId": "a91c3dbd-7d80-4ee2-8088-bfc82369445d"
      },
      "execution_count": null,
      "outputs": [
        {
          "output_type": "stream",
          "name": "stdout",
          "text": [
            "2.3\n",
            "79.0\n"
          ]
        }
      ]
    }
  ]
}