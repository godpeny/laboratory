{
  "nbformat": 4,
  "nbformat_minor": 0,
  "metadata": {
    "colab": {
      "provenance": [],
      "gpuType": "T4",
      "authorship_tag": "ABX9TyN9BQM2b9t8ClXfjgC40Fls",
      "include_colab_link": true
    },
    "kernelspec": {
      "name": "python3",
      "display_name": "Python 3"
    },
    "language_info": {
      "name": "python"
    },
    "accelerator": "GPU"
  },
  "cells": [
    {
      "cell_type": "markdown",
      "metadata": {
        "id": "view-in-github",
        "colab_type": "text"
      },
      "source": [
        "<a href=\"https://colab.research.google.com/github/godpeny/laboratory/blob/master/Study/Deep_Learning_for_Everyone/Chapter_5/rnn_reuters.ipynb\" target=\"_parent\"><img src=\"https://colab.research.google.com/assets/colab-badge.svg\" alt=\"Open In Colab\"/></a>"
      ]
    },
    {
      "cell_type": "code",
      "execution_count": 1,
      "metadata": {
        "id": "RFr3-v0rfUwq",
        "colab": {
          "base_uri": "https://localhost:8080/"
        },
        "outputId": "f7cb7310-d5a8-403f-cb90-b6f0de75eebe"
      },
      "outputs": [
        {
          "output_type": "stream",
          "name": "stdout",
          "text": [
            "Requirement already satisfied: pandas in /usr/local/lib/python3.10/dist-packages (1.5.3)\n",
            "Requirement already satisfied: python-dateutil>=2.8.1 in /usr/local/lib/python3.10/dist-packages (from pandas) (2.8.2)\n",
            "Requirement already satisfied: pytz>=2020.1 in /usr/local/lib/python3.10/dist-packages (from pandas) (2023.3.post1)\n",
            "Requirement already satisfied: numpy>=1.21.0 in /usr/local/lib/python3.10/dist-packages (from pandas) (1.23.5)\n",
            "Requirement already satisfied: six>=1.5 in /usr/local/lib/python3.10/dist-packages (from python-dateutil>=2.8.1->pandas) (1.16.0)\n",
            "Requirement already satisfied: numpy in /usr/local/lib/python3.10/dist-packages (1.23.5)\n",
            "Requirement already satisfied: tensorflow in /usr/local/lib/python3.10/dist-packages (2.13.0)\n",
            "Requirement already satisfied: absl-py>=1.0.0 in /usr/local/lib/python3.10/dist-packages (from tensorflow) (1.4.0)\n",
            "Requirement already satisfied: astunparse>=1.6.0 in /usr/local/lib/python3.10/dist-packages (from tensorflow) (1.6.3)\n",
            "Requirement already satisfied: flatbuffers>=23.1.21 in /usr/local/lib/python3.10/dist-packages (from tensorflow) (23.5.26)\n",
            "Requirement already satisfied: gast<=0.4.0,>=0.2.1 in /usr/local/lib/python3.10/dist-packages (from tensorflow) (0.4.0)\n",
            "Requirement already satisfied: google-pasta>=0.1.1 in /usr/local/lib/python3.10/dist-packages (from tensorflow) (0.2.0)\n",
            "Requirement already satisfied: grpcio<2.0,>=1.24.3 in /usr/local/lib/python3.10/dist-packages (from tensorflow) (1.57.0)\n",
            "Requirement already satisfied: h5py>=2.9.0 in /usr/local/lib/python3.10/dist-packages (from tensorflow) (3.9.0)\n",
            "Requirement already satisfied: keras<2.14,>=2.13.1 in /usr/local/lib/python3.10/dist-packages (from tensorflow) (2.13.1)\n",
            "Requirement already satisfied: libclang>=13.0.0 in /usr/local/lib/python3.10/dist-packages (from tensorflow) (16.0.6)\n",
            "Requirement already satisfied: numpy<=1.24.3,>=1.22 in /usr/local/lib/python3.10/dist-packages (from tensorflow) (1.23.5)\n",
            "Requirement already satisfied: opt-einsum>=2.3.2 in /usr/local/lib/python3.10/dist-packages (from tensorflow) (3.3.0)\n",
            "Requirement already satisfied: packaging in /usr/local/lib/python3.10/dist-packages (from tensorflow) (23.1)\n",
            "Requirement already satisfied: protobuf!=4.21.0,!=4.21.1,!=4.21.2,!=4.21.3,!=4.21.4,!=4.21.5,<5.0.0dev,>=3.20.3 in /usr/local/lib/python3.10/dist-packages (from tensorflow) (3.20.3)\n",
            "Requirement already satisfied: setuptools in /usr/local/lib/python3.10/dist-packages (from tensorflow) (67.7.2)\n",
            "Requirement already satisfied: six>=1.12.0 in /usr/local/lib/python3.10/dist-packages (from tensorflow) (1.16.0)\n",
            "Requirement already satisfied: tensorboard<2.14,>=2.13 in /usr/local/lib/python3.10/dist-packages (from tensorflow) (2.13.0)\n",
            "Requirement already satisfied: tensorflow-estimator<2.14,>=2.13.0 in /usr/local/lib/python3.10/dist-packages (from tensorflow) (2.13.0)\n",
            "Requirement already satisfied: termcolor>=1.1.0 in /usr/local/lib/python3.10/dist-packages (from tensorflow) (2.3.0)\n",
            "Requirement already satisfied: typing-extensions<4.6.0,>=3.6.6 in /usr/local/lib/python3.10/dist-packages (from tensorflow) (4.5.0)\n",
            "Requirement already satisfied: wrapt>=1.11.0 in /usr/local/lib/python3.10/dist-packages (from tensorflow) (1.15.0)\n",
            "Requirement already satisfied: tensorflow-io-gcs-filesystem>=0.23.1 in /usr/local/lib/python3.10/dist-packages (from tensorflow) (0.33.0)\n",
            "Requirement already satisfied: wheel<1.0,>=0.23.0 in /usr/local/lib/python3.10/dist-packages (from astunparse>=1.6.0->tensorflow) (0.41.2)\n",
            "Requirement already satisfied: google-auth<3,>=1.6.3 in /usr/local/lib/python3.10/dist-packages (from tensorboard<2.14,>=2.13->tensorflow) (2.17.3)\n",
            "Requirement already satisfied: google-auth-oauthlib<1.1,>=0.5 in /usr/local/lib/python3.10/dist-packages (from tensorboard<2.14,>=2.13->tensorflow) (1.0.0)\n",
            "Requirement already satisfied: markdown>=2.6.8 in /usr/local/lib/python3.10/dist-packages (from tensorboard<2.14,>=2.13->tensorflow) (3.4.4)\n",
            "Requirement already satisfied: requests<3,>=2.21.0 in /usr/local/lib/python3.10/dist-packages (from tensorboard<2.14,>=2.13->tensorflow) (2.31.0)\n",
            "Requirement already satisfied: tensorboard-data-server<0.8.0,>=0.7.0 in /usr/local/lib/python3.10/dist-packages (from tensorboard<2.14,>=2.13->tensorflow) (0.7.1)\n",
            "Requirement already satisfied: werkzeug>=1.0.1 in /usr/local/lib/python3.10/dist-packages (from tensorboard<2.14,>=2.13->tensorflow) (2.3.7)\n",
            "Requirement already satisfied: cachetools<6.0,>=2.0.0 in /usr/local/lib/python3.10/dist-packages (from google-auth<3,>=1.6.3->tensorboard<2.14,>=2.13->tensorflow) (5.3.1)\n",
            "Requirement already satisfied: pyasn1-modules>=0.2.1 in /usr/local/lib/python3.10/dist-packages (from google-auth<3,>=1.6.3->tensorboard<2.14,>=2.13->tensorflow) (0.3.0)\n",
            "Requirement already satisfied: rsa<5,>=3.1.4 in /usr/local/lib/python3.10/dist-packages (from google-auth<3,>=1.6.3->tensorboard<2.14,>=2.13->tensorflow) (4.9)\n",
            "Requirement already satisfied: requests-oauthlib>=0.7.0 in /usr/local/lib/python3.10/dist-packages (from google-auth-oauthlib<1.1,>=0.5->tensorboard<2.14,>=2.13->tensorflow) (1.3.1)\n",
            "Requirement already satisfied: charset-normalizer<4,>=2 in /usr/local/lib/python3.10/dist-packages (from requests<3,>=2.21.0->tensorboard<2.14,>=2.13->tensorflow) (3.2.0)\n",
            "Requirement already satisfied: idna<4,>=2.5 in /usr/local/lib/python3.10/dist-packages (from requests<3,>=2.21.0->tensorboard<2.14,>=2.13->tensorflow) (3.4)\n",
            "Requirement already satisfied: urllib3<3,>=1.21.1 in /usr/local/lib/python3.10/dist-packages (from requests<3,>=2.21.0->tensorboard<2.14,>=2.13->tensorflow) (2.0.4)\n",
            "Requirement already satisfied: certifi>=2017.4.17 in /usr/local/lib/python3.10/dist-packages (from requests<3,>=2.21.0->tensorboard<2.14,>=2.13->tensorflow) (2023.7.22)\n",
            "Requirement already satisfied: MarkupSafe>=2.1.1 in /usr/local/lib/python3.10/dist-packages (from werkzeug>=1.0.1->tensorboard<2.14,>=2.13->tensorflow) (2.1.3)\n",
            "Requirement already satisfied: pyasn1<0.6.0,>=0.4.6 in /usr/local/lib/python3.10/dist-packages (from pyasn1-modules>=0.2.1->google-auth<3,>=1.6.3->tensorboard<2.14,>=2.13->tensorflow) (0.5.0)\n",
            "Requirement already satisfied: oauthlib>=3.0.0 in /usr/local/lib/python3.10/dist-packages (from requests-oauthlib>=0.7.0->google-auth-oauthlib<1.1,>=0.5->tensorboard<2.14,>=2.13->tensorflow) (3.2.2)\n",
            "Collecting sklearn\n",
            "  Downloading sklearn-0.0.post9.tar.gz (3.6 kB)\n",
            "  Preparing metadata (setup.py) ... \u001b[?25l\u001b[?25hdone\n",
            "Building wheels for collected packages: sklearn\n",
            "  Building wheel for sklearn (setup.py) ... \u001b[?25l\u001b[?25hdone\n",
            "  Created wheel for sklearn: filename=sklearn-0.0.post9-py3-none-any.whl size=2952 sha256=aed068cc94b56aa6fa353ec69ed422324dc72911ecb23885387271829ac8b5a6\n",
            "  Stored in directory: /root/.cache/pip/wheels/33/a3/d2/092b519e9522b4c91608b7dcec0dd9051fa1bff4c45f4502d1\n",
            "Successfully built sklearn\n",
            "Installing collected packages: sklearn\n",
            "Successfully installed sklearn-0.0.post9\n",
            "Requirement already satisfied: matplotlib in /usr/local/lib/python3.10/dist-packages (3.7.1)\n",
            "Requirement already satisfied: contourpy>=1.0.1 in /usr/local/lib/python3.10/dist-packages (from matplotlib) (1.1.0)\n",
            "Requirement already satisfied: cycler>=0.10 in /usr/local/lib/python3.10/dist-packages (from matplotlib) (0.11.0)\n",
            "Requirement already satisfied: fonttools>=4.22.0 in /usr/local/lib/python3.10/dist-packages (from matplotlib) (4.42.1)\n",
            "Requirement already satisfied: kiwisolver>=1.0.1 in /usr/local/lib/python3.10/dist-packages (from matplotlib) (1.4.5)\n",
            "Requirement already satisfied: numpy>=1.20 in /usr/local/lib/python3.10/dist-packages (from matplotlib) (1.23.5)\n",
            "Requirement already satisfied: packaging>=20.0 in /usr/local/lib/python3.10/dist-packages (from matplotlib) (23.1)\n",
            "Requirement already satisfied: pillow>=6.2.0 in /usr/local/lib/python3.10/dist-packages (from matplotlib) (9.4.0)\n",
            "Requirement already satisfied: pyparsing>=2.3.1 in /usr/local/lib/python3.10/dist-packages (from matplotlib) (3.1.1)\n",
            "Requirement already satisfied: python-dateutil>=2.7 in /usr/local/lib/python3.10/dist-packages (from matplotlib) (2.8.2)\n",
            "Requirement already satisfied: six>=1.5 in /usr/local/lib/python3.10/dist-packages (from python-dateutil>=2.7->matplotlib) (1.16.0)\n"
          ]
        }
      ],
      "source": [
        "# install\n",
        "%pip install pandas\n",
        "%pip install numpy\n",
        "%pip install tensorflow\n",
        "%pip install sklearn\n",
        "%pip install matplotlib"
      ]
    },
    {
      "cell_type": "code",
      "source": [
        "# import\n",
        "import pandas as pd\n",
        "import numpy as np\n",
        "\n",
        "from google.colab import drive\n",
        "\n",
        "from tensorflow.keras.models import Sequential\n",
        "from tensorflow.keras.layers import Dense, Embedding, LSTM\n",
        "from tensorflow.keras.callbacks import ModelCheckpoint, EarlyStopping\n",
        "from tensorflow.keras.datasets import reuters\n",
        "from tensorflow.keras.utils import to_categorical\n",
        "from tensorflow.keras.preprocessing.sequence import pad_sequences\n",
        "\n",
        "\n",
        "from sklearn.model_selection import train_test_split\n",
        "import matplotlib.pyplot as plt"
      ],
      "metadata": {
        "id": "Djkvo1fvfX62"
      },
      "execution_count": 2,
      "outputs": []
    },
    {
      "cell_type": "markdown",
      "source": [
        "#Reuters newswire classification dataset\n",
        "\n",
        "https://keras.io/api/datasets/reuters/\n",
        "\n",
        "Each newswire is encoded as a list of word indexes (integers). For convenience, words are indexed by overall frequency in the dataset, so that for instance the integer \"3\" encodes the 3rd most frequent word in the data."
      ],
      "metadata": {
        "id": "VC8H-VP45f0B"
      }
    },
    {
      "cell_type": "code",
      "source": [
        "\"\"\"\n",
        "load data sets\n",
        "\"\"\"\n",
        "num_words = 1000 # get only top 1000 words\n",
        "\n",
        "(X_train, y_train), (X_test, y_test) = reuters.load_data(num_words=num_words, test_split=0.2)\n",
        "print(np.max(y_train)) # num of categories\n",
        "print(X_train[20]) # data element\n",
        "print(len(X_train[20]))"
      ],
      "metadata": {
        "colab": {
          "base_uri": "https://localhost:8080/"
        },
        "id": "YUc71pYj8OIM",
        "outputId": "d2d325d5-2864-4a0b-accf-a5159e446e13"
      },
      "execution_count": 3,
      "outputs": [
        {
          "output_type": "stream",
          "name": "stdout",
          "text": [
            "Downloading data from https://storage.googleapis.com/tensorflow/tf-keras-datasets/reuters.npz\n",
            "2110848/2110848 [==============================] - 0s 0us/step\n",
            "45\n",
            "[1, 779, 37, 38, 465, 278, 2, 55, 900, 6, 2, 172, 4, 2, 2, 66, 474, 10, 920, 24, 41, 2, 2, 2, 136, 4, 37, 38, 309, 2, 198, 2, 364, 2, 6, 439, 2, 2, 5, 37, 38, 465, 247, 348, 4, 460, 356, 990, 2, 8, 136, 2, 2, 634, 330, 116, 2, 2, 6, 2, 198, 236, 2, 6, 2, 2, 2, 238, 2, 990, 309, 415, 265, 2, 2, 2, 2, 23, 779, 10, 103, 5, 465, 278, 2, 7, 42, 2, 6, 2, 4, 2, 7, 269, 10, 583, 43, 6, 2, 2, 6, 30, 2, 13, 4, 2, 199, 8, 4, 2, 348, 990, 313, 415, 265, 2, 2, 2, 2, 2, 2, 2, 2, 2, 2, 2, 2, 2, 2, 2, 2, 9, 2, 2, 2, 2, 75, 91, 2, 172, 4, 66, 474, 10, 2, 6, 2, 2, 398, 9, 2, 22, 342, 203, 4, 2, 2, 27, 2, 2, 2, 2, 2, 41, 2, 4, 2, 5, 182, 7, 2, 552, 58, 45, 203, 62, 2, 2, 6, 37, 38, 398, 2, 474, 2, 22, 10, 105, 534, 27, 4, 141, 66, 259, 24, 203, 22, 392, 5, 2, 2, 51, 45, 2, 2, 9, 2, 2, 62, 2, 37, 38, 398, 4, 2, 2, 57, 2, 392, 40, 2, 2, 898, 5, 2, 2, 31, 2, 2, 17, 12]\n",
            "231\n"
          ]
        }
      ]
    },
    {
      "cell_type": "code",
      "source": [
        "\"\"\"\n",
        "preprocessing\n",
        "\"\"\"\n",
        "input_len = 100\n",
        "\n",
        "# padding and slicing\n",
        "X_train_padded = pad_sequences(X_train, maxlen=input_len) # use only ~100 elements\n",
        "X_test_padded = pad_sequences(X_test, maxlen=input_len) # use only ~100 elements\n",
        "\n",
        "print(X_train_padded[20])\n",
        "print(len(X_train_padded[20]))\n",
        "\n",
        "# one-hot encodding\n",
        "y_train_encodded = to_categorical(y_train)\n",
        "y_test_encodded = to_categorical(y_test)\n",
        "\n",
        "print(y_train[0]) # 3\n",
        "print(y_train_encodded[0]) # 3 -> [0 0 0 1 0 0 ... 0 0]"
      ],
      "metadata": {
        "colab": {
          "base_uri": "https://localhost:8080/"
        },
        "id": "GqPKRtP19F_Z",
        "outputId": "6ff7f87f-c90b-45af-d933-62dd9b97e4f9"
      },
      "execution_count": 4,
      "outputs": [
        {
          "output_type": "stream",
          "name": "stdout",
          "text": [
            "[  9   2   2   2   2  75  91   2 172   4  66 474  10   2   6   2   2 398\n",
            "   9   2  22 342 203   4   2   2  27   2   2   2   2   2  41   2   4   2\n",
            "   5 182   7   2 552  58  45 203  62   2   2   6  37  38 398   2 474   2\n",
            "  22  10 105 534  27   4 141  66 259  24 203  22 392   5   2   2  51  45\n",
            "   2   2   9   2   2  62   2  37  38 398   4   2   2  57   2 392  40   2\n",
            "   2 898   5   2   2  31   2   2  17  12]\n",
            "100\n",
            "3\n",
            "[0. 0. 0. 1. 0. 0. 0. 0. 0. 0. 0. 0. 0. 0. 0. 0. 0. 0. 0. 0. 0. 0. 0. 0.\n",
            " 0. 0. 0. 0. 0. 0. 0. 0. 0. 0. 0. 0. 0. 0. 0. 0. 0. 0. 0. 0. 0. 0.]\n"
          ]
        }
      ]
    },
    {
      "cell_type": "code",
      "source": [
        "\"\"\"\n",
        "modeling\n",
        "\"\"\"\n",
        "model = Sequential()\n",
        "model.add(Embedding(input_dim=num_words, output_dim=input_len)) # input: 1000 words, output: 100 words\n",
        "model.add(LSTM(units=100)) # default activation func of 'LSTM' is 'tanh'\n",
        "model.add(Dense(np.max(y_train)+1, activation='softmax')) # np.max(y_train)+1 = num of categories\n",
        "model.summary()\n",
        "\n",
        "model.compile(loss='categorical_crossentropy', optimizer='adam', metrics='accuracy')"
      ],
      "metadata": {
        "colab": {
          "base_uri": "https://localhost:8080/"
        },
        "id": "mROlx53Y_xs1",
        "outputId": "c2a2e496-050e-4d01-e8b1-450ecfb7a551"
      },
      "execution_count": 5,
      "outputs": [
        {
          "output_type": "stream",
          "name": "stdout",
          "text": [
            "Model: \"sequential\"\n",
            "_________________________________________________________________\n",
            " Layer (type)                Output Shape              Param #   \n",
            "=================================================================\n",
            " embedding (Embedding)       (None, None, 100)         100000    \n",
            "                                                                 \n",
            " lstm (LSTM)                 (None, 100)               80400     \n",
            "                                                                 \n",
            " dense (Dense)               (None, 46)                4646      \n",
            "                                                                 \n",
            "=================================================================\n",
            "Total params: 185046 (722.84 KB)\n",
            "Trainable params: 185046 (722.84 KB)\n",
            "Non-trainable params: 0 (0.00 Byte)\n",
            "_________________________________________________________________\n"
          ]
        }
      ]
    },
    {
      "cell_type": "code",
      "source": [
        "\"\"\"\n",
        "checkpointers\n",
        "\"\"\"\n",
        "early_stopping_checkpointer = EarlyStopping(patience=5) # monitor='val_loss' for default"
      ],
      "metadata": {
        "id": "6_uWgDU8Ex8a"
      },
      "execution_count": 6,
      "outputs": []
    },
    {
      "cell_type": "code",
      "source": [
        "\"\"\"\n",
        "training\n",
        "\"\"\"\n",
        "history = model.fit(X_train_padded, y_train_encodded, epochs=200, batch_size=20, validation_data=(X_test_padded, y_test_encodded), callbacks=[early_stopping_checkpointer], verbose=True)"
      ],
      "metadata": {
        "colab": {
          "base_uri": "https://localhost:8080/"
        },
        "id": "7MX28h9eEDD_",
        "outputId": "cbb8da46-c074-40ff-dd9f-cda467ece7b8"
      },
      "execution_count": 7,
      "outputs": [
        {
          "output_type": "stream",
          "name": "stdout",
          "text": [
            "Epoch 1/200\n",
            "450/450 [==============================] - 37s 66ms/step - loss: 2.2471 - accuracy: 0.4294 - val_loss: 1.9876 - val_accuracy: 0.5156\n",
            "Epoch 2/200\n",
            "450/450 [==============================] - 7s 16ms/step - loss: 1.8960 - accuracy: 0.5311 - val_loss: 1.7459 - val_accuracy: 0.5597\n",
            "Epoch 3/200\n",
            "450/450 [==============================] - 6s 13ms/step - loss: 1.7051 - accuracy: 0.5625 - val_loss: 1.6834 - val_accuracy: 0.5699\n",
            "Epoch 4/200\n",
            "450/450 [==============================] - 5s 11ms/step - loss: 1.5941 - accuracy: 0.5878 - val_loss: 1.6008 - val_accuracy: 0.5908\n",
            "Epoch 5/200\n",
            "450/450 [==============================] - 6s 12ms/step - loss: 1.4518 - accuracy: 0.6295 - val_loss: 1.4502 - val_accuracy: 0.6300\n",
            "Epoch 6/200\n",
            "450/450 [==============================] - 5s 12ms/step - loss: 1.3211 - accuracy: 0.6666 - val_loss: 1.4224 - val_accuracy: 0.6407\n",
            "Epoch 7/200\n",
            "450/450 [==============================] - 4s 9ms/step - loss: 1.1938 - accuracy: 0.7015 - val_loss: 1.2743 - val_accuracy: 0.6803\n",
            "Epoch 8/200\n",
            "450/450 [==============================] - 6s 13ms/step - loss: 1.1018 - accuracy: 0.7232 - val_loss: 1.2105 - val_accuracy: 0.6919\n",
            "Epoch 9/200\n",
            "450/450 [==============================] - 4s 10ms/step - loss: 1.0163 - accuracy: 0.7419 - val_loss: 1.1679 - val_accuracy: 0.7021\n",
            "Epoch 10/200\n",
            "450/450 [==============================] - 4s 8ms/step - loss: 0.9368 - accuracy: 0.7652 - val_loss: 1.1246 - val_accuracy: 0.7235\n",
            "Epoch 11/200\n",
            "450/450 [==============================] - 5s 10ms/step - loss: 0.8686 - accuracy: 0.7807 - val_loss: 1.1080 - val_accuracy: 0.7204\n",
            "Epoch 12/200\n",
            "450/450 [==============================] - 4s 8ms/step - loss: 0.8071 - accuracy: 0.7923 - val_loss: 1.1042 - val_accuracy: 0.7293\n",
            "Epoch 13/200\n",
            "450/450 [==============================] - 4s 9ms/step - loss: 0.7527 - accuracy: 0.8068 - val_loss: 1.1164 - val_accuracy: 0.7280\n",
            "Epoch 14/200\n",
            "450/450 [==============================] - 5s 10ms/step - loss: 0.6995 - accuracy: 0.8235 - val_loss: 1.1232 - val_accuracy: 0.7231\n",
            "Epoch 15/200\n",
            "450/450 [==============================] - 4s 9ms/step - loss: 0.6463 - accuracy: 0.8377 - val_loss: 1.1164 - val_accuracy: 0.7324\n",
            "Epoch 16/200\n",
            "450/450 [==============================] - 4s 9ms/step - loss: 0.6030 - accuracy: 0.8450 - val_loss: 1.1473 - val_accuracy: 0.7217\n",
            "Epoch 17/200\n",
            "450/450 [==============================] - 5s 10ms/step - loss: 0.5542 - accuracy: 0.8596 - val_loss: 1.1794 - val_accuracy: 0.7240\n"
          ]
        }
      ]
    },
    {
      "cell_type": "code",
      "source": [
        "# show result with graph\n",
        "v_loss = history.history['val_loss']\n",
        "loss = history.history['loss']\n",
        "\n",
        "g_x_len = np.arange(len(v_loss))\n",
        "\n",
        "plt.plot(g_x_len, v_loss, marker='.', c='red', label='V_Loss')\n",
        "plt.plot(g_x_len, loss, marker='.', c='blue', label='Loss')\n",
        "\n",
        "plt.legend()\n",
        "plt.grid()\n",
        "plt.xlabel(\"epoch\")\n",
        "plt.ylabel(\"loss\")\n",
        "plt.show()"
      ],
      "metadata": {
        "colab": {
          "base_uri": "https://localhost:8080/",
          "height": 449
        },
        "id": "1Kz1E9ZPGWdY",
        "outputId": "10a98b78-8f20-418b-c554-01c821d7f2c6"
      },
      "execution_count": 11,
      "outputs": [
        {
          "output_type": "display_data",
          "data": {
            "text/plain": [
              "<Figure size 640x480 with 1 Axes>"
            ],
            "image/png": "[encoded data removed]"
          },
          "metadata": {}
        }
      ]
    }
  ]
}