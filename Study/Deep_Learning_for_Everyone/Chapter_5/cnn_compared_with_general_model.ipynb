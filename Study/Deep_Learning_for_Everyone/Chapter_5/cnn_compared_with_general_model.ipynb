{
  "nbformat": 4,
  "nbformat_minor": 0,
  "metadata": {
    "colab": {
      "provenance": [],
      "gpuType": "T4",
      "authorship_tag": "ABX9TyM0AC7uDS62j9q2J8Y98ln7",
      "include_colab_link": true
    },
    "kernelspec": {
      "name": "python3",
      "display_name": "Python 3"
    },
    "language_info": {
      "name": "python"
    },
    "accelerator": "GPU"
  },
  "cells": [
    {
      "cell_type": "markdown",
      "metadata": {
        "id": "view-in-github",
        "colab_type": "text"
      },
      "source": [
        "<a href=\"https://colab.research.google.com/github/godpeny/laboratory/blob/master/Study/Deep_Learning_for_Everyone/Chapter_5/cnn_compared_with_general_model.ipynb\" target=\"_parent\"><img src=\"https://colab.research.google.com/assets/colab-badge.svg\" alt=\"Open In Colab\"/></a>"
      ]
    },
    {
      "cell_type": "code",
      "execution_count": 1,
      "metadata": {
        "colab": {
          "base_uri": "https://localhost:8080/"
        },
        "id": "bOmYmuTMCHzk",
        "outputId": "d53e54a9-b222-4a73-8d3f-83cfe708bbcb"
      },
      "outputs": [
        {
          "output_type": "stream",
          "name": "stdout",
          "text": [
            "Requirement already satisfied: pandas in /usr/local/lib/python3.10/dist-packages (1.5.3)\n",
            "Requirement already satisfied: python-dateutil>=2.8.1 in /usr/local/lib/python3.10/dist-packages (from pandas) (2.8.2)\n",
            "Requirement already satisfied: pytz>=2020.1 in /usr/local/lib/python3.10/dist-packages (from pandas) (2023.3.post1)\n",
            "Requirement already satisfied: numpy>=1.21.0 in /usr/local/lib/python3.10/dist-packages (from pandas) (1.23.5)\n",
            "Requirement already satisfied: six>=1.5 in /usr/local/lib/python3.10/dist-packages (from python-dateutil>=2.8.1->pandas) (1.16.0)\n",
            "Requirement already satisfied: numpy in /usr/local/lib/python3.10/dist-packages (1.23.5)\n",
            "Requirement already satisfied: tensorflow in /usr/local/lib/python3.10/dist-packages (2.13.0)\n",
            "Requirement already satisfied: absl-py>=1.0.0 in /usr/local/lib/python3.10/dist-packages (from tensorflow) (1.4.0)\n",
            "Requirement already satisfied: astunparse>=1.6.0 in /usr/local/lib/python3.10/dist-packages (from tensorflow) (1.6.3)\n",
            "Requirement already satisfied: flatbuffers>=23.1.21 in /usr/local/lib/python3.10/dist-packages (from tensorflow) (23.5.26)\n",
            "Requirement already satisfied: gast<=0.4.0,>=0.2.1 in /usr/local/lib/python3.10/dist-packages (from tensorflow) (0.4.0)\n",
            "Requirement already satisfied: google-pasta>=0.1.1 in /usr/local/lib/python3.10/dist-packages (from tensorflow) (0.2.0)\n",
            "Requirement already satisfied: grpcio<2.0,>=1.24.3 in /usr/local/lib/python3.10/dist-packages (from tensorflow) (1.57.0)\n",
            "Requirement already satisfied: h5py>=2.9.0 in /usr/local/lib/python3.10/dist-packages (from tensorflow) (3.9.0)\n",
            "Requirement already satisfied: keras<2.14,>=2.13.1 in /usr/local/lib/python3.10/dist-packages (from tensorflow) (2.13.1)\n",
            "Requirement already satisfied: libclang>=13.0.0 in /usr/local/lib/python3.10/dist-packages (from tensorflow) (16.0.6)\n",
            "Requirement already satisfied: numpy<=1.24.3,>=1.22 in /usr/local/lib/python3.10/dist-packages (from tensorflow) (1.23.5)\n",
            "Requirement already satisfied: opt-einsum>=2.3.2 in /usr/local/lib/python3.10/dist-packages (from tensorflow) (3.3.0)\n",
            "Requirement already satisfied: packaging in /usr/local/lib/python3.10/dist-packages (from tensorflow) (23.1)\n",
            "Requirement already satisfied: protobuf!=4.21.0,!=4.21.1,!=4.21.2,!=4.21.3,!=4.21.4,!=4.21.5,<5.0.0dev,>=3.20.3 in /usr/local/lib/python3.10/dist-packages (from tensorflow) (3.20.3)\n",
            "Requirement already satisfied: setuptools in /usr/local/lib/python3.10/dist-packages (from tensorflow) (67.7.2)\n",
            "Requirement already satisfied: six>=1.12.0 in /usr/local/lib/python3.10/dist-packages (from tensorflow) (1.16.0)\n",
            "Requirement already satisfied: tensorboard<2.14,>=2.13 in /usr/local/lib/python3.10/dist-packages (from tensorflow) (2.13.0)\n",
            "Requirement already satisfied: tensorflow-estimator<2.14,>=2.13.0 in /usr/local/lib/python3.10/dist-packages (from tensorflow) (2.13.0)\n",
            "Requirement already satisfied: termcolor>=1.1.0 in /usr/local/lib/python3.10/dist-packages (from tensorflow) (2.3.0)\n",
            "Requirement already satisfied: typing-extensions<4.6.0,>=3.6.6 in /usr/local/lib/python3.10/dist-packages (from tensorflow) (4.5.0)\n",
            "Requirement already satisfied: wrapt>=1.11.0 in /usr/local/lib/python3.10/dist-packages (from tensorflow) (1.15.0)\n",
            "Requirement already satisfied: tensorflow-io-gcs-filesystem>=0.23.1 in /usr/local/lib/python3.10/dist-packages (from tensorflow) (0.33.0)\n",
            "Requirement already satisfied: wheel<1.0,>=0.23.0 in /usr/local/lib/python3.10/dist-packages (from astunparse>=1.6.0->tensorflow) (0.41.2)\n",
            "Requirement already satisfied: google-auth<3,>=1.6.3 in /usr/local/lib/python3.10/dist-packages (from tensorboard<2.14,>=2.13->tensorflow) (2.17.3)\n",
            "Requirement already satisfied: google-auth-oauthlib<1.1,>=0.5 in /usr/local/lib/python3.10/dist-packages (from tensorboard<2.14,>=2.13->tensorflow) (1.0.0)\n",
            "Requirement already satisfied: markdown>=2.6.8 in /usr/local/lib/python3.10/dist-packages (from tensorboard<2.14,>=2.13->tensorflow) (3.4.4)\n",
            "Requirement already satisfied: requests<3,>=2.21.0 in /usr/local/lib/python3.10/dist-packages (from tensorboard<2.14,>=2.13->tensorflow) (2.31.0)\n",
            "Requirement already satisfied: tensorboard-data-server<0.8.0,>=0.7.0 in /usr/local/lib/python3.10/dist-packages (from tensorboard<2.14,>=2.13->tensorflow) (0.7.1)\n",
            "Requirement already satisfied: werkzeug>=1.0.1 in /usr/local/lib/python3.10/dist-packages (from tensorboard<2.14,>=2.13->tensorflow) (2.3.7)\n",
            "Requirement already satisfied: cachetools<6.0,>=2.0.0 in /usr/local/lib/python3.10/dist-packages (from google-auth<3,>=1.6.3->tensorboard<2.14,>=2.13->tensorflow) (5.3.1)\n",
            "Requirement already satisfied: pyasn1-modules>=0.2.1 in /usr/local/lib/python3.10/dist-packages (from google-auth<3,>=1.6.3->tensorboard<2.14,>=2.13->tensorflow) (0.3.0)\n",
            "Requirement already satisfied: rsa<5,>=3.1.4 in /usr/local/lib/python3.10/dist-packages (from google-auth<3,>=1.6.3->tensorboard<2.14,>=2.13->tensorflow) (4.9)\n",
            "Requirement already satisfied: requests-oauthlib>=0.7.0 in /usr/local/lib/python3.10/dist-packages (from google-auth-oauthlib<1.1,>=0.5->tensorboard<2.14,>=2.13->tensorflow) (1.3.1)\n",
            "Requirement already satisfied: charset-normalizer<4,>=2 in /usr/local/lib/python3.10/dist-packages (from requests<3,>=2.21.0->tensorboard<2.14,>=2.13->tensorflow) (3.2.0)\n",
            "Requirement already satisfied: idna<4,>=2.5 in /usr/local/lib/python3.10/dist-packages (from requests<3,>=2.21.0->tensorboard<2.14,>=2.13->tensorflow) (3.4)\n",
            "Requirement already satisfied: urllib3<3,>=1.21.1 in /usr/local/lib/python3.10/dist-packages (from requests<3,>=2.21.0->tensorboard<2.14,>=2.13->tensorflow) (2.0.4)\n",
            "Requirement already satisfied: certifi>=2017.4.17 in /usr/local/lib/python3.10/dist-packages (from requests<3,>=2.21.0->tensorboard<2.14,>=2.13->tensorflow) (2023.7.22)\n",
            "Requirement already satisfied: MarkupSafe>=2.1.1 in /usr/local/lib/python3.10/dist-packages (from werkzeug>=1.0.1->tensorboard<2.14,>=2.13->tensorflow) (2.1.3)\n",
            "Requirement already satisfied: pyasn1<0.6.0,>=0.4.6 in /usr/local/lib/python3.10/dist-packages (from pyasn1-modules>=0.2.1->google-auth<3,>=1.6.3->tensorboard<2.14,>=2.13->tensorflow) (0.5.0)\n",
            "Requirement already satisfied: oauthlib>=3.0.0 in /usr/local/lib/python3.10/dist-packages (from requests-oauthlib>=0.7.0->google-auth-oauthlib<1.1,>=0.5->tensorboard<2.14,>=2.13->tensorflow) (3.2.2)\n",
            "Requirement already satisfied: sklearn in /usr/local/lib/python3.10/dist-packages (0.0.post9)\n",
            "Requirement already satisfied: matplotlib in /usr/local/lib/python3.10/dist-packages (3.7.1)\n",
            "Requirement already satisfied: contourpy>=1.0.1 in /usr/local/lib/python3.10/dist-packages (from matplotlib) (1.1.0)\n",
            "Requirement already satisfied: cycler>=0.10 in /usr/local/lib/python3.10/dist-packages (from matplotlib) (0.11.0)\n",
            "Requirement already satisfied: fonttools>=4.22.0 in /usr/local/lib/python3.10/dist-packages (from matplotlib) (4.42.1)\n",
            "Requirement already satisfied: kiwisolver>=1.0.1 in /usr/local/lib/python3.10/dist-packages (from matplotlib) (1.4.5)\n",
            "Requirement already satisfied: numpy>=1.20 in /usr/local/lib/python3.10/dist-packages (from matplotlib) (1.23.5)\n",
            "Requirement already satisfied: packaging>=20.0 in /usr/local/lib/python3.10/dist-packages (from matplotlib) (23.1)\n",
            "Requirement already satisfied: pillow>=6.2.0 in /usr/local/lib/python3.10/dist-packages (from matplotlib) (9.4.0)\n",
            "Requirement already satisfied: pyparsing>=2.3.1 in /usr/local/lib/python3.10/dist-packages (from matplotlib) (3.1.1)\n",
            "Requirement already satisfied: python-dateutil>=2.7 in /usr/local/lib/python3.10/dist-packages (from matplotlib) (2.8.2)\n",
            "Requirement already satisfied: six>=1.5 in /usr/local/lib/python3.10/dist-packages (from python-dateutil>=2.7->matplotlib) (1.16.0)\n"
          ]
        }
      ],
      "source": [
        "# install\n",
        "%pip install pandas\n",
        "%pip install numpy\n",
        "%pip install tensorflow\n",
        "%pip install sklearn\n",
        "%pip install matplotlib"
      ]
    },
    {
      "cell_type": "code",
      "source": [
        "# import\n",
        "import pandas as pd\n",
        "import numpy as np\n",
        "\n",
        "from google.colab import drive\n",
        "\n",
        "from tensorflow.keras.models import Sequential\n",
        "from tensorflow.keras.layers import Dense, Conv2D, MaxPooling2D, Dropout, Flatten\n",
        "from tensorflow.keras.callbacks import ModelCheckpoint, EarlyStopping\n",
        "from tensorflow.keras.datasets import mnist\n",
        "from tensorflow.keras.utils import to_categorical\n",
        "\n",
        "from sklearn.model_selection import train_test_split\n",
        "\n",
        "import matplotlib.pyplot as plt"
      ],
      "metadata": {
        "id": "ZFpEQp53CjtJ"
      },
      "execution_count": 2,
      "outputs": []
    },
    {
      "cell_type": "markdown",
      "source": [
        "# General Model"
      ],
      "metadata": {
        "id": "Qia1EYdoSlCN"
      }
    },
    {
      "cell_type": "code",
      "source": [
        "\"\"\"\n",
        " data preprocessing phase\n",
        "\n",
        " detail expalin in 'cnn_data_preprocessing_explain'\n",
        "\"\"\"\n",
        "# load data sets\n",
        "(X_train, y_train), (X_test, y_test) = mnist.load_data()\n",
        "\n",
        "# reshape 3D to 2D\n",
        "X_train = X_train.reshape(X_train.shape[0], X_train.shape[1] * X_train.shape[2])\n",
        "X_test = X_test.reshape(X_test.shape[0], X_test.shape[1] * X_test.shape[2])\n",
        "\n",
        "# make element float to fit in 0 ~ 1 for train in 'Keras'\n",
        "X_train = X_train.astype('float64')\n",
        "X_train = X_train / 255\n",
        "X_test = X_test.astype('float64')\n",
        "X_test = X_test / 255\n",
        "\n",
        "# convert result data type to categorical data\n",
        "y_train = to_categorical(y_train, 10)\n",
        "y_test = to_categorical(y_test, 10)"
      ],
      "metadata": {
        "id": "9PJ8KIwaDBl3"
      },
      "execution_count": 11,
      "outputs": []
    },
    {
      "cell_type": "code",
      "source": [
        "\"\"\"\n",
        "modeling\n",
        "\"\"\"\n",
        "model = Sequential()\n",
        "model.add(Dense(512, input_dim=X_train.shape[1], activation='relu'))\n",
        "model.add(Dense(10, activation='softmax'))\n",
        "model.summary()\n",
        "\n",
        "model.compile(loss='categorical_crossentropy', optimizer='adam', metrics='accuracy')"
      ],
      "metadata": {
        "colab": {
          "base_uri": "https://localhost:8080/"
        },
        "id": "pYWICXBxE2Zr",
        "outputId": "d78bc222-0aa0-498d-bc8d-54f88105e705"
      },
      "execution_count": 4,
      "outputs": [
        {
          "output_type": "stream",
          "name": "stdout",
          "text": [
            "Model: \"sequential\"\n",
            "_________________________________________________________________\n",
            " Layer (type)                Output Shape              Param #   \n",
            "=================================================================\n",
            " dense (Dense)               (None, 512)               401920    \n",
            "                                                                 \n",
            " dense_1 (Dense)             (None, 10)                5130      \n",
            "                                                                 \n",
            "=================================================================\n",
            "Total params: 407050 (1.55 MB)\n",
            "Trainable params: 407050 (1.55 MB)\n",
            "Non-trainable params: 0 (0.00 Byte)\n",
            "_________________________________________________________________\n"
          ]
        }
      ]
    },
    {
      "cell_type": "code",
      "source": [
        "\"\"\"\n",
        "checkpointers\n",
        "\"\"\"\n",
        "# using Google Drive\n",
        "drive.mount('/d')\n",
        "model_path = '/d/My Drive/Colab Notebooks/DL-tutorial/models/cnn/best-general-model.hdf5'\n",
        "\n",
        "checkpointer = ModelCheckpoint(filepath=model_path, monitor='val_loss', save_best_only=True, verbose=True)\n",
        "early_stopping_checkpointer = EarlyStopping(monitor='val_loss', patience=10, verbose=True)"
      ],
      "metadata": {
        "colab": {
          "base_uri": "https://localhost:8080/"
        },
        "id": "5VoLK53oLq8x",
        "outputId": "f1f7629f-3e8b-412e-c238-f77c6b5ea283"
      },
      "execution_count": 5,
      "outputs": [
        {
          "output_type": "stream",
          "name": "stdout",
          "text": [
            "Drive already mounted at /d; to attempt to forcibly remount, call drive.mount(\"/d\", force_remount=True).\n"
          ]
        }
      ]
    },
    {
      "cell_type": "code",
      "source": [
        "\"\"\"\n",
        "training\n",
        "\"\"\"\n",
        "history = model.fit(X_train, y_train, validation_split=0.25, epochs=30, batch_size=200, verbose=False, callbacks=[checkpointer, early_stopping_checkpointer])\n",
        "eval = model.evaluate(X_test, y_test)\n",
        "print(eval)"
      ],
      "metadata": {
        "colab": {
          "base_uri": "https://localhost:8080/"
        },
        "id": "7mT_cCugO_eF",
        "outputId": "d2ce8ae6-07c5-431a-fb8b-89dff4337a5a"
      },
      "execution_count": 6,
      "outputs": [
        {
          "output_type": "stream",
          "name": "stdout",
          "text": [
            "\n",
            "Epoch 1: val_loss improved from inf to 0.18687, saving model to /d/My Drive/Colab Notebooks/DL-tutorial/models/cnn/best-general-model.hdf5\n"
          ]
        },
        {
          "output_type": "stream",
          "name": "stderr",
          "text": [
            "/usr/local/lib/python3.10/dist-packages/keras/src/engine/training.py:3000: UserWarning: You are saving your model as an HDF5 file via `model.save()`. This file format is considered legacy. We recommend using instead the native Keras format, e.g. `model.save('my_model.keras')`.\n",
            "  saving_api.save_model(\n"
          ]
        },
        {
          "output_type": "stream",
          "name": "stdout",
          "text": [
            "\n",
            "Epoch 2: val_loss improved from 0.18687 to 0.13216, saving model to /d/My Drive/Colab Notebooks/DL-tutorial/models/cnn/best-general-model.hdf5\n",
            "\n",
            "Epoch 3: val_loss improved from 0.13216 to 0.11303, saving model to /d/My Drive/Colab Notebooks/DL-tutorial/models/cnn/best-general-model.hdf5\n",
            "\n",
            "Epoch 4: val_loss improved from 0.11303 to 0.10558, saving model to /d/My Drive/Colab Notebooks/DL-tutorial/models/cnn/best-general-model.hdf5\n",
            "\n",
            "Epoch 5: val_loss improved from 0.10558 to 0.09569, saving model to /d/My Drive/Colab Notebooks/DL-tutorial/models/cnn/best-general-model.hdf5\n",
            "\n",
            "Epoch 6: val_loss improved from 0.09569 to 0.09189, saving model to /d/My Drive/Colab Notebooks/DL-tutorial/models/cnn/best-general-model.hdf5\n",
            "\n",
            "Epoch 7: val_loss improved from 0.09189 to 0.08385, saving model to /d/My Drive/Colab Notebooks/DL-tutorial/models/cnn/best-general-model.hdf5\n",
            "\n",
            "Epoch 8: val_loss did not improve from 0.08385\n",
            "\n",
            "Epoch 9: val_loss improved from 0.08385 to 0.08198, saving model to /d/My Drive/Colab Notebooks/DL-tutorial/models/cnn/best-general-model.hdf5\n",
            "\n",
            "Epoch 10: val_loss did not improve from 0.08198\n",
            "\n",
            "Epoch 11: val_loss did not improve from 0.08198\n",
            "\n",
            "Epoch 12: val_loss did not improve from 0.08198\n",
            "\n",
            "Epoch 13: val_loss did not improve from 0.08198\n",
            "\n",
            "Epoch 14: val_loss did not improve from 0.08198\n",
            "\n",
            "Epoch 15: val_loss did not improve from 0.08198\n",
            "\n",
            "Epoch 16: val_loss did not improve from 0.08198\n",
            "\n",
            "Epoch 17: val_loss did not improve from 0.08198\n",
            "\n",
            "Epoch 18: val_loss did not improve from 0.08198\n",
            "\n",
            "Epoch 19: val_loss did not improve from 0.08198\n",
            "Epoch 19: early stopping\n",
            "313/313 [==============================] - 1s 3ms/step - loss: 0.0681 - accuracy: 0.9810\n",
            "[0.0681254044175148, 0.9810000061988831]\n"
          ]
        }
      ]
    },
    {
      "cell_type": "code",
      "source": [
        "# show result on graph\n",
        "val_loss = history.history['val_loss']\n",
        "loss = history.history['loss']\n",
        "\n",
        "x_len = np.arange(len(loss)) # 24 -> [0 1 2 3 ... 21 22 23]\n",
        "\n",
        "plt.plot(x_len, val_loss, marker='.', c='red', label='test_sets_loss')\n",
        "plt.plot(x_len, loss, marker='.', c='blue', label='train_sets_loss')\n",
        "\n",
        "plt.xlabel('epochs')\n",
        "plt.ylabel('loss')\n",
        "plt.legend(loc='upper right')\n",
        "plt.grid()\n",
        "plt.show()"
      ],
      "metadata": {
        "colab": {
          "base_uri": "https://localhost:8080/",
          "height": 449
        },
        "id": "gyo9RI0gQbAe",
        "outputId": "ab53b69a-e3f2-476e-c6db-d0431506bcce"
      },
      "execution_count": 7,
      "outputs": [
        {
          "output_type": "display_data",
          "data": {
            "text/plain": [
              "<Figure size 640x480 with 1 Axes>"
            ],
            "image/png": "[encoded data removed]"
          },
          "metadata": {}
        }
      ]
    },
    {
      "cell_type": "markdown",
      "source": [
        "# Convolution Neural Network (CNN)\n",
        "\n",
        "https://en.wikipedia.org/wiki/Convolutional_neural_network\n",
        "\n",
        "https://kr.mathworks.com/discovery/convolutional-neural-network-matlab.html"
      ],
      "metadata": {
        "id": "_CDDPpx1Snej"
      }
    },
    {
      "cell_type": "code",
      "source": [
        "\"\"\"\n",
        " data preprocessing phase in CNN\n",
        "\n",
        " detail expalin in 'cnn_data_preprocessing_explain'\n",
        "\"\"\"\n",
        "# load data sets\n",
        "(X_train, y_train), (X_test, y_test) = mnist.load_data()\n",
        "\n",
        "# reshape for convolution layer\n",
        "X_train = X_train.reshape(X_train.shape[0], X_train.shape[1], X_train.shape[2], 1) # (28,28,1) with last shape(color == black only) is 0\n",
        "X_test = X_test.reshape(X_test.shape[0], X_test.shape[1], X_test.shape[2], 1)\n",
        "\n",
        "# make element float to fit in 0 ~ 1 for train in 'Keras'\n",
        "X_train = X_train.astype('float64')\n",
        "X_train = X_train / 255\n",
        "X_test = X_test.astype('float64')\n",
        "X_test = X_test / 255\n",
        "\n",
        "# convert result data type to categorical data\n",
        "y_train = to_categorical(y_train, 10)\n",
        "y_test = to_categorical(y_test, 10)"
      ],
      "metadata": {
        "colab": {
          "base_uri": "https://localhost:8080/"
        },
        "id": "7rFDLpmHihuG",
        "outputId": "860bbd59-434b-43bb-ca7c-331bf0671922"
      },
      "execution_count": 3,
      "outputs": [
        {
          "output_type": "stream",
          "name": "stdout",
          "text": [
            "Downloading data from https://storage.googleapis.com/tensorflow/tf-keras-datasets/mnist.npz\n",
            "11490434/11490434 [==============================] - 0s 0us/step\n"
          ]
        }
      ]
    },
    {
      "cell_type": "code",
      "source": [
        "\"\"\"\n",
        "modeling with CNN layers\n",
        "\"\"\"\n",
        "cnn_model = Sequential()\n",
        "# cnn layers #1 : convolution layers\n",
        "cnn_model.add(Conv2D(filters=32, kernel_size=(3,3), activation='relu', input_shape=(28,28,1), data_format=\"channels_last\")) # (28 * 28) + 1 black color\n",
        "cnn_model.add(Conv2D(filters=64, kernel_size=(3,3)))\n",
        "# cnn layers #2 : max pooling layer\n",
        "cnn_model.add(MaxPooling2D(pool_size=(2,2))) # using (2,2) window\n",
        "# cnn layers #3 : drop out layer for avoiding overfitting\n",
        "cnn_model.add(Dropout(0.25)) # off 25% nodes\n",
        "# cnn layers #4 : flattening layer\n",
        "cnn_model.add(Flatten())\n",
        "\n",
        "# general layers\n",
        "cnn_model.add(Dense(128, input_dim=X_train.shape[1], activation='relu'))\n",
        "cnn_model.add(Dropout(0.5)) # for avoiding overfitting\n",
        "cnn_model.add(Dense(10, activation='softmax'))\n",
        "cnn_model.summary()\n",
        "\n",
        "cnn_model.compile(loss='categorical_crossentropy', optimizer='adam', metrics='accuracy')"
      ],
      "metadata": {
        "colab": {
          "base_uri": "https://localhost:8080/"
        },
        "id": "lHDiNIebUcRC",
        "outputId": "788204f4-15fc-4b70-f44b-ca24901c6e64"
      },
      "execution_count": 4,
      "outputs": [
        {
          "output_type": "stream",
          "name": "stdout",
          "text": [
            "Model: \"sequential\"\n",
            "_________________________________________________________________\n",
            " Layer (type)                Output Shape              Param #   \n",
            "=================================================================\n",
            " conv2d (Conv2D)             (None, 26, 26, 32)        320       \n",
            "                                                                 \n",
            " conv2d_1 (Conv2D)           (None, 24, 24, 64)        18496     \n",
            "                                                                 \n",
            " max_pooling2d (MaxPooling2  (None, 12, 12, 64)        0         \n",
            " D)                                                              \n",
            "                                                                 \n",
            " dropout (Dropout)           (None, 12, 12, 64)        0         \n",
            "                                                                 \n",
            " flatten (Flatten)           (None, 9216)              0         \n",
            "                                                                 \n",
            " dense (Dense)               (None, 128)               1179776   \n",
            "                                                                 \n",
            " dropout_1 (Dropout)         (None, 128)               0         \n",
            "                                                                 \n",
            " dense_1 (Dense)             (None, 10)                1290      \n",
            "                                                                 \n",
            "=================================================================\n",
            "Total params: 1199882 (4.58 MB)\n",
            "Trainable params: 1199882 (4.58 MB)\n",
            "Non-trainable params: 0 (0.00 Byte)\n",
            "_________________________________________________________________\n"
          ]
        }
      ]
    },
    {
      "cell_type": "markdown",
      "source": [
        "When using 'Conv2D' layer as the first layer in a model, provide the keyword argument input_shape (tuple of integers or None, does not include the sample axis), e.g. input_shape=(128, 128, 3) for 128x128 RGB pictures in data_format=\"channels_last\". You can use None when a dimension has variable size."
      ],
      "metadata": {
        "id": "wPLDPBPqc8Gj"
      }
    },
    {
      "cell_type": "code",
      "source": [
        "\"\"\"\n",
        "checkpointers\n",
        "\"\"\"\n",
        "# using Google Drive\n",
        "drive.mount('/d')\n",
        "model_path = '/d/My Drive/Colab Notebooks/DL-tutorial/models/cnn/best-cnn-model.hdf5'\n",
        "\n",
        "checkpointer = ModelCheckpoint(filepath=model_path, monitor='val_loss', save_best_only=True, verbose=True)\n",
        "early_stopping_checkpointer = EarlyStopping(monitor='val_loss', patience=10, verbose=True)"
      ],
      "metadata": {
        "colab": {
          "base_uri": "https://localhost:8080/"
        },
        "id": "4J1C3fnqfG2I",
        "outputId": "95802093-3e00-4d8e-a5b3-10c37fc345db"
      },
      "execution_count": 5,
      "outputs": [
        {
          "output_type": "stream",
          "name": "stdout",
          "text": [
            "Mounted at /d\n"
          ]
        }
      ]
    },
    {
      "cell_type": "code",
      "source": [
        "\"\"\"\n",
        "training\n",
        "\"\"\"\n",
        "cnn_history = cnn_model.fit(X_train, y_train, validation_split=0.25, epochs=30, batch_size=200, verbose=False, callbacks=[checkpointer, early_stopping_checkpointer])\n",
        "eval = cnn_model.evaluate(X_test, y_test)\n",
        "print(eval)"
      ],
      "metadata": {
        "colab": {
          "base_uri": "https://localhost:8080/"
        },
        "id": "6bPF1_rMfJZI",
        "outputId": "437d09ba-45f4-4e27-8a92-b4cf25eeea78"
      },
      "execution_count": 6,
      "outputs": [
        {
          "output_type": "stream",
          "name": "stdout",
          "text": [
            "\n",
            "Epoch 1: val_loss improved from inf to 0.09595, saving model to /d/My Drive/Colab Notebooks/DL-tutorial/models/cnn/best-cnn-model.hdf5\n"
          ]
        },
        {
          "output_type": "stream",
          "name": "stderr",
          "text": [
            "/usr/local/lib/python3.10/dist-packages/keras/src/engine/training.py:3000: UserWarning: You are saving your model as an HDF5 file via `model.save()`. This file format is considered legacy. We recommend using instead the native Keras format, e.g. `model.save('my_model.keras')`.\n",
            "  saving_api.save_model(\n"
          ]
        },
        {
          "output_type": "stream",
          "name": "stdout",
          "text": [
            "\n",
            "Epoch 2: val_loss improved from 0.09595 to 0.07304, saving model to /d/My Drive/Colab Notebooks/DL-tutorial/models/cnn/best-cnn-model.hdf5\n",
            "\n",
            "Epoch 3: val_loss improved from 0.07304 to 0.05446, saving model to /d/My Drive/Colab Notebooks/DL-tutorial/models/cnn/best-cnn-model.hdf5\n",
            "\n",
            "Epoch 4: val_loss did not improve from 0.05446\n",
            "\n",
            "Epoch 5: val_loss improved from 0.05446 to 0.04795, saving model to /d/My Drive/Colab Notebooks/DL-tutorial/models/cnn/best-cnn-model.hdf5\n",
            "\n",
            "Epoch 6: val_loss did not improve from 0.04795\n",
            "\n",
            "Epoch 7: val_loss did not improve from 0.04795\n",
            "\n",
            "Epoch 8: val_loss did not improve from 0.04795\n",
            "\n",
            "Epoch 9: val_loss did not improve from 0.04795\n",
            "\n",
            "Epoch 10: val_loss did not improve from 0.04795\n",
            "\n",
            "Epoch 11: val_loss improved from 0.04795 to 0.04744, saving model to /d/My Drive/Colab Notebooks/DL-tutorial/models/cnn/best-cnn-model.hdf5\n",
            "\n",
            "Epoch 12: val_loss did not improve from 0.04744\n",
            "\n",
            "Epoch 13: val_loss did not improve from 0.04744\n",
            "\n",
            "Epoch 14: val_loss did not improve from 0.04744\n",
            "\n",
            "Epoch 15: val_loss did not improve from 0.04744\n",
            "\n",
            "Epoch 16: val_loss did not improve from 0.04744\n",
            "\n",
            "Epoch 17: val_loss did not improve from 0.04744\n",
            "\n",
            "Epoch 18: val_loss did not improve from 0.04744\n",
            "\n",
            "Epoch 19: val_loss did not improve from 0.04744\n",
            "\n",
            "Epoch 20: val_loss did not improve from 0.04744\n",
            "\n",
            "Epoch 21: val_loss did not improve from 0.04744\n",
            "Epoch 21: early stopping\n",
            "313/313 [==============================] - 1s 3ms/step - loss: 0.0381 - accuracy: 0.9896\n",
            "[0.03807976841926575, 0.9896000027656555]\n"
          ]
        }
      ]
    },
    {
      "cell_type": "code",
      "source": [
        "# show result on graph\n",
        "val_loss = cnn_history.history['val_loss']\n",
        "loss = cnn_history.history['loss']\n",
        "\n",
        "x_len = np.arange(len(loss)) # 24 -> [0 1 2 3 ... 21 22 23]\n",
        "\n",
        "plt.plot(x_len, val_loss, marker='.', c='red', label='test_sets_loss')\n",
        "plt.plot(x_len, loss, marker='.', c='blue', label='train_sets_loss')\n",
        "\n",
        "plt.xlabel('epochs')\n",
        "plt.ylabel('loss')\n",
        "plt.legend(loc='upper right')\n",
        "plt.grid()\n",
        "plt.show()"
      ],
      "metadata": {
        "colab": {
          "base_uri": "https://localhost:8080/",
          "height": 449
        },
        "id": "IPNVxH6RftIW",
        "outputId": "7f33025b-6067-4e79-fe18-bc3bd6a76d8c"
      },
      "execution_count": 7,
      "outputs": [
        {
          "output_type": "display_data",
          "data": {
            "text/plain": [
              "<Figure size 640x480 with 1 Axes>"
            ],
            "image/png": "[encoded data removed]"
          },
          "metadata": {}
        }
      ]
    }
  ]
}