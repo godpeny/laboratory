{
 "cells": [
  {
   "cell_type": "code",
   "execution_count": 1,
   "id": "initial_id",
   "metadata": {
    "collapsed": true,
    "ExecuteTime": {
     "end_time": "2023-09-30T12:46:05.472454Z",
     "start_time": "2023-09-30T12:45:54.064298Z"
    }
   },
   "outputs": [
    {
     "name": "stdout",
     "output_type": "stream",
     "text": [
      "Requirement already satisfied: pandas in /Users/godpeny/Code/venv/laboratory/lib/python3.8/site-packages (2.0.3)\r\n",
      "Requirement already satisfied: numpy>=1.20.3 in /Users/godpeny/Code/venv/laboratory/lib/python3.8/site-packages (from pandas) (1.22.0)\r\n",
      "Requirement already satisfied: pytz>=2020.1 in /Users/godpeny/Code/venv/laboratory/lib/python3.8/site-packages (from pandas) (2023.3.post1)\r\n",
      "Requirement already satisfied: tzdata>=2022.1 in /Users/godpeny/Code/venv/laboratory/lib/python3.8/site-packages (from pandas) (2023.3)\r\n",
      "Requirement already satisfied: python-dateutil>=2.8.2 in /Users/godpeny/Code/venv/laboratory/lib/python3.8/site-packages (from pandas) (2.8.2)\r\n",
      "Requirement already satisfied: six>=1.5 in /Users/godpeny/Code/venv/laboratory/lib/python3.8/site-packages (from python-dateutil>=2.8.2->pandas) (1.16.0)\r\n",
      "\r\n",
      "\u001B[1m[\u001B[0m\u001B[34;49mnotice\u001B[0m\u001B[1;39;49m]\u001B[0m\u001B[39;49m A new release of pip available: \u001B[0m\u001B[31;49m22.3.1\u001B[0m\u001B[39;49m -> \u001B[0m\u001B[32;49m23.2.1\u001B[0m\r\n",
      "\u001B[1m[\u001B[0m\u001B[34;49mnotice\u001B[0m\u001B[1;39;49m]\u001B[0m\u001B[39;49m To update, run: \u001B[0m\u001B[32;49mpip install --upgrade pip\u001B[0m\r\n",
      "Note: you may need to restart the kernel to use updated packages.\n",
      "Requirement already satisfied: numpy in /Users/godpeny/Code/venv/laboratory/lib/python3.8/site-packages (1.22.0)\r\n",
      "\r\n",
      "\u001B[1m[\u001B[0m\u001B[34;49mnotice\u001B[0m\u001B[1;39;49m]\u001B[0m\u001B[39;49m A new release of pip available: \u001B[0m\u001B[31;49m22.3.1\u001B[0m\u001B[39;49m -> \u001B[0m\u001B[32;49m23.2.1\u001B[0m\r\n",
      "\u001B[1m[\u001B[0m\u001B[34;49mnotice\u001B[0m\u001B[1;39;49m]\u001B[0m\u001B[39;49m To update, run: \u001B[0m\u001B[32;49mpip install --upgrade pip\u001B[0m\r\n",
      "Note: you may need to restart the kernel to use updated packages.\n",
      "Requirement already satisfied: tensorflow in /Users/godpeny/Code/venv/laboratory/lib/python3.8/site-packages (2.13.0)\r\n",
      "Requirement already satisfied: tensorflow-macos==2.13.0 in /Users/godpeny/Code/venv/laboratory/lib/python3.8/site-packages (from tensorflow) (2.13.0)\r\n",
      "Requirement already satisfied: absl-py>=1.0.0 in /Users/godpeny/Code/venv/laboratory/lib/python3.8/site-packages (from tensorflow-macos==2.13.0->tensorflow) (2.0.0)\r\n",
      "Requirement already satisfied: tensorflow-estimator<2.14,>=2.13.0 in /Users/godpeny/Code/venv/laboratory/lib/python3.8/site-packages (from tensorflow-macos==2.13.0->tensorflow) (2.13.0)\r\n",
      "Requirement already satisfied: h5py>=2.9.0 in /Users/godpeny/Code/venv/laboratory/lib/python3.8/site-packages (from tensorflow-macos==2.13.0->tensorflow) (3.9.0)\r\n",
      "Requirement already satisfied: setuptools in /Users/godpeny/Code/venv/laboratory/lib/python3.8/site-packages (from tensorflow-macos==2.13.0->tensorflow) (65.5.1)\r\n",
      "Requirement already satisfied: opt-einsum>=2.3.2 in /Users/godpeny/Code/venv/laboratory/lib/python3.8/site-packages (from tensorflow-macos==2.13.0->tensorflow) (3.3.0)\r\n",
      "Requirement already satisfied: flatbuffers>=23.1.21 in /Users/godpeny/Code/venv/laboratory/lib/python3.8/site-packages (from tensorflow-macos==2.13.0->tensorflow) (23.5.26)\r\n",
      "Requirement already satisfied: libclang>=13.0.0 in /Users/godpeny/Code/venv/laboratory/lib/python3.8/site-packages (from tensorflow-macos==2.13.0->tensorflow) (16.0.6)\r\n",
      "Requirement already satisfied: grpcio<2.0,>=1.24.3 in /Users/godpeny/Code/venv/laboratory/lib/python3.8/site-packages (from tensorflow-macos==2.13.0->tensorflow) (1.59.0)\r\n",
      "Requirement already satisfied: six>=1.12.0 in /Users/godpeny/Code/venv/laboratory/lib/python3.8/site-packages (from tensorflow-macos==2.13.0->tensorflow) (1.16.0)\r\n",
      "Requirement already satisfied: numpy<=1.24.3,>=1.22 in /Users/godpeny/Code/venv/laboratory/lib/python3.8/site-packages (from tensorflow-macos==2.13.0->tensorflow) (1.22.0)\r\n",
      "Requirement already satisfied: gast<=0.4.0,>=0.2.1 in /Users/godpeny/Code/venv/laboratory/lib/python3.8/site-packages (from tensorflow-macos==2.13.0->tensorflow) (0.4.0)\r\n",
      "Requirement already satisfied: google-pasta>=0.1.1 in /Users/godpeny/Code/venv/laboratory/lib/python3.8/site-packages (from tensorflow-macos==2.13.0->tensorflow) (0.2.0)\r\n",
      "Requirement already satisfied: typing-extensions<4.6.0,>=3.6.6 in /Users/godpeny/Code/venv/laboratory/lib/python3.8/site-packages (from tensorflow-macos==2.13.0->tensorflow) (4.5.0)\r\n",
      "Requirement already satisfied: tensorboard<2.14,>=2.13 in /Users/godpeny/Code/venv/laboratory/lib/python3.8/site-packages (from tensorflow-macos==2.13.0->tensorflow) (2.13.0)\r\n",
      "Requirement already satisfied: wrapt>=1.11.0 in /Users/godpeny/Code/venv/laboratory/lib/python3.8/site-packages (from tensorflow-macos==2.13.0->tensorflow) (1.15.0)\r\n",
      "Requirement already satisfied: protobuf!=4.21.0,!=4.21.1,!=4.21.2,!=4.21.3,!=4.21.4,!=4.21.5,<5.0.0dev,>=3.20.3 in /Users/godpeny/Code/venv/laboratory/lib/python3.8/site-packages (from tensorflow-macos==2.13.0->tensorflow) (4.24.3)\r\n",
      "Requirement already satisfied: packaging in /Users/godpeny/Code/venv/laboratory/lib/python3.8/site-packages (from tensorflow-macos==2.13.0->tensorflow) (23.1)\r\n",
      "Requirement already satisfied: termcolor>=1.1.0 in /Users/godpeny/Code/venv/laboratory/lib/python3.8/site-packages (from tensorflow-macos==2.13.0->tensorflow) (2.3.0)\r\n",
      "Requirement already satisfied: astunparse>=1.6.0 in /Users/godpeny/Code/venv/laboratory/lib/python3.8/site-packages (from tensorflow-macos==2.13.0->tensorflow) (1.6.3)\r\n",
      "Requirement already satisfied: keras<2.14,>=2.13.1 in /Users/godpeny/Code/venv/laboratory/lib/python3.8/site-packages (from tensorflow-macos==2.13.0->tensorflow) (2.13.1)\r\n",
      "Requirement already satisfied: wheel<1.0,>=0.23.0 in /Users/godpeny/Code/venv/laboratory/lib/python3.8/site-packages (from astunparse>=1.6.0->tensorflow-macos==2.13.0->tensorflow) (0.38.4)\r\n",
      "Requirement already satisfied: tensorboard-data-server<0.8.0,>=0.7.0 in /Users/godpeny/Code/venv/laboratory/lib/python3.8/site-packages (from tensorboard<2.14,>=2.13->tensorflow-macos==2.13.0->tensorflow) (0.7.1)\r\n",
      "Requirement already satisfied: google-auth-oauthlib<1.1,>=0.5 in /Users/godpeny/Code/venv/laboratory/lib/python3.8/site-packages (from tensorboard<2.14,>=2.13->tensorflow-macos==2.13.0->tensorflow) (1.0.0)\r\n",
      "Requirement already satisfied: markdown>=2.6.8 in /Users/godpeny/Code/venv/laboratory/lib/python3.8/site-packages (from tensorboard<2.14,>=2.13->tensorflow-macos==2.13.0->tensorflow) (3.4.4)\r\n",
      "Requirement already satisfied: requests<3,>=2.21.0 in /Users/godpeny/Code/venv/laboratory/lib/python3.8/site-packages (from tensorboard<2.14,>=2.13->tensorflow-macos==2.13.0->tensorflow) (2.31.0)\r\n",
      "Requirement already satisfied: google-auth<3,>=1.6.3 in /Users/godpeny/Code/venv/laboratory/lib/python3.8/site-packages (from tensorboard<2.14,>=2.13->tensorflow-macos==2.13.0->tensorflow) (2.23.2)\r\n",
      "Requirement already satisfied: werkzeug>=1.0.1 in /Users/godpeny/Code/venv/laboratory/lib/python3.8/site-packages (from tensorboard<2.14,>=2.13->tensorflow-macos==2.13.0->tensorflow) (2.3.7)\r\n",
      "Requirement already satisfied: pyasn1-modules>=0.2.1 in /Users/godpeny/Code/venv/laboratory/lib/python3.8/site-packages (from google-auth<3,>=1.6.3->tensorboard<2.14,>=2.13->tensorflow-macos==2.13.0->tensorflow) (0.3.0)\r\n",
      "Requirement already satisfied: cachetools<6.0,>=2.0.0 in /Users/godpeny/Code/venv/laboratory/lib/python3.8/site-packages (from google-auth<3,>=1.6.3->tensorboard<2.14,>=2.13->tensorflow-macos==2.13.0->tensorflow) (5.3.1)\r\n",
      "Requirement already satisfied: rsa<5,>=3.1.4 in /Users/godpeny/Code/venv/laboratory/lib/python3.8/site-packages (from google-auth<3,>=1.6.3->tensorboard<2.14,>=2.13->tensorflow-macos==2.13.0->tensorflow) (4.9)\r\n",
      "Requirement already satisfied: requests-oauthlib>=0.7.0 in /Users/godpeny/Code/venv/laboratory/lib/python3.8/site-packages (from google-auth-oauthlib<1.1,>=0.5->tensorboard<2.14,>=2.13->tensorflow-macos==2.13.0->tensorflow) (1.3.1)\r\n",
      "Requirement already satisfied: importlib-metadata>=4.4 in /Users/godpeny/Code/venv/laboratory/lib/python3.8/site-packages (from markdown>=2.6.8->tensorboard<2.14,>=2.13->tensorflow-macos==2.13.0->tensorflow) (6.8.0)\r\n",
      "Requirement already satisfied: urllib3<3,>=1.21.1 in /Users/godpeny/Code/venv/laboratory/lib/python3.8/site-packages (from requests<3,>=2.21.0->tensorboard<2.14,>=2.13->tensorflow-macos==2.13.0->tensorflow) (2.0.5)\r\n",
      "Requirement already satisfied: certifi>=2017.4.17 in /Users/godpeny/Code/venv/laboratory/lib/python3.8/site-packages (from requests<3,>=2.21.0->tensorboard<2.14,>=2.13->tensorflow-macos==2.13.0->tensorflow) (2023.7.22)\r\n",
      "Requirement already satisfied: charset-normalizer<4,>=2 in /Users/godpeny/Code/venv/laboratory/lib/python3.8/site-packages (from requests<3,>=2.21.0->tensorboard<2.14,>=2.13->tensorflow-macos==2.13.0->tensorflow) (3.2.0)\r\n",
      "Requirement already satisfied: idna<4,>=2.5 in /Users/godpeny/Code/venv/laboratory/lib/python3.8/site-packages (from requests<3,>=2.21.0->tensorboard<2.14,>=2.13->tensorflow-macos==2.13.0->tensorflow) (3.4)\r\n",
      "Requirement already satisfied: MarkupSafe>=2.1.1 in /Users/godpeny/Code/venv/laboratory/lib/python3.8/site-packages (from werkzeug>=1.0.1->tensorboard<2.14,>=2.13->tensorflow-macos==2.13.0->tensorflow) (2.1.3)\r\n",
      "Requirement already satisfied: zipp>=0.5 in /Users/godpeny/Code/venv/laboratory/lib/python3.8/site-packages (from importlib-metadata>=4.4->markdown>=2.6.8->tensorboard<2.14,>=2.13->tensorflow-macos==2.13.0->tensorflow) (3.17.0)\r\n",
      "Requirement already satisfied: pyasn1<0.6.0,>=0.4.6 in /Users/godpeny/Code/venv/laboratory/lib/python3.8/site-packages (from pyasn1-modules>=0.2.1->google-auth<3,>=1.6.3->tensorboard<2.14,>=2.13->tensorflow-macos==2.13.0->tensorflow) (0.5.0)\r\n",
      "Requirement already satisfied: oauthlib>=3.0.0 in /Users/godpeny/Code/venv/laboratory/lib/python3.8/site-packages (from requests-oauthlib>=0.7.0->google-auth-oauthlib<1.1,>=0.5->tensorboard<2.14,>=2.13->tensorflow-macos==2.13.0->tensorflow) (3.2.2)\r\n",
      "\r\n",
      "\u001B[1m[\u001B[0m\u001B[34;49mnotice\u001B[0m\u001B[1;39;49m]\u001B[0m\u001B[39;49m A new release of pip available: \u001B[0m\u001B[31;49m22.3.1\u001B[0m\u001B[39;49m -> \u001B[0m\u001B[32;49m23.2.1\u001B[0m\r\n",
      "\u001B[1m[\u001B[0m\u001B[34;49mnotice\u001B[0m\u001B[1;39;49m]\u001B[0m\u001B[39;49m To update, run: \u001B[0m\u001B[32;49mpip install --upgrade pip\u001B[0m\r\n",
      "Note: you may need to restart the kernel to use updated packages.\n",
      "Requirement already satisfied: scikit-learn in /Users/godpeny/Code/venv/laboratory/lib/python3.8/site-packages (1.3.1)\r\n",
      "Requirement already satisfied: numpy<2.0,>=1.17.3 in /Users/godpeny/Code/venv/laboratory/lib/python3.8/site-packages (from scikit-learn) (1.22.0)\r\n",
      "Requirement already satisfied: joblib>=1.1.1 in /Users/godpeny/Code/venv/laboratory/lib/python3.8/site-packages (from scikit-learn) (1.3.2)\r\n",
      "Requirement already satisfied: scipy>=1.5.0 in /Users/godpeny/Code/venv/laboratory/lib/python3.8/site-packages (from scikit-learn) (1.10.1)\r\n",
      "Requirement already satisfied: threadpoolctl>=2.0.0 in /Users/godpeny/Code/venv/laboratory/lib/python3.8/site-packages (from scikit-learn) (3.2.0)\r\n",
      "\r\n",
      "\u001B[1m[\u001B[0m\u001B[34;49mnotice\u001B[0m\u001B[1;39;49m]\u001B[0m\u001B[39;49m A new release of pip available: \u001B[0m\u001B[31;49m22.3.1\u001B[0m\u001B[39;49m -> \u001B[0m\u001B[32;49m23.2.1\u001B[0m\r\n",
      "\u001B[1m[\u001B[0m\u001B[34;49mnotice\u001B[0m\u001B[1;39;49m]\u001B[0m\u001B[39;49m To update, run: \u001B[0m\u001B[32;49mpip install --upgrade pip\u001B[0m\r\n",
      "Note: you may need to restart the kernel to use updated packages.\n",
      "Requirement already satisfied: matplotlib in /Users/godpeny/Code/venv/laboratory/lib/python3.8/site-packages (3.7.3)\r\n",
      "Requirement already satisfied: pyparsing>=2.3.1 in /Users/godpeny/Code/venv/laboratory/lib/python3.8/site-packages (from matplotlib) (3.1.1)\r\n",
      "Requirement already satisfied: importlib-resources>=3.2.0 in /Users/godpeny/Code/venv/laboratory/lib/python3.8/site-packages (from matplotlib) (6.1.0)\r\n",
      "Requirement already satisfied: numpy<2,>=1.20 in /Users/godpeny/Code/venv/laboratory/lib/python3.8/site-packages (from matplotlib) (1.22.0)\r\n",
      "Requirement already satisfied: kiwisolver>=1.0.1 in /Users/godpeny/Code/venv/laboratory/lib/python3.8/site-packages (from matplotlib) (1.4.5)\r\n",
      "Requirement already satisfied: cycler>=0.10 in /Users/godpeny/Code/venv/laboratory/lib/python3.8/site-packages (from matplotlib) (0.12.0)\r\n",
      "Requirement already satisfied: fonttools>=4.22.0 in /Users/godpeny/Code/venv/laboratory/lib/python3.8/site-packages (from matplotlib) (4.43.0)\r\n",
      "Requirement already satisfied: contourpy>=1.0.1 in /Users/godpeny/Code/venv/laboratory/lib/python3.8/site-packages (from matplotlib) (1.1.1)\r\n",
      "Requirement already satisfied: pillow>=6.2.0 in /Users/godpeny/Code/venv/laboratory/lib/python3.8/site-packages (from matplotlib) (10.0.1)\r\n",
      "Requirement already satisfied: packaging>=20.0 in /Users/godpeny/Code/venv/laboratory/lib/python3.8/site-packages (from matplotlib) (23.1)\r\n",
      "Requirement already satisfied: python-dateutil>=2.7 in /Users/godpeny/Code/venv/laboratory/lib/python3.8/site-packages (from matplotlib) (2.8.2)\r\n",
      "Requirement already satisfied: zipp>=3.1.0 in /Users/godpeny/Code/venv/laboratory/lib/python3.8/site-packages (from importlib-resources>=3.2.0->matplotlib) (3.17.0)\r\n",
      "Requirement already satisfied: six>=1.5 in /Users/godpeny/Code/venv/laboratory/lib/python3.8/site-packages (from python-dateutil>=2.7->matplotlib) (1.16.0)\r\n",
      "\r\n",
      "\u001B[1m[\u001B[0m\u001B[34;49mnotice\u001B[0m\u001B[1;39;49m]\u001B[0m\u001B[39;49m A new release of pip available: \u001B[0m\u001B[31;49m22.3.1\u001B[0m\u001B[39;49m -> \u001B[0m\u001B[32;49m23.2.1\u001B[0m\r\n",
      "\u001B[1m[\u001B[0m\u001B[34;49mnotice\u001B[0m\u001B[1;39;49m]\u001B[0m\u001B[39;49m To update, run: \u001B[0m\u001B[32;49mpip install --upgrade pip\u001B[0m\r\n",
      "Note: you may need to restart the kernel to use updated packages.\n",
      "Requirement already satisfied: seaborn in /Users/godpeny/Code/venv/laboratory/lib/python3.8/site-packages (0.13.0)\r\n",
      "Requirement already satisfied: pandas>=1.2 in /Users/godpeny/Code/venv/laboratory/lib/python3.8/site-packages (from seaborn) (2.0.3)\r\n",
      "Requirement already satisfied: numpy!=1.24.0,>=1.20 in /Users/godpeny/Code/venv/laboratory/lib/python3.8/site-packages (from seaborn) (1.22.0)\r\n",
      "Requirement already satisfied: matplotlib!=3.6.1,>=3.3 in /Users/godpeny/Code/venv/laboratory/lib/python3.8/site-packages (from seaborn) (3.7.3)\r\n",
      "Requirement already satisfied: importlib-resources>=3.2.0 in /Users/godpeny/Code/venv/laboratory/lib/python3.8/site-packages (from matplotlib!=3.6.1,>=3.3->seaborn) (6.1.0)\r\n",
      "Requirement already satisfied: pyparsing>=2.3.1 in /Users/godpeny/Code/venv/laboratory/lib/python3.8/site-packages (from matplotlib!=3.6.1,>=3.3->seaborn) (3.1.1)\r\n",
      "Requirement already satisfied: cycler>=0.10 in /Users/godpeny/Code/venv/laboratory/lib/python3.8/site-packages (from matplotlib!=3.6.1,>=3.3->seaborn) (0.12.0)\r\n",
      "Requirement already satisfied: packaging>=20.0 in /Users/godpeny/Code/venv/laboratory/lib/python3.8/site-packages (from matplotlib!=3.6.1,>=3.3->seaborn) (23.1)\r\n",
      "Requirement already satisfied: kiwisolver>=1.0.1 in /Users/godpeny/Code/venv/laboratory/lib/python3.8/site-packages (from matplotlib!=3.6.1,>=3.3->seaborn) (1.4.5)\r\n",
      "Requirement already satisfied: python-dateutil>=2.7 in /Users/godpeny/Code/venv/laboratory/lib/python3.8/site-packages (from matplotlib!=3.6.1,>=3.3->seaborn) (2.8.2)\r\n",
      "Requirement already satisfied: fonttools>=4.22.0 in /Users/godpeny/Code/venv/laboratory/lib/python3.8/site-packages (from matplotlib!=3.6.1,>=3.3->seaborn) (4.43.0)\r\n",
      "Requirement already satisfied: contourpy>=1.0.1 in /Users/godpeny/Code/venv/laboratory/lib/python3.8/site-packages (from matplotlib!=3.6.1,>=3.3->seaborn) (1.1.1)\r\n",
      "Requirement already satisfied: pillow>=6.2.0 in /Users/godpeny/Code/venv/laboratory/lib/python3.8/site-packages (from matplotlib!=3.6.1,>=3.3->seaborn) (10.0.1)\r\n",
      "Requirement already satisfied: pytz>=2020.1 in /Users/godpeny/Code/venv/laboratory/lib/python3.8/site-packages (from pandas>=1.2->seaborn) (2023.3.post1)\r\n",
      "Requirement already satisfied: tzdata>=2022.1 in /Users/godpeny/Code/venv/laboratory/lib/python3.8/site-packages (from pandas>=1.2->seaborn) (2023.3)\r\n",
      "Requirement already satisfied: zipp>=3.1.0 in /Users/godpeny/Code/venv/laboratory/lib/python3.8/site-packages (from importlib-resources>=3.2.0->matplotlib!=3.6.1,>=3.3->seaborn) (3.17.0)\r\n",
      "Requirement already satisfied: six>=1.5 in /Users/godpeny/Code/venv/laboratory/lib/python3.8/site-packages (from python-dateutil>=2.7->matplotlib!=3.6.1,>=3.3->seaborn) (1.16.0)\r\n",
      "\r\n",
      "\u001B[1m[\u001B[0m\u001B[34;49mnotice\u001B[0m\u001B[1;39;49m]\u001B[0m\u001B[39;49m A new release of pip available: \u001B[0m\u001B[31;49m22.3.1\u001B[0m\u001B[39;49m -> \u001B[0m\u001B[32;49m23.2.1\u001B[0m\r\n",
      "\u001B[1m[\u001B[0m\u001B[34;49mnotice\u001B[0m\u001B[1;39;49m]\u001B[0m\u001B[39;49m To update, run: \u001B[0m\u001B[32;49mpip install --upgrade pip\u001B[0m\r\n",
      "Note: you may need to restart the kernel to use updated packages.\n"
     ]
    }
   ],
   "source": [
    "# install\n",
    "%pip install pandas\n",
    "%pip install numpy\n",
    "%pip install tensorflow\n",
    "%pip install scikit-learn\n",
    "%pip install matplotlib\n",
    "%pip install seaborn"
   ]
  },
  {
   "cell_type": "code",
   "execution_count": 12,
   "outputs": [],
   "source": [
    "# import\n",
    "from matplotlib import pyplot as plt\n",
    "from sklearn.model_selection import train_test_split, cross_val_score, StratifiedKFold\n",
    "from sklearn.preprocessing import StandardScaler\n",
    "\n",
    "import pandas as pd\n",
    "import numpy as np\n",
    "import matplotlib.pyplot as plt"
   ],
   "metadata": {
    "collapsed": false,
    "ExecuteTime": {
     "end_time": "2023-09-30T13:03:14.665483Z",
     "start_time": "2023-09-30T13:03:14.662753Z"
    }
   },
   "id": "f4edb127e917df56"
  },
  {
   "cell_type": "code",
   "execution_count": 2,
   "outputs": [
    {
     "data": {
      "text/plain": "   pregnant  plasma  pressure  thickness  insulin   bmi  pedigree  age  \\\n0         6     148        72         35        0  33.6     0.627   50   \n1         1      85        66         29        0  26.6     0.351   31   \n2         8     183        64          0        0  23.3     0.672   32   \n\n   diabetes  \n0         1  \n1         0  \n2         1  ",
      "text/html": "<div>\n<style scoped>\n    .dataframe tbody tr th:only-of-type {\n        vertical-align: middle;\n    }\n\n    .dataframe tbody tr th {\n        vertical-align: top;\n    }\n\n    .dataframe thead th {\n        text-align: right;\n    }\n</style>\n<table border=\"1\" class=\"dataframe\">\n  <thead>\n    <tr style=\"text-align: right;\">\n      <th></th>\n      <th>pregnant</th>\n      <th>plasma</th>\n      <th>pressure</th>\n      <th>thickness</th>\n      <th>insulin</th>\n      <th>bmi</th>\n      <th>pedigree</th>\n      <th>age</th>\n      <th>diabetes</th>\n    </tr>\n  </thead>\n  <tbody>\n    <tr>\n      <th>0</th>\n      <td>6</td>\n      <td>148</td>\n      <td>72</td>\n      <td>35</td>\n      <td>0</td>\n      <td>33.6</td>\n      <td>0.627</td>\n      <td>50</td>\n      <td>1</td>\n    </tr>\n    <tr>\n      <th>1</th>\n      <td>1</td>\n      <td>85</td>\n      <td>66</td>\n      <td>29</td>\n      <td>0</td>\n      <td>26.6</td>\n      <td>0.351</td>\n      <td>31</td>\n      <td>0</td>\n    </tr>\n    <tr>\n      <th>2</th>\n      <td>8</td>\n      <td>183</td>\n      <td>64</td>\n      <td>0</td>\n      <td>0</td>\n      <td>23.3</td>\n      <td>0.672</td>\n      <td>32</td>\n      <td>1</td>\n    </tr>\n  </tbody>\n</table>\n</div>"
     },
     "execution_count": 2,
     "metadata": {},
     "output_type": "execute_result"
    }
   ],
   "source": [
    "\"\"\"\n",
    "load data sets\n",
    "\"\"\"\n",
    "df = pd.read_csv('./data/pima-indians-diabetes3.csv')\n",
    "df.head(3)"
   ],
   "metadata": {
    "collapsed": false,
    "ExecuteTime": {
     "end_time": "2023-09-30T12:55:42.866359Z",
     "start_time": "2023-09-30T12:55:42.848427Z"
    }
   },
   "id": "f9c3dbad922151e6"
  },
  {
   "cell_type": "code",
   "execution_count": 3,
   "outputs": [
    {
     "name": "stdout",
     "output_type": "stream",
     "text": [
      "   pregnant    plasma  pressure  thickness   insulin       bmi  pedigree  \\\n",
      "0  0.639947  0.848324  0.149641   0.907270 -0.692891  0.204013  0.468492   \n",
      "1 -0.844885 -1.123396 -0.160546   0.530902 -0.692891 -0.684422 -0.365061   \n",
      "2  1.233880  1.943724 -0.263941  -1.288212 -0.692891 -1.103255  0.604397   \n",
      "\n",
      "        age  \n",
      "0  1.425995  \n",
      "1 -0.190672  \n",
      "2 -0.105584  \n"
     ]
    }
   ],
   "source": [
    "\"\"\"\n",
    "preprocessing\n",
    "\"\"\"\n",
    "# 1.split data sets into X and y\n",
    "X = df.iloc[:, 0:8]\n",
    "y = df.iloc[:, 8]\n",
    "\n",
    "# 2.scale X\n",
    "ss = StandardScaler() # data scaling method to make the data zero mean and unit variance\n",
    "X_std = pd.DataFrame(ss.fit_transform(X), columns=X.columns) \n",
    "print(X_std.head(3))\n",
    "\n",
    "# 3.split scaled X and y into train and test\n",
    "X_train, X_test, y_train, y_test = train_test_split(X_std, y, test_size=0.25, random_state=0)"
   ],
   "metadata": {
    "collapsed": false,
    "ExecuteTime": {
     "end_time": "2023-09-30T12:55:43.703724Z",
     "start_time": "2023-09-30T12:55:43.696470Z"
    }
   },
   "id": "96078805c5ce51c6"
  },
  {
   "cell_type": "code",
   "execution_count": 4,
   "outputs": [
    {
     "data": {
      "text/plain": "<Figure size 1200x400 with 2 Axes>",
      "image/png": "[encoded data removed]"
     },
     "metadata": {},
     "output_type": "display_data"
    }
   ],
   "source": [
    "# show the distribution of the data in graph\n",
    "fig, ax = plt.subplots(1, 2, figsize=(12, 4))\n",
    "X.plot(kind='kde', title='Raw Data', ax=ax[0])\n",
    "X_std.plot(kind='kde', title='Standardized Data', ax=ax[1])\n",
    "plt.show()"
   ],
   "metadata": {
    "collapsed": false,
    "ExecuteTime": {
     "end_time": "2023-09-30T12:55:45.016593Z",
     "start_time": "2023-09-30T12:55:44.550839Z"
    }
   },
   "id": "a95d2c232c285278"
  },
  {
   "cell_type": "code",
   "execution_count": 5,
   "outputs": [],
   "source": [
    "def evaluation(classifier, X_std, y):\n",
    "    \"\"\"    \n",
    "    :param classifier: \n",
    "    :param X_std: \n",
    "    :param y: \n",
    "    \"\"\"\n",
    "    skf = StratifiedKFold(n_splits=10, shuffle=True)\n",
    "    acc = cross_val_score(classifier, X_std, y, cv=skf)\n",
    "\n",
    "    print('Accuracy: {:.2f}%'.format(acc.mean()*100))\n",
    "    print('Standard Deviation: {:.2f}%'.format(acc.std()*100))"
   ],
   "metadata": {
    "collapsed": false,
    "ExecuteTime": {
     "end_time": "2023-09-30T12:55:48.620184Z",
     "start_time": "2023-09-30T12:55:48.617246Z"
    }
   },
   "id": "e094c232572958b3"
  },
  {
   "cell_type": "code",
   "execution_count": 6,
   "outputs": [
    {
     "name": "stdout",
     "output_type": "stream",
     "text": [
      "Accuracy: 69.78%\n",
      "Standard Deviation: 3.75%\n"
     ]
    }
   ],
   "source": [
    "\"\"\"\n",
    "#1. decision tree\n",
    "\"\"\"\n",
    "from sklearn.tree import DecisionTreeClassifier\n",
    "\n",
    "classifier = DecisionTreeClassifier()\n",
    "classifier.fit(X_train, y_train)\n",
    "\n",
    "predict = classifier.predict(X_test)\n",
    "\n",
    "# show evaluation\n",
    "evaluation(classifier, X_std, y)"
   ],
   "metadata": {
    "collapsed": false,
    "ExecuteTime": {
     "end_time": "2023-09-30T12:51:49.907366Z",
     "start_time": "2023-09-30T12:51:49.858685Z"
    }
   },
   "id": "d41fdfeb47a0a067"
  },
  {
   "cell_type": "markdown",
   "source": [
    "# StratifiedKFold vs KFold\n",
    "https://stackoverflow.com/questions/65318931/stratifiedkfold-vs-kfold-in-scikit-learn#:~:text=You%20need%20to%20know%20what,observations%20with%20a%20given%20label.\n",
    "\n",
    "학습셋을 K번마다 K개의 셋으로 나눠서 train 및 validation과정을 거치는 것을 KFold 교차검증이라고 한다.\n",
    "하지만, 이 경우에는 train, validation 셋을 나누는 과정이 랜덤하게 나눠지므로\n",
    "데이터가 imbalance한 경우에는 train, validation셋의 label의 비율이 어긋나게된다.\n",
    "극단적으로 training set이 참인 label이 1000개 거짓인 label이 10개있다고 치자.\n",
    "그럼 확률적으로 나누는 KFold를 사용한다면, K등분했을때 거짓인 label이 validation 셋에 1개도 없을 수 있다.\n",
    "그러면 당연히 제대로된 검증이 되지 않으므로\n",
    "Stratified Kfold를 사용한다.\n",
    "번역하면 계층화된 KFold라는 뜻이다.\n",
    "Straitified KFold를 사용하면 imbalance한 training set에서 비율에 맞게 train, validation 셋을 나눌수 있다.\n"
   ],
   "metadata": {
    "collapsed": false
   },
   "id": "51737cd83d8a85d6"
  },
  {
   "cell_type": "code",
   "execution_count": 6,
   "outputs": [
    {
     "name": "stdout",
     "output_type": "stream",
     "text": [
      "Accuracy: 75.38%\n",
      "Standard Deviation: 5.53%\n"
     ]
    }
   ],
   "source": [
    "\"\"\"\n",
    "#2. random forest\n",
    "\"\"\"\n",
    "from sklearn.ensemble import RandomForestClassifier\n",
    "\n",
    "classifier = RandomForestClassifier(n_estimators=50)  # n_estimators: the number of trees in the forest\n",
    "classifier.fit(X_train, y_train)\n",
    "\n",
    "predict = classifier.predict(X_test)\n",
    "\n",
    "evaluation(classifier, X_std, y)"
   ],
   "metadata": {
    "collapsed": false,
    "ExecuteTime": {
     "end_time": "2023-09-30T12:55:51.213073Z",
     "start_time": "2023-09-30T12:55:50.690414Z"
    }
   },
   "id": "3dee019afc7e2cf5"
  },
  {
   "cell_type": "code",
   "execution_count": 8,
   "outputs": [
    {
     "name": "stdout",
     "output_type": "stream",
     "text": [
      "Accuracy: 75.66%\n",
      "Standard Deviation: 3.60%\n"
     ]
    }
   ],
   "source": [
    "\"\"\"\n",
    "#3. gausian naive bayes\n",
    "\"\"\"\n",
    "from sklearn.naive_bayes import GaussianNB\n",
    "\n",
    "classifier = GaussianNB()\n",
    "classifier.fit(X_train, y_train)\n",
    "\n",
    "predict = classifier.predict(X_test)\n",
    "\n",
    "evaluation(classifier, X_std, y)"
   ],
   "metadata": {
    "collapsed": false,
    "ExecuteTime": {
     "end_time": "2023-09-30T12:57:24.753432Z",
     "start_time": "2023-09-30T12:57:24.731430Z"
    }
   },
   "id": "5bc8c94cee535ce0"
  },
  {
   "cell_type": "code",
   "execution_count": 10,
   "outputs": [
    {
     "name": "stdout",
     "output_type": "stream",
     "text": [
      "Accuracy: 73.97%\n",
      "Standard Deviation: 5.23%\n"
     ]
    }
   ],
   "source": [
    "\"\"\"\n",
    "#4. k-nearest neighbors\n",
    "\"\"\"\n",
    "from sklearn.neighbors import KNeighborsClassifier\n",
    "\n",
    "classifier = KNeighborsClassifier(n_neighbors=5) # n_neighbors: the number of neighbors to use\n",
    "classifier.fit(X_train, y_train)\n",
    "\n",
    "predict = classifier.predict(X_test)\n",
    "\n",
    "evaluation(classifier, X_std, y)"
   ],
   "metadata": {
    "collapsed": false,
    "ExecuteTime": {
     "end_time": "2023-09-30T12:59:14.031977Z",
     "start_time": "2023-09-30T12:59:13.989655Z"
    }
   },
   "id": "20d060ae990bab1a"
  },
  {
   "cell_type": "code",
   "execution_count": 13,
   "outputs": [
    {
     "name": "stdout",
     "output_type": "stream",
     "text": [
      "Accuracy: 74.75%\n",
      "Standard Deviation: 3.65%\n"
     ]
    }
   ],
   "source": [
    "\"\"\"\n",
    "#5. ada boost\n",
    "\"\"\"\n",
    "from sklearn.ensemble import AdaBoostClassifier\n",
    "\n",
    "classifier = AdaBoostClassifier(n_estimators=50) # n_estimators: the maximum number of estimators at which boosting is terminated\n",
    "classifier.fit(X_train, y_train)\n",
    "\n",
    "predict = classifier.predict(X_test)\n",
    "\n",
    "evaluation(classifier, X_std, y)"
   ],
   "metadata": {
    "collapsed": false,
    "ExecuteTime": {
     "end_time": "2023-09-30T13:03:19.150270Z",
     "start_time": "2023-09-30T13:03:18.629987Z"
    }
   },
   "id": "c38dc1796ac64c91"
  },
  {
   "cell_type": "code",
   "execution_count": 14,
   "outputs": [
    {
     "name": "stdout",
     "output_type": "stream",
     "text": [
      "Accuracy: 73.96%\n",
      "Standard Deviation: 3.70%\n"
     ]
    }
   ],
   "source": [
    "\"\"\"\n",
    "#6. quadratic discriminant analysis\n",
    "\"\"\"\n",
    "from sklearn.discriminant_analysis import QuadraticDiscriminantAnalysis\n",
    "\n",
    "classifier = QuadraticDiscriminantAnalysis()\n",
    "classifier.fit(X_train, y_train)\n",
    "\n",
    "predict = classifier.predict(X_test)\n",
    "\n",
    "evaluation(classifier, X_std, y)"
   ],
   "metadata": {
    "collapsed": false,
    "ExecuteTime": {
     "end_time": "2023-09-30T13:06:21.235261Z",
     "start_time": "2023-09-30T13:06:21.209330Z"
    }
   },
   "id": "3e15a656d019a71b"
  },
  {
   "cell_type": "code",
   "execution_count": 15,
   "outputs": [
    {
     "name": "stdout",
     "output_type": "stream",
     "text": [
      "Accuracy: 76.95%\n",
      "Standard Deviation: 3.02%\n"
     ]
    }
   ],
   "source": [
    "\"\"\"\n",
    "#7. support vector machine\n",
    "\"\"\"\n",
    "from sklearn.svm import SVC\n",
    "\n",
    "classifier = SVC(kernel='linear') # kernel: Specifies the kernel type to be used in the algorithm\n",
    "classifier.fit(X_train, y_train)\n",
    "\n",
    "predict = classifier.predict(X_test)\n",
    "\n",
    "evaluation(classifier, X_std, y)"
   ],
   "metadata": {
    "collapsed": false,
    "ExecuteTime": {
     "end_time": "2023-09-30T13:09:15.663986Z",
     "start_time": "2023-09-30T13:09:15.574618Z"
    }
   },
   "id": "a1528909775430f3"
  },
  {
   "cell_type": "code",
   "execution_count": 16,
   "outputs": [
    {
     "name": "stdout",
     "output_type": "stream",
     "text": [
      "Accuracy: 76.83%\n",
      "Standard Deviation: 4.51%\n"
     ]
    }
   ],
   "source": [
    "\"\"\"\n",
    "#8. support vector machine with rbf kernel\n",
    "\"\"\"\n",
    "from sklearn.svm import SVC\n",
    "\n",
    "classifier = SVC(kernel='rbf') # kernel: Specifies the kernel type to be used in the algorithm\n",
    "classifier.fit(X_train, y_train)\n",
    "\n",
    "predict = classifier.predict(X_test)\n",
    "\n",
    "evaluation(classifier, X_std, y)"
   ],
   "metadata": {
    "collapsed": false,
    "ExecuteTime": {
     "end_time": "2023-09-30T13:10:22.619691Z",
     "start_time": "2023-09-30T13:10:22.533842Z"
    }
   },
   "id": "2734d3bc49e037fe"
  },
  {
   "cell_type": "code",
   "execution_count": 17,
   "outputs": [
    {
     "name": "stdout",
     "output_type": "stream",
     "text": [
      "Accuracy: 76.43%\n",
      "Standard Deviation: 4.71%\n"
     ]
    }
   ],
   "source": [
    "\"\"\"\n",
    "#9. voting\n",
    "\"\"\"\n",
    "from sklearn.ensemble import AdaBoostClassifier\n",
    "from sklearn.discriminant_analysis import QuadraticDiscriminantAnalysis\n",
    "from sklearn.svm import SVC\n",
    "from sklearn.ensemble import VotingClassifier\n",
    "\n",
    "clf1 = AdaBoostClassifier(n_estimators=50)\n",
    "clf2 = QuadraticDiscriminantAnalysis()\n",
    "clf3 = SVC(kernel='linear')\n",
    "\n",
    "classifier = VotingClassifier(estimators=[('ab', clf1), ('qda', clf2), ('svc', clf3)])\n",
    "classifier.fit(X_train, y_train)\n",
    "\n",
    "predict = classifier.predict(X_test)\n",
    "\n",
    "evaluation(classifier, X_std, y)"
   ],
   "metadata": {
    "collapsed": false,
    "ExecuteTime": {
     "end_time": "2023-09-30T13:12:31.706015Z",
     "start_time": "2023-09-30T13:12:31.079233Z"
    }
   },
   "id": "3156df8609ddd9a8"
  },
  {
   "cell_type": "code",
   "execution_count": 18,
   "outputs": [
    {
     "name": "stderr",
     "output_type": "stream",
     "text": [
      "/Users/godpeny/Code/venv/laboratory/lib/python3.8/site-packages/sklearn/ensemble/_base.py:156: FutureWarning: `base_estimator` was renamed to `estimator` in version 1.2 and will be removed in 1.4.\n",
      "  warnings.warn(\n",
      "/Users/godpeny/Code/venv/laboratory/lib/python3.8/site-packages/sklearn/ensemble/_base.py:156: FutureWarning: `base_estimator` was renamed to `estimator` in version 1.2 and will be removed in 1.4.\n",
      "  warnings.warn(\n",
      "/Users/godpeny/Code/venv/laboratory/lib/python3.8/site-packages/sklearn/ensemble/_base.py:156: FutureWarning: `base_estimator` was renamed to `estimator` in version 1.2 and will be removed in 1.4.\n",
      "  warnings.warn(\n",
      "/Users/godpeny/Code/venv/laboratory/lib/python3.8/site-packages/sklearn/ensemble/_base.py:156: FutureWarning: `base_estimator` was renamed to `estimator` in version 1.2 and will be removed in 1.4.\n",
      "  warnings.warn(\n",
      "/Users/godpeny/Code/venv/laboratory/lib/python3.8/site-packages/sklearn/ensemble/_base.py:156: FutureWarning: `base_estimator` was renamed to `estimator` in version 1.2 and will be removed in 1.4.\n",
      "  warnings.warn(\n",
      "/Users/godpeny/Code/venv/laboratory/lib/python3.8/site-packages/sklearn/ensemble/_base.py:156: FutureWarning: `base_estimator` was renamed to `estimator` in version 1.2 and will be removed in 1.4.\n",
      "  warnings.warn(\n",
      "/Users/godpeny/Code/venv/laboratory/lib/python3.8/site-packages/sklearn/ensemble/_base.py:156: FutureWarning: `base_estimator` was renamed to `estimator` in version 1.2 and will be removed in 1.4.\n",
      "  warnings.warn(\n",
      "/Users/godpeny/Code/venv/laboratory/lib/python3.8/site-packages/sklearn/ensemble/_base.py:156: FutureWarning: `base_estimator` was renamed to `estimator` in version 1.2 and will be removed in 1.4.\n",
      "  warnings.warn(\n",
      "/Users/godpeny/Code/venv/laboratory/lib/python3.8/site-packages/sklearn/ensemble/_base.py:156: FutureWarning: `base_estimator` was renamed to `estimator` in version 1.2 and will be removed in 1.4.\n",
      "  warnings.warn(\n",
      "/Users/godpeny/Code/venv/laboratory/lib/python3.8/site-packages/sklearn/ensemble/_base.py:156: FutureWarning: `base_estimator` was renamed to `estimator` in version 1.2 and will be removed in 1.4.\n",
      "  warnings.warn(\n",
      "/Users/godpeny/Code/venv/laboratory/lib/python3.8/site-packages/sklearn/ensemble/_base.py:156: FutureWarning: `base_estimator` was renamed to `estimator` in version 1.2 and will be removed in 1.4.\n",
      "  warnings.warn(\n"
     ]
    },
    {
     "name": "stdout",
     "output_type": "stream",
     "text": [
      "Accuracy: 76.16%\n",
      "Standard Deviation: 3.99%\n"
     ]
    }
   ],
   "source": [
    "\"\"\"\n",
    "#10. bagging\n",
    "\"\"\"\n",
    "from sklearn.svm import SVC\n",
    "from sklearn.ensemble import BaggingClassifier\n",
    "\n",
    "classifier = BaggingClassifier(base_estimator=SVC(kernel='rbf'),n_estimators=100) # n_estimators: the number of base estimators in the ensemble\n",
    "classifier.fit(X_train, y_train)\n",
    "\n",
    "predict = classifier.predict(X_test)\n",
    "\n",
    "evaluation(classifier, X_std, y)"
   ],
   "metadata": {
    "collapsed": false,
    "ExecuteTime": {
     "end_time": "2023-09-30T13:15:15.529813Z",
     "start_time": "2023-09-30T13:15:11.775126Z"
    }
   },
   "id": "1ece25656a9b724f"
  },
  {
   "cell_type": "code",
   "execution_count": null,
   "outputs": [],
   "source": [],
   "metadata": {
    "collapsed": false
   },
   "id": "f4d835158a8719b7"
  }
 ],
 "metadata": {
  "kernelspec": {
   "display_name": "Python 3",
   "language": "python",
   "name": "python3"
  },
  "language_info": {
   "codemirror_mode": {
    "name": "ipython",
    "version": 2
   },
   "file_extension": ".py",
   "mimetype": "text/x-python",
   "name": "python",
   "nbconvert_exporter": "python",
   "pygments_lexer": "ipython2",
   "version": "2.7.6"
  }
 },
 "nbformat": 4,
 "nbformat_minor": 5
}
