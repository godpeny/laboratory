{
  "nbformat": 4,
  "nbformat_minor": 0,
  "metadata": {
    "colab": {
      "provenance": [],
      "authorship_tag": "ABX9TyPu1kXkpsMxUgIYA6MpkS28",
      "include_colab_link": true
    },
    "kernelspec": {
      "name": "python3",
      "display_name": "Python 3"
    },
    "language_info": {
      "name": "python"
    }
  },
  "cells": [
    {
      "cell_type": "markdown",
      "metadata": {
        "id": "view-in-github",
        "colab_type": "text"
      },
      "source": [
        "<a href=\"https://colab.research.google.com/github/godpeny/laboratory/blob/master/Study/Deep_Learning_for_Everyone/Chatper_4/mean_square_error(mse).ipynb\" target=\"_parent\"><img src=\"https://colab.research.google.com/assets/colab-badge.svg\" alt=\"Open In Colab\"/></a>"
      ]
    },
    {
      "cell_type": "code",
      "execution_count": 1,
      "metadata": {
        "colab": {
          "base_uri": "https://localhost:8080/"
        },
        "id": "kmo9tFvAV7Ov",
        "outputId": "39b02699-4a9f-4d39-bd17-5939345cf033"
      },
      "outputs": [
        {
          "output_type": "stream",
          "name": "stdout",
          "text": [
            "Requirement already satisfied: numpy in /usr/local/lib/python3.10/dist-packages (1.23.5)\n"
          ]
        }
      ],
      "source": [
        "%pip install numpy"
      ]
    },
    {
      "cell_type": "code",
      "source": [
        "# import\n",
        "import numpy as np\n",
        "import random"
      ],
      "metadata": {
        "id": "qeYAtAoMYMe4"
      },
      "execution_count": 4,
      "outputs": []
    },
    {
      "cell_type": "code",
      "source": [
        "x = np.array([2,4,6,8])\n",
        "y = np.array([81,93,91,97])\n",
        "\n",
        "fake_a = random.randint(1,10) # 임의의 기울기\n",
        "fake_b = random.randint(1,100) # 임의의 절편\n",
        "\n",
        "print(fake_a)\n",
        "print(fake_b)"
      ],
      "metadata": {
        "colab": {
          "base_uri": "https://localhost:8080/"
        },
        "id": "KBrj3pQMZR2_",
        "outputId": "802d6f93-c728-4319-f3e5-bf5f6da9f73a"
      },
      "execution_count": 7,
      "outputs": [
        {
          "output_type": "stream",
          "name": "stdout",
          "text": [
            "5\n",
            "97\n"
          ]
        }
      ]
    },
    {
      "cell_type": "code",
      "source": [
        "predict_y = [] # predict_y = fake_aX + fake_b\n",
        "\n",
        "for i in range(len(x)):\n",
        "  predict_y.append((fake_a * x[i]) + fake_b)\n",
        "\n",
        "print(predict_y)"
      ],
      "metadata": {
        "colab": {
          "base_uri": "https://localhost:8080/"
        },
        "id": "sQlFgayBbcis",
        "outputId": "d09adb59-215e-4218-be4c-e9f6fbf19168"
      },
      "execution_count": 10,
      "outputs": [
        {
          "output_type": "stream",
          "name": "stdout",
          "text": [
            "[107, 117, 127, 137]\n"
          ]
        }
      ]
    },
    {
      "cell_type": "code",
      "source": [
        "mse = (sum(pow((y - predict_y),2)) / len(predict_y)) # (predict_y - y)^2/n\n",
        "\n",
        "print(mse)"
      ],
      "metadata": {
        "colab": {
          "base_uri": "https://localhost:8080/"
        },
        "id": "5BM13urxcuPx",
        "outputId": "627cbb91-acbb-403f-d06b-6f3847c9d851"
      },
      "execution_count": 11,
      "outputs": [
        {
          "output_type": "stream",
          "name": "stdout",
          "text": [
            "1037.0\n"
          ]
        }
      ]
    }
  ]
}